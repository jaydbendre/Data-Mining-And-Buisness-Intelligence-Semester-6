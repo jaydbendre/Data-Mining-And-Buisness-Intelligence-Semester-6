{
 "nbformat": 4,
 "nbformat_minor": 2,
 "metadata": {
  "language_info": {
   "name": "python",
   "codemirror_mode": {
    "name": "ipython",
    "version": 3
   },
   "version": "3.7.4-final"
  },
  "orig_nbformat": 2,
  "file_extension": ".py",
  "mimetype": "text/x-python",
  "name": "python",
  "npconvert_exporter": "python",
  "pygments_lexer": "ipython3",
  "version": 3,
  "kernelspec": {
   "name": "python3",
   "display_name": "Python 3"
  }
 },
 "cells": [
  {
   "cell_type": "code",
   "execution_count": 2,
   "metadata": {},
   "outputs": [],
   "source": [
    "import os\n",
    "import pandas as pd\n",
    "import numpy as np\n",
    "import random"
   ]
  },
  {
   "cell_type": "code",
   "execution_count": 32,
   "metadata": {},
   "outputs": [
    {
     "data": {
      "text/html": "<div>\n<style scoped>\n    .dataframe tbody tr th:only-of-type {\n        vertical-align: middle;\n    }\n\n    .dataframe tbody tr th {\n        vertical-align: top;\n    }\n\n    .dataframe thead th {\n        text-align: right;\n    }\n</style>\n<table border=\"1\" class=\"dataframe\">\n  <thead>\n    <tr style=\"text-align: right;\">\n      <th></th>\n      <th>id</th>\n      <th>week</th>\n      <th>center_id</th>\n      <th>meal_id</th>\n      <th>checkout_price</th>\n      <th>base_price</th>\n      <th>emailer_for_promotion</th>\n      <th>homepage_featured</th>\n      <th>num_orders</th>\n      <th>category</th>\n      <th>cuisine</th>\n    </tr>\n  </thead>\n  <tbody>\n    <tr>\n      <td>0</td>\n      <td>1048081</td>\n      <td>1</td>\n      <td>93</td>\n      <td>1754</td>\n      <td>281.33</td>\n      <td>280.33</td>\n      <td>0</td>\n      <td>0</td>\n      <td>418</td>\n      <td>NaN</td>\n      <td>NaN</td>\n    </tr>\n    <tr>\n      <td>1</td>\n      <td>1125724</td>\n      <td>1</td>\n      <td>106</td>\n      <td>1230</td>\n      <td>320.16</td>\n      <td>382.24</td>\n      <td>0</td>\n      <td>1</td>\n      <td>514</td>\n      <td>NaN</td>\n      <td>NaN</td>\n    </tr>\n    <tr>\n      <td>2</td>\n      <td>1176296</td>\n      <td>2</td>\n      <td>11</td>\n      <td>1971</td>\n      <td>260.96</td>\n      <td>328.86</td>\n      <td>1</td>\n      <td>0</td>\n      <td>877</td>\n      <td>NaN</td>\n      <td>NaN</td>\n    </tr>\n    <tr>\n      <td>3</td>\n      <td>1148221</td>\n      <td>2</td>\n      <td>157</td>\n      <td>2306</td>\n      <td>252.26</td>\n      <td>250.26</td>\n      <td>0</td>\n      <td>0</td>\n      <td>161</td>\n      <td>NaN</td>\n      <td>NaN</td>\n    </tr>\n    <tr>\n      <td>4</td>\n      <td>1445141</td>\n      <td>2</td>\n      <td>59</td>\n      <td>2290</td>\n      <td>306.58</td>\n      <td>306.58</td>\n      <td>0</td>\n      <td>0</td>\n      <td>405</td>\n      <td>NaN</td>\n      <td>NaN</td>\n    </tr>\n    <tr>\n      <td>...</td>\n      <td>...</td>\n      <td>...</td>\n      <td>...</td>\n      <td>...</td>\n      <td>...</td>\n      <td>...</td>\n      <td>...</td>\n      <td>...</td>\n      <td>...</td>\n      <td>...</td>\n      <td>...</td>\n    </tr>\n    <tr>\n      <td>443</td>\n      <td>1104243</td>\n      <td>145</td>\n      <td>50</td>\n      <td>1971</td>\n      <td>325.95</td>\n      <td>324.95</td>\n      <td>0</td>\n      <td>0</td>\n      <td>189</td>\n      <td>NaN</td>\n      <td>NaN</td>\n    </tr>\n    <tr>\n      <td>444</td>\n      <td>1126867</td>\n      <td>145</td>\n      <td>53</td>\n      <td>2760</td>\n      <td>161.99</td>\n      <td>243.53</td>\n      <td>0</td>\n      <td>1</td>\n      <td>202</td>\n      <td>NaN</td>\n      <td>NaN</td>\n    </tr>\n    <tr>\n      <td>445</td>\n      <td>1442669</td>\n      <td>145</td>\n      <td>67</td>\n      <td>1571</td>\n      <td>641.23</td>\n      <td>641.23</td>\n      <td>0</td>\n      <td>0</td>\n      <td>107</td>\n      <td>NaN</td>\n      <td>NaN</td>\n    </tr>\n    <tr>\n      <td>446</td>\n      <td>1280830</td>\n      <td>145</td>\n      <td>23</td>\n      <td>1902</td>\n      <td>447.23</td>\n      <td>445.23</td>\n      <td>0</td>\n      <td>0</td>\n      <td>26</td>\n      <td>NaN</td>\n      <td>NaN</td>\n    </tr>\n    <tr>\n      <td>447</td>\n      <td>1130276</td>\n      <td>145</td>\n      <td>51</td>\n      <td>1971</td>\n      <td>345.35</td>\n      <td>346.35</td>\n      <td>0</td>\n      <td>0</td>\n      <td>271</td>\n      <td>NaN</td>\n      <td>NaN</td>\n    </tr>\n  </tbody>\n</table>\n<p>448 rows × 11 columns</p>\n</div>",
      "text/plain": "          id  week  center_id  meal_id  checkout_price  base_price  \\\n0    1048081     1         93     1754          281.33      280.33   \n1    1125724     1        106     1230          320.16      382.24   \n2    1176296     2         11     1971          260.96      328.86   \n3    1148221     2        157     2306          252.26      250.26   \n4    1445141     2         59     2290          306.58      306.58   \n..       ...   ...        ...      ...             ...         ...   \n443  1104243   145         50     1971          325.95      324.95   \n444  1126867   145         53     2760          161.99      243.53   \n445  1442669   145         67     1571          641.23      641.23   \n446  1280830   145         23     1902          447.23      445.23   \n447  1130276   145         51     1971          345.35      346.35   \n\n     emailer_for_promotion  homepage_featured  num_orders  category  cuisine  \n0                        0                  0         418       NaN      NaN  \n1                        0                  1         514       NaN      NaN  \n2                        1                  0         877       NaN      NaN  \n3                        0                  0         161       NaN      NaN  \n4                        0                  0         405       NaN      NaN  \n..                     ...                ...         ...       ...      ...  \n443                      0                  0         189       NaN      NaN  \n444                      0                  1         202       NaN      NaN  \n445                      0                  0         107       NaN      NaN  \n446                      0                  0          26       NaN      NaN  \n447                      0                  0         271       NaN      NaN  \n\n[448 rows x 11 columns]"
     },
     "execution_count": 32,
     "metadata": {},
     "output_type": "execute_result"
    }
   ],
   "source": [
    "train_dataset = pd.DataFrame(pd.read_csv(\"Datasets/train/train.csv\",skiprows=lambda i: i > 0 and random.random() > 0.001))\n",
    "meal_dataset = pd.DataFrame(pd.read_csv(\"Datasets/train/meal_info.csv\"))\n",
    "center_dataset = pd.DataFrame(pd.read_csv(\"Datasets/train/fulfilment_center_info.csv\"))\n",
    "train_dataset[\"category\"]=np.nan\n",
    "train_dataset[\"cuisine\"]=np.nan\n",
    "train_dataset"
   ]
  },
  {
   "cell_type": "code",
   "execution_count": 33,
   "metadata": {},
   "outputs": [
    {
     "data": {
      "text/html": "<div>\n<style scoped>\n    .dataframe tbody tr th:only-of-type {\n        vertical-align: middle;\n    }\n\n    .dataframe tbody tr th {\n        vertical-align: top;\n    }\n\n    .dataframe thead th {\n        text-align: right;\n    }\n</style>\n<table border=\"1\" class=\"dataframe\">\n  <thead>\n    <tr style=\"text-align: right;\">\n      <th></th>\n      <th>id</th>\n      <th>week</th>\n      <th>center_id</th>\n      <th>meal_id</th>\n      <th>checkout_price</th>\n      <th>base_price</th>\n      <th>emailer_for_promotion</th>\n      <th>homepage_featured</th>\n      <th>num_orders</th>\n      <th>category</th>\n      <th>cuisine</th>\n    </tr>\n  </thead>\n  <tbody>\n    <tr>\n      <td>0</td>\n      <td>1048081</td>\n      <td>1</td>\n      <td>93</td>\n      <td>1754</td>\n      <td>281.33</td>\n      <td>280.33</td>\n      <td>0</td>\n      <td>0</td>\n      <td>418</td>\n      <td>Sandwich</td>\n      <td>Italian</td>\n    </tr>\n    <tr>\n      <td>1</td>\n      <td>1125724</td>\n      <td>1</td>\n      <td>106</td>\n      <td>1230</td>\n      <td>320.16</td>\n      <td>382.24</td>\n      <td>0</td>\n      <td>1</td>\n      <td>514</td>\n      <td>Beverages</td>\n      <td>Continental</td>\n    </tr>\n    <tr>\n      <td>2</td>\n      <td>1176296</td>\n      <td>2</td>\n      <td>11</td>\n      <td>1971</td>\n      <td>260.96</td>\n      <td>328.86</td>\n      <td>1</td>\n      <td>0</td>\n      <td>877</td>\n      <td>Sandwich</td>\n      <td>Italian</td>\n    </tr>\n    <tr>\n      <td>3</td>\n      <td>1148221</td>\n      <td>2</td>\n      <td>157</td>\n      <td>2306</td>\n      <td>252.26</td>\n      <td>250.26</td>\n      <td>0</td>\n      <td>0</td>\n      <td>161</td>\n      <td>Pasta</td>\n      <td>Italian</td>\n    </tr>\n    <tr>\n      <td>4</td>\n      <td>1445141</td>\n      <td>2</td>\n      <td>59</td>\n      <td>2290</td>\n      <td>306.58</td>\n      <td>306.58</td>\n      <td>0</td>\n      <td>0</td>\n      <td>405</td>\n      <td>Rice Bowl</td>\n      <td>Indian</td>\n    </tr>\n    <tr>\n      <td>...</td>\n      <td>...</td>\n      <td>...</td>\n      <td>...</td>\n      <td>...</td>\n      <td>...</td>\n      <td>...</td>\n      <td>...</td>\n      <td>...</td>\n      <td>...</td>\n      <td>...</td>\n      <td>...</td>\n    </tr>\n    <tr>\n      <td>443</td>\n      <td>1104243</td>\n      <td>145</td>\n      <td>50</td>\n      <td>1971</td>\n      <td>325.95</td>\n      <td>324.95</td>\n      <td>0</td>\n      <td>0</td>\n      <td>189</td>\n      <td>Sandwich</td>\n      <td>Italian</td>\n    </tr>\n    <tr>\n      <td>444</td>\n      <td>1126867</td>\n      <td>145</td>\n      <td>53</td>\n      <td>2760</td>\n      <td>161.99</td>\n      <td>243.53</td>\n      <td>0</td>\n      <td>1</td>\n      <td>202</td>\n      <td>Other Snacks</td>\n      <td>Thai</td>\n    </tr>\n    <tr>\n      <td>445</td>\n      <td>1442669</td>\n      <td>145</td>\n      <td>67</td>\n      <td>1571</td>\n      <td>641.23</td>\n      <td>641.23</td>\n      <td>0</td>\n      <td>0</td>\n      <td>107</td>\n      <td>Fish</td>\n      <td>Continental</td>\n    </tr>\n    <tr>\n      <td>446</td>\n      <td>1280830</td>\n      <td>145</td>\n      <td>23</td>\n      <td>1902</td>\n      <td>447.23</td>\n      <td>445.23</td>\n      <td>0</td>\n      <td>0</td>\n      <td>26</td>\n      <td>Biryani</td>\n      <td>Indian</td>\n    </tr>\n    <tr>\n      <td>447</td>\n      <td>1130276</td>\n      <td>145</td>\n      <td>51</td>\n      <td>1971</td>\n      <td>345.35</td>\n      <td>346.35</td>\n      <td>0</td>\n      <td>0</td>\n      <td>271</td>\n      <td>Sandwich</td>\n      <td>Italian</td>\n    </tr>\n  </tbody>\n</table>\n<p>448 rows × 11 columns</p>\n</div>",
      "text/plain": "          id  week  center_id  meal_id  checkout_price  base_price  \\\n0    1048081     1         93     1754          281.33      280.33   \n1    1125724     1        106     1230          320.16      382.24   \n2    1176296     2         11     1971          260.96      328.86   \n3    1148221     2        157     2306          252.26      250.26   \n4    1445141     2         59     2290          306.58      306.58   \n..       ...   ...        ...      ...             ...         ...   \n443  1104243   145         50     1971          325.95      324.95   \n444  1126867   145         53     2760          161.99      243.53   \n445  1442669   145         67     1571          641.23      641.23   \n446  1280830   145         23     1902          447.23      445.23   \n447  1130276   145         51     1971          345.35      346.35   \n\n     emailer_for_promotion  homepage_featured  num_orders      category  \\\n0                        0                  0         418      Sandwich   \n1                        0                  1         514     Beverages   \n2                        1                  0         877      Sandwich   \n3                        0                  0         161         Pasta   \n4                        0                  0         405     Rice Bowl   \n..                     ...                ...         ...           ...   \n443                      0                  0         189      Sandwich   \n444                      0                  1         202  Other Snacks   \n445                      0                  0         107          Fish   \n446                      0                  0          26       Biryani   \n447                      0                  0         271      Sandwich   \n\n         cuisine  \n0        Italian  \n1    Continental  \n2        Italian  \n3        Italian  \n4         Indian  \n..           ...  \n443      Italian  \n444         Thai  \n445  Continental  \n446       Indian  \n447      Italian  \n\n[448 rows x 11 columns]"
     },
     "execution_count": 33,
     "metadata": {},
     "output_type": "execute_result"
    }
   ],
   "source": [
    "\n",
    "meal_category_dict=dict()\n",
    "for i in meal_dataset.index:\n",
    "    meal_category_dict[meal_dataset[\"meal_id\"][i]]= meal_dataset[\"category\"][i]\n",
    "\n",
    "meal_cuisine_dict=dict()\n",
    "for i in meal_dataset.index:\n",
    "    meal_cuisine_dict[meal_dataset[\"meal_id\"][i]]= meal_dataset[\"cuisine\"][i]\n",
    "# print(meal_cuisine_dict)\n",
    "# print(meal_category_dict.items())\n",
    "for i in train_dataset.index:\n",
    "    # print(i)\n",
    "    if(train_dataset[\"meal_id\"][i] in meal_category_dict):\n",
    "        train_dataset[\"category\"][i] =  meal_category_dict.get(train_dataset[\"meal_id\"][i])\n",
    "for i in train_dataset.index:\n",
    "    # print(i)\n",
    "    if(train_dataset[\"meal_id\"][i] in meal_cuisine_dict):\n",
    "        train_dataset[\"cuisine\"][i] =  meal_cuisine_dict.get(train_dataset[\"meal_id\"][i])\n",
    "train_dataset"
   ]
  },
  {
   "cell_type": "code",
   "execution_count": null,
   "metadata": {},
   "outputs": [],
   "source": []
  }
 ]
}