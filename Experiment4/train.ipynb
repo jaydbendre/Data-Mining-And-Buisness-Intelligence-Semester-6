{
 "nbformat": 4,
 "nbformat_minor": 2,
 "metadata": {
  "language_info": {
   "name": "python",
   "codemirror_mode": {
    "name": "ipython",
    "version": 3
   },
   "version": "3.7.4-final"
  },
  "orig_nbformat": 2,
  "file_extension": ".py",
  "mimetype": "text/x-python",
  "name": "python",
  "npconvert_exporter": "python",
  "pygments_lexer": "ipython3",
  "version": 3,
  "kernelspec": {
   "name": "python3",
   "display_name": "Python 3"
  }
 },
 "cells": [
  {
   "cell_type": "code",
   "execution_count": null,
   "metadata": {},
   "outputs": [],
   "source": [
    "import os\n",
    "import pandas as pd\n",
    "import numpy as np\n",
    "import random\n",
    "from sklearn import preprocessing"
   ]
  },
  {
   "cell_type": "code",
   "execution_count": null,
   "metadata": {},
   "outputs": [],
   "source": [
    "# train_dataset = pd.DataFrame(pd.read_csv(\"Datasets/train/train.csv\",skiprows=lambda i: i > 0 and random.random() > 0.001))\n",
    "train_dataset = pd.DataFrame(pd.read_csv(\"Datasets/train/train.csv\"))\n",
    "meal_dataset = pd.DataFrame(pd.read_csv(\"Datasets/train/meal_info.csv\"))\n",
    "center_dataset = pd.DataFrame(pd.read_csv(\"Datasets/train/fulfilment_center_info.csv\"))\n",
    "# train_dataset[\"category\"]=np.nan\n",
    "# train_dataset[\"cuisine\"]=np.nan\n",
    "train_dataset"
   ]
  },
  {
   "cell_type": "code",
   "execution_count": null,
   "metadata": {},
   "outputs": [],
   "source": [
    "\n",
    "# train_dataset[\"meal_id\"] = preprocessing.LabelEncoder().fit_transform(train_dataset[\"meal_id\"])\n",
    "# train_dataset\n",
    "# meal_category_dict=dict()\n",
    "# for i in meal_dataset.index:\n",
    "#     meal_category_dict[meal_dataset[\"meal_id\"][i]]= meal_dataset[\"category\"][i]\n",
    "\n",
    "# meal_cuisine_dict=dict()\n",
    "# for i in meal_dataset.index:\n",
    "#     meal_cuisine_dict[meal_dataset[\"meal_id\"][i]]= meal_dataset[\"cuisine\"][i]\n",
    "# # print(meal_cuisine_dict)\n",
    "# # print(meal_category_dict.items())\n",
    "# for i in train_dataset.index:\n",
    "#     # print(i)\n",
    "#     if(train_dataset[\"meal_id\"][i] in meal_category_dict):\n",
    "#         train_dataset[\"category\"][i] =  meal_category_dict.get(train_dataset[\"meal_id\"][i])\n",
    "# for i in train_dataset.index:\n",
    "#     # print(i)\n",
    "#     if(train_dataset[\"meal_id\"][i] in meal_cuisine_dict):\n",
    "#         train_dataset[\"cuisine\"][i] =  meal_cuisine_dict.get(train_dataset[\"meal_id\"][i])\n",
    "# train_dataset\n"
   ]
  },
  {
   "cell_type": "code",
   "execution_count": null,
   "metadata": {},
   "outputs": [],
   "source": [
    "meal_dataset[\"meal_id\"] = preprocessing.LabelEncoder().fit_transform(meal_dataset[\"meal_id\"])\n",
    "meal_dataset"
   ]
  },
  {
   "cell_type": "code",
   "execution_count": null,
   "metadata": {},
   "outputs": [],
   "source": [
    "train_dataset[\"meal_id\"] = preprocessing.LabelEncoder().fit_transform(train_dataset[\"meal_id\"])\n",
    "train_dataset"
   ]
  },
  {
   "cell_type": "code",
   "execution_count": null,
   "metadata": {},
   "outputs": [],
   "source": [
    "train_dataset = pd.merge(train_dataset,meal_dataset, on='meal_id')\n",
    "train_dataset"
   ]
  },
  {
   "cell_type": "code",
   "execution_count": null,
   "metadata": {},
   "outputs": [],
   "source": [
    "center_dataset[\"center_id\"] = preprocessing.LabelEncoder().fit_transform(center_dataset[\"center_id\"])\n",
    "center_dataset"
   ]
  },
  {
   "cell_type": "code",
   "execution_count": null,
   "metadata": {},
   "outputs": [],
   "source": [
    "train_dataset[\"center_id\"] = preprocessing.LabelEncoder().fit_transform(train_dataset[\"center_id\"])\n",
    "train_dataset"
   ]
  },
  {
   "cell_type": "code",
   "execution_count": null,
   "metadata": {},
   "outputs": [],
   "source": [
    "train_dataset = pd.merge(train_dataset,center_dataset, on='center_id')\n",
    "train_dataset"
   ]
  },
  {
   "cell_type": "code",
   "execution_count": null,
   "metadata": {},
   "outputs": [],
   "source": [
    "train_dataset[\"center_type\"] = preprocessing.LabelEncoder().fit_transform(train_dataset[\"center_type\"])\n",
    "train_dataset"
   ]
  }
 ]
}