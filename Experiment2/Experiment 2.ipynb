{
 "nbformat": 4,
 "nbformat_minor": 2,
 "metadata": {
  "language_info": {
   "name": "python",
   "codemirror_mode": {
    "name": "ipython",
    "version": 3
   },
   "version": "3.7.4-final"
  },
  "orig_nbformat": 2,
  "file_extension": ".py",
  "mimetype": "text/x-python",
  "name": "python",
  "npconvert_exporter": "python",
  "pygments_lexer": "ipython3",
  "version": 3,
  "kernelspec": {
   "name": "python3",
   "display_name": "Python 3"
  }
 },
 "cells": [
  {
   "cell_type": "code",
   "execution_count": 1,
   "metadata": {},
   "outputs": [],
   "source": [
    "from scipy.stats import chisquare, chi2_contingency\n",
    "import pandas as pd\n",
    "import numpy as np\n",
    "import datetime as dt\n"
   ]
  },
  {
   "cell_type": "code",
   "execution_count": 3,
   "metadata": {},
   "outputs": [],
   "source": [
    "dataset = pd.read_csv(\"../Datasets/FinalMergedDataset/dataset.csv\")\n",
    "df = pd.DataFrame(\n",
    "    dataset[\n",
    "        [\"Time\", \"date\", \"Source\", \"Flight Name\",\n",
    "            \"Status\", \"type\", \"Destination\"]\n",
    "    ]\n",
    ")"
   ]
  },
  {
   "cell_type": "code",
   "execution_count": 5,
   "metadata": {},
   "outputs": [
    {
     "data": {
      "text/html": "<div>\n<style scoped>\n    .dataframe tbody tr th:only-of-type {\n        vertical-align: middle;\n    }\n\n    .dataframe tbody tr th {\n        vertical-align: top;\n    }\n\n    .dataframe thead th {\n        text-align: right;\n    }\n</style>\n<table border=\"1\" class=\"dataframe\">\n  <thead>\n    <tr style=\"text-align: right;\">\n      <th></th>\n      <th>Time</th>\n      <th>date</th>\n      <th>Source</th>\n      <th>Flight Name</th>\n      <th>Status</th>\n      <th>type</th>\n      <th>Destination</th>\n    </tr>\n  </thead>\n  <tbody>\n    <tr>\n      <td>0</td>\n      <td>00:05:00</td>\n      <td>2020-02-02</td>\n      <td>Paris (CDG)</td>\n      <td>Air France</td>\n      <td>Landed 12:48 AM</td>\n      <td>A</td>\n      <td>NaN</td>\n    </tr>\n    <tr>\n      <td>1</td>\n      <td>00:05:00</td>\n      <td>2020-02-02</td>\n      <td>Hyderabad (HYD)</td>\n      <td>IndiGo</td>\n      <td>Landed 12:23 AM</td>\n      <td>A</td>\n      <td>NaN</td>\n    </tr>\n    <tr>\n      <td>2</td>\n      <td>00:05:00</td>\n      <td>2020-02-02</td>\n      <td>NaN</td>\n      <td>GoAir</td>\n      <td>Departed 12:30 AM</td>\n      <td>D</td>\n      <td>Delhi (DEL)</td>\n    </tr>\n    <tr>\n      <td>3</td>\n      <td>00:05:00</td>\n      <td>2020-02-02</td>\n      <td>NaN</td>\n      <td>AirAsia</td>\n      <td>Departed 12:55 AM</td>\n      <td>D</td>\n      <td>Delhi (DEL)</td>\n    </tr>\n    <tr>\n      <td>4</td>\n      <td>00:05:00</td>\n      <td>2020-02-02</td>\n      <td>NaN</td>\n      <td>Bangkok Airways (Guilin Livery)</td>\n      <td>Departed 12:50 AM</td>\n      <td>D</td>\n      <td>Bangkok (BKK)</td>\n    </tr>\n    <tr>\n      <td>...</td>\n      <td>...</td>\n      <td>...</td>\n      <td>...</td>\n      <td>...</td>\n      <td>...</td>\n      <td>...</td>\n      <td>...</td>\n    </tr>\n    <tr>\n      <td>25550</td>\n      <td>23:55:00</td>\n      <td>2020-03-01</td>\n      <td>NaN</td>\n      <td>IndiGo</td>\n      <td>NaN</td>\n      <td>D</td>\n      <td>Chennai (MAA)</td>\n    </tr>\n    <tr>\n      <td>25551</td>\n      <td>23:58:00</td>\n      <td>2020-03-01</td>\n      <td>Colombo (CMB)</td>\n      <td>Air India</td>\n      <td>NaN</td>\n      <td>A</td>\n      <td>NaN</td>\n    </tr>\n    <tr>\n      <td>25552</td>\n      <td>23:59:00</td>\n      <td>2020-03-01</td>\n      <td>Ahmedabad (AMD)</td>\n      <td>SpiceJet</td>\n      <td>Landed 11:49 PM</td>\n      <td>A</td>\n      <td>NaN</td>\n    </tr>\n    <tr>\n      <td>25553</td>\n      <td>23:59:00</td>\n      <td>2020-03-01</td>\n      <td>Ahmedabad (AMD)</td>\n      <td>SpiceJet</td>\n      <td>NaN</td>\n      <td>A</td>\n      <td>NaN</td>\n    </tr>\n    <tr>\n      <td>25554</td>\n      <td>23:59:00</td>\n      <td>2020-03-01</td>\n      <td>NaN</td>\n      <td>SpiceJet</td>\n      <td>NaN</td>\n      <td>D</td>\n      <td>Ahmedabad (AMD)</td>\n    </tr>\n  </tbody>\n</table>\n<p>25555 rows × 7 columns</p>\n</div>",
      "text/plain": "           Time        date           Source                      Flight Name  \\\n0      00:05:00  2020-02-02      Paris (CDG)                       Air France   \n1      00:05:00  2020-02-02  Hyderabad (HYD)                           IndiGo   \n2      00:05:00  2020-02-02              NaN                            GoAir   \n3      00:05:00  2020-02-02              NaN                          AirAsia   \n4      00:05:00  2020-02-02              NaN  Bangkok Airways (Guilin Livery)   \n...         ...         ...              ...                              ...   \n25550  23:55:00  2020-03-01              NaN                           IndiGo   \n25551  23:58:00  2020-03-01    Colombo (CMB)                        Air India   \n25552  23:59:00  2020-03-01  Ahmedabad (AMD)                         SpiceJet   \n25553  23:59:00  2020-03-01  Ahmedabad (AMD)                         SpiceJet   \n25554  23:59:00  2020-03-01              NaN                         SpiceJet   \n\n                  Status type      Destination  \n0        Landed 12:48 AM    A              NaN  \n1        Landed 12:23 AM    A              NaN  \n2      Departed 12:30 AM    D      Delhi (DEL)  \n3      Departed 12:55 AM    D      Delhi (DEL)  \n4      Departed 12:50 AM    D    Bangkok (BKK)  \n...                  ...  ...              ...  \n25550                NaN    D    Chennai (MAA)  \n25551                NaN    A              NaN  \n25552    Landed 11:49 PM    A              NaN  \n25553                NaN    A              NaN  \n25554                NaN    D  Ahmedabad (AMD)  \n\n[25555 rows x 7 columns]"
     },
     "execution_count": 5,
     "metadata": {},
     "output_type": "execute_result"
    }
   ],
   "source": [
    "#printing the Dataframe\n",
    "df"
   ]
  },
  {
   "cell_type": "code",
   "execution_count": 8,
   "metadata": {},
   "outputs": [
    {
     "data": {
      "text/html": "<div>\n<style scoped>\n    .dataframe tbody tr th:only-of-type {\n        vertical-align: middle;\n    }\n\n    .dataframe tbody tr th {\n        vertical-align: top;\n    }\n\n    .dataframe thead th {\n        text-align: right;\n    }\n</style>\n<table border=\"1\" class=\"dataframe\">\n  <thead>\n    <tr style=\"text-align: right;\">\n      <th></th>\n      <th>Time</th>\n      <th>date</th>\n      <th>Source</th>\n      <th>Flight Name</th>\n      <th>Status</th>\n      <th>type</th>\n      <th>Destination</th>\n    </tr>\n  </thead>\n  <tbody>\n    <tr>\n      <td>0</td>\n      <td>00:05:00</td>\n      <td>2020-02-02</td>\n      <td>Paris (CDG)</td>\n      <td>Air France</td>\n      <td>Landed 12:48 AM</td>\n      <td>A</td>\n      <td>NaN</td>\n    </tr>\n    <tr>\n      <td>1</td>\n      <td>00:05:00</td>\n      <td>2020-02-02</td>\n      <td>Hyderabad (HYD)</td>\n      <td>IndiGo</td>\n      <td>Landed 12:23 AM</td>\n      <td>A</td>\n      <td>NaN</td>\n    </tr>\n    <tr>\n      <td>2</td>\n      <td>00:05:00</td>\n      <td>2020-02-02</td>\n      <td>Mumbai</td>\n      <td>GoAir</td>\n      <td>Departed 12:30 AM</td>\n      <td>D</td>\n      <td>Delhi (DEL)</td>\n    </tr>\n    <tr>\n      <td>3</td>\n      <td>00:05:00</td>\n      <td>2020-02-02</td>\n      <td>Mumbai</td>\n      <td>AirAsia</td>\n      <td>Departed 12:55 AM</td>\n      <td>D</td>\n      <td>Delhi (DEL)</td>\n    </tr>\n    <tr>\n      <td>4</td>\n      <td>00:05:00</td>\n      <td>2020-02-02</td>\n      <td>Mumbai</td>\n      <td>Bangkok Airways (Guilin Livery)</td>\n      <td>Departed 12:50 AM</td>\n      <td>D</td>\n      <td>Bangkok (BKK)</td>\n    </tr>\n    <tr>\n      <td>...</td>\n      <td>...</td>\n      <td>...</td>\n      <td>...</td>\n      <td>...</td>\n      <td>...</td>\n      <td>...</td>\n      <td>...</td>\n    </tr>\n    <tr>\n      <td>25550</td>\n      <td>23:55:00</td>\n      <td>2020-03-01</td>\n      <td>Mumbai</td>\n      <td>IndiGo</td>\n      <td>NaN</td>\n      <td>D</td>\n      <td>Chennai (MAA)</td>\n    </tr>\n    <tr>\n      <td>25551</td>\n      <td>23:58:00</td>\n      <td>2020-03-01</td>\n      <td>Colombo (CMB)</td>\n      <td>Air India</td>\n      <td>NaN</td>\n      <td>A</td>\n      <td>NaN</td>\n    </tr>\n    <tr>\n      <td>25552</td>\n      <td>23:59:00</td>\n      <td>2020-03-01</td>\n      <td>Ahmedabad (AMD)</td>\n      <td>SpiceJet</td>\n      <td>Landed 11:49 PM</td>\n      <td>A</td>\n      <td>NaN</td>\n    </tr>\n    <tr>\n      <td>25553</td>\n      <td>23:59:00</td>\n      <td>2020-03-01</td>\n      <td>Ahmedabad (AMD)</td>\n      <td>SpiceJet</td>\n      <td>NaN</td>\n      <td>A</td>\n      <td>NaN</td>\n    </tr>\n    <tr>\n      <td>25554</td>\n      <td>23:59:00</td>\n      <td>2020-03-01</td>\n      <td>Mumbai</td>\n      <td>SpiceJet</td>\n      <td>NaN</td>\n      <td>D</td>\n      <td>Ahmedabad (AMD)</td>\n    </tr>\n  </tbody>\n</table>\n<p>25555 rows × 7 columns</p>\n</div>",
      "text/plain": "           Time        date           Source                      Flight Name  \\\n0      00:05:00  2020-02-02      Paris (CDG)                       Air France   \n1      00:05:00  2020-02-02  Hyderabad (HYD)                           IndiGo   \n2      00:05:00  2020-02-02           Mumbai                            GoAir   \n3      00:05:00  2020-02-02           Mumbai                          AirAsia   \n4      00:05:00  2020-02-02           Mumbai  Bangkok Airways (Guilin Livery)   \n...         ...         ...              ...                              ...   \n25550  23:55:00  2020-03-01           Mumbai                           IndiGo   \n25551  23:58:00  2020-03-01    Colombo (CMB)                        Air India   \n25552  23:59:00  2020-03-01  Ahmedabad (AMD)                         SpiceJet   \n25553  23:59:00  2020-03-01  Ahmedabad (AMD)                         SpiceJet   \n25554  23:59:00  2020-03-01           Mumbai                         SpiceJet   \n\n                  Status type      Destination  \n0        Landed 12:48 AM    A              NaN  \n1        Landed 12:23 AM    A              NaN  \n2      Departed 12:30 AM    D      Delhi (DEL)  \n3      Departed 12:55 AM    D      Delhi (DEL)  \n4      Departed 12:50 AM    D    Bangkok (BKK)  \n...                  ...  ...              ...  \n25550                NaN    D    Chennai (MAA)  \n25551                NaN    A              NaN  \n25552    Landed 11:49 PM    A              NaN  \n25553                NaN    A              NaN  \n25554                NaN    D  Ahmedabad (AMD)  \n\n[25555 rows x 7 columns]"
     },
     "execution_count": 8,
     "metadata": {},
     "output_type": "execute_result"
    }
   ],
   "source": [
    "#Function to Update the Departure Source in the dataframe\n",
    "def update_source(value):\n",
    "    if value[\"type\"] == \"D\":\n",
    "        return \"Mumbai\"\n",
    "    else:\n",
    "        return value[\"Source\"]\n",
    "\n",
    "df[\"Source\"] = df[[\"Source\", \"type\"]].apply(update_source, 1) #Calling the above function and updating the Dataframe\n",
    "df #Printing the Updated Dataframe"
   ]
  },
  {
   "cell_type": "code",
   "execution_count": 9,
   "metadata": {},
   "outputs": [
    {
     "data": {
      "text/html": "<div>\n<style scoped>\n    .dataframe tbody tr th:only-of-type {\n        vertical-align: middle;\n    }\n\n    .dataframe tbody tr th {\n        vertical-align: top;\n    }\n\n    .dataframe thead th {\n        text-align: right;\n    }\n</style>\n<table border=\"1\" class=\"dataframe\">\n  <thead>\n    <tr style=\"text-align: right;\">\n      <th></th>\n      <th>Time</th>\n      <th>date</th>\n      <th>Source</th>\n      <th>Flight Name</th>\n      <th>Status</th>\n      <th>type</th>\n      <th>Destination</th>\n    </tr>\n  </thead>\n  <tbody>\n    <tr>\n      <td>0</td>\n      <td>00:05:00</td>\n      <td>2020-02-02</td>\n      <td>Paris (CDG)</td>\n      <td>Air France</td>\n      <td>Landed 12:48 AM</td>\n      <td>A</td>\n      <td>Mumbai</td>\n    </tr>\n    <tr>\n      <td>1</td>\n      <td>00:05:00</td>\n      <td>2020-02-02</td>\n      <td>Hyderabad (HYD)</td>\n      <td>IndiGo</td>\n      <td>Landed 12:23 AM</td>\n      <td>A</td>\n      <td>Mumbai</td>\n    </tr>\n    <tr>\n      <td>2</td>\n      <td>00:05:00</td>\n      <td>2020-02-02</td>\n      <td>Mumbai</td>\n      <td>GoAir</td>\n      <td>Departed 12:30 AM</td>\n      <td>D</td>\n      <td>Delhi (DEL)</td>\n    </tr>\n    <tr>\n      <td>3</td>\n      <td>00:05:00</td>\n      <td>2020-02-02</td>\n      <td>Mumbai</td>\n      <td>AirAsia</td>\n      <td>Departed 12:55 AM</td>\n      <td>D</td>\n      <td>Delhi (DEL)</td>\n    </tr>\n    <tr>\n      <td>4</td>\n      <td>00:05:00</td>\n      <td>2020-02-02</td>\n      <td>Mumbai</td>\n      <td>Bangkok Airways (Guilin Livery)</td>\n      <td>Departed 12:50 AM</td>\n      <td>D</td>\n      <td>Bangkok (BKK)</td>\n    </tr>\n    <tr>\n      <td>...</td>\n      <td>...</td>\n      <td>...</td>\n      <td>...</td>\n      <td>...</td>\n      <td>...</td>\n      <td>...</td>\n      <td>...</td>\n    </tr>\n    <tr>\n      <td>25550</td>\n      <td>23:55:00</td>\n      <td>2020-03-01</td>\n      <td>Mumbai</td>\n      <td>IndiGo</td>\n      <td>NaN</td>\n      <td>D</td>\n      <td>Chennai (MAA)</td>\n    </tr>\n    <tr>\n      <td>25551</td>\n      <td>23:58:00</td>\n      <td>2020-03-01</td>\n      <td>Colombo (CMB)</td>\n      <td>Air India</td>\n      <td>NaN</td>\n      <td>A</td>\n      <td>Mumbai</td>\n    </tr>\n    <tr>\n      <td>25552</td>\n      <td>23:59:00</td>\n      <td>2020-03-01</td>\n      <td>Ahmedabad (AMD)</td>\n      <td>SpiceJet</td>\n      <td>Landed 11:49 PM</td>\n      <td>A</td>\n      <td>Mumbai</td>\n    </tr>\n    <tr>\n      <td>25553</td>\n      <td>23:59:00</td>\n      <td>2020-03-01</td>\n      <td>Ahmedabad (AMD)</td>\n      <td>SpiceJet</td>\n      <td>NaN</td>\n      <td>A</td>\n      <td>Mumbai</td>\n    </tr>\n    <tr>\n      <td>25554</td>\n      <td>23:59:00</td>\n      <td>2020-03-01</td>\n      <td>Mumbai</td>\n      <td>SpiceJet</td>\n      <td>NaN</td>\n      <td>D</td>\n      <td>Ahmedabad (AMD)</td>\n    </tr>\n  </tbody>\n</table>\n<p>25555 rows × 7 columns</p>\n</div>",
      "text/plain": "           Time        date           Source                      Flight Name  \\\n0      00:05:00  2020-02-02      Paris (CDG)                       Air France   \n1      00:05:00  2020-02-02  Hyderabad (HYD)                           IndiGo   \n2      00:05:00  2020-02-02           Mumbai                            GoAir   \n3      00:05:00  2020-02-02           Mumbai                          AirAsia   \n4      00:05:00  2020-02-02           Mumbai  Bangkok Airways (Guilin Livery)   \n...         ...         ...              ...                              ...   \n25550  23:55:00  2020-03-01           Mumbai                           IndiGo   \n25551  23:58:00  2020-03-01    Colombo (CMB)                        Air India   \n25552  23:59:00  2020-03-01  Ahmedabad (AMD)                         SpiceJet   \n25553  23:59:00  2020-03-01  Ahmedabad (AMD)                         SpiceJet   \n25554  23:59:00  2020-03-01           Mumbai                         SpiceJet   \n\n                  Status type      Destination  \n0        Landed 12:48 AM    A           Mumbai  \n1        Landed 12:23 AM    A           Mumbai  \n2      Departed 12:30 AM    D      Delhi (DEL)  \n3      Departed 12:55 AM    D      Delhi (DEL)  \n4      Departed 12:50 AM    D    Bangkok (BKK)  \n...                  ...  ...              ...  \n25550                NaN    D    Chennai (MAA)  \n25551                NaN    A           Mumbai  \n25552    Landed 11:49 PM    A           Mumbai  \n25553                NaN    A           Mumbai  \n25554                NaN    D  Ahmedabad (AMD)  \n\n[25555 rows x 7 columns]"
     },
     "execution_count": 9,
     "metadata": {},
     "output_type": "execute_result"
    }
   ],
   "source": [
    "#Function to Update the Arrival Destination in the dataframe\n",
    "def update_destination(value):\n",
    "    if value[\"type\"] == \"A\":\n",
    "        return \"Mumbai\"\n",
    "    else:\n",
    "        return value[\"Destination\"]\n",
    "df[\"Destination\"] = df[[\"Destination\", \"type\"]].apply(update_destination, 1) #Calling the above function and updating the Dataframe\n",
    "df #Printing the Updated Dataframe"
   ]
  },
  {
   "cell_type": "code",
   "execution_count": 10,
   "metadata": {},
   "outputs": [
    {
     "data": {
      "text/html": "<div>\n<style scoped>\n    .dataframe tbody tr th:only-of-type {\n        vertical-align: middle;\n    }\n\n    .dataframe tbody tr th {\n        vertical-align: top;\n    }\n\n    .dataframe thead th {\n        text-align: right;\n    }\n</style>\n<table border=\"1\" class=\"dataframe\">\n  <thead>\n    <tr style=\"text-align: right;\">\n      <th></th>\n      <th>Time</th>\n      <th>date</th>\n      <th>Source</th>\n      <th>Flight Name</th>\n      <th>Status</th>\n      <th>type</th>\n      <th>Destination</th>\n    </tr>\n  </thead>\n  <tbody>\n    <tr>\n      <td>0</td>\n      <td>2020-02-02 00:05:00</td>\n      <td>2020-02-02</td>\n      <td>Paris (CDG)</td>\n      <td>Air France</td>\n      <td>Landed 12:48 AM</td>\n      <td>A</td>\n      <td>Mumbai</td>\n    </tr>\n    <tr>\n      <td>1</td>\n      <td>2020-02-02 00:05:00</td>\n      <td>2020-02-02</td>\n      <td>Hyderabad (HYD)</td>\n      <td>IndiGo</td>\n      <td>Landed 12:23 AM</td>\n      <td>A</td>\n      <td>Mumbai</td>\n    </tr>\n    <tr>\n      <td>2</td>\n      <td>2020-02-02 00:05:00</td>\n      <td>2020-02-02</td>\n      <td>Mumbai</td>\n      <td>GoAir</td>\n      <td>Departed 12:30 AM</td>\n      <td>D</td>\n      <td>Delhi (DEL)</td>\n    </tr>\n    <tr>\n      <td>3</td>\n      <td>2020-02-02 00:05:00</td>\n      <td>2020-02-02</td>\n      <td>Mumbai</td>\n      <td>AirAsia</td>\n      <td>Departed 12:55 AM</td>\n      <td>D</td>\n      <td>Delhi (DEL)</td>\n    </tr>\n    <tr>\n      <td>4</td>\n      <td>2020-02-02 00:05:00</td>\n      <td>2020-02-02</td>\n      <td>Mumbai</td>\n      <td>Bangkok Airways (Guilin Livery)</td>\n      <td>Departed 12:50 AM</td>\n      <td>D</td>\n      <td>Bangkok (BKK)</td>\n    </tr>\n    <tr>\n      <td>...</td>\n      <td>...</td>\n      <td>...</td>\n      <td>...</td>\n      <td>...</td>\n      <td>...</td>\n      <td>...</td>\n      <td>...</td>\n    </tr>\n    <tr>\n      <td>25550</td>\n      <td>2020-03-01 23:55:00</td>\n      <td>2020-03-01</td>\n      <td>Mumbai</td>\n      <td>IndiGo</td>\n      <td>NaN</td>\n      <td>D</td>\n      <td>Chennai (MAA)</td>\n    </tr>\n    <tr>\n      <td>25551</td>\n      <td>2020-03-01 23:58:00</td>\n      <td>2020-03-01</td>\n      <td>Colombo (CMB)</td>\n      <td>Air India</td>\n      <td>NaN</td>\n      <td>A</td>\n      <td>Mumbai</td>\n    </tr>\n    <tr>\n      <td>25552</td>\n      <td>2020-03-01 23:59:00</td>\n      <td>2020-03-01</td>\n      <td>Ahmedabad (AMD)</td>\n      <td>SpiceJet</td>\n      <td>Landed 11:49 PM</td>\n      <td>A</td>\n      <td>Mumbai</td>\n    </tr>\n    <tr>\n      <td>25553</td>\n      <td>2020-03-01 23:59:00</td>\n      <td>2020-03-01</td>\n      <td>Ahmedabad (AMD)</td>\n      <td>SpiceJet</td>\n      <td>NaN</td>\n      <td>A</td>\n      <td>Mumbai</td>\n    </tr>\n    <tr>\n      <td>25554</td>\n      <td>2020-03-01 23:59:00</td>\n      <td>2020-03-01</td>\n      <td>Mumbai</td>\n      <td>SpiceJet</td>\n      <td>NaN</td>\n      <td>D</td>\n      <td>Ahmedabad (AMD)</td>\n    </tr>\n  </tbody>\n</table>\n<p>25555 rows × 7 columns</p>\n</div>",
      "text/plain": "                     Time        date           Source  \\\n0     2020-02-02 00:05:00  2020-02-02      Paris (CDG)   \n1     2020-02-02 00:05:00  2020-02-02  Hyderabad (HYD)   \n2     2020-02-02 00:05:00  2020-02-02           Mumbai   \n3     2020-02-02 00:05:00  2020-02-02           Mumbai   \n4     2020-02-02 00:05:00  2020-02-02           Mumbai   \n...                   ...         ...              ...   \n25550 2020-03-01 23:55:00  2020-03-01           Mumbai   \n25551 2020-03-01 23:58:00  2020-03-01    Colombo (CMB)   \n25552 2020-03-01 23:59:00  2020-03-01  Ahmedabad (AMD)   \n25553 2020-03-01 23:59:00  2020-03-01  Ahmedabad (AMD)   \n25554 2020-03-01 23:59:00  2020-03-01           Mumbai   \n\n                           Flight Name             Status type  \\\n0                           Air France    Landed 12:48 AM    A   \n1                               IndiGo    Landed 12:23 AM    A   \n2                                GoAir  Departed 12:30 AM    D   \n3                              AirAsia  Departed 12:55 AM    D   \n4      Bangkok Airways (Guilin Livery)  Departed 12:50 AM    D   \n...                                ...                ...  ...   \n25550                           IndiGo                NaN    D   \n25551                        Air India                NaN    A   \n25552                         SpiceJet    Landed 11:49 PM    A   \n25553                         SpiceJet                NaN    A   \n25554                         SpiceJet                NaN    D   \n\n           Destination  \n0               Mumbai  \n1               Mumbai  \n2          Delhi (DEL)  \n3          Delhi (DEL)  \n4        Bangkok (BKK)  \n...                ...  \n25550    Chennai (MAA)  \n25551           Mumbai  \n25552           Mumbai  \n25553           Mumbai  \n25554  Ahmedabad (AMD)  \n\n[25555 rows x 7 columns]"
     },
     "execution_count": 10,
     "metadata": {},
     "output_type": "execute_result"
    }
   ],
   "source": [
    "#Function to convert String of date and time to timestamp \n",
    "def update_timestamp_init(value):\n",
    "    timestamp = str(value[\"date\"]) + \" \" + str(value[\"Time\"])\n",
    "    timestamp = pd.to_datetime(timestamp, format=\"%Y-%m-%d %H:%M:%S\")\n",
    "    return timestamp\n",
    "df[\"Time\"] = df[[\"date\", \"Time\"]].apply(update_timestamp_init, 1) #Calling the above function and updating the Dataframe\n",
    "df"
   ]
  },
  {
   "cell_type": "code",
   "execution_count": null,
   "metadata": {},
   "outputs": [],
   "source": []
  }
 ]
}