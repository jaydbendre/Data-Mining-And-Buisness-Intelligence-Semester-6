{
 "nbformat": 4,
 "nbformat_minor": 2,
 "metadata": {
  "language_info": {
   "name": "python",
   "codemirror_mode": {
    "name": "ipython",
    "version": 3
   },
   "version": "3.8.1-final"
  },
  "orig_nbformat": 2,
  "file_extension": ".py",
  "mimetype": "text/x-python",
  "name": "python",
  "npconvert_exporter": "python",
  "pygments_lexer": "ipython3",
  "version": 3,
  "kernelspec": {
   "name": "python3",
   "display_name": "Python 3"
  }
 },
 "cells": [
  {
   "cell_type": "code",
   "execution_count": 54,
   "metadata": {},
   "outputs": [],
   "source": [
    "###Basic Imports required\n",
    "import pandas as pd\n",
    "from sklearn import model_selection , preprocessing\n",
    "from sklearn.model_selection import cross_val_score , train_test_split\n",
    "from sklearn.metrics import classification_report,confusion_matrix\n",
    "from sklearn.ensemble import RandomForestClassifier\n"
   ]
  },
  {
   "cell_type": "code",
   "execution_count": 55,
   "metadata": {},
   "outputs": [
    {
     "data": {
      "text/html": "<div>\n<style scoped>\n    .dataframe tbody tr th:only-of-type {\n        vertical-align: middle;\n    }\n\n    .dataframe tbody tr th {\n        vertical-align: top;\n    }\n\n    .dataframe thead th {\n        text-align: right;\n    }\n</style>\n<table border=\"1\" class=\"dataframe\">\n  <thead>\n    <tr style=\"text-align: right;\">\n      <th></th>\n      <th>Source</th>\n      <th>Destination</th>\n      <th>Flight Name</th>\n      <th>type</th>\n      <th>Status</th>\n      <th>Delay</th>\n      <th>Delay_Status</th>\n    </tr>\n  </thead>\n  <tbody>\n    <tr>\n      <td>0</td>\n      <td>19</td>\n      <td>40</td>\n      <td>27</td>\n      <td>0</td>\n      <td>0</td>\n      <td>1.0</td>\n      <td>On time</td>\n    </tr>\n    <tr>\n      <td>1</td>\n      <td>19</td>\n      <td>40</td>\n      <td>2</td>\n      <td>0</td>\n      <td>0</td>\n      <td>29.0</td>\n      <td>Delayed</td>\n    </tr>\n    <tr>\n      <td>2</td>\n      <td>43</td>\n      <td>10</td>\n      <td>48</td>\n      <td>1</td>\n      <td>1</td>\n      <td>13.0</td>\n      <td>On time</td>\n    </tr>\n    <tr>\n      <td>3</td>\n      <td>43</td>\n      <td>21</td>\n      <td>27</td>\n      <td>1</td>\n      <td>1</td>\n      <td>25.0</td>\n      <td>Delayed</td>\n    </tr>\n    <tr>\n      <td>4</td>\n      <td>8</td>\n      <td>40</td>\n      <td>27</td>\n      <td>0</td>\n      <td>0</td>\n      <td>15.0</td>\n      <td>On time</td>\n    </tr>\n    <tr>\n      <td>5</td>\n      <td>1</td>\n      <td>40</td>\n      <td>23</td>\n      <td>0</td>\n      <td>0</td>\n      <td>48.0</td>\n      <td>Delayed</td>\n    </tr>\n    <tr>\n      <td>6</td>\n      <td>23</td>\n      <td>40</td>\n      <td>25</td>\n      <td>0</td>\n      <td>0</td>\n      <td>23.0</td>\n      <td>Delayed</td>\n    </tr>\n    <tr>\n      <td>7</td>\n      <td>43</td>\n      <td>14</td>\n      <td>27</td>\n      <td>1</td>\n      <td>1</td>\n      <td>50.0</td>\n      <td>Delayed</td>\n    </tr>\n    <tr>\n      <td>8</td>\n      <td>43</td>\n      <td>44</td>\n      <td>2</td>\n      <td>1</td>\n      <td>1</td>\n      <td>72.0</td>\n      <td>Delayed</td>\n    </tr>\n    <tr>\n      <td>9</td>\n      <td>29</td>\n      <td>40</td>\n      <td>25</td>\n      <td>0</td>\n      <td>0</td>\n      <td>31.0</td>\n      <td>Delayed</td>\n    </tr>\n    <tr>\n      <td>10</td>\n      <td>43</td>\n      <td>57</td>\n      <td>27</td>\n      <td>1</td>\n      <td>1</td>\n      <td>103.0</td>\n      <td>Delayed</td>\n    </tr>\n    <tr>\n      <td>11</td>\n      <td>43</td>\n      <td>19</td>\n      <td>48</td>\n      <td>1</td>\n      <td>1</td>\n      <td>28.0</td>\n      <td>Delayed</td>\n    </tr>\n    <tr>\n      <td>12</td>\n      <td>8</td>\n      <td>40</td>\n      <td>27</td>\n      <td>0</td>\n      <td>0</td>\n      <td>11.0</td>\n      <td>On time</td>\n    </tr>\n    <tr>\n      <td>13</td>\n      <td>23</td>\n      <td>40</td>\n      <td>27</td>\n      <td>0</td>\n      <td>0</td>\n      <td>2.0</td>\n      <td>On time</td>\n    </tr>\n    <tr>\n      <td>14</td>\n      <td>43</td>\n      <td>14</td>\n      <td>27</td>\n      <td>1</td>\n      <td>1</td>\n      <td>13.0</td>\n      <td>On time</td>\n    </tr>\n    <tr>\n      <td>15</td>\n      <td>14</td>\n      <td>40</td>\n      <td>27</td>\n      <td>0</td>\n      <td>0</td>\n      <td>23.0</td>\n      <td>Delayed</td>\n    </tr>\n    <tr>\n      <td>16</td>\n      <td>43</td>\n      <td>14</td>\n      <td>48</td>\n      <td>1</td>\n      <td>1</td>\n      <td>14.0</td>\n      <td>On time</td>\n    </tr>\n    <tr>\n      <td>17</td>\n      <td>19</td>\n      <td>40</td>\n      <td>25</td>\n      <td>0</td>\n      <td>0</td>\n      <td>22.0</td>\n      <td>Delayed</td>\n    </tr>\n    <tr>\n      <td>18</td>\n      <td>16</td>\n      <td>40</td>\n      <td>39</td>\n      <td>0</td>\n      <td>0</td>\n      <td>167.0</td>\n      <td>Delayed</td>\n    </tr>\n    <tr>\n      <td>19</td>\n      <td>27</td>\n      <td>40</td>\n      <td>27</td>\n      <td>0</td>\n      <td>0</td>\n      <td>14.0</td>\n      <td>On time</td>\n    </tr>\n  </tbody>\n</table>\n</div>",
      "text/plain": "    Source  Destination  Flight Name  type  Status  Delay Delay_Status\n0       19           40           27     0       0    1.0      On time\n1       19           40            2     0       0   29.0      Delayed\n2       43           10           48     1       1   13.0      On time\n3       43           21           27     1       1   25.0      Delayed\n4        8           40           27     0       0   15.0      On time\n5        1           40           23     0       0   48.0      Delayed\n6       23           40           25     0       0   23.0      Delayed\n7       43           14           27     1       1   50.0      Delayed\n8       43           44            2     1       1   72.0      Delayed\n9       29           40           25     0       0   31.0      Delayed\n10      43           57           27     1       1  103.0      Delayed\n11      43           19           48     1       1   28.0      Delayed\n12       8           40           27     0       0   11.0      On time\n13      23           40           27     0       0    2.0      On time\n14      43           14           27     1       1   13.0      On time\n15      14           40           27     0       0   23.0      Delayed\n16      43           14           48     1       1   14.0      On time\n17      19           40           25     0       0   22.0      Delayed\n18      16           40           39     0       0  167.0      Delayed\n19      27           40           27     0       0   14.0      On time"
     },
     "execution_count": 55,
     "metadata": {},
     "output_type": "execute_result"
    }
   ],
   "source": [
    "df = pd.read_csv(\"Datasets/FinalMergedDataset/sample_dataset.csv\")\n",
    "\n",
    "df[\"Source\"] = preprocessing.LabelEncoder().fit_transform(df[\"Source\"])\n",
    "\n",
    "df[\"Destination\"] = preprocessing.LabelEncoder().fit_transform(df[\"Destination\"])\n",
    "\n",
    "df[\"Flight Name\"] = preprocessing.LabelEncoder().fit_transform(df[\"Flight Name\"])\n",
    "\n",
    "df[\"type\"] = preprocessing.LabelEncoder().fit_transform(df[\"type\"])\n",
    "\n",
    "\n",
    "df = df[[\"Source\",\"Destination\",\"Flight Name\",\"type\" , \"Status\" ,\"Delay\" , \"Delay_Status\"]]\n",
    "df.head(20)"
   ]
  },
  {
   "cell_type": "code",
   "execution_count": 56,
   "metadata": {},
   "outputs": [],
   "source": [
    "X = df.drop(\"Delay_Status\" , axis =1 )\n",
    "Y = df[\"Delay_Status\"]"
   ]
  },
  {
   "cell_type": "code",
   "execution_count": 57,
   "metadata": {},
   "outputs": [],
   "source": [
    "X_train , X_test , Y_train , Y_test = train_test_split(X,Y,test_size = 0.2)"
   ]
  },
  {
   "cell_type": "code",
   "execution_count": 58,
   "metadata": {},
   "outputs": [
    {
     "data": {
      "text/plain": "RandomForestClassifier(bootstrap=True, class_weight=None, criterion='gini',\n                       max_depth=None, max_features='auto', max_leaf_nodes=None,\n                       min_impurity_decrease=0.0, min_impurity_split=None,\n                       min_samples_leaf=1, min_samples_split=2,\n                       min_weight_fraction_leaf=0.0, n_estimators=10,\n                       n_jobs=None, oob_score=False, random_state=None,\n                       verbose=0, warm_start=False)"
     },
     "execution_count": 58,
     "metadata": {},
     "output_type": "execute_result"
    }
   ],
   "source": [
    "rfc = RandomForestClassifier()\n",
    "rfc.fit(X_train,Y_train)"
   ]
  },
  {
   "cell_type": "code",
   "execution_count": 59,
   "metadata": {},
   "outputs": [],
   "source": [
    "rfc_predict = rfc.predict(X_test)"
   ]
  },
  {
   "cell_type": "code",
   "execution_count": 60,
   "metadata": {},
   "outputs": [],
   "source": [
    "score = cross_val_score(rfc,X,Y,cv = 10 , scoring=\"roc_auc\")"
   ]
  },
  {
   "cell_type": "code",
   "execution_count": 1,
   "metadata": {},
   "outputs": [
    {
     "name": "stdout",
     "output_type": "stream",
     "text": "=== Confusion Matrix ===\n"
    },
    {
     "ename": "NameError",
     "evalue": "name 'confusion_matrix' is not defined",
     "output_type": "error",
     "traceback": [
      "\u001b[1;31m---------------------------------------------------------------------------\u001b[0m",
      "\u001b[1;31mNameError\u001b[0m                                 Traceback (most recent call last)",
      "\u001b[1;32m<ipython-input-1-fa7c55842e12>\u001b[0m in \u001b[0;36m<module>\u001b[1;34m\u001b[0m\n\u001b[0;32m      1\u001b[0m \u001b[0mprint\u001b[0m\u001b[1;33m(\u001b[0m\u001b[1;34m\"=== Confusion Matrix ===\"\u001b[0m\u001b[1;33m)\u001b[0m\u001b[1;33m\u001b[0m\u001b[1;33m\u001b[0m\u001b[0m\n\u001b[1;32m----> 2\u001b[1;33m \u001b[0mprint\u001b[0m\u001b[1;33m(\u001b[0m\u001b[0mconfusion_matrix\u001b[0m\u001b[1;33m(\u001b[0m\u001b[0mY_test\u001b[0m\u001b[1;33m,\u001b[0m \u001b[0mrfc_predict\u001b[0m\u001b[1;33m)\u001b[0m\u001b[1;33m)\u001b[0m\u001b[1;33m\u001b[0m\u001b[1;33m\u001b[0m\u001b[0m\n\u001b[0m\u001b[0;32m      3\u001b[0m \u001b[0mprint\u001b[0m\u001b[1;33m(\u001b[0m\u001b[1;34m'\\n'\u001b[0m\u001b[1;33m)\u001b[0m\u001b[1;33m\u001b[0m\u001b[1;33m\u001b[0m\u001b[0m\n\u001b[0;32m      4\u001b[0m \u001b[0mprint\u001b[0m\u001b[1;33m(\u001b[0m\u001b[1;34m\"=== Classification Report ===\"\u001b[0m\u001b[1;33m)\u001b[0m\u001b[1;33m\u001b[0m\u001b[1;33m\u001b[0m\u001b[0m\n\u001b[0;32m      5\u001b[0m \u001b[0mprint\u001b[0m\u001b[1;33m(\u001b[0m\u001b[0mclassification_report\u001b[0m\u001b[1;33m(\u001b[0m\u001b[0mY_test\u001b[0m\u001b[1;33m,\u001b[0m \u001b[0mrfc_predict\u001b[0m\u001b[1;33m)\u001b[0m\u001b[1;33m)\u001b[0m\u001b[1;33m\u001b[0m\u001b[1;33m\u001b[0m\u001b[0m\n",
      "\u001b[1;31mNameError\u001b[0m: name 'confusion_matrix' is not defined"
     ]
    }
   ],
   "source": [
    "print(\"=== Confusion Matrix ===\")\n",
    "print(confusion_matrix(Y_test, rfc_predict))\n",
    "print('\\n')\n",
    "print(\"=== Classification Report ===\")\n",
    "print(classification_report(Y_test, rfc_predict))\n",
    "print('\\n')\n",
    "print(\"=== All AUC Scores ===\")\n",
    "print(score)\n",
    "print('\\n')\n",
    "print(\"=== Mean AUC Score ===\")\n",
    "print(\"Mean AUC Score - Random Forest: \", score.mean())"
   ]
  },
  {
   "cell_type": "code",
   "execution_count": 62,
   "metadata": {},
   "outputs": [
    {
     "name": "stdout",
     "output_type": "stream",
     "text": "=== Confusion Matrix ===\n[[5]]\n\n\n=== Classification Report ===\n              precision    recall  f1-score   support\n\n     On time       1.00      1.00      1.00         5\n\n    accuracy                           1.00         5\n   macro avg       1.00      1.00      1.00         5\nweighted avg       1.00      1.00      1.00         5\n\n\n\n=== All AUC Scores ===\n[1. 1. 1. 1. 1. 1. 1. 1. 1. 1.]\n\n\n=== Mean AUC Score ===\nMean AUC Score - Random Forest:  1.0\n"
    }
   ],
   "source": [
    "### if partition size is changed to the inverse ratio of training and testing\n",
    "\n",
    "X_train , X_test , Y_train , Y_test = train_test_split(X,Y,test_size = 0.01)\n",
    "rfc = RandomForestClassifier()\n",
    "rfc.fit(X_train,Y_train)\n",
    "\n",
    "rfc_predict = rfc.predict(X_test)\n",
    "score = cross_val_score(rfc,X,Y,cv = 10 , scoring=\"roc_auc\")\n",
    "\n",
    "print(\"=== Confusion Matrix ===\")\n",
    "print(confusion_matrix(Y_test, rfc_predict))\n",
    "print('\\n')\n",
    "print(\"=== Classification Report ===\")\n",
    "print(classification_report(Y_test, rfc_predict))\n",
    "print('\\n')\n",
    "print(\"=== All AUC Scores ===\")\n",
    "print(score)\n",
    "print('\\n')\n",
    "print(\"=== Mean AUC Score ===\")\n",
    "print(\"Mean AUC Score - Random Forest: \", score.mean())"
   ]
  },
  {
   "cell_type": "code",
   "execution_count": null,
   "metadata": {},
   "outputs": [],
   "source": []
  }
 ]
}