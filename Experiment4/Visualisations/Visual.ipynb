{
 "cells": [
  {
   "cell_type": "code",
   "execution_count": 4,
   "metadata": {},
   "outputs": [
    {
     "output_type": "display_data",
     "data": {
      "application/vnd.plotly.v1+json": {
       "config": {
        "plotlyServerURL": "https://plot.ly"
       },
       "data": [
        {
         "name": "Base Price",
         "type": "bar",
         "x": [
          "Thai",
          "Italian",
          "Continental",
          "Continental",
          "Indian",
          "Italian",
          "Thai",
          "Continental",
          "Continental",
          "Continental",
          "Thai",
          "Thai",
          "Indian",
          "Italian",
          "Italian",
          "Thai",
          "Indian",
          "Thai",
          "Thai",
          "Indian",
          "Indian",
          "Continental",
          "Continental",
          "Thai",
          "Thai",
          "Italian",
          "Indian",
          "Thai",
          "Continental",
          "Indian",
          "Italian",
          "Indian",
          "Italian",
          "Italian",
          "Italian",
          "Italian",
          "Continental",
          "Thai",
          "Thai",
          "Italian",
          "Indian",
          "Indian",
          "Thai",
          "Thai",
          "Indian",
          "Thai",
          "Continental",
          "Indian",
          "Continental",
          "Thai",
          "Indian",
          "Italian",
          "Indian",
          "Italian",
          "Italian",
          "Thai",
          "Thai",
          "Thai",
          "Thai",
          "Thai",
          "Indian",
          "Italian",
          "Thai",
          "Italian",
          "Italian",
          "Continental",
          "Italian",
          "Italian",
          "Indian",
          "Italian",
          "Continental",
          "Thai",
          "Indian",
          "Italian",
          "Indian",
          "Italian",
          "Italian",
          "Italian",
          "Italian",
          "Italian",
          "Continental",
          "Indian",
          "Indian",
          "Thai",
          "Italian",
          "Indian",
          "Thai",
          "Thai",
          "Indian",
          "Thai",
          "Indian",
          "Italian",
          "Indian",
          "Italian",
          "Thai",
          "Indian",
          "Indian",
          "Italian",
          "Italian",
          "Italian",
          "Italian",
          "Thai",
          "Thai",
          "Indian",
          "Thai",
          "Indian",
          "Continental",
          "Thai",
          "Indian",
          "Continental",
          "Continental",
          "Thai",
          "Thai",
          "Italian",
          "Italian",
          "Indian",
          "Indian",
          "Thai",
          "Thai",
          "Continental",
          "Thai",
          "Indian",
          "Continental",
          "Indian",
          "Thai",
          "Indian",
          "Indian",
          "Thai",
          "Indian",
          "Italian",
          "Italian",
          "Italian",
          "Thai",
          "Indian",
          "Thai",
          "Thai",
          "Continental",
          "Continental",
          "Indian",
          "Indian",
          "Thai",
          "Thai",
          "Thai",
          "Continental",
          "Italian",
          "Indian",
          "Italian",
          "Italian",
          "Continental",
          "Indian",
          "Continental",
          "Indian",
          "Indian",
          "Indian",
          "Italian",
          "Continental",
          "Thai",
          "Thai",
          "Indian",
          "Thai",
          "Thai",
          "Thai",
          "Thai",
          "Continental",
          "Continental",
          "Thai",
          "Italian",
          "Italian",
          "Italian",
          "Indian",
          "Indian",
          "Thai",
          "Thai",
          "Italian",
          "Indian",
          "Thai",
          "Italian",
          "Thai",
          "Indian",
          "Continental",
          "Continental",
          "Thai",
          "Thai",
          "Indian",
          "Italian",
          "Italian",
          "Italian",
          "Italian",
          "Continental",
          "Thai",
          "Italian",
          "Continental",
          "Indian",
          "Indian",
          "Italian",
          "Indian",
          "Indian",
          "Continental",
          "Italian",
          "Indian",
          "Italian",
          "Indian",
          "Thai",
          "Indian",
          "Italian",
          "Indian",
          "Italian",
          "Indian",
          "Italian",
          "Continental",
          "Thai",
          "Indian",
          "Thai",
          "Continental",
          "Continental",
          "Continental",
          "Italian",
          "Italian",
          "Continental",
          "Continental",
          "Continental",
          "Thai",
          "Thai",
          "Thai",
          "Italian",
          "Italian",
          "Italian",
          "Italian",
          "Indian",
          "Indian",
          "Continental",
          "Italian",
          "Italian",
          "Italian",
          "Continental",
          "Thai",
          "Thai",
          "Indian",
          "Indian",
          "Indian",
          "Italian",
          "Continental",
          "Continental",
          "Italian",
          "Italian",
          "Italian",
          "Italian",
          "Continental",
          "Indian",
          "Italian",
          "Thai",
          "Italian",
          "Thai",
          "Continental",
          "Italian",
          "Indian",
          "Indian",
          "Thai",
          "Indian",
          "Indian",
          "Italian",
          "Continental",
          "Continental",
          "Thai",
          "Italian",
          "Continental",
          "Italian",
          "Thai",
          "Thai",
          "Italian",
          "Thai",
          "Indian",
          "Indian",
          "Thai",
          "Italian",
          "Indian",
          "Italian",
          "Continental",
          "Indian",
          "Indian",
          "Indian",
          "Italian",
          "Italian",
          "Italian",
          "Thai",
          "Thai",
          "Thai",
          "Thai",
          "Italian",
          "Thai",
          "Thai",
          "Italian",
          "Indian",
          "Thai",
          "Thai",
          "Indian",
          "Thai",
          "Thai",
          "Thai",
          "Indian",
          "Continental",
          "Continental",
          "Italian",
          "Thai",
          "Continental",
          "Continental",
          "Indian",
          "Italian",
          "Continental",
          "Thai",
          "Italian",
          "Italian",
          "Indian",
          "Indian",
          "Thai",
          "Thai",
          "Thai",
          "Italian",
          "Indian",
          "Thai",
          "Thai",
          "Thai",
          "Italian",
          "Thai",
          "Thai",
          "Italian",
          "Indian",
          "Indian",
          "Italian",
          "Continental",
          "Indian",
          "Continental",
          "Continental",
          "Continental",
          "Thai",
          "Indian",
          "Italian",
          "Thai",
          "Italian",
          "Italian",
          "Continental",
          "Continental",
          "Continental",
          "Thai",
          "Thai",
          "Indian",
          "Indian",
          "Continental",
          "Thai",
          "Indian",
          "Italian",
          "Italian",
          "Continental",
          "Continental",
          "Indian",
          "Thai",
          "Indian",
          "Indian",
          "Italian",
          "Continental",
          "Continental",
          "Indian",
          "Thai",
          "Thai",
          "Indian",
          "Thai",
          "Thai",
          "Thai",
          "Continental",
          "Continental",
          "Indian",
          "Indian",
          "Continental",
          "Continental",
          "Thai",
          "Thai",
          "Indian",
          "Continental",
          "Indian",
          "Italian",
          "Italian",
          "Thai",
          "Continental",
          "Indian",
          "Indian",
          "Indian",
          "Italian",
          "Italian",
          "Italian",
          "Continental",
          "Italian",
          "Thai",
          "Italian",
          "Thai",
          "Thai",
          "Thai",
          "Continental",
          "Italian",
          "Italian",
          "Indian",
          "Continental",
          "Italian",
          "Italian",
          "Continental",
          "Continental",
          "Thai",
          "Thai",
          "Continental",
          "Italian",
          "Italian",
          "Indian",
          "Indian",
          "Indian",
          "Indian",
          "Indian",
          "Italian",
          "Indian",
          "Italian",
          "Italian",
          "Continental",
          "Italian",
          "Thai",
          "Italian",
          "Thai",
          "Continental",
          "Thai",
          "Thai",
          "Italian",
          "Continental",
          "Thai",
          "Continental",
          "Indian",
          "Italian",
          "Thai"
         ],
         "y": [
          146.53,
          184.36,
          442.32,
          454.99,
          446.23,
          252.23,
          145.53,
          679.03,
          697.43,
          581.03,
          145.53,
          144.59,
          278.39,
          532.53,
          533.53,
          291.03,
          486.03,
          258.05,
          122.28,
          293.94,
          292.03,
          639.23,
          630.53,
          292.03,
          242.53,
          182.39,
          320.13,
          281.33,
          767.33,
          445.23,
          326.89,
          466.63,
          504.43,
          329.86,
          267.78,
          322.04,
          679.03,
          291.03,
          292.03,
          418.13,
          447.23,
          484.03,
          167.87,
          243.53,
          389.03,
          163.96,
          481.15,
          422.95,
          678.03,
          195,
          290.09,
          239.65,
          324.98,
          276.51,
          323.04,
          183.33,
          282.33,
          196,
          271.63,
          242.53,
          260.93,
          416.13,
          118.4,
          184.33,
          339.53,
          640.23,
          281.3,
          222.16,
          245.41,
          281.36,
          534.53,
          228.98,
          309.49,
          227.04,
          321.13,
          531.56,
          329.86,
          242.5,
          464.63,
          191.15,
          460.75,
          311.43,
          294.94,
          282.33,
          318.16,
          447.23,
          291.03,
          321.13,
          485.03,
          243.5,
          387.03,
          361.81,
          447.23,
          306.52,
          176.57,
          484.03,
          485.03,
          319.13,
          309.49,
          302.64,
          252.2,
          119.31,
          120.31,
          254.14,
          280.33,
          445.23,
          582.03,
          120.31,
          484.03,
          640.23,
          631.53,
          281.33,
          97.06,
          186.24,
          279.36,
          165.93,
          432.68,
          192.09,
          179.51,
          581.03,
          292.03,
          484.03,
          469.51,
          445.23,
          292.03,
          486.03,
          485.03,
          215.34,
          503.43,
          328.89,
          551.93,
          292.03,
          290.03,
          446.23,
          146.5,
          143.59,
          383.15,
          680.03,
          296.82,
          309.43,
          290.03,
          292.03,
          92.18,
          317.19,
          347.26,
          485.03,
          316.28,
          285.18,
          629.53,
          306.58,
          639.23,
          271.66,
          290.03,
          290.03,
          291.03,
          669.33,
          319.13,
          280.33,
          461.72,
          145.5,
          146.53,
          242.5,
          244.5,
          583.03,
          708.13,
          321.13,
          326.89,
          179.51,
          310.43,
          515.13,
          484.03,
          121.28,
          114.46,
          176.57,
          427.83,
          280.33,
          328.89,
          152.35,
          153.26,
          400.64,
          618.86,
          242.5,
          243.53,
          389.03,
          320.13,
          178.48,
          340.53,
          552.93,
          629.53,
          290.03,
          405.52,
          382.24,
          404.55,
          422.95,
          552.93,
          418.13,
          145.5,
          312.37,
          291.03,
          319.13,
          290.03,
          446.23,
          232.83,
          504.43,
          310.43,
          154.26,
          183.33,
          277.42,
          320.16,
          641.23,
          320.13,
          485.03,
          150.38,
          390,
          464.63,
          383.21,
          291.03,
          312.4,
          680.03,
          688.73,
          727.53,
          292.03,
          292.03,
          321.13,
          253.2,
          407.43,
          319.13,
          178.54,
          266.78,
          309.43,
          533.53,
          226.98,
          339.53,
          283.24,
          532.53,
          264.84,
          241.53,
          486.03,
          260.93,
          402.55,
          514.13,
          640.23,
          708.13,
          417.13,
          327.92,
          291.03,
          321.07,
          709.13,
          261.93,
          290.06,
          292.03,
          255.14,
          119.34,
          304.58,
          309.43,
          484.03,
          437.47,
          292.03,
          485.03,
          244.47,
          317.25,
          640.23,
          631.53,
          118.34,
          152.35,
          325.98,
          535.44,
          220.25,
          242.53,
          328.89,
          118.4,
          296.82,
          153.26,
          290.03,
          327.89,
          149.41,
          286.18,
          610.13,
          486.03,
          486.03,
          298.82,
          321.13,
          323.04,
          389.03,
          241.53,
          151.38,
          149.38,
          281.33,
          274.57,
          292.03,
          173.69,
          363.81,
          465.63,
          239.59,
          282.33,
          447.23,
          115.46,
          117.43,
          98.03,
          150.41,
          343.38,
          640.23,
          281.36,
          117.4,
          313.37,
          639.23,
          505.43,
          243.5,
          361.81,
          280.33,
          182.39,
          239.59,
          445.23,
          304.64,
          280.33,
          291.03,
          290.03,
          416.13,
          446.23,
          212.43,
          270.63,
          218.28,
          319.13,
          150.35,
          243.5,
          302.64,
          251.23,
          165.93,
          183.39,
          390,
          447.23,
          678.03,
          688.73,
          618.86,
          242.53,
          152.35,
          176.54,
          281.33,
          339.53,
          281.36,
          639.23,
          640.23,
          630.53,
          260.93,
          122.25,
          143.59,
          304.64,
          640.23,
          292.03,
          445.23,
          159.11,
          220.22,
          286.18,
          639.23,
          474.39,
          145.53,
          151.32,
          154.26,
          532.53,
          619.86,
          726.53,
          485.03,
          243.53,
          241.53,
          310.4,
          290.03,
          213.43,
          146.53,
          390,
          513.13,
          447.23,
          321.13,
          639.23,
          728.53,
          243.5,
          196,
          486.03,
          385.12,
          288.12,
          507.31,
          292.03,
          241.56,
          583.03,
          292.03,
          290.03,
          153.26,
          164.96,
          175.57,
          155.2,
          611.1,
          177.57,
          241.53,
          290.06,
          244.5,
          118.37,
          118.4,
          308.52,
          325.92,
          311.43,
          446.23,
          317.19,
          340.53,
          350.23,
          641.23,
          708.13,
          280.33,
          282.33,
          466.63,
          534.53,
          329.86,
          447.23,
          447.23,
          269.66,
          416.13,
          468.51,
          534.53,
          305.58,
          338.53,
          259.96,
          629.53,
          229.92,
          290.03,
          322.04,
          178.51,
          668.33,
          219.28,
          243.53,
          316.28,
          581.03,
          121.31,
          368.63,
          319.13,
          336.62,
          243.53
         ]
        },
        {
         "name": "Checkout Price",
         "type": "bar",
         "x": [
          "Thai",
          "Italian",
          "Continental",
          "Continental",
          "Indian",
          "Italian",
          "Thai",
          "Continental",
          "Continental",
          "Continental",
          "Thai",
          "Thai",
          "Indian",
          "Italian",
          "Italian",
          "Thai",
          "Indian",
          "Thai",
          "Thai",
          "Indian",
          "Indian",
          "Continental",
          "Continental",
          "Thai",
          "Thai",
          "Italian",
          "Indian",
          "Thai",
          "Continental",
          "Indian",
          "Italian",
          "Indian",
          "Italian",
          "Italian",
          "Italian",
          "Italian",
          "Continental",
          "Thai",
          "Thai",
          "Italian",
          "Indian",
          "Indian",
          "Thai",
          "Thai",
          "Indian",
          "Thai",
          "Continental",
          "Indian",
          "Continental",
          "Thai",
          "Indian",
          "Italian",
          "Indian",
          "Italian",
          "Italian",
          "Thai",
          "Thai",
          "Thai",
          "Thai",
          "Thai",
          "Indian",
          "Italian",
          "Thai",
          "Italian",
          "Italian",
          "Continental",
          "Italian",
          "Italian",
          "Indian",
          "Italian",
          "Continental",
          "Thai",
          "Indian",
          "Italian",
          "Indian",
          "Italian",
          "Italian",
          "Italian",
          "Italian",
          "Italian",
          "Continental",
          "Indian",
          "Indian",
          "Thai",
          "Italian",
          "Indian",
          "Thai",
          "Thai",
          "Indian",
          "Thai",
          "Indian",
          "Italian",
          "Indian",
          "Italian",
          "Thai",
          "Indian",
          "Indian",
          "Italian",
          "Italian",
          "Italian",
          "Italian",
          "Thai",
          "Thai",
          "Indian",
          "Thai",
          "Indian",
          "Continental",
          "Thai",
          "Indian",
          "Continental",
          "Continental",
          "Thai",
          "Thai",
          "Italian",
          "Italian",
          "Indian",
          "Indian",
          "Thai",
          "Thai",
          "Continental",
          "Thai",
          "Indian",
          "Continental",
          "Indian",
          "Thai",
          "Indian",
          "Indian",
          "Thai",
          "Indian",
          "Italian",
          "Italian",
          "Italian",
          "Thai",
          "Indian",
          "Thai",
          "Thai",
          "Continental",
          "Continental",
          "Indian",
          "Indian",
          "Thai",
          "Thai",
          "Thai",
          "Continental",
          "Italian",
          "Indian",
          "Italian",
          "Italian",
          "Continental",
          "Indian",
          "Continental",
          "Indian",
          "Indian",
          "Indian",
          "Italian",
          "Continental",
          "Thai",
          "Thai",
          "Indian",
          "Thai",
          "Thai",
          "Thai",
          "Thai",
          "Continental",
          "Continental",
          "Thai",
          "Italian",
          "Italian",
          "Italian",
          "Indian",
          "Indian",
          "Thai",
          "Thai",
          "Italian",
          "Indian",
          "Thai",
          "Italian",
          "Thai",
          "Indian",
          "Continental",
          "Continental",
          "Thai",
          "Thai",
          "Indian",
          "Italian",
          "Italian",
          "Italian",
          "Italian",
          "Continental",
          "Thai",
          "Italian",
          "Continental",
          "Indian",
          "Indian",
          "Italian",
          "Indian",
          "Indian",
          "Continental",
          "Italian",
          "Indian",
          "Italian",
          "Indian",
          "Thai",
          "Indian",
          "Italian",
          "Indian",
          "Italian",
          "Indian",
          "Italian",
          "Continental",
          "Thai",
          "Indian",
          "Thai",
          "Continental",
          "Continental",
          "Continental",
          "Italian",
          "Italian",
          "Continental",
          "Continental",
          "Continental",
          "Thai",
          "Thai",
          "Thai",
          "Italian",
          "Italian",
          "Italian",
          "Italian",
          "Indian",
          "Indian",
          "Continental",
          "Italian",
          "Italian",
          "Italian",
          "Continental",
          "Thai",
          "Thai",
          "Indian",
          "Indian",
          "Indian",
          "Italian",
          "Continental",
          "Continental",
          "Italian",
          "Italian",
          "Italian",
          "Italian",
          "Continental",
          "Indian",
          "Italian",
          "Thai",
          "Italian",
          "Thai",
          "Continental",
          "Italian",
          "Indian",
          "Indian",
          "Thai",
          "Indian",
          "Indian",
          "Italian",
          "Continental",
          "Continental",
          "Thai",
          "Italian",
          "Continental",
          "Italian",
          "Thai",
          "Thai",
          "Italian",
          "Thai",
          "Indian",
          "Indian",
          "Thai",
          "Italian",
          "Indian",
          "Italian",
          "Continental",
          "Indian",
          "Indian",
          "Indian",
          "Italian",
          "Italian",
          "Italian",
          "Thai",
          "Thai",
          "Thai",
          "Thai",
          "Italian",
          "Thai",
          "Thai",
          "Italian",
          "Indian",
          "Thai",
          "Thai",
          "Indian",
          "Thai",
          "Thai",
          "Thai",
          "Indian",
          "Continental",
          "Continental",
          "Italian",
          "Thai",
          "Continental",
          "Continental",
          "Indian",
          "Italian",
          "Continental",
          "Thai",
          "Italian",
          "Italian",
          "Indian",
          "Indian",
          "Thai",
          "Thai",
          "Thai",
          "Italian",
          "Indian",
          "Thai",
          "Thai",
          "Thai",
          "Italian",
          "Thai",
          "Thai",
          "Italian",
          "Indian",
          "Indian",
          "Italian",
          "Continental",
          "Indian",
          "Continental",
          "Continental",
          "Continental",
          "Thai",
          "Indian",
          "Italian",
          "Thai",
          "Italian",
          "Italian",
          "Continental",
          "Continental",
          "Continental",
          "Thai",
          "Thai",
          "Indian",
          "Indian",
          "Continental",
          "Thai",
          "Indian",
          "Italian",
          "Italian",
          "Continental",
          "Continental",
          "Indian",
          "Thai",
          "Indian",
          "Indian",
          "Italian",
          "Continental",
          "Continental",
          "Indian",
          "Thai",
          "Thai",
          "Indian",
          "Thai",
          "Thai",
          "Thai",
          "Continental",
          "Continental",
          "Indian",
          "Indian",
          "Continental",
          "Continental",
          "Thai",
          "Thai",
          "Indian",
          "Continental",
          "Indian",
          "Italian",
          "Italian",
          "Thai",
          "Continental",
          "Indian",
          "Indian",
          "Indian",
          "Italian",
          "Italian",
          "Italian",
          "Continental",
          "Italian",
          "Thai",
          "Italian",
          "Thai",
          "Thai",
          "Thai",
          "Continental",
          "Italian",
          "Italian",
          "Indian",
          "Continental",
          "Italian",
          "Italian",
          "Continental",
          "Continental",
          "Thai",
          "Thai",
          "Continental",
          "Italian",
          "Italian",
          "Indian",
          "Indian",
          "Indian",
          "Indian",
          "Indian",
          "Italian",
          "Indian",
          "Italian",
          "Italian",
          "Continental",
          "Italian",
          "Thai",
          "Italian",
          "Thai",
          "Continental",
          "Thai",
          "Thai",
          "Italian",
          "Continental",
          "Thai",
          "Continental",
          "Indian",
          "Italian",
          "Thai"
         ],
         "y": [
          146.53,
          162.99,
          443.32,
          453.99,
          445.23,
          203.7,
          145.53,
          680.03,
          486,
          583.03,
          146.53,
          120.28,
          278.39,
          464.63,
          427.8,
          241.53,
          413.28,
          258.05,
          121.28,
          294.94,
          243.53,
          639.23,
          629.53,
          243.53,
          241.53,
          181.39,
          320.13,
          241.53,
          767.33,
          445.23,
          326.89,
          464.63,
          438.5,
          329.86,
          265.78,
          322.04,
          484.03,
          290.03,
          291.03,
          339.5,
          447.23,
          435.53,
          166.87,
          243.53,
          388.03,
          146.53,
          481.15,
          422.95,
          680.03,
          194,
          289.09,
          237.65,
          323.98,
          276.51,
          322.04,
          185.33,
          282.33,
          195,
          243.5,
          243.53,
          155.26,
          328.83,
          118.34,
          184.33,
          268.75,
          640.23,
          282.3,
          188.24,
          245.41,
          243.5,
          533.53,
          227.98,
          308.49,
          227.04,
          274.54,
          447.23,
          327.86,
          244.5,
          466.63,
          191.15,
          460.75,
          162.05,
          293.94,
          281.33,
          215.37,
          447.23,
          290.03,
          319.13,
          484.03,
          195,
          290.03,
          361.81,
          447.23,
          270.63,
          130.04,
          485.03,
          485.03,
          321.13,
          307.49,
          304.64,
          252.2,
          120.31,
          95.06,
          150.41,
          280.33,
          447.23,
          534.53,
          96.09,
          485.03,
          640.23,
          631.53,
          281.33,
          95.06,
          186.24,
          279.36,
          163.93,
          432.68,
          135.8,
          155.2,
          532.53,
          292.03,
          486.03,
          286.18,
          446.23,
          292.03,
          486.03,
          485.03,
          183.36,
          389.03,
          328.89,
          534.53,
          292.03,
          291.03,
          389.03,
          146.5,
          143.59,
          385.15,
          678.03,
          297.82,
          164.96,
          262.93,
          290.03,
          93.18,
          310.4,
          348.26,
          486.03,
          314.28,
          285.18,
          484.03,
          261.93,
          641.23,
          271.66,
          262.93,
          292.03,
          291.03,
          669.33,
          321.13,
          280.33,
          461.72,
          163.96,
          144.53,
          244.5,
          196,
          582.03,
          437.53,
          320.13,
          326.89,
          179.51,
          311.43,
          513.13,
          485.03,
          120.28,
          114.46,
          159.14,
          427.83,
          282.33,
          328.89,
          150.35,
          153.26,
          400.64,
          619.86,
          244.5,
          241.53,
          388.03,
          321.13,
          179.48,
          243.5,
          553.93,
          629.53,
          252.23,
          404.52,
          321.07,
          404.55,
          421.95,
          484.03,
          418.13,
          145.5,
          312.37,
          291.03,
          256.11,
          243.47,
          445.23,
          231.83,
          503.43,
          310.43,
          153.26,
          161.02,
          277.42,
          240.56,
          548.08,
          319.13,
          484.03,
          149.38,
          389,
          465.63,
          382.21,
          179.48,
          312.4,
          680.03,
          463.72,
          486.03,
          291.03,
          291.03,
          319.13,
          253.2,
          407.43,
          319.13,
          178.54,
          266.78,
          311.43,
          532.53,
          227.98,
          261.9,
          284.24,
          534.53,
          260.93,
          242.53,
          485.03,
          94.12,
          403.55,
          513.13,
          640.23,
          707.13,
          416.13,
          325.92,
          291.03,
          321.07,
          708.13,
          98,
          290.06,
          290.03,
          200.82,
          120.28,
          287.18,
          309.43,
          484.03,
          438.47,
          290.03,
          486.03,
          245.47,
          242.5,
          534.5,
          630.53,
          120.34,
          152.35,
          323.98,
          537.44,
          194,
          241.53,
          326.89,
          94.09,
          268.75,
          155.26,
          292.03,
          327.89,
          154.26,
          286.18,
          611.13,
          389.03,
          371.54,
          296.82,
          215.34,
          193.03,
          340.5,
          243.53,
          150.38,
          151.38,
          280.33,
          272.57,
          290.03,
          171.69,
          362.81,
          466.63,
          240.59,
          280.33,
          445.23,
          116.46,
          96.06,
          96.03,
          149.41,
          343.38,
          641.23,
          279.36,
          117.4,
          313.37,
          564.6,
          437.5,
          242.5,
          314.34,
          282.33,
          162.05,
          239.59,
          445.23,
          272.63,
          282.33,
          291.03,
          291.03,
          416.13,
          447.23,
          184.36,
          272.63,
          219.28,
          320.13,
          152.35,
          242.5,
          304.64,
          99,
          98,
          181.39,
          321.07,
          445.23,
          433.59,
          689.73,
          618.86,
          241.53,
          151.35,
          176.54,
          282.33,
          244.5,
          261.93,
          641.23,
          640.23,
          631.53,
          261.93,
          122.25,
          148.41,
          304.64,
          640.23,
          290.03,
          447.23,
          158.11,
          220.22,
          285.21,
          640.23,
          473.39,
          121.28,
          151.32,
          155.26,
          444.32,
          620.86,
          485.03,
          486.03,
          241.53,
          241.53,
          311.4,
          291.03,
          192.09,
          122.28,
          390,
          337.62,
          447.23,
          226.04,
          548.08,
          728.53,
          244.5,
          195,
          484.03,
          385.12,
          289.12,
          509.31,
          291.03,
          240.56,
          581.03,
          291.03,
          292.03,
          154.26,
          162.96,
          176.57,
          156.2,
          587.82,
          175.57,
          242.53,
          290.06,
          243.5,
          95.12,
          99,
          280.36,
          325.92,
          311.43,
          445.23,
          318.19,
          242.5,
          348.23,
          641.23,
          629.53,
          281.33,
          281.33,
          466.63,
          426.8,
          327.86,
          447.23,
          447.23,
          270.66,
          416.13,
          469.51,
          534.53,
          230.86,
          340.53,
          260.96,
          629.53,
          194.06,
          291.03,
          241.53,
          177.51,
          669.33,
          219.28,
          243.53,
          315.28,
          582.03,
          121.31,
          325.01,
          267.78,
          242.53,
          243.53
         ]
        }
       ],
       "layout": {
        "barmode": "group",
        "template": {
         "data": {
          "bar": [
           {
            "error_x": {
             "color": "#2a3f5f"
            },
            "error_y": {
             "color": "#2a3f5f"
            },
            "marker": {
             "line": {
              "color": "#E5ECF6",
              "width": 0.5
             }
            },
            "type": "bar"
           }
          ],
          "barpolar": [
           {
            "marker": {
             "line": {
              "color": "#E5ECF6",
              "width": 0.5
             }
            },
            "type": "barpolar"
           }
          ],
          "carpet": [
           {
            "aaxis": {
             "endlinecolor": "#2a3f5f",
             "gridcolor": "white",
             "linecolor": "white",
             "minorgridcolor": "white",
             "startlinecolor": "#2a3f5f"
            },
            "baxis": {
             "endlinecolor": "#2a3f5f",
             "gridcolor": "white",
             "linecolor": "white",
             "minorgridcolor": "white",
             "startlinecolor": "#2a3f5f"
            },
            "type": "carpet"
           }
          ],
          "choropleth": [
           {
            "colorbar": {
             "outlinewidth": 0,
             "ticks": ""
            },
            "type": "choropleth"
           }
          ],
          "contour": [
           {
            "colorbar": {
             "outlinewidth": 0,
             "ticks": ""
            },
            "colorscale": [
             [
              0,
              "#0d0887"
             ],
             [
              0.1111111111111111,
              "#46039f"
             ],
             [
              0.2222222222222222,
              "#7201a8"
             ],
             [
              0.3333333333333333,
              "#9c179e"
             ],
             [
              0.4444444444444444,
              "#bd3786"
             ],
             [
              0.5555555555555556,
              "#d8576b"
             ],
             [
              0.6666666666666666,
              "#ed7953"
             ],
             [
              0.7777777777777778,
              "#fb9f3a"
             ],
             [
              0.8888888888888888,
              "#fdca26"
             ],
             [
              1,
              "#f0f921"
             ]
            ],
            "type": "contour"
           }
          ],
          "contourcarpet": [
           {
            "colorbar": {
             "outlinewidth": 0,
             "ticks": ""
            },
            "type": "contourcarpet"
           }
          ],
          "heatmap": [
           {
            "colorbar": {
             "outlinewidth": 0,
             "ticks": ""
            },
            "colorscale": [
             [
              0,
              "#0d0887"
             ],
             [
              0.1111111111111111,
              "#46039f"
             ],
             [
              0.2222222222222222,
              "#7201a8"
             ],
             [
              0.3333333333333333,
              "#9c179e"
             ],
             [
              0.4444444444444444,
              "#bd3786"
             ],
             [
              0.5555555555555556,
              "#d8576b"
             ],
             [
              0.6666666666666666,
              "#ed7953"
             ],
             [
              0.7777777777777778,
              "#fb9f3a"
             ],
             [
              0.8888888888888888,
              "#fdca26"
             ],
             [
              1,
              "#f0f921"
             ]
            ],
            "type": "heatmap"
           }
          ],
          "heatmapgl": [
           {
            "colorbar": {
             "outlinewidth": 0,
             "ticks": ""
            },
            "colorscale": [
             [
              0,
              "#0d0887"
             ],
             [
              0.1111111111111111,
              "#46039f"
             ],
             [
              0.2222222222222222,
              "#7201a8"
             ],
             [
              0.3333333333333333,
              "#9c179e"
             ],
             [
              0.4444444444444444,
              "#bd3786"
             ],
             [
              0.5555555555555556,
              "#d8576b"
             ],
             [
              0.6666666666666666,
              "#ed7953"
             ],
             [
              0.7777777777777778,
              "#fb9f3a"
             ],
             [
              0.8888888888888888,
              "#fdca26"
             ],
             [
              1,
              "#f0f921"
             ]
            ],
            "type": "heatmapgl"
           }
          ],
          "histogram": [
           {
            "marker": {
             "colorbar": {
              "outlinewidth": 0,
              "ticks": ""
             }
            },
            "type": "histogram"
           }
          ],
          "histogram2d": [
           {
            "colorbar": {
             "outlinewidth": 0,
             "ticks": ""
            },
            "colorscale": [
             [
              0,
              "#0d0887"
             ],
             [
              0.1111111111111111,
              "#46039f"
             ],
             [
              0.2222222222222222,
              "#7201a8"
             ],
             [
              0.3333333333333333,
              "#9c179e"
             ],
             [
              0.4444444444444444,
              "#bd3786"
             ],
             [
              0.5555555555555556,
              "#d8576b"
             ],
             [
              0.6666666666666666,
              "#ed7953"
             ],
             [
              0.7777777777777778,
              "#fb9f3a"
             ],
             [
              0.8888888888888888,
              "#fdca26"
             ],
             [
              1,
              "#f0f921"
             ]
            ],
            "type": "histogram2d"
           }
          ],
          "histogram2dcontour": [
           {
            "colorbar": {
             "outlinewidth": 0,
             "ticks": ""
            },
            "colorscale": [
             [
              0,
              "#0d0887"
             ],
             [
              0.1111111111111111,
              "#46039f"
             ],
             [
              0.2222222222222222,
              "#7201a8"
             ],
             [
              0.3333333333333333,
              "#9c179e"
             ],
             [
              0.4444444444444444,
              "#bd3786"
             ],
             [
              0.5555555555555556,
              "#d8576b"
             ],
             [
              0.6666666666666666,
              "#ed7953"
             ],
             [
              0.7777777777777778,
              "#fb9f3a"
             ],
             [
              0.8888888888888888,
              "#fdca26"
             ],
             [
              1,
              "#f0f921"
             ]
            ],
            "type": "histogram2dcontour"
           }
          ],
          "mesh3d": [
           {
            "colorbar": {
             "outlinewidth": 0,
             "ticks": ""
            },
            "type": "mesh3d"
           }
          ],
          "parcoords": [
           {
            "line": {
             "colorbar": {
              "outlinewidth": 0,
              "ticks": ""
             }
            },
            "type": "parcoords"
           }
          ],
          "pie": [
           {
            "automargin": true,
            "type": "pie"
           }
          ],
          "scatter": [
           {
            "marker": {
             "colorbar": {
              "outlinewidth": 0,
              "ticks": ""
             }
            },
            "type": "scatter"
           }
          ],
          "scatter3d": [
           {
            "line": {
             "colorbar": {
              "outlinewidth": 0,
              "ticks": ""
             }
            },
            "marker": {
             "colorbar": {
              "outlinewidth": 0,
              "ticks": ""
             }
            },
            "type": "scatter3d"
           }
          ],
          "scattercarpet": [
           {
            "marker": {
             "colorbar": {
              "outlinewidth": 0,
              "ticks": ""
             }
            },
            "type": "scattercarpet"
           }
          ],
          "scattergeo": [
           {
            "marker": {
             "colorbar": {
              "outlinewidth": 0,
              "ticks": ""
             }
            },
            "type": "scattergeo"
           }
          ],
          "scattergl": [
           {
            "marker": {
             "colorbar": {
              "outlinewidth": 0,
              "ticks": ""
             }
            },
            "type": "scattergl"
           }
          ],
          "scattermapbox": [
           {
            "marker": {
             "colorbar": {
              "outlinewidth": 0,
              "ticks": ""
             }
            },
            "type": "scattermapbox"
           }
          ],
          "scatterpolar": [
           {
            "marker": {
             "colorbar": {
              "outlinewidth": 0,
              "ticks": ""
             }
            },
            "type": "scatterpolar"
           }
          ],
          "scatterpolargl": [
           {
            "marker": {
             "colorbar": {
              "outlinewidth": 0,
              "ticks": ""
             }
            },
            "type": "scatterpolargl"
           }
          ],
          "scatterternary": [
           {
            "marker": {
             "colorbar": {
              "outlinewidth": 0,
              "ticks": ""
             }
            },
            "type": "scatterternary"
           }
          ],
          "surface": [
           {
            "colorbar": {
             "outlinewidth": 0,
             "ticks": ""
            },
            "colorscale": [
             [
              0,
              "#0d0887"
             ],
             [
              0.1111111111111111,
              "#46039f"
             ],
             [
              0.2222222222222222,
              "#7201a8"
             ],
             [
              0.3333333333333333,
              "#9c179e"
             ],
             [
              0.4444444444444444,
              "#bd3786"
             ],
             [
              0.5555555555555556,
              "#d8576b"
             ],
             [
              0.6666666666666666,
              "#ed7953"
             ],
             [
              0.7777777777777778,
              "#fb9f3a"
             ],
             [
              0.8888888888888888,
              "#fdca26"
             ],
             [
              1,
              "#f0f921"
             ]
            ],
            "type": "surface"
           }
          ],
          "table": [
           {
            "cells": {
             "fill": {
              "color": "#EBF0F8"
             },
             "line": {
              "color": "white"
             }
            },
            "header": {
             "fill": {
              "color": "#C8D4E3"
             },
             "line": {
              "color": "white"
             }
            },
            "type": "table"
           }
          ]
         },
         "layout": {
          "annotationdefaults": {
           "arrowcolor": "#2a3f5f",
           "arrowhead": 0,
           "arrowwidth": 1
          },
          "coloraxis": {
           "colorbar": {
            "outlinewidth": 0,
            "ticks": ""
           }
          },
          "colorscale": {
           "diverging": [
            [
             0,
             "#8e0152"
            ],
            [
             0.1,
             "#c51b7d"
            ],
            [
             0.2,
             "#de77ae"
            ],
            [
             0.3,
             "#f1b6da"
            ],
            [
             0.4,
             "#fde0ef"
            ],
            [
             0.5,
             "#f7f7f7"
            ],
            [
             0.6,
             "#e6f5d0"
            ],
            [
             0.7,
             "#b8e186"
            ],
            [
             0.8,
             "#7fbc41"
            ],
            [
             0.9,
             "#4d9221"
            ],
            [
             1,
             "#276419"
            ]
           ],
           "sequential": [
            [
             0,
             "#0d0887"
            ],
            [
             0.1111111111111111,
             "#46039f"
            ],
            [
             0.2222222222222222,
             "#7201a8"
            ],
            [
             0.3333333333333333,
             "#9c179e"
            ],
            [
             0.4444444444444444,
             "#bd3786"
            ],
            [
             0.5555555555555556,
             "#d8576b"
            ],
            [
             0.6666666666666666,
             "#ed7953"
            ],
            [
             0.7777777777777778,
             "#fb9f3a"
            ],
            [
             0.8888888888888888,
             "#fdca26"
            ],
            [
             1,
             "#f0f921"
            ]
           ],
           "sequentialminus": [
            [
             0,
             "#0d0887"
            ],
            [
             0.1111111111111111,
             "#46039f"
            ],
            [
             0.2222222222222222,
             "#7201a8"
            ],
            [
             0.3333333333333333,
             "#9c179e"
            ],
            [
             0.4444444444444444,
             "#bd3786"
            ],
            [
             0.5555555555555556,
             "#d8576b"
            ],
            [
             0.6666666666666666,
             "#ed7953"
            ],
            [
             0.7777777777777778,
             "#fb9f3a"
            ],
            [
             0.8888888888888888,
             "#fdca26"
            ],
            [
             1,
             "#f0f921"
            ]
           ]
          },
          "colorway": [
           "#636efa",
           "#EF553B",
           "#00cc96",
           "#ab63fa",
           "#FFA15A",
           "#19d3f3",
           "#FF6692",
           "#B6E880",
           "#FF97FF",
           "#FECB52"
          ],
          "font": {
           "color": "#2a3f5f"
          },
          "geo": {
           "bgcolor": "white",
           "lakecolor": "white",
           "landcolor": "#E5ECF6",
           "showlakes": true,
           "showland": true,
           "subunitcolor": "white"
          },
          "hoverlabel": {
           "align": "left"
          },
          "hovermode": "closest",
          "mapbox": {
           "style": "light"
          },
          "paper_bgcolor": "white",
          "plot_bgcolor": "#E5ECF6",
          "polar": {
           "angularaxis": {
            "gridcolor": "white",
            "linecolor": "white",
            "ticks": ""
           },
           "bgcolor": "#E5ECF6",
           "radialaxis": {
            "gridcolor": "white",
            "linecolor": "white",
            "ticks": ""
           }
          },
          "scene": {
           "xaxis": {
            "backgroundcolor": "#E5ECF6",
            "gridcolor": "white",
            "gridwidth": 2,
            "linecolor": "white",
            "showbackground": true,
            "ticks": "",
            "zerolinecolor": "white"
           },
           "yaxis": {
            "backgroundcolor": "#E5ECF6",
            "gridcolor": "white",
            "gridwidth": 2,
            "linecolor": "white",
            "showbackground": true,
            "ticks": "",
            "zerolinecolor": "white"
           },
           "zaxis": {
            "backgroundcolor": "#E5ECF6",
            "gridcolor": "white",
            "gridwidth": 2,
            "linecolor": "white",
            "showbackground": true,
            "ticks": "",
            "zerolinecolor": "white"
           }
          },
          "shapedefaults": {
           "line": {
            "color": "#2a3f5f"
           }
          },
          "ternary": {
           "aaxis": {
            "gridcolor": "white",
            "linecolor": "white",
            "ticks": ""
           },
           "baxis": {
            "gridcolor": "white",
            "linecolor": "white",
            "ticks": ""
           },
           "bgcolor": "#E5ECF6",
           "caxis": {
            "gridcolor": "white",
            "linecolor": "white",
            "ticks": ""
           }
          },
          "title": {
           "x": 0.05
          },
          "xaxis": {
           "automargin": true,
           "gridcolor": "white",
           "linecolor": "white",
           "ticks": "",
           "title": {
            "standoff": 15
           },
           "zerolinecolor": "white",
           "zerolinewidth": 2
          },
          "yaxis": {
           "automargin": true,
           "gridcolor": "white",
           "linecolor": "white",
           "ticks": "",
           "title": {
            "standoff": 15
           },
           "zerolinecolor": "white",
           "zerolinewidth": 2
          }
         }
        }
       }
      }
     },
     "metadata": {}
    }
   ],
   "source": [
    "%matplotlib inline\n",
    "import matplotlib.pyplot as plt\n",
    "import pandas as pd\n",
    "import random\n",
    "import plotly.graph_objects as go\n",
    "import plotly.express as px\n",
    "\n",
    "dataframe = pd.DataFrame(pd.read_csv(\"../Datasets/Clean/cleaned_dataset_train.csv\", skiprows=lambda i: i > 0 and random.random() > 0.001))\n",
    "\n",
    "fig = go.Figure(data=[\n",
    "    go.Bar(name = 'Base Price', x = dataframe.cuisine, y = dataframe.base_price),\n",
    "    go.Bar(name ='Checkout Price', x = dataframe.cuisine, y = dataframe.checkout_price)\n",
    "])\n",
    "# Change the bar mode\n",
    "fig.update_layout(barmode='group')\n",
    "fig.show()\n",
    ""
   ]
  },
  {
   "cell_type": "code",
   "execution_count": 6,
   "metadata": {},
   "outputs": [
    {
     "output_type": "display_data",
     "data": {
      "application/vnd.plotly.v1+json": {
       "config": {
        "plotlyServerURL": "https://plot.ly"
       },
       "data": [
        {
         "domain": {
          "x": [
           0,
           1
          ],
          "y": [
           0,
           1
          ]
         },
         "hoverlabel": {
          "namelength": 0
         },
         "hovertemplate": "center_type=%{label}<br>num_orders=%{value}",
         "labels": [
          2,
          1,
          1,
          0,
          0,
          0,
          1,
          1,
          0,
          2,
          0,
          2,
          2,
          2,
          1,
          1,
          0,
          1,
          0,
          2,
          2,
          0,
          1,
          0,
          0,
          2,
          0,
          0,
          1,
          1,
          1,
          1,
          0,
          0,
          0,
          0,
          0,
          0,
          0,
          2,
          1,
          1,
          1,
          1,
          0,
          0,
          0,
          0,
          1,
          2,
          2,
          0,
          0,
          0,
          0,
          2,
          1,
          0,
          0,
          2,
          2,
          2,
          0,
          0,
          0,
          0,
          0,
          0,
          0,
          0,
          0,
          0,
          0,
          0,
          0,
          1,
          1,
          2,
          1,
          1,
          1,
          2,
          2,
          2,
          0,
          0,
          0,
          0,
          0,
          0,
          2,
          0,
          0,
          0,
          0,
          1,
          1,
          0,
          0,
          0
         ],
         "legendgroup": "",
         "name": "",
         "showlegend": true,
         "type": "pie",
         "values": [
          41,
          69,
          109,
          2078,
          743,
          122,
          541,
          405,
          296,
          176,
          55,
          26,
          404,
          567,
          393,
          28,
          26,
          41,
          310,
          67,
          109,
          15,
          701,
          27,
          14,
          69,
          433,
          41,
          810,
          53,
          258,
          42,
          53,
          82,
          134,
          190,
          285,
          26,
          27,
          108,
          121,
          298,
          80,
          177,
          296,
          783,
          717,
          123,
          649,
          269,
          55,
          41,
          40,
          94,
          109,
          27,
          1417,
          566,
          108,
          161,
          96,
          27,
          175,
          121,
          14,
          28,
          27,
          378,
          216,
          176,
          42,
          109,
          27,
          14,
          26,
          81,
          27,
          135,
          80,
          80,
          163,
          69,
          28,
          15,
          2025,
          42,
          40,
          40,
          161,
          418,
          163,
          393,
          41,
          837,
          26,
          13,
          377,
          203,
          13,
          80
         ]
        }
       ],
       "layout": {
        "legend": {
         "tracegroupgap": 0
        },
        "margin": {
         "t": 60
        },
        "template": {
         "data": {
          "bar": [
           {
            "error_x": {
             "color": "#2a3f5f"
            },
            "error_y": {
             "color": "#2a3f5f"
            },
            "marker": {
             "line": {
              "color": "#E5ECF6",
              "width": 0.5
             }
            },
            "type": "bar"
           }
          ],
          "barpolar": [
           {
            "marker": {
             "line": {
              "color": "#E5ECF6",
              "width": 0.5
             }
            },
            "type": "barpolar"
           }
          ],
          "carpet": [
           {
            "aaxis": {
             "endlinecolor": "#2a3f5f",
             "gridcolor": "white",
             "linecolor": "white",
             "minorgridcolor": "white",
             "startlinecolor": "#2a3f5f"
            },
            "baxis": {
             "endlinecolor": "#2a3f5f",
             "gridcolor": "white",
             "linecolor": "white",
             "minorgridcolor": "white",
             "startlinecolor": "#2a3f5f"
            },
            "type": "carpet"
           }
          ],
          "choropleth": [
           {
            "colorbar": {
             "outlinewidth": 0,
             "ticks": ""
            },
            "type": "choropleth"
           }
          ],
          "contour": [
           {
            "colorbar": {
             "outlinewidth": 0,
             "ticks": ""
            },
            "colorscale": [
             [
              0,
              "#0d0887"
             ],
             [
              0.1111111111111111,
              "#46039f"
             ],
             [
              0.2222222222222222,
              "#7201a8"
             ],
             [
              0.3333333333333333,
              "#9c179e"
             ],
             [
              0.4444444444444444,
              "#bd3786"
             ],
             [
              0.5555555555555556,
              "#d8576b"
             ],
             [
              0.6666666666666666,
              "#ed7953"
             ],
             [
              0.7777777777777778,
              "#fb9f3a"
             ],
             [
              0.8888888888888888,
              "#fdca26"
             ],
             [
              1,
              "#f0f921"
             ]
            ],
            "type": "contour"
           }
          ],
          "contourcarpet": [
           {
            "colorbar": {
             "outlinewidth": 0,
             "ticks": ""
            },
            "type": "contourcarpet"
           }
          ],
          "heatmap": [
           {
            "colorbar": {
             "outlinewidth": 0,
             "ticks": ""
            },
            "colorscale": [
             [
              0,
              "#0d0887"
             ],
             [
              0.1111111111111111,
              "#46039f"
             ],
             [
              0.2222222222222222,
              "#7201a8"
             ],
             [
              0.3333333333333333,
              "#9c179e"
             ],
             [
              0.4444444444444444,
              "#bd3786"
             ],
             [
              0.5555555555555556,
              "#d8576b"
             ],
             [
              0.6666666666666666,
              "#ed7953"
             ],
             [
              0.7777777777777778,
              "#fb9f3a"
             ],
             [
              0.8888888888888888,
              "#fdca26"
             ],
             [
              1,
              "#f0f921"
             ]
            ],
            "type": "heatmap"
           }
          ],
          "heatmapgl": [
           {
            "colorbar": {
             "outlinewidth": 0,
             "ticks": ""
            },
            "colorscale": [
             [
              0,
              "#0d0887"
             ],
             [
              0.1111111111111111,
              "#46039f"
             ],
             [
              0.2222222222222222,
              "#7201a8"
             ],
             [
              0.3333333333333333,
              "#9c179e"
             ],
             [
              0.4444444444444444,
              "#bd3786"
             ],
             [
              0.5555555555555556,
              "#d8576b"
             ],
             [
              0.6666666666666666,
              "#ed7953"
             ],
             [
              0.7777777777777778,
              "#fb9f3a"
             ],
             [
              0.8888888888888888,
              "#fdca26"
             ],
             [
              1,
              "#f0f921"
             ]
            ],
            "type": "heatmapgl"
           }
          ],
          "histogram": [
           {
            "marker": {
             "colorbar": {
              "outlinewidth": 0,
              "ticks": ""
             }
            },
            "type": "histogram"
           }
          ],
          "histogram2d": [
           {
            "colorbar": {
             "outlinewidth": 0,
             "ticks": ""
            },
            "colorscale": [
             [
              0,
              "#0d0887"
             ],
             [
              0.1111111111111111,
              "#46039f"
             ],
             [
              0.2222222222222222,
              "#7201a8"
             ],
             [
              0.3333333333333333,
              "#9c179e"
             ],
             [
              0.4444444444444444,
              "#bd3786"
             ],
             [
              0.5555555555555556,
              "#d8576b"
             ],
             [
              0.6666666666666666,
              "#ed7953"
             ],
             [
              0.7777777777777778,
              "#fb9f3a"
             ],
             [
              0.8888888888888888,
              "#fdca26"
             ],
             [
              1,
              "#f0f921"
             ]
            ],
            "type": "histogram2d"
           }
          ],
          "histogram2dcontour": [
           {
            "colorbar": {
             "outlinewidth": 0,
             "ticks": ""
            },
            "colorscale": [
             [
              0,
              "#0d0887"
             ],
             [
              0.1111111111111111,
              "#46039f"
             ],
             [
              0.2222222222222222,
              "#7201a8"
             ],
             [
              0.3333333333333333,
              "#9c179e"
             ],
             [
              0.4444444444444444,
              "#bd3786"
             ],
             [
              0.5555555555555556,
              "#d8576b"
             ],
             [
              0.6666666666666666,
              "#ed7953"
             ],
             [
              0.7777777777777778,
              "#fb9f3a"
             ],
             [
              0.8888888888888888,
              "#fdca26"
             ],
             [
              1,
              "#f0f921"
             ]
            ],
            "type": "histogram2dcontour"
           }
          ],
          "mesh3d": [
           {
            "colorbar": {
             "outlinewidth": 0,
             "ticks": ""
            },
            "type": "mesh3d"
           }
          ],
          "parcoords": [
           {
            "line": {
             "colorbar": {
              "outlinewidth": 0,
              "ticks": ""
             }
            },
            "type": "parcoords"
           }
          ],
          "pie": [
           {
            "automargin": true,
            "type": "pie"
           }
          ],
          "scatter": [
           {
            "marker": {
             "colorbar": {
              "outlinewidth": 0,
              "ticks": ""
             }
            },
            "type": "scatter"
           }
          ],
          "scatter3d": [
           {
            "line": {
             "colorbar": {
              "outlinewidth": 0,
              "ticks": ""
             }
            },
            "marker": {
             "colorbar": {
              "outlinewidth": 0,
              "ticks": ""
             }
            },
            "type": "scatter3d"
           }
          ],
          "scattercarpet": [
           {
            "marker": {
             "colorbar": {
              "outlinewidth": 0,
              "ticks": ""
             }
            },
            "type": "scattercarpet"
           }
          ],
          "scattergeo": [
           {
            "marker": {
             "colorbar": {
              "outlinewidth": 0,
              "ticks": ""
             }
            },
            "type": "scattergeo"
           }
          ],
          "scattergl": [
           {
            "marker": {
             "colorbar": {
              "outlinewidth": 0,
              "ticks": ""
             }
            },
            "type": "scattergl"
           }
          ],
          "scattermapbox": [
           {
            "marker": {
             "colorbar": {
              "outlinewidth": 0,
              "ticks": ""
             }
            },
            "type": "scattermapbox"
           }
          ],
          "scatterpolar": [
           {
            "marker": {
             "colorbar": {
              "outlinewidth": 0,
              "ticks": ""
             }
            },
            "type": "scatterpolar"
           }
          ],
          "scatterpolargl": [
           {
            "marker": {
             "colorbar": {
              "outlinewidth": 0,
              "ticks": ""
             }
            },
            "type": "scatterpolargl"
           }
          ],
          "scatterternary": [
           {
            "marker": {
             "colorbar": {
              "outlinewidth": 0,
              "ticks": ""
             }
            },
            "type": "scatterternary"
           }
          ],
          "surface": [
           {
            "colorbar": {
             "outlinewidth": 0,
             "ticks": ""
            },
            "colorscale": [
             [
              0,
              "#0d0887"
             ],
             [
              0.1111111111111111,
              "#46039f"
             ],
             [
              0.2222222222222222,
              "#7201a8"
             ],
             [
              0.3333333333333333,
              "#9c179e"
             ],
             [
              0.4444444444444444,
              "#bd3786"
             ],
             [
              0.5555555555555556,
              "#d8576b"
             ],
             [
              0.6666666666666666,
              "#ed7953"
             ],
             [
              0.7777777777777778,
              "#fb9f3a"
             ],
             [
              0.8888888888888888,
              "#fdca26"
             ],
             [
              1,
              "#f0f921"
             ]
            ],
            "type": "surface"
           }
          ],
          "table": [
           {
            "cells": {
             "fill": {
              "color": "#EBF0F8"
             },
             "line": {
              "color": "white"
             }
            },
            "header": {
             "fill": {
              "color": "#C8D4E3"
             },
             "line": {
              "color": "white"
             }
            },
            "type": "table"
           }
          ]
         },
         "layout": {
          "annotationdefaults": {
           "arrowcolor": "#2a3f5f",
           "arrowhead": 0,
           "arrowwidth": 1
          },
          "coloraxis": {
           "colorbar": {
            "outlinewidth": 0,
            "ticks": ""
           }
          },
          "colorscale": {
           "diverging": [
            [
             0,
             "#8e0152"
            ],
            [
             0.1,
             "#c51b7d"
            ],
            [
             0.2,
             "#de77ae"
            ],
            [
             0.3,
             "#f1b6da"
            ],
            [
             0.4,
             "#fde0ef"
            ],
            [
             0.5,
             "#f7f7f7"
            ],
            [
             0.6,
             "#e6f5d0"
            ],
            [
             0.7,
             "#b8e186"
            ],
            [
             0.8,
             "#7fbc41"
            ],
            [
             0.9,
             "#4d9221"
            ],
            [
             1,
             "#276419"
            ]
           ],
           "sequential": [
            [
             0,
             "#0d0887"
            ],
            [
             0.1111111111111111,
             "#46039f"
            ],
            [
             0.2222222222222222,
             "#7201a8"
            ],
            [
             0.3333333333333333,
             "#9c179e"
            ],
            [
             0.4444444444444444,
             "#bd3786"
            ],
            [
             0.5555555555555556,
             "#d8576b"
            ],
            [
             0.6666666666666666,
             "#ed7953"
            ],
            [
             0.7777777777777778,
             "#fb9f3a"
            ],
            [
             0.8888888888888888,
             "#fdca26"
            ],
            [
             1,
             "#f0f921"
            ]
           ],
           "sequentialminus": [
            [
             0,
             "#0d0887"
            ],
            [
             0.1111111111111111,
             "#46039f"
            ],
            [
             0.2222222222222222,
             "#7201a8"
            ],
            [
             0.3333333333333333,
             "#9c179e"
            ],
            [
             0.4444444444444444,
             "#bd3786"
            ],
            [
             0.5555555555555556,
             "#d8576b"
            ],
            [
             0.6666666666666666,
             "#ed7953"
            ],
            [
             0.7777777777777778,
             "#fb9f3a"
            ],
            [
             0.8888888888888888,
             "#fdca26"
            ],
            [
             1,
             "#f0f921"
            ]
           ]
          },
          "colorway": [
           "#636efa",
           "#EF553B",
           "#00cc96",
           "#ab63fa",
           "#FFA15A",
           "#19d3f3",
           "#FF6692",
           "#B6E880",
           "#FF97FF",
           "#FECB52"
          ],
          "font": {
           "color": "#2a3f5f"
          },
          "geo": {
           "bgcolor": "white",
           "lakecolor": "white",
           "landcolor": "#E5ECF6",
           "showlakes": true,
           "showland": true,
           "subunitcolor": "white"
          },
          "hoverlabel": {
           "align": "left"
          },
          "hovermode": "closest",
          "mapbox": {
           "style": "light"
          },
          "paper_bgcolor": "white",
          "plot_bgcolor": "#E5ECF6",
          "polar": {
           "angularaxis": {
            "gridcolor": "white",
            "linecolor": "white",
            "ticks": ""
           },
           "bgcolor": "#E5ECF6",
           "radialaxis": {
            "gridcolor": "white",
            "linecolor": "white",
            "ticks": ""
           }
          },
          "scene": {
           "xaxis": {
            "backgroundcolor": "#E5ECF6",
            "gridcolor": "white",
            "gridwidth": 2,
            "linecolor": "white",
            "showbackground": true,
            "ticks": "",
            "zerolinecolor": "white"
           },
           "yaxis": {
            "backgroundcolor": "#E5ECF6",
            "gridcolor": "white",
            "gridwidth": 2,
            "linecolor": "white",
            "showbackground": true,
            "ticks": "",
            "zerolinecolor": "white"
           },
           "zaxis": {
            "backgroundcolor": "#E5ECF6",
            "gridcolor": "white",
            "gridwidth": 2,
            "linecolor": "white",
            "showbackground": true,
            "ticks": "",
            "zerolinecolor": "white"
           }
          },
          "shapedefaults": {
           "line": {
            "color": "#2a3f5f"
           }
          },
          "ternary": {
           "aaxis": {
            "gridcolor": "white",
            "linecolor": "white",
            "ticks": ""
           },
           "baxis": {
            "gridcolor": "white",
            "linecolor": "white",
            "ticks": ""
           },
           "bgcolor": "#E5ECF6",
           "caxis": {
            "gridcolor": "white",
            "linecolor": "white",
            "ticks": ""
           }
          },
          "title": {
           "x": 0.05
          },
          "xaxis": {
           "automargin": true,
           "gridcolor": "white",
           "linecolor": "white",
           "ticks": "",
           "title": {
            "standoff": 15
           },
           "zerolinecolor": "white",
           "zerolinewidth": 2
          },
          "yaxis": {
           "automargin": true,
           "gridcolor": "white",
           "linecolor": "white",
           "ticks": "",
           "title": {
            "standoff": 15
           },
           "zerolinecolor": "white",
           "zerolinewidth": 2
          }
         }
        }
       }
      }
     },
     "metadata": {}
    }
   ],
   "source": [
    "def discount(value):\n",
    "    diff = value['base_price'] - value['checkout_price']\n",
    "    if diff >= 0:\n",
    "        return 'Taxed'\n",
    "    else:\n",
    "        return 'Discount'\n",
    "\n",
    "dataframe['if_discount'] = dataframe[['base_price', 'checkout_price']].apply(discount, 1)\n",
    "\n",
    "discount_data = dataframe.loc[dataframe[\"if_discount\"] == \"Discount\"]\n",
    "fig = px.pie( discount_data , values = discount_data[\"num_orders\"] , names = discount_data[\"center_type\"])\n",
    "fig.show()"
   ]
  },
  {
   "cell_type": "code",
   "execution_count": 8,
   "metadata": {},
   "outputs": [
    {
     "output_type": "execute_result",
     "data": {
      "text/plain": "         cuisine  center_type\n0           Thai            2\n1        Italian            2\n2    Continental            2\n3    Continental            2\n4         Indian            2\n..           ...          ...\n429         Thai            0\n430  Continental            0\n431       Indian            0\n432      Italian            0\n433         Thai            0\n\n[434 rows x 2 columns]",
      "text/html": "<div>\n<style scoped>\n    .dataframe tbody tr th:only-of-type {\n        vertical-align: middle;\n    }\n\n    .dataframe tbody tr th {\n        vertical-align: top;\n    }\n\n    .dataframe thead th {\n        text-align: right;\n    }\n</style>\n<table border=\"1\" class=\"dataframe\">\n  <thead>\n    <tr style=\"text-align: right;\">\n      <th></th>\n      <th>cuisine</th>\n      <th>center_type</th>\n    </tr>\n  </thead>\n  <tbody>\n    <tr>\n      <td>0</td>\n      <td>Thai</td>\n      <td>2</td>\n    </tr>\n    <tr>\n      <td>1</td>\n      <td>Italian</td>\n      <td>2</td>\n    </tr>\n    <tr>\n      <td>2</td>\n      <td>Continental</td>\n      <td>2</td>\n    </tr>\n    <tr>\n      <td>3</td>\n      <td>Continental</td>\n      <td>2</td>\n    </tr>\n    <tr>\n      <td>4</td>\n      <td>Indian</td>\n      <td>2</td>\n    </tr>\n    <tr>\n      <td>...</td>\n      <td>...</td>\n      <td>...</td>\n    </tr>\n    <tr>\n      <td>429</td>\n      <td>Thai</td>\n      <td>0</td>\n    </tr>\n    <tr>\n      <td>430</td>\n      <td>Continental</td>\n      <td>0</td>\n    </tr>\n    <tr>\n      <td>431</td>\n      <td>Indian</td>\n      <td>0</td>\n    </tr>\n    <tr>\n      <td>432</td>\n      <td>Italian</td>\n      <td>0</td>\n    </tr>\n    <tr>\n      <td>433</td>\n      <td>Thai</td>\n      <td>0</td>\n    </tr>\n  </tbody>\n</table>\n<p>434 rows × 2 columns</p>\n</div>"
     },
     "metadata": {},
     "execution_count": 8
    }
   ],
   "source": [
    "dataframe[[\"cuisine\",\"center_type\"]]"
   ]
  },
  {
   "cell_type": "code",
   "execution_count": 10,
   "metadata": {},
   "outputs": [
    {
     "output_type": "display_data",
     "data": {
      "application/vnd.plotly.v1+json": {
       "config": {
        "plotlyServerURL": "https://plot.ly"
       },
       "data": [
        {
         "mode": "markers",
         "name": "Email not used for promotion",
         "type": "scatter",
         "x": [
          "Thai",
          "Italian",
          "Continental",
          "Continental",
          "Indian",
          "Thai",
          "Continental",
          "Continental",
          "Thai",
          "Thai",
          "Indian",
          "Italian",
          "Italian",
          "Thai",
          "Indian",
          "Thai",
          "Thai",
          "Indian",
          "Indian",
          "Continental",
          "Continental",
          "Thai",
          "Thai",
          "Italian",
          "Indian",
          "Thai",
          "Continental",
          "Indian",
          "Italian",
          "Indian",
          "Italian",
          "Italian",
          "Italian",
          "Italian",
          "Continental",
          "Thai",
          "Thai",
          "Indian",
          "Indian",
          "Thai",
          "Thai",
          "Indian",
          "Thai",
          "Continental",
          "Indian",
          "Continental",
          "Thai",
          "Indian",
          "Italian",
          "Indian",
          "Italian",
          "Italian",
          "Thai",
          "Thai",
          "Thai",
          "Thai",
          "Thai",
          "Indian",
          "Thai",
          "Italian",
          "Italian",
          "Continental",
          "Italian",
          "Italian",
          "Indian",
          "Continental",
          "Thai",
          "Indian",
          "Italian",
          "Indian",
          "Italian",
          "Italian",
          "Italian",
          "Italian",
          "Italian",
          "Continental",
          "Indian",
          "Indian",
          "Thai",
          "Indian",
          "Thai",
          "Thai",
          "Indian",
          "Thai",
          "Indian",
          "Italian",
          "Indian",
          "Italian",
          "Thai",
          "Indian",
          "Indian",
          "Italian",
          "Italian",
          "Italian",
          "Italian",
          "Thai",
          "Thai",
          "Indian",
          "Thai",
          "Indian",
          "Thai",
          "Indian",
          "Continental",
          "Continental",
          "Thai",
          "Thai",
          "Italian",
          "Italian",
          "Indian",
          "Indian",
          "Thai",
          "Thai",
          "Thai",
          "Indian",
          "Continental",
          "Indian",
          "Thai",
          "Indian",
          "Indian",
          "Thai",
          "Indian",
          "Italian",
          "Italian",
          "Italian",
          "Thai",
          "Indian",
          "Thai",
          "Thai",
          "Continental",
          "Continental",
          "Indian",
          "Indian",
          "Thai",
          "Thai",
          "Thai",
          "Continental",
          "Italian",
          "Indian",
          "Italian",
          "Italian",
          "Continental",
          "Indian",
          "Continental",
          "Indian",
          "Indian",
          "Indian",
          "Italian",
          "Continental",
          "Thai",
          "Thai",
          "Indian",
          "Thai",
          "Thai",
          "Thai",
          "Thai",
          "Continental",
          "Thai",
          "Italian",
          "Italian",
          "Italian",
          "Indian",
          "Indian",
          "Thai",
          "Thai",
          "Italian",
          "Indian",
          "Thai",
          "Italian",
          "Thai",
          "Indian",
          "Continental",
          "Continental",
          "Thai",
          "Thai",
          "Indian",
          "Italian",
          "Italian",
          "Italian",
          "Continental",
          "Thai",
          "Italian",
          "Continental",
          "Indian",
          "Indian",
          "Italian",
          "Indian",
          "Indian",
          "Continental",
          "Italian",
          "Indian",
          "Italian",
          "Indian",
          "Thai",
          "Indian",
          "Italian",
          "Indian",
          "Italian",
          "Indian",
          "Continental",
          "Thai",
          "Indian",
          "Thai",
          "Continental",
          "Continental",
          "Continental",
          "Italian",
          "Italian",
          "Continental",
          "Thai",
          "Thai",
          "Thai",
          "Italian",
          "Italian",
          "Italian",
          "Italian",
          "Indian",
          "Indian",
          "Italian",
          "Italian",
          "Thai",
          "Thai",
          "Indian",
          "Indian",
          "Italian",
          "Continental",
          "Continental",
          "Italian",
          "Italian",
          "Italian",
          "Italian",
          "Continental",
          "Italian",
          "Thai",
          "Italian",
          "Thai",
          "Continental",
          "Italian",
          "Indian",
          "Indian",
          "Thai",
          "Indian",
          "Indian",
          "Continental",
          "Thai",
          "Italian",
          "Continental",
          "Italian",
          "Thai",
          "Thai",
          "Italian",
          "Indian",
          "Indian",
          "Thai",
          "Italian",
          "Indian",
          "Italian",
          "Continental",
          "Indian",
          "Indian",
          "Italian",
          "Thai",
          "Thai",
          "Thai",
          "Thai",
          "Italian",
          "Thai",
          "Thai",
          "Italian",
          "Indian",
          "Thai",
          "Thai",
          "Indian",
          "Thai",
          "Thai",
          "Indian",
          "Continental",
          "Continental",
          "Italian",
          "Thai",
          "Continental",
          "Continental",
          "Indian",
          "Italian",
          "Continental",
          "Thai",
          "Italian",
          "Italian",
          "Indian",
          "Thai",
          "Thai",
          "Thai",
          "Italian",
          "Indian",
          "Thai",
          "Thai",
          "Thai",
          "Italian",
          "Thai",
          "Thai",
          "Italian",
          "Indian",
          "Italian",
          "Indian",
          "Continental",
          "Continental",
          "Thai",
          "Indian",
          "Italian",
          "Thai",
          "Continental",
          "Continental",
          "Continental",
          "Thai",
          "Thai",
          "Indian",
          "Indian",
          "Continental",
          "Thai",
          "Indian",
          "Italian",
          "Italian",
          "Continental",
          "Indian",
          "Thai",
          "Indian",
          "Indian",
          "Continental",
          "Indian",
          "Thai",
          "Thai",
          "Indian",
          "Thai",
          "Thai",
          "Continental",
          "Continental",
          "Indian",
          "Indian",
          "Continental",
          "Continental",
          "Thai",
          "Thai",
          "Indian",
          "Continental",
          "Indian",
          "Italian",
          "Italian",
          "Thai",
          "Continental",
          "Indian",
          "Indian",
          "Indian",
          "Italian",
          "Italian",
          "Italian",
          "Italian",
          "Thai",
          "Italian",
          "Thai",
          "Thai",
          "Thai",
          "Italian",
          "Italian",
          "Indian",
          "Continental",
          "Italian",
          "Continental",
          "Continental",
          "Thai",
          "Thai",
          "Continental",
          "Italian",
          "Italian",
          "Indian",
          "Indian",
          "Indian",
          "Indian",
          "Indian",
          "Italian",
          "Indian",
          "Italian",
          "Italian",
          "Continental",
          "Thai",
          "Thai",
          "Continental",
          "Thai",
          "Thai",
          "Italian",
          "Continental",
          "Thai",
          "Indian",
          "Italian",
          "Thai"
         ],
         "y": [
          190,
          460,
          41,
          107,
          379,
          1295,
          69,
          109,
          2078,
          1201,
          67,
          202,
          82,
          539,
          53,
          28,
          163,
          743,
          270,
          107,
          55,
          215,
          121,
          231,
          283,
          204,
          14,
          42,
          243,
          743,
          352,
          810,
          607,
          959,
          418,
          609,
          310,
          67,
          81,
          648,
          473,
          54,
          1067,
          96,
          256,
          122,
          41,
          121,
          1121,
          1013,
          783,
          135,
          541,
          215,
          134,
          53,
          405,
          42,
          404,
          41,
          54,
          26,
          296,
          431,
          1081,
          188,
          176,
          13,
          135,
          94,
          122,
          148,
          176,
          55,
          595,
          148,
          1566,
          501,
          53,
          13,
          108,
          13,
          40,
          68,
          53,
          190,
          269,
          271,
          134,
          26,
          41,
          404,
          298,
          567,
          405,
          393,
          607,
          42,
          188,
          28,
          1066,
          26,
          298,
          40,
          216,
          68,
          190,
          149,
          67,
          500,
          445,
          323,
          204,
          41,
          324,
          310,
          69,
          41,
          40,
          177,
          53,
          474,
          41,
          231,
          67,
          27,
          134,
          81,
          109,
          216,
          15,
          337,
          150,
          68,
          701,
          350,
          27,
          14,
          312,
          377,
          204,
          243,
          69,
          582,
          431,
          433,
          539,
          26,
          41,
          55,
          82,
          810,
          636,
          53,
          69,
          135,
          15,
          512,
          528,
          258,
          53,
          42,
          406,
          337,
          188,
          122,
          53,
          148,
          242,
          122,
          150,
          82,
          134,
          55,
          15,
          190,
          285,
          26,
          14,
          55,
          41,
          620,
          135,
          242,
          41,
          13,
          28,
          108,
          42,
          339,
          406,
          15,
          54,
          26,
          243,
          28,
          447,
          391,
          176,
          15,
          14,
          392,
          215,
          27,
          40,
          176,
          161,
          135,
          109,
          28,
          41,
          136,
          81,
          271,
          149,
          258,
          108,
          121,
          298,
          202,
          177,
          26,
          296,
          69,
          68,
          14,
          53,
          163,
          107,
          150,
          27,
          433,
          136,
          432,
          783,
          148,
          203,
          53,
          717,
          243,
          123,
          649,
          42,
          269,
          837,
          150,
          55,
          28,
          26,
          418,
          14,
          41,
          40,
          364,
          94,
          177,
          109,
          40,
          13,
          26,
          27,
          2146,
          1417,
          432,
          701,
          271,
          176,
          283,
          566,
          108,
          190,
          42,
          161,
          107,
          94,
          40,
          96,
          217,
          257,
          108,
          82,
          40,
          96,
          474,
          27,
          379,
          393,
          350,
          175,
          501,
          121,
          27,
          14,
          94,
          28,
          27,
          378,
          216,
          81,
          176,
          149,
          257,
          42,
          42,
          135,
          311,
          68,
          244,
          109,
          27,
          42,
          14,
          26,
          379,
          81,
          635,
          94,
          81,
          27,
          744,
          269,
          135,
          15,
          689,
          351,
          80,
          80,
          163,
          296,
          270,
          69,
          28,
          135,
          42,
          134,
          365,
          405,
          135,
          13,
          15,
          55,
          54,
          134,
          2025,
          42,
          310,
          297,
          42,
          28,
          40,
          40,
          123,
          161,
          418,
          123,
          163,
          594,
          82,
          257,
          203,
          189,
          69,
          54,
          393,
          162,
          216,
          81,
          41,
          189,
          14,
          94,
          472,
          68,
          420,
          837,
          15,
          26,
          41,
          391,
          13,
          377,
          40,
          203,
          121,
          13,
          26,
          136,
          296,
          80,
          393,
          311,
          41,
          40
         ]
        },
        {
         "mode": "markers",
         "name": "Email used for promotion",
         "type": "scatter",
         "x": [
          "Italian",
          "Continental",
          "Italian",
          "Italian",
          "Italian",
          "Italian",
          "Continental",
          "Continental",
          "Continental",
          "Italian",
          "Italian",
          "Continental",
          "Continental",
          "Continental",
          "Italian",
          "Continental",
          "Indian",
          "Indian",
          "Italian",
          "Continental",
          "Thai",
          "Indian",
          "Italian",
          "Italian",
          "Thai",
          "Indian",
          "Indian",
          "Continental",
          "Continental",
          "Italian",
          "Italian",
          "Continental",
          "Italian",
          "Continental",
          "Thai",
          "Continental",
          "Continental",
          "Italian",
          "Italian",
          "Italian",
          "Continental"
         ],
         "y": [
          932,
          393,
          297,
          54,
          1108,
          2430,
          216,
          188,
          96,
          175,
          1066,
          406,
          177,
          312,
          69,
          80,
          109,
          95,
          460,
          162,
          1700,
          82,
          1283,
          4254,
          540,
          1135,
          297,
          405,
          135,
          69,
          189,
          555,
          404,
          270,
          2323,
          296,
          500,
          15,
          1148,
          1877,
          94
         ]
        }
       ],
       "layout": {
        "template": {
         "data": {
          "bar": [
           {
            "error_x": {
             "color": "#2a3f5f"
            },
            "error_y": {
             "color": "#2a3f5f"
            },
            "marker": {
             "line": {
              "color": "#E5ECF6",
              "width": 0.5
             }
            },
            "type": "bar"
           }
          ],
          "barpolar": [
           {
            "marker": {
             "line": {
              "color": "#E5ECF6",
              "width": 0.5
             }
            },
            "type": "barpolar"
           }
          ],
          "carpet": [
           {
            "aaxis": {
             "endlinecolor": "#2a3f5f",
             "gridcolor": "white",
             "linecolor": "white",
             "minorgridcolor": "white",
             "startlinecolor": "#2a3f5f"
            },
            "baxis": {
             "endlinecolor": "#2a3f5f",
             "gridcolor": "white",
             "linecolor": "white",
             "minorgridcolor": "white",
             "startlinecolor": "#2a3f5f"
            },
            "type": "carpet"
           }
          ],
          "choropleth": [
           {
            "colorbar": {
             "outlinewidth": 0,
             "ticks": ""
            },
            "type": "choropleth"
           }
          ],
          "contour": [
           {
            "colorbar": {
             "outlinewidth": 0,
             "ticks": ""
            },
            "colorscale": [
             [
              0,
              "#0d0887"
             ],
             [
              0.1111111111111111,
              "#46039f"
             ],
             [
              0.2222222222222222,
              "#7201a8"
             ],
             [
              0.3333333333333333,
              "#9c179e"
             ],
             [
              0.4444444444444444,
              "#bd3786"
             ],
             [
              0.5555555555555556,
              "#d8576b"
             ],
             [
              0.6666666666666666,
              "#ed7953"
             ],
             [
              0.7777777777777778,
              "#fb9f3a"
             ],
             [
              0.8888888888888888,
              "#fdca26"
             ],
             [
              1,
              "#f0f921"
             ]
            ],
            "type": "contour"
           }
          ],
          "contourcarpet": [
           {
            "colorbar": {
             "outlinewidth": 0,
             "ticks": ""
            },
            "type": "contourcarpet"
           }
          ],
          "heatmap": [
           {
            "colorbar": {
             "outlinewidth": 0,
             "ticks": ""
            },
            "colorscale": [
             [
              0,
              "#0d0887"
             ],
             [
              0.1111111111111111,
              "#46039f"
             ],
             [
              0.2222222222222222,
              "#7201a8"
             ],
             [
              0.3333333333333333,
              "#9c179e"
             ],
             [
              0.4444444444444444,
              "#bd3786"
             ],
             [
              0.5555555555555556,
              "#d8576b"
             ],
             [
              0.6666666666666666,
              "#ed7953"
             ],
             [
              0.7777777777777778,
              "#fb9f3a"
             ],
             [
              0.8888888888888888,
              "#fdca26"
             ],
             [
              1,
              "#f0f921"
             ]
            ],
            "type": "heatmap"
           }
          ],
          "heatmapgl": [
           {
            "colorbar": {
             "outlinewidth": 0,
             "ticks": ""
            },
            "colorscale": [
             [
              0,
              "#0d0887"
             ],
             [
              0.1111111111111111,
              "#46039f"
             ],
             [
              0.2222222222222222,
              "#7201a8"
             ],
             [
              0.3333333333333333,
              "#9c179e"
             ],
             [
              0.4444444444444444,
              "#bd3786"
             ],
             [
              0.5555555555555556,
              "#d8576b"
             ],
             [
              0.6666666666666666,
              "#ed7953"
             ],
             [
              0.7777777777777778,
              "#fb9f3a"
             ],
             [
              0.8888888888888888,
              "#fdca26"
             ],
             [
              1,
              "#f0f921"
             ]
            ],
            "type": "heatmapgl"
           }
          ],
          "histogram": [
           {
            "marker": {
             "colorbar": {
              "outlinewidth": 0,
              "ticks": ""
             }
            },
            "type": "histogram"
           }
          ],
          "histogram2d": [
           {
            "colorbar": {
             "outlinewidth": 0,
             "ticks": ""
            },
            "colorscale": [
             [
              0,
              "#0d0887"
             ],
             [
              0.1111111111111111,
              "#46039f"
             ],
             [
              0.2222222222222222,
              "#7201a8"
             ],
             [
              0.3333333333333333,
              "#9c179e"
             ],
             [
              0.4444444444444444,
              "#bd3786"
             ],
             [
              0.5555555555555556,
              "#d8576b"
             ],
             [
              0.6666666666666666,
              "#ed7953"
             ],
             [
              0.7777777777777778,
              "#fb9f3a"
             ],
             [
              0.8888888888888888,
              "#fdca26"
             ],
             [
              1,
              "#f0f921"
             ]
            ],
            "type": "histogram2d"
           }
          ],
          "histogram2dcontour": [
           {
            "colorbar": {
             "outlinewidth": 0,
             "ticks": ""
            },
            "colorscale": [
             [
              0,
              "#0d0887"
             ],
             [
              0.1111111111111111,
              "#46039f"
             ],
             [
              0.2222222222222222,
              "#7201a8"
             ],
             [
              0.3333333333333333,
              "#9c179e"
             ],
             [
              0.4444444444444444,
              "#bd3786"
             ],
             [
              0.5555555555555556,
              "#d8576b"
             ],
             [
              0.6666666666666666,
              "#ed7953"
             ],
             [
              0.7777777777777778,
              "#fb9f3a"
             ],
             [
              0.8888888888888888,
              "#fdca26"
             ],
             [
              1,
              "#f0f921"
             ]
            ],
            "type": "histogram2dcontour"
           }
          ],
          "mesh3d": [
           {
            "colorbar": {
             "outlinewidth": 0,
             "ticks": ""
            },
            "type": "mesh3d"
           }
          ],
          "parcoords": [
           {
            "line": {
             "colorbar": {
              "outlinewidth": 0,
              "ticks": ""
             }
            },
            "type": "parcoords"
           }
          ],
          "pie": [
           {
            "automargin": true,
            "type": "pie"
           }
          ],
          "scatter": [
           {
            "marker": {
             "colorbar": {
              "outlinewidth": 0,
              "ticks": ""
             }
            },
            "type": "scatter"
           }
          ],
          "scatter3d": [
           {
            "line": {
             "colorbar": {
              "outlinewidth": 0,
              "ticks": ""
             }
            },
            "marker": {
             "colorbar": {
              "outlinewidth": 0,
              "ticks": ""
             }
            },
            "type": "scatter3d"
           }
          ],
          "scattercarpet": [
           {
            "marker": {
             "colorbar": {
              "outlinewidth": 0,
              "ticks": ""
             }
            },
            "type": "scattercarpet"
           }
          ],
          "scattergeo": [
           {
            "marker": {
             "colorbar": {
              "outlinewidth": 0,
              "ticks": ""
             }
            },
            "type": "scattergeo"
           }
          ],
          "scattergl": [
           {
            "marker": {
             "colorbar": {
              "outlinewidth": 0,
              "ticks": ""
             }
            },
            "type": "scattergl"
           }
          ],
          "scattermapbox": [
           {
            "marker": {
             "colorbar": {
              "outlinewidth": 0,
              "ticks": ""
             }
            },
            "type": "scattermapbox"
           }
          ],
          "scatterpolar": [
           {
            "marker": {
             "colorbar": {
              "outlinewidth": 0,
              "ticks": ""
             }
            },
            "type": "scatterpolar"
           }
          ],
          "scatterpolargl": [
           {
            "marker": {
             "colorbar": {
              "outlinewidth": 0,
              "ticks": ""
             }
            },
            "type": "scatterpolargl"
           }
          ],
          "scatterternary": [
           {
            "marker": {
             "colorbar": {
              "outlinewidth": 0,
              "ticks": ""
             }
            },
            "type": "scatterternary"
           }
          ],
          "surface": [
           {
            "colorbar": {
             "outlinewidth": 0,
             "ticks": ""
            },
            "colorscale": [
             [
              0,
              "#0d0887"
             ],
             [
              0.1111111111111111,
              "#46039f"
             ],
             [
              0.2222222222222222,
              "#7201a8"
             ],
             [
              0.3333333333333333,
              "#9c179e"
             ],
             [
              0.4444444444444444,
              "#bd3786"
             ],
             [
              0.5555555555555556,
              "#d8576b"
             ],
             [
              0.6666666666666666,
              "#ed7953"
             ],
             [
              0.7777777777777778,
              "#fb9f3a"
             ],
             [
              0.8888888888888888,
              "#fdca26"
             ],
             [
              1,
              "#f0f921"
             ]
            ],
            "type": "surface"
           }
          ],
          "table": [
           {
            "cells": {
             "fill": {
              "color": "#EBF0F8"
             },
             "line": {
              "color": "white"
             }
            },
            "header": {
             "fill": {
              "color": "#C8D4E3"
             },
             "line": {
              "color": "white"
             }
            },
            "type": "table"
           }
          ]
         },
         "layout": {
          "annotationdefaults": {
           "arrowcolor": "#2a3f5f",
           "arrowhead": 0,
           "arrowwidth": 1
          },
          "coloraxis": {
           "colorbar": {
            "outlinewidth": 0,
            "ticks": ""
           }
          },
          "colorscale": {
           "diverging": [
            [
             0,
             "#8e0152"
            ],
            [
             0.1,
             "#c51b7d"
            ],
            [
             0.2,
             "#de77ae"
            ],
            [
             0.3,
             "#f1b6da"
            ],
            [
             0.4,
             "#fde0ef"
            ],
            [
             0.5,
             "#f7f7f7"
            ],
            [
             0.6,
             "#e6f5d0"
            ],
            [
             0.7,
             "#b8e186"
            ],
            [
             0.8,
             "#7fbc41"
            ],
            [
             0.9,
             "#4d9221"
            ],
            [
             1,
             "#276419"
            ]
           ],
           "sequential": [
            [
             0,
             "#0d0887"
            ],
            [
             0.1111111111111111,
             "#46039f"
            ],
            [
             0.2222222222222222,
             "#7201a8"
            ],
            [
             0.3333333333333333,
             "#9c179e"
            ],
            [
             0.4444444444444444,
             "#bd3786"
            ],
            [
             0.5555555555555556,
             "#d8576b"
            ],
            [
             0.6666666666666666,
             "#ed7953"
            ],
            [
             0.7777777777777778,
             "#fb9f3a"
            ],
            [
             0.8888888888888888,
             "#fdca26"
            ],
            [
             1,
             "#f0f921"
            ]
           ],
           "sequentialminus": [
            [
             0,
             "#0d0887"
            ],
            [
             0.1111111111111111,
             "#46039f"
            ],
            [
             0.2222222222222222,
             "#7201a8"
            ],
            [
             0.3333333333333333,
             "#9c179e"
            ],
            [
             0.4444444444444444,
             "#bd3786"
            ],
            [
             0.5555555555555556,
             "#d8576b"
            ],
            [
             0.6666666666666666,
             "#ed7953"
            ],
            [
             0.7777777777777778,
             "#fb9f3a"
            ],
            [
             0.8888888888888888,
             "#fdca26"
            ],
            [
             1,
             "#f0f921"
            ]
           ]
          },
          "colorway": [
           "#636efa",
           "#EF553B",
           "#00cc96",
           "#ab63fa",
           "#FFA15A",
           "#19d3f3",
           "#FF6692",
           "#B6E880",
           "#FF97FF",
           "#FECB52"
          ],
          "font": {
           "color": "#2a3f5f"
          },
          "geo": {
           "bgcolor": "white",
           "lakecolor": "white",
           "landcolor": "#E5ECF6",
           "showlakes": true,
           "showland": true,
           "subunitcolor": "white"
          },
          "hoverlabel": {
           "align": "left"
          },
          "hovermode": "closest",
          "mapbox": {
           "style": "light"
          },
          "paper_bgcolor": "white",
          "plot_bgcolor": "#E5ECF6",
          "polar": {
           "angularaxis": {
            "gridcolor": "white",
            "linecolor": "white",
            "ticks": ""
           },
           "bgcolor": "#E5ECF6",
           "radialaxis": {
            "gridcolor": "white",
            "linecolor": "white",
            "ticks": ""
           }
          },
          "scene": {
           "xaxis": {
            "backgroundcolor": "#E5ECF6",
            "gridcolor": "white",
            "gridwidth": 2,
            "linecolor": "white",
            "showbackground": true,
            "ticks": "",
            "zerolinecolor": "white"
           },
           "yaxis": {
            "backgroundcolor": "#E5ECF6",
            "gridcolor": "white",
            "gridwidth": 2,
            "linecolor": "white",
            "showbackground": true,
            "ticks": "",
            "zerolinecolor": "white"
           },
           "zaxis": {
            "backgroundcolor": "#E5ECF6",
            "gridcolor": "white",
            "gridwidth": 2,
            "linecolor": "white",
            "showbackground": true,
            "ticks": "",
            "zerolinecolor": "white"
           }
          },
          "shapedefaults": {
           "line": {
            "color": "#2a3f5f"
           }
          },
          "ternary": {
           "aaxis": {
            "gridcolor": "white",
            "linecolor": "white",
            "ticks": ""
           },
           "baxis": {
            "gridcolor": "white",
            "linecolor": "white",
            "ticks": ""
           },
           "bgcolor": "#E5ECF6",
           "caxis": {
            "gridcolor": "white",
            "linecolor": "white",
            "ticks": ""
           }
          },
          "title": {
           "x": 0.05
          },
          "xaxis": {
           "automargin": true,
           "gridcolor": "white",
           "linecolor": "white",
           "ticks": "",
           "title": {
            "standoff": 15
           },
           "zerolinecolor": "white",
           "zerolinewidth": 2
          },
          "yaxis": {
           "automargin": true,
           "gridcolor": "white",
           "linecolor": "white",
           "ticks": "",
           "title": {
            "standoff": 15
           },
           "zerolinecolor": "white",
           "zerolinewidth": 2
          }
         }
        }
       }
      }
     },
     "metadata": {}
    }
   ],
   "source": [
    "no_email = dataframe.loc[dataframe[\"emailer_for_promotion\"] == 0]\n",
    "yes_email = dataframe.loc[dataframe[\"emailer_for_promotion\"] == 1]\n",
    "\n",
    "fig = go.Figure()\n",
    "\n",
    "# fig.add_trace(go.Scatter(x = dataframe.cuisine, y = dataframe.num_orders, mode = 'markers'))\n",
    "fig.add_trace(go.Scatter(x = no_email.cuisine, y = no_email.num_orders, mode = 'markers', name = 'Email not used for promotion'))\n",
    "fig.add_trace(go.Scatter(x = yes_email.cuisine, y = yes_email.num_orders, mode = 'markers', name = 'Email used for promotion'))\n",
    "\n",
    "fig.show()"
   ]
  },
  {
   "cell_type": "code",
   "execution_count": 12,
   "metadata": {},
   "outputs": [
    {
     "output_type": "display_data",
     "data": {
      "application/vnd.plotly.v1+json": {
       "config": {
        "plotlyServerURL": "https://plot.ly"
       },
       "data": [
        {
         "alignmentgroup": "True",
         "boxpoints": "all",
         "hoverlabel": {
          "namelength": 0
         },
         "hovertemplate": "homepage_featured=%{x}<br>num_orders=%{y}",
         "legendgroup": "",
         "marker": {
          "color": "#636efa"
         },
         "name": "",
         "notched": false,
         "offsetgroup": "",
         "orientation": "v",
         "showlegend": false,
         "type": "box",
         "x": [
          0,
          0,
          0,
          0,
          0,
          1,
          0,
          0,
          1,
          0,
          0,
          0,
          0,
          0,
          0,
          1,
          0,
          0,
          0,
          0,
          0,
          0,
          0,
          1,
          0,
          0,
          0,
          0,
          0,
          0,
          0,
          0,
          1,
          0,
          0,
          0,
          0,
          0,
          0,
          0,
          0,
          0,
          0,
          0,
          1,
          0,
          0,
          0,
          0,
          0,
          0,
          0,
          0,
          0,
          0,
          0,
          0,
          0,
          0,
          0,
          0,
          0,
          1,
          0,
          0,
          0,
          0,
          0,
          0,
          1,
          0,
          0,
          0,
          0,
          0,
          0,
          0,
          0,
          0,
          0,
          0,
          1,
          0,
          0,
          1,
          0,
          0,
          0,
          0,
          0,
          1,
          0,
          0,
          0,
          0,
          0,
          0,
          0,
          0,
          0,
          0,
          0,
          0,
          0,
          0,
          0,
          1,
          1,
          0,
          0,
          0,
          0,
          0,
          0,
          0,
          0,
          0,
          0,
          0,
          1,
          0,
          0,
          0,
          0,
          0,
          0,
          0,
          0,
          0,
          0,
          1,
          0,
          0,
          0,
          0,
          0,
          0,
          0,
          0,
          1,
          1,
          0,
          0,
          1,
          0,
          0,
          0,
          0,
          0,
          0,
          0,
          0,
          0,
          0,
          0,
          0,
          0,
          0,
          0,
          1,
          0,
          0,
          1,
          0,
          0,
          0,
          0,
          0,
          0,
          0,
          0,
          0,
          0,
          0,
          0,
          0,
          0,
          0,
          0,
          0,
          0,
          0,
          0,
          0,
          0,
          0,
          0,
          1,
          0,
          0,
          0,
          1,
          0,
          0,
          1,
          0,
          0,
          0,
          0,
          0,
          0,
          0,
          0,
          0,
          0,
          0,
          0,
          0,
          1,
          0,
          0,
          0,
          0,
          0,
          0,
          0,
          0,
          0,
          0,
          1,
          1,
          0,
          0,
          0,
          0,
          0,
          0,
          0,
          0,
          0,
          1,
          0,
          1,
          0,
          0,
          1,
          0,
          0,
          1,
          0,
          1,
          0,
          0,
          0,
          0,
          0,
          0,
          0,
          1,
          0,
          0,
          1,
          1,
          1,
          0,
          0,
          0,
          0,
          0,
          0,
          0,
          0,
          0,
          0,
          0,
          0,
          0,
          0,
          0,
          0,
          1,
          0,
          0,
          0,
          0,
          1,
          0,
          0,
          0,
          0,
          0,
          0,
          1,
          0,
          0,
          0,
          0,
          0,
          0,
          1,
          0,
          0,
          0,
          0,
          1,
          0,
          0,
          0,
          0,
          0,
          0,
          0,
          0,
          0,
          0,
          0,
          1,
          0,
          0,
          0,
          0,
          0,
          0,
          0,
          0,
          0,
          0,
          0,
          0,
          0,
          0,
          0,
          0,
          0,
          0,
          0,
          0,
          0,
          0,
          1,
          0,
          0,
          0,
          0,
          0,
          0,
          0,
          0,
          1,
          0,
          0,
          0,
          0,
          0,
          0,
          1,
          0,
          0,
          0,
          1,
          0,
          0,
          1,
          0,
          0,
          0,
          0,
          0,
          1,
          0,
          0,
          0,
          0,
          0,
          0,
          0,
          0,
          1,
          0,
          1,
          0,
          0,
          0,
          0,
          0,
          0,
          0,
          0,
          0,
          0,
          0,
          0,
          0,
          0,
          0,
          0,
          0,
          0,
          0,
          1,
          0,
          0,
          0,
          0,
          1,
          1,
          1,
          0,
          0,
          0,
          0,
          0,
          0,
          0,
          0,
          0,
          0,
          0,
          0,
          0,
          0,
          0,
          0,
          0,
          0,
          0,
          0,
          0,
          0,
          0,
          0,
          0,
          0,
          0,
          0,
          0,
          0,
          0,
          0,
          0,
          1,
          1,
          0,
          0
         ],
         "x0": " ",
         "xaxis": "x",
         "y": [
          190,
          460,
          41,
          107,
          379,
          932,
          1295,
          69,
          393,
          109,
          2078,
          1201,
          67,
          202,
          82,
          539,
          53,
          28,
          163,
          743,
          270,
          107,
          55,
          215,
          121,
          231,
          283,
          204,
          14,
          42,
          243,
          743,
          352,
          810,
          607,
          959,
          418,
          609,
          310,
          297,
          67,
          81,
          648,
          473,
          54,
          1067,
          96,
          256,
          122,
          41,
          121,
          1121,
          1013,
          783,
          135,
          541,
          215,
          134,
          53,
          405,
          42,
          54,
          404,
          41,
          54,
          26,
          296,
          431,
          1081,
          1108,
          188,
          176,
          13,
          135,
          94,
          122,
          148,
          176,
          55,
          595,
          148,
          1566,
          501,
          53,
          2430,
          13,
          108,
          13,
          40,
          68,
          53,
          190,
          269,
          271,
          134,
          26,
          41,
          404,
          298,
          567,
          405,
          393,
          607,
          42,
          188,
          28,
          216,
          1066,
          26,
          298,
          40,
          216,
          68,
          190,
          149,
          67,
          500,
          445,
          323,
          188,
          204,
          41,
          324,
          310,
          69,
          41,
          40,
          177,
          53,
          474,
          41,
          231,
          67,
          27,
          134,
          81,
          109,
          216,
          15,
          337,
          150,
          68,
          701,
          350,
          27,
          14,
          312,
          377,
          204,
          243,
          69,
          582,
          431,
          433,
          539,
          26,
          41,
          55,
          82,
          810,
          636,
          53,
          69,
          135,
          96,
          15,
          512,
          528,
          258,
          53,
          42,
          406,
          337,
          188,
          122,
          53,
          148,
          242,
          122,
          150,
          82,
          134,
          55,
          15,
          190,
          285,
          175,
          26,
          14,
          55,
          41,
          620,
          135,
          242,
          41,
          13,
          28,
          108,
          42,
          339,
          406,
          15,
          54,
          26,
          243,
          28,
          447,
          391,
          1066,
          176,
          15,
          14,
          392,
          215,
          27,
          40,
          176,
          161,
          135,
          406,
          177,
          109,
          28,
          41,
          136,
          81,
          271,
          149,
          258,
          108,
          312,
          121,
          69,
          298,
          80,
          202,
          177,
          26,
          109,
          296,
          69,
          68,
          14,
          53,
          163,
          107,
          150,
          27,
          95,
          433,
          136,
          432,
          783,
          148,
          203,
          53,
          717,
          243,
          123,
          649,
          460,
          162,
          42,
          269,
          837,
          150,
          55,
          28,
          26,
          418,
          1700,
          14,
          41,
          40,
          364,
          94,
          177,
          109,
          40,
          82,
          13,
          1283,
          4254,
          26,
          27,
          2146,
          1417,
          432,
          701,
          271,
          176,
          283,
          566,
          108,
          190,
          42,
          161,
          540,
          107,
          94,
          40,
          96,
          217,
          257,
          108,
          82,
          40,
          96,
          474,
          27,
          379,
          393,
          350,
          1135,
          175,
          501,
          121,
          27,
          14,
          94,
          28,
          27,
          378,
          216,
          81,
          176,
          149,
          297,
          257,
          405,
          42,
          135,
          42,
          135,
          311,
          68,
          244,
          109,
          69,
          189,
          27,
          42,
          14,
          26,
          379,
          81,
          635,
          94,
          81,
          27,
          744,
          269,
          555,
          135,
          15,
          689,
          351,
          80,
          404,
          80,
          270,
          163,
          296,
          270,
          69,
          28,
          135,
          2323,
          42,
          134,
          365,
          405,
          135,
          13,
          15,
          55,
          54,
          134,
          2025,
          42,
          310,
          297,
          42,
          28,
          40,
          40,
          123,
          161,
          418,
          296,
          123,
          163,
          594,
          82,
          257,
          203,
          500,
          189,
          69,
          54,
          393,
          162,
          15,
          216,
          81,
          41,
          189,
          14,
          94,
          472,
          68,
          420,
          837,
          15,
          26,
          41,
          391,
          13,
          377,
          40,
          1148,
          203,
          1877,
          121,
          13,
          26,
          136,
          296,
          80,
          393,
          94,
          311,
          41,
          40
         ],
         "y0": " ",
         "yaxis": "y"
        }
       ],
       "layout": {
        "boxmode": "group",
        "legend": {
         "tracegroupgap": 0
        },
        "margin": {
         "t": 60
        },
        "template": {
         "data": {
          "bar": [
           {
            "error_x": {
             "color": "#2a3f5f"
            },
            "error_y": {
             "color": "#2a3f5f"
            },
            "marker": {
             "line": {
              "color": "#E5ECF6",
              "width": 0.5
             }
            },
            "type": "bar"
           }
          ],
          "barpolar": [
           {
            "marker": {
             "line": {
              "color": "#E5ECF6",
              "width": 0.5
             }
            },
            "type": "barpolar"
           }
          ],
          "carpet": [
           {
            "aaxis": {
             "endlinecolor": "#2a3f5f",
             "gridcolor": "white",
             "linecolor": "white",
             "minorgridcolor": "white",
             "startlinecolor": "#2a3f5f"
            },
            "baxis": {
             "endlinecolor": "#2a3f5f",
             "gridcolor": "white",
             "linecolor": "white",
             "minorgridcolor": "white",
             "startlinecolor": "#2a3f5f"
            },
            "type": "carpet"
           }
          ],
          "choropleth": [
           {
            "colorbar": {
             "outlinewidth": 0,
             "ticks": ""
            },
            "type": "choropleth"
           }
          ],
          "contour": [
           {
            "colorbar": {
             "outlinewidth": 0,
             "ticks": ""
            },
            "colorscale": [
             [
              0,
              "#0d0887"
             ],
             [
              0.1111111111111111,
              "#46039f"
             ],
             [
              0.2222222222222222,
              "#7201a8"
             ],
             [
              0.3333333333333333,
              "#9c179e"
             ],
             [
              0.4444444444444444,
              "#bd3786"
             ],
             [
              0.5555555555555556,
              "#d8576b"
             ],
             [
              0.6666666666666666,
              "#ed7953"
             ],
             [
              0.7777777777777778,
              "#fb9f3a"
             ],
             [
              0.8888888888888888,
              "#fdca26"
             ],
             [
              1,
              "#f0f921"
             ]
            ],
            "type": "contour"
           }
          ],
          "contourcarpet": [
           {
            "colorbar": {
             "outlinewidth": 0,
             "ticks": ""
            },
            "type": "contourcarpet"
           }
          ],
          "heatmap": [
           {
            "colorbar": {
             "outlinewidth": 0,
             "ticks": ""
            },
            "colorscale": [
             [
              0,
              "#0d0887"
             ],
             [
              0.1111111111111111,
              "#46039f"
             ],
             [
              0.2222222222222222,
              "#7201a8"
             ],
             [
              0.3333333333333333,
              "#9c179e"
             ],
             [
              0.4444444444444444,
              "#bd3786"
             ],
             [
              0.5555555555555556,
              "#d8576b"
             ],
             [
              0.6666666666666666,
              "#ed7953"
             ],
             [
              0.7777777777777778,
              "#fb9f3a"
             ],
             [
              0.8888888888888888,
              "#fdca26"
             ],
             [
              1,
              "#f0f921"
             ]
            ],
            "type": "heatmap"
           }
          ],
          "heatmapgl": [
           {
            "colorbar": {
             "outlinewidth": 0,
             "ticks": ""
            },
            "colorscale": [
             [
              0,
              "#0d0887"
             ],
             [
              0.1111111111111111,
              "#46039f"
             ],
             [
              0.2222222222222222,
              "#7201a8"
             ],
             [
              0.3333333333333333,
              "#9c179e"
             ],
             [
              0.4444444444444444,
              "#bd3786"
             ],
             [
              0.5555555555555556,
              "#d8576b"
             ],
             [
              0.6666666666666666,
              "#ed7953"
             ],
             [
              0.7777777777777778,
              "#fb9f3a"
             ],
             [
              0.8888888888888888,
              "#fdca26"
             ],
             [
              1,
              "#f0f921"
             ]
            ],
            "type": "heatmapgl"
           }
          ],
          "histogram": [
           {
            "marker": {
             "colorbar": {
              "outlinewidth": 0,
              "ticks": ""
             }
            },
            "type": "histogram"
           }
          ],
          "histogram2d": [
           {
            "colorbar": {
             "outlinewidth": 0,
             "ticks": ""
            },
            "colorscale": [
             [
              0,
              "#0d0887"
             ],
             [
              0.1111111111111111,
              "#46039f"
             ],
             [
              0.2222222222222222,
              "#7201a8"
             ],
             [
              0.3333333333333333,
              "#9c179e"
             ],
             [
              0.4444444444444444,
              "#bd3786"
             ],
             [
              0.5555555555555556,
              "#d8576b"
             ],
             [
              0.6666666666666666,
              "#ed7953"
             ],
             [
              0.7777777777777778,
              "#fb9f3a"
             ],
             [
              0.8888888888888888,
              "#fdca26"
             ],
             [
              1,
              "#f0f921"
             ]
            ],
            "type": "histogram2d"
           }
          ],
          "histogram2dcontour": [
           {
            "colorbar": {
             "outlinewidth": 0,
             "ticks": ""
            },
            "colorscale": [
             [
              0,
              "#0d0887"
             ],
             [
              0.1111111111111111,
              "#46039f"
             ],
             [
              0.2222222222222222,
              "#7201a8"
             ],
             [
              0.3333333333333333,
              "#9c179e"
             ],
             [
              0.4444444444444444,
              "#bd3786"
             ],
             [
              0.5555555555555556,
              "#d8576b"
             ],
             [
              0.6666666666666666,
              "#ed7953"
             ],
             [
              0.7777777777777778,
              "#fb9f3a"
             ],
             [
              0.8888888888888888,
              "#fdca26"
             ],
             [
              1,
              "#f0f921"
             ]
            ],
            "type": "histogram2dcontour"
           }
          ],
          "mesh3d": [
           {
            "colorbar": {
             "outlinewidth": 0,
             "ticks": ""
            },
            "type": "mesh3d"
           }
          ],
          "parcoords": [
           {
            "line": {
             "colorbar": {
              "outlinewidth": 0,
              "ticks": ""
             }
            },
            "type": "parcoords"
           }
          ],
          "pie": [
           {
            "automargin": true,
            "type": "pie"
           }
          ],
          "scatter": [
           {
            "marker": {
             "colorbar": {
              "outlinewidth": 0,
              "ticks": ""
             }
            },
            "type": "scatter"
           }
          ],
          "scatter3d": [
           {
            "line": {
             "colorbar": {
              "outlinewidth": 0,
              "ticks": ""
             }
            },
            "marker": {
             "colorbar": {
              "outlinewidth": 0,
              "ticks": ""
             }
            },
            "type": "scatter3d"
           }
          ],
          "scattercarpet": [
           {
            "marker": {
             "colorbar": {
              "outlinewidth": 0,
              "ticks": ""
             }
            },
            "type": "scattercarpet"
           }
          ],
          "scattergeo": [
           {
            "marker": {
             "colorbar": {
              "outlinewidth": 0,
              "ticks": ""
             }
            },
            "type": "scattergeo"
           }
          ],
          "scattergl": [
           {
            "marker": {
             "colorbar": {
              "outlinewidth": 0,
              "ticks": ""
             }
            },
            "type": "scattergl"
           }
          ],
          "scattermapbox": [
           {
            "marker": {
             "colorbar": {
              "outlinewidth": 0,
              "ticks": ""
             }
            },
            "type": "scattermapbox"
           }
          ],
          "scatterpolar": [
           {
            "marker": {
             "colorbar": {
              "outlinewidth": 0,
              "ticks": ""
             }
            },
            "type": "scatterpolar"
           }
          ],
          "scatterpolargl": [
           {
            "marker": {
             "colorbar": {
              "outlinewidth": 0,
              "ticks": ""
             }
            },
            "type": "scatterpolargl"
           }
          ],
          "scatterternary": [
           {
            "marker": {
             "colorbar": {
              "outlinewidth": 0,
              "ticks": ""
             }
            },
            "type": "scatterternary"
           }
          ],
          "surface": [
           {
            "colorbar": {
             "outlinewidth": 0,
             "ticks": ""
            },
            "colorscale": [
             [
              0,
              "#0d0887"
             ],
             [
              0.1111111111111111,
              "#46039f"
             ],
             [
              0.2222222222222222,
              "#7201a8"
             ],
             [
              0.3333333333333333,
              "#9c179e"
             ],
             [
              0.4444444444444444,
              "#bd3786"
             ],
             [
              0.5555555555555556,
              "#d8576b"
             ],
             [
              0.6666666666666666,
              "#ed7953"
             ],
             [
              0.7777777777777778,
              "#fb9f3a"
             ],
             [
              0.8888888888888888,
              "#fdca26"
             ],
             [
              1,
              "#f0f921"
             ]
            ],
            "type": "surface"
           }
          ],
          "table": [
           {
            "cells": {
             "fill": {
              "color": "#EBF0F8"
             },
             "line": {
              "color": "white"
             }
            },
            "header": {
             "fill": {
              "color": "#C8D4E3"
             },
             "line": {
              "color": "white"
             }
            },
            "type": "table"
           }
          ]
         },
         "layout": {
          "annotationdefaults": {
           "arrowcolor": "#2a3f5f",
           "arrowhead": 0,
           "arrowwidth": 1
          },
          "coloraxis": {
           "colorbar": {
            "outlinewidth": 0,
            "ticks": ""
           }
          },
          "colorscale": {
           "diverging": [
            [
             0,
             "#8e0152"
            ],
            [
             0.1,
             "#c51b7d"
            ],
            [
             0.2,
             "#de77ae"
            ],
            [
             0.3,
             "#f1b6da"
            ],
            [
             0.4,
             "#fde0ef"
            ],
            [
             0.5,
             "#f7f7f7"
            ],
            [
             0.6,
             "#e6f5d0"
            ],
            [
             0.7,
             "#b8e186"
            ],
            [
             0.8,
             "#7fbc41"
            ],
            [
             0.9,
             "#4d9221"
            ],
            [
             1,
             "#276419"
            ]
           ],
           "sequential": [
            [
             0,
             "#0d0887"
            ],
            [
             0.1111111111111111,
             "#46039f"
            ],
            [
             0.2222222222222222,
             "#7201a8"
            ],
            [
             0.3333333333333333,
             "#9c179e"
            ],
            [
             0.4444444444444444,
             "#bd3786"
            ],
            [
             0.5555555555555556,
             "#d8576b"
            ],
            [
             0.6666666666666666,
             "#ed7953"
            ],
            [
             0.7777777777777778,
             "#fb9f3a"
            ],
            [
             0.8888888888888888,
             "#fdca26"
            ],
            [
             1,
             "#f0f921"
            ]
           ],
           "sequentialminus": [
            [
             0,
             "#0d0887"
            ],
            [
             0.1111111111111111,
             "#46039f"
            ],
            [
             0.2222222222222222,
             "#7201a8"
            ],
            [
             0.3333333333333333,
             "#9c179e"
            ],
            [
             0.4444444444444444,
             "#bd3786"
            ],
            [
             0.5555555555555556,
             "#d8576b"
            ],
            [
             0.6666666666666666,
             "#ed7953"
            ],
            [
             0.7777777777777778,
             "#fb9f3a"
            ],
            [
             0.8888888888888888,
             "#fdca26"
            ],
            [
             1,
             "#f0f921"
            ]
           ]
          },
          "colorway": [
           "#636efa",
           "#EF553B",
           "#00cc96",
           "#ab63fa",
           "#FFA15A",
           "#19d3f3",
           "#FF6692",
           "#B6E880",
           "#FF97FF",
           "#FECB52"
          ],
          "font": {
           "color": "#2a3f5f"
          },
          "geo": {
           "bgcolor": "white",
           "lakecolor": "white",
           "landcolor": "#E5ECF6",
           "showlakes": true,
           "showland": true,
           "subunitcolor": "white"
          },
          "hoverlabel": {
           "align": "left"
          },
          "hovermode": "closest",
          "mapbox": {
           "style": "light"
          },
          "paper_bgcolor": "white",
          "plot_bgcolor": "#E5ECF6",
          "polar": {
           "angularaxis": {
            "gridcolor": "white",
            "linecolor": "white",
            "ticks": ""
           },
           "bgcolor": "#E5ECF6",
           "radialaxis": {
            "gridcolor": "white",
            "linecolor": "white",
            "ticks": ""
           }
          },
          "scene": {
           "xaxis": {
            "backgroundcolor": "#E5ECF6",
            "gridcolor": "white",
            "gridwidth": 2,
            "linecolor": "white",
            "showbackground": true,
            "ticks": "",
            "zerolinecolor": "white"
           },
           "yaxis": {
            "backgroundcolor": "#E5ECF6",
            "gridcolor": "white",
            "gridwidth": 2,
            "linecolor": "white",
            "showbackground": true,
            "ticks": "",
            "zerolinecolor": "white"
           },
           "zaxis": {
            "backgroundcolor": "#E5ECF6",
            "gridcolor": "white",
            "gridwidth": 2,
            "linecolor": "white",
            "showbackground": true,
            "ticks": "",
            "zerolinecolor": "white"
           }
          },
          "shapedefaults": {
           "line": {
            "color": "#2a3f5f"
           }
          },
          "ternary": {
           "aaxis": {
            "gridcolor": "white",
            "linecolor": "white",
            "ticks": ""
           },
           "baxis": {
            "gridcolor": "white",
            "linecolor": "white",
            "ticks": ""
           },
           "bgcolor": "#E5ECF6",
           "caxis": {
            "gridcolor": "white",
            "linecolor": "white",
            "ticks": ""
           }
          },
          "title": {
           "x": 0.05
          },
          "xaxis": {
           "automargin": true,
           "gridcolor": "white",
           "linecolor": "white",
           "ticks": "",
           "title": {
            "standoff": 15
           },
           "zerolinecolor": "white",
           "zerolinewidth": 2
          },
          "yaxis": {
           "automargin": true,
           "gridcolor": "white",
           "linecolor": "white",
           "ticks": "",
           "title": {
            "standoff": 15
           },
           "zerolinecolor": "white",
           "zerolinewidth": 2
          }
         }
        },
        "xaxis": {
         "anchor": "y",
         "domain": [
          0,
          1
         ],
         "title": {
          "text": "homepage_featured"
         }
        },
        "yaxis": {
         "anchor": "x",
         "domain": [
          0,
          1
         ],
         "title": {
          "text": "num_orders"
         }
        }
       }
      }
     },
     "metadata": {}
    }
   ],
   "source": [
    "fig = px.box(dataframe, x = 'homepage_featured', y= 'num_orders', points = 'all')\n",
    "fig.show()"
   ]
  },
  {
   "cell_type": "code",
   "execution_count": 17,
   "metadata": {},
   "outputs": [
    {
     "output_type": "execute_result",
     "data": {
      "text/plain": "51"
     },
     "metadata": {},
     "execution_count": 17
    }
   ],
   "source": [
    "len(dataframe['city_code'].unique())"
   ]
  },
  {
   "cell_type": "code",
   "execution_count": null,
   "metadata": {},
   "outputs": [],
   "source": []
  }
 ],
 "metadata": {
  "kernelspec": {
   "display_name": "Python 3",
   "language": "python",
   "name": "python3"
  },
  "language_info": {
   "codemirror_mode": {
    "name": "ipython",
    "version": 3
   },
   "file_extension": ".py",
   "mimetype": "text/x-python",
   "name": "python",
   "nbconvert_exporter": "python",
   "pygments_lexer": "ipython3",
   "version": "3.7.4-final"
  }
 },
 "nbformat": 4,
 "nbformat_minor": 2
}