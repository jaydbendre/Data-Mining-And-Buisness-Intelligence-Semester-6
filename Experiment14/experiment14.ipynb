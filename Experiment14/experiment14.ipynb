{
 "cells": [
  {
   "cell_type": "code",
   "execution_count": 5,
   "metadata": {},
   "outputs": [],
   "source": [
    "\"\"\"\n",
    "Problem Statement\n",
    "Your client is a meal delivery company which operates in multiple cities. They have various fulfillment centers in these cities for dispatching meal orders to their customers. \n",
    "The client wants you to help these centers with demand forecasting for upcoming weeks so that these centers will plan the stock of raw materials accordingly.\n",
    "\"\"\"\n",
    "\n",
    "\"\"\"\n",
    "Imports required for implementation.\n",
    "\"\"\"\n",
    "import pandas as pd\n",
    "import numpy as np\n",
    "import matplotlib.pyplot as plt\n",
    "import warnings\n",
    "import seaborn as sns\n",
    "import gc\n",
    "import catboost as cb\n",
    "from sklearn.metrics import mean_squared_log_error,mean_squared_error\n",
    "from sklearn.model_selection import train_test_split,KFold\n",
    "%matplotlib inline\n",
    "warnings.filterwarnings(\"ignore\")"
   ]
  },
  {
   "cell_type": "code",
   "execution_count": 6,
   "metadata": {},
   "outputs": [],
   "source": [
    "def show_all(df,nrow,ncol):\n",
    "    with pd.option_context(\"display.max_rows\",nrow,\"display.max_columns\",ncol):\n",
    "        display(df)"
   ]
  },
  {
   "cell_type": "code",
   "execution_count": 12,
   "metadata": {},
   "outputs": [],
   "source": [
    "\"\"\"\n",
    "Loading all datasets provided\n",
    "\"\"\"\n",
    "train_path = \"Datasets/train/\"\n",
    "test_path = \"Datasets/test/\"\n",
    "sub_path = \"Datasets/sample/\"\n",
    "\n",
    "fci_df = pd.read_csv(f\"{train_path}/fulfilment_center_info.csv\")\n",
    "mi_df = pd.read_csv(f\"{train_path}/meal_info.csv\")\n",
    "train_df = pd.read_csv(f\"{train_path}/train.csv\")\n",
    "test_df = pd.read_csv(f\"{test_path}/test.csv\")\n",
    "sub_df = pd.read_csv(f\"{sub_path}/sample_submission.csv\")"
   ]
  },
  {
   "cell_type": "code",
   "execution_count": 13,
   "metadata": {},
   "outputs": [
    {
     "output_type": "execute_result",
     "data": {
      "text/plain": "   center_id  city_code  region_code center_type  op_area\n0         11        679           56      TYPE_A      3.7\n1         13        590           56      TYPE_B      6.7\n2        124        590           56      TYPE_C      4.0\n3         66        648           34      TYPE_A      4.1\n4         94        632           34      TYPE_C      3.6",
      "text/html": "<div>\n<style scoped>\n    .dataframe tbody tr th:only-of-type {\n        vertical-align: middle;\n    }\n\n    .dataframe tbody tr th {\n        vertical-align: top;\n    }\n\n    .dataframe thead th {\n        text-align: right;\n    }\n</style>\n<table border=\"1\" class=\"dataframe\">\n  <thead>\n    <tr style=\"text-align: right;\">\n      <th></th>\n      <th>center_id</th>\n      <th>city_code</th>\n      <th>region_code</th>\n      <th>center_type</th>\n      <th>op_area</th>\n    </tr>\n  </thead>\n  <tbody>\n    <tr>\n      <td>0</td>\n      <td>11</td>\n      <td>679</td>\n      <td>56</td>\n      <td>TYPE_A</td>\n      <td>3.7</td>\n    </tr>\n    <tr>\n      <td>1</td>\n      <td>13</td>\n      <td>590</td>\n      <td>56</td>\n      <td>TYPE_B</td>\n      <td>6.7</td>\n    </tr>\n    <tr>\n      <td>2</td>\n      <td>124</td>\n      <td>590</td>\n      <td>56</td>\n      <td>TYPE_C</td>\n      <td>4.0</td>\n    </tr>\n    <tr>\n      <td>3</td>\n      <td>66</td>\n      <td>648</td>\n      <td>34</td>\n      <td>TYPE_A</td>\n      <td>4.1</td>\n    </tr>\n    <tr>\n      <td>4</td>\n      <td>94</td>\n      <td>632</td>\n      <td>34</td>\n      <td>TYPE_C</td>\n      <td>3.6</td>\n    </tr>\n  </tbody>\n</table>\n</div>"
     },
     "metadata": {},
     "execution_count": 13
    }
   ],
   "source": [
    "\"\"\"\n",
    "EDA of all datasets\n",
    "\"\"\"\n",
    "\n",
    "\"\"\"\n",
    "Fulfilment center info dataset\n",
    "\"\"\"\n",
    "\n",
    "fci_df.head()"
   ]
  },
  {
   "cell_type": "code",
   "execution_count": 14,
   "metadata": {},
   "outputs": [
    {
     "output_type": "stream",
     "name": "stdout",
     "text": "Shape:  (77, 5)\n"
    }
   ],
   "source": [
    "print(\"Shape: \",fci_df.shape)"
   ]
  },
  {
   "cell_type": "code",
   "execution_count": 15,
   "metadata": {},
   "outputs": [
    {
     "output_type": "execute_result",
     "data": {
      "text/plain": "center_id      0\ncity_code      0\nregion_code    0\ncenter_type    0\nop_area        0\ndtype: int64"
     },
     "metadata": {},
     "execution_count": 15
    }
   ],
   "source": [
    "#Checking for null values\n",
    "fci_df.isnull().sum()"
   ]
  },
  {
   "cell_type": "code",
   "execution_count": 16,
   "metadata": {},
   "outputs": [
    {
     "output_type": "execute_result",
     "data": {
      "text/plain": "   meal_id   category cuisine\n0     1885  Beverages    Thai\n1     1993  Beverages    Thai\n2     2539  Beverages    Thai\n3     1248  Beverages  Indian\n4     2631  Beverages  Indian",
      "text/html": "<div>\n<style scoped>\n    .dataframe tbody tr th:only-of-type {\n        vertical-align: middle;\n    }\n\n    .dataframe tbody tr th {\n        vertical-align: top;\n    }\n\n    .dataframe thead th {\n        text-align: right;\n    }\n</style>\n<table border=\"1\" class=\"dataframe\">\n  <thead>\n    <tr style=\"text-align: right;\">\n      <th></th>\n      <th>meal_id</th>\n      <th>category</th>\n      <th>cuisine</th>\n    </tr>\n  </thead>\n  <tbody>\n    <tr>\n      <td>0</td>\n      <td>1885</td>\n      <td>Beverages</td>\n      <td>Thai</td>\n    </tr>\n    <tr>\n      <td>1</td>\n      <td>1993</td>\n      <td>Beverages</td>\n      <td>Thai</td>\n    </tr>\n    <tr>\n      <td>2</td>\n      <td>2539</td>\n      <td>Beverages</td>\n      <td>Thai</td>\n    </tr>\n    <tr>\n      <td>3</td>\n      <td>1248</td>\n      <td>Beverages</td>\n      <td>Indian</td>\n    </tr>\n    <tr>\n      <td>4</td>\n      <td>2631</td>\n      <td>Beverages</td>\n      <td>Indian</td>\n    </tr>\n  </tbody>\n</table>\n</div>"
     },
     "metadata": {},
     "execution_count": 16
    }
   ],
   "source": [
    "\"\"\"\n",
    "Meal info dataset\n",
    "\"\"\"\n",
    "\n",
    "mi_df.head()"
   ]
  },
  {
   "cell_type": "code",
   "execution_count": 17,
   "metadata": {},
   "outputs": [
    {
     "output_type": "stream",
     "name": "stdout",
     "text": "Shape:  (51, 3)\n"
    }
   ],
   "source": [
    "print(\"Shape: \",mi_df.shape)"
   ]
  },
  {
   "cell_type": "code",
   "execution_count": 19,
   "metadata": {},
   "outputs": [
    {
     "output_type": "execute_result",
     "data": {
      "text/plain": "meal_id     0\ncategory    0\ncuisine     0\ndtype: int64"
     },
     "metadata": {},
     "execution_count": 19
    }
   ],
   "source": [
    "#Checking for null values\n",
    "mi_df.isnull().sum()"
   ]
  },
  {
   "cell_type": "code",
   "execution_count": 20,
   "metadata": {},
   "outputs": [
    {
     "output_type": "execute_result",
     "data": {
      "text/plain": "        id  week  center_id  meal_id  checkout_price  base_price  \\\n0  1379560     1         55     1885          136.83      152.29   \n1  1466964     1         55     1993          136.83      135.83   \n2  1346989     1         55     2539          134.86      135.86   \n3  1338232     1         55     2139          339.50      437.53   \n4  1448490     1         55     2631          243.50      242.50   \n\n   emailer_for_promotion  homepage_featured  num_orders  \n0                      0                  0         177  \n1                      0                  0         270  \n2                      0                  0         189  \n3                      0                  0          54  \n4                      0                  0          40  ",
      "text/html": "<div>\n<style scoped>\n    .dataframe tbody tr th:only-of-type {\n        vertical-align: middle;\n    }\n\n    .dataframe tbody tr th {\n        vertical-align: top;\n    }\n\n    .dataframe thead th {\n        text-align: right;\n    }\n</style>\n<table border=\"1\" class=\"dataframe\">\n  <thead>\n    <tr style=\"text-align: right;\">\n      <th></th>\n      <th>id</th>\n      <th>week</th>\n      <th>center_id</th>\n      <th>meal_id</th>\n      <th>checkout_price</th>\n      <th>base_price</th>\n      <th>emailer_for_promotion</th>\n      <th>homepage_featured</th>\n      <th>num_orders</th>\n    </tr>\n  </thead>\n  <tbody>\n    <tr>\n      <td>0</td>\n      <td>1379560</td>\n      <td>1</td>\n      <td>55</td>\n      <td>1885</td>\n      <td>136.83</td>\n      <td>152.29</td>\n      <td>0</td>\n      <td>0</td>\n      <td>177</td>\n    </tr>\n    <tr>\n      <td>1</td>\n      <td>1466964</td>\n      <td>1</td>\n      <td>55</td>\n      <td>1993</td>\n      <td>136.83</td>\n      <td>135.83</td>\n      <td>0</td>\n      <td>0</td>\n      <td>270</td>\n    </tr>\n    <tr>\n      <td>2</td>\n      <td>1346989</td>\n      <td>1</td>\n      <td>55</td>\n      <td>2539</td>\n      <td>134.86</td>\n      <td>135.86</td>\n      <td>0</td>\n      <td>0</td>\n      <td>189</td>\n    </tr>\n    <tr>\n      <td>3</td>\n      <td>1338232</td>\n      <td>1</td>\n      <td>55</td>\n      <td>2139</td>\n      <td>339.50</td>\n      <td>437.53</td>\n      <td>0</td>\n      <td>0</td>\n      <td>54</td>\n    </tr>\n    <tr>\n      <td>4</td>\n      <td>1448490</td>\n      <td>1</td>\n      <td>55</td>\n      <td>2631</td>\n      <td>243.50</td>\n      <td>242.50</td>\n      <td>0</td>\n      <td>0</td>\n      <td>40</td>\n    </tr>\n  </tbody>\n</table>\n</div>"
     },
     "metadata": {},
     "execution_count": 20
    }
   ],
   "source": [
    "\"\"\"\n",
    "Training dataset\n",
    "\"\"\"\n",
    "\n",
    "train_df.head()"
   ]
  },
  {
   "cell_type": "code",
   "execution_count": 21,
   "metadata": {},
   "outputs": [
    {
     "output_type": "stream",
     "name": "stdout",
     "text": "Shape:  (456548, 9)\n"
    }
   ],
   "source": [
    "print(\"Shape: \",train_df.shape)"
   ]
  },
  {
   "cell_type": "code",
   "execution_count": 22,
   "metadata": {},
   "outputs": [
    {
     "output_type": "execute_result",
     "data": {
      "text/plain": "id                       0\nweek                     0\ncenter_id                0\nmeal_id                  0\ncheckout_price           0\nbase_price               0\nemailer_for_promotion    0\nhomepage_featured        0\nnum_orders               0\ndtype: int64"
     },
     "metadata": {},
     "execution_count": 22
    }
   ],
   "source": [
    "#Checking for null values\n",
    "train_df.isnull().sum()"
   ]
  },
  {
   "cell_type": "code",
   "execution_count": 23,
   "metadata": {},
   "outputs": [
    {
     "output_type": "execute_result",
     "data": {
      "text/plain": "        id  week  center_id  meal_id  checkout_price  base_price  \\\n0  1028232   146         55     1885          158.11      159.11   \n1  1127204   146         55     1993          160.11      159.11   \n2  1212707   146         55     2539          157.14      159.14   \n3  1082698   146         55     2631          162.02      162.02   \n4  1400926   146         55     1248          163.93      163.93   \n\n   emailer_for_promotion  homepage_featured  \n0                      0                  0  \n1                      0                  0  \n2                      0                  0  \n3                      0                  0  \n4                      0                  0  ",
      "text/html": "<div>\n<style scoped>\n    .dataframe tbody tr th:only-of-type {\n        vertical-align: middle;\n    }\n\n    .dataframe tbody tr th {\n        vertical-align: top;\n    }\n\n    .dataframe thead th {\n        text-align: right;\n    }\n</style>\n<table border=\"1\" class=\"dataframe\">\n  <thead>\n    <tr style=\"text-align: right;\">\n      <th></th>\n      <th>id</th>\n      <th>week</th>\n      <th>center_id</th>\n      <th>meal_id</th>\n      <th>checkout_price</th>\n      <th>base_price</th>\n      <th>emailer_for_promotion</th>\n      <th>homepage_featured</th>\n    </tr>\n  </thead>\n  <tbody>\n    <tr>\n      <td>0</td>\n      <td>1028232</td>\n      <td>146</td>\n      <td>55</td>\n      <td>1885</td>\n      <td>158.11</td>\n      <td>159.11</td>\n      <td>0</td>\n      <td>0</td>\n    </tr>\n    <tr>\n      <td>1</td>\n      <td>1127204</td>\n      <td>146</td>\n      <td>55</td>\n      <td>1993</td>\n      <td>160.11</td>\n      <td>159.11</td>\n      <td>0</td>\n      <td>0</td>\n    </tr>\n    <tr>\n      <td>2</td>\n      <td>1212707</td>\n      <td>146</td>\n      <td>55</td>\n      <td>2539</td>\n      <td>157.14</td>\n      <td>159.14</td>\n      <td>0</td>\n      <td>0</td>\n    </tr>\n    <tr>\n      <td>3</td>\n      <td>1082698</td>\n      <td>146</td>\n      <td>55</td>\n      <td>2631</td>\n      <td>162.02</td>\n      <td>162.02</td>\n      <td>0</td>\n      <td>0</td>\n    </tr>\n    <tr>\n      <td>4</td>\n      <td>1400926</td>\n      <td>146</td>\n      <td>55</td>\n      <td>1248</td>\n      <td>163.93</td>\n      <td>163.93</td>\n      <td>0</td>\n      <td>0</td>\n    </tr>\n  </tbody>\n</table>\n</div>"
     },
     "metadata": {},
     "execution_count": 23
    }
   ],
   "source": [
    "\"\"\"\n",
    "Testing dataset\n",
    "\"\"\"\n",
    "\n",
    "test_df.head()"
   ]
  },
  {
   "cell_type": "code",
   "execution_count": 24,
   "metadata": {},
   "outputs": [
    {
     "output_type": "stream",
     "name": "stdout",
     "text": "Shape:  (32573, 8)\n"
    }
   ],
   "source": [
    "print(\"Shape: \",test_df.shape)"
   ]
  },
  {
   "cell_type": "code",
   "execution_count": 25,
   "metadata": {},
   "outputs": [
    {
     "output_type": "execute_result",
     "data": {
      "text/plain": "id                       0\nweek                     0\ncenter_id                0\nmeal_id                  0\ncheckout_price           0\nbase_price               0\nemailer_for_promotion    0\nhomepage_featured        0\ndtype: int64"
     },
     "metadata": {},
     "execution_count": 25
    }
   ],
   "source": [
    "#Checking for null values\n",
    "test_df.isnull().sum()"
   ]
  },
  {
   "cell_type": "code",
   "execution_count": 26,
   "metadata": {},
   "outputs": [],
   "source": [
    "\"\"\"\n",
    "Combining the fulfilment center dataset and meal info dataset into one dataset\n",
    "\"\"\"\n",
    "\n",
    "train_df = pd.merge(train_df , fci_df , on=\"center_id\")\n",
    "test_df = pd.merge(test_df , fci_df , on=\"center_id\")\n",
    "\n",
    "train_df = pd.merge(train_df , mi_df , on=\"meal_id\")\n",
    "test_df = pd.merge(test_df , mi_df , on=\"meal_id\")"
   ]
  },
  {
   "cell_type": "code",
   "execution_count": 28,
   "metadata": {},
   "outputs": [
    {
     "output_type": "execute_result",
     "data": {
      "text/plain": "        id  week  center_id  meal_id  checkout_price  base_price  \\\n0  1379560     1         55     1885          136.83      152.29   \n1  1018704     2         55     1885          135.83      152.29   \n2  1196273     3         55     1885          132.92      133.92   \n3  1116527     4         55     1885          135.86      134.86   \n4  1343872     5         55     1885          146.50      147.50   \n\n   emailer_for_promotion  homepage_featured  num_orders  city_code  \\\n0                      0                  0         177        647   \n1                      0                  0         323        647   \n2                      0                  0          96        647   \n3                      0                  0         163        647   \n4                      0                  0         215        647   \n\n   region_code center_type  op_area   category cuisine  \n0           56      TYPE_C      2.0  Beverages    Thai  \n1           56      TYPE_C      2.0  Beverages    Thai  \n2           56      TYPE_C      2.0  Beverages    Thai  \n3           56      TYPE_C      2.0  Beverages    Thai  \n4           56      TYPE_C      2.0  Beverages    Thai  ",
      "text/html": "<div>\n<style scoped>\n    .dataframe tbody tr th:only-of-type {\n        vertical-align: middle;\n    }\n\n    .dataframe tbody tr th {\n        vertical-align: top;\n    }\n\n    .dataframe thead th {\n        text-align: right;\n    }\n</style>\n<table border=\"1\" class=\"dataframe\">\n  <thead>\n    <tr style=\"text-align: right;\">\n      <th></th>\n      <th>id</th>\n      <th>week</th>\n      <th>center_id</th>\n      <th>meal_id</th>\n      <th>checkout_price</th>\n      <th>base_price</th>\n      <th>emailer_for_promotion</th>\n      <th>homepage_featured</th>\n      <th>num_orders</th>\n      <th>city_code</th>\n      <th>region_code</th>\n      <th>center_type</th>\n      <th>op_area</th>\n      <th>category</th>\n      <th>cuisine</th>\n    </tr>\n  </thead>\n  <tbody>\n    <tr>\n      <td>0</td>\n      <td>1379560</td>\n      <td>1</td>\n      <td>55</td>\n      <td>1885</td>\n      <td>136.83</td>\n      <td>152.29</td>\n      <td>0</td>\n      <td>0</td>\n      <td>177</td>\n      <td>647</td>\n      <td>56</td>\n      <td>TYPE_C</td>\n      <td>2.0</td>\n      <td>Beverages</td>\n      <td>Thai</td>\n    </tr>\n    <tr>\n      <td>1</td>\n      <td>1018704</td>\n      <td>2</td>\n      <td>55</td>\n      <td>1885</td>\n      <td>135.83</td>\n      <td>152.29</td>\n      <td>0</td>\n      <td>0</td>\n      <td>323</td>\n      <td>647</td>\n      <td>56</td>\n      <td>TYPE_C</td>\n      <td>2.0</td>\n      <td>Beverages</td>\n      <td>Thai</td>\n    </tr>\n    <tr>\n      <td>2</td>\n      <td>1196273</td>\n      <td>3</td>\n      <td>55</td>\n      <td>1885</td>\n      <td>132.92</td>\n      <td>133.92</td>\n      <td>0</td>\n      <td>0</td>\n      <td>96</td>\n      <td>647</td>\n      <td>56</td>\n      <td>TYPE_C</td>\n      <td>2.0</td>\n      <td>Beverages</td>\n      <td>Thai</td>\n    </tr>\n    <tr>\n      <td>3</td>\n      <td>1116527</td>\n      <td>4</td>\n      <td>55</td>\n      <td>1885</td>\n      <td>135.86</td>\n      <td>134.86</td>\n      <td>0</td>\n      <td>0</td>\n      <td>163</td>\n      <td>647</td>\n      <td>56</td>\n      <td>TYPE_C</td>\n      <td>2.0</td>\n      <td>Beverages</td>\n      <td>Thai</td>\n    </tr>\n    <tr>\n      <td>4</td>\n      <td>1343872</td>\n      <td>5</td>\n      <td>55</td>\n      <td>1885</td>\n      <td>146.50</td>\n      <td>147.50</td>\n      <td>0</td>\n      <td>0</td>\n      <td>215</td>\n      <td>647</td>\n      <td>56</td>\n      <td>TYPE_C</td>\n      <td>2.0</td>\n      <td>Beverages</td>\n      <td>Thai</td>\n    </tr>\n  </tbody>\n</table>\n</div>"
     },
     "metadata": {},
     "execution_count": 28
    }
   ],
   "source": [
    "\"\"\"\n",
    "New train dataset\n",
    "\"\"\"\n",
    "train_df.head()"
   ]
  },
  {
   "cell_type": "code",
   "execution_count": 29,
   "metadata": {},
   "outputs": [],
   "source": [
    "\"\"\"\n",
    "Labelling train and test data\n",
    "\"\"\"\n",
    "\n",
    "train_df[\"train_or_test\"] = \"train\"\n",
    "test_df[\"train_or_test\"] = \"test\""
   ]
  },
  {
   "cell_type": "code",
   "execution_count": 30,
   "metadata": {},
   "outputs": [],
   "source": [
    "\"\"\"\n",
    "Finding natural logarithmic value of the num_orders for easier calculation to the model\n",
    "\"\"\"\n",
    "train_df[\"num_orders\"] = np.log1p(train_df[\"num_orders\"])"
   ]
  },
  {
   "cell_type": "code",
   "execution_count": 31,
   "metadata": {},
   "outputs": [],
   "source": [
    "\"\"\"\n",
    "Combining train and test dataset into one dataset\n",
    "\"\"\"\n",
    "all_df = train_df.append(test_df).reset_index(drop=True)[train_df.columns]"
   ]
  },
  {
   "cell_type": "code",
   "execution_count": 32,
   "metadata": {},
   "outputs": [],
   "source": [
    "\"\"\"\n",
    "Sorting the values on the basis of centers,meals and weeks\n",
    "\"\"\"\n",
    "all_df = all_df.sort_values([\"center_id\" , \"meal_id\" , \"week\"]).reset_index(drop = True)\n",
    "\n",
    "\"\"\"\n",
    "Logarithmic values of checkout and base_price for the model to work efficiently\n",
    "\"\"\"\n",
    "all_df[\"checkout_price\"] = np.log1p(all_df[\"checkout_price\"])\n",
    "all_df[\"base_price\"] = np.log1p(all_df[\"base_price\"])\n",
    "all_df[\"discount_on_base\"] = (all_df[\"base_price\"] - all_df[\"checkout_price\"])/all_df[\"base_price\"]"
   ]
  },
  {
   "cell_type": "code",
   "execution_count": 33,
   "metadata": {},
   "outputs": [
    {
     "output_type": "execute_result",
     "data": {
      "text/plain": "        id  week  center_id  meal_id  checkout_price  base_price  \\\n0  1436842     1         10     1062        5.206147    5.206147   \n1  1205013     2         10     1062        5.216890    5.211451   \n2  1447751     3         10     1062        5.222300    5.211451   \n3  1014968     4         10     1062        5.211451    5.216890   \n4  1003563     5         10     1062        5.217053    5.206147   \n\n   emailer_for_promotion  homepage_featured  num_orders  city_code  \\\n0                      0                  0    6.763885        590   \n1                      0                  0    6.663133        590   \n2                      0                  0    6.747587        590   \n3                      0                  0    7.092574        590   \n4                      0                  0    6.865891        590   \n\n   region_code center_type  op_area   category  cuisine train_or_test  \\\n0           56      TYPE_B      6.3  Beverages  Italian         train   \n1           56      TYPE_B      6.3  Beverages  Italian         train   \n2           56      TYPE_B      6.3  Beverages  Italian         train   \n3           56      TYPE_B      6.3  Beverages  Italian         train   \n4           56      TYPE_B      6.3  Beverages  Italian         train   \n\n   discount_on_base  \n0          0.000000  \n1         -0.001044  \n2         -0.002082  \n3          0.001043  \n4         -0.002095  ",
      "text/html": "<div>\n<style scoped>\n    .dataframe tbody tr th:only-of-type {\n        vertical-align: middle;\n    }\n\n    .dataframe tbody tr th {\n        vertical-align: top;\n    }\n\n    .dataframe thead th {\n        text-align: right;\n    }\n</style>\n<table border=\"1\" class=\"dataframe\">\n  <thead>\n    <tr style=\"text-align: right;\">\n      <th></th>\n      <th>id</th>\n      <th>week</th>\n      <th>center_id</th>\n      <th>meal_id</th>\n      <th>checkout_price</th>\n      <th>base_price</th>\n      <th>emailer_for_promotion</th>\n      <th>homepage_featured</th>\n      <th>num_orders</th>\n      <th>city_code</th>\n      <th>region_code</th>\n      <th>center_type</th>\n      <th>op_area</th>\n      <th>category</th>\n      <th>cuisine</th>\n      <th>train_or_test</th>\n      <th>discount_on_base</th>\n    </tr>\n  </thead>\n  <tbody>\n    <tr>\n      <td>0</td>\n      <td>1436842</td>\n      <td>1</td>\n      <td>10</td>\n      <td>1062</td>\n      <td>5.206147</td>\n      <td>5.206147</td>\n      <td>0</td>\n      <td>0</td>\n      <td>6.763885</td>\n      <td>590</td>\n      <td>56</td>\n      <td>TYPE_B</td>\n      <td>6.3</td>\n      <td>Beverages</td>\n      <td>Italian</td>\n      <td>train</td>\n      <td>0.000000</td>\n    </tr>\n    <tr>\n      <td>1</td>\n      <td>1205013</td>\n      <td>2</td>\n      <td>10</td>\n      <td>1062</td>\n      <td>5.216890</td>\n      <td>5.211451</td>\n      <td>0</td>\n      <td>0</td>\n      <td>6.663133</td>\n      <td>590</td>\n      <td>56</td>\n      <td>TYPE_B</td>\n      <td>6.3</td>\n      <td>Beverages</td>\n      <td>Italian</td>\n      <td>train</td>\n      <td>-0.001044</td>\n    </tr>\n    <tr>\n      <td>2</td>\n      <td>1447751</td>\n      <td>3</td>\n      <td>10</td>\n      <td>1062</td>\n      <td>5.222300</td>\n      <td>5.211451</td>\n      <td>0</td>\n      <td>0</td>\n      <td>6.747587</td>\n      <td>590</td>\n      <td>56</td>\n      <td>TYPE_B</td>\n      <td>6.3</td>\n      <td>Beverages</td>\n      <td>Italian</td>\n      <td>train</td>\n      <td>-0.002082</td>\n    </tr>\n    <tr>\n      <td>3</td>\n      <td>1014968</td>\n      <td>4</td>\n      <td>10</td>\n      <td>1062</td>\n      <td>5.211451</td>\n      <td>5.216890</td>\n      <td>0</td>\n      <td>0</td>\n      <td>7.092574</td>\n      <td>590</td>\n      <td>56</td>\n      <td>TYPE_B</td>\n      <td>6.3</td>\n      <td>Beverages</td>\n      <td>Italian</td>\n      <td>train</td>\n      <td>0.001043</td>\n    </tr>\n    <tr>\n      <td>4</td>\n      <td>1003563</td>\n      <td>5</td>\n      <td>10</td>\n      <td>1062</td>\n      <td>5.217053</td>\n      <td>5.206147</td>\n      <td>0</td>\n      <td>0</td>\n      <td>6.865891</td>\n      <td>590</td>\n      <td>56</td>\n      <td>TYPE_B</td>\n      <td>6.3</td>\n      <td>Beverages</td>\n      <td>Italian</td>\n      <td>train</td>\n      <td>-0.002095</td>\n    </tr>\n  </tbody>\n</table>\n</div>"
     },
     "metadata": {},
     "execution_count": 33
    }
   ],
   "source": [
    "\"\"\"\n",
    "Displaying all dataset\n",
    "\"\"\"\n",
    "all_df.head()"
   ]
  },
  {
   "cell_type": "code",
   "execution_count": 34,
   "metadata": {},
   "outputs": [],
   "source": [
    "all_df[\"neg_discount\"] = (all_df[\"discount_on_base\"] < 0).astype(int)\n",
    "\"\"\"\n",
    "Calculating difference in costs in consecutive orders\n",
    "\"\"\"\n",
    "all_df[\"price_last_curr_diff\"] = (all_df[\"checkout_price\"].shift(1) - all_df[\"checkout_price\"]).fillna(1)/all_df[\"checkout_price\"].shift(1).fillna(1)"
   ]
  },
  {
   "cell_type": "code",
   "execution_count": 42,
   "metadata": {},
   "outputs": [],
   "source": [
    "\"\"\"\n",
    "Grouping by center_id and meal_id and weeks\n",
    "\"\"\"\n",
    "for _, r in all_df.groupby(['center_id', 'meal_id'])['week'].first().reset_index().iterrows():\n",
    "    all_df.loc[(all_df['center_id']==r['center_id']) & (all_df['meal_id']==r['meal_id']) & (all_df['week']==r['week']), 'price_last_curr_diff']=all_df[(all_df['center_id']==r['center_id']) & (all_df['meal_id']==r['meal_id']) & (all_df['week']!=r['week'])]['price_last_curr_diff'].mean()"
   ]
  },
  {
   "cell_type": "code",
   "execution_count": 43,
   "metadata": {},
   "outputs": [],
   "source": [
    "all_df[\"price_last_curr_diff\"] = all_df[\"price_last_curr_diff\"].fillna(0)\n",
    "all_df[\"price_increase\"] = (all_df[\"price_last_curr_diff\"] < 0).astype(int)"
   ]
  },
  {
   "cell_type": "code",
   "execution_count": 44,
   "metadata": {},
   "outputs": [
    {
     "output_type": "execute_result",
     "data": {
      "text/plain": "        id  week  center_id  meal_id  checkout_price  base_price  \\\n0  1436842     1         10     1062        5.206147    5.206147   \n1  1205013     2         10     1062        5.216890    5.211451   \n2  1447751     3         10     1062        5.222300    5.211451   \n3  1014968     4         10     1062        5.211451    5.216890   \n4  1003563     5         10     1062        5.217053    5.206147   \n\n   emailer_for_promotion  homepage_featured  num_orders  city_code  \\\n0                      0                  0    6.763885        590   \n1                      0                  0    6.663133        590   \n2                      0                  0    6.747587        590   \n3                      0                  0    7.092574        590   \n4                      0                  0    6.865891        590   \n\n   region_code center_type  op_area   category  cuisine train_or_test  \\\n0           56      TYPE_B      6.3  Beverages  Italian         train   \n1           56      TYPE_B      6.3  Beverages  Italian         train   \n2           56      TYPE_B      6.3  Beverages  Italian         train   \n3           56      TYPE_B      6.3  Beverages  Italian         train   \n4           56      TYPE_B      6.3  Beverages  Italian         train   \n\n   discount_on_base  neg_discount  price_last_curr_diff  price_increase  \n0          0.000000             0              0.000086               0  \n1         -0.001044             1             -0.002064               1  \n2         -0.002082             1             -0.001037               1  \n3          0.001043             0              0.002077               0  \n4         -0.002095             1             -0.001075               1  ",
      "text/html": "<div>\n<style scoped>\n    .dataframe tbody tr th:only-of-type {\n        vertical-align: middle;\n    }\n\n    .dataframe tbody tr th {\n        vertical-align: top;\n    }\n\n    .dataframe thead th {\n        text-align: right;\n    }\n</style>\n<table border=\"1\" class=\"dataframe\">\n  <thead>\n    <tr style=\"text-align: right;\">\n      <th></th>\n      <th>id</th>\n      <th>week</th>\n      <th>center_id</th>\n      <th>meal_id</th>\n      <th>checkout_price</th>\n      <th>base_price</th>\n      <th>emailer_for_promotion</th>\n      <th>homepage_featured</th>\n      <th>num_orders</th>\n      <th>city_code</th>\n      <th>region_code</th>\n      <th>center_type</th>\n      <th>op_area</th>\n      <th>category</th>\n      <th>cuisine</th>\n      <th>train_or_test</th>\n      <th>discount_on_base</th>\n      <th>neg_discount</th>\n      <th>price_last_curr_diff</th>\n      <th>price_increase</th>\n    </tr>\n  </thead>\n  <tbody>\n    <tr>\n      <td>0</td>\n      <td>1436842</td>\n      <td>1</td>\n      <td>10</td>\n      <td>1062</td>\n      <td>5.206147</td>\n      <td>5.206147</td>\n      <td>0</td>\n      <td>0</td>\n      <td>6.763885</td>\n      <td>590</td>\n      <td>56</td>\n      <td>TYPE_B</td>\n      <td>6.3</td>\n      <td>Beverages</td>\n      <td>Italian</td>\n      <td>train</td>\n      <td>0.000000</td>\n      <td>0</td>\n      <td>0.000086</td>\n      <td>0</td>\n    </tr>\n    <tr>\n      <td>1</td>\n      <td>1205013</td>\n      <td>2</td>\n      <td>10</td>\n      <td>1062</td>\n      <td>5.216890</td>\n      <td>5.211451</td>\n      <td>0</td>\n      <td>0</td>\n      <td>6.663133</td>\n      <td>590</td>\n      <td>56</td>\n      <td>TYPE_B</td>\n      <td>6.3</td>\n      <td>Beverages</td>\n      <td>Italian</td>\n      <td>train</td>\n      <td>-0.001044</td>\n      <td>1</td>\n      <td>-0.002064</td>\n      <td>1</td>\n    </tr>\n    <tr>\n      <td>2</td>\n      <td>1447751</td>\n      <td>3</td>\n      <td>10</td>\n      <td>1062</td>\n      <td>5.222300</td>\n      <td>5.211451</td>\n      <td>0</td>\n      <td>0</td>\n      <td>6.747587</td>\n      <td>590</td>\n      <td>56</td>\n      <td>TYPE_B</td>\n      <td>6.3</td>\n      <td>Beverages</td>\n      <td>Italian</td>\n      <td>train</td>\n      <td>-0.002082</td>\n      <td>1</td>\n      <td>-0.001037</td>\n      <td>1</td>\n    </tr>\n    <tr>\n      <td>3</td>\n      <td>1014968</td>\n      <td>4</td>\n      <td>10</td>\n      <td>1062</td>\n      <td>5.211451</td>\n      <td>5.216890</td>\n      <td>0</td>\n      <td>0</td>\n      <td>7.092574</td>\n      <td>590</td>\n      <td>56</td>\n      <td>TYPE_B</td>\n      <td>6.3</td>\n      <td>Beverages</td>\n      <td>Italian</td>\n      <td>train</td>\n      <td>0.001043</td>\n      <td>0</td>\n      <td>0.002077</td>\n      <td>0</td>\n    </tr>\n    <tr>\n      <td>4</td>\n      <td>1003563</td>\n      <td>5</td>\n      <td>10</td>\n      <td>1062</td>\n      <td>5.217053</td>\n      <td>5.206147</td>\n      <td>0</td>\n      <td>0</td>\n      <td>6.865891</td>\n      <td>590</td>\n      <td>56</td>\n      <td>TYPE_B</td>\n      <td>6.3</td>\n      <td>Beverages</td>\n      <td>Italian</td>\n      <td>train</td>\n      <td>-0.002095</td>\n      <td>1</td>\n      <td>-0.001075</td>\n      <td>1</td>\n    </tr>\n  </tbody>\n</table>\n</div>"
     },
     "metadata": {},
     "execution_count": 44
    }
   ],
   "source": [
    "\"\"\"\n",
    "Printing all values after all operations required on the data\n",
    "\"\"\"\n",
    "all_df.head()"
   ]
  },
  {
   "cell_type": "code",
   "execution_count": 48,
   "metadata": {},
   "outputs": [],
   "source": [
    "\"\"\"\n",
    "Forecasting method used:\n",
    "catBooster regressor method\n",
    "Uses gradient boosting on values for prediction\n",
    "\"\"\"\n",
    "\n",
    "\"\"\"\n",
    "Monthwise aggregation of the sales values\n",
    "\"\"\"\n",
    "\n",
    "def create_sales_agg_monthwise_features(df , gpby_cols , target_col , agg_funcs):\n",
    "    gpby = df.groupby(gpby_cols)\n",
    "    newdf = df[gpby_cols].drop_duplicates().reset_index(drop = True)\n",
    "    for agg_name , agg_func in agg_funcs.items():\n",
    "        aggdf = gpby[target_col].agg(agg_func).reset_index()\n",
    "        aggdf.rename(columns = {target_col:target_col+\"_\"+agg_name} , inplace = True)\n",
    "        newdf = newdf.merge(aggdf , on=gpby_cols , how = \"left\")\n",
    "    \n",
    "    return newdf\n",
    "\n",
    "\"\"\"\n",
    "Creating features from previous sales values\n",
    "\"\"\"\n",
    "\n",
    "\n",
    "# Creating sales lag features\n",
    "\n",
    "def create_sales_lag_feats(df , gpby_cols , target_col , lags):\n",
    "    gpby = df.groupby(gpby_cols)\n",
    "    for lag in lags:\n",
    "        df[\"_\".join([target_col , \"lag\" ,str(lag)])] = gpby[target_col].shift(lag).values + np.random.normal(scale = 1.6 , size = len(df))\n",
    "    \n",
    "    return df\n",
    "\n",
    "# Creating sales rolling mean features\n",
    "def create_sales_rmean_feats(df, gpby_cols, target_col, windows, min_periods=2, \n",
    "                             shift=1, win_type=None):\n",
    "    gpby = df.groupby(gpby_cols)\n",
    "    for w in windows:\n",
    "        df['_'.join([target_col, 'rmean', str(w)])] = \\\n",
    "            gpby[target_col].shift(shift).rolling(window=w, \n",
    "                                                  min_periods=min_periods,\n",
    "                                                  win_type=win_type).mean().values +\\\n",
    "            np.random.normal(scale=1.6, size=(len(df),))\n",
    "    return df\n",
    "\n",
    "\n",
    "# Creating sales rolling median features\n",
    "def create_sales_rmed_feats(df, gpby_cols, target_col, windows, min_periods=2, \n",
    "                            shift=1, win_type=None):\n",
    "    gpby = df.groupby(gpby_cols)\n",
    "    for w in windows:\n",
    "        df['_'.join([target_col, 'rmed', str(w)])] = \\\n",
    "            gpby[target_col].shift(shift).rolling(window=w, \n",
    "                                                  min_periods=min_periods,\n",
    "                                                  win_type=win_type).median().values +\\\n",
    "            np.random.normal(scale=1.6, size=(len(df),))\n",
    "    return df\n",
    "\n",
    "# Creating sales exponentially weighted mean features\n",
    "def create_sales_ewm_feats(df, gpby_cols, target_col, alpha=[0.9], shift=[1]):\n",
    "    gpby = df.groupby(gpby_cols)\n",
    "    for a in alpha:\n",
    "        for s in shift:\n",
    "            df['_'.join([target_col, 'lag', str(s), 'ewm', str(a)])] = \\\n",
    "                gpby[target_col].shift(s).ewm(alpha=a).mean().values\n",
    "    return df\n",
    "\n",
    "def one_hot_encoder(df , ohe_cols):\n",
    "    print(\"Creating OHE features\\nOld df shape: {}\".format(df.shape))\n",
    "    df = pd.get_dummies(df , columns = ohe_cols)\n",
    "    print(\"New df shape : {}\".format(df.shape))\n",
    "\n",
    "    return df"
   ]
  },
  {
   "cell_type": "code",
   "execution_count": 49,
   "metadata": {},
   "outputs": [],
   "source": [
    "\"\"\"\n",
    "Creating num_order lag and ewm\n",
    "\"\"\"\n",
    "\n",
    "all_df = create_sales_lag_feats( all_df , gpby_cols = [\"center_id\" , \"meal_id\"] , target_col = \"num_orders\" , lags = [10,11,12])\n",
    "\n",
    "all_df = create_sales_ewm_feats( all_df , gpby_cols = [\"center_id\" , \"meal_id\"] , target_col = \"num_orders\" , alpha = [0.5] , shift = [10,11,12,13,14,15])"
   ]
  },
  {
   "cell_type": "code",
   "execution_count": 50,
   "metadata": {},
   "outputs": [
    {
     "output_type": "execute_result",
     "data": {
      "text/plain": "(489121, 29)"
     },
     "metadata": {},
     "execution_count": 50
    }
   ],
   "source": [
    "\"\"\"\n",
    "Shape of new all df\n",
    "\"\"\"\n",
    "all_df.shape"
   ]
  },
  {
   "cell_type": "code",
   "execution_count": 51,
   "metadata": {},
   "outputs": [
    {
     "output_type": "display_data",
     "data": {
      "text/plain": "             id  week  center_id  meal_id  checkout_price  base_price  \\\n0       1436842     1         10     1062        5.206147    5.206147   \n1       1205013     2         10     1062        5.216890    5.211451   \n...         ...   ...        ...      ...             ...         ...   \n489119  1429037   115        186     2956        6.366522    6.369952   \n489120  1285049   116        186     2956        5.680275    6.368239   \n\n        emailer_for_promotion  homepage_featured  num_orders  city_code  \\\n0                           0                  0    6.763885        590   \n1                           0                  0    6.663133        590   \n...                       ...                ...         ...        ...   \n489119                      0                  0    2.772589        649   \n489120                      0                  0    4.812184        649   \n\n        region_code center_type  op_area   category      cuisine  \\\n0                56      TYPE_B      6.3  Beverages      Italian   \n1                56      TYPE_B      6.3  Beverages      Italian   \n...             ...         ...      ...        ...          ...   \n489119           34      TYPE_A      3.4       Fish  Continental   \n489120           34      TYPE_A      3.4       Fish  Continental   \n\n       train_or_test  discount_on_base  neg_discount  price_last_curr_diff  \\\n0              train          0.000000             0              0.000086   \n1              train         -0.001044             1             -0.002064   \n...              ...               ...           ...                   ...   \n489119         train          0.000539             0              0.000539   \n489120         train          0.108030             0              0.107790   \n\n        price_increase  num_orders_lag_10  num_orders_lag_11  \\\n0                    0                NaN                NaN   \n1                    1                NaN                NaN   \n...                ...                ...                ...   \n489119               0           1.242330           3.456474   \n489120               0           2.276765           2.876333   \n\n        num_orders_lag_12  num_orders_lag_10_ewm_0.5  \\\n0                     NaN                        NaN   \n1                     NaN                        NaN   \n...                   ...                        ...   \n489119           4.548076                   3.097631   \n489120           5.289352                   3.405601   \n\n        num_orders_lag_11_ewm_0.5  num_orders_lag_12_ewm_0.5  \\\n0                             NaN                        NaN   \n1                             NaN                        NaN   \n...                           ...                        ...   \n489119                   3.556204                   3.398836   \n489120                   3.097631                   3.556204   \n\n        num_orders_lag_13_ewm_0.5  num_orders_lag_14_ewm_0.5  \\\n0                             NaN                        NaN   \n1                             NaN                        NaN   \n...                           ...                        ...   \n489119                   3.430377                   3.564916   \n489120                   3.398836                   3.430377   \n\n        num_orders_lag_15_ewm_0.5  \n0                             NaN  \n1                             NaN  \n...                           ...  \n489119                   3.392163  \n489120                   3.564916  \n\n[489121 rows x 29 columns]",
      "text/html": "<div>\n<style scoped>\n    .dataframe tbody tr th:only-of-type {\n        vertical-align: middle;\n    }\n\n    .dataframe tbody tr th {\n        vertical-align: top;\n    }\n\n    .dataframe thead th {\n        text-align: right;\n    }\n</style>\n<table border=\"1\" class=\"dataframe\">\n  <thead>\n    <tr style=\"text-align: right;\">\n      <th></th>\n      <th>id</th>\n      <th>week</th>\n      <th>center_id</th>\n      <th>meal_id</th>\n      <th>checkout_price</th>\n      <th>base_price</th>\n      <th>emailer_for_promotion</th>\n      <th>homepage_featured</th>\n      <th>num_orders</th>\n      <th>city_code</th>\n      <th>region_code</th>\n      <th>center_type</th>\n      <th>op_area</th>\n      <th>category</th>\n      <th>cuisine</th>\n      <th>train_or_test</th>\n      <th>discount_on_base</th>\n      <th>neg_discount</th>\n      <th>price_last_curr_diff</th>\n      <th>price_increase</th>\n      <th>num_orders_lag_10</th>\n      <th>num_orders_lag_11</th>\n      <th>num_orders_lag_12</th>\n      <th>num_orders_lag_10_ewm_0.5</th>\n      <th>num_orders_lag_11_ewm_0.5</th>\n      <th>num_orders_lag_12_ewm_0.5</th>\n      <th>num_orders_lag_13_ewm_0.5</th>\n      <th>num_orders_lag_14_ewm_0.5</th>\n      <th>num_orders_lag_15_ewm_0.5</th>\n    </tr>\n  </thead>\n  <tbody>\n    <tr>\n      <td>0</td>\n      <td>1436842</td>\n      <td>1</td>\n      <td>10</td>\n      <td>1062</td>\n      <td>5.206147</td>\n      <td>5.206147</td>\n      <td>0</td>\n      <td>0</td>\n      <td>6.763885</td>\n      <td>590</td>\n      <td>56</td>\n      <td>TYPE_B</td>\n      <td>6.3</td>\n      <td>Beverages</td>\n      <td>Italian</td>\n      <td>train</td>\n      <td>0.000000</td>\n      <td>0</td>\n      <td>0.000086</td>\n      <td>0</td>\n      <td>NaN</td>\n      <td>NaN</td>\n      <td>NaN</td>\n      <td>NaN</td>\n      <td>NaN</td>\n      <td>NaN</td>\n      <td>NaN</td>\n      <td>NaN</td>\n      <td>NaN</td>\n    </tr>\n    <tr>\n      <td>1</td>\n      <td>1205013</td>\n      <td>2</td>\n      <td>10</td>\n      <td>1062</td>\n      <td>5.216890</td>\n      <td>5.211451</td>\n      <td>0</td>\n      <td>0</td>\n      <td>6.663133</td>\n      <td>590</td>\n      <td>56</td>\n      <td>TYPE_B</td>\n      <td>6.3</td>\n      <td>Beverages</td>\n      <td>Italian</td>\n      <td>train</td>\n      <td>-0.001044</td>\n      <td>1</td>\n      <td>-0.002064</td>\n      <td>1</td>\n      <td>NaN</td>\n      <td>NaN</td>\n      <td>NaN</td>\n      <td>NaN</td>\n      <td>NaN</td>\n      <td>NaN</td>\n      <td>NaN</td>\n      <td>NaN</td>\n      <td>NaN</td>\n    </tr>\n    <tr>\n      <td>...</td>\n      <td>...</td>\n      <td>...</td>\n      <td>...</td>\n      <td>...</td>\n      <td>...</td>\n      <td>...</td>\n      <td>...</td>\n      <td>...</td>\n      <td>...</td>\n      <td>...</td>\n      <td>...</td>\n      <td>...</td>\n      <td>...</td>\n      <td>...</td>\n      <td>...</td>\n      <td>...</td>\n      <td>...</td>\n      <td>...</td>\n      <td>...</td>\n      <td>...</td>\n      <td>...</td>\n      <td>...</td>\n      <td>...</td>\n      <td>...</td>\n      <td>...</td>\n      <td>...</td>\n      <td>...</td>\n      <td>...</td>\n      <td>...</td>\n    </tr>\n    <tr>\n      <td>489119</td>\n      <td>1429037</td>\n      <td>115</td>\n      <td>186</td>\n      <td>2956</td>\n      <td>6.366522</td>\n      <td>6.369952</td>\n      <td>0</td>\n      <td>0</td>\n      <td>2.772589</td>\n      <td>649</td>\n      <td>34</td>\n      <td>TYPE_A</td>\n      <td>3.4</td>\n      <td>Fish</td>\n      <td>Continental</td>\n      <td>train</td>\n      <td>0.000539</td>\n      <td>0</td>\n      <td>0.000539</td>\n      <td>0</td>\n      <td>1.242330</td>\n      <td>3.456474</td>\n      <td>4.548076</td>\n      <td>3.097631</td>\n      <td>3.556204</td>\n      <td>3.398836</td>\n      <td>3.430377</td>\n      <td>3.564916</td>\n      <td>3.392163</td>\n    </tr>\n    <tr>\n      <td>489120</td>\n      <td>1285049</td>\n      <td>116</td>\n      <td>186</td>\n      <td>2956</td>\n      <td>5.680275</td>\n      <td>6.368239</td>\n      <td>0</td>\n      <td>0</td>\n      <td>4.812184</td>\n      <td>649</td>\n      <td>34</td>\n      <td>TYPE_A</td>\n      <td>3.4</td>\n      <td>Fish</td>\n      <td>Continental</td>\n      <td>train</td>\n      <td>0.108030</td>\n      <td>0</td>\n      <td>0.107790</td>\n      <td>0</td>\n      <td>2.276765</td>\n      <td>2.876333</td>\n      <td>5.289352</td>\n      <td>3.405601</td>\n      <td>3.097631</td>\n      <td>3.556204</td>\n      <td>3.398836</td>\n      <td>3.430377</td>\n      <td>3.564916</td>\n    </tr>\n  </tbody>\n</table>\n<p>489121 rows × 29 columns</p>\n</div>"
     },
     "metadata": {}
    }
   ],
   "source": [
    "\"\"\"\n",
    "Displaying the dataset\n",
    "\"\"\"\n",
    "show_all (all_df , 5 ,None)"
   ]
  },
  {
   "cell_type": "code",
   "execution_count": 52,
   "metadata": {},
   "outputs": [],
   "source": [
    "\"\"\"\n",
    "New Train and test dataset\n",
    "\"\"\"\n",
    "train = all_df.loc[all_df[\"train_or_test\"] == \"train\" , :]\n",
    "test = all_df.loc[all_df[\"train_or_test\"] == \"test\" , :]"
   ]
  },
  {
   "cell_type": "code",
   "execution_count": 53,
   "metadata": {},
   "outputs": [
    {
     "output_type": "stream",
     "name": "stdout",
     "text": "Train shape : (456548, 29)\nTest shape : (32573, 29)\n"
    }
   ],
   "source": [
    "\"\"\"\n",
    "Train shape and test shape\n",
    "\"\"\"\n",
    "print(\"Train shape : {}\\nTest shape : {}\".format(train.shape , test.shape))"
   ]
  },
  {
   "cell_type": "code",
   "execution_count": 54,
   "metadata": {},
   "outputs": [
    {
     "output_type": "execute_result",
     "data": {
      "text/plain": "id                               0\nweek                             0\ncenter_id                        0\nmeal_id                          0\ncheckout_price                   0\nbase_price                       0\nemailer_for_promotion            0\nhomepage_featured                0\nnum_orders                       0\ncity_code                        0\nregion_code                      0\ncenter_type                      0\nop_area                          0\ncategory                         0\ncuisine                          0\ntrain_or_test                    0\ndiscount_on_base                 0\nneg_discount                     0\nprice_last_curr_diff             0\nprice_increase                   0\nnum_orders_lag_10            35843\nnum_orders_lag_11            39412\nnum_orders_lag_12            42980\nnum_orders_lag_10_ewm_0.5       10\nnum_orders_lag_11_ewm_0.5       11\nnum_orders_lag_12_ewm_0.5       12\nnum_orders_lag_13_ewm_0.5       13\nnum_orders_lag_14_ewm_0.5       14\nnum_orders_lag_15_ewm_0.5       15\ndtype: int64"
     },
     "metadata": {},
     "execution_count": 54
    }
   ],
   "source": [
    "\"\"\"\n",
    "Checking for null values\n",
    "\"\"\"\n",
    "train.isnull().sum()"
   ]
  },
  {
   "cell_type": "code",
   "execution_count": 56,
   "metadata": {},
   "outputs": [
    {
     "output_type": "execute_result",
     "data": {
      "text/plain": "['week',\n 'center_id',\n 'meal_id',\n 'emailer_for_promotion',\n 'homepage_featured',\n 'op_area',\n 'category',\n 'cuisine',\n 'discount_on_base',\n 'neg_discount',\n 'price_last_curr_diff',\n 'price_increase',\n 'num_orders_lag_10',\n 'num_orders_lag_11',\n 'num_orders_lag_12',\n 'num_orders_lag_10_ewm_0.5',\n 'num_orders_lag_11_ewm_0.5',\n 'num_orders_lag_12_ewm_0.5',\n 'num_orders_lag_13_ewm_0.5',\n 'num_orders_lag_14_ewm_0.5',\n 'num_orders_lag_15_ewm_0.5']"
     },
     "metadata": {},
     "execution_count": 56
    }
   ],
   "source": [
    "\"\"\"\n",
    "Implementing catboost regressor\n",
    "\"\"\"\n",
    "\n",
    "avoid = [\"id\" , \"num_orders\" , \"train_or_test\" , \"checkout_price\" , \"base_price\" , \"city_code\" , \"region_code\" , \"center_type\" , \"\"]\n",
    "\n",
    "features = [col for col in test.columns if col not in avoid]\n",
    "features"
   ]
  },
  {
   "cell_type": "code",
   "execution_count": 62,
   "metadata": {
    "tags": [
     "outputPrepend",
     "outputPrepend",
     "outputPrepend",
     "outputPrepend",
     "outputPrepend",
     "outputPrepend",
     "outputPrepend",
     "outputPrepend",
     "outputPrepend",
     "outputPrepend",
     "outputPrepend",
     "outputPrepend",
     "outputPrepend",
     "outputPrepend",
     "outputPrepend",
     "outputPrepend",
     "outputPrepend",
     "outputPrepend",
     "outputPrepend",
     "outputPrepend",
     "outputPrepend",
     "outputPrepend",
     "outputPrepend",
     "outputPrepend",
     "outputPrepend",
     "outputPrepend",
     "outputPrepend",
     "outputPrepend",
     "outputPrepend",
     "outputPrepend",
     "outputPrepend",
     "outputPrepend",
     "outputPrepend",
     "outputPrepend",
     "outputPrepend",
     "outputPrepend",
     "outputPrepend",
     "outputPrepend",
     "outputPrepend",
     "outputPrepend",
     "outputPrepend",
     "outputPrepend",
     "outputPrepend",
     "outputPrepend",
     "outputPrepend",
     "outputPrepend",
     "outputPrepend",
     "outputPrepend",
     "outputPrepend",
     "outputPrepend",
     "outputPrepend",
     "outputPrepend",
     "outputPrepend",
     "outputPrepend",
     "outputPrepend",
     "outputPrepend",
     "outputPrepend",
     "outputPrepend",
     "outputPrepend",
     "outputPrepend",
     "outputPrepend",
     "outputPrepend",
     "outputPrepend",
     "outputPrepend",
     "outputPrepend",
     "outputPrepend",
     "outputPrepend",
     "outputPrepend",
     "outputPrepend",
     "outputPrepend",
     "outputPrepend",
     "outputPrepend",
     "outputPrepend",
     "outputPrepend",
     "outputPrepend",
     "outputPrepend",
     "outputPrepend",
     "outputPrepend",
     "outputPrepend",
     "outputPrepend",
     "outputPrepend",
     "outputPrepend",
     "outputPrepend",
     "outputPrepend",
     "outputPrepend",
     "outputPrepend",
     "outputPrepend",
     "outputPrepend",
     "outputPrepend",
     "outputPrepend",
     "outputPrepend",
     "outputPrepend",
     "outputPrepend",
     "outputPrepend",
     "outputPrepend",
     "outputPrepend",
     "outputPrepend",
     "outputPrepend",
     "outputPrepend",
     "outputPrepend",
     "outputPrepend",
     "outputPrepend",
     "outputPrepend",
     "outputPrepend",
     "outputPrepend",
     "outputPrepend",
     "outputPrepend",
     "outputPrepend",
     "outputPrepend",
     "outputPrepend",
     "outputPrepend",
     "outputPrepend",
     "outputPrepend",
     "outputPrepend",
     "outputPrepend",
     "outputPrepend",
     "outputPrepend",
     "outputPrepend",
     "outputPrepend",
     "outputPrepend",
     "outputPrepend",
     "outputPrepend",
     "outputPrepend",
     "outputPrepend",
     "outputPrepend",
     "outputPrepend",
     "outputPrepend",
     "outputPrepend",
     "outputPrepend",
     "outputPrepend",
     "outputPrepend",
     "outputPrepend",
     "outputPrepend",
     "outputPrepend",
     "outputPrepend",
     "outputPrepend",
     "outputPrepend",
     "outputPrepend",
     "outputPrepend",
     "outputPrepend",
     "outputPrepend",
     "outputPrepend",
     "outputPrepend",
     "outputPrepend",
     "outputPrepend",
     "outputPrepend",
     "outputPrepend",
     "outputPrepend",
     "outputPrepend",
     "outputPrepend",
     "outputPrepend",
     "outputPrepend",
     "outputPrepend",
     "outputPrepend",
     "outputPrepend",
     "outputPrepend",
     "outputPrepend",
     "outputPrepend",
     "outputPrepend",
     "outputPrepend",
     "outputPrepend",
     "outputPrepend",
     "outputPrepend",
     "outputPrepend",
     "outputPrepend",
     "outputPrepend",
     "outputPrepend",
     "outputPrepend",
     "outputPrepend",
     "outputPrepend",
     "outputPrepend",
     "outputPrepend",
     "outputPrepend",
     "outputPrepend",
     "outputPrepend",
     "outputPrepend",
     "outputPrepend",
     "outputPrepend",
     "outputPrepend",
     "outputPrepend",
     "outputPrepend",
     "outputPrepend",
     "outputPrepend",
     "outputPrepend",
     "outputPrepend",
     "outputPrepend",
     "outputPrepend",
     "outputPrepend",
     "outputPrepend",
     "outputPrepend",
     "outputPrepend",
     "outputPrepend",
     "outputPrepend",
     "outputPrepend",
     "outputPrepend",
     "outputPrepend",
     "outputPrepend",
     "outputPrepend",
     "outputPrepend",
     "outputPrepend",
     "outputPrepend",
     "outputPrepend",
     "outputPrepend",
     "outputPrepend",
     "outputPrepend",
     "outputPrepend",
     "outputPrepend",
     "outputPrepend",
     "outputPrepend",
     "outputPrepend",
     "outputPrepend",
     "outputPrepend",
     "outputPrepend",
     "outputPrepend",
     "outputPrepend",
     "outputPrepend",
     "outputPrepend",
     "outputPrepend",
     "outputPrepend",
     "outputPrepend",
     "outputPrepend",
     "outputPrepend",
     "outputPrepend",
     "outputPrepend",
     "outputPrepend",
     "outputPrepend",
     "outputPrepend",
     "outputPrepend",
     "outputPrepend",
     "outputPrepend",
     "outputPrepend",
     "outputPrepend",
     "outputPrepend",
     "outputPrepend",
     "outputPrepend",
     "outputPrepend",
     "outputPrepend",
     "outputPrepend",
     "outputPrepend",
     "outputPrepend",
     "outputPrepend",
     "outputPrepend",
     "outputPrepend",
     "outputPrepend",
     "outputPrepend",
     "outputPrepend",
     "outputPrepend"
    ]
   },
   "outputs": [
    {
     "output_type": "stream",
     "name": "stdout",
     "text": "0:\tlearn: 0.8799703\ttotal: 412ms\tremaining: 1m 21s\n1:\tlearn: 0.7333530\ttotal: 876ms\tremaining: 1m 26s\n2:\tlearn: 0.6634167\ttotal: 1.57s\tremaining: 1m 43s\n3:\tlearn: 0.6330906\ttotal: 2.31s\tremaining: 1m 53s\n4:\tlearn: 0.6158935\ttotal: 2.69s\tremaining: 1m 44s\n5:\tlearn: 0.6052067\ttotal: 3.17s\tremaining: 1m 42s\n6:\tlearn: 0.5986738\ttotal: 3.57s\tremaining: 1m 38s\n7:\tlearn: 0.5936541\ttotal: 3.9s\tremaining: 1m 33s\n8:\tlearn: 0.5810082\ttotal: 4.29s\tremaining: 1m 31s\n9:\tlearn: 0.5775897\ttotal: 4.68s\tremaining: 1m 29s\n10:\tlearn: 0.5747898\ttotal: 5.16s\tremaining: 1m 28s\n11:\tlearn: 0.5725972\ttotal: 5.49s\tremaining: 1m 25s\n12:\tlearn: 0.5696887\ttotal: 5.87s\tremaining: 1m 24s\n13:\tlearn: 0.5675570\ttotal: 6.27s\tremaining: 1m 23s\n14:\tlearn: 0.5642399\ttotal: 6.69s\tremaining: 1m 22s\n15:\tlearn: 0.5612122\ttotal: 7.08s\tremaining: 1m 21s\n16:\tlearn: 0.5595167\ttotal: 7.37s\tremaining: 1m 19s\n17:\tlearn: 0.5574564\ttotal: 7.69s\tremaining: 1m 17s\n18:\tlearn: 0.5551582\ttotal: 8.1s\tremaining: 1m 17s\n19:\tlearn: 0.5529260\ttotal: 8.47s\tremaining: 1m 16s\n20:\tlearn: 0.5512685\ttotal: 8.93s\tremaining: 1m 16s\n21:\tlearn: 0.5492456\ttotal: 9.3s\tremaining: 1m 15s\n22:\tlearn: 0.5483919\ttotal: 9.71s\tremaining: 1m 14s\n23:\tlearn: 0.5469277\ttotal: 10.1s\tremaining: 1m 13s\n24:\tlearn: 0.5457590\ttotal: 10.4s\tremaining: 1m 13s\n25:\tlearn: 0.5440734\ttotal: 10.7s\tremaining: 1m 11s\n26:\tlearn: 0.5424025\ttotal: 11.1s\tremaining: 1m 10s\n27:\tlearn: 0.5412440\ttotal: 11.3s\tremaining: 1m 9s\n28:\tlearn: 0.5405724\ttotal: 11.7s\tremaining: 1m 8s\n29:\tlearn: 0.5394891\ttotal: 12s\tremaining: 1m 7s\n30:\tlearn: 0.5387742\ttotal: 12.3s\tremaining: 1m 6s\n31:\tlearn: 0.5376695\ttotal: 12.5s\tremaining: 1m 5s\n32:\tlearn: 0.5369581\ttotal: 12.9s\tremaining: 1m 5s\n33:\tlearn: 0.5362524\ttotal: 13.3s\tremaining: 1m 4s\n34:\tlearn: 0.5354430\ttotal: 13.5s\tremaining: 1m 3s\n35:\tlearn: 0.5348326\ttotal: 13.8s\tremaining: 1m 2s\n36:\tlearn: 0.5341292\ttotal: 14s\tremaining: 1m 1s\n37:\tlearn: 0.5334790\ttotal: 14.4s\tremaining: 1m 1s\n38:\tlearn: 0.5326447\ttotal: 14.6s\tremaining: 1m\n39:\tlearn: 0.5318448\ttotal: 14.8s\tremaining: 59.1s\n40:\tlearn: 0.5308989\ttotal: 15.1s\tremaining: 58.6s\n41:\tlearn: 0.5302737\ttotal: 15.4s\tremaining: 58.1s\n42:\tlearn: 0.5298075\ttotal: 15.8s\tremaining: 57.5s\n43:\tlearn: 0.5291912\ttotal: 16s\tremaining: 56.8s\n44:\tlearn: 0.5271898\ttotal: 16.4s\tremaining: 56.5s\n45:\tlearn: 0.5265075\ttotal: 16.8s\tremaining: 56.1s\n46:\tlearn: 0.5258488\ttotal: 17.2s\tremaining: 55.9s\n47:\tlearn: 0.5252853\ttotal: 17.5s\tremaining: 55.5s\n48:\tlearn: 0.5245474\ttotal: 17.9s\tremaining: 55.3s\n49:\tlearn: 0.5242987\ttotal: 18.3s\tremaining: 54.9s\n50:\tlearn: 0.5237680\ttotal: 18.7s\tremaining: 54.5s\n51:\tlearn: 0.5229067\ttotal: 18.9s\tremaining: 53.9s\n52:\tlearn: 0.5225039\ttotal: 19.3s\tremaining: 53.5s\n53:\tlearn: 0.5222625\ttotal: 19.6s\tremaining: 53.1s\n54:\tlearn: 0.5216993\ttotal: 20s\tremaining: 52.7s\n55:\tlearn: 0.5212047\ttotal: 20.4s\tremaining: 52.4s\n56:\tlearn: 0.5208158\ttotal: 20.7s\tremaining: 51.9s\n57:\tlearn: 0.5204282\ttotal: 21.1s\tremaining: 51.6s\n58:\tlearn: 0.5199892\ttotal: 21.5s\tremaining: 51.3s\n59:\tlearn: 0.5196980\ttotal: 21.8s\tremaining: 51s\n60:\tlearn: 0.5192707\ttotal: 22.2s\tremaining: 50.6s\n61:\tlearn: 0.5189601\ttotal: 22.6s\tremaining: 50.2s\n62:\tlearn: 0.5185636\ttotal: 22.9s\tremaining: 49.7s\n63:\tlearn: 0.5182705\ttotal: 23.3s\tremaining: 49.6s\n64:\tlearn: 0.5179234\ttotal: 23.7s\tremaining: 49.2s\n65:\tlearn: 0.5175614\ttotal: 24s\tremaining: 48.6s\n66:\tlearn: 0.5170022\ttotal: 24.3s\tremaining: 48.1s\n67:\tlearn: 0.5167667\ttotal: 24.6s\tremaining: 47.8s\n68:\tlearn: 0.5162797\ttotal: 25s\tremaining: 47.4s\n69:\tlearn: 0.5150759\ttotal: 25.3s\tremaining: 47.1s\n70:\tlearn: 0.5147396\ttotal: 25.7s\tremaining: 46.7s\n71:\tlearn: 0.5143521\ttotal: 26s\tremaining: 46.2s\n72:\tlearn: 0.5141037\ttotal: 26.4s\tremaining: 46s\n73:\tlearn: 0.5138298\ttotal: 26.9s\tremaining: 45.7s\n74:\tlearn: 0.5135831\ttotal: 27.2s\tremaining: 45.4s\n75:\tlearn: 0.5133360\ttotal: 27.6s\tremaining: 45.1s\n76:\tlearn: 0.5130364\ttotal: 28s\tremaining: 44.7s\n77:\tlearn: 0.5127116\ttotal: 28.3s\tremaining: 44.3s\n78:\tlearn: 0.5123685\ttotal: 28.6s\tremaining: 43.9s\n79:\tlearn: 0.5119157\ttotal: 29s\tremaining: 43.5s\n80:\tlearn: 0.5118019\ttotal: 29.4s\tremaining: 43.2s\n81:\tlearn: 0.5116272\ttotal: 29.7s\tremaining: 42.7s\n82:\tlearn: 0.5114389\ttotal: 30s\tremaining: 42.3s\n83:\tlearn: 0.5113451\ttotal: 30.4s\tremaining: 42s\n84:\tlearn: 0.5111865\ttotal: 30.7s\tremaining: 41.6s\n85:\tlearn: 0.5109429\ttotal: 31.2s\tremaining: 41.3s\n86:\tlearn: 0.5105832\ttotal: 31.5s\tremaining: 40.9s\n87:\tlearn: 0.5102553\ttotal: 31.9s\tremaining: 40.6s\n88:\tlearn: 0.5099577\ttotal: 32.3s\tremaining: 40.3s\n89:\tlearn: 0.5096778\ttotal: 32.6s\tremaining: 39.8s\n90:\tlearn: 0.5094827\ttotal: 33s\tremaining: 39.5s\n91:\tlearn: 0.5090570\ttotal: 33.4s\tremaining: 39.3s\n92:\tlearn: 0.5088404\ttotal: 33.9s\tremaining: 39s\n93:\tlearn: 0.5085569\ttotal: 34.3s\tremaining: 38.7s\n94:\tlearn: 0.5078880\ttotal: 34.7s\tremaining: 38.3s\n95:\tlearn: 0.5077152\ttotal: 35s\tremaining: 38s\n96:\tlearn: 0.5075615\ttotal: 35.4s\tremaining: 37.6s\n97:\tlearn: 0.5072377\ttotal: 35.7s\tremaining: 37.1s\n98:\tlearn: 0.5071128\ttotal: 36s\tremaining: 36.7s\n99:\tlearn: 0.5068569\ttotal: 36.4s\tremaining: 36.4s\n100:\tlearn: 0.5067382\ttotal: 36.7s\tremaining: 36s\n101:\tlearn: 0.5065474\ttotal: 37s\tremaining: 35.6s\n102:\tlearn: 0.5063452\ttotal: 37.4s\tremaining: 35.2s\n103:\tlearn: 0.5061857\ttotal: 37.8s\tremaining: 34.9s\n104:\tlearn: 0.5054087\ttotal: 38.2s\tremaining: 34.5s\n105:\tlearn: 0.5053088\ttotal: 38.6s\tremaining: 34.2s\n106:\tlearn: 0.5051156\ttotal: 38.9s\tremaining: 33.8s\n107:\tlearn: 0.5048648\ttotal: 39.2s\tremaining: 33.4s\n108:\tlearn: 0.5047156\ttotal: 39.6s\tremaining: 33s\n109:\tlearn: 0.5040762\ttotal: 39.9s\tremaining: 32.7s\n110:\tlearn: 0.5039145\ttotal: 40.2s\tremaining: 32.2s\n111:\tlearn: 0.5037286\ttotal: 40.5s\tremaining: 31.8s\n112:\tlearn: 0.5035184\ttotal: 40.7s\tremaining: 31.4s\n113:\tlearn: 0.5033868\ttotal: 41s\tremaining: 30.9s\n114:\tlearn: 0.5031260\ttotal: 41.3s\tremaining: 30.5s\n115:\tlearn: 0.5029332\ttotal: 41.6s\tremaining: 30.1s\n116:\tlearn: 0.5028045\ttotal: 41.8s\tremaining: 29.7s\n117:\tlearn: 0.5026964\ttotal: 42.1s\tremaining: 29.3s\n118:\tlearn: 0.5025908\ttotal: 42.5s\tremaining: 29s\n119:\tlearn: 0.5023949\ttotal: 42.9s\tremaining: 28.6s\n120:\tlearn: 0.5022238\ttotal: 43.4s\tremaining: 28.4s\n121:\tlearn: 0.5020176\ttotal: 43.8s\tremaining: 28s\n122:\tlearn: 0.5018493\ttotal: 44.1s\tremaining: 27.6s\n123:\tlearn: 0.5017251\ttotal: 44.5s\tremaining: 27.3s\n124:\tlearn: 0.5014926\ttotal: 44.7s\tremaining: 26.8s\n125:\tlearn: 0.5012764\ttotal: 45.1s\tremaining: 26.5s\n126:\tlearn: 0.5010300\ttotal: 45.4s\tremaining: 26.1s\n127:\tlearn: 0.5008911\ttotal: 45.7s\tremaining: 25.7s\n128:\tlearn: 0.5007217\ttotal: 46.1s\tremaining: 25.4s\n129:\tlearn: 0.5005952\ttotal: 46.4s\tremaining: 25s\n130:\tlearn: 0.5004062\ttotal: 46.6s\tremaining: 24.6s\n131:\tlearn: 0.5001759\ttotal: 46.9s\tremaining: 24.2s\n132:\tlearn: 0.5000564\ttotal: 47.2s\tremaining: 23.8s\n133:\tlearn: 0.4999069\ttotal: 47.5s\tremaining: 23.4s\n134:\tlearn: 0.4997750\ttotal: 48s\tremaining: 23.1s\n135:\tlearn: 0.4997060\ttotal: 48.3s\tremaining: 22.7s\n136:\tlearn: 0.4996303\ttotal: 48.7s\tremaining: 22.4s\n137:\tlearn: 0.4994939\ttotal: 49.1s\tremaining: 22s\n138:\tlearn: 0.4993581\ttotal: 49.4s\tremaining: 21.7s\n139:\tlearn: 0.4992486\ttotal: 49.7s\tremaining: 21.3s\n140:\tlearn: 0.4991090\ttotal: 50.1s\tremaining: 21s\n141:\tlearn: 0.4990252\ttotal: 50.4s\tremaining: 20.6s\n142:\tlearn: 0.4989541\ttotal: 50.8s\tremaining: 20.2s\n143:\tlearn: 0.4988672\ttotal: 51.2s\tremaining: 19.9s\n144:\tlearn: 0.4987850\ttotal: 51.5s\tremaining: 19.5s\n145:\tlearn: 0.4985676\ttotal: 52s\tremaining: 19.2s\n146:\tlearn: 0.4984003\ttotal: 52.3s\tremaining: 18.9s\n147:\tlearn: 0.4982669\ttotal: 52.7s\tremaining: 18.5s\n148:\tlearn: 0.4980860\ttotal: 53.1s\tremaining: 18.2s\n149:\tlearn: 0.4979849\ttotal: 53.6s\tremaining: 17.9s\n150:\tlearn: 0.4978377\ttotal: 54s\tremaining: 17.5s\n151:\tlearn: 0.4976816\ttotal: 54.4s\tremaining: 17.2s\n152:\tlearn: 0.4974994\ttotal: 54.8s\tremaining: 16.8s\n153:\tlearn: 0.4973914\ttotal: 55.1s\tremaining: 16.5s\n154:\tlearn: 0.4972782\ttotal: 55.5s\tremaining: 16.1s\n155:\tlearn: 0.4970677\ttotal: 55.8s\tremaining: 15.7s\n156:\tlearn: 0.4969801\ttotal: 56.2s\tremaining: 15.4s\n157:\tlearn: 0.4968428\ttotal: 56.6s\tremaining: 15s\n158:\tlearn: 0.4966194\ttotal: 56.9s\tremaining: 14.7s\n159:\tlearn: 0.4965222\ttotal: 57.2s\tremaining: 14.3s\n160:\tlearn: 0.4963703\ttotal: 57.6s\tremaining: 13.9s\n161:\tlearn: 0.4962048\ttotal: 58s\tremaining: 13.6s\n162:\tlearn: 0.4959254\ttotal: 58.3s\tremaining: 13.2s\n163:\tlearn: 0.4958055\ttotal: 58.8s\tremaining: 12.9s\n164:\tlearn: 0.4956894\ttotal: 59.1s\tremaining: 12.5s\n165:\tlearn: 0.4955954\ttotal: 59.3s\tremaining: 12.1s\n166:\tlearn: 0.4954791\ttotal: 59.6s\tremaining: 11.8s\n167:\tlearn: 0.4953083\ttotal: 1m\tremaining: 11.4s\n168:\tlearn: 0.4951933\ttotal: 1m\tremaining: 11.1s\n169:\tlearn: 0.4950331\ttotal: 1m\tremaining: 10.7s\n170:\tlearn: 0.4949277\ttotal: 1m\tremaining: 10.3s\n171:\tlearn: 0.4948282\ttotal: 1m 1s\tremaining: 9.97s\n172:\tlearn: 0.4947314\ttotal: 1m 1s\tremaining: 9.61s\n173:\tlearn: 0.4945854\ttotal: 1m 1s\tremaining: 9.26s\n174:\tlearn: 0.4945138\ttotal: 1m 2s\tremaining: 8.89s\n175:\tlearn: 0.4943704\ttotal: 1m 2s\tremaining: 8.53s\n176:\tlearn: 0.4942709\ttotal: 1m 2s\tremaining: 8.16s\n177:\tlearn: 0.4940959\ttotal: 1m 3s\tremaining: 7.82s\n178:\tlearn: 0.4940359\ttotal: 1m 3s\tremaining: 7.47s\n179:\tlearn: 0.4939255\ttotal: 1m 4s\tremaining: 7.12s\n180:\tlearn: 0.4938141\ttotal: 1m 4s\tremaining: 6.76s\n181:\tlearn: 0.4936570\ttotal: 1m 4s\tremaining: 6.4s\n182:\tlearn: 0.4934432\ttotal: 1m 5s\tremaining: 6.05s\n183:\tlearn: 0.4932988\ttotal: 1m 5s\tremaining: 5.69s\n184:\tlearn: 0.4929923\ttotal: 1m 5s\tremaining: 5.33s\n185:\tlearn: 0.4929283\ttotal: 1m 6s\tremaining: 4.99s\n186:\tlearn: 0.4928368\ttotal: 1m 6s\tremaining: 4.63s\n187:\tlearn: 0.4927153\ttotal: 1m 6s\tremaining: 4.27s\n188:\tlearn: 0.4926222\ttotal: 1m 7s\tremaining: 3.91s\n189:\tlearn: 0.4925358\ttotal: 1m 7s\tremaining: 3.55s\n190:\tlearn: 0.4924366\ttotal: 1m 7s\tremaining: 3.2s\n191:\tlearn: 0.4923282\ttotal: 1m 8s\tremaining: 2.85s\n192:\tlearn: 0.4921774\ttotal: 1m 8s\tremaining: 2.49s\n193:\tlearn: 0.4920539\ttotal: 1m 8s\tremaining: 2.13s\n194:\tlearn: 0.4919913\ttotal: 1m 9s\tremaining: 1.78s\n195:\tlearn: 0.4914751\ttotal: 1m 9s\tremaining: 1.42s\n196:\tlearn: 0.4912661\ttotal: 1m 9s\tremaining: 1.06s\n197:\tlearn: 0.4911647\ttotal: 1m 10s\tremaining: 708ms\n198:\tlearn: 0.4910904\ttotal: 1m 10s\tremaining: 354ms\n199:\tlearn: 0.4909284\ttotal: 1m 10s\tremaining: 0us\n"
    },
    {
     "output_type": "execute_result",
     "data": {
      "text/plain": "<catboost.core.CatBoostRegressor at 0x1c1a9b84e48>"
     },
     "metadata": {},
     "execution_count": 62
    }
   ],
   "source": [
    "\"\"\"\n",
    "Features index to be included while fitting in the model\n",
    "\"\"\"\n",
    "cat_index = [1,2,3,4,6,7,9,11]\n",
    "\n",
    "cat_regressor = cb.CatBoostRegressor(iterations = 200,\n",
    "                                     learning_rate = 0.5,\n",
    "                                     depth = 5,\n",
    "                                     l2_leaf_reg = 10,\n",
    "                                     loss_function = \"RMSE\" ,\n",
    "                                     random_seed = 2020)\n",
    "\n",
    "cat_regressor.fit( X = train[features],\n",
    "                   y = train[\"num_orders\"] ,\n",
    "                   cat_features = cat_index ,\n",
    "                   verbose = True)"
   ]
  },
  {
   "cell_type": "code",
   "execution_count": 63,
   "metadata": {},
   "outputs": [
    {
     "output_type": "execute_result",
     "data": {
      "text/plain": "array([6.89979613, 6.86790046, 6.75314512, ..., 2.9874359 , 2.96157175,\n       3.32487581])"
     },
     "metadata": {},
     "execution_count": 63
    }
   ],
   "source": [
    "\"\"\"\n",
    "Prediction of the food demand\n",
    "\"\"\"\n",
    "pred = cat_regressor.predict(test[features])\n",
    "pred"
   ]
  },
  {
   "cell_type": "code",
   "execution_count": 60,
   "metadata": {},
   "outputs": [],
   "source": [
    "pred = (np.exp(pred) - 1)"
   ]
  },
  {
   "cell_type": "code",
   "execution_count": 61,
   "metadata": {},
   "outputs": [],
   "source": [
    "\"\"\"\n",
    "Making the submissions csv\n",
    "\"\"\"\n",
    "sub_df = pd.DataFrame( columns = [\"id\" , \"num_orders\"])\n",
    "sub_df[\"id\"] = test[\"id\"]\n",
    "sub_df[\"num_orders\"] = pred\n",
    "\n",
    "\"\"\"\n",
    "Converting the dataset into csv\n",
    "\"\"\"\n",
    "sub_df.to_csv(f\"{sub_path}/submissions.csv\" , index = False)"
   ]
  },
  {
   "cell_type": "code",
   "execution_count": null,
   "metadata": {},
   "outputs": [],
   "source": []
  }
 ],
 "metadata": {
  "kernelspec": {
   "display_name": "Python 3",
   "language": "python",
   "name": "python3"
  },
  "language_info": {
   "codemirror_mode": {
    "name": "ipython",
    "version": 3
   },
   "file_extension": ".py",
   "mimetype": "text/x-python",
   "name": "python",
   "nbconvert_exporter": "python",
   "pygments_lexer": "ipython3",
   "version": "3.7.4-final"
  }
 },
 "nbformat": 4,
 "nbformat_minor": 2
}