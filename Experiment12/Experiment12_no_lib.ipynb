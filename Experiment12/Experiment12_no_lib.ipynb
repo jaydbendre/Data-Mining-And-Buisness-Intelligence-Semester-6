{
 "cells": [
  {
   "cell_type": "code",
   "execution_count": 1,
   "metadata": {},
   "outputs": [],
   "source": [
    "import pandas as pd\n",
    "import itertools"
   ]
  },
  {
   "cell_type": "code",
   "execution_count": 3,
   "metadata": {},
   "outputs": [
    {
     "output_type": "execute_result",
     "data": {
      "text/plain": "                                           0   \\\n536365     WHITE HANGING HEART T-LIGHT HOLDER   \n536366                 HAND WARMER UNION JACK   \n536367          ASSORTED COLOUR BIRD ORNAMENT   \n536368               JAM MAKING SET WITH JARS   \n536369__-            BATH BUILDING BLOCK WORD   \n\n                                           1                               2   \\\n536365     WHITE HANGING HEART T-LIGHT HOLDER             WHITE METAL LANTERN   \n536366              HAND WARMER RED POLKA DOT                             NaN   \n536367             POPPY'S PLAYHOUSE BEDROOM        POPPY'S PLAYHOUSE KITCHEN   \n536368            RED COAT RACK PARIS FASHION  YELLOW COAT RACK PARIS FASHION   \n536369__-                                 NaN                             NaN   \n\n                                          3   \\\n536365        CREAM CUPID HEARTS COAT HANGER   \n536366                                   NaN   \n536367     FELTCRAFT PRINCESS CHARLOTTE DOLL   \n536368          BLUE COAT RACK PARIS FASHION   \n536369__-                                NaN   \n\n                                            4   \\\n536365     KNITTED UNION FLAG HOT WATER BOTTLE   \n536366                                     NaN   \n536367                 IVORY KNITTED MUG COSY    \n536368                                     NaN   \n536369__-                                  NaN   \n\n                                           5                              6   \\\n536365         RED WOOLLY HOTTIE WHITE HEART.   SET 7 BABUSHKA NESTING BOXES   \n536366                                    NaN                            NaN   \n536367     BOX OF 6 ASSORTED COLOUR TEASPOONS  BOX OF VINTAGE JIGSAW BLOCKS    \n536368                                    NaN                            NaN   \n536369__-                                 NaN                            NaN   \n\n                                          7                         8   \\\n536365     GLASS STAR FROSTED T-LIGHT HOLDER                       NaN   \n536366                                   NaN                       NaN   \n536367        BOX OF VINTAGE ALPHABET BLOCKS  HOME BUILDING BLOCK WORD   \n536368                                   NaN                       NaN   \n536369__-                                NaN                       NaN   \n\n                                 9   ...   54   55   56   57   58   59   60  \\\n536365                          NaN  ...  NaN  NaN  NaN  NaN  NaN  NaN  NaN   \n536366                          NaN  ...  NaN  NaN  NaN  NaN  NaN  NaN  NaN   \n536367     LOVE BUILDING BLOCK WORD  ...  NaN  NaN  NaN  NaN  NaN  NaN  NaN   \n536368                          NaN  ...  NaN  NaN  NaN  NaN  NaN  NaN  NaN   \n536369__-                       NaN  ...  NaN  NaN  NaN  NaN  NaN  NaN  NaN   \n\n            61   62   63  \n536365     NaN  NaN  NaN  \n536366     NaN  NaN  NaN  \n536367     NaN  NaN  NaN  \n536368     NaN  NaN  NaN  \n536369__-  NaN  NaN  NaN  \n\n[5 rows x 64 columns]",
      "text/html": "<div>\n<style scoped>\n    .dataframe tbody tr th:only-of-type {\n        vertical-align: middle;\n    }\n\n    .dataframe tbody tr th {\n        vertical-align: top;\n    }\n\n    .dataframe thead th {\n        text-align: right;\n    }\n</style>\n<table border=\"1\" class=\"dataframe\">\n  <thead>\n    <tr style=\"text-align: right;\">\n      <th></th>\n      <th>0</th>\n      <th>1</th>\n      <th>2</th>\n      <th>3</th>\n      <th>4</th>\n      <th>5</th>\n      <th>6</th>\n      <th>7</th>\n      <th>8</th>\n      <th>9</th>\n      <th>...</th>\n      <th>54</th>\n      <th>55</th>\n      <th>56</th>\n      <th>57</th>\n      <th>58</th>\n      <th>59</th>\n      <th>60</th>\n      <th>61</th>\n      <th>62</th>\n      <th>63</th>\n    </tr>\n  </thead>\n  <tbody>\n    <tr>\n      <td>536365</td>\n      <td>WHITE HANGING HEART T-LIGHT HOLDER</td>\n      <td>WHITE HANGING HEART T-LIGHT HOLDER</td>\n      <td>WHITE METAL LANTERN</td>\n      <td>CREAM CUPID HEARTS COAT HANGER</td>\n      <td>KNITTED UNION FLAG HOT WATER BOTTLE</td>\n      <td>RED WOOLLY HOTTIE WHITE HEART.</td>\n      <td>SET 7 BABUSHKA NESTING BOXES</td>\n      <td>GLASS STAR FROSTED T-LIGHT HOLDER</td>\n      <td>NaN</td>\n      <td>NaN</td>\n      <td>...</td>\n      <td>NaN</td>\n      <td>NaN</td>\n      <td>NaN</td>\n      <td>NaN</td>\n      <td>NaN</td>\n      <td>NaN</td>\n      <td>NaN</td>\n      <td>NaN</td>\n      <td>NaN</td>\n      <td>NaN</td>\n    </tr>\n    <tr>\n      <td>536366</td>\n      <td>HAND WARMER UNION JACK</td>\n      <td>HAND WARMER RED POLKA DOT</td>\n      <td>NaN</td>\n      <td>NaN</td>\n      <td>NaN</td>\n      <td>NaN</td>\n      <td>NaN</td>\n      <td>NaN</td>\n      <td>NaN</td>\n      <td>NaN</td>\n      <td>...</td>\n      <td>NaN</td>\n      <td>NaN</td>\n      <td>NaN</td>\n      <td>NaN</td>\n      <td>NaN</td>\n      <td>NaN</td>\n      <td>NaN</td>\n      <td>NaN</td>\n      <td>NaN</td>\n      <td>NaN</td>\n    </tr>\n    <tr>\n      <td>536367</td>\n      <td>ASSORTED COLOUR BIRD ORNAMENT</td>\n      <td>POPPY'S PLAYHOUSE BEDROOM</td>\n      <td>POPPY'S PLAYHOUSE KITCHEN</td>\n      <td>FELTCRAFT PRINCESS CHARLOTTE DOLL</td>\n      <td>IVORY KNITTED MUG COSY</td>\n      <td>BOX OF 6 ASSORTED COLOUR TEASPOONS</td>\n      <td>BOX OF VINTAGE JIGSAW BLOCKS</td>\n      <td>BOX OF VINTAGE ALPHABET BLOCKS</td>\n      <td>HOME BUILDING BLOCK WORD</td>\n      <td>LOVE BUILDING BLOCK WORD</td>\n      <td>...</td>\n      <td>NaN</td>\n      <td>NaN</td>\n      <td>NaN</td>\n      <td>NaN</td>\n      <td>NaN</td>\n      <td>NaN</td>\n      <td>NaN</td>\n      <td>NaN</td>\n      <td>NaN</td>\n      <td>NaN</td>\n    </tr>\n    <tr>\n      <td>536368</td>\n      <td>JAM MAKING SET WITH JARS</td>\n      <td>RED COAT RACK PARIS FASHION</td>\n      <td>YELLOW COAT RACK PARIS FASHION</td>\n      <td>BLUE COAT RACK PARIS FASHION</td>\n      <td>NaN</td>\n      <td>NaN</td>\n      <td>NaN</td>\n      <td>NaN</td>\n      <td>NaN</td>\n      <td>NaN</td>\n      <td>...</td>\n      <td>NaN</td>\n      <td>NaN</td>\n      <td>NaN</td>\n      <td>NaN</td>\n      <td>NaN</td>\n      <td>NaN</td>\n      <td>NaN</td>\n      <td>NaN</td>\n      <td>NaN</td>\n      <td>NaN</td>\n    </tr>\n    <tr>\n      <td>536369__-</td>\n      <td>BATH BUILDING BLOCK WORD</td>\n      <td>NaN</td>\n      <td>NaN</td>\n      <td>NaN</td>\n      <td>NaN</td>\n      <td>NaN</td>\n      <td>NaN</td>\n      <td>NaN</td>\n      <td>NaN</td>\n      <td>NaN</td>\n      <td>...</td>\n      <td>NaN</td>\n      <td>NaN</td>\n      <td>NaN</td>\n      <td>NaN</td>\n      <td>NaN</td>\n      <td>NaN</td>\n      <td>NaN</td>\n      <td>NaN</td>\n      <td>NaN</td>\n      <td>NaN</td>\n    </tr>\n  </tbody>\n</table>\n<p>5 rows × 64 columns</p>\n</div>"
     },
     "metadata": {},
     "execution_count": 3
    }
   ],
   "source": [
    "data = pd.read_csv(\"values.csv\")\n",
    "data = data.T\n",
    "data.head()"
   ]
  },
  {
   "cell_type": "code",
   "execution_count": null,
   "metadata": {},
   "outputs": [],
   "source": []
  }
 ],
 "metadata": {
  "language_info": {
   "codemirror_mode": {
    "name": "ipython",
    "version": 3
   },
   "file_extension": ".py",
   "mimetype": "text/x-python",
   "name": "python",
   "nbconvert_exporter": "python",
   "pygments_lexer": "ipython3",
   "version": "3.7.4-final"
  },
  "orig_nbformat": 2,
  "kernelspec": {
   "name": "python3",
   "display_name": "Python 3"
  }
 },
 "nbformat": 4,
 "nbformat_minor": 2
}