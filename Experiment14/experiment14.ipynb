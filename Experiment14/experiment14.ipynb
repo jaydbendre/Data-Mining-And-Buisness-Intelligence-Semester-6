{
 "cells": [
  {
   "cell_type": "code",
   "execution_count": 5,
   "metadata": {},
   "outputs": [],
   "source": [
    "\"\"\"\n",
    "Problem Statement\n",
    "Your client is a meal delivery company which operates in multiple cities. They have various fulfillment centers in these cities for dispatching meal orders to their customers. \n",
    "The client wants you to help these centers with demand forecasting for upcoming weeks so that these centers will plan the stock of raw materials accordingly.\n",
    "\"\"\"\n",
    "\n",
    "\"\"\"\n",
    "Imports required for implementation.\n",
    "\"\"\"\n",
    "import pandas as pd\n",
    "import numpy as np\n",
    "import matplotlib.pyplot as plt\n",
    "import warnings\n",
    "import seaborn as sns\n",
    "import gc\n",
    "import catboost as cb\n",
    "from sklearn.metrics import mean_squared_log_error,mean_squared_error\n",
    "from sklearn.model_selection import train_test_split,KFold\n",
    "%matplotlib inline\n",
    "warnings.filterwarnings(\"ignore\")"
   ]
  },
  {
   "cell_type": "code",
   "execution_count": 6,
   "metadata": {},
   "outputs": [],
   "source": [
    "def show_all(df,nrow,ncol):\n",
    "    with pd.option_context(\"display.max_rows\",nrow,\"display.max_columns\",ncol):\n",
    "        display(df)"
   ]
  },
  {
   "cell_type": "code",
   "execution_count": 12,
   "metadata": {},
   "outputs": [],
   "source": [
    "\"\"\"\n",
    "Loading all datasets provided\n",
    "\"\"\"\n",
    "train_path = \"Datasets/train/\"\n",
    "test_path = \"Datasets/test/\"\n",
    "sub_path = \"Datasets/sample/\"\n",
    "\n",
    "fci_df = pd.read_csv(f\"{train_path}/fulfilment_center_info.csv\")\n",
    "mi_df = pd.read_csv(f\"{train_path}/meal_info.csv\")\n",
    "train_df = pd.read_csv(f\"{train_path}/train.csv\")\n",
    "test_df = pd.read_csv(f\"{test_path}/test.csv\")\n",
    "sub_df = pd.read_csv(f\"{sub_path}/sample_submission.csv\")"
   ]
  },
  {
   "cell_type": "code",
   "execution_count": 13,
   "metadata": {},
   "outputs": [
    {
     "output_type": "execute_result",
     "data": {
      "text/plain": "   center_id  city_code  region_code center_type  op_area\n0         11        679           56      TYPE_A      3.7\n1         13        590           56      TYPE_B      6.7\n2        124        590           56      TYPE_C      4.0\n3         66        648           34      TYPE_A      4.1\n4         94        632           34      TYPE_C      3.6",
      "text/html": "<div>\n<style scoped>\n    .dataframe tbody tr th:only-of-type {\n        vertical-align: middle;\n    }\n\n    .dataframe tbody tr th {\n        vertical-align: top;\n    }\n\n    .dataframe thead th {\n        text-align: right;\n    }\n</style>\n<table border=\"1\" class=\"dataframe\">\n  <thead>\n    <tr style=\"text-align: right;\">\n      <th></th>\n      <th>center_id</th>\n      <th>city_code</th>\n      <th>region_code</th>\n      <th>center_type</th>\n      <th>op_area</th>\n    </tr>\n  </thead>\n  <tbody>\n    <tr>\n      <td>0</td>\n      <td>11</td>\n      <td>679</td>\n      <td>56</td>\n      <td>TYPE_A</td>\n      <td>3.7</td>\n    </tr>\n    <tr>\n      <td>1</td>\n      <td>13</td>\n      <td>590</td>\n      <td>56</td>\n      <td>TYPE_B</td>\n      <td>6.7</td>\n    </tr>\n    <tr>\n      <td>2</td>\n      <td>124</td>\n      <td>590</td>\n      <td>56</td>\n      <td>TYPE_C</td>\n      <td>4.0</td>\n    </tr>\n    <tr>\n      <td>3</td>\n      <td>66</td>\n      <td>648</td>\n      <td>34</td>\n      <td>TYPE_A</td>\n      <td>4.1</td>\n    </tr>\n    <tr>\n      <td>4</td>\n      <td>94</td>\n      <td>632</td>\n      <td>34</td>\n      <td>TYPE_C</td>\n      <td>3.6</td>\n    </tr>\n  </tbody>\n</table>\n</div>"
     },
     "metadata": {},
     "execution_count": 13
    }
   ],
   "source": [
    "\"\"\"\n",
    "EDA of all datasets\n",
    "\"\"\"\n",
    "\n",
    "\"\"\"\n",
    "Fulfilment center info dataset\n",
    "\"\"\"\n",
    "\n",
    "fci_df.head()"
   ]
  },
  {
   "cell_type": "code",
   "execution_count": 14,
   "metadata": {},
   "outputs": [
    {
     "output_type": "stream",
     "name": "stdout",
     "text": "Shape:  (77, 5)\n"
    }
   ],
   "source": [
    "print(\"Shape: \",fci_df.shape)"
   ]
  },
  {
   "cell_type": "code",
   "execution_count": 15,
   "metadata": {},
   "outputs": [
    {
     "output_type": "execute_result",
     "data": {
      "text/plain": "center_id      0\ncity_code      0\nregion_code    0\ncenter_type    0\nop_area        0\ndtype: int64"
     },
     "metadata": {},
     "execution_count": 15
    }
   ],
   "source": [
    "#Checking for null values\n",
    "fci_df.isnull().sum()"
   ]
  },
  {
   "cell_type": "code",
   "execution_count": 16,
   "metadata": {},
   "outputs": [
    {
     "output_type": "execute_result",
     "data": {
      "text/plain": "   meal_id   category cuisine\n0     1885  Beverages    Thai\n1     1993  Beverages    Thai\n2     2539  Beverages    Thai\n3     1248  Beverages  Indian\n4     2631  Beverages  Indian",
      "text/html": "<div>\n<style scoped>\n    .dataframe tbody tr th:only-of-type {\n        vertical-align: middle;\n    }\n\n    .dataframe tbody tr th {\n        vertical-align: top;\n    }\n\n    .dataframe thead th {\n        text-align: right;\n    }\n</style>\n<table border=\"1\" class=\"dataframe\">\n  <thead>\n    <tr style=\"text-align: right;\">\n      <th></th>\n      <th>meal_id</th>\n      <th>category</th>\n      <th>cuisine</th>\n    </tr>\n  </thead>\n  <tbody>\n    <tr>\n      <td>0</td>\n      <td>1885</td>\n      <td>Beverages</td>\n      <td>Thai</td>\n    </tr>\n    <tr>\n      <td>1</td>\n      <td>1993</td>\n      <td>Beverages</td>\n      <td>Thai</td>\n    </tr>\n    <tr>\n      <td>2</td>\n      <td>2539</td>\n      <td>Beverages</td>\n      <td>Thai</td>\n    </tr>\n    <tr>\n      <td>3</td>\n      <td>1248</td>\n      <td>Beverages</td>\n      <td>Indian</td>\n    </tr>\n    <tr>\n      <td>4</td>\n      <td>2631</td>\n      <td>Beverages</td>\n      <td>Indian</td>\n    </tr>\n  </tbody>\n</table>\n</div>"
     },
     "metadata": {},
     "execution_count": 16
    }
   ],
   "source": [
    "\"\"\"\n",
    "Meal info dataset\n",
    "\"\"\"\n",
    "\n",
    "mi_df.head()"
   ]
  },
  {
   "cell_type": "code",
   "execution_count": 17,
   "metadata": {},
   "outputs": [
    {
     "output_type": "stream",
     "name": "stdout",
     "text": "Shape:  (51, 3)\n"
    }
   ],
   "source": [
    "print(\"Shape: \",mi_df.shape)"
   ]
  },
  {
   "cell_type": "code",
   "execution_count": 19,
   "metadata": {},
   "outputs": [
    {
     "output_type": "execute_result",
     "data": {
      "text/plain": "meal_id     0\ncategory    0\ncuisine     0\ndtype: int64"
     },
     "metadata": {},
     "execution_count": 19
    }
   ],
   "source": [
    "#Checking for null values\n",
    "mi_df.isnull().sum()"
   ]
  },
  {
   "cell_type": "code",
   "execution_count": 20,
   "metadata": {},
   "outputs": [
    {
     "output_type": "execute_result",
     "data": {
      "text/plain": "        id  week  center_id  meal_id  checkout_price  base_price  \\\n0  1379560     1         55     1885          136.83      152.29   \n1  1466964     1         55     1993          136.83      135.83   \n2  1346989     1         55     2539          134.86      135.86   \n3  1338232     1         55     2139          339.50      437.53   \n4  1448490     1         55     2631          243.50      242.50   \n\n   emailer_for_promotion  homepage_featured  num_orders  \n0                      0                  0         177  \n1                      0                  0         270  \n2                      0                  0         189  \n3                      0                  0          54  \n4                      0                  0          40  ",
      "text/html": "<div>\n<style scoped>\n    .dataframe tbody tr th:only-of-type {\n        vertical-align: middle;\n    }\n\n    .dataframe tbody tr th {\n        vertical-align: top;\n    }\n\n    .dataframe thead th {\n        text-align: right;\n    }\n</style>\n<table border=\"1\" class=\"dataframe\">\n  <thead>\n    <tr style=\"text-align: right;\">\n      <th></th>\n      <th>id</th>\n      <th>week</th>\n      <th>center_id</th>\n      <th>meal_id</th>\n      <th>checkout_price</th>\n      <th>base_price</th>\n      <th>emailer_for_promotion</th>\n      <th>homepage_featured</th>\n      <th>num_orders</th>\n    </tr>\n  </thead>\n  <tbody>\n    <tr>\n      <td>0</td>\n      <td>1379560</td>\n      <td>1</td>\n      <td>55</td>\n      <td>1885</td>\n      <td>136.83</td>\n      <td>152.29</td>\n      <td>0</td>\n      <td>0</td>\n      <td>177</td>\n    </tr>\n    <tr>\n      <td>1</td>\n      <td>1466964</td>\n      <td>1</td>\n      <td>55</td>\n      <td>1993</td>\n      <td>136.83</td>\n      <td>135.83</td>\n      <td>0</td>\n      <td>0</td>\n      <td>270</td>\n    </tr>\n    <tr>\n      <td>2</td>\n      <td>1346989</td>\n      <td>1</td>\n      <td>55</td>\n      <td>2539</td>\n      <td>134.86</td>\n      <td>135.86</td>\n      <td>0</td>\n      <td>0</td>\n      <td>189</td>\n    </tr>\n    <tr>\n      <td>3</td>\n      <td>1338232</td>\n      <td>1</td>\n      <td>55</td>\n      <td>2139</td>\n      <td>339.50</td>\n      <td>437.53</td>\n      <td>0</td>\n      <td>0</td>\n      <td>54</td>\n    </tr>\n    <tr>\n      <td>4</td>\n      <td>1448490</td>\n      <td>1</td>\n      <td>55</td>\n      <td>2631</td>\n      <td>243.50</td>\n      <td>242.50</td>\n      <td>0</td>\n      <td>0</td>\n      <td>40</td>\n    </tr>\n  </tbody>\n</table>\n</div>"
     },
     "metadata": {},
     "execution_count": 20
    }
   ],
   "source": [
    "\"\"\"\n",
    "Training dataset\n",
    "\"\"\"\n",
    "\n",
    "train_df.head()"
   ]
  },
  {
   "cell_type": "code",
   "execution_count": 21,
   "metadata": {},
   "outputs": [
    {
     "output_type": "stream",
     "name": "stdout",
     "text": "Shape:  (456548, 9)\n"
    }
   ],
   "source": [
    "print(\"Shape: \",train_df.shape)"
   ]
  },
  {
   "cell_type": "code",
   "execution_count": 22,
   "metadata": {},
   "outputs": [
    {
     "output_type": "execute_result",
     "data": {
      "text/plain": "id                       0\nweek                     0\ncenter_id                0\nmeal_id                  0\ncheckout_price           0\nbase_price               0\nemailer_for_promotion    0\nhomepage_featured        0\nnum_orders               0\ndtype: int64"
     },
     "metadata": {},
     "execution_count": 22
    }
   ],
   "source": [
    "#Checking for null values\n",
    "train_df.isnull().sum()"
   ]
  },
  {
   "cell_type": "code",
   "execution_count": 23,
   "metadata": {},
   "outputs": [
    {
     "output_type": "execute_result",
     "data": {
      "text/plain": "        id  week  center_id  meal_id  checkout_price  base_price  \\\n0  1028232   146         55     1885          158.11      159.11   \n1  1127204   146         55     1993          160.11      159.11   \n2  1212707   146         55     2539          157.14      159.14   \n3  1082698   146         55     2631          162.02      162.02   \n4  1400926   146         55     1248          163.93      163.93   \n\n   emailer_for_promotion  homepage_featured  \n0                      0                  0  \n1                      0                  0  \n2                      0                  0  \n3                      0                  0  \n4                      0                  0  ",
      "text/html": "<div>\n<style scoped>\n    .dataframe tbody tr th:only-of-type {\n        vertical-align: middle;\n    }\n\n    .dataframe tbody tr th {\n        vertical-align: top;\n    }\n\n    .dataframe thead th {\n        text-align: right;\n    }\n</style>\n<table border=\"1\" class=\"dataframe\">\n  <thead>\n    <tr style=\"text-align: right;\">\n      <th></th>\n      <th>id</th>\n      <th>week</th>\n      <th>center_id</th>\n      <th>meal_id</th>\n      <th>checkout_price</th>\n      <th>base_price</th>\n      <th>emailer_for_promotion</th>\n      <th>homepage_featured</th>\n    </tr>\n  </thead>\n  <tbody>\n    <tr>\n      <td>0</td>\n      <td>1028232</td>\n      <td>146</td>\n      <td>55</td>\n      <td>1885</td>\n      <td>158.11</td>\n      <td>159.11</td>\n      <td>0</td>\n      <td>0</td>\n    </tr>\n    <tr>\n      <td>1</td>\n      <td>1127204</td>\n      <td>146</td>\n      <td>55</td>\n      <td>1993</td>\n      <td>160.11</td>\n      <td>159.11</td>\n      <td>0</td>\n      <td>0</td>\n    </tr>\n    <tr>\n      <td>2</td>\n      <td>1212707</td>\n      <td>146</td>\n      <td>55</td>\n      <td>2539</td>\n      <td>157.14</td>\n      <td>159.14</td>\n      <td>0</td>\n      <td>0</td>\n    </tr>\n    <tr>\n      <td>3</td>\n      <td>1082698</td>\n      <td>146</td>\n      <td>55</td>\n      <td>2631</td>\n      <td>162.02</td>\n      <td>162.02</td>\n      <td>0</td>\n      <td>0</td>\n    </tr>\n    <tr>\n      <td>4</td>\n      <td>1400926</td>\n      <td>146</td>\n      <td>55</td>\n      <td>1248</td>\n      <td>163.93</td>\n      <td>163.93</td>\n      <td>0</td>\n      <td>0</td>\n    </tr>\n  </tbody>\n</table>\n</div>"
     },
     "metadata": {},
     "execution_count": 23
    }
   ],
   "source": [
    "\"\"\"\n",
    "Testing dataset\n",
    "\"\"\"\n",
    "\n",
    "test_df.head()"
   ]
  },
  {
   "cell_type": "code",
   "execution_count": 24,
   "metadata": {},
   "outputs": [
    {
     "output_type": "stream",
     "name": "stdout",
     "text": "Shape:  (32573, 8)\n"
    }
   ],
   "source": [
    "print(\"Shape: \",test_df.shape)"
   ]
  },
  {
   "cell_type": "code",
   "execution_count": 25,
   "metadata": {},
   "outputs": [
    {
     "output_type": "execute_result",
     "data": {
      "text/plain": "id                       0\nweek                     0\ncenter_id                0\nmeal_id                  0\ncheckout_price           0\nbase_price               0\nemailer_for_promotion    0\nhomepage_featured        0\ndtype: int64"
     },
     "metadata": {},
     "execution_count": 25
    }
   ],
   "source": [
    "#Checking for null values\n",
    "test_df.isnull().sum()"
   ]
  },
  {
   "cell_type": "code",
   "execution_count": 26,
   "metadata": {},
   "outputs": [],
   "source": [
    "\"\"\"\n",
    "Combining the fulfilment center dataset and meal info dataset into one dataset\n",
    "\"\"\"\n",
    "\n",
    "train_df = pd.merge(train_df , fci_df , on=\"center_id\")\n",
    "test_df = pd.merge(test_df , fci_df , on=\"center_id\")\n",
    "\n",
    "train_df = pd.merge(train_df , mi_df , on=\"meal_id\")\n",
    "test_df = pd.merge(test_df , mi_df , on=\"meal_id\")"
   ]
  },
  {
   "cell_type": "code",
   "execution_count": 28,
   "metadata": {},
   "outputs": [
    {
     "output_type": "execute_result",
     "data": {
      "text/plain": "        id  week  center_id  meal_id  checkout_price  base_price  \\\n0  1379560     1         55     1885          136.83      152.29   \n1  1018704     2         55     1885          135.83      152.29   \n2  1196273     3         55     1885          132.92      133.92   \n3  1116527     4         55     1885          135.86      134.86   \n4  1343872     5         55     1885          146.50      147.50   \n\n   emailer_for_promotion  homepage_featured  num_orders  city_code  \\\n0                      0                  0         177        647   \n1                      0                  0         323        647   \n2                      0                  0          96        647   \n3                      0                  0         163        647   \n4                      0                  0         215        647   \n\n   region_code center_type  op_area   category cuisine  \n0           56      TYPE_C      2.0  Beverages    Thai  \n1           56      TYPE_C      2.0  Beverages    Thai  \n2           56      TYPE_C      2.0  Beverages    Thai  \n3           56      TYPE_C      2.0  Beverages    Thai  \n4           56      TYPE_C      2.0  Beverages    Thai  ",
      "text/html": "<div>\n<style scoped>\n    .dataframe tbody tr th:only-of-type {\n        vertical-align: middle;\n    }\n\n    .dataframe tbody tr th {\n        vertical-align: top;\n    }\n\n    .dataframe thead th {\n        text-align: right;\n    }\n</style>\n<table border=\"1\" class=\"dataframe\">\n  <thead>\n    <tr style=\"text-align: right;\">\n      <th></th>\n      <th>id</th>\n      <th>week</th>\n      <th>center_id</th>\n      <th>meal_id</th>\n      <th>checkout_price</th>\n      <th>base_price</th>\n      <th>emailer_for_promotion</th>\n      <th>homepage_featured</th>\n      <th>num_orders</th>\n      <th>city_code</th>\n      <th>region_code</th>\n      <th>center_type</th>\n      <th>op_area</th>\n      <th>category</th>\n      <th>cuisine</th>\n    </tr>\n  </thead>\n  <tbody>\n    <tr>\n      <td>0</td>\n      <td>1379560</td>\n      <td>1</td>\n      <td>55</td>\n      <td>1885</td>\n      <td>136.83</td>\n      <td>152.29</td>\n      <td>0</td>\n      <td>0</td>\n      <td>177</td>\n      <td>647</td>\n      <td>56</td>\n      <td>TYPE_C</td>\n      <td>2.0</td>\n      <td>Beverages</td>\n      <td>Thai</td>\n    </tr>\n    <tr>\n      <td>1</td>\n      <td>1018704</td>\n      <td>2</td>\n      <td>55</td>\n      <td>1885</td>\n      <td>135.83</td>\n      <td>152.29</td>\n      <td>0</td>\n      <td>0</td>\n      <td>323</td>\n      <td>647</td>\n      <td>56</td>\n      <td>TYPE_C</td>\n      <td>2.0</td>\n      <td>Beverages</td>\n      <td>Thai</td>\n    </tr>\n    <tr>\n      <td>2</td>\n      <td>1196273</td>\n      <td>3</td>\n      <td>55</td>\n      <td>1885</td>\n      <td>132.92</td>\n      <td>133.92</td>\n      <td>0</td>\n      <td>0</td>\n      <td>96</td>\n      <td>647</td>\n      <td>56</td>\n      <td>TYPE_C</td>\n      <td>2.0</td>\n      <td>Beverages</td>\n      <td>Thai</td>\n    </tr>\n    <tr>\n      <td>3</td>\n      <td>1116527</td>\n      <td>4</td>\n      <td>55</td>\n      <td>1885</td>\n      <td>135.86</td>\n      <td>134.86</td>\n      <td>0</td>\n      <td>0</td>\n      <td>163</td>\n      <td>647</td>\n      <td>56</td>\n      <td>TYPE_C</td>\n      <td>2.0</td>\n      <td>Beverages</td>\n      <td>Thai</td>\n    </tr>\n    <tr>\n      <td>4</td>\n      <td>1343872</td>\n      <td>5</td>\n      <td>55</td>\n      <td>1885</td>\n      <td>146.50</td>\n      <td>147.50</td>\n      <td>0</td>\n      <td>0</td>\n      <td>215</td>\n      <td>647</td>\n      <td>56</td>\n      <td>TYPE_C</td>\n      <td>2.0</td>\n      <td>Beverages</td>\n      <td>Thai</td>\n    </tr>\n  </tbody>\n</table>\n</div>"
     },
     "metadata": {},
     "execution_count": 28
    }
   ],
   "source": [
    "\"\"\"\n",
    "New train dataset\n",
    "\"\"\"\n",
    "train_df.head()"
   ]
  },
  {
   "cell_type": "code",
   "execution_count": 29,
   "metadata": {},
   "outputs": [],
   "source": [
    "\"\"\"\n",
    "Labelling train and test data\n",
    "\"\"\"\n",
    "\n",
    "train_df[\"train_or_test\"] = \"train\"\n",
    "test_df[\"train_or_test\"] = \"test\""
   ]
  },
  {
   "cell_type": "code",
   "execution_count": 30,
   "metadata": {},
   "outputs": [],
   "source": [
    "\"\"\"\n",
    "Finding natural logarithmic value of the num_orders for easier calculation to the model\n",
    "\"\"\"\n",
    "train_df[\"num_orders\"] = np.log1p(train_df[\"num_orders\"])"
   ]
  },
  {
   "cell_type": "code",
   "execution_count": 31,
   "metadata": {},
   "outputs": [],
   "source": [
    "\"\"\"\n",
    "Combining train and test dataset into one dataset\n",
    "\"\"\"\n",
    "all_df = train_df.append(test_df).reset_index(drop=True)[train_df.columns]"
   ]
  },
  {
   "cell_type": "code",
   "execution_count": 32,
   "metadata": {},
   "outputs": [],
   "source": [
    "\"\"\"\n",
    "Sorting the values on the basis of centers,meals and weeks\n",
    "\"\"\"\n",
    "all_df = all_df.sort_values([\"center_id\" , \"meal_id\" , \"week\"]).reset_index(drop = True)\n",
    "\n",
    "\"\"\"\n",
    "Logarithmic values of checkout and base_price for the model to work efficiently\n",
    "\"\"\"\n",
    "all_df[\"checkout_price\"] = np.log1p(all_df[\"checkout_price\"])\n",
    "all_df[\"base_price\"] = np.log1p(all_df[\"base_price\"])\n",
    "all_df[\"discount_on_base\"] = (all_df[\"base_price\"] - all_df[\"checkout_price\"])/all_df[\"base_price\"]"
   ]
  },
  {
   "cell_type": "code",
   "execution_count": 33,
   "metadata": {},
   "outputs": [
    {
     "output_type": "execute_result",
     "data": {
      "text/plain": "        id  week  center_id  meal_id  checkout_price  base_price  \\\n0  1436842     1         10     1062        5.206147    5.206147   \n1  1205013     2         10     1062        5.216890    5.211451   \n2  1447751     3         10     1062        5.222300    5.211451   \n3  1014968     4         10     1062        5.211451    5.216890   \n4  1003563     5         10     1062        5.217053    5.206147   \n\n   emailer_for_promotion  homepage_featured  num_orders  city_code  \\\n0                      0                  0    6.763885        590   \n1                      0                  0    6.663133        590   \n2                      0                  0    6.747587        590   \n3                      0                  0    7.092574        590   \n4                      0                  0    6.865891        590   \n\n   region_code center_type  op_area   category  cuisine train_or_test  \\\n0           56      TYPE_B      6.3  Beverages  Italian         train   \n1           56      TYPE_B      6.3  Beverages  Italian         train   \n2           56      TYPE_B      6.3  Beverages  Italian         train   \n3           56      TYPE_B      6.3  Beverages  Italian         train   \n4           56      TYPE_B      6.3  Beverages  Italian         train   \n\n   discount_on_base  \n0          0.000000  \n1         -0.001044  \n2         -0.002082  \n3          0.001043  \n4         -0.002095  ",
      "text/html": "<div>\n<style scoped>\n    .dataframe tbody tr th:only-of-type {\n        vertical-align: middle;\n    }\n\n    .dataframe tbody tr th {\n        vertical-align: top;\n    }\n\n    .dataframe thead th {\n        text-align: right;\n    }\n</style>\n<table border=\"1\" class=\"dataframe\">\n  <thead>\n    <tr style=\"text-align: right;\">\n      <th></th>\n      <th>id</th>\n      <th>week</th>\n      <th>center_id</th>\n      <th>meal_id</th>\n      <th>checkout_price</th>\n      <th>base_price</th>\n      <th>emailer_for_promotion</th>\n      <th>homepage_featured</th>\n      <th>num_orders</th>\n      <th>city_code</th>\n      <th>region_code</th>\n      <th>center_type</th>\n      <th>op_area</th>\n      <th>category</th>\n      <th>cuisine</th>\n      <th>train_or_test</th>\n      <th>discount_on_base</th>\n    </tr>\n  </thead>\n  <tbody>\n    <tr>\n      <td>0</td>\n      <td>1436842</td>\n      <td>1</td>\n      <td>10</td>\n      <td>1062</td>\n      <td>5.206147</td>\n      <td>5.206147</td>\n      <td>0</td>\n      <td>0</td>\n      <td>6.763885</td>\n      <td>590</td>\n      <td>56</td>\n      <td>TYPE_B</td>\n      <td>6.3</td>\n      <td>Beverages</td>\n      <td>Italian</td>\n      <td>train</td>\n      <td>0.000000</td>\n    </tr>\n    <tr>\n      <td>1</td>\n      <td>1205013</td>\n      <td>2</td>\n      <td>10</td>\n      <td>1062</td>\n      <td>5.216890</td>\n      <td>5.211451</td>\n      <td>0</td>\n      <td>0</td>\n      <td>6.663133</td>\n      <td>590</td>\n      <td>56</td>\n      <td>TYPE_B</td>\n      <td>6.3</td>\n      <td>Beverages</td>\n      <td>Italian</td>\n      <td>train</td>\n      <td>-0.001044</td>\n    </tr>\n    <tr>\n      <td>2</td>\n      <td>1447751</td>\n      <td>3</td>\n      <td>10</td>\n      <td>1062</td>\n      <td>5.222300</td>\n      <td>5.211451</td>\n      <td>0</td>\n      <td>0</td>\n      <td>6.747587</td>\n      <td>590</td>\n      <td>56</td>\n      <td>TYPE_B</td>\n      <td>6.3</td>\n      <td>Beverages</td>\n      <td>Italian</td>\n      <td>train</td>\n      <td>-0.002082</td>\n    </tr>\n    <tr>\n      <td>3</td>\n      <td>1014968</td>\n      <td>4</td>\n      <td>10</td>\n      <td>1062</td>\n      <td>5.211451</td>\n      <td>5.216890</td>\n      <td>0</td>\n      <td>0</td>\n      <td>7.092574</td>\n      <td>590</td>\n      <td>56</td>\n      <td>TYPE_B</td>\n      <td>6.3</td>\n      <td>Beverages</td>\n      <td>Italian</td>\n      <td>train</td>\n      <td>0.001043</td>\n    </tr>\n    <tr>\n      <td>4</td>\n      <td>1003563</td>\n      <td>5</td>\n      <td>10</td>\n      <td>1062</td>\n      <td>5.217053</td>\n      <td>5.206147</td>\n      <td>0</td>\n      <td>0</td>\n      <td>6.865891</td>\n      <td>590</td>\n      <td>56</td>\n      <td>TYPE_B</td>\n      <td>6.3</td>\n      <td>Beverages</td>\n      <td>Italian</td>\n      <td>train</td>\n      <td>-0.002095</td>\n    </tr>\n  </tbody>\n</table>\n</div>"
     },
     "metadata": {},
     "execution_count": 33
    }
   ],
   "source": [
    "\"\"\"\n",
    "Displaying all dataset\n",
    "\"\"\"\n",
    "all_df.head()"
   ]
  },
  {
   "cell_type": "code",
   "execution_count": 34,
   "metadata": {},
   "outputs": [],
   "source": [
    "all_df[\"neg_discount\"] = (all_df[\"discount_on_base\"] < 0).astype(int)\n",
    "\"\"\"\n",
    "Calculating difference in costs in consecutive orders\n",
    "\"\"\"\n",
    "all_df[\"price_last_curr_diff\"] = (all_df[\"checkout_price\"].shift(1) - all_df[\"checkout_price\"]).fillna(1)/all_df[\"checkout_price\"].shift(1).fillna(1)"
   ]
  },
  {
   "cell_type": "code",
   "execution_count": 42,
   "metadata": {},
   "outputs": [],
   "source": [
    "\"\"\"\n",
    "Grouping by center_id and meal_id and weeks\n",
    "\"\"\"\n",
    "for _, r in all_df.groupby(['center_id', 'meal_id'])['week'].first().reset_index().iterrows():\n",
    "    all_df.loc[(all_df['center_id']==r['center_id']) & (all_df['meal_id']==r['meal_id']) & (all_df['week']==r['week']), 'price_last_curr_diff']=all_df[(all_df['center_id']==r['center_id']) & (all_df['meal_id']==r['meal_id']) & (all_df['week']!=r['week'])]['price_last_curr_diff'].mean()"
   ]
  },
  {
   "cell_type": "code",
   "execution_count": 43,
   "metadata": {},
   "outputs": [],
   "source": [
    "all_df[\"price_last_curr_diff\"] = all_df[\"price_last_curr_diff\"].fillna(0)\n",
    "all_df[\"price_increase\"] = (all_df[\"price_last_curr_diff\"] < 0).astype(int)"
   ]
  },
  {
   "cell_type": "code",
   "execution_count": 44,
   "metadata": {},
   "outputs": [
    {
     "output_type": "execute_result",
     "data": {
      "text/plain": "        id  week  center_id  meal_id  checkout_price  base_price  \\\n0  1436842     1         10     1062        5.206147    5.206147   \n1  1205013     2         10     1062        5.216890    5.211451   \n2  1447751     3         10     1062        5.222300    5.211451   \n3  1014968     4         10     1062        5.211451    5.216890   \n4  1003563     5         10     1062        5.217053    5.206147   \n\n   emailer_for_promotion  homepage_featured  num_orders  city_code  \\\n0                      0                  0    6.763885        590   \n1                      0                  0    6.663133        590   \n2                      0                  0    6.747587        590   \n3                      0                  0    7.092574        590   \n4                      0                  0    6.865891        590   \n\n   region_code center_type  op_area   category  cuisine train_or_test  \\\n0           56      TYPE_B      6.3  Beverages  Italian         train   \n1           56      TYPE_B      6.3  Beverages  Italian         train   \n2           56      TYPE_B      6.3  Beverages  Italian         train   \n3           56      TYPE_B      6.3  Beverages  Italian         train   \n4           56      TYPE_B      6.3  Beverages  Italian         train   \n\n   discount_on_base  neg_discount  price_last_curr_diff  price_increase  \n0          0.000000             0              0.000086               0  \n1         -0.001044             1             -0.002064               1  \n2         -0.002082             1             -0.001037               1  \n3          0.001043             0              0.002077               0  \n4         -0.002095             1             -0.001075               1  ",
      "text/html": "<div>\n<style scoped>\n    .dataframe tbody tr th:only-of-type {\n        vertical-align: middle;\n    }\n\n    .dataframe tbody tr th {\n        vertical-align: top;\n    }\n\n    .dataframe thead th {\n        text-align: right;\n    }\n</style>\n<table border=\"1\" class=\"dataframe\">\n  <thead>\n    <tr style=\"text-align: right;\">\n      <th></th>\n      <th>id</th>\n      <th>week</th>\n      <th>center_id</th>\n      <th>meal_id</th>\n      <th>checkout_price</th>\n      <th>base_price</th>\n      <th>emailer_for_promotion</th>\n      <th>homepage_featured</th>\n      <th>num_orders</th>\n      <th>city_code</th>\n      <th>region_code</th>\n      <th>center_type</th>\n      <th>op_area</th>\n      <th>category</th>\n      <th>cuisine</th>\n      <th>train_or_test</th>\n      <th>discount_on_base</th>\n      <th>neg_discount</th>\n      <th>price_last_curr_diff</th>\n      <th>price_increase</th>\n    </tr>\n  </thead>\n  <tbody>\n    <tr>\n      <td>0</td>\n      <td>1436842</td>\n      <td>1</td>\n      <td>10</td>\n      <td>1062</td>\n      <td>5.206147</td>\n      <td>5.206147</td>\n      <td>0</td>\n      <td>0</td>\n      <td>6.763885</td>\n      <td>590</td>\n      <td>56</td>\n      <td>TYPE_B</td>\n      <td>6.3</td>\n      <td>Beverages</td>\n      <td>Italian</td>\n      <td>train</td>\n      <td>0.000000</td>\n      <td>0</td>\n      <td>0.000086</td>\n      <td>0</td>\n    </tr>\n    <tr>\n      <td>1</td>\n      <td>1205013</td>\n      <td>2</td>\n      <td>10</td>\n      <td>1062</td>\n      <td>5.216890</td>\n      <td>5.211451</td>\n      <td>0</td>\n      <td>0</td>\n      <td>6.663133</td>\n      <td>590</td>\n      <td>56</td>\n      <td>TYPE_B</td>\n      <td>6.3</td>\n      <td>Beverages</td>\n      <td>Italian</td>\n      <td>train</td>\n      <td>-0.001044</td>\n      <td>1</td>\n      <td>-0.002064</td>\n      <td>1</td>\n    </tr>\n    <tr>\n      <td>2</td>\n      <td>1447751</td>\n      <td>3</td>\n      <td>10</td>\n      <td>1062</td>\n      <td>5.222300</td>\n      <td>5.211451</td>\n      <td>0</td>\n      <td>0</td>\n      <td>6.747587</td>\n      <td>590</td>\n      <td>56</td>\n      <td>TYPE_B</td>\n      <td>6.3</td>\n      <td>Beverages</td>\n      <td>Italian</td>\n      <td>train</td>\n      <td>-0.002082</td>\n      <td>1</td>\n      <td>-0.001037</td>\n      <td>1</td>\n    </tr>\n    <tr>\n      <td>3</td>\n      <td>1014968</td>\n      <td>4</td>\n      <td>10</td>\n      <td>1062</td>\n      <td>5.211451</td>\n      <td>5.216890</td>\n      <td>0</td>\n      <td>0</td>\n      <td>7.092574</td>\n      <td>590</td>\n      <td>56</td>\n      <td>TYPE_B</td>\n      <td>6.3</td>\n      <td>Beverages</td>\n      <td>Italian</td>\n      <td>train</td>\n      <td>0.001043</td>\n      <td>0</td>\n      <td>0.002077</td>\n      <td>0</td>\n    </tr>\n    <tr>\n      <td>4</td>\n      <td>1003563</td>\n      <td>5</td>\n      <td>10</td>\n      <td>1062</td>\n      <td>5.217053</td>\n      <td>5.206147</td>\n      <td>0</td>\n      <td>0</td>\n      <td>6.865891</td>\n      <td>590</td>\n      <td>56</td>\n      <td>TYPE_B</td>\n      <td>6.3</td>\n      <td>Beverages</td>\n      <td>Italian</td>\n      <td>train</td>\n      <td>-0.002095</td>\n      <td>1</td>\n      <td>-0.001075</td>\n      <td>1</td>\n    </tr>\n  </tbody>\n</table>\n</div>"
     },
     "metadata": {},
     "execution_count": 44
    }
   ],
   "source": [
    "\"\"\"\n",
    "Printing all values after all operations required on the data\n",
    "\"\"\"\n",
    "all_df.head()"
   ]
  },
  {
   "cell_type": "code",
   "execution_count": 46,
   "metadata": {},
   "outputs": [],
   "source": [
    "\"\"\"\n",
    "Forecasting method used:\n",
    "catBooster regressor method\n",
    "Uses gradient boosting on values for prediction\n",
    "\"\"\"\n",
    "\n",
    "\"\"\"\n",
    "Monthwise aggregation of the sales values\n",
    "\"\"\"\n",
    "\n",
    "def create_sales_agg_monthwise_features(df , gpby_cols , target_col , agg_funcs):\n",
    "    gpby = df.groupby(gpby_cols)\n",
    "    newdf = df[gpby_cols].drop_duplicates().reset_index(drop = True)\n",
    "    for agg_name , agg_func in agg_funcs.items():\n",
    "        aggdf = gpby[target_col].agg(agg_func).reset_index()\n",
    "        aggdf.rename(columns = {target_col:target_col+\"_\"+agg_name} , inplace = True)\n",
    "        newdf = newdf.merge(aggdf , on=gpby_cols , how = \"left\")\n",
    "    \n",
    "    return newdf\n",
    "\n",
    "\"\"\"\n",
    "Creating features from previous sales values\n",
    "\"\"\"\n",
    "\n",
    "\n",
    "# Creating sales lag features\n",
    "\n",
    "def create_sales_lag_feats(df , gpby_cols , target_col , lags):\n",
    "    gpby = df.groupby(gpby_cols)\n",
    "    for lag in lags:\n",
    "        df[\"_\".join([target_col , \"lag\" ,str(i)])] = gpby[target_col].shift(i).values + np.random.normal(scale = 1.6 , size = len(df))\n",
    "    \n",
    "    return df\n",
    "\n",
    "# Creating sales rolling mean features\n",
    "def create_sales_rmean_feats(df, gpby_cols, target_col, windows, min_periods=2, \n",
    "                             shift=1, win_type=None):\n",
    "    gpby = df.groupby(gpby_cols)\n",
    "    for w in windows:\n",
    "        df['_'.join([target_col, 'rmean', str(w)])] = \\\n",
    "            gpby[target_col].shift(shift).rolling(window=w, \n",
    "                                                  min_periods=min_periods,\n",
    "                                                  win_type=win_type).mean().values +\\\n",
    "            np.random.normal(scale=1.6, size=(len(df),))\n",
    "    return df\n",
    "\n",
    "\n",
    "# Creating sales rolling median features\n",
    "def create_sales_rmed_feats(df, gpby_cols, target_col, windows, min_periods=2, \n",
    "                            shift=1, win_type=None):\n",
    "    gpby = df.groupby(gpby_cols)\n",
    "    for w in windows:\n",
    "        df['_'.join([target_col, 'rmed', str(w)])] = \\\n",
    "            gpby[target_col].shift(shift).rolling(window=w, \n",
    "                                                  min_periods=min_periods,\n",
    "                                                  win_type=win_type).median().values +\\\n",
    "            np.random.normal(scale=1.6, size=(len(df),))\n",
    "    return df\n",
    "\n",
    "# Creating sales exponentially weighted mean features\n",
    "def create_sales_ewm_feats(df, gpby_cols, target_col, alpha=[0.9], shift=[1]):\n",
    "    gpby = df.groupby(gpby_cols)\n",
    "    for a in alpha:\n",
    "        for s in shift:\n",
    "            df['_'.join([target_col, 'lag', str(s), 'ewm', str(a)])] = \\\n",
    "                gpby[target_col].shift(s).ewm(alpha=a).mean().values\n",
    "    return df\n",
    "\n",
    "def one_hot_encoder(df , ohe_cols):\n",
    "    print(\"Creating OHE features\\nOld df shape: {}\".format(df.shape))\n",
    "    df = pd.get_dummies(df , columns = ohe_cols)\n",
    "    print(\"New df shape : {}\".format(df.shape))\n",
    "\n",
    "    return df"
   ]
  },
  {
   "cell_type": "code",
   "execution_count": null,
   "metadata": {},
   "outputs": [],
   "source": []
  }
 ],
 "metadata": {
  "kernelspec": {
   "display_name": "Python 3",
   "language": "python",
   "name": "python3"
  },
  "language_info": {
   "codemirror_mode": {
    "name": "ipython",
    "version": 3
   },
   "file_extension": ".py",
   "mimetype": "text/x-python",
   "name": "python",
   "nbconvert_exporter": "python",
   "pygments_lexer": "ipython3",
   "version": "3.7.4-final"
  }
 },
 "nbformat": 4,
 "nbformat_minor": 2
}