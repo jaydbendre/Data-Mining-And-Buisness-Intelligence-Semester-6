{
 "nbformat": 4,
 "nbformat_minor": 2,
 "metadata": {
  "language_info": {
   "name": "python",
   "codemirror_mode": {
    "name": "ipython",
    "version": 3
   },
   "version": "3.7.4-final"
  },
  "orig_nbformat": 2,
  "file_extension": ".py",
  "mimetype": "text/x-python",
  "name": "python",
  "npconvert_exporter": "python",
  "pygments_lexer": "ipython3",
  "version": 3,
  "kernelspec": {
   "name": "python3",
   "display_name": "Python 3"
  }
 },
 "cells": [
  {
   "cell_type": "code",
   "execution_count": 1,
   "metadata": {},
   "outputs": [],
   "source": [
    "#Merging all the dataset files into one dataset as dataset is available on a day basis and not a aggregate dataset\n",
    "import os\n",
    "import pandas as pd\n",
    "from scipy.stats import chisquare, chi2_contingency\n",
    "import numpy as np\n",
    "import datetime as dt"
   ]
  },
  {
   "cell_type": "code",
   "execution_count": 2,
   "metadata": {},
   "outputs": [
    {
     "data": {
      "text/html": "<div>\n<style scoped>\n    .dataframe tbody tr th:only-of-type {\n        vertical-align: middle;\n    }\n\n    .dataframe tbody tr th {\n        vertical-align: top;\n    }\n\n    .dataframe thead th {\n        text-align: right;\n    }\n</style>\n<table border=\"1\" class=\"dataframe\">\n  <thead>\n    <tr style=\"text-align: right;\">\n      <th></th>\n      <th>Time</th>\n      <th>Flight Number</th>\n      <th>Source</th>\n      <th>Flight Name</th>\n      <th>Aircraft</th>\n      <th>Status</th>\n    </tr>\n  </thead>\n  <tbody>\n    <tr>\n      <td>0</td>\n      <td>12:05 AM</td>\n      <td>AF218</td>\n      <td>Paris (CDG)</td>\n      <td>Air France</td>\n      <td>B77W (F-GSQD)</td>\n      <td>Landed 11:55 PM</td>\n    </tr>\n    <tr>\n      <td>1</td>\n      <td>12:05 AM</td>\n      <td>6E5383</td>\n      <td>Hyderabad (HYD)</td>\n      <td>IndiGo</td>\n      <td>A320 (VT-IEC)</td>\n      <td>Landed 12:16 AM</td>\n    </tr>\n    <tr>\n      <td>2</td>\n      <td>12:10 AM</td>\n      <td>G82608</td>\n      <td>Jaipur (JAI)</td>\n      <td>GoAir</td>\n      <td>A20N (VT-WGU)</td>\n      <td>Landed 11:42 PM</td>\n    </tr>\n    <tr>\n      <td>3</td>\n      <td>12:10 AM</td>\n      <td>6E665</td>\n      <td>Delhi (DEL)</td>\n      <td>IndiGo</td>\n      <td>A320 (VT-IDX)</td>\n      <td>Landed 12:04 AM</td>\n    </tr>\n    <tr>\n      <td>4</td>\n      <td>12:15 AM</td>\n      <td>BA139</td>\n      <td>London (LHR)</td>\n      <td>British Airways</td>\n      <td>B772 (G-YMMO)</td>\n      <td>Landed 12:12 AM</td>\n    </tr>\n    <tr>\n      <td>...</td>\n      <td>...</td>\n      <td>...</td>\n      <td>...</td>\n      <td>...</td>\n      <td>...</td>\n      <td>...</td>\n    </tr>\n    <tr>\n      <td>453</td>\n      <td>11:55 PM</td>\n      <td>LH766</td>\n      <td>Munich (MUC)</td>\n      <td>Lufthansa</td>\n      <td>A359 (D-AIXK)</td>\n      <td>Landed 12:26 AM</td>\n    </tr>\n    <tr>\n      <td>454</td>\n      <td>11:55 PM</td>\n      <td>UK844</td>\n      <td>Goa (GOI)</td>\n      <td>Vistara</td>\n      <td>A20N (VT-TNK)</td>\n      <td>Landed 11:27 PM</td>\n    </tr>\n    <tr>\n      <td>455</td>\n      <td>11:55 PM</td>\n      <td>UK774</td>\n      <td>Kolkata (CCU)</td>\n      <td>Vistara</td>\n      <td>B738 (VT-TGA)</td>\n      <td>Landed 12:20 AM</td>\n    </tr>\n    <tr>\n      <td>456</td>\n      <td>11:55 PM</td>\n      <td>6E6183</td>\n      <td>Chennai (MAA)</td>\n      <td>IndiGo</td>\n      <td>A320 (VT-IFO)</td>\n      <td>Landed 11:48 PM</td>\n    </tr>\n    <tr>\n      <td>457</td>\n      <td>11:59 PM</td>\n      <td>SG638</td>\n      <td>Ahmedabad (AMD)</td>\n      <td>SpiceJet</td>\n      <td>B737 (VT-SYU)</td>\n      <td>Landed 12:00 AM</td>\n    </tr>\n  </tbody>\n</table>\n<p>458 rows × 6 columns</p>\n</div>",
      "text/plain": "         Time Flight Number           Source      Flight Name       Aircraft  \\\n0    12:05 AM         AF218      Paris (CDG)       Air France  B77W (F-GSQD)   \n1    12:05 AM        6E5383  Hyderabad (HYD)           IndiGo  A320 (VT-IEC)   \n2    12:10 AM        G82608     Jaipur (JAI)            GoAir  A20N (VT-WGU)   \n3    12:10 AM         6E665      Delhi (DEL)           IndiGo  A320 (VT-IDX)   \n4    12:15 AM         BA139     London (LHR)  British Airways  B772 (G-YMMO)   \n..        ...           ...              ...              ...            ...   \n453  11:55 PM         LH766     Munich (MUC)        Lufthansa  A359 (D-AIXK)   \n454  11:55 PM         UK844        Goa (GOI)          Vistara  A20N (VT-TNK)   \n455  11:55 PM         UK774    Kolkata (CCU)          Vistara  B738 (VT-TGA)   \n456  11:55 PM        6E6183    Chennai (MAA)           IndiGo  A320 (VT-IFO)   \n457  11:59 PM         SG638  Ahmedabad (AMD)         SpiceJet  B737 (VT-SYU)   \n\n              Status  \n0    Landed 11:55 PM  \n1    Landed 12:16 AM  \n2    Landed 11:42 PM  \n3    Landed 12:04 AM  \n4    Landed 12:12 AM  \n..               ...  \n453  Landed 12:26 AM  \n454  Landed 11:27 PM  \n455  Landed 12:20 AM  \n456  Landed 11:48 PM  \n457  Landed 12:00 AM  \n\n[458 rows x 6 columns]"
     },
     "execution_count": 2,
     "metadata": {},
     "output_type": "execute_result"
    }
   ],
   "source": [
    "#Printing some data of the first file to be merged\n",
    "arrival_dataset=pd.read_csv(\"../Datasets/Arrivals/AirplaneData09-02-2020.csv\")\n",
    "arrival_df=pd.DataFrame(\n",
    "    arrival_dataset[\n",
    "        [\"Time\",\"Flight Number\",\"Source\",\"Flight Name\",\"Aircraft\",\"Status\"]\n",
    "    ]\n",
    ")\n",
    "arrival_df"
   ]
  },
  {
   "cell_type": "code",
   "execution_count": 3,
   "metadata": {},
   "outputs": [
    {
     "data": {
      "text/html": "<div>\n<style scoped>\n    .dataframe tbody tr th:only-of-type {\n        vertical-align: middle;\n    }\n\n    .dataframe tbody tr th {\n        vertical-align: top;\n    }\n\n    .dataframe thead th {\n        text-align: right;\n    }\n</style>\n<table border=\"1\" class=\"dataframe\">\n  <thead>\n    <tr style=\"text-align: right;\">\n      <th></th>\n      <th>Time</th>\n      <th>Flight Number</th>\n      <th>Destination</th>\n      <th>Flight Name</th>\n      <th>Aircraft</th>\n      <th>Status</th>\n    </tr>\n  </thead>\n  <tbody>\n    <tr>\n      <td>0</td>\n      <td>12:05 AM</td>\n      <td>G82508</td>\n      <td>Delhi (DEL)</td>\n      <td>GoAir</td>\n      <td>A320 (VT-GOJ)</td>\n      <td>Departed 12:17 AM</td>\n    </tr>\n    <tr>\n      <td>1</td>\n      <td>12:05 AM</td>\n      <td>I5330</td>\n      <td>Delhi (DEL)</td>\n      <td>AirAsia</td>\n      <td>A320 (VT-SIN)</td>\n      <td>Departed 12:12 AM</td>\n    </tr>\n    <tr>\n      <td>2</td>\n      <td>12:05 AM</td>\n      <td>PG734</td>\n      <td>Bangkok (BKK)</td>\n      <td>Bangkok Airways (Samui Livery)</td>\n      <td>A320 (HS-PGW)</td>\n      <td>Departed 12:10 AM</td>\n    </tr>\n    <tr>\n      <td>3</td>\n      <td>12:10 AM</td>\n      <td>UA49</td>\n      <td>New York (EWR)</td>\n      <td>United Airlines</td>\n      <td>B77W (N2748U)</td>\n      <td>Departed 12:50 AM</td>\n    </tr>\n    <tr>\n      <td>4</td>\n      <td>12:15 AM</td>\n      <td>6E848</td>\n      <td>Bengaluru (BLR)</td>\n      <td>IndiGo</td>\n      <td>A20N (VT-IJU)</td>\n      <td>Departed 12:25 AM</td>\n    </tr>\n    <tr>\n      <td>...</td>\n      <td>...</td>\n      <td>...</td>\n      <td>...</td>\n      <td>...</td>\n      <td>...</td>\n      <td>...</td>\n    </tr>\n    <tr>\n      <td>457</td>\n      <td>11:35 PM</td>\n      <td>SQ423</td>\n      <td>Singapore (SIN)</td>\n      <td>Singapore Airlines</td>\n      <td>A388 (9V-SKT)</td>\n      <td>Departed 12:28 AM</td>\n    </tr>\n    <tr>\n      <td>458</td>\n      <td>11:40 PM</td>\n      <td>IX251</td>\n      <td>Sharjah (SHJ)</td>\n      <td>Air India Express (Sitar/Tabla Livery)</td>\n      <td>B738 (VT-GHC)</td>\n      <td>Departed 12:40 AM</td>\n    </tr>\n    <tr>\n      <td>459</td>\n      <td>11:50 PM</td>\n      <td>AI342</td>\n      <td>Singapore (SIN)</td>\n      <td>Air India</td>\n      <td>A20N (VT-EXJ)</td>\n      <td>Departed 12:23 AM</td>\n    </tr>\n    <tr>\n      <td>460</td>\n      <td>11:55 PM</td>\n      <td>AI685</td>\n      <td>Amritsar (ATQ)</td>\n      <td>Air India</td>\n      <td>B788 (VT-ANK)</td>\n      <td>Departed 1:01 AM</td>\n    </tr>\n    <tr>\n      <td>461</td>\n      <td>11:55 PM</td>\n      <td>UK105</td>\n      <td>Singapore (SIN)</td>\n      <td>Vistara</td>\n      <td>A20N (VT-TNQ)</td>\n      <td>Departed 12:06 AM</td>\n    </tr>\n  </tbody>\n</table>\n<p>462 rows × 6 columns</p>\n</div>",
      "text/plain": "         Time Flight Number      Destination  \\\n0    12:05 AM        G82508      Delhi (DEL)   \n1    12:05 AM         I5330      Delhi (DEL)   \n2    12:05 AM         PG734    Bangkok (BKK)   \n3    12:10 AM          UA49   New York (EWR)   \n4    12:15 AM         6E848  Bengaluru (BLR)   \n..        ...           ...              ...   \n457  11:35 PM         SQ423  Singapore (SIN)   \n458  11:40 PM         IX251    Sharjah (SHJ)   \n459  11:50 PM         AI342  Singapore (SIN)   \n460  11:55 PM         AI685   Amritsar (ATQ)   \n461  11:55 PM         UK105  Singapore (SIN)   \n\n                                Flight Name       Aircraft             Status  \n0                                     GoAir  A320 (VT-GOJ)  Departed 12:17 AM  \n1                                   AirAsia  A320 (VT-SIN)  Departed 12:12 AM  \n2            Bangkok Airways (Samui Livery)  A320 (HS-PGW)  Departed 12:10 AM  \n3                           United Airlines  B77W (N2748U)  Departed 12:50 AM  \n4                                    IndiGo  A20N (VT-IJU)  Departed 12:25 AM  \n..                                      ...            ...                ...  \n457                      Singapore Airlines  A388 (9V-SKT)  Departed 12:28 AM  \n458  Air India Express (Sitar/Tabla Livery)  B738 (VT-GHC)  Departed 12:40 AM  \n459                               Air India  A20N (VT-EXJ)  Departed 12:23 AM  \n460                               Air India  B788 (VT-ANK)   Departed 1:01 AM  \n461                                 Vistara  A20N (VT-TNQ)  Departed 12:06 AM  \n\n[462 rows x 6 columns]"
     },
     "execution_count": 3,
     "metadata": {},
     "output_type": "execute_result"
    }
   ],
   "source": [
    "#Printing some data of the second file to be merged\n",
    "departure_dataset=pd.read_csv(\"../Datasets/Departures/AirplaneData09-02-2020.csv\")\n",
    "departure_df=pd.DataFrame(\n",
    "    departure_dataset[\n",
    "        [\"Time\",\"Flight Number\",\"Destination\",\"Flight Name\",\"Aircraft\",\"Status\"]\n",
    "    ]\n",
    ")\n",
    "departure_df"
   ]
  },
  {
   "cell_type": "code",
   "execution_count": 4,
   "metadata": {},
   "outputs": [
    {
     "data": {
      "text/html": "<div>\n<style scoped>\n    .dataframe tbody tr th:only-of-type {\n        vertical-align: middle;\n    }\n\n    .dataframe tbody tr th {\n        vertical-align: top;\n    }\n\n    .dataframe thead th {\n        text-align: right;\n    }\n</style>\n<table border=\"1\" class=\"dataframe\">\n  <thead>\n    <tr style=\"text-align: right;\">\n      <th></th>\n      <th>Time</th>\n      <th>date</th>\n      <th>Source</th>\n      <th>Flight Name</th>\n      <th>Status</th>\n      <th>type</th>\n      <th>Destination</th>\n    </tr>\n  </thead>\n  <tbody>\n    <tr>\n      <td>0</td>\n      <td>00:05:00</td>\n      <td>2020-02-02</td>\n      <td>Paris (CDG)</td>\n      <td>Air France</td>\n      <td>Landed 12:48 AM</td>\n      <td>A</td>\n      <td>NaN</td>\n    </tr>\n    <tr>\n      <td>1</td>\n      <td>00:05:00</td>\n      <td>2020-02-02</td>\n      <td>Hyderabad (HYD)</td>\n      <td>IndiGo</td>\n      <td>Landed 12:23 AM</td>\n      <td>A</td>\n      <td>NaN</td>\n    </tr>\n    <tr>\n      <td>2</td>\n      <td>00:05:00</td>\n      <td>2020-02-02</td>\n      <td>NaN</td>\n      <td>GoAir</td>\n      <td>Departed 12:30 AM</td>\n      <td>D</td>\n      <td>Delhi (DEL)</td>\n    </tr>\n    <tr>\n      <td>3</td>\n      <td>00:05:00</td>\n      <td>2020-02-02</td>\n      <td>NaN</td>\n      <td>AirAsia</td>\n      <td>Departed 12:55 AM</td>\n      <td>D</td>\n      <td>Delhi (DEL)</td>\n    </tr>\n    <tr>\n      <td>4</td>\n      <td>00:05:00</td>\n      <td>2020-02-02</td>\n      <td>NaN</td>\n      <td>Bangkok Airways (Guilin Livery)</td>\n      <td>Departed 12:50 AM</td>\n      <td>D</td>\n      <td>Bangkok (BKK)</td>\n    </tr>\n    <tr>\n      <td>...</td>\n      <td>...</td>\n      <td>...</td>\n      <td>...</td>\n      <td>...</td>\n      <td>...</td>\n      <td>...</td>\n      <td>...</td>\n    </tr>\n    <tr>\n      <td>25550</td>\n      <td>23:55:00</td>\n      <td>2020-03-01</td>\n      <td>NaN</td>\n      <td>IndiGo</td>\n      <td>NaN</td>\n      <td>D</td>\n      <td>Chennai (MAA)</td>\n    </tr>\n    <tr>\n      <td>25551</td>\n      <td>23:58:00</td>\n      <td>2020-03-01</td>\n      <td>Colombo (CMB)</td>\n      <td>Air India</td>\n      <td>NaN</td>\n      <td>A</td>\n      <td>NaN</td>\n    </tr>\n    <tr>\n      <td>25552</td>\n      <td>23:59:00</td>\n      <td>2020-03-01</td>\n      <td>Ahmedabad (AMD)</td>\n      <td>SpiceJet</td>\n      <td>Landed 11:49 PM</td>\n      <td>A</td>\n      <td>NaN</td>\n    </tr>\n    <tr>\n      <td>25553</td>\n      <td>23:59:00</td>\n      <td>2020-03-01</td>\n      <td>Ahmedabad (AMD)</td>\n      <td>SpiceJet</td>\n      <td>NaN</td>\n      <td>A</td>\n      <td>NaN</td>\n    </tr>\n    <tr>\n      <td>25554</td>\n      <td>23:59:00</td>\n      <td>2020-03-01</td>\n      <td>NaN</td>\n      <td>SpiceJet</td>\n      <td>NaN</td>\n      <td>D</td>\n      <td>Ahmedabad (AMD)</td>\n    </tr>\n  </tbody>\n</table>\n<p>25555 rows × 7 columns</p>\n</div>",
      "text/plain": "           Time        date           Source                      Flight Name  \\\n0      00:05:00  2020-02-02      Paris (CDG)                       Air France   \n1      00:05:00  2020-02-02  Hyderabad (HYD)                           IndiGo   \n2      00:05:00  2020-02-02              NaN                            GoAir   \n3      00:05:00  2020-02-02              NaN                          AirAsia   \n4      00:05:00  2020-02-02              NaN  Bangkok Airways (Guilin Livery)   \n...         ...         ...              ...                              ...   \n25550  23:55:00  2020-03-01              NaN                           IndiGo   \n25551  23:58:00  2020-03-01    Colombo (CMB)                        Air India   \n25552  23:59:00  2020-03-01  Ahmedabad (AMD)                         SpiceJet   \n25553  23:59:00  2020-03-01  Ahmedabad (AMD)                         SpiceJet   \n25554  23:59:00  2020-03-01              NaN                         SpiceJet   \n\n                  Status type      Destination  \n0        Landed 12:48 AM    A              NaN  \n1        Landed 12:23 AM    A              NaN  \n2      Departed 12:30 AM    D      Delhi (DEL)  \n3      Departed 12:55 AM    D      Delhi (DEL)  \n4      Departed 12:50 AM    D    Bangkok (BKK)  \n...                  ...  ...              ...  \n25550                NaN    D    Chennai (MAA)  \n25551                NaN    A              NaN  \n25552    Landed 11:49 PM    A              NaN  \n25553                NaN    A              NaN  \n25554                NaN    D  Ahmedabad (AMD)  \n\n[25555 rows x 7 columns]"
     },
     "execution_count": 4,
     "metadata": {},
     "output_type": "execute_result"
    }
   ],
   "source": [
    "#Merging the whole Dataset from all the files\n",
    "def update_time(value):\n",
    "    time = pd.to_datetime(value, format=\"%I:%M %p\").time()\n",
    "    return time\n",
    "\n",
    "\n",
    "def dataMerger():\n",
    "    file_path = \"../Datasets/\"\n",
    "    i = 0\n",
    "\n",
    "    folder_name = [\"Arrivals\", \"Departures\"]\n",
    "    arrival_path = file_path + \"\\\\\" + folder_name[0]\n",
    "    departure_path = file_path + \"\\\\\" + folder_name[1]\n",
    "\n",
    "    arrival_files = [\n",
    "        file\n",
    "        for file in os.listdir(arrival_path)\n",
    "        if os.path.isfile(os.path.join(arrival_path, file))\n",
    "    ]\n",
    "\n",
    "    departure_files = [\n",
    "        file\n",
    "        for file in os.listdir(departure_path)\n",
    "        if os.path.isfile(os.path.join(departure_path, file))\n",
    "    ]\n",
    "\n",
    "    file = pd.DataFrame()\n",
    "\n",
    "    \"\"\"\n",
    "    Merges all the files and adds dates to the dataset\n",
    "    \"\"\"\n",
    "    for arrival, departure in zip(arrival_files, departure_files):\n",
    "\n",
    "        date = pd.to_datetime(arrival[12:-4], format=\"%d-%m-%Y\").date()\n",
    "\n",
    "        arrival_file = pd.DataFrame(\n",
    "            pd.read_csv(arrival_path + \"\\\\\" + arrival, encoding=\"utf8\")[\n",
    "                [\"Time\", \"Source\", \"Flight Name\", \"Status\"]\n",
    "            ]\n",
    "        )\n",
    "        departure_file = pd.DataFrame(\n",
    "            pd.read_csv(departure_path + \"\\\\\" + departure, encoding=\"utf8\")[\n",
    "                [\"Time\", \"Destination\", \"Flight Name\", \"Status\"]\n",
    "            ]\n",
    "        )\n",
    "        arrival_file[\"date\"] = date\n",
    "        arrival_file[\"type\"] = \"A\"\n",
    "        departure_file[\"date\"] = date\n",
    "        departure_file[\"type\"] = \"D\"\n",
    "\n",
    "        arrival_file[\"Time\"] = arrival_file[\"Time\"].apply(update_time, 1)\n",
    "        departure_file[\"Time\"] = departure_file[\"Time\"].apply(update_time, 1)\n",
    "        merged = arrival_file.append(departure_file, sort=False)\n",
    "        file = file.append(merged, sort=False)\n",
    "        file.sort_values([\"date\", \"Time\"], axis=0, inplace=True)\n",
    "        # print(file)\n",
    "        # file = file.append(file)\n",
    "\n",
    "    with open(\"../Datasets/FinalMergedDataset/dataset.csv\", \"w\") as csv_file:\n",
    "        file.to_csv(path_or_buf=csv_file, index=False)\n",
    "\n",
    "dataset = pd.read_csv(\"../Datasets/FinalMergedDataset/dataset.csv\")\n",
    "df = pd.DataFrame(\n",
    "    dataset[\n",
    "        [\"Time\", \"date\", \"Source\", \"Flight Name\",\n",
    "            \"Status\", \"type\", \"Destination\"]\n",
    "    ]\n",
    ")\n",
    "df #Printing the merged Dataframe"
   ]
  },
  {
   "cell_type": "code",
   "execution_count": 5,
   "metadata": {},
   "outputs": [
    {
     "data": {
      "text/html": "<div>\n<style scoped>\n    .dataframe tbody tr th:only-of-type {\n        vertical-align: middle;\n    }\n\n    .dataframe tbody tr th {\n        vertical-align: top;\n    }\n\n    .dataframe thead th {\n        text-align: right;\n    }\n</style>\n<table border=\"1\" class=\"dataframe\">\n  <thead>\n    <tr style=\"text-align: right;\">\n      <th></th>\n      <th>Time</th>\n      <th>date</th>\n      <th>Source</th>\n      <th>Flight Name</th>\n      <th>Status</th>\n      <th>type</th>\n      <th>Destination</th>\n    </tr>\n  </thead>\n  <tbody>\n    <tr>\n      <td>0</td>\n      <td>00:05:00</td>\n      <td>2020-02-02</td>\n      <td>Paris (CDG)</td>\n      <td>Air France</td>\n      <td>Landed 12:48 AM</td>\n      <td>A</td>\n      <td>NaN</td>\n    </tr>\n    <tr>\n      <td>1</td>\n      <td>00:05:00</td>\n      <td>2020-02-02</td>\n      <td>Hyderabad (HYD)</td>\n      <td>IndiGo</td>\n      <td>Landed 12:23 AM</td>\n      <td>A</td>\n      <td>NaN</td>\n    </tr>\n    <tr>\n      <td>2</td>\n      <td>00:05:00</td>\n      <td>2020-02-02</td>\n      <td>Mumbai</td>\n      <td>GoAir</td>\n      <td>Departed 12:30 AM</td>\n      <td>D</td>\n      <td>Delhi (DEL)</td>\n    </tr>\n    <tr>\n      <td>3</td>\n      <td>00:05:00</td>\n      <td>2020-02-02</td>\n      <td>Mumbai</td>\n      <td>AirAsia</td>\n      <td>Departed 12:55 AM</td>\n      <td>D</td>\n      <td>Delhi (DEL)</td>\n    </tr>\n    <tr>\n      <td>4</td>\n      <td>00:05:00</td>\n      <td>2020-02-02</td>\n      <td>Mumbai</td>\n      <td>Bangkok Airways (Guilin Livery)</td>\n      <td>Departed 12:50 AM</td>\n      <td>D</td>\n      <td>Bangkok (BKK)</td>\n    </tr>\n    <tr>\n      <td>...</td>\n      <td>...</td>\n      <td>...</td>\n      <td>...</td>\n      <td>...</td>\n      <td>...</td>\n      <td>...</td>\n      <td>...</td>\n    </tr>\n    <tr>\n      <td>25550</td>\n      <td>23:55:00</td>\n      <td>2020-03-01</td>\n      <td>Mumbai</td>\n      <td>IndiGo</td>\n      <td>NaN</td>\n      <td>D</td>\n      <td>Chennai (MAA)</td>\n    </tr>\n    <tr>\n      <td>25551</td>\n      <td>23:58:00</td>\n      <td>2020-03-01</td>\n      <td>Colombo (CMB)</td>\n      <td>Air India</td>\n      <td>NaN</td>\n      <td>A</td>\n      <td>NaN</td>\n    </tr>\n    <tr>\n      <td>25552</td>\n      <td>23:59:00</td>\n      <td>2020-03-01</td>\n      <td>Ahmedabad (AMD)</td>\n      <td>SpiceJet</td>\n      <td>Landed 11:49 PM</td>\n      <td>A</td>\n      <td>NaN</td>\n    </tr>\n    <tr>\n      <td>25553</td>\n      <td>23:59:00</td>\n      <td>2020-03-01</td>\n      <td>Ahmedabad (AMD)</td>\n      <td>SpiceJet</td>\n      <td>NaN</td>\n      <td>A</td>\n      <td>NaN</td>\n    </tr>\n    <tr>\n      <td>25554</td>\n      <td>23:59:00</td>\n      <td>2020-03-01</td>\n      <td>Mumbai</td>\n      <td>SpiceJet</td>\n      <td>NaN</td>\n      <td>D</td>\n      <td>Ahmedabad (AMD)</td>\n    </tr>\n  </tbody>\n</table>\n<p>25555 rows × 7 columns</p>\n</div>",
      "text/plain": "           Time        date           Source                      Flight Name  \\\n0      00:05:00  2020-02-02      Paris (CDG)                       Air France   \n1      00:05:00  2020-02-02  Hyderabad (HYD)                           IndiGo   \n2      00:05:00  2020-02-02           Mumbai                            GoAir   \n3      00:05:00  2020-02-02           Mumbai                          AirAsia   \n4      00:05:00  2020-02-02           Mumbai  Bangkok Airways (Guilin Livery)   \n...         ...         ...              ...                              ...   \n25550  23:55:00  2020-03-01           Mumbai                           IndiGo   \n25551  23:58:00  2020-03-01    Colombo (CMB)                        Air India   \n25552  23:59:00  2020-03-01  Ahmedabad (AMD)                         SpiceJet   \n25553  23:59:00  2020-03-01  Ahmedabad (AMD)                         SpiceJet   \n25554  23:59:00  2020-03-01           Mumbai                         SpiceJet   \n\n                  Status type      Destination  \n0        Landed 12:48 AM    A              NaN  \n1        Landed 12:23 AM    A              NaN  \n2      Departed 12:30 AM    D      Delhi (DEL)  \n3      Departed 12:55 AM    D      Delhi (DEL)  \n4      Departed 12:50 AM    D    Bangkok (BKK)  \n...                  ...  ...              ...  \n25550                NaN    D    Chennai (MAA)  \n25551                NaN    A              NaN  \n25552    Landed 11:49 PM    A              NaN  \n25553                NaN    A              NaN  \n25554                NaN    D  Ahmedabad (AMD)  \n\n[25555 rows x 7 columns]"
     },
     "execution_count": 5,
     "metadata": {},
     "output_type": "execute_result"
    }
   ],
   "source": [
    "#Function to Update the Departure Source in the dataframe i.e. filling the missing values\n",
    "def update_source(value):\n",
    "    if value[\"type\"] == \"D\":\n",
    "        return \"Mumbai\"\n",
    "    else:\n",
    "        return value[\"Source\"]\n",
    "\n",
    "df[\"Source\"] = df[[\"Source\", \"type\"]].apply(update_source, 1) #Calling the above function and updating the Dataframe\n",
    "df #Printing the Updated Dataframe"
   ]
  },
  {
   "cell_type": "code",
   "execution_count": 6,
   "metadata": {},
   "outputs": [
    {
     "data": {
      "text/html": "<div>\n<style scoped>\n    .dataframe tbody tr th:only-of-type {\n        vertical-align: middle;\n    }\n\n    .dataframe tbody tr th {\n        vertical-align: top;\n    }\n\n    .dataframe thead th {\n        text-align: right;\n    }\n</style>\n<table border=\"1\" class=\"dataframe\">\n  <thead>\n    <tr style=\"text-align: right;\">\n      <th></th>\n      <th>Time</th>\n      <th>date</th>\n      <th>Source</th>\n      <th>Flight Name</th>\n      <th>Status</th>\n      <th>type</th>\n      <th>Destination</th>\n    </tr>\n  </thead>\n  <tbody>\n    <tr>\n      <td>0</td>\n      <td>00:05:00</td>\n      <td>2020-02-02</td>\n      <td>Paris (CDG)</td>\n      <td>Air France</td>\n      <td>Landed 12:48 AM</td>\n      <td>A</td>\n      <td>Mumbai</td>\n    </tr>\n    <tr>\n      <td>1</td>\n      <td>00:05:00</td>\n      <td>2020-02-02</td>\n      <td>Hyderabad (HYD)</td>\n      <td>IndiGo</td>\n      <td>Landed 12:23 AM</td>\n      <td>A</td>\n      <td>Mumbai</td>\n    </tr>\n    <tr>\n      <td>2</td>\n      <td>00:05:00</td>\n      <td>2020-02-02</td>\n      <td>Mumbai</td>\n      <td>GoAir</td>\n      <td>Departed 12:30 AM</td>\n      <td>D</td>\n      <td>Delhi (DEL)</td>\n    </tr>\n    <tr>\n      <td>3</td>\n      <td>00:05:00</td>\n      <td>2020-02-02</td>\n      <td>Mumbai</td>\n      <td>AirAsia</td>\n      <td>Departed 12:55 AM</td>\n      <td>D</td>\n      <td>Delhi (DEL)</td>\n    </tr>\n    <tr>\n      <td>4</td>\n      <td>00:05:00</td>\n      <td>2020-02-02</td>\n      <td>Mumbai</td>\n      <td>Bangkok Airways (Guilin Livery)</td>\n      <td>Departed 12:50 AM</td>\n      <td>D</td>\n      <td>Bangkok (BKK)</td>\n    </tr>\n    <tr>\n      <td>...</td>\n      <td>...</td>\n      <td>...</td>\n      <td>...</td>\n      <td>...</td>\n      <td>...</td>\n      <td>...</td>\n      <td>...</td>\n    </tr>\n    <tr>\n      <td>25550</td>\n      <td>23:55:00</td>\n      <td>2020-03-01</td>\n      <td>Mumbai</td>\n      <td>IndiGo</td>\n      <td>NaN</td>\n      <td>D</td>\n      <td>Chennai (MAA)</td>\n    </tr>\n    <tr>\n      <td>25551</td>\n      <td>23:58:00</td>\n      <td>2020-03-01</td>\n      <td>Colombo (CMB)</td>\n      <td>Air India</td>\n      <td>NaN</td>\n      <td>A</td>\n      <td>Mumbai</td>\n    </tr>\n    <tr>\n      <td>25552</td>\n      <td>23:59:00</td>\n      <td>2020-03-01</td>\n      <td>Ahmedabad (AMD)</td>\n      <td>SpiceJet</td>\n      <td>Landed 11:49 PM</td>\n      <td>A</td>\n      <td>Mumbai</td>\n    </tr>\n    <tr>\n      <td>25553</td>\n      <td>23:59:00</td>\n      <td>2020-03-01</td>\n      <td>Ahmedabad (AMD)</td>\n      <td>SpiceJet</td>\n      <td>NaN</td>\n      <td>A</td>\n      <td>Mumbai</td>\n    </tr>\n    <tr>\n      <td>25554</td>\n      <td>23:59:00</td>\n      <td>2020-03-01</td>\n      <td>Mumbai</td>\n      <td>SpiceJet</td>\n      <td>NaN</td>\n      <td>D</td>\n      <td>Ahmedabad (AMD)</td>\n    </tr>\n  </tbody>\n</table>\n<p>25555 rows × 7 columns</p>\n</div>",
      "text/plain": "           Time        date           Source                      Flight Name  \\\n0      00:05:00  2020-02-02      Paris (CDG)                       Air France   \n1      00:05:00  2020-02-02  Hyderabad (HYD)                           IndiGo   \n2      00:05:00  2020-02-02           Mumbai                            GoAir   \n3      00:05:00  2020-02-02           Mumbai                          AirAsia   \n4      00:05:00  2020-02-02           Mumbai  Bangkok Airways (Guilin Livery)   \n...         ...         ...              ...                              ...   \n25550  23:55:00  2020-03-01           Mumbai                           IndiGo   \n25551  23:58:00  2020-03-01    Colombo (CMB)                        Air India   \n25552  23:59:00  2020-03-01  Ahmedabad (AMD)                         SpiceJet   \n25553  23:59:00  2020-03-01  Ahmedabad (AMD)                         SpiceJet   \n25554  23:59:00  2020-03-01           Mumbai                         SpiceJet   \n\n                  Status type      Destination  \n0        Landed 12:48 AM    A           Mumbai  \n1        Landed 12:23 AM    A           Mumbai  \n2      Departed 12:30 AM    D      Delhi (DEL)  \n3      Departed 12:55 AM    D      Delhi (DEL)  \n4      Departed 12:50 AM    D    Bangkok (BKK)  \n...                  ...  ...              ...  \n25550                NaN    D    Chennai (MAA)  \n25551                NaN    A           Mumbai  \n25552    Landed 11:49 PM    A           Mumbai  \n25553                NaN    A           Mumbai  \n25554                NaN    D  Ahmedabad (AMD)  \n\n[25555 rows x 7 columns]"
     },
     "execution_count": 6,
     "metadata": {},
     "output_type": "execute_result"
    }
   ],
   "source": [
    "#Function to Update the Arrival Destination in the dataframe i.e. filling the missing values\n",
    "def update_destination(value):\n",
    "    if value[\"type\"] == \"A\":\n",
    "        return \"Mumbai\"\n",
    "    else:\n",
    "        return value[\"Destination\"]\n",
    "df[\"Destination\"] = df[[\"Destination\", \"type\"]].apply(update_destination, 1) #Calling the above function and updating the Dataframe\n",
    "df #Printing the Updated Dataframe"
   ]
  },
  {
   "cell_type": "code",
   "execution_count": 7,
   "metadata": {},
   "outputs": [
    {
     "data": {
      "text/html": "<div>\n<style scoped>\n    .dataframe tbody tr th:only-of-type {\n        vertical-align: middle;\n    }\n\n    .dataframe tbody tr th {\n        vertical-align: top;\n    }\n\n    .dataframe thead th {\n        text-align: right;\n    }\n</style>\n<table border=\"1\" class=\"dataframe\">\n  <thead>\n    <tr style=\"text-align: right;\">\n      <th></th>\n      <th>Time</th>\n      <th>date</th>\n      <th>Source</th>\n      <th>Flight Name</th>\n      <th>Status</th>\n      <th>type</th>\n      <th>Destination</th>\n    </tr>\n  </thead>\n  <tbody>\n    <tr>\n      <td>0</td>\n      <td>2020-02-02 00:05:00</td>\n      <td>2020-02-02</td>\n      <td>Paris (CDG)</td>\n      <td>Air France</td>\n      <td>Landed 12:48 AM</td>\n      <td>A</td>\n      <td>Mumbai</td>\n    </tr>\n    <tr>\n      <td>1</td>\n      <td>2020-02-02 00:05:00</td>\n      <td>2020-02-02</td>\n      <td>Hyderabad (HYD)</td>\n      <td>IndiGo</td>\n      <td>Landed 12:23 AM</td>\n      <td>A</td>\n      <td>Mumbai</td>\n    </tr>\n    <tr>\n      <td>2</td>\n      <td>2020-02-02 00:05:00</td>\n      <td>2020-02-02</td>\n      <td>Mumbai</td>\n      <td>GoAir</td>\n      <td>Departed 12:30 AM</td>\n      <td>D</td>\n      <td>Delhi (DEL)</td>\n    </tr>\n    <tr>\n      <td>3</td>\n      <td>2020-02-02 00:05:00</td>\n      <td>2020-02-02</td>\n      <td>Mumbai</td>\n      <td>AirAsia</td>\n      <td>Departed 12:55 AM</td>\n      <td>D</td>\n      <td>Delhi (DEL)</td>\n    </tr>\n    <tr>\n      <td>4</td>\n      <td>2020-02-02 00:05:00</td>\n      <td>2020-02-02</td>\n      <td>Mumbai</td>\n      <td>Bangkok Airways (Guilin Livery)</td>\n      <td>Departed 12:50 AM</td>\n      <td>D</td>\n      <td>Bangkok (BKK)</td>\n    </tr>\n    <tr>\n      <td>...</td>\n      <td>...</td>\n      <td>...</td>\n      <td>...</td>\n      <td>...</td>\n      <td>...</td>\n      <td>...</td>\n      <td>...</td>\n    </tr>\n    <tr>\n      <td>25550</td>\n      <td>2020-03-01 23:55:00</td>\n      <td>2020-03-01</td>\n      <td>Mumbai</td>\n      <td>IndiGo</td>\n      <td>NaN</td>\n      <td>D</td>\n      <td>Chennai (MAA)</td>\n    </tr>\n    <tr>\n      <td>25551</td>\n      <td>2020-03-01 23:58:00</td>\n      <td>2020-03-01</td>\n      <td>Colombo (CMB)</td>\n      <td>Air India</td>\n      <td>NaN</td>\n      <td>A</td>\n      <td>Mumbai</td>\n    </tr>\n    <tr>\n      <td>25552</td>\n      <td>2020-03-01 23:59:00</td>\n      <td>2020-03-01</td>\n      <td>Ahmedabad (AMD)</td>\n      <td>SpiceJet</td>\n      <td>Landed 11:49 PM</td>\n      <td>A</td>\n      <td>Mumbai</td>\n    </tr>\n    <tr>\n      <td>25553</td>\n      <td>2020-03-01 23:59:00</td>\n      <td>2020-03-01</td>\n      <td>Ahmedabad (AMD)</td>\n      <td>SpiceJet</td>\n      <td>NaN</td>\n      <td>A</td>\n      <td>Mumbai</td>\n    </tr>\n    <tr>\n      <td>25554</td>\n      <td>2020-03-01 23:59:00</td>\n      <td>2020-03-01</td>\n      <td>Mumbai</td>\n      <td>SpiceJet</td>\n      <td>NaN</td>\n      <td>D</td>\n      <td>Ahmedabad (AMD)</td>\n    </tr>\n  </tbody>\n</table>\n<p>25555 rows × 7 columns</p>\n</div>",
      "text/plain": "                     Time        date           Source  \\\n0     2020-02-02 00:05:00  2020-02-02      Paris (CDG)   \n1     2020-02-02 00:05:00  2020-02-02  Hyderabad (HYD)   \n2     2020-02-02 00:05:00  2020-02-02           Mumbai   \n3     2020-02-02 00:05:00  2020-02-02           Mumbai   \n4     2020-02-02 00:05:00  2020-02-02           Mumbai   \n...                   ...         ...              ...   \n25550 2020-03-01 23:55:00  2020-03-01           Mumbai   \n25551 2020-03-01 23:58:00  2020-03-01    Colombo (CMB)   \n25552 2020-03-01 23:59:00  2020-03-01  Ahmedabad (AMD)   \n25553 2020-03-01 23:59:00  2020-03-01  Ahmedabad (AMD)   \n25554 2020-03-01 23:59:00  2020-03-01           Mumbai   \n\n                           Flight Name             Status type  \\\n0                           Air France    Landed 12:48 AM    A   \n1                               IndiGo    Landed 12:23 AM    A   \n2                                GoAir  Departed 12:30 AM    D   \n3                              AirAsia  Departed 12:55 AM    D   \n4      Bangkok Airways (Guilin Livery)  Departed 12:50 AM    D   \n...                                ...                ...  ...   \n25550                           IndiGo                NaN    D   \n25551                        Air India                NaN    A   \n25552                         SpiceJet    Landed 11:49 PM    A   \n25553                         SpiceJet                NaN    A   \n25554                         SpiceJet                NaN    D   \n\n           Destination  \n0               Mumbai  \n1               Mumbai  \n2          Delhi (DEL)  \n3          Delhi (DEL)  \n4        Bangkok (BKK)  \n...                ...  \n25550    Chennai (MAA)  \n25551           Mumbai  \n25552           Mumbai  \n25553           Mumbai  \n25554  Ahmedabad (AMD)  \n\n[25555 rows x 7 columns]"
     },
     "execution_count": 7,
     "metadata": {},
     "output_type": "execute_result"
    }
   ],
   "source": [
    "#Function to convert String of date and time to timestamp \n",
    "def update_timestamp_init(value):\n",
    "    timestamp = str(value[\"date\"]) + \" \" + str(value[\"Time\"])\n",
    "    timestamp = pd.to_datetime(timestamp, format=\"%Y-%m-%d %H:%M:%S\")\n",
    "    return timestamp\n",
    "df[\"Time\"] = df[[\"date\", \"Time\"]].apply(update_timestamp_init, 1) #Calling the above function and updating the Dataframe\n",
    "df #Printing the Updated Dataframe"
   ]
  },
  {
   "cell_type": "code",
   "execution_count": 8,
   "metadata": {},
   "outputs": [
    {
     "data": {
      "text/html": "<div>\n<style scoped>\n    .dataframe tbody tr th:only-of-type {\n        vertical-align: middle;\n    }\n\n    .dataframe tbody tr th {\n        vertical-align: top;\n    }\n\n    .dataframe thead th {\n        text-align: right;\n    }\n</style>\n<table border=\"1\" class=\"dataframe\">\n  <thead>\n    <tr style=\"text-align: right;\">\n      <th></th>\n      <th>Time</th>\n      <th>date</th>\n      <th>Source</th>\n      <th>Flight Name</th>\n      <th>Status</th>\n      <th>type</th>\n      <th>Destination</th>\n      <th>Actual_Time</th>\n    </tr>\n  </thead>\n  <tbody>\n    <tr>\n      <td>0</td>\n      <td>2020-02-02 00:05:00</td>\n      <td>2020-02-02</td>\n      <td>Paris (CDG)</td>\n      <td>Air France</td>\n      <td>Landed 12:48 AM</td>\n      <td>A</td>\n      <td>Mumbai</td>\n      <td>2020-02-02 00:48:00</td>\n    </tr>\n    <tr>\n      <td>1</td>\n      <td>2020-02-02 00:05:00</td>\n      <td>2020-02-02</td>\n      <td>Hyderabad (HYD)</td>\n      <td>IndiGo</td>\n      <td>Landed 12:23 AM</td>\n      <td>A</td>\n      <td>Mumbai</td>\n      <td>2020-02-02 00:23:00</td>\n    </tr>\n    <tr>\n      <td>2</td>\n      <td>2020-02-02 00:05:00</td>\n      <td>2020-02-02</td>\n      <td>Mumbai</td>\n      <td>GoAir</td>\n      <td>Departed 12:30 AM</td>\n      <td>D</td>\n      <td>Delhi (DEL)</td>\n      <td>2020-02-02 00:30:00</td>\n    </tr>\n    <tr>\n      <td>3</td>\n      <td>2020-02-02 00:05:00</td>\n      <td>2020-02-02</td>\n      <td>Mumbai</td>\n      <td>AirAsia</td>\n      <td>Departed 12:55 AM</td>\n      <td>D</td>\n      <td>Delhi (DEL)</td>\n      <td>2020-02-02 00:55:00</td>\n    </tr>\n    <tr>\n      <td>4</td>\n      <td>2020-02-02 00:05:00</td>\n      <td>2020-02-02</td>\n      <td>Mumbai</td>\n      <td>Bangkok Airways (Guilin Livery)</td>\n      <td>Departed 12:50 AM</td>\n      <td>D</td>\n      <td>Bangkok (BKK)</td>\n      <td>2020-02-02 00:50:00</td>\n    </tr>\n    <tr>\n      <td>...</td>\n      <td>...</td>\n      <td>...</td>\n      <td>...</td>\n      <td>...</td>\n      <td>...</td>\n      <td>...</td>\n      <td>...</td>\n      <td>...</td>\n    </tr>\n    <tr>\n      <td>25550</td>\n      <td>2020-03-01 23:55:00</td>\n      <td>2020-03-01</td>\n      <td>Mumbai</td>\n      <td>IndiGo</td>\n      <td>NaN</td>\n      <td>D</td>\n      <td>Chennai (MAA)</td>\n      <td>NaT</td>\n    </tr>\n    <tr>\n      <td>25551</td>\n      <td>2020-03-01 23:58:00</td>\n      <td>2020-03-01</td>\n      <td>Colombo (CMB)</td>\n      <td>Air India</td>\n      <td>NaN</td>\n      <td>A</td>\n      <td>Mumbai</td>\n      <td>NaT</td>\n    </tr>\n    <tr>\n      <td>25552</td>\n      <td>2020-03-01 23:59:00</td>\n      <td>2020-03-01</td>\n      <td>Ahmedabad (AMD)</td>\n      <td>SpiceJet</td>\n      <td>Landed 11:49 PM</td>\n      <td>A</td>\n      <td>Mumbai</td>\n      <td>2020-03-01 23:49:00</td>\n    </tr>\n    <tr>\n      <td>25553</td>\n      <td>2020-03-01 23:59:00</td>\n      <td>2020-03-01</td>\n      <td>Ahmedabad (AMD)</td>\n      <td>SpiceJet</td>\n      <td>NaN</td>\n      <td>A</td>\n      <td>Mumbai</td>\n      <td>NaT</td>\n    </tr>\n    <tr>\n      <td>25554</td>\n      <td>2020-03-01 23:59:00</td>\n      <td>2020-03-01</td>\n      <td>Mumbai</td>\n      <td>SpiceJet</td>\n      <td>NaN</td>\n      <td>D</td>\n      <td>Ahmedabad (AMD)</td>\n      <td>NaT</td>\n    </tr>\n  </tbody>\n</table>\n<p>25555 rows × 8 columns</p>\n</div>",
      "text/plain": "                     Time        date           Source  \\\n0     2020-02-02 00:05:00  2020-02-02      Paris (CDG)   \n1     2020-02-02 00:05:00  2020-02-02  Hyderabad (HYD)   \n2     2020-02-02 00:05:00  2020-02-02           Mumbai   \n3     2020-02-02 00:05:00  2020-02-02           Mumbai   \n4     2020-02-02 00:05:00  2020-02-02           Mumbai   \n...                   ...         ...              ...   \n25550 2020-03-01 23:55:00  2020-03-01           Mumbai   \n25551 2020-03-01 23:58:00  2020-03-01    Colombo (CMB)   \n25552 2020-03-01 23:59:00  2020-03-01  Ahmedabad (AMD)   \n25553 2020-03-01 23:59:00  2020-03-01  Ahmedabad (AMD)   \n25554 2020-03-01 23:59:00  2020-03-01           Mumbai   \n\n                           Flight Name             Status type  \\\n0                           Air France    Landed 12:48 AM    A   \n1                               IndiGo    Landed 12:23 AM    A   \n2                                GoAir  Departed 12:30 AM    D   \n3                              AirAsia  Departed 12:55 AM    D   \n4      Bangkok Airways (Guilin Livery)  Departed 12:50 AM    D   \n...                                ...                ...  ...   \n25550                           IndiGo                NaN    D   \n25551                        Air India                NaN    A   \n25552                         SpiceJet    Landed 11:49 PM    A   \n25553                         SpiceJet                NaN    A   \n25554                         SpiceJet                NaN    D   \n\n           Destination         Actual_Time  \n0               Mumbai 2020-02-02 00:48:00  \n1               Mumbai 2020-02-02 00:23:00  \n2          Delhi (DEL) 2020-02-02 00:30:00  \n3          Delhi (DEL) 2020-02-02 00:55:00  \n4        Bangkok (BKK) 2020-02-02 00:50:00  \n...                ...                 ...  \n25550    Chennai (MAA)                 NaT  \n25551           Mumbai                 NaT  \n25552           Mumbai 2020-03-01 23:49:00  \n25553           Mumbai                 NaT  \n25554  Ahmedabad (AMD)                 NaT  \n\n[25555 rows x 8 columns]"
     },
     "execution_count": 8,
     "metadata": {},
     "output_type": "execute_result"
    }
   ],
   "source": [
    "#Function to add the actual time at which the Flight Landed or Departed\n",
    "def update_actual_time(value):\n",
    "    # print(value[\"Status\"])\n",
    "    if type(value[\"Status\"]) == type(\"String\"):\n",
    "        status = value[\"Status\"].split(\" \")\n",
    "        if len(status) == 3 and status[1] != \"to\":\n",
    "            time = value[\"date\"] + \" \" + status[1] + \" \" + status[2]\n",
    "            scheduled_time = pd.to_datetime(\n",
    "                value[\"Time\"], format=\"%Y-%m-%d %H:%M:%S\")\n",
    "            actual_time = pd.to_datetime(time, format=\"%Y-%m-%d %I:%M %p\")\n",
    "\n",
    "            threshold_date = pd.to_datetime(\n",
    "                value[\"date\"]+\" \"+\"00:00:00\", format=\"%Y-%m-%d %H:%M:%S\")\n",
    "\n",
    "            lb_threshold_date = pd.to_datetime(\n",
    "                value[\"date\"]+\" \"+\"20:30:00\", format=\"%Y-%m-%d %H:%M:%S\")\n",
    "\n",
    "            ub_threshold_date = pd.to_datetime(\n",
    "                value[\"date\"]+\" \"+\"03:00:00\", format=\"%Y-%m-%d %H:%M:%S\")\n",
    "\n",
    "            if actual_time <= ub_threshold_date and scheduled_time >= lb_threshold_date:\n",
    "                actual_time = actual_time + dt.timedelta(days=1)\n",
    "            elif scheduled_time <= ub_threshold_date and actual_time >= lb_threshold_date:\n",
    "                actual_time = actual_time - dt.timedelta(days=1)\n",
    "            timedelta = pd.Timedelta(actual_time - scheduled_time).seconds/3600\n",
    "            return actual_time\n",
    "        else:\n",
    "            return np.nan\n",
    "    else:\n",
    "        return np.nan\n",
    "df[\"Actual_Time\"] = df[[\"Time\", \"Status\", \"date\"]].apply(update_actual_time, 1) #Calling the above function and updating the Dataframe\n",
    "df #Printing the Updated Dataframe"
   ]
  },
  {
   "cell_type": "code",
   "execution_count": 9,
   "metadata": {},
   "outputs": [
    {
     "data": {
      "text/html": "<div>\n<style scoped>\n    .dataframe tbody tr th:only-of-type {\n        vertical-align: middle;\n    }\n\n    .dataframe tbody tr th {\n        vertical-align: top;\n    }\n\n    .dataframe thead th {\n        text-align: right;\n    }\n</style>\n<table border=\"1\" class=\"dataframe\">\n  <thead>\n    <tr style=\"text-align: right;\">\n      <th></th>\n      <th>Time</th>\n      <th>date</th>\n      <th>Source</th>\n      <th>Flight Name</th>\n      <th>Status</th>\n      <th>type</th>\n      <th>Destination</th>\n      <th>Actual_Time</th>\n    </tr>\n  </thead>\n  <tbody>\n    <tr>\n      <td>0</td>\n      <td>2020-02-02 00:05:00</td>\n      <td>2020-02-02</td>\n      <td>Paris (CDG)</td>\n      <td>Air France</td>\n      <td>Landed</td>\n      <td>A</td>\n      <td>Mumbai</td>\n      <td>2020-02-02 00:48:00</td>\n    </tr>\n    <tr>\n      <td>1</td>\n      <td>2020-02-02 00:05:00</td>\n      <td>2020-02-02</td>\n      <td>Hyderabad (HYD)</td>\n      <td>IndiGo</td>\n      <td>Landed</td>\n      <td>A</td>\n      <td>Mumbai</td>\n      <td>2020-02-02 00:23:00</td>\n    </tr>\n    <tr>\n      <td>2</td>\n      <td>2020-02-02 00:05:00</td>\n      <td>2020-02-02</td>\n      <td>Mumbai</td>\n      <td>GoAir</td>\n      <td>Departed</td>\n      <td>D</td>\n      <td>Delhi (DEL)</td>\n      <td>2020-02-02 00:30:00</td>\n    </tr>\n    <tr>\n      <td>3</td>\n      <td>2020-02-02 00:05:00</td>\n      <td>2020-02-02</td>\n      <td>Mumbai</td>\n      <td>AirAsia</td>\n      <td>Departed</td>\n      <td>D</td>\n      <td>Delhi (DEL)</td>\n      <td>2020-02-02 00:55:00</td>\n    </tr>\n    <tr>\n      <td>4</td>\n      <td>2020-02-02 00:05:00</td>\n      <td>2020-02-02</td>\n      <td>Mumbai</td>\n      <td>Bangkok Airways (Guilin Livery)</td>\n      <td>Departed</td>\n      <td>D</td>\n      <td>Bangkok (BKK)</td>\n      <td>2020-02-02 00:50:00</td>\n    </tr>\n    <tr>\n      <td>...</td>\n      <td>...</td>\n      <td>...</td>\n      <td>...</td>\n      <td>...</td>\n      <td>...</td>\n      <td>...</td>\n      <td>...</td>\n      <td>...</td>\n    </tr>\n    <tr>\n      <td>25550</td>\n      <td>2020-03-01 23:55:00</td>\n      <td>2020-03-01</td>\n      <td>Mumbai</td>\n      <td>IndiGo</td>\n      <td>NaN</td>\n      <td>D</td>\n      <td>Chennai (MAA)</td>\n      <td>NaT</td>\n    </tr>\n    <tr>\n      <td>25551</td>\n      <td>2020-03-01 23:58:00</td>\n      <td>2020-03-01</td>\n      <td>Colombo (CMB)</td>\n      <td>Air India</td>\n      <td>NaN</td>\n      <td>A</td>\n      <td>Mumbai</td>\n      <td>NaT</td>\n    </tr>\n    <tr>\n      <td>25552</td>\n      <td>2020-03-01 23:59:00</td>\n      <td>2020-03-01</td>\n      <td>Ahmedabad (AMD)</td>\n      <td>SpiceJet</td>\n      <td>Landed</td>\n      <td>A</td>\n      <td>Mumbai</td>\n      <td>2020-03-01 23:49:00</td>\n    </tr>\n    <tr>\n      <td>25553</td>\n      <td>2020-03-01 23:59:00</td>\n      <td>2020-03-01</td>\n      <td>Ahmedabad (AMD)</td>\n      <td>SpiceJet</td>\n      <td>NaN</td>\n      <td>A</td>\n      <td>Mumbai</td>\n      <td>NaT</td>\n    </tr>\n    <tr>\n      <td>25554</td>\n      <td>2020-03-01 23:59:00</td>\n      <td>2020-03-01</td>\n      <td>Mumbai</td>\n      <td>SpiceJet</td>\n      <td>NaN</td>\n      <td>D</td>\n      <td>Ahmedabad (AMD)</td>\n      <td>NaT</td>\n    </tr>\n  </tbody>\n</table>\n<p>25555 rows × 8 columns</p>\n</div>",
      "text/plain": "                     Time        date           Source  \\\n0     2020-02-02 00:05:00  2020-02-02      Paris (CDG)   \n1     2020-02-02 00:05:00  2020-02-02  Hyderabad (HYD)   \n2     2020-02-02 00:05:00  2020-02-02           Mumbai   \n3     2020-02-02 00:05:00  2020-02-02           Mumbai   \n4     2020-02-02 00:05:00  2020-02-02           Mumbai   \n...                   ...         ...              ...   \n25550 2020-03-01 23:55:00  2020-03-01           Mumbai   \n25551 2020-03-01 23:58:00  2020-03-01    Colombo (CMB)   \n25552 2020-03-01 23:59:00  2020-03-01  Ahmedabad (AMD)   \n25553 2020-03-01 23:59:00  2020-03-01  Ahmedabad (AMD)   \n25554 2020-03-01 23:59:00  2020-03-01           Mumbai   \n\n                           Flight Name    Status type      Destination  \\\n0                           Air France    Landed    A           Mumbai   \n1                               IndiGo    Landed    A           Mumbai   \n2                                GoAir  Departed    D      Delhi (DEL)   \n3                              AirAsia  Departed    D      Delhi (DEL)   \n4      Bangkok Airways (Guilin Livery)  Departed    D    Bangkok (BKK)   \n...                                ...       ...  ...              ...   \n25550                           IndiGo       NaN    D    Chennai (MAA)   \n25551                        Air India       NaN    A           Mumbai   \n25552                         SpiceJet    Landed    A           Mumbai   \n25553                         SpiceJet       NaN    A           Mumbai   \n25554                         SpiceJet       NaN    D  Ahmedabad (AMD)   \n\n              Actual_Time  \n0     2020-02-02 00:48:00  \n1     2020-02-02 00:23:00  \n2     2020-02-02 00:30:00  \n3     2020-02-02 00:55:00  \n4     2020-02-02 00:50:00  \n...                   ...  \n25550                 NaT  \n25551                 NaT  \n25552 2020-03-01 23:49:00  \n25553                 NaT  \n25554                 NaT  \n\n[25555 rows x 8 columns]"
     },
     "execution_count": 9,
     "metadata": {},
     "output_type": "execute_result"
    }
   ],
   "source": [
    "#Function to update the status of the flight\n",
    "def update_status(value):\n",
    "    if value != np.nan and type(value) == type(\"String\"):\n",
    "        value = value.split(\" \")[0]\n",
    "        return value\n",
    "    else:\n",
    "        return np.nan\n",
    "df[\"Status\"] = df[\"Status\"].apply(update_status, 1) #Calling the above function and updating the Dataframe\n",
    "df #Printing the Updated Dataframe"
   ]
  },
  {
   "cell_type": "code",
   "execution_count": 10,
   "metadata": {},
   "outputs": [
    {
     "data": {
      "text/html": "<div>\n<style scoped>\n    .dataframe tbody tr th:only-of-type {\n        vertical-align: middle;\n    }\n\n    .dataframe tbody tr th {\n        vertical-align: top;\n    }\n\n    .dataframe thead th {\n        text-align: right;\n    }\n</style>\n<table border=\"1\" class=\"dataframe\">\n  <thead>\n    <tr style=\"text-align: right;\">\n      <th></th>\n      <th>Time</th>\n      <th>date</th>\n      <th>Source</th>\n      <th>Flight Name</th>\n      <th>Status</th>\n      <th>type</th>\n      <th>Destination</th>\n    </tr>\n  </thead>\n  <tbody>\n    <tr>\n      <td>0</td>\n      <td>00:05:00</td>\n      <td>2020-02-02</td>\n      <td>Paris (CDG)</td>\n      <td>Air France</td>\n      <td>Landed 12:48 AM</td>\n      <td>A</td>\n      <td>-9999</td>\n    </tr>\n    <tr>\n      <td>1</td>\n      <td>00:05:00</td>\n      <td>2020-02-02</td>\n      <td>Hyderabad (HYD)</td>\n      <td>IndiGo</td>\n      <td>Landed 12:23 AM</td>\n      <td>A</td>\n      <td>-9999</td>\n    </tr>\n    <tr>\n      <td>2</td>\n      <td>00:05:00</td>\n      <td>2020-02-02</td>\n      <td>-9999</td>\n      <td>GoAir</td>\n      <td>Departed 12:30 AM</td>\n      <td>D</td>\n      <td>Delhi (DEL)</td>\n    </tr>\n    <tr>\n      <td>3</td>\n      <td>00:05:00</td>\n      <td>2020-02-02</td>\n      <td>-9999</td>\n      <td>AirAsia</td>\n      <td>Departed 12:55 AM</td>\n      <td>D</td>\n      <td>Delhi (DEL)</td>\n    </tr>\n    <tr>\n      <td>4</td>\n      <td>00:05:00</td>\n      <td>2020-02-02</td>\n      <td>-9999</td>\n      <td>Bangkok Airways (Guilin Livery)</td>\n      <td>Departed 12:50 AM</td>\n      <td>D</td>\n      <td>Bangkok (BKK)</td>\n    </tr>\n    <tr>\n      <td>...</td>\n      <td>...</td>\n      <td>...</td>\n      <td>...</td>\n      <td>...</td>\n      <td>...</td>\n      <td>...</td>\n      <td>...</td>\n    </tr>\n    <tr>\n      <td>25550</td>\n      <td>23:55:00</td>\n      <td>2020-03-01</td>\n      <td>-9999</td>\n      <td>IndiGo</td>\n      <td>-9999</td>\n      <td>D</td>\n      <td>Chennai (MAA)</td>\n    </tr>\n    <tr>\n      <td>25551</td>\n      <td>23:58:00</td>\n      <td>2020-03-01</td>\n      <td>Colombo (CMB)</td>\n      <td>Air India</td>\n      <td>-9999</td>\n      <td>A</td>\n      <td>-9999</td>\n    </tr>\n    <tr>\n      <td>25552</td>\n      <td>23:59:00</td>\n      <td>2020-03-01</td>\n      <td>Ahmedabad (AMD)</td>\n      <td>SpiceJet</td>\n      <td>Landed 11:49 PM</td>\n      <td>A</td>\n      <td>-9999</td>\n    </tr>\n    <tr>\n      <td>25553</td>\n      <td>23:59:00</td>\n      <td>2020-03-01</td>\n      <td>Ahmedabad (AMD)</td>\n      <td>SpiceJet</td>\n      <td>-9999</td>\n      <td>A</td>\n      <td>-9999</td>\n    </tr>\n    <tr>\n      <td>25554</td>\n      <td>23:59:00</td>\n      <td>2020-03-01</td>\n      <td>-9999</td>\n      <td>SpiceJet</td>\n      <td>-9999</td>\n      <td>D</td>\n      <td>Ahmedabad (AMD)</td>\n    </tr>\n  </tbody>\n</table>\n<p>25555 rows × 7 columns</p>\n</div>",
      "text/plain": "           Time        date           Source                      Flight Name  \\\n0      00:05:00  2020-02-02      Paris (CDG)                       Air France   \n1      00:05:00  2020-02-02  Hyderabad (HYD)                           IndiGo   \n2      00:05:00  2020-02-02            -9999                            GoAir   \n3      00:05:00  2020-02-02            -9999                          AirAsia   \n4      00:05:00  2020-02-02            -9999  Bangkok Airways (Guilin Livery)   \n...         ...         ...              ...                              ...   \n25550  23:55:00  2020-03-01            -9999                           IndiGo   \n25551  23:58:00  2020-03-01    Colombo (CMB)                        Air India   \n25552  23:59:00  2020-03-01  Ahmedabad (AMD)                         SpiceJet   \n25553  23:59:00  2020-03-01  Ahmedabad (AMD)                         SpiceJet   \n25554  23:59:00  2020-03-01            -9999                         SpiceJet   \n\n                  Status type      Destination  \n0        Landed 12:48 AM    A            -9999  \n1        Landed 12:23 AM    A            -9999  \n2      Departed 12:30 AM    D      Delhi (DEL)  \n3      Departed 12:55 AM    D      Delhi (DEL)  \n4      Departed 12:50 AM    D    Bangkok (BKK)  \n...                  ...  ...              ...  \n25550              -9999    D    Chennai (MAA)  \n25551              -9999    A            -9999  \n25552    Landed 11:49 PM    A            -9999  \n25553              -9999    A            -9999  \n25554              -9999    D  Ahmedabad (AMD)  \n\n[25555 rows x 7 columns]"
     },
     "execution_count": 10,
     "metadata": {},
     "output_type": "execute_result"
    }
   ],
   "source": [
    "#Handling missing values filling the missing values with global constant(-9999) \n",
    "dataset = pd.read_csv(\"../Datasets/FinalMergedDataset/dataset.csv\")\n",
    "df1 = pd.DataFrame(\n",
    "    dataset[\n",
    "        [\"Time\", \"date\", \"Source\", \"Flight Name\",\n",
    "            \"Status\", \"type\", \"Destination\"]\n",
    "    ]\n",
    ")\n",
    "\n",
    "df1.replace(to_replace=np.nan , value= -9999, inplace=True)\n",
    "df1"
   ]
  },
  {
   "cell_type": "code",
   "execution_count": 11,
   "metadata": {},
   "outputs": [
    {
     "data": {
      "text/html": "<div>\n<style scoped>\n    .dataframe tbody tr th:only-of-type {\n        vertical-align: middle;\n    }\n\n    .dataframe tbody tr th {\n        vertical-align: top;\n    }\n\n    .dataframe thead th {\n        text-align: right;\n    }\n</style>\n<table border=\"1\" class=\"dataframe\">\n  <thead>\n    <tr style=\"text-align: right;\">\n      <th></th>\n      <th>Time</th>\n      <th>date</th>\n      <th>Source</th>\n      <th>Flight Name</th>\n      <th>Status</th>\n      <th>type</th>\n      <th>Destination</th>\n    </tr>\n  </thead>\n  <tbody>\n    <tr>\n      <td>0</td>\n      <td>00:05:00</td>\n      <td>2020-02-02</td>\n      <td>Paris (CDG)</td>\n      <td>Air France</td>\n      <td>Landed</td>\n      <td>A</td>\n      <td>Landed</td>\n    </tr>\n    <tr>\n      <td>1</td>\n      <td>00:05:00</td>\n      <td>2020-02-02</td>\n      <td>Hyderabad (HYD)</td>\n      <td>IndiGo</td>\n      <td>Landed</td>\n      <td>A</td>\n      <td>Landed</td>\n    </tr>\n    <tr>\n      <td>2</td>\n      <td>00:05:00</td>\n      <td>2020-02-02</td>\n      <td>Landed</td>\n      <td>GoAir</td>\n      <td>Departed</td>\n      <td>D</td>\n      <td>Delhi (DEL)</td>\n    </tr>\n    <tr>\n      <td>3</td>\n      <td>00:05:00</td>\n      <td>2020-02-02</td>\n      <td>Landed</td>\n      <td>AirAsia</td>\n      <td>Departed</td>\n      <td>D</td>\n      <td>Delhi (DEL)</td>\n    </tr>\n    <tr>\n      <td>4</td>\n      <td>00:05:00</td>\n      <td>2020-02-02</td>\n      <td>Landed</td>\n      <td>Bangkok Airways (Guilin Livery)</td>\n      <td>Departed</td>\n      <td>D</td>\n      <td>Bangkok (BKK)</td>\n    </tr>\n    <tr>\n      <td>...</td>\n      <td>...</td>\n      <td>...</td>\n      <td>...</td>\n      <td>...</td>\n      <td>...</td>\n      <td>...</td>\n      <td>...</td>\n    </tr>\n    <tr>\n      <td>25550</td>\n      <td>23:55:00</td>\n      <td>2020-03-01</td>\n      <td>Landed</td>\n      <td>IndiGo</td>\n      <td>Landed</td>\n      <td>D</td>\n      <td>Chennai (MAA)</td>\n    </tr>\n    <tr>\n      <td>25551</td>\n      <td>23:58:00</td>\n      <td>2020-03-01</td>\n      <td>Colombo (CMB)</td>\n      <td>Air India</td>\n      <td>Landed</td>\n      <td>A</td>\n      <td>Landed</td>\n    </tr>\n    <tr>\n      <td>25552</td>\n      <td>23:59:00</td>\n      <td>2020-03-01</td>\n      <td>Ahmedabad (AMD)</td>\n      <td>SpiceJet</td>\n      <td>Landed</td>\n      <td>A</td>\n      <td>Landed</td>\n    </tr>\n    <tr>\n      <td>25553</td>\n      <td>23:59:00</td>\n      <td>2020-03-01</td>\n      <td>Ahmedabad (AMD)</td>\n      <td>SpiceJet</td>\n      <td>Landed</td>\n      <td>A</td>\n      <td>Landed</td>\n    </tr>\n    <tr>\n      <td>25554</td>\n      <td>23:59:00</td>\n      <td>2020-03-01</td>\n      <td>Landed</td>\n      <td>SpiceJet</td>\n      <td>Landed</td>\n      <td>D</td>\n      <td>Ahmedabad (AMD)</td>\n    </tr>\n  </tbody>\n</table>\n<p>25555 rows × 7 columns</p>\n</div>",
      "text/plain": "           Time        date           Source                      Flight Name  \\\n0      00:05:00  2020-02-02      Paris (CDG)                       Air France   \n1      00:05:00  2020-02-02  Hyderabad (HYD)                           IndiGo   \n2      00:05:00  2020-02-02           Landed                            GoAir   \n3      00:05:00  2020-02-02           Landed                          AirAsia   \n4      00:05:00  2020-02-02           Landed  Bangkok Airways (Guilin Livery)   \n...         ...         ...              ...                              ...   \n25550  23:55:00  2020-03-01           Landed                           IndiGo   \n25551  23:58:00  2020-03-01    Colombo (CMB)                        Air India   \n25552  23:59:00  2020-03-01  Ahmedabad (AMD)                         SpiceJet   \n25553  23:59:00  2020-03-01  Ahmedabad (AMD)                         SpiceJet   \n25554  23:59:00  2020-03-01           Landed                         SpiceJet   \n\n         Status type      Destination  \n0        Landed    A           Landed  \n1        Landed    A           Landed  \n2      Departed    D      Delhi (DEL)  \n3      Departed    D      Delhi (DEL)  \n4      Departed    D    Bangkok (BKK)  \n...         ...  ...              ...  \n25550    Landed    D    Chennai (MAA)  \n25551    Landed    A           Landed  \n25552    Landed    A           Landed  \n25553    Landed    A           Landed  \n25554    Landed    D  Ahmedabad (AMD)  \n\n[25555 rows x 7 columns]"
     },
     "execution_count": 11,
     "metadata": {},
     "output_type": "execute_result"
    }
   ],
   "source": [
    "#Replacing the missing value with the value that is occuring most number of times\n",
    "dataset = pd.read_csv(\"../Datasets/FinalMergedDataset/dataset.csv\")\n",
    "df2 = pd.DataFrame(\n",
    "    dataset[\n",
    "        [\"Time\", \"date\", \"Source\", \"Flight Name\",\n",
    "            \"Status\", \"type\", \"Destination\"]\n",
    "    ]\n",
    ")\n",
    "def update_status(value):\n",
    "    if value != np.nan and type(value) == type(\"String\"):\n",
    "        value = value.split(\" \")[0]\n",
    "        return value\n",
    "    else:\n",
    "        return np.nan\n",
    "df2[\"Status\"] = df2[\"Status\"].apply(update_status, 1) #Calling the above function and updating the Dataframe\n",
    "x=df2.Status.mode()\n",
    "df2.replace(to_replace=np.nan , value= x[0], inplace=True)\n",
    "df2"
   ]
  },
  {
   "cell_type": "code",
   "execution_count": 12,
   "metadata": {},
   "outputs": [
    {
     "data": {
      "text/html": "<div>\n<style scoped>\n    .dataframe tbody tr th:only-of-type {\n        vertical-align: middle;\n    }\n\n    .dataframe tbody tr th {\n        vertical-align: top;\n    }\n\n    .dataframe thead th {\n        text-align: right;\n    }\n</style>\n<table border=\"1\" class=\"dataframe\">\n  <thead>\n    <tr style=\"text-align: right;\">\n      <th></th>\n      <th>Time</th>\n      <th>date</th>\n      <th>Source</th>\n      <th>Flight Name</th>\n      <th>Status</th>\n      <th>type</th>\n      <th>Destination</th>\n      <th>Actual_Time</th>\n    </tr>\n  </thead>\n  <tbody>\n    <tr>\n      <td>0</td>\n      <td>2020-02-02 00:05:00</td>\n      <td>2020-02-02</td>\n      <td>Paris (CDG)</td>\n      <td>Air France</td>\n      <td>Landed</td>\n      <td>A</td>\n      <td>Mumbai</td>\n      <td>2020-02-02 00:48:00</td>\n    </tr>\n    <tr>\n      <td>1</td>\n      <td>2020-02-02 00:05:00</td>\n      <td>2020-02-02</td>\n      <td>Hyderabad (HYD)</td>\n      <td>IndiGo</td>\n      <td>Landed</td>\n      <td>A</td>\n      <td>Mumbai</td>\n      <td>2020-02-02 00:23:00</td>\n    </tr>\n    <tr>\n      <td>2</td>\n      <td>2020-02-02 00:05:00</td>\n      <td>2020-02-02</td>\n      <td>Mumbai</td>\n      <td>GoAir</td>\n      <td>Departed</td>\n      <td>D</td>\n      <td>Delhi (DEL)</td>\n      <td>2020-02-02 00:30:00</td>\n    </tr>\n    <tr>\n      <td>3</td>\n      <td>2020-02-02 00:05:00</td>\n      <td>2020-02-02</td>\n      <td>Mumbai</td>\n      <td>AirAsia</td>\n      <td>Departed</td>\n      <td>D</td>\n      <td>Delhi (DEL)</td>\n      <td>2020-02-02 00:55:00</td>\n    </tr>\n    <tr>\n      <td>4</td>\n      <td>2020-02-02 00:05:00</td>\n      <td>2020-02-02</td>\n      <td>Mumbai</td>\n      <td>Bangkok Airways (Guilin Livery)</td>\n      <td>Departed</td>\n      <td>D</td>\n      <td>Bangkok (BKK)</td>\n      <td>2020-02-02 00:50:00</td>\n    </tr>\n    <tr>\n      <td>...</td>\n      <td>...</td>\n      <td>...</td>\n      <td>...</td>\n      <td>...</td>\n      <td>...</td>\n      <td>...</td>\n      <td>...</td>\n      <td>...</td>\n    </tr>\n    <tr>\n      <td>25541</td>\n      <td>2020-03-01 23:55:00</td>\n      <td>2020-03-01</td>\n      <td>Munich (MUC)</td>\n      <td>Lufthansa</td>\n      <td>Landed</td>\n      <td>A</td>\n      <td>Mumbai</td>\n      <td>2020-03-01 23:46:00</td>\n    </tr>\n    <tr>\n      <td>25542</td>\n      <td>2020-03-01 23:55:00</td>\n      <td>2020-03-01</td>\n      <td>Kolkata (CCU)</td>\n      <td>Vistara</td>\n      <td>Landed</td>\n      <td>A</td>\n      <td>Mumbai</td>\n      <td>2020-03-02 00:02:00</td>\n    </tr>\n    <tr>\n      <td>25543</td>\n      <td>2020-03-01 23:55:00</td>\n      <td>2020-03-01</td>\n      <td>Chennai (MAA)</td>\n      <td>IndiGo</td>\n      <td>Landed</td>\n      <td>A</td>\n      <td>Mumbai</td>\n      <td>2020-03-01 23:21:00</td>\n    </tr>\n    <tr>\n      <td>25547</td>\n      <td>2020-03-01 23:55:00</td>\n      <td>2020-03-01</td>\n      <td>Mumbai</td>\n      <td>Vistara</td>\n      <td>Departed</td>\n      <td>D</td>\n      <td>Singapore (SIN)</td>\n      <td>2020-03-01 23:59:00</td>\n    </tr>\n    <tr>\n      <td>25552</td>\n      <td>2020-03-01 23:59:00</td>\n      <td>2020-03-01</td>\n      <td>Ahmedabad (AMD)</td>\n      <td>SpiceJet</td>\n      <td>Landed</td>\n      <td>A</td>\n      <td>Mumbai</td>\n      <td>2020-03-01 23:49:00</td>\n    </tr>\n  </tbody>\n</table>\n<p>23970 rows × 8 columns</p>\n</div>",
      "text/plain": "                     Time        date           Source  \\\n0     2020-02-02 00:05:00  2020-02-02      Paris (CDG)   \n1     2020-02-02 00:05:00  2020-02-02  Hyderabad (HYD)   \n2     2020-02-02 00:05:00  2020-02-02           Mumbai   \n3     2020-02-02 00:05:00  2020-02-02           Mumbai   \n4     2020-02-02 00:05:00  2020-02-02           Mumbai   \n...                   ...         ...              ...   \n25541 2020-03-01 23:55:00  2020-03-01     Munich (MUC)   \n25542 2020-03-01 23:55:00  2020-03-01    Kolkata (CCU)   \n25543 2020-03-01 23:55:00  2020-03-01    Chennai (MAA)   \n25547 2020-03-01 23:55:00  2020-03-01           Mumbai   \n25552 2020-03-01 23:59:00  2020-03-01  Ahmedabad (AMD)   \n\n                           Flight Name    Status type      Destination  \\\n0                           Air France    Landed    A           Mumbai   \n1                               IndiGo    Landed    A           Mumbai   \n2                                GoAir  Departed    D      Delhi (DEL)   \n3                              AirAsia  Departed    D      Delhi (DEL)   \n4      Bangkok Airways (Guilin Livery)  Departed    D    Bangkok (BKK)   \n...                                ...       ...  ...              ...   \n25541                        Lufthansa    Landed    A           Mumbai   \n25542                          Vistara    Landed    A           Mumbai   \n25543                           IndiGo    Landed    A           Mumbai   \n25547                          Vistara  Departed    D  Singapore (SIN)   \n25552                         SpiceJet    Landed    A           Mumbai   \n\n              Actual_Time  \n0     2020-02-02 00:48:00  \n1     2020-02-02 00:23:00  \n2     2020-02-02 00:30:00  \n3     2020-02-02 00:55:00  \n4     2020-02-02 00:50:00  \n...                   ...  \n25541 2020-03-01 23:46:00  \n25542 2020-03-02 00:02:00  \n25543 2020-03-01 23:21:00  \n25547 2020-03-01 23:59:00  \n25552 2020-03-01 23:49:00  \n\n[23970 rows x 8 columns]"
     },
     "execution_count": 12,
     "metadata": {},
     "output_type": "execute_result"
    }
   ],
   "source": [
    "#Dropping the missing values within the Dataframe\n",
    "df = df.dropna()\n",
    "df"
   ]
  },
  {
   "cell_type": "code",
   "execution_count": 13,
   "metadata": {},
   "outputs": [
    {
     "data": {
      "text/html": "<div>\n<style scoped>\n    .dataframe tbody tr th:only-of-type {\n        vertical-align: middle;\n    }\n\n    .dataframe tbody tr th {\n        vertical-align: top;\n    }\n\n    .dataframe thead th {\n        text-align: right;\n    }\n</style>\n<table border=\"1\" class=\"dataframe\">\n  <thead>\n    <tr style=\"text-align: right;\">\n      <th></th>\n      <th>Time</th>\n      <th>date</th>\n      <th>Source</th>\n      <th>Flight Name</th>\n      <th>Status</th>\n      <th>type</th>\n      <th>Destination</th>\n      <th>Actual_Time</th>\n    </tr>\n  </thead>\n  <tbody>\n    <tr>\n      <td>0</td>\n      <td>2020-02-02 00:05:00</td>\n      <td>2020-02-02</td>\n      <td>Paris (CDG)</td>\n      <td>Air France</td>\n      <td>0</td>\n      <td>A</td>\n      <td>Mumbai</td>\n      <td>2020-02-02 00:48:00</td>\n    </tr>\n    <tr>\n      <td>1</td>\n      <td>2020-02-02 00:05:00</td>\n      <td>2020-02-02</td>\n      <td>Hyderabad (HYD)</td>\n      <td>IndiGo</td>\n      <td>0</td>\n      <td>A</td>\n      <td>Mumbai</td>\n      <td>2020-02-02 00:23:00</td>\n    </tr>\n    <tr>\n      <td>2</td>\n      <td>2020-02-02 00:05:00</td>\n      <td>2020-02-02</td>\n      <td>Mumbai</td>\n      <td>GoAir</td>\n      <td>1</td>\n      <td>D</td>\n      <td>Delhi (DEL)</td>\n      <td>2020-02-02 00:30:00</td>\n    </tr>\n    <tr>\n      <td>3</td>\n      <td>2020-02-02 00:05:00</td>\n      <td>2020-02-02</td>\n      <td>Mumbai</td>\n      <td>AirAsia</td>\n      <td>1</td>\n      <td>D</td>\n      <td>Delhi (DEL)</td>\n      <td>2020-02-02 00:55:00</td>\n    </tr>\n    <tr>\n      <td>4</td>\n      <td>2020-02-02 00:05:00</td>\n      <td>2020-02-02</td>\n      <td>Mumbai</td>\n      <td>Bangkok Airways (Guilin Livery)</td>\n      <td>1</td>\n      <td>D</td>\n      <td>Bangkok (BKK)</td>\n      <td>2020-02-02 00:50:00</td>\n    </tr>\n    <tr>\n      <td>...</td>\n      <td>...</td>\n      <td>...</td>\n      <td>...</td>\n      <td>...</td>\n      <td>...</td>\n      <td>...</td>\n      <td>...</td>\n      <td>...</td>\n    </tr>\n    <tr>\n      <td>25541</td>\n      <td>2020-03-01 23:55:00</td>\n      <td>2020-03-01</td>\n      <td>Munich (MUC)</td>\n      <td>Lufthansa</td>\n      <td>0</td>\n      <td>A</td>\n      <td>Mumbai</td>\n      <td>2020-03-01 23:46:00</td>\n    </tr>\n    <tr>\n      <td>25542</td>\n      <td>2020-03-01 23:55:00</td>\n      <td>2020-03-01</td>\n      <td>Kolkata (CCU)</td>\n      <td>Vistara</td>\n      <td>0</td>\n      <td>A</td>\n      <td>Mumbai</td>\n      <td>2020-03-02 00:02:00</td>\n    </tr>\n    <tr>\n      <td>25543</td>\n      <td>2020-03-01 23:55:00</td>\n      <td>2020-03-01</td>\n      <td>Chennai (MAA)</td>\n      <td>IndiGo</td>\n      <td>0</td>\n      <td>A</td>\n      <td>Mumbai</td>\n      <td>2020-03-01 23:21:00</td>\n    </tr>\n    <tr>\n      <td>25547</td>\n      <td>2020-03-01 23:55:00</td>\n      <td>2020-03-01</td>\n      <td>Mumbai</td>\n      <td>Vistara</td>\n      <td>1</td>\n      <td>D</td>\n      <td>Singapore (SIN)</td>\n      <td>2020-03-01 23:59:00</td>\n    </tr>\n    <tr>\n      <td>25552</td>\n      <td>2020-03-01 23:59:00</td>\n      <td>2020-03-01</td>\n      <td>Ahmedabad (AMD)</td>\n      <td>SpiceJet</td>\n      <td>0</td>\n      <td>A</td>\n      <td>Mumbai</td>\n      <td>2020-03-01 23:49:00</td>\n    </tr>\n  </tbody>\n</table>\n<p>23970 rows × 8 columns</p>\n</div>",
      "text/plain": "                     Time        date           Source  \\\n0     2020-02-02 00:05:00  2020-02-02      Paris (CDG)   \n1     2020-02-02 00:05:00  2020-02-02  Hyderabad (HYD)   \n2     2020-02-02 00:05:00  2020-02-02           Mumbai   \n3     2020-02-02 00:05:00  2020-02-02           Mumbai   \n4     2020-02-02 00:05:00  2020-02-02           Mumbai   \n...                   ...         ...              ...   \n25541 2020-03-01 23:55:00  2020-03-01     Munich (MUC)   \n25542 2020-03-01 23:55:00  2020-03-01    Kolkata (CCU)   \n25543 2020-03-01 23:55:00  2020-03-01    Chennai (MAA)   \n25547 2020-03-01 23:55:00  2020-03-01           Mumbai   \n25552 2020-03-01 23:59:00  2020-03-01  Ahmedabad (AMD)   \n\n                           Flight Name  Status type      Destination  \\\n0                           Air France       0    A           Mumbai   \n1                               IndiGo       0    A           Mumbai   \n2                                GoAir       1    D      Delhi (DEL)   \n3                              AirAsia       1    D      Delhi (DEL)   \n4      Bangkok Airways (Guilin Livery)       1    D    Bangkok (BKK)   \n...                                ...     ...  ...              ...   \n25541                        Lufthansa       0    A           Mumbai   \n25542                          Vistara       0    A           Mumbai   \n25543                           IndiGo       0    A           Mumbai   \n25547                          Vistara       1    D  Singapore (SIN)   \n25552                         SpiceJet       0    A           Mumbai   \n\n              Actual_Time  \n0     2020-02-02 00:48:00  \n1     2020-02-02 00:23:00  \n2     2020-02-02 00:30:00  \n3     2020-02-02 00:55:00  \n4     2020-02-02 00:50:00  \n...                   ...  \n25541 2020-03-01 23:46:00  \n25542 2020-03-02 00:02:00  \n25543 2020-03-01 23:21:00  \n25547 2020-03-01 23:59:00  \n25552 2020-03-01 23:49:00  \n\n[23970 rows x 8 columns]"
     },
     "execution_count": 13,
     "metadata": {},
     "output_type": "execute_result"
    }
   ],
   "source": [
    "#Converting the Nominal Data To Numeric\n",
    "map_dict = {\n",
    "    \"Landed\": 0,\n",
    "    \"Departed\": 1,\n",
    "    \"Unknown\": 2,\n",
    "    \"Diverted\": 3,\n",
    "    \"Canceled\": 4,\n",
    "    \"Estimated\": -1,\n",
    "}\n",
    "df[\"Status\"] = df.Status.replace(map_dict) #replacing the Status with numeric data\n",
    "df[\"Status\"] = df[\"Status\"].astype(int) #Converting it to int datatype\n",
    "\n",
    "df #Printing the Updated Dataframe"
   ]
  },
  {
   "cell_type": "code",
   "execution_count": 14,
   "metadata": {},
   "outputs": [
    {
     "data": {
      "text/html": "<div>\n<style scoped>\n    .dataframe tbody tr th:only-of-type {\n        vertical-align: middle;\n    }\n\n    .dataframe tbody tr th {\n        vertical-align: top;\n    }\n\n    .dataframe thead th {\n        text-align: right;\n    }\n</style>\n<table border=\"1\" class=\"dataframe\">\n  <thead>\n    <tr style=\"text-align: right;\">\n      <th></th>\n      <th>Time</th>\n      <th>date</th>\n      <th>Source</th>\n      <th>Flight Name</th>\n      <th>Status</th>\n      <th>type</th>\n      <th>Destination</th>\n      <th>Actual_Time</th>\n      <th>Delay</th>\n    </tr>\n  </thead>\n  <tbody>\n    <tr>\n      <td>0</td>\n      <td>2020-02-02 00:05:00</td>\n      <td>2020-02-02</td>\n      <td>Paris (CDG)</td>\n      <td>Air France</td>\n      <td>0</td>\n      <td>A</td>\n      <td>Mumbai</td>\n      <td>2020-02-02 00:48:00</td>\n      <td>43.0</td>\n    </tr>\n    <tr>\n      <td>1</td>\n      <td>2020-02-02 00:05:00</td>\n      <td>2020-02-02</td>\n      <td>Hyderabad (HYD)</td>\n      <td>IndiGo</td>\n      <td>0</td>\n      <td>A</td>\n      <td>Mumbai</td>\n      <td>2020-02-02 00:23:00</td>\n      <td>18.0</td>\n    </tr>\n    <tr>\n      <td>2</td>\n      <td>2020-02-02 00:05:00</td>\n      <td>2020-02-02</td>\n      <td>Mumbai</td>\n      <td>GoAir</td>\n      <td>1</td>\n      <td>D</td>\n      <td>Delhi (DEL)</td>\n      <td>2020-02-02 00:30:00</td>\n      <td>25.0</td>\n    </tr>\n    <tr>\n      <td>3</td>\n      <td>2020-02-02 00:05:00</td>\n      <td>2020-02-02</td>\n      <td>Mumbai</td>\n      <td>AirAsia</td>\n      <td>1</td>\n      <td>D</td>\n      <td>Delhi (DEL)</td>\n      <td>2020-02-02 00:55:00</td>\n      <td>50.0</td>\n    </tr>\n    <tr>\n      <td>4</td>\n      <td>2020-02-02 00:05:00</td>\n      <td>2020-02-02</td>\n      <td>Mumbai</td>\n      <td>Bangkok Airways (Guilin Livery)</td>\n      <td>1</td>\n      <td>D</td>\n      <td>Bangkok (BKK)</td>\n      <td>2020-02-02 00:50:00</td>\n      <td>45.0</td>\n    </tr>\n    <tr>\n      <td>...</td>\n      <td>...</td>\n      <td>...</td>\n      <td>...</td>\n      <td>...</td>\n      <td>...</td>\n      <td>...</td>\n      <td>...</td>\n      <td>...</td>\n      <td>...</td>\n    </tr>\n    <tr>\n      <td>25541</td>\n      <td>2020-03-01 23:55:00</td>\n      <td>2020-03-01</td>\n      <td>Munich (MUC)</td>\n      <td>Lufthansa</td>\n      <td>0</td>\n      <td>A</td>\n      <td>Mumbai</td>\n      <td>2020-03-01 23:46:00</td>\n      <td>9.0</td>\n    </tr>\n    <tr>\n      <td>25542</td>\n      <td>2020-03-01 23:55:00</td>\n      <td>2020-03-01</td>\n      <td>Kolkata (CCU)</td>\n      <td>Vistara</td>\n      <td>0</td>\n      <td>A</td>\n      <td>Mumbai</td>\n      <td>2020-03-02 00:02:00</td>\n      <td>7.0</td>\n    </tr>\n    <tr>\n      <td>25543</td>\n      <td>2020-03-01 23:55:00</td>\n      <td>2020-03-01</td>\n      <td>Chennai (MAA)</td>\n      <td>IndiGo</td>\n      <td>0</td>\n      <td>A</td>\n      <td>Mumbai</td>\n      <td>2020-03-01 23:21:00</td>\n      <td>34.0</td>\n    </tr>\n    <tr>\n      <td>25547</td>\n      <td>2020-03-01 23:55:00</td>\n      <td>2020-03-01</td>\n      <td>Mumbai</td>\n      <td>Vistara</td>\n      <td>1</td>\n      <td>D</td>\n      <td>Singapore (SIN)</td>\n      <td>2020-03-01 23:59:00</td>\n      <td>4.0</td>\n    </tr>\n    <tr>\n      <td>25552</td>\n      <td>2020-03-01 23:59:00</td>\n      <td>2020-03-01</td>\n      <td>Ahmedabad (AMD)</td>\n      <td>SpiceJet</td>\n      <td>0</td>\n      <td>A</td>\n      <td>Mumbai</td>\n      <td>2020-03-01 23:49:00</td>\n      <td>10.0</td>\n    </tr>\n  </tbody>\n</table>\n<p>23970 rows × 9 columns</p>\n</div>",
      "text/plain": "                     Time        date           Source  \\\n0     2020-02-02 00:05:00  2020-02-02      Paris (CDG)   \n1     2020-02-02 00:05:00  2020-02-02  Hyderabad (HYD)   \n2     2020-02-02 00:05:00  2020-02-02           Mumbai   \n3     2020-02-02 00:05:00  2020-02-02           Mumbai   \n4     2020-02-02 00:05:00  2020-02-02           Mumbai   \n...                   ...         ...              ...   \n25541 2020-03-01 23:55:00  2020-03-01     Munich (MUC)   \n25542 2020-03-01 23:55:00  2020-03-01    Kolkata (CCU)   \n25543 2020-03-01 23:55:00  2020-03-01    Chennai (MAA)   \n25547 2020-03-01 23:55:00  2020-03-01           Mumbai   \n25552 2020-03-01 23:59:00  2020-03-01  Ahmedabad (AMD)   \n\n                           Flight Name  Status type      Destination  \\\n0                           Air France       0    A           Mumbai   \n1                               IndiGo       0    A           Mumbai   \n2                                GoAir       1    D      Delhi (DEL)   \n3                              AirAsia       1    D      Delhi (DEL)   \n4      Bangkok Airways (Guilin Livery)       1    D    Bangkok (BKK)   \n...                                ...     ...  ...              ...   \n25541                        Lufthansa       0    A           Mumbai   \n25542                          Vistara       0    A           Mumbai   \n25543                           IndiGo       0    A           Mumbai   \n25547                          Vistara       1    D  Singapore (SIN)   \n25552                         SpiceJet       0    A           Mumbai   \n\n              Actual_Time  Delay  \n0     2020-02-02 00:48:00   43.0  \n1     2020-02-02 00:23:00   18.0  \n2     2020-02-02 00:30:00   25.0  \n3     2020-02-02 00:55:00   50.0  \n4     2020-02-02 00:50:00   45.0  \n...                   ...    ...  \n25541 2020-03-01 23:46:00    9.0  \n25542 2020-03-02 00:02:00    7.0  \n25543 2020-03-01 23:21:00   34.0  \n25547 2020-03-01 23:59:00    4.0  \n25552 2020-03-01 23:49:00   10.0  \n\n[23970 rows x 9 columns]"
     },
     "execution_count": 14,
     "metadata": {},
     "output_type": "execute_result"
    }
   ],
   "source": [
    "#Function to compute the Delay of the flights and update it\n",
    "def add_delay(value):\n",
    "    time = pd.to_datetime(value[\"Time\"], format=\"%Y-%m-%d %H:%M:%S\")\n",
    "    actual_time = pd.to_datetime(\n",
    "        value[\"Actual_Time\"], format=\"%Y-%m-%d %H:%M:%S\")\n",
    "    if pd.isnull(actual_time):\n",
    "        return 0.0\n",
    "    else:\n",
    "        return pd.Timedelta(abs(time - actual_time)).seconds / 60\n",
    "df[\"Delay\"] = df[[\"Time\", \"Actual_Time\"]].apply(add_delay, 1)\n",
    "df"
   ]
  },
  {
   "cell_type": "code",
   "execution_count": 15,
   "metadata": {},
   "outputs": [
    {
     "data": {
      "text/html": "<div>\n<style scoped>\n    .dataframe tbody tr th:only-of-type {\n        vertical-align: middle;\n    }\n\n    .dataframe tbody tr th {\n        vertical-align: top;\n    }\n\n    .dataframe thead th {\n        text-align: right;\n    }\n</style>\n<table border=\"1\" class=\"dataframe\">\n  <thead>\n    <tr style=\"text-align: right;\">\n      <th></th>\n      <th>Source</th>\n      <th>Destination</th>\n      <th>Flight Name</th>\n      <th>type</th>\n      <th>Status</th>\n      <th>Time</th>\n      <th>Actual_Time</th>\n      <th>Delay</th>\n    </tr>\n  </thead>\n  <tbody>\n    <tr>\n      <td>0</td>\n      <td>Paris (CDG)</td>\n      <td>Mumbai</td>\n      <td>Air France</td>\n      <td>A</td>\n      <td>0</td>\n      <td>2020-02-02 00:05:00</td>\n      <td>2020-02-02 00:48:00</td>\n      <td>43.0</td>\n    </tr>\n    <tr>\n      <td>1</td>\n      <td>Hyderabad (HYD)</td>\n      <td>Mumbai</td>\n      <td>IndiGo</td>\n      <td>A</td>\n      <td>0</td>\n      <td>2020-02-02 00:05:00</td>\n      <td>2020-02-02 00:23:00</td>\n      <td>18.0</td>\n    </tr>\n    <tr>\n      <td>2</td>\n      <td>Mumbai</td>\n      <td>Delhi (DEL)</td>\n      <td>GoAir</td>\n      <td>D</td>\n      <td>1</td>\n      <td>2020-02-02 00:05:00</td>\n      <td>2020-02-02 00:30:00</td>\n      <td>25.0</td>\n    </tr>\n    <tr>\n      <td>3</td>\n      <td>Mumbai</td>\n      <td>Delhi (DEL)</td>\n      <td>AirAsia</td>\n      <td>D</td>\n      <td>1</td>\n      <td>2020-02-02 00:05:00</td>\n      <td>2020-02-02 00:55:00</td>\n      <td>50.0</td>\n    </tr>\n    <tr>\n      <td>4</td>\n      <td>Mumbai</td>\n      <td>Bangkok (BKK)</td>\n      <td>Bangkok Airways (Guilin Livery)</td>\n      <td>D</td>\n      <td>1</td>\n      <td>2020-02-02 00:05:00</td>\n      <td>2020-02-02 00:50:00</td>\n      <td>45.0</td>\n    </tr>\n    <tr>\n      <td>...</td>\n      <td>...</td>\n      <td>...</td>\n      <td>...</td>\n      <td>...</td>\n      <td>...</td>\n      <td>...</td>\n      <td>...</td>\n      <td>...</td>\n    </tr>\n    <tr>\n      <td>25541</td>\n      <td>Munich (MUC)</td>\n      <td>Mumbai</td>\n      <td>Lufthansa</td>\n      <td>A</td>\n      <td>0</td>\n      <td>2020-03-01 23:55:00</td>\n      <td>2020-03-01 23:46:00</td>\n      <td>9.0</td>\n    </tr>\n    <tr>\n      <td>25542</td>\n      <td>Kolkata (CCU)</td>\n      <td>Mumbai</td>\n      <td>Vistara</td>\n      <td>A</td>\n      <td>0</td>\n      <td>2020-03-01 23:55:00</td>\n      <td>2020-03-02 00:02:00</td>\n      <td>7.0</td>\n    </tr>\n    <tr>\n      <td>25543</td>\n      <td>Chennai (MAA)</td>\n      <td>Mumbai</td>\n      <td>IndiGo</td>\n      <td>A</td>\n      <td>0</td>\n      <td>2020-03-01 23:55:00</td>\n      <td>2020-03-01 23:21:00</td>\n      <td>34.0</td>\n    </tr>\n    <tr>\n      <td>25547</td>\n      <td>Mumbai</td>\n      <td>Singapore (SIN)</td>\n      <td>Vistara</td>\n      <td>D</td>\n      <td>1</td>\n      <td>2020-03-01 23:55:00</td>\n      <td>2020-03-01 23:59:00</td>\n      <td>4.0</td>\n    </tr>\n    <tr>\n      <td>25552</td>\n      <td>Ahmedabad (AMD)</td>\n      <td>Mumbai</td>\n      <td>SpiceJet</td>\n      <td>A</td>\n      <td>0</td>\n      <td>2020-03-01 23:59:00</td>\n      <td>2020-03-01 23:49:00</td>\n      <td>10.0</td>\n    </tr>\n  </tbody>\n</table>\n<p>23970 rows × 8 columns</p>\n</div>",
      "text/plain": "                Source      Destination                      Flight Name type  \\\n0          Paris (CDG)           Mumbai                       Air France    A   \n1      Hyderabad (HYD)           Mumbai                           IndiGo    A   \n2               Mumbai      Delhi (DEL)                            GoAir    D   \n3               Mumbai      Delhi (DEL)                          AirAsia    D   \n4               Mumbai    Bangkok (BKK)  Bangkok Airways (Guilin Livery)    D   \n...                ...              ...                              ...  ...   \n25541     Munich (MUC)           Mumbai                        Lufthansa    A   \n25542    Kolkata (CCU)           Mumbai                          Vistara    A   \n25543    Chennai (MAA)           Mumbai                           IndiGo    A   \n25547           Mumbai  Singapore (SIN)                          Vistara    D   \n25552  Ahmedabad (AMD)           Mumbai                         SpiceJet    A   \n\n       Status                Time         Actual_Time  Delay  \n0           0 2020-02-02 00:05:00 2020-02-02 00:48:00   43.0  \n1           0 2020-02-02 00:05:00 2020-02-02 00:23:00   18.0  \n2           1 2020-02-02 00:05:00 2020-02-02 00:30:00   25.0  \n3           1 2020-02-02 00:05:00 2020-02-02 00:55:00   50.0  \n4           1 2020-02-02 00:05:00 2020-02-02 00:50:00   45.0  \n...       ...                 ...                 ...    ...  \n25541       0 2020-03-01 23:55:00 2020-03-01 23:46:00    9.0  \n25542       0 2020-03-01 23:55:00 2020-03-02 00:02:00    7.0  \n25543       0 2020-03-01 23:55:00 2020-03-01 23:21:00   34.0  \n25547       1 2020-03-01 23:55:00 2020-03-01 23:59:00    4.0  \n25552       0 2020-03-01 23:59:00 2020-03-01 23:49:00   10.0  \n\n[23970 rows x 8 columns]"
     },
     "execution_count": 15,
     "metadata": {},
     "output_type": "execute_result"
    }
   ],
   "source": [
    "#Printing the clean Dataframe\n",
    "cleaned_df = pd.DataFrame(\n",
    "    df[\n",
    "        [\n",
    "            \"Source\",\n",
    "            \"Destination\",\n",
    "            \"Flight Name\",\n",
    "            \"type\",\n",
    "            \"Status\",\n",
    "            \"Time\",\n",
    "            \"Actual_Time\",\n",
    "            \"Delay\",\n",
    "        ]\n",
    "    ]\n",
    ")\n",
    "with open(\"../Datasets/FinalMergedDataset/cleaned_dataset.csv\", \"w\") as f:\n",
    "        cleaned_df.to_csv(path_or_buf=f, index=False)\n",
    "cleaned_df\n"
   ]
  }
 ]
}