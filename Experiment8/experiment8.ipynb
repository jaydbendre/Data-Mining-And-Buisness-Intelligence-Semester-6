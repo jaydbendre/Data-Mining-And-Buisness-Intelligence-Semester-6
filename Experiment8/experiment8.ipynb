{
 "cells": [
  {
   "cell_type": "code",
   "execution_count": 1,
   "metadata": {},
   "outputs": [],
   "source": [
    "import pandas as pd\n",
    "import numpy as np\n",
    "from sklearn.preprocessing import LabelEncoder"
   ]
  },
  {
   "cell_type": "code",
   "execution_count": 2,
   "metadata": {},
   "outputs": [
    {
     "data": {
      "text/html": [
       "<div>\n",
       "<style scoped>\n",
       "    .dataframe tbody tr th:only-of-type {\n",
       "        vertical-align: middle;\n",
       "    }\n",
       "\n",
       "    .dataframe tbody tr th {\n",
       "        vertical-align: top;\n",
       "    }\n",
       "\n",
       "    .dataframe thead th {\n",
       "        text-align: right;\n",
       "    }\n",
       "</style>\n",
       "<table border=\"1\" class=\"dataframe\">\n",
       "  <thead>\n",
       "    <tr style=\"text-align: right;\">\n",
       "      <th></th>\n",
       "      <th>Source</th>\n",
       "      <th>Destination</th>\n",
       "      <th>Flight Name</th>\n",
       "      <th>type</th>\n",
       "      <th>Status</th>\n",
       "      <th>Time</th>\n",
       "      <th>Actual_Time</th>\n",
       "      <th>Delay</th>\n",
       "    </tr>\n",
       "  </thead>\n",
       "  <tbody>\n",
       "    <tr>\n",
       "      <td>0</td>\n",
       "      <td>Paris (CDG)</td>\n",
       "      <td>Mumbai</td>\n",
       "      <td>Air France</td>\n",
       "      <td>A</td>\n",
       "      <td>0</td>\n",
       "      <td>2020-02-02 00:05:00</td>\n",
       "      <td>2020-02-02 00:48:00</td>\n",
       "      <td>43.0</td>\n",
       "    </tr>\n",
       "    <tr>\n",
       "      <td>1</td>\n",
       "      <td>Hyderabad (HYD)</td>\n",
       "      <td>Mumbai</td>\n",
       "      <td>IndiGo</td>\n",
       "      <td>A</td>\n",
       "      <td>0</td>\n",
       "      <td>2020-02-02 00:05:00</td>\n",
       "      <td>2020-02-02 00:23:00</td>\n",
       "      <td>18.0</td>\n",
       "    </tr>\n",
       "    <tr>\n",
       "      <td>2</td>\n",
       "      <td>Mumbai</td>\n",
       "      <td>Delhi (DEL)</td>\n",
       "      <td>GoAir</td>\n",
       "      <td>D</td>\n",
       "      <td>1</td>\n",
       "      <td>2020-02-02 00:05:00</td>\n",
       "      <td>2020-02-02 00:30:00</td>\n",
       "      <td>25.0</td>\n",
       "    </tr>\n",
       "    <tr>\n",
       "      <td>3</td>\n",
       "      <td>Mumbai</td>\n",
       "      <td>Delhi (DEL)</td>\n",
       "      <td>AirAsia</td>\n",
       "      <td>D</td>\n",
       "      <td>1</td>\n",
       "      <td>2020-02-02 00:05:00</td>\n",
       "      <td>2020-02-02 00:55:00</td>\n",
       "      <td>50.0</td>\n",
       "    </tr>\n",
       "    <tr>\n",
       "      <td>4</td>\n",
       "      <td>Mumbai</td>\n",
       "      <td>Bangkok (BKK)</td>\n",
       "      <td>Bangkok Airways (Guilin Livery)</td>\n",
       "      <td>D</td>\n",
       "      <td>1</td>\n",
       "      <td>2020-02-02 00:05:00</td>\n",
       "      <td>2020-02-02 00:50:00</td>\n",
       "      <td>45.0</td>\n",
       "    </tr>\n",
       "  </tbody>\n",
       "</table>\n",
       "</div>"
      ],
      "text/plain": [
       "            Source    Destination                      Flight Name type  \\\n",
       "0      Paris (CDG)         Mumbai                       Air France    A   \n",
       "1  Hyderabad (HYD)         Mumbai                           IndiGo    A   \n",
       "2           Mumbai    Delhi (DEL)                            GoAir    D   \n",
       "3           Mumbai    Delhi (DEL)                          AirAsia    D   \n",
       "4           Mumbai  Bangkok (BKK)  Bangkok Airways (Guilin Livery)    D   \n",
       "\n",
       "   Status                 Time          Actual_Time  Delay  \n",
       "0       0  2020-02-02 00:05:00  2020-02-02 00:48:00   43.0  \n",
       "1       0  2020-02-02 00:05:00  2020-02-02 00:23:00   18.0  \n",
       "2       1  2020-02-02 00:05:00  2020-02-02 00:30:00   25.0  \n",
       "3       1  2020-02-02 00:05:00  2020-02-02 00:55:00   50.0  \n",
       "4       1  2020-02-02 00:05:00  2020-02-02 00:50:00   45.0  "
      ]
     },
     "execution_count": 2,
     "metadata": {},
     "output_type": "execute_result"
    }
   ],
   "source": [
    "df = pd.DataFrame(\n",
    "    pd.read_csv(\n",
    "        \"../Datasets/FinalMergedDataset/cleaned_dataset.csv\"\n",
    "    )\n",
    ")\n",
    "df.head()"
   ]
  },
  {
   "cell_type": "code",
   "execution_count": 3,
   "metadata": {},
   "outputs": [
    {
     "name": "stderr",
     "output_type": "stream",
     "text": [
      "C:\\Users\\2017j\\Anaconda3\\lib\\site-packages\\pandas\\util\\_decorators.py:208: FutureWarning: Passing datetime64-dtype data to TimedeltaIndex is deprecated, will raise a TypeError in a future version\n",
      "  return func(*args, **kwargs)\n"
     ]
    },
    {
     "data": {
      "text/html": [
       "<div>\n",
       "<style scoped>\n",
       "    .dataframe tbody tr th:only-of-type {\n",
       "        vertical-align: middle;\n",
       "    }\n",
       "\n",
       "    .dataframe tbody tr th {\n",
       "        vertical-align: top;\n",
       "    }\n",
       "\n",
       "    .dataframe thead th {\n",
       "        text-align: right;\n",
       "    }\n",
       "</style>\n",
       "<table border=\"1\" class=\"dataframe\">\n",
       "  <thead>\n",
       "    <tr style=\"text-align: right;\">\n",
       "      <th></th>\n",
       "      <th>Source</th>\n",
       "      <th>Destination</th>\n",
       "      <th>Flight Name</th>\n",
       "      <th>type</th>\n",
       "      <th>Status</th>\n",
       "      <th>Time</th>\n",
       "      <th>Actual_Time</th>\n",
       "      <th>Delay</th>\n",
       "    </tr>\n",
       "  </thead>\n",
       "  <tbody>\n",
       "    <tr>\n",
       "      <td>0</td>\n",
       "      <td>77</td>\n",
       "      <td>66</td>\n",
       "      <td>4</td>\n",
       "      <td>0</td>\n",
       "      <td>0</td>\n",
       "      <td>1.580602e+09</td>\n",
       "      <td>1.580604e+09</td>\n",
       "      <td>43.0</td>\n",
       "    </tr>\n",
       "    <tr>\n",
       "      <td>1</td>\n",
       "      <td>40</td>\n",
       "      <td>66</td>\n",
       "      <td>68</td>\n",
       "      <td>0</td>\n",
       "      <td>0</td>\n",
       "      <td>1.580602e+09</td>\n",
       "      <td>1.580603e+09</td>\n",
       "      <td>18.0</td>\n",
       "    </tr>\n",
       "    <tr>\n",
       "      <td>2</td>\n",
       "      <td>68</td>\n",
       "      <td>27</td>\n",
       "      <td>65</td>\n",
       "      <td>1</td>\n",
       "      <td>1</td>\n",
       "      <td>1.580602e+09</td>\n",
       "      <td>1.580603e+09</td>\n",
       "      <td>25.0</td>\n",
       "    </tr>\n",
       "    <tr>\n",
       "      <td>3</td>\n",
       "      <td>68</td>\n",
       "      <td>27</td>\n",
       "      <td>26</td>\n",
       "      <td>1</td>\n",
       "      <td>1</td>\n",
       "      <td>1.580602e+09</td>\n",
       "      <td>1.580605e+09</td>\n",
       "      <td>50.0</td>\n",
       "    </tr>\n",
       "    <tr>\n",
       "      <td>4</td>\n",
       "      <td>68</td>\n",
       "      <td>10</td>\n",
       "      <td>34</td>\n",
       "      <td>1</td>\n",
       "      <td>1</td>\n",
       "      <td>1.580602e+09</td>\n",
       "      <td>1.580605e+09</td>\n",
       "      <td>45.0</td>\n",
       "    </tr>\n",
       "  </tbody>\n",
       "</table>\n",
       "</div>"
      ],
      "text/plain": [
       "   Source  Destination  Flight Name  type  Status          Time   Actual_Time  \\\n",
       "0      77           66            4     0       0  1.580602e+09  1.580604e+09   \n",
       "1      40           66           68     0       0  1.580602e+09  1.580603e+09   \n",
       "2      68           27           65     1       1  1.580602e+09  1.580603e+09   \n",
       "3      68           27           26     1       1  1.580602e+09  1.580605e+09   \n",
       "4      68           10           34     1       1  1.580602e+09  1.580605e+09   \n",
       "\n",
       "   Delay  \n",
       "0   43.0  \n",
       "1   18.0  \n",
       "2   25.0  \n",
       "3   50.0  \n",
       "4   45.0  "
      ]
     },
     "execution_count": 3,
     "metadata": {},
     "output_type": "execute_result"
    }
   ],
   "source": [
    "import datetime as dt\n",
    "df[\"Source\"] = LabelEncoder().fit_transform(df[\"Source\"])\n",
    "df[\"Destination\"] = LabelEncoder().fit_transform(df[\"Destination\"])\n",
    "df[\"Flight Name\"] = LabelEncoder().fit_transform(df[\"Flight Name\"])\n",
    "df[\"type\"] = LabelEncoder().fit_transform(df[\"type\"])\n",
    "df[\"Time\"] = pd.to_timedelta(pd.to_datetime(df[\"Time\"])).dt.total_seconds()\n",
    "df[\"Actual_Time\"] = pd.to_timedelta(pd.to_datetime(df[\"Actual_Time\"])).dt.total_seconds()\n",
    "\n",
    "df.head()"
   ]
  },
  {
   "cell_type": "code",
   "execution_count": 4,
   "metadata": {},
   "outputs": [],
   "source": [
    "\n",
    "k=3\n",
    "centroids = {\n",
    "    i+1 : [np.random.randint(0,100) , np.random.randint(0,100)]\n",
    "    for i in range(k)\n",
    "}"
   ]
  },
  {
   "cell_type": "code",
   "execution_count": 5,
   "metadata": {},
   "outputs": [
    {
     "data": {
      "text/plain": [
       "<Figure size 640x480 with 1 Axes>"
      ]
     },
     "metadata": {},
     "output_type": "display_data"
    }
   ],
   "source": [
    "import matplotlib.pyplot as plt \n",
    "\n",
    "x = df[\"Destination\"]\n",
    "y= df[\"Delay\"]\n",
    "colmap = {\n",
    "    1 : 'r',\n",
    "    2 : 'g',\n",
    "    3 : 'b'\n",
    "}\n",
    "\n",
    "plt.scatter(x,y,color = \"k\")\n",
    "for i in centroids.keys():\n",
    "    plt.scatter(*centroids[i] , color = colmap[i])\n",
    "plt.show()"
   ]
  },
  {
   "cell_type": "code",
   "execution_count": 6,
   "metadata": {},
   "outputs": [],
   "source": [
    "def assignment(df,centroids):\n",
    "    for i in centroids.keys():\n",
    "        df[\"distance_from_{}\".format(i)] = (\n",
    "            np.sqrt(\n",
    "                (x - centroids[i][0]) **2\n",
    "                +\n",
    "                (y - centroids[i][1]) **2\n",
    "            )\n",
    "        )\n",
    "        \n",
    "        centroid_distance_cols = [\"distance_from_{}\".format(i) for i in centroids.keys()]\n",
    "\n",
    "        df[\"closest\"] = df.loc[: , centroid_distance_cols].idxmin(axis = 1)\n",
    "        df[\"closest\"] = df[\"closest\"].map(\n",
    "            lambda x: int(x.lstrip(\"distance_from_\"))\n",
    "        )\n",
    "        df[\"color\"] = df[\"closest\"].map(lambda x: colmap[x])\n",
    "    return df        \n",
    "def update(k):\n",
    "    for i in centroids.keys():\n",
    "        centroids[i][0] = np.mean(df[df[\"closest\"] == i][\"Destination\"])\n",
    "        centroids[i][1] = np.mean(df[df[\"closest\"] == i][\"Delay\"])\n",
    "    return k"
   ]
  },
  {
   "cell_type": "code",
   "execution_count": 7,
   "metadata": {},
   "outputs": [
    {
     "name": "stderr",
     "output_type": "stream",
     "text": [
      "C:\\Users\\2017j\\Anaconda3\\lib\\site-packages\\pandas\\core\\indexing.py:1418: FutureWarning: \n",
      "Passing list-likes to .loc or [] with any missing label will raise\n",
      "KeyError in the future, you can use .reindex() as an alternative.\n",
      "\n",
      "See the documentation here:\n",
      "https://pandas.pydata.org/pandas-docs/stable/user_guide/indexing.html#deprecate-loc-reindex-listlike\n",
      "  return self._getitem_tuple(key)\n"
     ]
    },
    {
     "data": {
      "image/png": "[encoded data removed]",
      "text/plain": [
       "<Figure size 432x288 with 1 Axes>"
      ]
     },
     "metadata": {
      "needs_background": "light"
     },
     "output_type": "display_data"
    }
   ],
   "source": [
    "df = assignment(df,centroids)\n",
    "while True:\n",
    "    closest_centroids = df[\"closest\"].copy(deep=True)\n",
    "    centroids = update(centroids)\n",
    "    df = assignment(df,centroids)\n",
    "    if closest_centroids.equals(df[\"closest\"]):\n",
    "        break\n",
    "\n",
    "plt.scatter(df[\"Destination\"],df[\"Delay\"],color = df[\"color\"],alpha=0.5)\n",
    "\n",
    "for i in centroids.keys():\n",
    "    plt.scatter(*centroids[i] , color=colmap[i])\n",
    "plt.show()"
   ]
  },
  {
   "cell_type": "code",
   "execution_count": null,
   "metadata": {},
   "outputs": [],
   "source": []
  }
 ],
 "metadata": {
  "file_extension": ".py",
  "kernelspec": {
   "display_name": "Python 3",
   "language": "python",
   "name": "python3"
  },
  "language_info": {
   "codemirror_mode": {
    "name": "ipython",
    "version": 3
   },
   "file_extension": ".py",
   "mimetype": "text/x-python",
   "name": "python",
   "nbconvert_exporter": "python",
   "pygments_lexer": "ipython3",
   "version": "3.7.4"
  },
  "mimetype": "text/x-python",
  "name": "python",
  "npconvert_exporter": "python",
  "pygments_lexer": "ipython3",
  "version": 3
 },
 "nbformat": 4,
 "nbformat_minor": 2
}
