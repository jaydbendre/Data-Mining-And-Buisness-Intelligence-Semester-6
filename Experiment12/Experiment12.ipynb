{
 "cells": [
  {
   "cell_type": "code",
   "execution_count": 1,
   "metadata": {},
   "outputs": [],
   "source": [
    "import pandas as pd\n",
    "import numpy as np\n",
    "from mlxtend.frequent_patterns import apriori,association_rules"
   ]
  },
  {
   "cell_type": "code",
   "execution_count": 2,
   "metadata": {},
   "outputs": [
    {
     "data": {
      "text/html": [
       "<div>\n",
       "<style scoped>\n",
       "    .dataframe tbody tr th:only-of-type {\n",
       "        vertical-align: middle;\n",
       "    }\n",
       "\n",
       "    .dataframe tbody tr th {\n",
       "        vertical-align: top;\n",
       "    }\n",
       "\n",
       "    .dataframe thead th {\n",
       "        text-align: right;\n",
       "    }\n",
       "</style>\n",
       "<table border=\"1\" class=\"dataframe\">\n",
       "  <thead>\n",
       "    <tr style=\"text-align: right;\">\n",
       "      <th></th>\n",
       "      <th>InvoiceNo</th>\n",
       "      <th>StockCode</th>\n",
       "      <th>Description</th>\n",
       "      <th>Quantity</th>\n",
       "      <th>InvoiceDate</th>\n",
       "      <th>UnitPrice</th>\n",
       "      <th>CustomerID</th>\n",
       "      <th>Country</th>\n",
       "    </tr>\n",
       "  </thead>\n",
       "  <tbody>\n",
       "    <tr>\n",
       "      <td>0</td>\n",
       "      <td>536365</td>\n",
       "      <td>85123A</td>\n",
       "      <td>WHITE HANGING HEART T-LIGHT HOLDER</td>\n",
       "      <td>6</td>\n",
       "      <td>01-12-2010 08:26</td>\n",
       "      <td>2.55</td>\n",
       "      <td>17850.0</td>\n",
       "      <td>United Kingdom</td>\n",
       "    </tr>\n",
       "    <tr>\n",
       "      <td>1</td>\n",
       "      <td>536365</td>\n",
       "      <td>71053</td>\n",
       "      <td>WHITE METAL LANTERN</td>\n",
       "      <td>6</td>\n",
       "      <td>01-12-2010 08:26</td>\n",
       "      <td>3.39</td>\n",
       "      <td>17850.0</td>\n",
       "      <td>United Kingdom</td>\n",
       "    </tr>\n",
       "    <tr>\n",
       "      <td>2</td>\n",
       "      <td>536365</td>\n",
       "      <td>84406B</td>\n",
       "      <td>CREAM CUPID HEARTS COAT HANGER</td>\n",
       "      <td>8</td>\n",
       "      <td>01-12-2010 08:26</td>\n",
       "      <td>2.75</td>\n",
       "      <td>17850.0</td>\n",
       "      <td>United Kingdom</td>\n",
       "    </tr>\n",
       "    <tr>\n",
       "      <td>3</td>\n",
       "      <td>536365</td>\n",
       "      <td>84029G</td>\n",
       "      <td>KNITTED UNION FLAG HOT WATER BOTTLE</td>\n",
       "      <td>6</td>\n",
       "      <td>01-12-2010 08:26</td>\n",
       "      <td>3.39</td>\n",
       "      <td>17850.0</td>\n",
       "      <td>United Kingdom</td>\n",
       "    </tr>\n",
       "    <tr>\n",
       "      <td>4</td>\n",
       "      <td>536365</td>\n",
       "      <td>84029E</td>\n",
       "      <td>RED WOOLLY HOTTIE WHITE HEART.</td>\n",
       "      <td>6</td>\n",
       "      <td>01-12-2010 08:26</td>\n",
       "      <td>3.39</td>\n",
       "      <td>17850.0</td>\n",
       "      <td>United Kingdom</td>\n",
       "    </tr>\n",
       "  </tbody>\n",
       "</table>\n",
       "</div>"
      ],
      "text/plain": [
       "  InvoiceNo StockCode                          Description  Quantity  \\\n",
       "0    536365    85123A   WHITE HANGING HEART T-LIGHT HOLDER         6   \n",
       "1    536365     71053                  WHITE METAL LANTERN         6   \n",
       "2    536365    84406B       CREAM CUPID HEARTS COAT HANGER         8   \n",
       "3    536365    84029G  KNITTED UNION FLAG HOT WATER BOTTLE         6   \n",
       "4    536365    84029E       RED WOOLLY HOTTIE WHITE HEART.         6   \n",
       "\n",
       "        InvoiceDate  UnitPrice  CustomerID         Country  \n",
       "0  01-12-2010 08:26       2.55     17850.0  United Kingdom  \n",
       "1  01-12-2010 08:26       3.39     17850.0  United Kingdom  \n",
       "2  01-12-2010 08:26       2.75     17850.0  United Kingdom  \n",
       "3  01-12-2010 08:26       3.39     17850.0  United Kingdom  \n",
       "4  01-12-2010 08:26       3.39     17850.0  United Kingdom  "
      ]
     },
     "execution_count": 2,
     "metadata": {},
     "output_type": "execute_result"
    }
   ],
   "source": [
    "data = pd.read_csv(\"Online Retail.csv\")\n",
    "data.head()"
   ]
  },
  {
   "cell_type": "code",
   "execution_count": 3,
   "metadata": {},
   "outputs": [
    {
     "data": {
      "text/html": [
       "<div>\n",
       "<style scoped>\n",
       "    .dataframe tbody tr th:only-of-type {\n",
       "        vertical-align: middle;\n",
       "    }\n",
       "\n",
       "    .dataframe tbody tr th {\n",
       "        vertical-align: top;\n",
       "    }\n",
       "\n",
       "    .dataframe thead th {\n",
       "        text-align: right;\n",
       "    }\n",
       "</style>\n",
       "<table border=\"1\" class=\"dataframe\">\n",
       "  <thead>\n",
       "    <tr style=\"text-align: right;\">\n",
       "      <th></th>\n",
       "      <th>InvoiceNo</th>\n",
       "      <th>StockCode</th>\n",
       "      <th>Description</th>\n",
       "      <th>Quantity</th>\n",
       "      <th>InvoiceDate</th>\n",
       "      <th>UnitPrice</th>\n",
       "      <th>CustomerID</th>\n",
       "      <th>Country</th>\n",
       "    </tr>\n",
       "  </thead>\n",
       "  <tbody>\n",
       "    <tr>\n",
       "      <td>0</td>\n",
       "      <td>536365</td>\n",
       "      <td>85123A</td>\n",
       "      <td>WHITE HANGING HEART T-LIGHT HOLDER</td>\n",
       "      <td>6</td>\n",
       "      <td>01-12-2010 08:26</td>\n",
       "      <td>2.55</td>\n",
       "      <td>17850.0</td>\n",
       "      <td>United Kingdom</td>\n",
       "    </tr>\n",
       "    <tr>\n",
       "      <td>1</td>\n",
       "      <td>536365</td>\n",
       "      <td>71053</td>\n",
       "      <td>WHITE METAL LANTERN</td>\n",
       "      <td>6</td>\n",
       "      <td>01-12-2010 08:26</td>\n",
       "      <td>3.39</td>\n",
       "      <td>17850.0</td>\n",
       "      <td>United Kingdom</td>\n",
       "    </tr>\n",
       "    <tr>\n",
       "      <td>2</td>\n",
       "      <td>536365</td>\n",
       "      <td>84406B</td>\n",
       "      <td>CREAM CUPID HEARTS COAT HANGER</td>\n",
       "      <td>8</td>\n",
       "      <td>01-12-2010 08:26</td>\n",
       "      <td>2.75</td>\n",
       "      <td>17850.0</td>\n",
       "      <td>United Kingdom</td>\n",
       "    </tr>\n",
       "    <tr>\n",
       "      <td>3</td>\n",
       "      <td>536365</td>\n",
       "      <td>84029G</td>\n",
       "      <td>KNITTED UNION FLAG HOT WATER BOTTLE</td>\n",
       "      <td>6</td>\n",
       "      <td>01-12-2010 08:26</td>\n",
       "      <td>3.39</td>\n",
       "      <td>17850.0</td>\n",
       "      <td>United Kingdom</td>\n",
       "    </tr>\n",
       "    <tr>\n",
       "      <td>4</td>\n",
       "      <td>536365</td>\n",
       "      <td>84029E</td>\n",
       "      <td>RED WOOLLY HOTTIE WHITE HEART.</td>\n",
       "      <td>6</td>\n",
       "      <td>01-12-2010 08:26</td>\n",
       "      <td>3.39</td>\n",
       "      <td>17850.0</td>\n",
       "      <td>United Kingdom</td>\n",
       "    </tr>\n",
       "    <tr>\n",
       "      <td>...</td>\n",
       "      <td>...</td>\n",
       "      <td>...</td>\n",
       "      <td>...</td>\n",
       "      <td>...</td>\n",
       "      <td>...</td>\n",
       "      <td>...</td>\n",
       "      <td>...</td>\n",
       "      <td>...</td>\n",
       "    </tr>\n",
       "    <tr>\n",
       "      <td>541904</td>\n",
       "      <td>581587</td>\n",
       "      <td>22613</td>\n",
       "      <td>PACK OF 20 SPACEBOY NAPKINS</td>\n",
       "      <td>12</td>\n",
       "      <td>09-12-2011 12:50</td>\n",
       "      <td>0.85</td>\n",
       "      <td>12680.0</td>\n",
       "      <td>France</td>\n",
       "    </tr>\n",
       "    <tr>\n",
       "      <td>541905</td>\n",
       "      <td>581587</td>\n",
       "      <td>22899</td>\n",
       "      <td>CHILDREN'S APRON DOLLY GIRL</td>\n",
       "      <td>6</td>\n",
       "      <td>09-12-2011 12:50</td>\n",
       "      <td>2.10</td>\n",
       "      <td>12680.0</td>\n",
       "      <td>France</td>\n",
       "    </tr>\n",
       "    <tr>\n",
       "      <td>541906</td>\n",
       "      <td>581587</td>\n",
       "      <td>23254</td>\n",
       "      <td>CHILDRENS CUTLERY DOLLY GIRL</td>\n",
       "      <td>4</td>\n",
       "      <td>09-12-2011 12:50</td>\n",
       "      <td>4.15</td>\n",
       "      <td>12680.0</td>\n",
       "      <td>France</td>\n",
       "    </tr>\n",
       "    <tr>\n",
       "      <td>541907</td>\n",
       "      <td>581587</td>\n",
       "      <td>23255</td>\n",
       "      <td>CHILDRENS CUTLERY CIRCUS PARADE</td>\n",
       "      <td>4</td>\n",
       "      <td>09-12-2011 12:50</td>\n",
       "      <td>4.15</td>\n",
       "      <td>12680.0</td>\n",
       "      <td>France</td>\n",
       "    </tr>\n",
       "    <tr>\n",
       "      <td>541908</td>\n",
       "      <td>581587</td>\n",
       "      <td>22138</td>\n",
       "      <td>BAKING SET 9 PIECE RETROSPOT</td>\n",
       "      <td>3</td>\n",
       "      <td>09-12-2011 12:50</td>\n",
       "      <td>4.95</td>\n",
       "      <td>12680.0</td>\n",
       "      <td>France</td>\n",
       "    </tr>\n",
       "  </tbody>\n",
       "</table>\n",
       "<p>532621 rows × 8 columns</p>\n",
       "</div>"
      ],
      "text/plain": [
       "       InvoiceNo StockCode                          Description  Quantity  \\\n",
       "0         536365    85123A   WHITE HANGING HEART T-LIGHT HOLDER         6   \n",
       "1         536365     71053                  WHITE METAL LANTERN         6   \n",
       "2         536365    84406B       CREAM CUPID HEARTS COAT HANGER         8   \n",
       "3         536365    84029G  KNITTED UNION FLAG HOT WATER BOTTLE         6   \n",
       "4         536365    84029E       RED WOOLLY HOTTIE WHITE HEART.         6   \n",
       "...          ...       ...                                  ...       ...   \n",
       "541904    581587     22613          PACK OF 20 SPACEBOY NAPKINS        12   \n",
       "541905    581587     22899          CHILDREN'S APRON DOLLY GIRL         6   \n",
       "541906    581587     23254         CHILDRENS CUTLERY DOLLY GIRL         4   \n",
       "541907    581587     23255      CHILDRENS CUTLERY CIRCUS PARADE         4   \n",
       "541908    581587     22138         BAKING SET 9 PIECE RETROSPOT         3   \n",
       "\n",
       "             InvoiceDate  UnitPrice  CustomerID         Country  \n",
       "0       01-12-2010 08:26       2.55     17850.0  United Kingdom  \n",
       "1       01-12-2010 08:26       3.39     17850.0  United Kingdom  \n",
       "2       01-12-2010 08:26       2.75     17850.0  United Kingdom  \n",
       "3       01-12-2010 08:26       3.39     17850.0  United Kingdom  \n",
       "4       01-12-2010 08:26       3.39     17850.0  United Kingdom  \n",
       "...                  ...        ...         ...             ...  \n",
       "541904  09-12-2011 12:50       0.85     12680.0          France  \n",
       "541905  09-12-2011 12:50       2.10     12680.0          France  \n",
       "541906  09-12-2011 12:50       4.15     12680.0          France  \n",
       "541907  09-12-2011 12:50       4.15     12680.0          France  \n",
       "541908  09-12-2011 12:50       4.95     12680.0          France  \n",
       "\n",
       "[532621 rows x 8 columns]"
      ]
     },
     "execution_count": 3,
     "metadata": {},
     "output_type": "execute_result"
    }
   ],
   "source": [
    "data[\"Description\"] = data[\"Description\"].str.strip()\n",
    "data.dropna(axis= 0 , subset = [\"InvoiceNo\"] , inplace=True)\n",
    "data[\"InvoiceNo\"] = data[\"InvoiceNo\"].astype(\"str\")\n",
    "\n",
    "data = data[~data[\"InvoiceNo\"].str.contains('C')]\n",
    "data"
   ]
  },
  {
   "cell_type": "code",
   "execution_count": 4,
   "metadata": {},
   "outputs": [
    {
     "data": {
      "text/html": [
       "<div>\n",
       "<style scoped>\n",
       "    .dataframe tbody tr th:only-of-type {\n",
       "        vertical-align: middle;\n",
       "    }\n",
       "\n",
       "    .dataframe tbody tr th {\n",
       "        vertical-align: top;\n",
       "    }\n",
       "\n",
       "    .dataframe thead th {\n",
       "        text-align: right;\n",
       "    }\n",
       "</style>\n",
       "<table border=\"1\" class=\"dataframe\">\n",
       "  <thead>\n",
       "    <tr style=\"text-align: right;\">\n",
       "      <th>Description</th>\n",
       "      <th>10 COLOUR SPACEBOY PEN</th>\n",
       "      <th>12 COLOURED PARTY BALLOONS</th>\n",
       "      <th>12 EGG HOUSE PAINTED WOOD</th>\n",
       "      <th>12 MESSAGE CARDS WITH ENVELOPES</th>\n",
       "      <th>12 PENCIL SMALL TUBE WOODLAND</th>\n",
       "      <th>12 PENCILS SMALL TUBE RED RETROSPOT</th>\n",
       "      <th>12 PENCILS SMALL TUBE SKULL</th>\n",
       "      <th>12 PENCILS TALL TUBE POSY</th>\n",
       "      <th>12 PENCILS TALL TUBE RED RETROSPOT</th>\n",
       "      <th>12 PENCILS TALL TUBE WOODLAND</th>\n",
       "      <th>...</th>\n",
       "      <th>WRAP VINTAGE PETALS  DESIGN</th>\n",
       "      <th>YELLOW COAT RACK PARIS FASHION</th>\n",
       "      <th>YELLOW GIANT GARDEN THERMOMETER</th>\n",
       "      <th>YELLOW SHARK HELICOPTER</th>\n",
       "      <th>ZINC  STAR T-LIGHT HOLDER</th>\n",
       "      <th>ZINC FOLKART SLEIGH BELLS</th>\n",
       "      <th>ZINC HERB GARDEN CONTAINER</th>\n",
       "      <th>ZINC METAL HEART DECORATION</th>\n",
       "      <th>ZINC T-LIGHT HOLDER STAR LARGE</th>\n",
       "      <th>ZINC T-LIGHT HOLDER STARS SMALL</th>\n",
       "    </tr>\n",
       "    <tr>\n",
       "      <th>InvoiceNo</th>\n",
       "      <th></th>\n",
       "      <th></th>\n",
       "      <th></th>\n",
       "      <th></th>\n",
       "      <th></th>\n",
       "      <th></th>\n",
       "      <th></th>\n",
       "      <th></th>\n",
       "      <th></th>\n",
       "      <th></th>\n",
       "      <th></th>\n",
       "      <th></th>\n",
       "      <th></th>\n",
       "      <th></th>\n",
       "      <th></th>\n",
       "      <th></th>\n",
       "      <th></th>\n",
       "      <th></th>\n",
       "      <th></th>\n",
       "      <th></th>\n",
       "      <th></th>\n",
       "    </tr>\n",
       "  </thead>\n",
       "  <tbody>\n",
       "    <tr>\n",
       "      <td>536370</td>\n",
       "      <td>0.0</td>\n",
       "      <td>0.0</td>\n",
       "      <td>0.0</td>\n",
       "      <td>0.0</td>\n",
       "      <td>0.0</td>\n",
       "      <td>0.0</td>\n",
       "      <td>0.0</td>\n",
       "      <td>0.0</td>\n",
       "      <td>0.0</td>\n",
       "      <td>0.0</td>\n",
       "      <td>...</td>\n",
       "      <td>0.0</td>\n",
       "      <td>0.0</td>\n",
       "      <td>0.0</td>\n",
       "      <td>0.0</td>\n",
       "      <td>0.0</td>\n",
       "      <td>0.0</td>\n",
       "      <td>0.0</td>\n",
       "      <td>0.0</td>\n",
       "      <td>0.0</td>\n",
       "      <td>0.0</td>\n",
       "    </tr>\n",
       "    <tr>\n",
       "      <td>536852</td>\n",
       "      <td>0.0</td>\n",
       "      <td>0.0</td>\n",
       "      <td>0.0</td>\n",
       "      <td>0.0</td>\n",
       "      <td>0.0</td>\n",
       "      <td>0.0</td>\n",
       "      <td>0.0</td>\n",
       "      <td>0.0</td>\n",
       "      <td>0.0</td>\n",
       "      <td>0.0</td>\n",
       "      <td>...</td>\n",
       "      <td>0.0</td>\n",
       "      <td>0.0</td>\n",
       "      <td>0.0</td>\n",
       "      <td>0.0</td>\n",
       "      <td>0.0</td>\n",
       "      <td>0.0</td>\n",
       "      <td>0.0</td>\n",
       "      <td>0.0</td>\n",
       "      <td>0.0</td>\n",
       "      <td>0.0</td>\n",
       "    </tr>\n",
       "    <tr>\n",
       "      <td>536974</td>\n",
       "      <td>0.0</td>\n",
       "      <td>0.0</td>\n",
       "      <td>0.0</td>\n",
       "      <td>0.0</td>\n",
       "      <td>0.0</td>\n",
       "      <td>0.0</td>\n",
       "      <td>0.0</td>\n",
       "      <td>0.0</td>\n",
       "      <td>0.0</td>\n",
       "      <td>0.0</td>\n",
       "      <td>...</td>\n",
       "      <td>0.0</td>\n",
       "      <td>0.0</td>\n",
       "      <td>0.0</td>\n",
       "      <td>0.0</td>\n",
       "      <td>0.0</td>\n",
       "      <td>0.0</td>\n",
       "      <td>0.0</td>\n",
       "      <td>0.0</td>\n",
       "      <td>0.0</td>\n",
       "      <td>0.0</td>\n",
       "    </tr>\n",
       "    <tr>\n",
       "      <td>537065</td>\n",
       "      <td>0.0</td>\n",
       "      <td>0.0</td>\n",
       "      <td>0.0</td>\n",
       "      <td>0.0</td>\n",
       "      <td>0.0</td>\n",
       "      <td>0.0</td>\n",
       "      <td>0.0</td>\n",
       "      <td>0.0</td>\n",
       "      <td>0.0</td>\n",
       "      <td>0.0</td>\n",
       "      <td>...</td>\n",
       "      <td>0.0</td>\n",
       "      <td>0.0</td>\n",
       "      <td>0.0</td>\n",
       "      <td>0.0</td>\n",
       "      <td>0.0</td>\n",
       "      <td>0.0</td>\n",
       "      <td>0.0</td>\n",
       "      <td>0.0</td>\n",
       "      <td>0.0</td>\n",
       "      <td>0.0</td>\n",
       "    </tr>\n",
       "    <tr>\n",
       "      <td>537463</td>\n",
       "      <td>0.0</td>\n",
       "      <td>0.0</td>\n",
       "      <td>0.0</td>\n",
       "      <td>0.0</td>\n",
       "      <td>0.0</td>\n",
       "      <td>0.0</td>\n",
       "      <td>0.0</td>\n",
       "      <td>0.0</td>\n",
       "      <td>0.0</td>\n",
       "      <td>0.0</td>\n",
       "      <td>...</td>\n",
       "      <td>0.0</td>\n",
       "      <td>0.0</td>\n",
       "      <td>0.0</td>\n",
       "      <td>0.0</td>\n",
       "      <td>0.0</td>\n",
       "      <td>0.0</td>\n",
       "      <td>0.0</td>\n",
       "      <td>0.0</td>\n",
       "      <td>0.0</td>\n",
       "      <td>0.0</td>\n",
       "    </tr>\n",
       "    <tr>\n",
       "      <td>...</td>\n",
       "      <td>...</td>\n",
       "      <td>...</td>\n",
       "      <td>...</td>\n",
       "      <td>...</td>\n",
       "      <td>...</td>\n",
       "      <td>...</td>\n",
       "      <td>...</td>\n",
       "      <td>...</td>\n",
       "      <td>...</td>\n",
       "      <td>...</td>\n",
       "      <td>...</td>\n",
       "      <td>...</td>\n",
       "      <td>...</td>\n",
       "      <td>...</td>\n",
       "      <td>...</td>\n",
       "      <td>...</td>\n",
       "      <td>...</td>\n",
       "      <td>...</td>\n",
       "      <td>...</td>\n",
       "      <td>...</td>\n",
       "      <td>...</td>\n",
       "    </tr>\n",
       "    <tr>\n",
       "      <td>580986</td>\n",
       "      <td>0.0</td>\n",
       "      <td>0.0</td>\n",
       "      <td>0.0</td>\n",
       "      <td>0.0</td>\n",
       "      <td>0.0</td>\n",
       "      <td>0.0</td>\n",
       "      <td>0.0</td>\n",
       "      <td>0.0</td>\n",
       "      <td>0.0</td>\n",
       "      <td>0.0</td>\n",
       "      <td>...</td>\n",
       "      <td>0.0</td>\n",
       "      <td>0.0</td>\n",
       "      <td>0.0</td>\n",
       "      <td>0.0</td>\n",
       "      <td>0.0</td>\n",
       "      <td>0.0</td>\n",
       "      <td>0.0</td>\n",
       "      <td>0.0</td>\n",
       "      <td>0.0</td>\n",
       "      <td>0.0</td>\n",
       "    </tr>\n",
       "    <tr>\n",
       "      <td>581001</td>\n",
       "      <td>0.0</td>\n",
       "      <td>0.0</td>\n",
       "      <td>0.0</td>\n",
       "      <td>0.0</td>\n",
       "      <td>0.0</td>\n",
       "      <td>0.0</td>\n",
       "      <td>0.0</td>\n",
       "      <td>0.0</td>\n",
       "      <td>0.0</td>\n",
       "      <td>0.0</td>\n",
       "      <td>...</td>\n",
       "      <td>0.0</td>\n",
       "      <td>0.0</td>\n",
       "      <td>0.0</td>\n",
       "      <td>0.0</td>\n",
       "      <td>0.0</td>\n",
       "      <td>0.0</td>\n",
       "      <td>0.0</td>\n",
       "      <td>0.0</td>\n",
       "      <td>0.0</td>\n",
       "      <td>0.0</td>\n",
       "    </tr>\n",
       "    <tr>\n",
       "      <td>581171</td>\n",
       "      <td>0.0</td>\n",
       "      <td>0.0</td>\n",
       "      <td>0.0</td>\n",
       "      <td>0.0</td>\n",
       "      <td>0.0</td>\n",
       "      <td>0.0</td>\n",
       "      <td>0.0</td>\n",
       "      <td>0.0</td>\n",
       "      <td>0.0</td>\n",
       "      <td>0.0</td>\n",
       "      <td>...</td>\n",
       "      <td>0.0</td>\n",
       "      <td>0.0</td>\n",
       "      <td>0.0</td>\n",
       "      <td>0.0</td>\n",
       "      <td>0.0</td>\n",
       "      <td>0.0</td>\n",
       "      <td>0.0</td>\n",
       "      <td>0.0</td>\n",
       "      <td>0.0</td>\n",
       "      <td>0.0</td>\n",
       "    </tr>\n",
       "    <tr>\n",
       "      <td>581279</td>\n",
       "      <td>0.0</td>\n",
       "      <td>0.0</td>\n",
       "      <td>0.0</td>\n",
       "      <td>0.0</td>\n",
       "      <td>0.0</td>\n",
       "      <td>0.0</td>\n",
       "      <td>0.0</td>\n",
       "      <td>0.0</td>\n",
       "      <td>0.0</td>\n",
       "      <td>0.0</td>\n",
       "      <td>...</td>\n",
       "      <td>0.0</td>\n",
       "      <td>0.0</td>\n",
       "      <td>0.0</td>\n",
       "      <td>0.0</td>\n",
       "      <td>0.0</td>\n",
       "      <td>0.0</td>\n",
       "      <td>0.0</td>\n",
       "      <td>0.0</td>\n",
       "      <td>0.0</td>\n",
       "      <td>0.0</td>\n",
       "    </tr>\n",
       "    <tr>\n",
       "      <td>581587</td>\n",
       "      <td>0.0</td>\n",
       "      <td>0.0</td>\n",
       "      <td>0.0</td>\n",
       "      <td>0.0</td>\n",
       "      <td>0.0</td>\n",
       "      <td>0.0</td>\n",
       "      <td>0.0</td>\n",
       "      <td>0.0</td>\n",
       "      <td>0.0</td>\n",
       "      <td>0.0</td>\n",
       "      <td>...</td>\n",
       "      <td>0.0</td>\n",
       "      <td>0.0</td>\n",
       "      <td>0.0</td>\n",
       "      <td>0.0</td>\n",
       "      <td>0.0</td>\n",
       "      <td>0.0</td>\n",
       "      <td>0.0</td>\n",
       "      <td>0.0</td>\n",
       "      <td>0.0</td>\n",
       "      <td>0.0</td>\n",
       "    </tr>\n",
       "  </tbody>\n",
       "</table>\n",
       "<p>392 rows × 1563 columns</p>\n",
       "</div>"
      ],
      "text/plain": [
       "Description  10 COLOUR SPACEBOY PEN  12 COLOURED PARTY BALLOONS  \\\n",
       "InvoiceNo                                                         \n",
       "536370                          0.0                         0.0   \n",
       "536852                          0.0                         0.0   \n",
       "536974                          0.0                         0.0   \n",
       "537065                          0.0                         0.0   \n",
       "537463                          0.0                         0.0   \n",
       "...                             ...                         ...   \n",
       "580986                          0.0                         0.0   \n",
       "581001                          0.0                         0.0   \n",
       "581171                          0.0                         0.0   \n",
       "581279                          0.0                         0.0   \n",
       "581587                          0.0                         0.0   \n",
       "\n",
       "Description  12 EGG HOUSE PAINTED WOOD  12 MESSAGE CARDS WITH ENVELOPES  \\\n",
       "InvoiceNo                                                                 \n",
       "536370                             0.0                              0.0   \n",
       "536852                             0.0                              0.0   \n",
       "536974                             0.0                              0.0   \n",
       "537065                             0.0                              0.0   \n",
       "537463                             0.0                              0.0   \n",
       "...                                ...                              ...   \n",
       "580986                             0.0                              0.0   \n",
       "581001                             0.0                              0.0   \n",
       "581171                             0.0                              0.0   \n",
       "581279                             0.0                              0.0   \n",
       "581587                             0.0                              0.0   \n",
       "\n",
       "Description  12 PENCIL SMALL TUBE WOODLAND  \\\n",
       "InvoiceNo                                    \n",
       "536370                                 0.0   \n",
       "536852                                 0.0   \n",
       "536974                                 0.0   \n",
       "537065                                 0.0   \n",
       "537463                                 0.0   \n",
       "...                                    ...   \n",
       "580986                                 0.0   \n",
       "581001                                 0.0   \n",
       "581171                                 0.0   \n",
       "581279                                 0.0   \n",
       "581587                                 0.0   \n",
       "\n",
       "Description  12 PENCILS SMALL TUBE RED RETROSPOT  12 PENCILS SMALL TUBE SKULL  \\\n",
       "InvoiceNo                                                                       \n",
       "536370                                       0.0                          0.0   \n",
       "536852                                       0.0                          0.0   \n",
       "536974                                       0.0                          0.0   \n",
       "537065                                       0.0                          0.0   \n",
       "537463                                       0.0                          0.0   \n",
       "...                                          ...                          ...   \n",
       "580986                                       0.0                          0.0   \n",
       "581001                                       0.0                          0.0   \n",
       "581171                                       0.0                          0.0   \n",
       "581279                                       0.0                          0.0   \n",
       "581587                                       0.0                          0.0   \n",
       "\n",
       "Description  12 PENCILS TALL TUBE POSY  12 PENCILS TALL TUBE RED RETROSPOT  \\\n",
       "InvoiceNo                                                                    \n",
       "536370                             0.0                                 0.0   \n",
       "536852                             0.0                                 0.0   \n",
       "536974                             0.0                                 0.0   \n",
       "537065                             0.0                                 0.0   \n",
       "537463                             0.0                                 0.0   \n",
       "...                                ...                                 ...   \n",
       "580986                             0.0                                 0.0   \n",
       "581001                             0.0                                 0.0   \n",
       "581171                             0.0                                 0.0   \n",
       "581279                             0.0                                 0.0   \n",
       "581587                             0.0                                 0.0   \n",
       "\n",
       "Description  12 PENCILS TALL TUBE WOODLAND  ...  WRAP VINTAGE PETALS  DESIGN  \\\n",
       "InvoiceNo                                   ...                                \n",
       "536370                                 0.0  ...                          0.0   \n",
       "536852                                 0.0  ...                          0.0   \n",
       "536974                                 0.0  ...                          0.0   \n",
       "537065                                 0.0  ...                          0.0   \n",
       "537463                                 0.0  ...                          0.0   \n",
       "...                                    ...  ...                          ...   \n",
       "580986                                 0.0  ...                          0.0   \n",
       "581001                                 0.0  ...                          0.0   \n",
       "581171                                 0.0  ...                          0.0   \n",
       "581279                                 0.0  ...                          0.0   \n",
       "581587                                 0.0  ...                          0.0   \n",
       "\n",
       "Description  YELLOW COAT RACK PARIS FASHION  YELLOW GIANT GARDEN THERMOMETER  \\\n",
       "InvoiceNo                                                                      \n",
       "536370                                  0.0                              0.0   \n",
       "536852                                  0.0                              0.0   \n",
       "536974                                  0.0                              0.0   \n",
       "537065                                  0.0                              0.0   \n",
       "537463                                  0.0                              0.0   \n",
       "...                                     ...                              ...   \n",
       "580986                                  0.0                              0.0   \n",
       "581001                                  0.0                              0.0   \n",
       "581171                                  0.0                              0.0   \n",
       "581279                                  0.0                              0.0   \n",
       "581587                                  0.0                              0.0   \n",
       "\n",
       "Description  YELLOW SHARK HELICOPTER  ZINC  STAR T-LIGHT HOLDER  \\\n",
       "InvoiceNo                                                         \n",
       "536370                           0.0                        0.0   \n",
       "536852                           0.0                        0.0   \n",
       "536974                           0.0                        0.0   \n",
       "537065                           0.0                        0.0   \n",
       "537463                           0.0                        0.0   \n",
       "...                              ...                        ...   \n",
       "580986                           0.0                        0.0   \n",
       "581001                           0.0                        0.0   \n",
       "581171                           0.0                        0.0   \n",
       "581279                           0.0                        0.0   \n",
       "581587                           0.0                        0.0   \n",
       "\n",
       "Description  ZINC FOLKART SLEIGH BELLS  ZINC HERB GARDEN CONTAINER  \\\n",
       "InvoiceNo                                                            \n",
       "536370                             0.0                         0.0   \n",
       "536852                             0.0                         0.0   \n",
       "536974                             0.0                         0.0   \n",
       "537065                             0.0                         0.0   \n",
       "537463                             0.0                         0.0   \n",
       "...                                ...                         ...   \n",
       "580986                             0.0                         0.0   \n",
       "581001                             0.0                         0.0   \n",
       "581171                             0.0                         0.0   \n",
       "581279                             0.0                         0.0   \n",
       "581587                             0.0                         0.0   \n",
       "\n",
       "Description  ZINC METAL HEART DECORATION  ZINC T-LIGHT HOLDER STAR LARGE  \\\n",
       "InvoiceNo                                                                  \n",
       "536370                               0.0                             0.0   \n",
       "536852                               0.0                             0.0   \n",
       "536974                               0.0                             0.0   \n",
       "537065                               0.0                             0.0   \n",
       "537463                               0.0                             0.0   \n",
       "...                                  ...                             ...   \n",
       "580986                               0.0                             0.0   \n",
       "581001                               0.0                             0.0   \n",
       "581171                               0.0                             0.0   \n",
       "581279                               0.0                             0.0   \n",
       "581587                               0.0                             0.0   \n",
       "\n",
       "Description  ZINC T-LIGHT HOLDER STARS SMALL  \n",
       "InvoiceNo                                     \n",
       "536370                                   0.0  \n",
       "536852                                   0.0  \n",
       "536974                                   0.0  \n",
       "537065                                   0.0  \n",
       "537463                                   0.0  \n",
       "...                                      ...  \n",
       "580986                                   0.0  \n",
       "581001                                   0.0  \n",
       "581171                                   0.0  \n",
       "581279                                   0.0  \n",
       "581587                                   0.0  \n",
       "\n",
       "[392 rows x 1563 columns]"
      ]
     },
     "execution_count": 4,
     "metadata": {},
     "output_type": "execute_result"
    }
   ],
   "source": [
    "basket_France = (data[data['Country'] ==\"France\"] \n",
    "          .groupby(['InvoiceNo', 'Description'])['Quantity'] \n",
    "          .sum().unstack().reset_index().fillna(0) \n",
    "          .set_index('InvoiceNo')) \n",
    "  \n",
    "# Transactions done in the United Kingdom \n",
    "basket_UK = (data[data['Country'] ==\"United Kingdom\"] \n",
    "          .groupby(['InvoiceNo', 'Description'])['Quantity'] \n",
    "          .sum().unstack().reset_index().fillna(0) \n",
    "          .set_index('InvoiceNo')) \n",
    "  \n",
    "# Transactions done in Portugal \n",
    "basket_Por = (data[data['Country'] ==\"Portugal\"] \n",
    "          .groupby(['InvoiceNo', 'Description'])['Quantity'] \n",
    "          .sum().unstack().reset_index().fillna(0) \n",
    "          .set_index('InvoiceNo')) \n",
    "  \n",
    "basket_Sweden = (data[data['Country'] ==\"Sweden\"] \n",
    "          .groupby(['InvoiceNo', 'Description'])['Quantity'] \n",
    "          .sum().unstack().reset_index().fillna(0) \n",
    "          .set_index('InvoiceNo')) \n",
    "basket_France"
   ]
  },
  {
   "cell_type": "code",
   "execution_count": 5,
   "metadata": {},
   "outputs": [],
   "source": [
    "def hot_encode(x): \n",
    "    if(x<= 0): \n",
    "        return 0\n",
    "    if(x>= 1): \n",
    "        return 1\n",
    "  \n",
    "# Encoding the datasets \n",
    "basket_encoded = basket_France.applymap(hot_encode) \n",
    "basket_France = basket_encoded \n",
    "  \n",
    "basket_encoded = basket_UK.applymap(hot_encode) \n",
    "basket_UK = basket_encoded \n",
    "  \n",
    "basket_encoded = basket_Por.applymap(hot_encode) \n",
    "basket_Por = basket_encoded \n",
    "  \n",
    "basket_encoded = basket_Sweden.applymap(hot_encode) \n",
    "basket_Sweden = basket_encoded "
   ]
  },
  {
   "cell_type": "code",
   "execution_count": 6,
   "metadata": {},
   "outputs": [
    {
     "data": {
      "text/html": [
       "<div>\n",
       "<style scoped>\n",
       "    .dataframe tbody tr th:only-of-type {\n",
       "        vertical-align: middle;\n",
       "    }\n",
       "\n",
       "    .dataframe tbody tr th {\n",
       "        vertical-align: top;\n",
       "    }\n",
       "\n",
       "    .dataframe thead th {\n",
       "        text-align: right;\n",
       "    }\n",
       "</style>\n",
       "<table border=\"1\" class=\"dataframe\">\n",
       "  <thead>\n",
       "    <tr style=\"text-align: right;\">\n",
       "      <th></th>\n",
       "      <th>antecedents</th>\n",
       "      <th>consequents</th>\n",
       "      <th>antecedent support</th>\n",
       "      <th>consequent support</th>\n",
       "      <th>support</th>\n",
       "      <th>confidence</th>\n",
       "      <th>lift</th>\n",
       "      <th>leverage</th>\n",
       "      <th>conviction</th>\n",
       "    </tr>\n",
       "  </thead>\n",
       "  <tbody>\n",
       "    <tr>\n",
       "      <td>44</td>\n",
       "      <td>(JUMBO BAG WOODLAND ANIMALS)</td>\n",
       "      <td>(POSTAGE)</td>\n",
       "      <td>0.076531</td>\n",
       "      <td>0.765306</td>\n",
       "      <td>0.076531</td>\n",
       "      <td>1.000</td>\n",
       "      <td>1.306667</td>\n",
       "      <td>0.017961</td>\n",
       "      <td>inf</td>\n",
       "    </tr>\n",
       "    <tr>\n",
       "      <td>258</td>\n",
       "      <td>(RED TOADSTOOL LED NIGHT LIGHT, PLASTERS IN TI...</td>\n",
       "      <td>(POSTAGE)</td>\n",
       "      <td>0.051020</td>\n",
       "      <td>0.765306</td>\n",
       "      <td>0.051020</td>\n",
       "      <td>1.000</td>\n",
       "      <td>1.306667</td>\n",
       "      <td>0.011974</td>\n",
       "      <td>inf</td>\n",
       "    </tr>\n",
       "    <tr>\n",
       "      <td>271</td>\n",
       "      <td>(RED TOADSTOOL LED NIGHT LIGHT, PLASTERS IN TI...</td>\n",
       "      <td>(POSTAGE)</td>\n",
       "      <td>0.053571</td>\n",
       "      <td>0.765306</td>\n",
       "      <td>0.053571</td>\n",
       "      <td>1.000</td>\n",
       "      <td>1.306667</td>\n",
       "      <td>0.012573</td>\n",
       "      <td>inf</td>\n",
       "    </tr>\n",
       "    <tr>\n",
       "      <td>300</td>\n",
       "      <td>(SET/20 RED RETROSPOT PAPER NAPKINS, SET/6 RED...</td>\n",
       "      <td>(SET/6 RED SPOTTY PAPER PLATES)</td>\n",
       "      <td>0.102041</td>\n",
       "      <td>0.127551</td>\n",
       "      <td>0.099490</td>\n",
       "      <td>0.975</td>\n",
       "      <td>7.644000</td>\n",
       "      <td>0.086474</td>\n",
       "      <td>34.897959</td>\n",
       "    </tr>\n",
       "    <tr>\n",
       "      <td>301</td>\n",
       "      <td>(SET/20 RED RETROSPOT PAPER NAPKINS, SET/6 RED...</td>\n",
       "      <td>(SET/6 RED SPOTTY PAPER CUPS)</td>\n",
       "      <td>0.102041</td>\n",
       "      <td>0.137755</td>\n",
       "      <td>0.099490</td>\n",
       "      <td>0.975</td>\n",
       "      <td>7.077778</td>\n",
       "      <td>0.085433</td>\n",
       "      <td>34.489796</td>\n",
       "    </tr>\n",
       "  </tbody>\n",
       "</table>\n",
       "</div>"
      ],
      "text/plain": [
       "                                           antecedents  \\\n",
       "44                        (JUMBO BAG WOODLAND ANIMALS)   \n",
       "258  (RED TOADSTOOL LED NIGHT LIGHT, PLASTERS IN TI...   \n",
       "271  (RED TOADSTOOL LED NIGHT LIGHT, PLASTERS IN TI...   \n",
       "300  (SET/20 RED RETROSPOT PAPER NAPKINS, SET/6 RED...   \n",
       "301  (SET/20 RED RETROSPOT PAPER NAPKINS, SET/6 RED...   \n",
       "\n",
       "                         consequents  antecedent support  consequent support  \\\n",
       "44                         (POSTAGE)            0.076531            0.765306   \n",
       "258                        (POSTAGE)            0.051020            0.765306   \n",
       "271                        (POSTAGE)            0.053571            0.765306   \n",
       "300  (SET/6 RED SPOTTY PAPER PLATES)            0.102041            0.127551   \n",
       "301    (SET/6 RED SPOTTY PAPER CUPS)            0.102041            0.137755   \n",
       "\n",
       "      support  confidence      lift  leverage  conviction  \n",
       "44   0.076531       1.000  1.306667  0.017961         inf  \n",
       "258  0.051020       1.000  1.306667  0.011974         inf  \n",
       "271  0.053571       1.000  1.306667  0.012573         inf  \n",
       "300  0.099490       0.975  7.644000  0.086474   34.897959  \n",
       "301  0.099490       0.975  7.077778  0.085433   34.489796  "
      ]
     },
     "execution_count": 6,
     "metadata": {},
     "output_type": "execute_result"
    }
   ],
   "source": [
    "# France\n",
    "\n",
    "frequent_items = apriori(basket_France , min_support = 0.05 , use_colnames=True)\n",
    "\n",
    "rules = association_rules(frequent_items , metric = \"lift\",min_threshold=1)\n",
    "\n",
    "rules = rules.sort_values([\"confidence\",\"lift\"], ascending = [False,False])\n",
    "\n",
    "rules.head()"
   ]
  },
  {
   "cell_type": "code",
   "execution_count": 7,
   "metadata": {},
   "outputs": [],
   "source": [
    "support = rules.as_matrix(columns = [\"support\"])\n",
    "confidence = rules.as_matrix(columns = [\"confidence\"])\n",
    "lift = rules.as_matrix(columns = [\"lift\"])\n"
   ]
  },
  {
   "cell_type": "code",
   "execution_count": 8,
   "metadata": {},
   "outputs": [
    {
     "data": {
      "application/vnd.plotly.v1+json": {
       "config": {
        "plotlyServerURL": "https://plot.ly"
       },
       "data": [
        {
         "hoverlabel": {
          "namelength": 0
         },
         "hovertemplate": "consequents=%{x}<br>antecedents=%{y}<br>confidence=%{marker.color}",
         "legendgroup": "",
         "marker": {
          "color": [
           1,
           1,
           1,
           0.975,
           0.975,
           0.9696969696969696,
           0.9696969696969696,
           0.9642857142857142,
           0.9615384615384615,
           0.96,
           0.96,
           0.9583333333333334,
           0.9565217391304347,
           0.9545454545454545,
           0.9523809523809524,
           0.9523809523809524,
           0.945945945945946,
           0.9375,
           0.9354838709677419,
           0.925925925925926,
           0.925925925925926,
           0.925925925925926,
           0.923076923076923,
           0.92,
           0.92,
           0.918918918918919,
           0.9166666666666667,
           0.9090909090909091,
           0.9090909090909091,
           0.9090909090909091,
           0.9090909090909091,
           0.9032258064516128,
           0.8965517241379312,
           0.8965517241379312,
           0.8928571428571429,
           0.888888888888889,
           0.888888888888889,
           0.8846153846153846,
           0.8846153846153846,
           0.8809523809523809,
           0.88,
           0.88,
           0.8787878787878788,
           0.8783783783783784,
           0.875,
           0.875,
           0.8732394366197184,
           0.8695652173913043,
           0.8695652173913043,
           0.868421052631579,
           0.8620689655172414,
           0.8620689655172414,
           0.851851851851852,
           0.8484848484848485,
           0.8461538461538461,
           0.8461538461538461,
           0.8421052631578947,
           0.8421052631578947,
           0.84,
           0.84,
           0.8378378378378379,
           0.8367346938775511,
           0.8367346938775511,
           0.8333333333333335,
           0.8333333333333335,
           0.8333333333333334,
           0.8333333333333334,
           0.8285714285714285,
           0.8275862068965517,
           0.8269230769230769,
           0.825,
           0.825,
           0.825,
           0.825,
           0.8235294117647058,
           0.8205128205128205,
           0.8157894736842106,
           0.8125,
           0.8076923076923076,
           0.8076923076923076,
           0.8064516129032258,
           0.8059701492537313,
           0.8048780487804877,
           0.8035714285714286,
           0.8,
           0.8,
           0.8,
           0.8,
           0.7999999999999999,
           0.7999999999999999,
           0.7999999999999999,
           0.7999999999999999,
           0.7857142857142858,
           0.7857142857142858,
           0.7857142857142858,
           0.7857142857142857,
           0.7837837837837838,
           0.7812500000000001,
           0.7804878048780487,
           0.78,
           0.7777777777777778,
           0.7777777777777778,
           0.7777777777777778,
           0.7777777777777778,
           0.7755102040816326,
           0.7714285714285714,
           0.7692307692307692,
           0.7692307692307692,
           0.7674418604651163,
           0.7674418604651163,
           0.7659574468085107,
           0.7647058823529412,
           0.7631578947368421,
           0.7619047619047619,
           0.7592592592592594,
           0.7586206896551724,
           0.7586206896551724,
           0.7567567567567568,
           0.75,
           0.7441860465116279,
           0.7428571428571429,
           0.7407407407407408,
           0.7407407407407408,
           0.7368421052631579,
           0.7333333333333333,
           0.7272727272727273,
           0.725,
           0.725,
           0.7241379310344828,
           0.7241379310344828,
           0.7222222222222223,
           0.7187500000000001,
           0.717948717948718,
           0.717391304347826,
           0.7096774193548386,
           0.7027027027027027,
           0.6956521739130433,
           0.6857142857142857,
           0.6756756756756758,
           0.6749999999999999,
           0.6666666666666667,
           0.6666666666666666,
           0.6599999999999999,
           0.6585365853658536,
           0.6578947368421053,
           0.65,
           0.6481481481481483,
           0.6470588235294118,
           0.6444444444444444,
           0.6399999999999999,
           0.6363636363636364,
           0.6363636363636364,
           0.6346153846153846,
           0.6346153846153846,
           0.631578947368421,
           0.6285714285714286,
           0.625,
           0.6216216216216217,
           0.6153846153846153,
           0.6119402985074628,
           0.6111111111111112,
           0.6111111111111112,
           0.6111111111111112,
           0.6111111111111112,
           0.6060606060606061,
           0.6060606060606061,
           0.6,
           0.6,
           0.5970149253731344,
           0.5952380952380952,
           0.5945945945945946,
           0.5925925925925926,
           0.5853658536585366,
           0.5833333333333333,
           0.5833333333333333,
           0.5789473684210527,
           0.5714285714285714,
           0.5689655172413793,
           0.5555555555555556,
           0.5531914893617021,
           0.5526315789473684,
           0.5499999999999999,
           0.5476190476190477,
           0.5434782608695652,
           0.5405405405405406,
           0.5384615384615384,
           0.5370370370370371,
           0.5319148936170213,
           0.5319148936170213,
           0.5306122448979592,
           0.5303030303030304,
           0.5249999999999999,
           0.5249999999999999,
           0.5208333333333334,
           0.5121951219512194,
           0.5111111111111111,
           0.5111111111111111,
           0.5102040816326531,
           0.5,
           0.5,
           0.5,
           0.5,
           0.5,
           0.4925373134328358,
           0.4925373134328358,
           0.4897959183673469,
           0.4878048780487805,
           0.4791666666666667,
           0.47826086956521735,
           0.46808510638297873,
           0.4666666666666666,
           0.45652173913043476,
           0.45652173913043476,
           0.4489795918367347,
           0.44680851063829785,
           0.44680851063829785,
           0.44680851063829785,
           0.44642857142857145,
           0.4393939393939394,
           0.4375,
           0.43478260869565216,
           0.43333333333333335,
           0.43333333333333335,
           0.42857142857142855,
           0.42857142857142855,
           0.42857142857142855,
           0.425531914893617,
           0.425531914893617,
           0.4166666666666667,
           0.41071428571428575,
           0.40909090909090906,
           0.40816326530612246,
           0.4032258064516129,
           0.40298507462686567,
           0.39999999999999997,
           0.39655172413793105,
           0.3888888888888889,
           0.3888888888888889,
           0.3888888888888889,
           0.3888888888888889,
           0.3709677419354839,
           0.3703703703703704,
           0.3703703703703704,
           0.3703703703703704,
           0.36666666666666664,
           0.3620689655172414,
           0.35714285714285715,
           0.35714285714285715,
           0.35,
           0.35,
           0.3484848484848485,
           0.3448275862068966,
           0.3387096774193548,
           0.3387096774193548,
           0.3333333333333333,
           0.3333333333333333,
           0.3225806451612903,
           0.3225806451612903,
           0.3225806451612903,
           0.3181818181818182,
           0.3181818181818182,
           0.31343283582089554,
           0.31343283582089554,
           0.31343283582089554,
           0.30303030303030304,
           0.30303030303030304,
           0.30303030303030304,
           0.29577464788732394,
           0.29577464788732394,
           0.29577464788732394,
           0.28378378378378377,
           0.28169014084507044,
           0.28169014084507044,
           0.21666666666666667,
           0.2066666666666667,
           0.19333333333333333,
           0.19333333333333333,
           0.18,
           0.16,
           0.15333333333333335,
           0.15000000000000002,
           0.15000000000000002,
           0.15000000000000002,
           0.15000000000000002,
           0.14333333333333334,
           0.13999999999999999,
           0.1366666666666667,
           0.1366666666666667,
           0.13333333333333333,
           0.13333333333333333,
           0.12666666666666668,
           0.12333333333333334,
           0.12000000000000001,
           0.11666666666666667,
           0.11666666666666667,
           0.11333333333333334,
           0.11,
           0.11,
           0.11,
           0.11,
           0.11,
           0.11,
           0.10666666666666666,
           0.10666666666666666,
           0.10666666666666666,
           0.10666666666666666,
           0.1,
           0.09666666666666666,
           0.09333333333333334,
           0.09333333333333334,
           0.09,
           0.08666666666666668,
           0.08666666666666668,
           0.08333333333333334,
           0.08333333333333334,
           0.08333333333333334,
           0.08333333333333334,
           0.08333333333333334,
           0.08,
           0.08,
           0.08,
           0.08,
           0.07666666666666667,
           0.07666666666666667,
           0.07666666666666667,
           0.07666666666666667,
           0.07666666666666667,
           0.07333333333333333,
           0.07333333333333333,
           0.07333333333333333,
           0.07333333333333333,
           0.07333333333333333,
           0.07333333333333333,
           0.06999999999999999,
           0.06999999999999999,
           0.06999999999999999,
           0.06999999999999999,
           0.06999999999999999,
           0.06999999999999999,
           0.06999999999999999,
           0.06999999999999999,
           0.06999999999999999,
           0.06666666666666667,
           0.06666666666666667,
           0.06666666666666667,
           0.06666666666666667,
           0.06666666666666667,
           0.06666666666666667
          ],
          "coloraxis": "coloraxis",
          "symbol": "circle"
         },
         "mode": "markers",
         "name": "",
         "showlegend": false,
         "type": "scatter",
         "x": [
          "POSTAGE",
          "POSTAGE",
          "POSTAGE",
          "SET/6 RED SPOTTY PAPER PLATES",
          "SET/6 RED SPOTTY PAPER CUPS",
          "SET/6 RED SPOTTY PAPER PLATES",
          "SET/6 RED SPOTTY PAPER CUPS",
          "POSTAGE",
          "POSTAGE",
          "SET/6 RED SPOTTY PAPER CUPS",
          "POSTAGE",
          "POSTAGE",
          "POSTAGE",
          "POSTAGE",
          "SET/6 RED SPOTTY PAPER CUPS",
          "POSTAGE",
          "POSTAGE",
          "POSTAGE",
          "POSTAGE",
          "CHILDRENS CUTLERY DOLLY GIRL",
          "POSTAGE",
          "POSTAGE",
          "POSTAGE",
          "POSTAGE",
          "POSTAGE",
          "POSTAGE",
          "ALARM CLOCK BAKELIKE RED",
          "PACK OF 6 SKULL PAPER CUPS",
          "POSTAGE",
          "POSTAGE",
          "POSTAGE",
          "POSTAGE",
          "POSTAGE",
          "POSTAGE",
          "CHILDRENS CUTLERY SPACEBOY",
          "SET/6 RED SPOTTY PAPER PLATES",
          "POSTAGE",
          "POSTAGE",
          "POSTAGE",
          "POSTAGE",
          "POSTAGE",
          "POSTAGE",
          "POSTAGE",
          "POSTAGE",
          "POSTAGE",
          "POSTAGE",
          "POSTAGE",
          "SET/6 RED SPOTTY PAPER PLATES",
          "POSTAGE",
          "POSTAGE",
          "ALARM CLOCK BAKELIKE RED",
          "ALARM CLOCK BAKELIKE GREEN",
          "POSTAGE",
          "ALARM CLOCK BAKELIKE RED",
          "ALARM CLOCK BAKELIKE GREEN",
          "POSTAGE",
          "POSTAGE",
          "POSTAGE",
          "POSTAGE",
          "POSTAGE",
          "ALARM CLOCK BAKELIKE GREEN",
          "POSTAGE",
          "POSTAGE",
          "POSTAGE",
          "POSTAGE",
          "POSTAGE",
          "POSTAGE",
          "POSTAGE",
          "POSTAGE",
          "POSTAGE",
          "POSTAGE",
          "POSTAGE",
          "POSTAGE",
          "POSTAGE",
          "ALARM CLOCK BAKELIKE GREEN",
          "POSTAGE",
          "ALARM CLOCK BAKELIKE RED",
          "SET/20 RED RETROSPOT PAPER NAPKINS",
          "POSTAGE",
          "POSTAGE",
          "ALARM CLOCK BAKELIKE PINK",
          "POSTAGE",
          "POSTAGE",
          "POSTAGE",
          "PACK OF 6 SKULL PAPER PLATES",
          "SET/6 RED SPOTTY PAPER CUPS,POSTAGE",
          "SET/20 RED RETROSPOT PAPER NAPKINS",
          "POSTAGE",
          "POSTAGE,SET/6 RED SPOTTY PAPER PLATES",
          "SET/6 RED SPOTTY PAPER CUPS,POSTAGE",
          "SET/20 RED RETROSPOT PAPER NAPKINS",
          "POSTAGE",
          "ALARM CLOCK BAKELIKE PINK",
          "POSTAGE",
          "POSTAGE",
          "SET/20 RED RETROSPOT PAPER NAPKINS",
          "ALARM CLOCK BAKELIKE PINK",
          "POSTAGE",
          "POSTAGE",
          "SET/20 RED RETROSPOT PAPER NAPKINS,SET/6 RED SPOTTY PAPER CUPS",
          "POSTAGE",
          "POSTAGE",
          "POSTAGE",
          "POSTAGE",
          "POSTAGE",
          "PLASTERS IN TIN WOODLAND ANIMALS",
          "SET/6 RED SPOTTY PAPER PLATES",
          "SET/6 RED SPOTTY PAPER CUPS",
          "SET/6 RED SPOTTY PAPER PLATES",
          "SET/6 RED SPOTTY PAPER CUPS",
          "POSTAGE",
          "ALARM CLOCK BAKELIKE PINK",
          "ALARM CLOCK BAKELIKE PINK",
          "SET/20 RED RETROSPOT PAPER NAPKINS,SET/6 RED SPOTTY PAPER CUPS",
          "PLASTERS IN TIN WOODLAND ANIMALS",
          "ALARM CLOCK BAKELIKE GREEN,POSTAGE",
          "ALARM CLOCK BAKELIKE RED,POSTAGE",
          "ALARM CLOCK BAKELIKE GREEN,POSTAGE",
          "SET/6 RED SPOTTY PAPER CUPS,SET/6 RED SPOTTY PAPER PLATES",
          "SET/6 RED SPOTTY PAPER CUPS,SET/6 RED SPOTTY PAPER PLATES",
          "ALARM CLOCK BAKELIKE RED",
          "POSTAGE,SET/6 RED SPOTTY PAPER PLATES",
          "SET/20 RED RETROSPOT PAPER NAPKINS",
          "ALARM CLOCK BAKELIKE RED,POSTAGE",
          "PLASTERS IN TIN WOODLAND ANIMALS",
          "ALARM CLOCK BAKELIKE PINK",
          "ALARM CLOCK BAKELIKE RED",
          "ALARM CLOCK BAKELIKE GREEN",
          "SPACEBOY LUNCH BOX",
          "PLASTERS IN TIN WOODLAND ANIMALS",
          "SET/20 RED RETROSPOT PAPER NAPKINS,SET/6 RED SPOTTY PAPER PLATES",
          "PLASTERS IN TIN CIRCUS PARADE",
          "SPACEBOY LUNCH BOX",
          "SET/20 RED RETROSPOT PAPER NAPKINS",
          "ALARM CLOCK BAKELIKE PINK,POSTAGE",
          "ALARM CLOCK BAKELIKE PINK,POSTAGE",
          "SET/20 RED RETROSPOT PAPER NAPKINS,SET/6 RED SPOTTY PAPER PLATES",
          "ALARM CLOCK BAKELIKE GREEN",
          "ALARM CLOCK BAKELIKE GREEN,ALARM CLOCK BAKELIKE PINK",
          "PLASTERS IN TIN SPACEBOY",
          "ALARM CLOCK BAKELIKE RED,ALARM CLOCK BAKELIKE PINK",
          "SET/20 RED RETROSPOT PAPER NAPKINS,POSTAGE",
          "SET/20 RED RETROSPOT PAPER NAPKINS,POSTAGE",
          "PLASTERS IN TIN CIRCUS PARADE",
          "ALARM CLOCK BAKELIKE RED,ALARM CLOCK BAKELIKE PINK",
          "ALARM CLOCK BAKELIKE RED,POSTAGE",
          "PLASTERS IN TIN CIRCUS PARADE",
          "ALARM CLOCK BAKELIKE GREEN,ALARM CLOCK BAKELIKE PINK",
          "PLASTERS IN TIN CIRCUS PARADE",
          "SET/20 RED RETROSPOT PAPER NAPKINS,SET/6 RED SPOTTY PAPER CUPS,POSTAGE",
          "PLASTERS IN TIN SPACEBOY",
          "PLASTERS IN TIN CIRCUS PARADE",
          "POSTAGE,SET/6 RED SPOTTY PAPER PLATES",
          "SET/6 RED SPOTTY PAPER CUPS,POSTAGE",
          "ALARM CLOCK BAKELIKE PINK,POSTAGE",
          "ALARM CLOCK BAKELIKE GREEN,ALARM CLOCK BAKELIKE RED",
          "ALARM CLOCK BAKELIKE GREEN,ALARM CLOCK BAKELIKE RED",
          "ROUND SNACK BOXES SET OF4 WOODLAND",
          "SET/6 RED SPOTTY PAPER CUPS,POSTAGE,SET/6 RED SPOTTY PAPER PLATES",
          "PLASTERS IN TIN SPACEBOY",
          "SET/20 RED RETROSPOT PAPER NAPKINS,POSTAGE",
          "PLASTERS IN TIN SPACEBOY",
          "POSTAGE,PLASTERS IN TIN WOODLAND ANIMALS",
          "PLASTERS IN TIN CIRCUS PARADE",
          "LUNCH BAG SPACEBOY DESIGN",
          "PLASTERS IN TIN WOODLAND ANIMALS",
          "ALARM CLOCK BAKELIKE GREEN,POSTAGE",
          "POSTAGE,PLASTERS IN TIN WOODLAND ANIMALS",
          "PLASTERS IN TIN CIRCUS PARADE",
          "ROUND SNACK BOXES SET OF4 WOODLAND",
          "ALARM CLOCK BAKELIKE GREEN,ALARM CLOCK BAKELIKE PINK,POSTAGE",
          "SET/20 RED RETROSPOT PAPER NAPKINS,POSTAGE,SET/6 RED SPOTTY PAPER PLATES",
          "LUNCH BAG RED RETROSPOT",
          "LUNCH BAG WOODLAND",
          "LUNCH BAG RED RETROSPOT",
          "ALARM CLOCK BAKELIKE RED,ALARM CLOCK BAKELIKE PINK,POSTAGE",
          "DOLLY GIRL LUNCH BOX",
          "PLASTERS IN TIN WOODLAND ANIMALS",
          "LUNCH BAG APPLE DESIGN",
          "LUNCH BAG RED RETROSPOT",
          "DOLLY GIRL LUNCH BOX",
          "ALARM CLOCK BAKELIKE GREEN,ALARM CLOCK BAKELIKE RED,POSTAGE",
          "POSTAGE,ROUND SNACK BOXES SET OF4 WOODLAND",
          "LUNCH BAG SPACEBOY DESIGN",
          "ROUND SNACK BOXES SET OF4 WOODLAND",
          "POSTAGE,SPACEBOY LUNCH BOX",
          "PLASTERS IN TIN CIRCUS PARADE,POSTAGE",
          "LUNCH BAG WOODLAND",
          "LUNCH BAG APPLE DESIGN",
          "LUNCH BAG RED RETROSPOT",
          "PLASTERS IN TIN SPACEBOY",
          "POSTAGE,PLASTERS IN TIN SPACEBOY",
          "LUNCH BAG SPACEBOY DESIGN",
          "LUNCH BOX WITH CUTLERY RETROSPOT",
          "PLASTERS IN TIN CIRCUS PARADE,POSTAGE",
          "STRAWBERRY LUNCH BOX WITH CUTLERY",
          "LUNCH BOX WITH CUTLERY RETROSPOT",
          "LUNCH BAG SPACEBOY DESIGN",
          "PLASTERS IN TIN CIRCUS PARADE,PLASTERS IN TIN WOODLAND ANIMALS",
          "LUNCH BAG APPLE DESIGN",
          "PLASTERS IN TIN SPACEBOY",
          "POSTAGE,PLASTERS IN TIN WOODLAND ANIMALS",
          "LUNCH BAG RED RETROSPOT",
          "POSTAGE,PLASTERS IN TIN SPACEBOY",
          "PLASTERS IN TIN CIRCUS PARADE,POSTAGE",
          "POSTAGE,LUNCH BAG RED RETROSPOT",
          "LUNCH BAG SPACEBOY DESIGN",
          "LUNCH BOX WITH CUTLERY RETROSPOT,POSTAGE",
          "LUNCH BAG RED RETROSPOT",
          "SPACEBOY LUNCH BOX",
          "PLASTERS IN TIN CIRCUS PARADE,PLASTERS IN TIN WOODLAND ANIMALS",
          "LUNCH BAG SPACEBOY DESIGN,POSTAGE",
          "LUNCH BAG APPLE DESIGN",
          "LUNCH BAG SPACEBOY DESIGN",
          "POSTAGE,LUNCH BAG WOODLAND",
          "POSTAGE,LUNCH BAG RED RETROSPOT",
          "PLASTERS IN TIN SPACEBOY",
          "STRAWBERRY LUNCH BOX WITH CUTLERY",
          "POSTAGE,PLASTERS IN TIN SPACEBOY",
          "LUNCH BAG SPACEBOY DESIGN",
          "POSTAGE,LUNCH BAG RED RETROSPOT",
          "LUNCH BAG SPACEBOY DESIGN",
          "LUNCH BAG APPLE DESIGN",
          "POSTAGE,DOLLY GIRL LUNCH BOX",
          "LUNCH BAG WOODLAND",
          "LUNCH BAG RED RETROSPOT",
          "LUNCH BAG DOLLY GIRL DESIGN",
          "LUNCH BAG APPLE DESIGN,POSTAGE",
          "LUNCH BAG WOODLAND",
          "STRAWBERRY LUNCH BOX WITH CUTLERY,POSTAGE",
          "PLASTERS IN TIN SPACEBOY,PLASTERS IN TIN WOODLAND ANIMALS",
          "LUNCH BAG SPACEBOY DESIGN,POSTAGE",
          "ROUND SNACK BOXES SET OF 4 FRUITS",
          "PLASTERS IN TIN CIRCUS PARADE,PLASTERS IN TIN SPACEBOY",
          "LUNCH BAG APPLE DESIGN,POSTAGE",
          "ROUND SNACK BOXES SET OF 4 FRUITS",
          "PLASTERS IN TIN CIRCUS PARADE,POSTAGE,PLASTERS IN TIN WOODLAND ANIMALS",
          "PLASTERS IN TIN CIRCUS PARADE,PLASTERS IN TIN SPACEBOY",
          "LUNCH BAG SPACEBOY DESIGN",
          "RED TOADSTOOL LED NIGHT LIGHT",
          "ROUND SNACK BOXES SET OF 4 FRUITS,POSTAGE",
          "LUNCH BOX WITH CUTLERY RETROSPOT",
          "ROUND SNACK BOXES SET OF4 WOODLAND",
          "PLASTERS IN TIN CIRCUS PARADE",
          "LUNCH BAG WOODLAND",
          "PLASTERS IN TIN SPACEBOY,PLASTERS IN TIN WOODLAND ANIMALS",
          "RED RETROSPOT MINI CASES",
          "LUNCH BAG RED RETROSPOT",
          "LUNCH BAG SPACEBOY DESIGN,POSTAGE",
          "SPACEBOY LUNCH BOX",
          "PLASTERS IN TIN STRONGMAN",
          "RED TOADSTOOL LED NIGHT LIGHT",
          "PLASTERS IN TIN CIRCUS PARADE",
          "PLASTERS IN TIN WOODLAND ANIMALS",
          "POSTAGE,LUNCH BAG WOODLAND",
          "LUNCH BOX WITH CUTLERY RETROSPOT",
          "ALARM CLOCK BAKELIKE RED",
          "RED RETROSPOT MINI CASES",
          "PLASTERS IN TIN CIRCUS PARADE",
          "PLASTERS IN TIN SPACEBOY,POSTAGE,PLASTERS IN TIN WOODLAND ANIMALS",
          "ROUND SNACK BOXES SET OF4 WOODLAND",
          "PLASTERS IN TIN CIRCUS PARADE,POSTAGE,PLASTERS IN TIN SPACEBOY",
          "RED TOADSTOOL LED NIGHT LIGHT,POSTAGE",
          "RED TOADSTOOL LED NIGHT LIGHT",
          "RED RETROSPOT MINI CASES",
          "RED TOADSTOOL LED NIGHT LIGHT,POSTAGE",
          "RED TOADSTOOL LED NIGHT LIGHT",
          "POSTAGE,PLASTERS IN TIN WOODLAND ANIMALS",
          "PLASTERS IN TIN WOODLAND ANIMALS",
          "RABBIT NIGHT LIGHT",
          "RED TOADSTOOL LED NIGHT LIGHT",
          "PLASTERS IN TIN CIRCUS PARADE,POSTAGE",
          "PLASTERS IN TIN CIRCUS PARADE",
          "RABBIT NIGHT LIGHT",
          "RED TOADSTOOL LED NIGHT LIGHT",
          "ROUND SNACK BOXES SET OF4 WOODLAND",
          "PLASTERS IN TIN CIRCUS PARADE",
          "PLASTERS IN TIN WOODLAND ANIMALS",
          "LUNCH BAG RED RETROSPOT",
          "SET/6 RED SPOTTY PAPER CUPS",
          "STRAWBERRY LUNCH BOX WITH CUTLERY",
          "PLASTERS IN TIN SPACEBOY",
          "RED RETROSPOT MINI CASES",
          "LUNCH BOX WITH CUTLERY RETROSPOT",
          "SET/20 RED RETROSPOT PAPER NAPKINS",
          "SET/6 RED SPOTTY PAPER PLATES",
          "LUNCH BAG APPLE DESIGN",
          "REGENCY CAKESTAND 3 TIER",
          "LUNCH BAG WOODLAND",
          "SET/6 RED SPOTTY PAPER CUPS,SET/6 RED SPOTTY PAPER PLATES",
          "SPACEBOY LUNCH BOX",
          "ROUND SNACK BOXES SET OF 4 FRUITS",
          "LUNCH BAG SPACEBOY DESIGN",
          "TEA PARTY BIRTHDAY CARD",
          "ALARM CLOCK BAKELIKE PINK",
          "ALARM CLOCK BAKELIKE RED",
          "ALARM CLOCK BAKELIKE GREEN",
          "PACK OF 72 RETROSPOT CAKE CASES",
          "PLASTERS IN TIN CIRCUS PARADE,PLASTERS IN TIN WOODLAND ANIMALS",
          "SET/20 RED RETROSPOT PAPER NAPKINS,SET/6 RED SPOTTY PAPER CUPS",
          "SET/20 RED RETROSPOT PAPER NAPKINS,SET/6 RED SPOTTY PAPER PLATES",
          "PLASTERS IN TIN SPACEBOY,PLASTERS IN TIN WOODLAND ANIMALS",
          "JUMBO BAG RED RETROSPOT",
          "RED RETROSPOT CHARLOTTE BAG",
          "SET/20 RED RETROSPOT PAPER NAPKINS,SET/6 RED SPOTTY PAPER CUPS,SET/6 RED SPOTTY PAPER PLATES",
          "MINI PAINT SET VINTAGE",
          "JUMBO BAG WOODLAND ANIMALS",
          "PLASTERS IN TIN CIRCUS PARADE,PLASTERS IN TIN SPACEBOY",
          "ALARM CLOCK BAKELIKE GREEN,ALARM CLOCK BAKELIKE RED",
          "PAPER BUNTING RETROSPOT",
          "RED RETROSPOT PICNIC BAG",
          "WOODLAND CHARLOTTE BAG",
          "ALARM CLOCK BAKELIKE RED,ALARM CLOCK BAKELIKE PINK",
          "SET OF 9 BLACK SKULL BALLOONS",
          "ASSORTED COLOUR MINI CASES",
          "SET OF 2 TEA TOWELS APPLE AND PEARS",
          "SET/10 RED POLKADOT PARTY CANDLES",
          "PLASTERS IN TIN STRONGMAN",
          "PACK OF 6 SKULL PAPER CUPS",
          "LUNCH BAG APPLE DESIGN,LUNCH BAG RED RETROSPOT",
          "COFFEE MUG APPLES DESIGN",
          "ALARM CLOCK BAKELIKE GREEN,ALARM CLOCK BAKELIKE PINK",
          "RETROSPOT PARTY BAG + STICKER SET",
          "STRAWBERRY LUNCH BOX WITH CUTLERY,LUNCH BOX WITH CUTLERY RETROSPOT",
          "ROUND SNACK BOXES SET OF 4 FRUITS,ROUND SNACK BOXES SET OF4 WOODLAND",
          "CHARLOTTE BAG DOLLY GIRL DESIGN",
          "JUMBO BAG APPLES",
          "GUMBALL COAT RACK",
          "JUMBO BAG SPACEBOY DESIGN",
          "ALARM CLOCK BAKELIKE GREEN,ALARM CLOCK BAKELIKE RED,ALARM CLOCK BAKELIKE PINK",
          "SET OF 9 HEART SHAPED BALLOONS",
          "4 TRADITIONAL SPINNING TOPS",
          "SPACEBOY BIRTHDAY CARD",
          "RED TOADSTOOL LED NIGHT LIGHT,PLASTERS IN TIN WOODLAND ANIMALS",
          "PACK OF 6 SKULL PAPER PLATES",
          "LUNCH BAG SPACEBOY DESIGN,LUNCH BAG WOODLAND",
          "CHILDRENS APRON SPACEBOY DESIGN",
          "LUNCH BAG SPACEBOY DESIGN,LUNCH BAG RED RETROSPOT",
          "CHARLOTTE BAG APPLES DESIGN",
          "CIRCUS PARADE LUNCH BOX",
          "LUNCH BOX I LOVE LONDON",
          "PLASTERS IN TIN SPACEBOY,PLASTERS IN TIN CIRCUS PARADE,PLASTERS IN TIN WOODLAND ANIMALS",
          "RED TOADSTOOL LED NIGHT LIGHT,PLASTERS IN TIN CIRCUS PARADE",
          "JAM MAKING SET PRINTED",
          "CIRCUS PARADE CHILDRENS EGG CUP",
          "PARTY BUNTING",
          "LUNCH BAG WOODLAND,LUNCH BAG RED RETROSPOT",
          "LUNCH BAG SPACEBOY DESIGN,LUNCH BAG APPLE DESIGN"
         ],
         "xaxis": "x",
         "y": [
          "JUMBO BAG WOODLAND ANIMALS",
          "RED TOADSTOOL LED NIGHT LIGHT,PLASTERS IN TIN CIRCUS PARADE",
          "RED TOADSTOOL LED NIGHT LIGHT,PLASTERS IN TIN WOODLAND ANIMALS",
          "SET/20 RED RETROSPOT PAPER NAPKINS,SET/6 RED SPOTTY PAPER CUPS",
          "SET/20 RED RETROSPOT PAPER NAPKINS,SET/6 RED SPOTTY PAPER PLATES",
          "SET/20 RED RETROSPOT PAPER NAPKINS,SET/6 RED SPOTTY PAPER CUPS,POSTAGE",
          "SET/20 RED RETROSPOT PAPER NAPKINS,POSTAGE,SET/6 RED SPOTTY PAPER PLATES",
          "RED RETROSPOT PICNIC BAG",
          "SET OF 9 BLACK SKULL BALLOONS",
          "SET/6 RED SPOTTY PAPER PLATES",
          "PACK OF 6 SKULL PAPER CUPS",
          "RETROSPOT PARTY BAG + STICKER SET",
          "GUMBALL COAT RACK",
          "PACK OF 6 SKULL PAPER PLATES",
          "POSTAGE,SET/6 RED SPOTTY PAPER PLATES",
          "JAM MAKING SET PRINTED",
          "TEA PARTY BIRTHDAY CARD",
          "STRAWBERRY LUNCH BOX WITH CUTLERY",
          "ROUND SNACK BOXES SET OF4 WOODLAND",
          "CHILDRENS CUTLERY SPACEBOY",
          "ASSORTED COLOUR MINI CASES",
          "SET OF 2 TEA TOWELS APPLE AND PEARS",
          "LUNCH BAG APPLE DESIGN,LUNCH BAG RED RETROSPOT",
          "STRAWBERRY LUNCH BOX WITH CUTLERY,LUNCH BOX WITH CUTLERY RETROSPOT",
          "ROUND SNACK BOXES SET OF 4 FRUITS,ROUND SNACK BOXES SET OF4 WOODLAND",
          "ALARM CLOCK BAKELIKE RED",
          "ALARM CLOCK BAKELIKE GREEN,ALARM CLOCK BAKELIKE PINK,POSTAGE",
          "PACK OF 6 SKULL PAPER PLATES",
          "CIRCUS PARADE CHILDRENS EGG CUP",
          "PARTY BUNTING",
          "LUNCH BAG WOODLAND,LUNCH BAG RED RETROSPOT",
          "ALARM CLOCK BAKELIKE GREEN,ALARM CLOCK BAKELIKE RED",
          "WOODLAND CHARLOTTE BAG",
          "ALARM CLOCK BAKELIKE RED,ALARM CLOCK BAKELIKE PINK",
          "CHILDRENS CUTLERY DOLLY GIRL",
          "SET/6 RED SPOTTY PAPER CUPS",
          "COFFEE MUG APPLES DESIGN",
          "CHARLOTTE BAG DOLLY GIRL DESIGN",
          "JUMBO BAG APPLES",
          "ROUND SNACK BOXES SET OF 4 FRUITS",
          "JUMBO BAG SPACEBOY DESIGN",
          "ALARM CLOCK BAKELIKE GREEN,ALARM CLOCK BAKELIKE RED,ALARM CLOCK BAKELIKE PINK",
          "PLASTERS IN TIN CIRCUS PARADE",
          "RABBIT NIGHT LIGHT",
          "ALARM CLOCK BAKELIKE PINK",
          "PAPER BUNTING RETROSPOT",
          "RED TOADSTOOL LED NIGHT LIGHT",
          "SET/6 RED SPOTTY PAPER CUPS,POSTAGE",
          "LUNCH BAG WOODLAND",
          "ALARM CLOCK BAKELIKE GREEN",
          "ALARM CLOCK BAKELIKE GREEN,ALARM CLOCK BAKELIKE PINK",
          "ALARM CLOCK BAKELIKE RED,ALARM CLOCK BAKELIKE PINK",
          "SET/6 RED SPOTTY PAPER CUPS",
          "ALARM CLOCK BAKELIKE GREEN,POSTAGE",
          "ALARM CLOCK BAKELIKE RED,ALARM CLOCK BAKELIKE PINK,POSTAGE",
          "SET OF 9 HEART SHAPED BALLOONS",
          "JUMBO BAG RED RETROSPOT",
          "RED RETROSPOT CHARLOTTE BAG",
          "SET/6 RED SPOTTY PAPER PLATES",
          "LUNCH BAG SPACEBOY DESIGN,LUNCH BAG WOODLAND",
          "ALARM CLOCK BAKELIKE RED",
          "LUNCH BAG APPLE DESIGN",
          "REGENCY CAKESTAND 3 TIER",
          "PLASTERS IN TIN SPACEBOY",
          "RED RETROSPOT MINI CASES",
          "SET/10 RED POLKADOT PARTY CANDLES",
          "SET/6 RED SPOTTY PAPER CUPS,SET/6 RED SPOTTY PAPER PLATES",
          "PLASTERS IN TIN CIRCUS PARADE,PLASTERS IN TIN SPACEBOY",
          "ALARM CLOCK BAKELIKE GREEN,ALARM CLOCK BAKELIKE PINK",
          "SET/20 RED RETROSPOT PAPER NAPKINS",
          "PACK OF 72 RETROSPOT CAKE CASES",
          "PLASTERS IN TIN CIRCUS PARADE,PLASTERS IN TIN WOODLAND ANIMALS",
          "SET/20 RED RETROSPOT PAPER NAPKINS,SET/6 RED SPOTTY PAPER CUPS",
          "SET/20 RED RETROSPOT PAPER NAPKINS,SET/6 RED SPOTTY PAPER PLATES",
          "ALARM CLOCK BAKELIKE RED,POSTAGE",
          "SET/20 RED RETROSPOT PAPER NAPKINS,SET/6 RED SPOTTY PAPER CUPS,SET/6 RED SPOTTY PAPER PLATES",
          "ALARM CLOCK BAKELIKE GREEN",
          "SET/6 RED SPOTTY PAPER CUPS,SET/6 RED SPOTTY PAPER PLATES",
          "CHILDRENS APRON SPACEBOY DESIGN",
          "LUNCH BAG SPACEBOY DESIGN,LUNCH BAG RED RETROSPOT",
          "ALARM CLOCK BAKELIKE GREEN,ALARM CLOCK BAKELIKE RED",
          "PLASTERS IN TIN WOODLAND ANIMALS",
          "PLASTERS IN TIN SPACEBOY,PLASTERS IN TIN WOODLAND ANIMALS",
          "LUNCH BOX WITH CUTLERY RETROSPOT",
          "PACK OF 6 SKULL PAPER CUPS",
          "SET/6 RED SPOTTY PAPER PLATES",
          "SET/6 RED SPOTTY PAPER PLATES",
          "LUNCH BAG SPACEBOY DESIGN,LUNCH BAG APPLE DESIGN",
          "SET/20 RED RETROSPOT PAPER NAPKINS,SET/6 RED SPOTTY PAPER CUPS",
          "SET/20 RED RETROSPOT PAPER NAPKINS,SET/6 RED SPOTTY PAPER PLATES",
          "SET/6 RED SPOTTY PAPER CUPS,POSTAGE,SET/6 RED SPOTTY PAPER PLATES",
          "LUNCH BAG RED RETROSPOT",
          "ALARM CLOCK BAKELIKE GREEN,ALARM CLOCK BAKELIKE RED,POSTAGE",
          "4 TRADITIONAL SPINNING TOPS",
          "SPACEBOY BIRTHDAY CARD",
          "POSTAGE,SET/6 RED SPOTTY PAPER PLATES",
          "ALARM CLOCK BAKELIKE RED",
          "PLASTERS IN TIN STRONGMAN",
          "MINI PAINT SET VINTAGE",
          "SET/6 RED SPOTTY PAPER PLATES",
          "CHARLOTTE BAG APPLES DESIGN",
          "CIRCUS PARADE LUNCH BOX",
          "LUNCH BOX I LOVE LONDON",
          "PLASTERS IN TIN SPACEBOY,PLASTERS IN TIN CIRCUS PARADE,PLASTERS IN TIN WOODLAND ANIMALS",
          "SPACEBOY LUNCH BOX",
          "PLASTERS IN TIN CIRCUS PARADE,PLASTERS IN TIN SPACEBOY",
          "SET/20 RED RETROSPOT PAPER NAPKINS",
          "SET/20 RED RETROSPOT PAPER NAPKINS",
          "SET/20 RED RETROSPOT PAPER NAPKINS,POSTAGE",
          "SET/20 RED RETROSPOT PAPER NAPKINS,POSTAGE",
          "LUNCH BAG SPACEBOY DESIGN",
          "ALARM CLOCK BAKELIKE RED,POSTAGE",
          "ALARM CLOCK BAKELIKE GREEN",
          "POSTAGE,SET/6 RED SPOTTY PAPER PLATES",
          "PLASTERS IN TIN SPACEBOY",
          "ALARM CLOCK BAKELIKE RED,ALARM CLOCK BAKELIKE PINK",
          "ALARM CLOCK BAKELIKE GREEN,ALARM CLOCK BAKELIKE PINK",
          "ALARM CLOCK BAKELIKE RED",
          "SET/20 RED RETROSPOT PAPER NAPKINS",
          "SET/20 RED RETROSPOT PAPER NAPKINS,POSTAGE",
          "ALARM CLOCK BAKELIKE PINK,POSTAGE",
          "SET/6 RED SPOTTY PAPER CUPS",
          "SET/6 RED SPOTTY PAPER CUPS",
          "ALARM CLOCK BAKELIKE GREEN",
          "POSTAGE,PLASTERS IN TIN SPACEBOY",
          "ALARM CLOCK BAKELIKE GREEN,POSTAGE",
          "ALARM CLOCK BAKELIKE PINK",
          "ALARM CLOCK BAKELIKE PINK",
          "POSTAGE,DOLLY GIRL LUNCH BOX",
          "PLASTERS IN TIN CIRCUS PARADE,POSTAGE,PLASTERS IN TIN SPACEBOY",
          "SET/6 RED SPOTTY PAPER CUPS",
          "PLASTERS IN TIN STRONGMAN",
          "DOLLY GIRL LUNCH BOX",
          "SET/6 RED SPOTTY PAPER CUPS,POSTAGE",
          "ALARM CLOCK BAKELIKE GREEN,ALARM CLOCK BAKELIKE RED",
          "ALARM CLOCK BAKELIKE RED",
          "SET/6 RED SPOTTY PAPER CUPS,POSTAGE",
          "ALARM CLOCK BAKELIKE PINK,POSTAGE",
          "ALARM CLOCK BAKELIKE RED",
          "PLASTERS IN TIN CIRCUS PARADE,PLASTERS IN TIN WOODLAND ANIMALS",
          "ALARM CLOCK BAKELIKE GREEN,POSTAGE",
          "SET/6 RED SPOTTY PAPER CUPS,SET/6 RED SPOTTY PAPER PLATES",
          "SET/6 RED SPOTTY PAPER PLATES",
          "PLASTERS IN TIN SPACEBOY,PLASTERS IN TIN WOODLAND ANIMALS",
          "ALARM CLOCK BAKELIKE GREEN",
          "ALARM CLOCK BAKELIKE PINK",
          "PLASTERS IN TIN SPACEBOY",
          "ALARM CLOCK BAKELIKE RED,POSTAGE",
          "POSTAGE,PLASTERS IN TIN SPACEBOY",
          "SET/6 RED SPOTTY PAPER PLATES",
          "PLASTERS IN TIN CIRCUS PARADE,POSTAGE,PLASTERS IN TIN WOODLAND ANIMALS",
          "PLASTERS IN TIN SPACEBOY,POSTAGE,PLASTERS IN TIN WOODLAND ANIMALS",
          "SET/20 RED RETROSPOT PAPER NAPKINS",
          "SET/20 RED RETROSPOT PAPER NAPKINS",
          "ALARM CLOCK BAKELIKE GREEN",
          "ALARM CLOCK BAKELIKE PINK,POSTAGE",
          "ALARM CLOCK BAKELIKE PINK",
          "ROUND SNACK BOXES SET OF 4 FRUITS,POSTAGE",
          "SET/20 RED RETROSPOT PAPER NAPKINS",
          "PLASTERS IN TIN WOODLAND ANIMALS",
          "SET/6 RED SPOTTY PAPER CUPS",
          "POSTAGE,PLASTERS IN TIN WOODLAND ANIMALS",
          "PLASTERS IN TIN SPACEBOY",
          "POSTAGE,PLASTERS IN TIN WOODLAND ANIMALS",
          "LUNCH BAG DOLLY GIRL DESIGN",
          "PLASTERS IN TIN CIRCUS PARADE",
          "ALARM CLOCK BAKELIKE PINK",
          "PLASTERS IN TIN CIRCUS PARADE,PLASTERS IN TIN SPACEBOY",
          "PLASTERS IN TIN WOODLAND ANIMALS",
          "ROUND SNACK BOXES SET OF 4 FRUITS",
          "ALARM CLOCK BAKELIKE RED",
          "SET/6 RED SPOTTY PAPER CUPS",
          "LUNCH BAG APPLE DESIGN,POSTAGE",
          "LUNCH BAG SPACEBOY DESIGN,POSTAGE",
          "LUNCH BAG SPACEBOY DESIGN,POSTAGE",
          "ALARM CLOCK BAKELIKE GREEN",
          "SPACEBOY LUNCH BOX",
          "PLASTERS IN TIN CIRCUS PARADE,POSTAGE",
          "LUNCH BAG SPACEBOY DESIGN,POSTAGE",
          "LUNCH BAG SPACEBOY DESIGN",
          "POSTAGE,SPACEBOY LUNCH BOX",
          "ALARM CLOCK BAKELIKE PINK",
          "ROUND SNACK BOXES SET OF 4 FRUITS",
          "LUNCH BAG WOODLAND",
          "ALARM CLOCK BAKELIKE RED",
          "DOLLY GIRL LUNCH BOX",
          "PLASTERS IN TIN SPACEBOY",
          "LUNCH BAG SPACEBOY DESIGN",
          "LUNCH BAG SPACEBOY DESIGN",
          "LUNCH BAG APPLE DESIGN",
          "PLASTERS IN TIN CIRCUS PARADE",
          "PLASTERS IN TIN CIRCUS PARADE,PLASTERS IN TIN WOODLAND ANIMALS",
          "POSTAGE,LUNCH BAG WOODLAND",
          "STRAWBERRY LUNCH BOX WITH CUTLERY",
          "PLASTERS IN TIN SPACEBOY,PLASTERS IN TIN WOODLAND ANIMALS",
          "LUNCH BOX WITH CUTLERY RETROSPOT,POSTAGE",
          "STRAWBERRY LUNCH BOX WITH CUTLERY,POSTAGE",
          "LUNCH BAG APPLE DESIGN",
          "PLASTERS IN TIN SPACEBOY",
          "POSTAGE,LUNCH BAG RED RETROSPOT",
          "PLASTERS IN TIN CIRCUS PARADE,POSTAGE",
          "PLASTERS IN TIN CIRCUS PARADE",
          "POSTAGE,LUNCH BAG WOODLAND",
          "PLASTERS IN TIN WOODLAND ANIMALS",
          "PLASTERS IN TIN WOODLAND ANIMALS",
          "LUNCH BAG APPLE DESIGN",
          "LUNCH BAG APPLE DESIGN,POSTAGE",
          "STRAWBERRY LUNCH BOX WITH CUTLERY",
          "LUNCH BAG WOODLAND",
          "LUNCH BAG SPACEBOY DESIGN",
          "POSTAGE,PLASTERS IN TIN SPACEBOY",
          "LUNCH BAG WOODLAND",
          "LUNCH BAG WOODLAND",
          "SPACEBOY LUNCH BOX",
          "LUNCH BAG SPACEBOY DESIGN",
          "LUNCH BAG SPACEBOY DESIGN",
          "LUNCH BAG SPACEBOY DESIGN",
          "LUNCH BOX WITH CUTLERY RETROSPOT",
          "PLASTERS IN TIN CIRCUS PARADE",
          "POSTAGE,LUNCH BAG RED RETROSPOT",
          "LUNCH BAG WOODLAND",
          "LUNCH BAG RED RETROSPOT",
          "LUNCH BAG RED RETROSPOT",
          "SPACEBOY LUNCH BOX",
          "LUNCH BAG APPLE DESIGN",
          "SPACEBOY LUNCH BOX",
          "LUNCH BAG SPACEBOY DESIGN",
          "LUNCH BAG SPACEBOY DESIGN",
          "POSTAGE,LUNCH BAG RED RETROSPOT",
          "LUNCH BOX WITH CUTLERY RETROSPOT",
          "PLASTERS IN TIN CIRCUS PARADE",
          "LUNCH BAG APPLE DESIGN",
          "ROUND SNACK BOXES SET OF4 WOODLAND",
          "PLASTERS IN TIN WOODLAND ANIMALS",
          "LUNCH BAG RED RETROSPOT",
          "POSTAGE,ROUND SNACK BOXES SET OF4 WOODLAND",
          "PLASTERS IN TIN SPACEBOY",
          "POSTAGE,PLASTERS IN TIN WOODLAND ANIMALS",
          "PLASTERS IN TIN SPACEBOY",
          "POSTAGE,PLASTERS IN TIN WOODLAND ANIMALS",
          "ROUND SNACK BOXES SET OF4 WOODLAND",
          "RED RETROSPOT MINI CASES",
          "RED RETROSPOT MINI CASES",
          "RED RETROSPOT MINI CASES",
          "LUNCH BAG RED RETROSPOT",
          "PLASTERS IN TIN CIRCUS PARADE,POSTAGE",
          "LUNCH BOX WITH CUTLERY RETROSPOT",
          "LUNCH BOX WITH CUTLERY RETROSPOT",
          "LUNCH BAG RED RETROSPOT",
          "LUNCH BAG RED RETROSPOT",
          "PLASTERS IN TIN CIRCUS PARADE",
          "PLASTERS IN TIN CIRCUS PARADE,POSTAGE",
          "ROUND SNACK BOXES SET OF4 WOODLAND",
          "RED TOADSTOOL LED NIGHT LIGHT,POSTAGE",
          "LUNCH BAG RED RETROSPOT",
          "LUNCH BAG RED RETROSPOT",
          "ROUND SNACK BOXES SET OF4 WOODLAND",
          "ROUND SNACK BOXES SET OF4 WOODLAND",
          "RED TOADSTOOL LED NIGHT LIGHT,POSTAGE",
          "PLASTERS IN TIN CIRCUS PARADE",
          "PLASTERS IN TIN CIRCUS PARADE",
          "PLASTERS IN TIN WOODLAND ANIMALS",
          "PLASTERS IN TIN WOODLAND ANIMALS",
          "PLASTERS IN TIN WOODLAND ANIMALS",
          "PLASTERS IN TIN CIRCUS PARADE",
          "PLASTERS IN TIN CIRCUS PARADE",
          "PLASTERS IN TIN CIRCUS PARADE",
          "RED TOADSTOOL LED NIGHT LIGHT",
          "RED TOADSTOOL LED NIGHT LIGHT",
          "RED TOADSTOOL LED NIGHT LIGHT",
          "RABBIT NIGHT LIGHT",
          "RED TOADSTOOL LED NIGHT LIGHT",
          "RED TOADSTOOL LED NIGHT LIGHT",
          "POSTAGE",
          "POSTAGE",
          "POSTAGE",
          "POSTAGE",
          "POSTAGE",
          "POSTAGE",
          "POSTAGE",
          "POSTAGE",
          "POSTAGE",
          "POSTAGE",
          "POSTAGE",
          "POSTAGE",
          "POSTAGE",
          "POSTAGE",
          "POSTAGE",
          "POSTAGE",
          "POSTAGE",
          "POSTAGE",
          "POSTAGE",
          "POSTAGE",
          "POSTAGE",
          "POSTAGE",
          "POSTAGE",
          "POSTAGE",
          "POSTAGE",
          "POSTAGE",
          "POSTAGE",
          "POSTAGE",
          "POSTAGE",
          "POSTAGE",
          "POSTAGE",
          "POSTAGE",
          "POSTAGE",
          "POSTAGE",
          "POSTAGE",
          "POSTAGE",
          "POSTAGE",
          "POSTAGE",
          "POSTAGE",
          "POSTAGE",
          "POSTAGE",
          "POSTAGE",
          "POSTAGE",
          "POSTAGE",
          "POSTAGE",
          "POSTAGE",
          "POSTAGE",
          "POSTAGE",
          "POSTAGE",
          "POSTAGE",
          "POSTAGE",
          "POSTAGE",
          "POSTAGE",
          "POSTAGE",
          "POSTAGE",
          "POSTAGE",
          "POSTAGE",
          "POSTAGE",
          "POSTAGE",
          "POSTAGE",
          "POSTAGE",
          "POSTAGE",
          "POSTAGE",
          "POSTAGE",
          "POSTAGE",
          "POSTAGE",
          "POSTAGE",
          "POSTAGE",
          "POSTAGE",
          "POSTAGE",
          "POSTAGE",
          "POSTAGE",
          "POSTAGE",
          "POSTAGE",
          "POSTAGE"
         ],
         "yaxis": "y"
        }
       ],
       "layout": {
        "coloraxis": {
         "colorbar": {
          "title": {
           "text": "confidence"
          }
         },
         "colorscale": [
          [
           0,
           "#0d0887"
          ],
          [
           0.1111111111111111,
           "#46039f"
          ],
          [
           0.2222222222222222,
           "#7201a8"
          ],
          [
           0.3333333333333333,
           "#9c179e"
          ],
          [
           0.4444444444444444,
           "#bd3786"
          ],
          [
           0.5555555555555556,
           "#d8576b"
          ],
          [
           0.6666666666666666,
           "#ed7953"
          ],
          [
           0.7777777777777778,
           "#fb9f3a"
          ],
          [
           0.8888888888888888,
           "#fdca26"
          ],
          [
           1,
           "#f0f921"
          ]
         ]
        },
        "height": 1600,
        "legend": {
         "tracegroupgap": 0
        },
        "margin": {
         "b": 500,
         "l": 500,
         "pad": 4,
         "r": 150,
         "t": 100
        },
        "template": {
         "data": {
          "bar": [
           {
            "error_x": {
             "color": "#2a3f5f"
            },
            "error_y": {
             "color": "#2a3f5f"
            },
            "marker": {
             "line": {
              "color": "#E5ECF6",
              "width": 0.5
             }
            },
            "type": "bar"
           }
          ],
          "barpolar": [
           {
            "marker": {
             "line": {
              "color": "#E5ECF6",
              "width": 0.5
             }
            },
            "type": "barpolar"
           }
          ],
          "carpet": [
           {
            "aaxis": {
             "endlinecolor": "#2a3f5f",
             "gridcolor": "white",
             "linecolor": "white",
             "minorgridcolor": "white",
             "startlinecolor": "#2a3f5f"
            },
            "baxis": {
             "endlinecolor": "#2a3f5f",
             "gridcolor": "white",
             "linecolor": "white",
             "minorgridcolor": "white",
             "startlinecolor": "#2a3f5f"
            },
            "type": "carpet"
           }
          ],
          "choropleth": [
           {
            "colorbar": {
             "outlinewidth": 0,
             "ticks": ""
            },
            "type": "choropleth"
           }
          ],
          "contour": [
           {
            "colorbar": {
             "outlinewidth": 0,
             "ticks": ""
            },
            "colorscale": [
             [
              0,
              "#0d0887"
             ],
             [
              0.1111111111111111,
              "#46039f"
             ],
             [
              0.2222222222222222,
              "#7201a8"
             ],
             [
              0.3333333333333333,
              "#9c179e"
             ],
             [
              0.4444444444444444,
              "#bd3786"
             ],
             [
              0.5555555555555556,
              "#d8576b"
             ],
             [
              0.6666666666666666,
              "#ed7953"
             ],
             [
              0.7777777777777778,
              "#fb9f3a"
             ],
             [
              0.8888888888888888,
              "#fdca26"
             ],
             [
              1,
              "#f0f921"
             ]
            ],
            "type": "contour"
           }
          ],
          "contourcarpet": [
           {
            "colorbar": {
             "outlinewidth": 0,
             "ticks": ""
            },
            "type": "contourcarpet"
           }
          ],
          "heatmap": [
           {
            "colorbar": {
             "outlinewidth": 0,
             "ticks": ""
            },
            "colorscale": [
             [
              0,
              "#0d0887"
             ],
             [
              0.1111111111111111,
              "#46039f"
             ],
             [
              0.2222222222222222,
              "#7201a8"
             ],
             [
              0.3333333333333333,
              "#9c179e"
             ],
             [
              0.4444444444444444,
              "#bd3786"
             ],
             [
              0.5555555555555556,
              "#d8576b"
             ],
             [
              0.6666666666666666,
              "#ed7953"
             ],
             [
              0.7777777777777778,
              "#fb9f3a"
             ],
             [
              0.8888888888888888,
              "#fdca26"
             ],
             [
              1,
              "#f0f921"
             ]
            ],
            "type": "heatmap"
           }
          ],
          "heatmapgl": [
           {
            "colorbar": {
             "outlinewidth": 0,
             "ticks": ""
            },
            "colorscale": [
             [
              0,
              "#0d0887"
             ],
             [
              0.1111111111111111,
              "#46039f"
             ],
             [
              0.2222222222222222,
              "#7201a8"
             ],
             [
              0.3333333333333333,
              "#9c179e"
             ],
             [
              0.4444444444444444,
              "#bd3786"
             ],
             [
              0.5555555555555556,
              "#d8576b"
             ],
             [
              0.6666666666666666,
              "#ed7953"
             ],
             [
              0.7777777777777778,
              "#fb9f3a"
             ],
             [
              0.8888888888888888,
              "#fdca26"
             ],
             [
              1,
              "#f0f921"
             ]
            ],
            "type": "heatmapgl"
           }
          ],
          "histogram": [
           {
            "marker": {
             "colorbar": {
              "outlinewidth": 0,
              "ticks": ""
             }
            },
            "type": "histogram"
           }
          ],
          "histogram2d": [
           {
            "colorbar": {
             "outlinewidth": 0,
             "ticks": ""
            },
            "colorscale": [
             [
              0,
              "#0d0887"
             ],
             [
              0.1111111111111111,
              "#46039f"
             ],
             [
              0.2222222222222222,
              "#7201a8"
             ],
             [
              0.3333333333333333,
              "#9c179e"
             ],
             [
              0.4444444444444444,
              "#bd3786"
             ],
             [
              0.5555555555555556,
              "#d8576b"
             ],
             [
              0.6666666666666666,
              "#ed7953"
             ],
             [
              0.7777777777777778,
              "#fb9f3a"
             ],
             [
              0.8888888888888888,
              "#fdca26"
             ],
             [
              1,
              "#f0f921"
             ]
            ],
            "type": "histogram2d"
           }
          ],
          "histogram2dcontour": [
           {
            "colorbar": {
             "outlinewidth": 0,
             "ticks": ""
            },
            "colorscale": [
             [
              0,
              "#0d0887"
             ],
             [
              0.1111111111111111,
              "#46039f"
             ],
             [
              0.2222222222222222,
              "#7201a8"
             ],
             [
              0.3333333333333333,
              "#9c179e"
             ],
             [
              0.4444444444444444,
              "#bd3786"
             ],
             [
              0.5555555555555556,
              "#d8576b"
             ],
             [
              0.6666666666666666,
              "#ed7953"
             ],
             [
              0.7777777777777778,
              "#fb9f3a"
             ],
             [
              0.8888888888888888,
              "#fdca26"
             ],
             [
              1,
              "#f0f921"
             ]
            ],
            "type": "histogram2dcontour"
           }
          ],
          "mesh3d": [
           {
            "colorbar": {
             "outlinewidth": 0,
             "ticks": ""
            },
            "type": "mesh3d"
           }
          ],
          "parcoords": [
           {
            "line": {
             "colorbar": {
              "outlinewidth": 0,
              "ticks": ""
             }
            },
            "type": "parcoords"
           }
          ],
          "pie": [
           {
            "automargin": true,
            "type": "pie"
           }
          ],
          "scatter": [
           {
            "marker": {
             "colorbar": {
              "outlinewidth": 0,
              "ticks": ""
             }
            },
            "type": "scatter"
           }
          ],
          "scatter3d": [
           {
            "line": {
             "colorbar": {
              "outlinewidth": 0,
              "ticks": ""
             }
            },
            "marker": {
             "colorbar": {
              "outlinewidth": 0,
              "ticks": ""
             }
            },
            "type": "scatter3d"
           }
          ],
          "scattercarpet": [
           {
            "marker": {
             "colorbar": {
              "outlinewidth": 0,
              "ticks": ""
             }
            },
            "type": "scattercarpet"
           }
          ],
          "scattergeo": [
           {
            "marker": {
             "colorbar": {
              "outlinewidth": 0,
              "ticks": ""
             }
            },
            "type": "scattergeo"
           }
          ],
          "scattergl": [
           {
            "marker": {
             "colorbar": {
              "outlinewidth": 0,
              "ticks": ""
             }
            },
            "type": "scattergl"
           }
          ],
          "scattermapbox": [
           {
            "marker": {
             "colorbar": {
              "outlinewidth": 0,
              "ticks": ""
             }
            },
            "type": "scattermapbox"
           }
          ],
          "scatterpolar": [
           {
            "marker": {
             "colorbar": {
              "outlinewidth": 0,
              "ticks": ""
             }
            },
            "type": "scatterpolar"
           }
          ],
          "scatterpolargl": [
           {
            "marker": {
             "colorbar": {
              "outlinewidth": 0,
              "ticks": ""
             }
            },
            "type": "scatterpolargl"
           }
          ],
          "scatterternary": [
           {
            "marker": {
             "colorbar": {
              "outlinewidth": 0,
              "ticks": ""
             }
            },
            "type": "scatterternary"
           }
          ],
          "surface": [
           {
            "colorbar": {
             "outlinewidth": 0,
             "ticks": ""
            },
            "colorscale": [
             [
              0,
              "#0d0887"
             ],
             [
              0.1111111111111111,
              "#46039f"
             ],
             [
              0.2222222222222222,
              "#7201a8"
             ],
             [
              0.3333333333333333,
              "#9c179e"
             ],
             [
              0.4444444444444444,
              "#bd3786"
             ],
             [
              0.5555555555555556,
              "#d8576b"
             ],
             [
              0.6666666666666666,
              "#ed7953"
             ],
             [
              0.7777777777777778,
              "#fb9f3a"
             ],
             [
              0.8888888888888888,
              "#fdca26"
             ],
             [
              1,
              "#f0f921"
             ]
            ],
            "type": "surface"
           }
          ],
          "table": [
           {
            "cells": {
             "fill": {
              "color": "#EBF0F8"
             },
             "line": {
              "color": "white"
             }
            },
            "header": {
             "fill": {
              "color": "#C8D4E3"
             },
             "line": {
              "color": "white"
             }
            },
            "type": "table"
           }
          ]
         },
         "layout": {
          "annotationdefaults": {
           "arrowcolor": "#2a3f5f",
           "arrowhead": 0,
           "arrowwidth": 1
          },
          "coloraxis": {
           "colorbar": {
            "outlinewidth": 0,
            "ticks": ""
           }
          },
          "colorscale": {
           "diverging": [
            [
             0,
             "#8e0152"
            ],
            [
             0.1,
             "#c51b7d"
            ],
            [
             0.2,
             "#de77ae"
            ],
            [
             0.3,
             "#f1b6da"
            ],
            [
             0.4,
             "#fde0ef"
            ],
            [
             0.5,
             "#f7f7f7"
            ],
            [
             0.6,
             "#e6f5d0"
            ],
            [
             0.7,
             "#b8e186"
            ],
            [
             0.8,
             "#7fbc41"
            ],
            [
             0.9,
             "#4d9221"
            ],
            [
             1,
             "#276419"
            ]
           ],
           "sequential": [
            [
             0,
             "#0d0887"
            ],
            [
             0.1111111111111111,
             "#46039f"
            ],
            [
             0.2222222222222222,
             "#7201a8"
            ],
            [
             0.3333333333333333,
             "#9c179e"
            ],
            [
             0.4444444444444444,
             "#bd3786"
            ],
            [
             0.5555555555555556,
             "#d8576b"
            ],
            [
             0.6666666666666666,
             "#ed7953"
            ],
            [
             0.7777777777777778,
             "#fb9f3a"
            ],
            [
             0.8888888888888888,
             "#fdca26"
            ],
            [
             1,
             "#f0f921"
            ]
           ],
           "sequentialminus": [
            [
             0,
             "#0d0887"
            ],
            [
             0.1111111111111111,
             "#46039f"
            ],
            [
             0.2222222222222222,
             "#7201a8"
            ],
            [
             0.3333333333333333,
             "#9c179e"
            ],
            [
             0.4444444444444444,
             "#bd3786"
            ],
            [
             0.5555555555555556,
             "#d8576b"
            ],
            [
             0.6666666666666666,
             "#ed7953"
            ],
            [
             0.7777777777777778,
             "#fb9f3a"
            ],
            [
             0.8888888888888888,
             "#fdca26"
            ],
            [
             1,
             "#f0f921"
            ]
           ]
          },
          "colorway": [
           "#636efa",
           "#EF553B",
           "#00cc96",
           "#ab63fa",
           "#FFA15A",
           "#19d3f3",
           "#FF6692",
           "#B6E880",
           "#FF97FF",
           "#FECB52"
          ],
          "font": {
           "color": "#2a3f5f"
          },
          "geo": {
           "bgcolor": "white",
           "lakecolor": "white",
           "landcolor": "#E5ECF6",
           "showlakes": true,
           "showland": true,
           "subunitcolor": "white"
          },
          "hoverlabel": {
           "align": "left"
          },
          "hovermode": "closest",
          "mapbox": {
           "style": "light"
          },
          "paper_bgcolor": "white",
          "plot_bgcolor": "#E5ECF6",
          "polar": {
           "angularaxis": {
            "gridcolor": "white",
            "linecolor": "white",
            "ticks": ""
           },
           "bgcolor": "#E5ECF6",
           "radialaxis": {
            "gridcolor": "white",
            "linecolor": "white",
            "ticks": ""
           }
          },
          "scene": {
           "xaxis": {
            "backgroundcolor": "#E5ECF6",
            "gridcolor": "white",
            "gridwidth": 2,
            "linecolor": "white",
            "showbackground": true,
            "ticks": "",
            "zerolinecolor": "white"
           },
           "yaxis": {
            "backgroundcolor": "#E5ECF6",
            "gridcolor": "white",
            "gridwidth": 2,
            "linecolor": "white",
            "showbackground": true,
            "ticks": "",
            "zerolinecolor": "white"
           },
           "zaxis": {
            "backgroundcolor": "#E5ECF6",
            "gridcolor": "white",
            "gridwidth": 2,
            "linecolor": "white",
            "showbackground": true,
            "ticks": "",
            "zerolinecolor": "white"
           }
          },
          "shapedefaults": {
           "line": {
            "color": "#2a3f5f"
           }
          },
          "ternary": {
           "aaxis": {
            "gridcolor": "white",
            "linecolor": "white",
            "ticks": ""
           },
           "baxis": {
            "gridcolor": "white",
            "linecolor": "white",
            "ticks": ""
           },
           "bgcolor": "#E5ECF6",
           "caxis": {
            "gridcolor": "white",
            "linecolor": "white",
            "ticks": ""
           }
          },
          "title": {
           "x": 0.05
          },
          "xaxis": {
           "automargin": true,
           "gridcolor": "white",
           "linecolor": "white",
           "ticks": "",
           "title": {
            "standoff": 15
           },
           "zerolinecolor": "white",
           "zerolinewidth": 2
          },
          "yaxis": {
           "automargin": true,
           "gridcolor": "white",
           "linecolor": "white",
           "ticks": "",
           "title": {
            "standoff": 15
           },
           "zerolinecolor": "white",
           "zerolinewidth": 2
          }
         }
        },
        "width": 1200,
        "xaxis": {
         "anchor": "y",
         "domain": [
          0,
          1
         ],
         "title": {
          "text": "consequents"
         }
        },
        "yaxis": {
         "anchor": "x",
         "domain": [
          0,
          1
         ],
         "title": {
          "text": "antecedents"
         }
        }
       }
      }
     },
     "metadata": {},
     "output_type": "display_data"
    }
   ],
   "source": [
    "import plotly.express as px\n",
    "\n",
    "plot1 = rules[[\"antecedents\" , \"consequents\" , \"support\" , \"confidence\" , \"lift\"]]\n",
    "plot1[\"antecedents\"] = plot1[\"antecedents\"].apply( lambda x : ','.join(list(x))).astype(\"unicode\")\n",
    "plot1[\"consequents\"] = plot1[\"consequents\"].apply(lambda x : ','.join(list(x))).astype(\"unicode\")\n",
    "# fig = px.scatter_3d( rules , x = \"support\" , y = \"confidence\" , z= \"lift\" ,color = \"lift\")\n",
    "# fig.show()\n",
    "\n",
    "fig = px.scatter( plot1 , x = \"consequents\" , y = \"antecedents\" , color = \"confidence\",width=1200, height=1600)\n",
    "fig.update_layout(margin=dict(\n",
    "        l=500,\n",
    "        r=150,\n",
    "        b=500,\n",
    "        t=100,\n",
    "        pad=4\n",
    "    ),)\n",
    "fig.show()"
   ]
  },
  {
   "cell_type": "code",
   "execution_count": 9,
   "metadata": {},
   "outputs": [
    {
     "data": {
      "application/vnd.plotly.v1+json": {
       "config": {
        "plotlyServerURL": "https://plot.ly"
       },
       "data": [
        {
         "hoverlabel": {
          "namelength": 0
         },
         "hovertemplate": "consequents=%{x}<br>antecedents=%{y}<br>support=%{marker.color}",
         "legendgroup": "",
         "marker": {
          "color": [
           0.07653061224489796,
           0.05102040816326531,
           0.05357142857142857,
           0.09948979591836735,
           0.09948979591836735,
           0.08163265306122448,
           0.08163265306122448,
           0.06887755102040816,
           0.06377551020408163,
           0.12244897959183673,
           0.061224489795918366,
           0.058673469387755105,
           0.05612244897959184,
           0.05357142857142857,
           0.10204081632653061,
           0.05102040816326531,
           0.08928571428571429,
           0.11479591836734694,
           0.14795918367346939,
           0.06377551020408163,
           0.06377551020408163,
           0.06377551020408163,
           0.061224489795918366,
           0.058673469387755105,
           0.058673469387755105,
           0.08673469387755102,
           0.05612244897959184,
           0.05102040816326531,
           0.05102040816326531,
           0.05102040816326531,
           0.05102040816326531,
           0.07142857142857142,
           0.0663265306122449,
           0.0663265306122449,
           0.06377551020408163,
           0.12244897959183673,
           0.061224489795918366,
           0.058673469387755105,
           0.058673469387755105,
           0.09438775510204081,
           0.05612244897959184,
           0.05612244897959184,
           0.14795918367346939,
           0.16581632653061223,
           0.08928571428571429,
           0.07142857142857142,
           0.15816326530612246,
           0.10204081632653061,
           0.10204081632653061,
           0.08418367346938775,
           0.06377551020408163,
           0.06377551020408163,
           0.11734693877551021,
           0.07142857142857142,
           0.05612244897959184,
           0.05612244897959184,
           0.08163265306122448,
           0.08163265306122448,
           0.10714285714285714,
           0.05357142857142857,
           0.07908163265306123,
           0.10459183673469388,
           0.10459183673469388,
           0.11479591836734694,
           0.11479591836734694,
           0.06377551020408163,
           0.10204081632653061,
           0.07397959183673469,
           0.061224489795918366,
           0.1096938775510204,
           0.08418367346938775,
           0.08418367346938775,
           0.08418367346938775,
           0.08418367346938775,
           0.07142857142857142,
           0.08163265306122448,
           0.07908163265306123,
           0.09948979591836735,
           0.05357142857142857,
           0.05357142857142857,
           0.06377551020408163,
           0.1377551020408163,
           0.08418367346938775,
           0.11479591836734694,
           0.05102040816326531,
           0.10204081632653061,
           0.10204081632653061,
           0.05102040816326531,
           0.08163265306122448,
           0.08163265306122448,
           0.08163265306122448,
           0.12244897959183673,
           0.05612244897959184,
           0.05612244897959184,
           0.05612244897959184,
           0.08418367346938775,
           0.07397959183673469,
           0.06377551020408163,
           0.08163265306122448,
           0.09948979591836735,
           0.05357142857142857,
           0.05357142857142857,
           0.05357142857142857,
           0.05357142857142857,
           0.09693877551020408,
           0.06887755102040816,
           0.10204081632653061,
           0.10204081632653061,
           0.08418367346938775,
           0.08418367346938775,
           0.09183673469387756,
           0.0663265306122449,
           0.07397959183673469,
           0.08163265306122448,
           0.10459183673469388,
           0.05612244897959184,
           0.05612244897959184,
           0.07142857142857142,
           0.09948979591836735,
           0.08163265306122448,
           0.0663265306122449,
           0.10204081632653061,
           0.10204081632653061,
           0.07142857142857142,
           0.08418367346938775,
           0.061224489795918366,
           0.07397959183673469,
           0.07397959183673469,
           0.05357142857142857,
           0.05357142857142857,
           0.09948979591836735,
           0.058673469387755105,
           0.07142857142857142,
           0.08418367346938775,
           0.05612244897959184,
           0.0663265306122449,
           0.08163265306122448,
           0.061224489795918366,
           0.06377551020408163,
           0.06887755102040816,
           0.05612244897959184,
           0.08163265306122448,
           0.08418367346938775,
           0.06887755102040816,
           0.06377551020408163,
           0.0663265306122449,
           0.08928571428571429,
           0.05612244897959184,
           0.07397959183673469,
           0.08163265306122448,
           0.05357142857142857,
           0.05357142857142857,
           0.08418367346938775,
           0.08418367346938775,
           0.061224489795918366,
           0.05612244897959184,
           0.06377551020408163,
           0.058673469387755105,
           0.08163265306122448,
           0.10459183673469388,
           0.08418367346938775,
           0.08418367346938775,
           0.08418367346938775,
           0.08418367346938775,
           0.05102040816326531,
           0.10204081632653061,
           0.061224489795918366,
           0.05357142857142857,
           0.10204081632653061,
           0.06377551020408163,
           0.05612244897959184,
           0.08163265306122448,
           0.061224489795918366,
           0.05357142857142857,
           0.05357142857142857,
           0.05612244897959184,
           0.07142857142857142,
           0.08418367346938775,
           0.05102040816326531,
           0.0663265306122449,
           0.05357142857142857,
           0.05612244897959184,
           0.058673469387755105,
           0.06377551020408163,
           0.05102040816326531,
           0.05357142857142857,
           0.07397959183673469,
           0.06377551020408163,
           0.06377551020408163,
           0.0663265306122449,
           0.08928571428571429,
           0.05357142857142857,
           0.05357142857142857,
           0.06377551020408163,
           0.05357142857142857,
           0.058673469387755105,
           0.058673469387755105,
           0.06377551020408163,
           0.06887755102040816,
           0.061224489795918366,
           0.07397959183673469,
           0.08418367346938775,
           0.05102040816326531,
           0.08418367346938775,
           0.08418367346938775,
           0.061224489795918366,
           0.05102040816326531,
           0.058673469387755105,
           0.05612244897959184,
           0.05612244897959184,
           0.05357142857142857,
           0.05357142857142857,
           0.05357142857142857,
           0.05612244897959184,
           0.05357142857142857,
           0.05357142857142857,
           0.05357142857142857,
           0.06377551020408163,
           0.07397959183673469,
           0.05357142857142857,
           0.05102040816326531,
           0.0663265306122449,
           0.0663265306122449,
           0.05357142857142857,
           0.05357142857142857,
           0.05357142857142857,
           0.05102040816326531,
           0.05102040816326531,
           0.05102040816326531,
           0.058673469387755105,
           0.06887755102040816,
           0.05102040816326531,
           0.06377551020408163,
           0.06887755102040816,
           0.061224489795918366,
           0.058673469387755105,
           0.05357142857142857,
           0.05357142857142857,
           0.05357142857142857,
           0.05357142857142857,
           0.058673469387755105,
           0.05102040816326531,
           0.05102040816326531,
           0.05102040816326531,
           0.05612244897959184,
           0.05357142857142857,
           0.05102040816326531,
           0.05102040816326531,
           0.05357142857142857,
           0.05357142857142857,
           0.058673469387755105,
           0.05102040816326531,
           0.05357142857142857,
           0.05357142857142857,
           0.05102040816326531,
           0.05102040816326531,
           0.05102040816326531,
           0.05102040816326531,
           0.05102040816326531,
           0.05357142857142857,
           0.05357142857142857,
           0.05357142857142857,
           0.05357142857142857,
           0.05357142857142857,
           0.05102040816326531,
           0.05102040816326531,
           0.05102040816326531,
           0.05357142857142857,
           0.05357142857142857,
           0.05357142857142857,
           0.05357142857142857,
           0.05102040816326531,
           0.05102040816326531,
           0.16581632653061223,
           0.15816326530612246,
           0.14795918367346939,
           0.14795918367346939,
           0.1377551020408163,
           0.12244897959183673,
           0.11734693877551021,
           0.11479591836734694,
           0.11479591836734694,
           0.11479591836734694,
           0.11479591836734694,
           0.1096938775510204,
           0.10714285714285714,
           0.10459183673469388,
           0.10459183673469388,
           0.10204081632653061,
           0.10204081632653061,
           0.09693877551020408,
           0.09438775510204081,
           0.09183673469387756,
           0.08928571428571429,
           0.08928571428571429,
           0.08673469387755102,
           0.08418367346938775,
           0.08418367346938775,
           0.08418367346938775,
           0.08418367346938775,
           0.08418367346938775,
           0.08418367346938775,
           0.08163265306122448,
           0.08163265306122448,
           0.08163265306122448,
           0.08163265306122448,
           0.07653061224489796,
           0.07397959183673469,
           0.07142857142857142,
           0.07142857142857142,
           0.06887755102040816,
           0.0663265306122449,
           0.0663265306122449,
           0.06377551020408163,
           0.06377551020408163,
           0.06377551020408163,
           0.06377551020408163,
           0.06377551020408163,
           0.061224489795918366,
           0.061224489795918366,
           0.061224489795918366,
           0.061224489795918366,
           0.058673469387755105,
           0.058673469387755105,
           0.058673469387755105,
           0.058673469387755105,
           0.058673469387755105,
           0.05612244897959184,
           0.05612244897959184,
           0.05612244897959184,
           0.05612244897959184,
           0.05612244897959184,
           0.05612244897959184,
           0.05357142857142857,
           0.05357142857142857,
           0.05357142857142857,
           0.05357142857142857,
           0.05357142857142857,
           0.05357142857142857,
           0.05357142857142857,
           0.05357142857142857,
           0.05357142857142857,
           0.05102040816326531,
           0.05102040816326531,
           0.05102040816326531,
           0.05102040816326531,
           0.05102040816326531,
           0.05102040816326531
          ],
          "coloraxis": "coloraxis",
          "symbol": "circle"
         },
         "mode": "markers",
         "name": "",
         "showlegend": false,
         "type": "scatter",
         "x": [
          "POSTAGE",
          "POSTAGE",
          "POSTAGE",
          "SET/6 RED SPOTTY PAPER PLATES",
          "SET/6 RED SPOTTY PAPER CUPS",
          "SET/6 RED SPOTTY PAPER PLATES",
          "SET/6 RED SPOTTY PAPER CUPS",
          "POSTAGE",
          "POSTAGE",
          "SET/6 RED SPOTTY PAPER CUPS",
          "POSTAGE",
          "POSTAGE",
          "POSTAGE",
          "POSTAGE",
          "SET/6 RED SPOTTY PAPER CUPS",
          "POSTAGE",
          "POSTAGE",
          "POSTAGE",
          "POSTAGE",
          "CHILDRENS CUTLERY DOLLY GIRL",
          "POSTAGE",
          "POSTAGE",
          "POSTAGE",
          "POSTAGE",
          "POSTAGE",
          "POSTAGE",
          "ALARM CLOCK BAKELIKE RED",
          "PACK OF 6 SKULL PAPER CUPS",
          "POSTAGE",
          "POSTAGE",
          "POSTAGE",
          "POSTAGE",
          "POSTAGE",
          "POSTAGE",
          "CHILDRENS CUTLERY SPACEBOY",
          "SET/6 RED SPOTTY PAPER PLATES",
          "POSTAGE",
          "POSTAGE",
          "POSTAGE",
          "POSTAGE",
          "POSTAGE",
          "POSTAGE",
          "POSTAGE",
          "POSTAGE",
          "POSTAGE",
          "POSTAGE",
          "POSTAGE",
          "SET/6 RED SPOTTY PAPER PLATES",
          "POSTAGE",
          "POSTAGE",
          "ALARM CLOCK BAKELIKE RED",
          "ALARM CLOCK BAKELIKE GREEN",
          "POSTAGE",
          "ALARM CLOCK BAKELIKE RED",
          "ALARM CLOCK BAKELIKE GREEN",
          "POSTAGE",
          "POSTAGE",
          "POSTAGE",
          "POSTAGE",
          "POSTAGE",
          "ALARM CLOCK BAKELIKE GREEN",
          "POSTAGE",
          "POSTAGE",
          "POSTAGE",
          "POSTAGE",
          "POSTAGE",
          "POSTAGE",
          "POSTAGE",
          "POSTAGE",
          "POSTAGE",
          "POSTAGE",
          "POSTAGE",
          "POSTAGE",
          "POSTAGE",
          "ALARM CLOCK BAKELIKE GREEN",
          "POSTAGE",
          "ALARM CLOCK BAKELIKE RED",
          "SET/20 RED RETROSPOT PAPER NAPKINS",
          "POSTAGE",
          "POSTAGE",
          "ALARM CLOCK BAKELIKE PINK",
          "POSTAGE",
          "POSTAGE",
          "POSTAGE",
          "PACK OF 6 SKULL PAPER PLATES",
          "SET/6 RED SPOTTY PAPER CUPS,POSTAGE",
          "SET/20 RED RETROSPOT PAPER NAPKINS",
          "POSTAGE",
          "POSTAGE,SET/6 RED SPOTTY PAPER PLATES",
          "SET/6 RED SPOTTY PAPER CUPS,POSTAGE",
          "SET/20 RED RETROSPOT PAPER NAPKINS",
          "POSTAGE",
          "ALARM CLOCK BAKELIKE PINK",
          "POSTAGE",
          "POSTAGE",
          "SET/20 RED RETROSPOT PAPER NAPKINS",
          "ALARM CLOCK BAKELIKE PINK",
          "POSTAGE",
          "POSTAGE",
          "SET/20 RED RETROSPOT PAPER NAPKINS,SET/6 RED SPOTTY PAPER CUPS",
          "POSTAGE",
          "POSTAGE",
          "POSTAGE",
          "POSTAGE",
          "POSTAGE",
          "PLASTERS IN TIN WOODLAND ANIMALS",
          "SET/6 RED SPOTTY PAPER PLATES",
          "SET/6 RED SPOTTY PAPER CUPS",
          "SET/6 RED SPOTTY PAPER PLATES",
          "SET/6 RED SPOTTY PAPER CUPS",
          "POSTAGE",
          "ALARM CLOCK BAKELIKE PINK",
          "ALARM CLOCK BAKELIKE PINK",
          "SET/20 RED RETROSPOT PAPER NAPKINS,SET/6 RED SPOTTY PAPER CUPS",
          "PLASTERS IN TIN WOODLAND ANIMALS",
          "ALARM CLOCK BAKELIKE GREEN,POSTAGE",
          "ALARM CLOCK BAKELIKE RED,POSTAGE",
          "ALARM CLOCK BAKELIKE GREEN,POSTAGE",
          "SET/6 RED SPOTTY PAPER CUPS,SET/6 RED SPOTTY PAPER PLATES",
          "SET/6 RED SPOTTY PAPER CUPS,SET/6 RED SPOTTY PAPER PLATES",
          "ALARM CLOCK BAKELIKE RED",
          "POSTAGE,SET/6 RED SPOTTY PAPER PLATES",
          "SET/20 RED RETROSPOT PAPER NAPKINS",
          "ALARM CLOCK BAKELIKE RED,POSTAGE",
          "PLASTERS IN TIN WOODLAND ANIMALS",
          "ALARM CLOCK BAKELIKE PINK",
          "ALARM CLOCK BAKELIKE RED",
          "ALARM CLOCK BAKELIKE GREEN",
          "SPACEBOY LUNCH BOX",
          "PLASTERS IN TIN WOODLAND ANIMALS",
          "SET/20 RED RETROSPOT PAPER NAPKINS,SET/6 RED SPOTTY PAPER PLATES",
          "PLASTERS IN TIN CIRCUS PARADE",
          "SPACEBOY LUNCH BOX",
          "SET/20 RED RETROSPOT PAPER NAPKINS",
          "ALARM CLOCK BAKELIKE PINK,POSTAGE",
          "ALARM CLOCK BAKELIKE PINK,POSTAGE",
          "SET/20 RED RETROSPOT PAPER NAPKINS,SET/6 RED SPOTTY PAPER PLATES",
          "ALARM CLOCK BAKELIKE GREEN",
          "ALARM CLOCK BAKELIKE GREEN,ALARM CLOCK BAKELIKE PINK",
          "PLASTERS IN TIN SPACEBOY",
          "ALARM CLOCK BAKELIKE RED,ALARM CLOCK BAKELIKE PINK",
          "SET/20 RED RETROSPOT PAPER NAPKINS,POSTAGE",
          "SET/20 RED RETROSPOT PAPER NAPKINS,POSTAGE",
          "PLASTERS IN TIN CIRCUS PARADE",
          "ALARM CLOCK BAKELIKE RED,ALARM CLOCK BAKELIKE PINK",
          "ALARM CLOCK BAKELIKE RED,POSTAGE",
          "PLASTERS IN TIN CIRCUS PARADE",
          "ALARM CLOCK BAKELIKE GREEN,ALARM CLOCK BAKELIKE PINK",
          "PLASTERS IN TIN CIRCUS PARADE",
          "SET/20 RED RETROSPOT PAPER NAPKINS,SET/6 RED SPOTTY PAPER CUPS,POSTAGE",
          "PLASTERS IN TIN SPACEBOY",
          "PLASTERS IN TIN CIRCUS PARADE",
          "POSTAGE,SET/6 RED SPOTTY PAPER PLATES",
          "SET/6 RED SPOTTY PAPER CUPS,POSTAGE",
          "ALARM CLOCK BAKELIKE PINK,POSTAGE",
          "ALARM CLOCK BAKELIKE GREEN,ALARM CLOCK BAKELIKE RED",
          "ALARM CLOCK BAKELIKE GREEN,ALARM CLOCK BAKELIKE RED",
          "ROUND SNACK BOXES SET OF4 WOODLAND",
          "SET/6 RED SPOTTY PAPER CUPS,POSTAGE,SET/6 RED SPOTTY PAPER PLATES",
          "PLASTERS IN TIN SPACEBOY",
          "SET/20 RED RETROSPOT PAPER NAPKINS,POSTAGE",
          "PLASTERS IN TIN SPACEBOY",
          "POSTAGE,PLASTERS IN TIN WOODLAND ANIMALS",
          "PLASTERS IN TIN CIRCUS PARADE",
          "LUNCH BAG SPACEBOY DESIGN",
          "PLASTERS IN TIN WOODLAND ANIMALS",
          "ALARM CLOCK BAKELIKE GREEN,POSTAGE",
          "POSTAGE,PLASTERS IN TIN WOODLAND ANIMALS",
          "PLASTERS IN TIN CIRCUS PARADE",
          "ROUND SNACK BOXES SET OF4 WOODLAND",
          "ALARM CLOCK BAKELIKE GREEN,ALARM CLOCK BAKELIKE PINK,POSTAGE",
          "SET/20 RED RETROSPOT PAPER NAPKINS,POSTAGE,SET/6 RED SPOTTY PAPER PLATES",
          "LUNCH BAG RED RETROSPOT",
          "LUNCH BAG WOODLAND",
          "LUNCH BAG RED RETROSPOT",
          "ALARM CLOCK BAKELIKE RED,ALARM CLOCK BAKELIKE PINK,POSTAGE",
          "DOLLY GIRL LUNCH BOX",
          "PLASTERS IN TIN WOODLAND ANIMALS",
          "LUNCH BAG APPLE DESIGN",
          "LUNCH BAG RED RETROSPOT",
          "DOLLY GIRL LUNCH BOX",
          "ALARM CLOCK BAKELIKE GREEN,ALARM CLOCK BAKELIKE RED,POSTAGE",
          "POSTAGE,ROUND SNACK BOXES SET OF4 WOODLAND",
          "LUNCH BAG SPACEBOY DESIGN",
          "ROUND SNACK BOXES SET OF4 WOODLAND",
          "POSTAGE,SPACEBOY LUNCH BOX",
          "PLASTERS IN TIN CIRCUS PARADE,POSTAGE",
          "LUNCH BAG WOODLAND",
          "LUNCH BAG APPLE DESIGN",
          "LUNCH BAG RED RETROSPOT",
          "PLASTERS IN TIN SPACEBOY",
          "POSTAGE,PLASTERS IN TIN SPACEBOY",
          "LUNCH BAG SPACEBOY DESIGN",
          "LUNCH BOX WITH CUTLERY RETROSPOT",
          "PLASTERS IN TIN CIRCUS PARADE,POSTAGE",
          "STRAWBERRY LUNCH BOX WITH CUTLERY",
          "LUNCH BOX WITH CUTLERY RETROSPOT",
          "LUNCH BAG SPACEBOY DESIGN",
          "PLASTERS IN TIN CIRCUS PARADE,PLASTERS IN TIN WOODLAND ANIMALS",
          "LUNCH BAG APPLE DESIGN",
          "PLASTERS IN TIN SPACEBOY",
          "POSTAGE,PLASTERS IN TIN WOODLAND ANIMALS",
          "LUNCH BAG RED RETROSPOT",
          "POSTAGE,PLASTERS IN TIN SPACEBOY",
          "PLASTERS IN TIN CIRCUS PARADE,POSTAGE",
          "POSTAGE,LUNCH BAG RED RETROSPOT",
          "LUNCH BAG SPACEBOY DESIGN",
          "LUNCH BOX WITH CUTLERY RETROSPOT,POSTAGE",
          "LUNCH BAG RED RETROSPOT",
          "SPACEBOY LUNCH BOX",
          "PLASTERS IN TIN CIRCUS PARADE,PLASTERS IN TIN WOODLAND ANIMALS",
          "LUNCH BAG SPACEBOY DESIGN,POSTAGE",
          "LUNCH BAG APPLE DESIGN",
          "LUNCH BAG SPACEBOY DESIGN",
          "POSTAGE,LUNCH BAG WOODLAND",
          "POSTAGE,LUNCH BAG RED RETROSPOT",
          "PLASTERS IN TIN SPACEBOY",
          "STRAWBERRY LUNCH BOX WITH CUTLERY",
          "POSTAGE,PLASTERS IN TIN SPACEBOY",
          "LUNCH BAG SPACEBOY DESIGN",
          "POSTAGE,LUNCH BAG RED RETROSPOT",
          "LUNCH BAG SPACEBOY DESIGN",
          "LUNCH BAG APPLE DESIGN",
          "POSTAGE,DOLLY GIRL LUNCH BOX",
          "LUNCH BAG WOODLAND",
          "LUNCH BAG RED RETROSPOT",
          "LUNCH BAG DOLLY GIRL DESIGN",
          "LUNCH BAG APPLE DESIGN,POSTAGE",
          "LUNCH BAG WOODLAND",
          "STRAWBERRY LUNCH BOX WITH CUTLERY,POSTAGE",
          "PLASTERS IN TIN SPACEBOY,PLASTERS IN TIN WOODLAND ANIMALS",
          "LUNCH BAG SPACEBOY DESIGN,POSTAGE",
          "ROUND SNACK BOXES SET OF 4 FRUITS",
          "PLASTERS IN TIN CIRCUS PARADE,PLASTERS IN TIN SPACEBOY",
          "LUNCH BAG APPLE DESIGN,POSTAGE",
          "ROUND SNACK BOXES SET OF 4 FRUITS",
          "PLASTERS IN TIN CIRCUS PARADE,POSTAGE,PLASTERS IN TIN WOODLAND ANIMALS",
          "PLASTERS IN TIN CIRCUS PARADE,PLASTERS IN TIN SPACEBOY",
          "LUNCH BAG SPACEBOY DESIGN",
          "RED TOADSTOOL LED NIGHT LIGHT",
          "ROUND SNACK BOXES SET OF 4 FRUITS,POSTAGE",
          "LUNCH BOX WITH CUTLERY RETROSPOT",
          "ROUND SNACK BOXES SET OF4 WOODLAND",
          "PLASTERS IN TIN CIRCUS PARADE",
          "LUNCH BAG WOODLAND",
          "PLASTERS IN TIN SPACEBOY,PLASTERS IN TIN WOODLAND ANIMALS",
          "RED RETROSPOT MINI CASES",
          "LUNCH BAG RED RETROSPOT",
          "LUNCH BAG SPACEBOY DESIGN,POSTAGE",
          "SPACEBOY LUNCH BOX",
          "PLASTERS IN TIN STRONGMAN",
          "RED TOADSTOOL LED NIGHT LIGHT",
          "PLASTERS IN TIN CIRCUS PARADE",
          "PLASTERS IN TIN WOODLAND ANIMALS",
          "POSTAGE,LUNCH BAG WOODLAND",
          "LUNCH BOX WITH CUTLERY RETROSPOT",
          "ALARM CLOCK BAKELIKE RED",
          "RED RETROSPOT MINI CASES",
          "PLASTERS IN TIN CIRCUS PARADE",
          "PLASTERS IN TIN SPACEBOY,POSTAGE,PLASTERS IN TIN WOODLAND ANIMALS",
          "ROUND SNACK BOXES SET OF4 WOODLAND",
          "PLASTERS IN TIN CIRCUS PARADE,POSTAGE,PLASTERS IN TIN SPACEBOY",
          "RED TOADSTOOL LED NIGHT LIGHT,POSTAGE",
          "RED TOADSTOOL LED NIGHT LIGHT",
          "RED RETROSPOT MINI CASES",
          "RED TOADSTOOL LED NIGHT LIGHT,POSTAGE",
          "RED TOADSTOOL LED NIGHT LIGHT",
          "POSTAGE,PLASTERS IN TIN WOODLAND ANIMALS",
          "PLASTERS IN TIN WOODLAND ANIMALS",
          "RABBIT NIGHT LIGHT",
          "RED TOADSTOOL LED NIGHT LIGHT",
          "PLASTERS IN TIN CIRCUS PARADE,POSTAGE",
          "PLASTERS IN TIN CIRCUS PARADE",
          "RABBIT NIGHT LIGHT",
          "RED TOADSTOOL LED NIGHT LIGHT",
          "ROUND SNACK BOXES SET OF4 WOODLAND",
          "PLASTERS IN TIN CIRCUS PARADE",
          "PLASTERS IN TIN WOODLAND ANIMALS",
          "LUNCH BAG RED RETROSPOT",
          "SET/6 RED SPOTTY PAPER CUPS",
          "STRAWBERRY LUNCH BOX WITH CUTLERY",
          "PLASTERS IN TIN SPACEBOY",
          "RED RETROSPOT MINI CASES",
          "LUNCH BOX WITH CUTLERY RETROSPOT",
          "SET/20 RED RETROSPOT PAPER NAPKINS",
          "SET/6 RED SPOTTY PAPER PLATES",
          "LUNCH BAG APPLE DESIGN",
          "REGENCY CAKESTAND 3 TIER",
          "LUNCH BAG WOODLAND",
          "SET/6 RED SPOTTY PAPER CUPS,SET/6 RED SPOTTY PAPER PLATES",
          "SPACEBOY LUNCH BOX",
          "ROUND SNACK BOXES SET OF 4 FRUITS",
          "LUNCH BAG SPACEBOY DESIGN",
          "TEA PARTY BIRTHDAY CARD",
          "ALARM CLOCK BAKELIKE PINK",
          "ALARM CLOCK BAKELIKE RED",
          "ALARM CLOCK BAKELIKE GREEN",
          "PACK OF 72 RETROSPOT CAKE CASES",
          "PLASTERS IN TIN CIRCUS PARADE,PLASTERS IN TIN WOODLAND ANIMALS",
          "SET/20 RED RETROSPOT PAPER NAPKINS,SET/6 RED SPOTTY PAPER CUPS",
          "SET/20 RED RETROSPOT PAPER NAPKINS,SET/6 RED SPOTTY PAPER PLATES",
          "PLASTERS IN TIN SPACEBOY,PLASTERS IN TIN WOODLAND ANIMALS",
          "JUMBO BAG RED RETROSPOT",
          "RED RETROSPOT CHARLOTTE BAG",
          "SET/20 RED RETROSPOT PAPER NAPKINS,SET/6 RED SPOTTY PAPER CUPS,SET/6 RED SPOTTY PAPER PLATES",
          "MINI PAINT SET VINTAGE",
          "JUMBO BAG WOODLAND ANIMALS",
          "PLASTERS IN TIN CIRCUS PARADE,PLASTERS IN TIN SPACEBOY",
          "ALARM CLOCK BAKELIKE GREEN,ALARM CLOCK BAKELIKE RED",
          "PAPER BUNTING RETROSPOT",
          "RED RETROSPOT PICNIC BAG",
          "WOODLAND CHARLOTTE BAG",
          "ALARM CLOCK BAKELIKE RED,ALARM CLOCK BAKELIKE PINK",
          "SET OF 9 BLACK SKULL BALLOONS",
          "ASSORTED COLOUR MINI CASES",
          "SET OF 2 TEA TOWELS APPLE AND PEARS",
          "SET/10 RED POLKADOT PARTY CANDLES",
          "PLASTERS IN TIN STRONGMAN",
          "PACK OF 6 SKULL PAPER CUPS",
          "LUNCH BAG APPLE DESIGN,LUNCH BAG RED RETROSPOT",
          "COFFEE MUG APPLES DESIGN",
          "ALARM CLOCK BAKELIKE GREEN,ALARM CLOCK BAKELIKE PINK",
          "RETROSPOT PARTY BAG + STICKER SET",
          "STRAWBERRY LUNCH BOX WITH CUTLERY,LUNCH BOX WITH CUTLERY RETROSPOT",
          "ROUND SNACK BOXES SET OF 4 FRUITS,ROUND SNACK BOXES SET OF4 WOODLAND",
          "CHARLOTTE BAG DOLLY GIRL DESIGN",
          "JUMBO BAG APPLES",
          "GUMBALL COAT RACK",
          "JUMBO BAG SPACEBOY DESIGN",
          "ALARM CLOCK BAKELIKE GREEN,ALARM CLOCK BAKELIKE RED,ALARM CLOCK BAKELIKE PINK",
          "SET OF 9 HEART SHAPED BALLOONS",
          "4 TRADITIONAL SPINNING TOPS",
          "SPACEBOY BIRTHDAY CARD",
          "RED TOADSTOOL LED NIGHT LIGHT,PLASTERS IN TIN WOODLAND ANIMALS",
          "PACK OF 6 SKULL PAPER PLATES",
          "LUNCH BAG SPACEBOY DESIGN,LUNCH BAG WOODLAND",
          "CHILDRENS APRON SPACEBOY DESIGN",
          "LUNCH BAG SPACEBOY DESIGN,LUNCH BAG RED RETROSPOT",
          "CHARLOTTE BAG APPLES DESIGN",
          "CIRCUS PARADE LUNCH BOX",
          "LUNCH BOX I LOVE LONDON",
          "PLASTERS IN TIN SPACEBOY,PLASTERS IN TIN CIRCUS PARADE,PLASTERS IN TIN WOODLAND ANIMALS",
          "RED TOADSTOOL LED NIGHT LIGHT,PLASTERS IN TIN CIRCUS PARADE",
          "JAM MAKING SET PRINTED",
          "CIRCUS PARADE CHILDRENS EGG CUP",
          "PARTY BUNTING",
          "LUNCH BAG WOODLAND,LUNCH BAG RED RETROSPOT",
          "LUNCH BAG SPACEBOY DESIGN,LUNCH BAG APPLE DESIGN"
         ],
         "xaxis": "x",
         "y": [
          "JUMBO BAG WOODLAND ANIMALS",
          "RED TOADSTOOL LED NIGHT LIGHT,PLASTERS IN TIN CIRCUS PARADE",
          "RED TOADSTOOL LED NIGHT LIGHT,PLASTERS IN TIN WOODLAND ANIMALS",
          "SET/20 RED RETROSPOT PAPER NAPKINS,SET/6 RED SPOTTY PAPER CUPS",
          "SET/20 RED RETROSPOT PAPER NAPKINS,SET/6 RED SPOTTY PAPER PLATES",
          "SET/20 RED RETROSPOT PAPER NAPKINS,SET/6 RED SPOTTY PAPER CUPS,POSTAGE",
          "SET/20 RED RETROSPOT PAPER NAPKINS,POSTAGE,SET/6 RED SPOTTY PAPER PLATES",
          "RED RETROSPOT PICNIC BAG",
          "SET OF 9 BLACK SKULL BALLOONS",
          "SET/6 RED SPOTTY PAPER PLATES",
          "PACK OF 6 SKULL PAPER CUPS",
          "RETROSPOT PARTY BAG + STICKER SET",
          "GUMBALL COAT RACK",
          "PACK OF 6 SKULL PAPER PLATES",
          "POSTAGE,SET/6 RED SPOTTY PAPER PLATES",
          "JAM MAKING SET PRINTED",
          "TEA PARTY BIRTHDAY CARD",
          "STRAWBERRY LUNCH BOX WITH CUTLERY",
          "ROUND SNACK BOXES SET OF4 WOODLAND",
          "CHILDRENS CUTLERY SPACEBOY",
          "ASSORTED COLOUR MINI CASES",
          "SET OF 2 TEA TOWELS APPLE AND PEARS",
          "LUNCH BAG APPLE DESIGN,LUNCH BAG RED RETROSPOT",
          "STRAWBERRY LUNCH BOX WITH CUTLERY,LUNCH BOX WITH CUTLERY RETROSPOT",
          "ROUND SNACK BOXES SET OF 4 FRUITS,ROUND SNACK BOXES SET OF4 WOODLAND",
          "ALARM CLOCK BAKELIKE RED",
          "ALARM CLOCK BAKELIKE GREEN,ALARM CLOCK BAKELIKE PINK,POSTAGE",
          "PACK OF 6 SKULL PAPER PLATES",
          "CIRCUS PARADE CHILDRENS EGG CUP",
          "PARTY BUNTING",
          "LUNCH BAG WOODLAND,LUNCH BAG RED RETROSPOT",
          "ALARM CLOCK BAKELIKE GREEN,ALARM CLOCK BAKELIKE RED",
          "WOODLAND CHARLOTTE BAG",
          "ALARM CLOCK BAKELIKE RED,ALARM CLOCK BAKELIKE PINK",
          "CHILDRENS CUTLERY DOLLY GIRL",
          "SET/6 RED SPOTTY PAPER CUPS",
          "COFFEE MUG APPLES DESIGN",
          "CHARLOTTE BAG DOLLY GIRL DESIGN",
          "JUMBO BAG APPLES",
          "ROUND SNACK BOXES SET OF 4 FRUITS",
          "JUMBO BAG SPACEBOY DESIGN",
          "ALARM CLOCK BAKELIKE GREEN,ALARM CLOCK BAKELIKE RED,ALARM CLOCK BAKELIKE PINK",
          "PLASTERS IN TIN CIRCUS PARADE",
          "RABBIT NIGHT LIGHT",
          "ALARM CLOCK BAKELIKE PINK",
          "PAPER BUNTING RETROSPOT",
          "RED TOADSTOOL LED NIGHT LIGHT",
          "SET/6 RED SPOTTY PAPER CUPS,POSTAGE",
          "LUNCH BAG WOODLAND",
          "ALARM CLOCK BAKELIKE GREEN",
          "ALARM CLOCK BAKELIKE GREEN,ALARM CLOCK BAKELIKE PINK",
          "ALARM CLOCK BAKELIKE RED,ALARM CLOCK BAKELIKE PINK",
          "SET/6 RED SPOTTY PAPER CUPS",
          "ALARM CLOCK BAKELIKE GREEN,POSTAGE",
          "ALARM CLOCK BAKELIKE RED,ALARM CLOCK BAKELIKE PINK,POSTAGE",
          "SET OF 9 HEART SHAPED BALLOONS",
          "JUMBO BAG RED RETROSPOT",
          "RED RETROSPOT CHARLOTTE BAG",
          "SET/6 RED SPOTTY PAPER PLATES",
          "LUNCH BAG SPACEBOY DESIGN,LUNCH BAG WOODLAND",
          "ALARM CLOCK BAKELIKE RED",
          "LUNCH BAG APPLE DESIGN",
          "REGENCY CAKESTAND 3 TIER",
          "PLASTERS IN TIN SPACEBOY",
          "RED RETROSPOT MINI CASES",
          "SET/10 RED POLKADOT PARTY CANDLES",
          "SET/6 RED SPOTTY PAPER CUPS,SET/6 RED SPOTTY PAPER PLATES",
          "PLASTERS IN TIN CIRCUS PARADE,PLASTERS IN TIN SPACEBOY",
          "ALARM CLOCK BAKELIKE GREEN,ALARM CLOCK BAKELIKE PINK",
          "SET/20 RED RETROSPOT PAPER NAPKINS",
          "PACK OF 72 RETROSPOT CAKE CASES",
          "PLASTERS IN TIN CIRCUS PARADE,PLASTERS IN TIN WOODLAND ANIMALS",
          "SET/20 RED RETROSPOT PAPER NAPKINS,SET/6 RED SPOTTY PAPER CUPS",
          "SET/20 RED RETROSPOT PAPER NAPKINS,SET/6 RED SPOTTY PAPER PLATES",
          "ALARM CLOCK BAKELIKE RED,POSTAGE",
          "SET/20 RED RETROSPOT PAPER NAPKINS,SET/6 RED SPOTTY PAPER CUPS,SET/6 RED SPOTTY PAPER PLATES",
          "ALARM CLOCK BAKELIKE GREEN",
          "SET/6 RED SPOTTY PAPER CUPS,SET/6 RED SPOTTY PAPER PLATES",
          "CHILDRENS APRON SPACEBOY DESIGN",
          "LUNCH BAG SPACEBOY DESIGN,LUNCH BAG RED RETROSPOT",
          "ALARM CLOCK BAKELIKE GREEN,ALARM CLOCK BAKELIKE RED",
          "PLASTERS IN TIN WOODLAND ANIMALS",
          "PLASTERS IN TIN SPACEBOY,PLASTERS IN TIN WOODLAND ANIMALS",
          "LUNCH BOX WITH CUTLERY RETROSPOT",
          "PACK OF 6 SKULL PAPER CUPS",
          "SET/6 RED SPOTTY PAPER PLATES",
          "SET/6 RED SPOTTY PAPER PLATES",
          "LUNCH BAG SPACEBOY DESIGN,LUNCH BAG APPLE DESIGN",
          "SET/20 RED RETROSPOT PAPER NAPKINS,SET/6 RED SPOTTY PAPER CUPS",
          "SET/20 RED RETROSPOT PAPER NAPKINS,SET/6 RED SPOTTY PAPER PLATES",
          "SET/6 RED SPOTTY PAPER CUPS,POSTAGE,SET/6 RED SPOTTY PAPER PLATES",
          "LUNCH BAG RED RETROSPOT",
          "ALARM CLOCK BAKELIKE GREEN,ALARM CLOCK BAKELIKE RED,POSTAGE",
          "4 TRADITIONAL SPINNING TOPS",
          "SPACEBOY BIRTHDAY CARD",
          "POSTAGE,SET/6 RED SPOTTY PAPER PLATES",
          "ALARM CLOCK BAKELIKE RED",
          "PLASTERS IN TIN STRONGMAN",
          "MINI PAINT SET VINTAGE",
          "SET/6 RED SPOTTY PAPER PLATES",
          "CHARLOTTE BAG APPLES DESIGN",
          "CIRCUS PARADE LUNCH BOX",
          "LUNCH BOX I LOVE LONDON",
          "PLASTERS IN TIN SPACEBOY,PLASTERS IN TIN CIRCUS PARADE,PLASTERS IN TIN WOODLAND ANIMALS",
          "SPACEBOY LUNCH BOX",
          "PLASTERS IN TIN CIRCUS PARADE,PLASTERS IN TIN SPACEBOY",
          "SET/20 RED RETROSPOT PAPER NAPKINS",
          "SET/20 RED RETROSPOT PAPER NAPKINS",
          "SET/20 RED RETROSPOT PAPER NAPKINS,POSTAGE",
          "SET/20 RED RETROSPOT PAPER NAPKINS,POSTAGE",
          "LUNCH BAG SPACEBOY DESIGN",
          "ALARM CLOCK BAKELIKE RED,POSTAGE",
          "ALARM CLOCK BAKELIKE GREEN",
          "POSTAGE,SET/6 RED SPOTTY PAPER PLATES",
          "PLASTERS IN TIN SPACEBOY",
          "ALARM CLOCK BAKELIKE RED,ALARM CLOCK BAKELIKE PINK",
          "ALARM CLOCK BAKELIKE GREEN,ALARM CLOCK BAKELIKE PINK",
          "ALARM CLOCK BAKELIKE RED",
          "SET/20 RED RETROSPOT PAPER NAPKINS",
          "SET/20 RED RETROSPOT PAPER NAPKINS,POSTAGE",
          "ALARM CLOCK BAKELIKE PINK,POSTAGE",
          "SET/6 RED SPOTTY PAPER CUPS",
          "SET/6 RED SPOTTY PAPER CUPS",
          "ALARM CLOCK BAKELIKE GREEN",
          "POSTAGE,PLASTERS IN TIN SPACEBOY",
          "ALARM CLOCK BAKELIKE GREEN,POSTAGE",
          "ALARM CLOCK BAKELIKE PINK",
          "ALARM CLOCK BAKELIKE PINK",
          "POSTAGE,DOLLY GIRL LUNCH BOX",
          "PLASTERS IN TIN CIRCUS PARADE,POSTAGE,PLASTERS IN TIN SPACEBOY",
          "SET/6 RED SPOTTY PAPER CUPS",
          "PLASTERS IN TIN STRONGMAN",
          "DOLLY GIRL LUNCH BOX",
          "SET/6 RED SPOTTY PAPER CUPS,POSTAGE",
          "ALARM CLOCK BAKELIKE GREEN,ALARM CLOCK BAKELIKE RED",
          "ALARM CLOCK BAKELIKE RED",
          "SET/6 RED SPOTTY PAPER CUPS,POSTAGE",
          "ALARM CLOCK BAKELIKE PINK,POSTAGE",
          "ALARM CLOCK BAKELIKE RED",
          "PLASTERS IN TIN CIRCUS PARADE,PLASTERS IN TIN WOODLAND ANIMALS",
          "ALARM CLOCK BAKELIKE GREEN,POSTAGE",
          "SET/6 RED SPOTTY PAPER CUPS,SET/6 RED SPOTTY PAPER PLATES",
          "SET/6 RED SPOTTY PAPER PLATES",
          "PLASTERS IN TIN SPACEBOY,PLASTERS IN TIN WOODLAND ANIMALS",
          "ALARM CLOCK BAKELIKE GREEN",
          "ALARM CLOCK BAKELIKE PINK",
          "PLASTERS IN TIN SPACEBOY",
          "ALARM CLOCK BAKELIKE RED,POSTAGE",
          "POSTAGE,PLASTERS IN TIN SPACEBOY",
          "SET/6 RED SPOTTY PAPER PLATES",
          "PLASTERS IN TIN CIRCUS PARADE,POSTAGE,PLASTERS IN TIN WOODLAND ANIMALS",
          "PLASTERS IN TIN SPACEBOY,POSTAGE,PLASTERS IN TIN WOODLAND ANIMALS",
          "SET/20 RED RETROSPOT PAPER NAPKINS",
          "SET/20 RED RETROSPOT PAPER NAPKINS",
          "ALARM CLOCK BAKELIKE GREEN",
          "ALARM CLOCK BAKELIKE PINK,POSTAGE",
          "ALARM CLOCK BAKELIKE PINK",
          "ROUND SNACK BOXES SET OF 4 FRUITS,POSTAGE",
          "SET/20 RED RETROSPOT PAPER NAPKINS",
          "PLASTERS IN TIN WOODLAND ANIMALS",
          "SET/6 RED SPOTTY PAPER CUPS",
          "POSTAGE,PLASTERS IN TIN WOODLAND ANIMALS",
          "PLASTERS IN TIN SPACEBOY",
          "POSTAGE,PLASTERS IN TIN WOODLAND ANIMALS",
          "LUNCH BAG DOLLY GIRL DESIGN",
          "PLASTERS IN TIN CIRCUS PARADE",
          "ALARM CLOCK BAKELIKE PINK",
          "PLASTERS IN TIN CIRCUS PARADE,PLASTERS IN TIN SPACEBOY",
          "PLASTERS IN TIN WOODLAND ANIMALS",
          "ROUND SNACK BOXES SET OF 4 FRUITS",
          "ALARM CLOCK BAKELIKE RED",
          "SET/6 RED SPOTTY PAPER CUPS",
          "LUNCH BAG APPLE DESIGN,POSTAGE",
          "LUNCH BAG SPACEBOY DESIGN,POSTAGE",
          "LUNCH BAG SPACEBOY DESIGN,POSTAGE",
          "ALARM CLOCK BAKELIKE GREEN",
          "SPACEBOY LUNCH BOX",
          "PLASTERS IN TIN CIRCUS PARADE,POSTAGE",
          "LUNCH BAG SPACEBOY DESIGN,POSTAGE",
          "LUNCH BAG SPACEBOY DESIGN",
          "POSTAGE,SPACEBOY LUNCH BOX",
          "ALARM CLOCK BAKELIKE PINK",
          "ROUND SNACK BOXES SET OF 4 FRUITS",
          "LUNCH BAG WOODLAND",
          "ALARM CLOCK BAKELIKE RED",
          "DOLLY GIRL LUNCH BOX",
          "PLASTERS IN TIN SPACEBOY",
          "LUNCH BAG SPACEBOY DESIGN",
          "LUNCH BAG SPACEBOY DESIGN",
          "LUNCH BAG APPLE DESIGN",
          "PLASTERS IN TIN CIRCUS PARADE",
          "PLASTERS IN TIN CIRCUS PARADE,PLASTERS IN TIN WOODLAND ANIMALS",
          "POSTAGE,LUNCH BAG WOODLAND",
          "STRAWBERRY LUNCH BOX WITH CUTLERY",
          "PLASTERS IN TIN SPACEBOY,PLASTERS IN TIN WOODLAND ANIMALS",
          "LUNCH BOX WITH CUTLERY RETROSPOT,POSTAGE",
          "STRAWBERRY LUNCH BOX WITH CUTLERY,POSTAGE",
          "LUNCH BAG APPLE DESIGN",
          "PLASTERS IN TIN SPACEBOY",
          "POSTAGE,LUNCH BAG RED RETROSPOT",
          "PLASTERS IN TIN CIRCUS PARADE,POSTAGE",
          "PLASTERS IN TIN CIRCUS PARADE",
          "POSTAGE,LUNCH BAG WOODLAND",
          "PLASTERS IN TIN WOODLAND ANIMALS",
          "PLASTERS IN TIN WOODLAND ANIMALS",
          "LUNCH BAG APPLE DESIGN",
          "LUNCH BAG APPLE DESIGN,POSTAGE",
          "STRAWBERRY LUNCH BOX WITH CUTLERY",
          "LUNCH BAG WOODLAND",
          "LUNCH BAG SPACEBOY DESIGN",
          "POSTAGE,PLASTERS IN TIN SPACEBOY",
          "LUNCH BAG WOODLAND",
          "LUNCH BAG WOODLAND",
          "SPACEBOY LUNCH BOX",
          "LUNCH BAG SPACEBOY DESIGN",
          "LUNCH BAG SPACEBOY DESIGN",
          "LUNCH BAG SPACEBOY DESIGN",
          "LUNCH BOX WITH CUTLERY RETROSPOT",
          "PLASTERS IN TIN CIRCUS PARADE",
          "POSTAGE,LUNCH BAG RED RETROSPOT",
          "LUNCH BAG WOODLAND",
          "LUNCH BAG RED RETROSPOT",
          "LUNCH BAG RED RETROSPOT",
          "SPACEBOY LUNCH BOX",
          "LUNCH BAG APPLE DESIGN",
          "SPACEBOY LUNCH BOX",
          "LUNCH BAG SPACEBOY DESIGN",
          "LUNCH BAG SPACEBOY DESIGN",
          "POSTAGE,LUNCH BAG RED RETROSPOT",
          "LUNCH BOX WITH CUTLERY RETROSPOT",
          "PLASTERS IN TIN CIRCUS PARADE",
          "LUNCH BAG APPLE DESIGN",
          "ROUND SNACK BOXES SET OF4 WOODLAND",
          "PLASTERS IN TIN WOODLAND ANIMALS",
          "LUNCH BAG RED RETROSPOT",
          "POSTAGE,ROUND SNACK BOXES SET OF4 WOODLAND",
          "PLASTERS IN TIN SPACEBOY",
          "POSTAGE,PLASTERS IN TIN WOODLAND ANIMALS",
          "PLASTERS IN TIN SPACEBOY",
          "POSTAGE,PLASTERS IN TIN WOODLAND ANIMALS",
          "ROUND SNACK BOXES SET OF4 WOODLAND",
          "RED RETROSPOT MINI CASES",
          "RED RETROSPOT MINI CASES",
          "RED RETROSPOT MINI CASES",
          "LUNCH BAG RED RETROSPOT",
          "PLASTERS IN TIN CIRCUS PARADE,POSTAGE",
          "LUNCH BOX WITH CUTLERY RETROSPOT",
          "LUNCH BOX WITH CUTLERY RETROSPOT",
          "LUNCH BAG RED RETROSPOT",
          "LUNCH BAG RED RETROSPOT",
          "PLASTERS IN TIN CIRCUS PARADE",
          "PLASTERS IN TIN CIRCUS PARADE,POSTAGE",
          "ROUND SNACK BOXES SET OF4 WOODLAND",
          "RED TOADSTOOL LED NIGHT LIGHT,POSTAGE",
          "LUNCH BAG RED RETROSPOT",
          "LUNCH BAG RED RETROSPOT",
          "ROUND SNACK BOXES SET OF4 WOODLAND",
          "ROUND SNACK BOXES SET OF4 WOODLAND",
          "RED TOADSTOOL LED NIGHT LIGHT,POSTAGE",
          "PLASTERS IN TIN CIRCUS PARADE",
          "PLASTERS IN TIN CIRCUS PARADE",
          "PLASTERS IN TIN WOODLAND ANIMALS",
          "PLASTERS IN TIN WOODLAND ANIMALS",
          "PLASTERS IN TIN WOODLAND ANIMALS",
          "PLASTERS IN TIN CIRCUS PARADE",
          "PLASTERS IN TIN CIRCUS PARADE",
          "PLASTERS IN TIN CIRCUS PARADE",
          "RED TOADSTOOL LED NIGHT LIGHT",
          "RED TOADSTOOL LED NIGHT LIGHT",
          "RED TOADSTOOL LED NIGHT LIGHT",
          "RABBIT NIGHT LIGHT",
          "RED TOADSTOOL LED NIGHT LIGHT",
          "RED TOADSTOOL LED NIGHT LIGHT",
          "POSTAGE",
          "POSTAGE",
          "POSTAGE",
          "POSTAGE",
          "POSTAGE",
          "POSTAGE",
          "POSTAGE",
          "POSTAGE",
          "POSTAGE",
          "POSTAGE",
          "POSTAGE",
          "POSTAGE",
          "POSTAGE",
          "POSTAGE",
          "POSTAGE",
          "POSTAGE",
          "POSTAGE",
          "POSTAGE",
          "POSTAGE",
          "POSTAGE",
          "POSTAGE",
          "POSTAGE",
          "POSTAGE",
          "POSTAGE",
          "POSTAGE",
          "POSTAGE",
          "POSTAGE",
          "POSTAGE",
          "POSTAGE",
          "POSTAGE",
          "POSTAGE",
          "POSTAGE",
          "POSTAGE",
          "POSTAGE",
          "POSTAGE",
          "POSTAGE",
          "POSTAGE",
          "POSTAGE",
          "POSTAGE",
          "POSTAGE",
          "POSTAGE",
          "POSTAGE",
          "POSTAGE",
          "POSTAGE",
          "POSTAGE",
          "POSTAGE",
          "POSTAGE",
          "POSTAGE",
          "POSTAGE",
          "POSTAGE",
          "POSTAGE",
          "POSTAGE",
          "POSTAGE",
          "POSTAGE",
          "POSTAGE",
          "POSTAGE",
          "POSTAGE",
          "POSTAGE",
          "POSTAGE",
          "POSTAGE",
          "POSTAGE",
          "POSTAGE",
          "POSTAGE",
          "POSTAGE",
          "POSTAGE",
          "POSTAGE",
          "POSTAGE",
          "POSTAGE",
          "POSTAGE",
          "POSTAGE",
          "POSTAGE",
          "POSTAGE",
          "POSTAGE",
          "POSTAGE",
          "POSTAGE"
         ],
         "yaxis": "y"
        }
       ],
       "layout": {
        "coloraxis": {
         "colorbar": {
          "title": {
           "text": "support"
          }
         },
         "colorscale": [
          [
           0,
           "#0d0887"
          ],
          [
           0.1111111111111111,
           "#46039f"
          ],
          [
           0.2222222222222222,
           "#7201a8"
          ],
          [
           0.3333333333333333,
           "#9c179e"
          ],
          [
           0.4444444444444444,
           "#bd3786"
          ],
          [
           0.5555555555555556,
           "#d8576b"
          ],
          [
           0.6666666666666666,
           "#ed7953"
          ],
          [
           0.7777777777777778,
           "#fb9f3a"
          ],
          [
           0.8888888888888888,
           "#fdca26"
          ],
          [
           1,
           "#f0f921"
          ]
         ]
        },
        "height": 1600,
        "legend": {
         "tracegroupgap": 0
        },
        "margin": {
         "b": 500,
         "l": 500,
         "pad": 4,
         "r": 150,
         "t": 100
        },
        "template": {
         "data": {
          "bar": [
           {
            "error_x": {
             "color": "#2a3f5f"
            },
            "error_y": {
             "color": "#2a3f5f"
            },
            "marker": {
             "line": {
              "color": "#E5ECF6",
              "width": 0.5
             }
            },
            "type": "bar"
           }
          ],
          "barpolar": [
           {
            "marker": {
             "line": {
              "color": "#E5ECF6",
              "width": 0.5
             }
            },
            "type": "barpolar"
           }
          ],
          "carpet": [
           {
            "aaxis": {
             "endlinecolor": "#2a3f5f",
             "gridcolor": "white",
             "linecolor": "white",
             "minorgridcolor": "white",
             "startlinecolor": "#2a3f5f"
            },
            "baxis": {
             "endlinecolor": "#2a3f5f",
             "gridcolor": "white",
             "linecolor": "white",
             "minorgridcolor": "white",
             "startlinecolor": "#2a3f5f"
            },
            "type": "carpet"
           }
          ],
          "choropleth": [
           {
            "colorbar": {
             "outlinewidth": 0,
             "ticks": ""
            },
            "type": "choropleth"
           }
          ],
          "contour": [
           {
            "colorbar": {
             "outlinewidth": 0,
             "ticks": ""
            },
            "colorscale": [
             [
              0,
              "#0d0887"
             ],
             [
              0.1111111111111111,
              "#46039f"
             ],
             [
              0.2222222222222222,
              "#7201a8"
             ],
             [
              0.3333333333333333,
              "#9c179e"
             ],
             [
              0.4444444444444444,
              "#bd3786"
             ],
             [
              0.5555555555555556,
              "#d8576b"
             ],
             [
              0.6666666666666666,
              "#ed7953"
             ],
             [
              0.7777777777777778,
              "#fb9f3a"
             ],
             [
              0.8888888888888888,
              "#fdca26"
             ],
             [
              1,
              "#f0f921"
             ]
            ],
            "type": "contour"
           }
          ],
          "contourcarpet": [
           {
            "colorbar": {
             "outlinewidth": 0,
             "ticks": ""
            },
            "type": "contourcarpet"
           }
          ],
          "heatmap": [
           {
            "colorbar": {
             "outlinewidth": 0,
             "ticks": ""
            },
            "colorscale": [
             [
              0,
              "#0d0887"
             ],
             [
              0.1111111111111111,
              "#46039f"
             ],
             [
              0.2222222222222222,
              "#7201a8"
             ],
             [
              0.3333333333333333,
              "#9c179e"
             ],
             [
              0.4444444444444444,
              "#bd3786"
             ],
             [
              0.5555555555555556,
              "#d8576b"
             ],
             [
              0.6666666666666666,
              "#ed7953"
             ],
             [
              0.7777777777777778,
              "#fb9f3a"
             ],
             [
              0.8888888888888888,
              "#fdca26"
             ],
             [
              1,
              "#f0f921"
             ]
            ],
            "type": "heatmap"
           }
          ],
          "heatmapgl": [
           {
            "colorbar": {
             "outlinewidth": 0,
             "ticks": ""
            },
            "colorscale": [
             [
              0,
              "#0d0887"
             ],
             [
              0.1111111111111111,
              "#46039f"
             ],
             [
              0.2222222222222222,
              "#7201a8"
             ],
             [
              0.3333333333333333,
              "#9c179e"
             ],
             [
              0.4444444444444444,
              "#bd3786"
             ],
             [
              0.5555555555555556,
              "#d8576b"
             ],
             [
              0.6666666666666666,
              "#ed7953"
             ],
             [
              0.7777777777777778,
              "#fb9f3a"
             ],
             [
              0.8888888888888888,
              "#fdca26"
             ],
             [
              1,
              "#f0f921"
             ]
            ],
            "type": "heatmapgl"
           }
          ],
          "histogram": [
           {
            "marker": {
             "colorbar": {
              "outlinewidth": 0,
              "ticks": ""
             }
            },
            "type": "histogram"
           }
          ],
          "histogram2d": [
           {
            "colorbar": {
             "outlinewidth": 0,
             "ticks": ""
            },
            "colorscale": [
             [
              0,
              "#0d0887"
             ],
             [
              0.1111111111111111,
              "#46039f"
             ],
             [
              0.2222222222222222,
              "#7201a8"
             ],
             [
              0.3333333333333333,
              "#9c179e"
             ],
             [
              0.4444444444444444,
              "#bd3786"
             ],
             [
              0.5555555555555556,
              "#d8576b"
             ],
             [
              0.6666666666666666,
              "#ed7953"
             ],
             [
              0.7777777777777778,
              "#fb9f3a"
             ],
             [
              0.8888888888888888,
              "#fdca26"
             ],
             [
              1,
              "#f0f921"
             ]
            ],
            "type": "histogram2d"
           }
          ],
          "histogram2dcontour": [
           {
            "colorbar": {
             "outlinewidth": 0,
             "ticks": ""
            },
            "colorscale": [
             [
              0,
              "#0d0887"
             ],
             [
              0.1111111111111111,
              "#46039f"
             ],
             [
              0.2222222222222222,
              "#7201a8"
             ],
             [
              0.3333333333333333,
              "#9c179e"
             ],
             [
              0.4444444444444444,
              "#bd3786"
             ],
             [
              0.5555555555555556,
              "#d8576b"
             ],
             [
              0.6666666666666666,
              "#ed7953"
             ],
             [
              0.7777777777777778,
              "#fb9f3a"
             ],
             [
              0.8888888888888888,
              "#fdca26"
             ],
             [
              1,
              "#f0f921"
             ]
            ],
            "type": "histogram2dcontour"
           }
          ],
          "mesh3d": [
           {
            "colorbar": {
             "outlinewidth": 0,
             "ticks": ""
            },
            "type": "mesh3d"
           }
          ],
          "parcoords": [
           {
            "line": {
             "colorbar": {
              "outlinewidth": 0,
              "ticks": ""
             }
            },
            "type": "parcoords"
           }
          ],
          "pie": [
           {
            "automargin": true,
            "type": "pie"
           }
          ],
          "scatter": [
           {
            "marker": {
             "colorbar": {
              "outlinewidth": 0,
              "ticks": ""
             }
            },
            "type": "scatter"
           }
          ],
          "scatter3d": [
           {
            "line": {
             "colorbar": {
              "outlinewidth": 0,
              "ticks": ""
             }
            },
            "marker": {
             "colorbar": {
              "outlinewidth": 0,
              "ticks": ""
             }
            },
            "type": "scatter3d"
           }
          ],
          "scattercarpet": [
           {
            "marker": {
             "colorbar": {
              "outlinewidth": 0,
              "ticks": ""
             }
            },
            "type": "scattercarpet"
           }
          ],
          "scattergeo": [
           {
            "marker": {
             "colorbar": {
              "outlinewidth": 0,
              "ticks": ""
             }
            },
            "type": "scattergeo"
           }
          ],
          "scattergl": [
           {
            "marker": {
             "colorbar": {
              "outlinewidth": 0,
              "ticks": ""
             }
            },
            "type": "scattergl"
           }
          ],
          "scattermapbox": [
           {
            "marker": {
             "colorbar": {
              "outlinewidth": 0,
              "ticks": ""
             }
            },
            "type": "scattermapbox"
           }
          ],
          "scatterpolar": [
           {
            "marker": {
             "colorbar": {
              "outlinewidth": 0,
              "ticks": ""
             }
            },
            "type": "scatterpolar"
           }
          ],
          "scatterpolargl": [
           {
            "marker": {
             "colorbar": {
              "outlinewidth": 0,
              "ticks": ""
             }
            },
            "type": "scatterpolargl"
           }
          ],
          "scatterternary": [
           {
            "marker": {
             "colorbar": {
              "outlinewidth": 0,
              "ticks": ""
             }
            },
            "type": "scatterternary"
           }
          ],
          "surface": [
           {
            "colorbar": {
             "outlinewidth": 0,
             "ticks": ""
            },
            "colorscale": [
             [
              0,
              "#0d0887"
             ],
             [
              0.1111111111111111,
              "#46039f"
             ],
             [
              0.2222222222222222,
              "#7201a8"
             ],
             [
              0.3333333333333333,
              "#9c179e"
             ],
             [
              0.4444444444444444,
              "#bd3786"
             ],
             [
              0.5555555555555556,
              "#d8576b"
             ],
             [
              0.6666666666666666,
              "#ed7953"
             ],
             [
              0.7777777777777778,
              "#fb9f3a"
             ],
             [
              0.8888888888888888,
              "#fdca26"
             ],
             [
              1,
              "#f0f921"
             ]
            ],
            "type": "surface"
           }
          ],
          "table": [
           {
            "cells": {
             "fill": {
              "color": "#EBF0F8"
             },
             "line": {
              "color": "white"
             }
            },
            "header": {
             "fill": {
              "color": "#C8D4E3"
             },
             "line": {
              "color": "white"
             }
            },
            "type": "table"
           }
          ]
         },
         "layout": {
          "annotationdefaults": {
           "arrowcolor": "#2a3f5f",
           "arrowhead": 0,
           "arrowwidth": 1
          },
          "coloraxis": {
           "colorbar": {
            "outlinewidth": 0,
            "ticks": ""
           }
          },
          "colorscale": {
           "diverging": [
            [
             0,
             "#8e0152"
            ],
            [
             0.1,
             "#c51b7d"
            ],
            [
             0.2,
             "#de77ae"
            ],
            [
             0.3,
             "#f1b6da"
            ],
            [
             0.4,
             "#fde0ef"
            ],
            [
             0.5,
             "#f7f7f7"
            ],
            [
             0.6,
             "#e6f5d0"
            ],
            [
             0.7,
             "#b8e186"
            ],
            [
             0.8,
             "#7fbc41"
            ],
            [
             0.9,
             "#4d9221"
            ],
            [
             1,
             "#276419"
            ]
           ],
           "sequential": [
            [
             0,
             "#0d0887"
            ],
            [
             0.1111111111111111,
             "#46039f"
            ],
            [
             0.2222222222222222,
             "#7201a8"
            ],
            [
             0.3333333333333333,
             "#9c179e"
            ],
            [
             0.4444444444444444,
             "#bd3786"
            ],
            [
             0.5555555555555556,
             "#d8576b"
            ],
            [
             0.6666666666666666,
             "#ed7953"
            ],
            [
             0.7777777777777778,
             "#fb9f3a"
            ],
            [
             0.8888888888888888,
             "#fdca26"
            ],
            [
             1,
             "#f0f921"
            ]
           ],
           "sequentialminus": [
            [
             0,
             "#0d0887"
            ],
            [
             0.1111111111111111,
             "#46039f"
            ],
            [
             0.2222222222222222,
             "#7201a8"
            ],
            [
             0.3333333333333333,
             "#9c179e"
            ],
            [
             0.4444444444444444,
             "#bd3786"
            ],
            [
             0.5555555555555556,
             "#d8576b"
            ],
            [
             0.6666666666666666,
             "#ed7953"
            ],
            [
             0.7777777777777778,
             "#fb9f3a"
            ],
            [
             0.8888888888888888,
             "#fdca26"
            ],
            [
             1,
             "#f0f921"
            ]
           ]
          },
          "colorway": [
           "#636efa",
           "#EF553B",
           "#00cc96",
           "#ab63fa",
           "#FFA15A",
           "#19d3f3",
           "#FF6692",
           "#B6E880",
           "#FF97FF",
           "#FECB52"
          ],
          "font": {
           "color": "#2a3f5f"
          },
          "geo": {
           "bgcolor": "white",
           "lakecolor": "white",
           "landcolor": "#E5ECF6",
           "showlakes": true,
           "showland": true,
           "subunitcolor": "white"
          },
          "hoverlabel": {
           "align": "left"
          },
          "hovermode": "closest",
          "mapbox": {
           "style": "light"
          },
          "paper_bgcolor": "white",
          "plot_bgcolor": "#E5ECF6",
          "polar": {
           "angularaxis": {
            "gridcolor": "white",
            "linecolor": "white",
            "ticks": ""
           },
           "bgcolor": "#E5ECF6",
           "radialaxis": {
            "gridcolor": "white",
            "linecolor": "white",
            "ticks": ""
           }
          },
          "scene": {
           "xaxis": {
            "backgroundcolor": "#E5ECF6",
            "gridcolor": "white",
            "gridwidth": 2,
            "linecolor": "white",
            "showbackground": true,
            "ticks": "",
            "zerolinecolor": "white"
           },
           "yaxis": {
            "backgroundcolor": "#E5ECF6",
            "gridcolor": "white",
            "gridwidth": 2,
            "linecolor": "white",
            "showbackground": true,
            "ticks": "",
            "zerolinecolor": "white"
           },
           "zaxis": {
            "backgroundcolor": "#E5ECF6",
            "gridcolor": "white",
            "gridwidth": 2,
            "linecolor": "white",
            "showbackground": true,
            "ticks": "",
            "zerolinecolor": "white"
           }
          },
          "shapedefaults": {
           "line": {
            "color": "#2a3f5f"
           }
          },
          "ternary": {
           "aaxis": {
            "gridcolor": "white",
            "linecolor": "white",
            "ticks": ""
           },
           "baxis": {
            "gridcolor": "white",
            "linecolor": "white",
            "ticks": ""
           },
           "bgcolor": "#E5ECF6",
           "caxis": {
            "gridcolor": "white",
            "linecolor": "white",
            "ticks": ""
           }
          },
          "title": {
           "x": 0.05
          },
          "xaxis": {
           "automargin": true,
           "gridcolor": "white",
           "linecolor": "white",
           "ticks": "",
           "title": {
            "standoff": 15
           },
           "zerolinecolor": "white",
           "zerolinewidth": 2
          },
          "yaxis": {
           "automargin": true,
           "gridcolor": "white",
           "linecolor": "white",
           "ticks": "",
           "title": {
            "standoff": 15
           },
           "zerolinecolor": "white",
           "zerolinewidth": 2
          }
         }
        },
        "width": 1200,
        "xaxis": {
         "anchor": "y",
         "domain": [
          0,
          1
         ],
         "title": {
          "text": "consequents"
         }
        },
        "yaxis": {
         "anchor": "x",
         "domain": [
          0,
          1
         ],
         "title": {
          "text": "antecedents"
         }
        }
       }
      }
     },
     "metadata": {},
     "output_type": "display_data"
    }
   ],
   "source": [
    "fig = px.scatter( plot1 , x = \"consequents\" , y = \"antecedents\" , color = \"support\",width=1200, height=1600)\n",
    "fig.update_layout(margin=dict(\n",
    "        l=500,\n",
    "        r=150,\n",
    "        b=500,\n",
    "        t=100,\n",
    "        pad=4\n",
    "    ),)\n",
    "fig.show()"
   ]
  },
  {
   "cell_type": "code",
   "execution_count": 10,
   "metadata": {},
   "outputs": [
    {
     "data": {
      "application/vnd.plotly.v1+json": {
       "config": {
        "plotlyServerURL": "https://plot.ly"
       },
       "data": [
        {
         "hoverlabel": {
          "namelength": 0
         },
         "hovertemplate": "consequents=%{x}<br>antecedents=%{y}<br>lift=%{marker.color}",
         "legendgroup": "",
         "marker": {
          "color": [
           1.3066666666666666,
           1.3066666666666666,
           1.3066666666666666,
           7.643999999999999,
           7.077777777777778,
           7.602424242424242,
           7.0392817059483725,
           1.26,
           1.2564102564102564,
           6.968888888888889,
           1.2544,
           1.2522222222222223,
           1.249855072463768,
           1.2472727272727273,
           6.913580246913582,
           1.2444444444444447,
           1.2360360360360363,
           1.225,
           1.2223655913978495,
           12.962962962962965,
           1.2098765432098768,
           1.2098765432098768,
           1.2061538461538461,
           1.2021333333333335,
           1.2021333333333335,
           1.200720720720721,
           9.711711711711713,
           14.254545454545454,
           1.187878787878788,
           1.187878787878788,
           1.187878787878788,
           1.1802150537634408,
           1.1714942528735635,
           1.1714942528735635,
           12.962962962962965,
           6.968888888888889,
           1.1614814814814816,
           1.1558974358974359,
           1.1558974358974359,
           1.1511111111111112,
           1.1498666666666668,
           1.1498666666666668,
           1.1482828282828283,
           1.1477477477477478,
           1.1433333333333333,
           1.1433333333333333,
           1.1410328638497653,
           6.817391304347826,
           1.136231884057971,
           1.1347368421052633,
           9.13327120223672,
           8.892921960072597,
           1.1130864197530865,
           8.98935298935299,
           8.728744939271255,
           1.1056410256410256,
           1.1003508771929824,
           1.1003508771929824,
           1.0976,
           1.0976,
           8.642958748221908,
           1.0933333333333335,
           1.0933333333333335,
           1.0888888888888892,
           1.0888888888888892,
           1.088888888888889,
           1.088888888888889,
           1.0826666666666667,
           1.0813793103448277,
           1.0805128205128205,
           1.078,
           1.078,
           1.078,
           1.078,
           8.495356037151703,
           1.0721367521367522,
           8.642958748221908,
           6.125,
           1.0553846153846154,
           1.0553846153846154,
           7.903225806451612,
           1.053134328358209,
           1.0517073170731708,
           1.05,
           14.254545454545456,
           6.817391304347826,
           6.030769230769231,
           1.0453333333333334,
           7.466666666666667,
           6.817391304347825,
           6.03076923076923,
           1.0453333333333332,
           7.700000000000001,
           1.0266666666666668,
           1.0266666666666668,
           5.9230769230769225,
           7.681081081081081,
           1.0208333333333335,
           1.0198373983739837,
           7.644,
           1.0162962962962963,
           1.0162962962962963,
           1.0162962962962963,
           1.0162962962962963,
           1.0133333333333334,
           4.513432835820895,
           6.03076923076923,
           5.584045584045584,
           6.016744186046512,
           5.5710594315245485,
           1.0008510638297874,
           7.4941176470588236,
           7.478947368421053,
           7.466666666666666,
           4.442233278054174,
           9.011494252873563,
           8.746450304259634,
           8.98935298935299,
           6.125,
           6.077519379844961,
           7.870270270270271,
           6.913580246913582,
           5.584045584045584,
           8.495356037151703,
           4.290547263681592,
           7.127272727272727,
           7.681081081081081,
           7.478947368421053,
           5.793103448275862,
           4.236747297992795,
           7.077777777777778,
           4.2689393939393945,
           5.743589743589744,
           5.408026755852842,
           7.9483870967741925,
           7.870270270270271,
           6.817391304347825,
           7.0736842105263165,
           9.13327120223672,
           4.9,
           9.011494252873565,
           6.077519379844961,
           6.016744186046511,
           3.9113082039911307,
           8.892921960072597,
           7.4941176470588236,
           3.849607182940517,
           8.746450304259636,
           3.8276094276094272,
           7.602424242424242,
           4.61952861952862,
           3.7796143250688705,
           5.923076923076923,
           5.408026755852842,
           7.073684210526316,
           7.9483870967741925,
           7.903225806451612,
           3.93025283347864,
           6.03076923076923,
           4.442233278054175,
           5.5710594315245485,
           4.436213991769548,
           4.436213991769548,
           3.62962962962963,
           5.054803352675694,
           3.5459068294889193,
           7.127272727272727,
           4.355555555555556,
           3.5459068294889193,
           3.7634408602150535,
           9.711711711711713,
           7.0392817059483725,
           3.824390243902439,
           4.971014492753622,
           3.8111111111111104,
           8.728744939271255,
           5.743589743589744,
           3.328872876994339,
           4.444444444444445,
           3.6141843971631205,
           5.554655870445344,
           7.699999999999999,
           3.701149425287357,
           4.532839962997225,
           3.4176111595466434,
           5.554655870445344,
           3.62962962962963,
           4.532839962997224,
           4.25531914893617,
           3.466666666666667,
           3.849607182940517,
           4.573333333333332,
           4.378723404255319,
           3.645833333333334,
           3.461732548359966,
           4.174074074074074,
           3.5777777777777775,
           4.25531914893617,
           4.8999999999999995,
           4,
           3.62962962962963,
           3.62962962962963,
           3.2666666666666666,
           4.290547263681591,
           3.3288728769943385,
           4,
           4.06850025947068,
           4.174074074074074,
           3.12463768115942,
           3.74468085106383,
           4.573333333333332,
           4.971014492753623,
           3.652173913043478,
           3.74468085106383,
           4.378723404255319,
           3.648936170212766,
           3.2434988179669033,
           3.6458333333333335,
           3.8276094276094277,
           3.648936170212766,
           3.550724637681159,
           3.614184397163121,
           3.466666666666667,
           5.793103448275862,
           3.652173913043478,
           2.8,
           5.054803352675694,
           4.06850025947068,
           3.550724637681159,
           3.577777777777778,
           3.91130820399113,
           4.444444444444445,
           3.7634408602150535,
           4.513432835820895,
           3.8243902439024384,
           3.7011494252873565,
           4.619528619528619,
           4.355555555555555,
           3.2434988179669033,
           2.1471048513302033,
           3.93025283347864,
           2.592592592592593,
           2.3416965352449224,
           2.1997755331088666,
           3.12463768115942,
           3.4617325483599664,
           2.592592592592593,
           2.3333333333333335,
           3.8111111111111104,
           2.8,
           4.2689393939393945,
           1.9038368139873725,
           2.0117302052785924,
           1.9817043813192103,
           3.2666666666666666,
           2.3333333333333335,
           3.4176111595466434,
           2.3416965352449224,
           1.9159335288367547,
           3.7796143250688705,
           2.0117302052785924,
           4.236747297992795,
           1.9817043813192103,
           1.7305024174900148,
           2.1997755331088666,
           1.9159335288367545,
           1.6730687153222363,
           2.147104851330204,
           1.7305024174900148,
           1.5668062428625809,
           1.5668062428625809,
           1.9038368139873727,
           1.6730687153222366,
           1.1477477477477478,
           1.1410328638497653,
           1.2223655913978493,
           1.1482828282828283,
           1.0531343283582089,
           1.0453333333333332,
           1.1130864197530868,
           1.2250000000000003,
           1.0888888888888892,
           1.0888888888888892,
           1.0500000000000003,
           1.0805128205128205,
           1.0976,
           1.0933333333333335,
           1.0933333333333335,
           1.136231884057971,
           1.0888888888888888,
           1.0133333333333334,
           1.1511111111111112,
           1.0008510638297874,
           1.236036036036036,
           1.1433333333333333,
           1.200720720720721,
           1.1347368421052633,
           1.078,
           1.078,
           1.078,
           1.078,
           1.0517073170731708,
           1.1003508771929824,
           1.1003508771929824,
           1.072136752136752,
           1.0198373983739837,
           1.3066666666666666,
           1.0826666666666667,
           1.1802150537634408,
           1.1433333333333335,
           1.26,
           1.1714942528735635,
           1.1714942528735635,
           1.2564102564102564,
           1.2098765432098768,
           1.2098765432098768,
           1.088888888888889,
           1.0208333333333335,
           1.2544,
           1.2061538461538461,
           1.1614814814814816,
           1.0813793103448277,
           1.2522222222222223,
           1.2021333333333335,
           1.2021333333333335,
           1.1558974358974359,
           1.1558974358974359,
           1.249855072463768,
           1.1498666666666666,
           1.1498666666666666,
           1.1056410256410256,
           1.0266666666666668,
           1.0266666666666668,
           1.3066666666666666,
           1.247272727272727,
           1.0976,
           1.0553846153846151,
           1.0553846153846151,
           1.0162962962962963,
           1.0162962962962963,
           1.0162962962962963,
           1.0162962962962963,
           1.3066666666666666,
           1.2444444444444445,
           1.1878787878787878,
           1.1878787878787878,
           1.1878787878787878,
           1.0453333333333332
          ],
          "coloraxis": "coloraxis",
          "symbol": "circle"
         },
         "mode": "markers",
         "name": "",
         "showlegend": false,
         "type": "scatter",
         "x": [
          "POSTAGE",
          "POSTAGE",
          "POSTAGE",
          "SET/6 RED SPOTTY PAPER PLATES",
          "SET/6 RED SPOTTY PAPER CUPS",
          "SET/6 RED SPOTTY PAPER PLATES",
          "SET/6 RED SPOTTY PAPER CUPS",
          "POSTAGE",
          "POSTAGE",
          "SET/6 RED SPOTTY PAPER CUPS",
          "POSTAGE",
          "POSTAGE",
          "POSTAGE",
          "POSTAGE",
          "SET/6 RED SPOTTY PAPER CUPS",
          "POSTAGE",
          "POSTAGE",
          "POSTAGE",
          "POSTAGE",
          "CHILDRENS CUTLERY DOLLY GIRL",
          "POSTAGE",
          "POSTAGE",
          "POSTAGE",
          "POSTAGE",
          "POSTAGE",
          "POSTAGE",
          "ALARM CLOCK BAKELIKE RED",
          "PACK OF 6 SKULL PAPER CUPS",
          "POSTAGE",
          "POSTAGE",
          "POSTAGE",
          "POSTAGE",
          "POSTAGE",
          "POSTAGE",
          "CHILDRENS CUTLERY SPACEBOY",
          "SET/6 RED SPOTTY PAPER PLATES",
          "POSTAGE",
          "POSTAGE",
          "POSTAGE",
          "POSTAGE",
          "POSTAGE",
          "POSTAGE",
          "POSTAGE",
          "POSTAGE",
          "POSTAGE",
          "POSTAGE",
          "POSTAGE",
          "SET/6 RED SPOTTY PAPER PLATES",
          "POSTAGE",
          "POSTAGE",
          "ALARM CLOCK BAKELIKE RED",
          "ALARM CLOCK BAKELIKE GREEN",
          "POSTAGE",
          "ALARM CLOCK BAKELIKE RED",
          "ALARM CLOCK BAKELIKE GREEN",
          "POSTAGE",
          "POSTAGE",
          "POSTAGE",
          "POSTAGE",
          "POSTAGE",
          "ALARM CLOCK BAKELIKE GREEN",
          "POSTAGE",
          "POSTAGE",
          "POSTAGE",
          "POSTAGE",
          "POSTAGE",
          "POSTAGE",
          "POSTAGE",
          "POSTAGE",
          "POSTAGE",
          "POSTAGE",
          "POSTAGE",
          "POSTAGE",
          "POSTAGE",
          "ALARM CLOCK BAKELIKE GREEN",
          "POSTAGE",
          "ALARM CLOCK BAKELIKE RED",
          "SET/20 RED RETROSPOT PAPER NAPKINS",
          "POSTAGE",
          "POSTAGE",
          "ALARM CLOCK BAKELIKE PINK",
          "POSTAGE",
          "POSTAGE",
          "POSTAGE",
          "PACK OF 6 SKULL PAPER PLATES",
          "SET/6 RED SPOTTY PAPER CUPS,POSTAGE",
          "SET/20 RED RETROSPOT PAPER NAPKINS",
          "POSTAGE",
          "POSTAGE,SET/6 RED SPOTTY PAPER PLATES",
          "SET/6 RED SPOTTY PAPER CUPS,POSTAGE",
          "SET/20 RED RETROSPOT PAPER NAPKINS",
          "POSTAGE",
          "ALARM CLOCK BAKELIKE PINK",
          "POSTAGE",
          "POSTAGE",
          "SET/20 RED RETROSPOT PAPER NAPKINS",
          "ALARM CLOCK BAKELIKE PINK",
          "POSTAGE",
          "POSTAGE",
          "SET/20 RED RETROSPOT PAPER NAPKINS,SET/6 RED SPOTTY PAPER CUPS",
          "POSTAGE",
          "POSTAGE",
          "POSTAGE",
          "POSTAGE",
          "POSTAGE",
          "PLASTERS IN TIN WOODLAND ANIMALS",
          "SET/6 RED SPOTTY PAPER PLATES",
          "SET/6 RED SPOTTY PAPER CUPS",
          "SET/6 RED SPOTTY PAPER PLATES",
          "SET/6 RED SPOTTY PAPER CUPS",
          "POSTAGE",
          "ALARM CLOCK BAKELIKE PINK",
          "ALARM CLOCK BAKELIKE PINK",
          "SET/20 RED RETROSPOT PAPER NAPKINS,SET/6 RED SPOTTY PAPER CUPS",
          "PLASTERS IN TIN WOODLAND ANIMALS",
          "ALARM CLOCK BAKELIKE GREEN,POSTAGE",
          "ALARM CLOCK BAKELIKE RED,POSTAGE",
          "ALARM CLOCK BAKELIKE GREEN,POSTAGE",
          "SET/6 RED SPOTTY PAPER CUPS,SET/6 RED SPOTTY PAPER PLATES",
          "SET/6 RED SPOTTY PAPER CUPS,SET/6 RED SPOTTY PAPER PLATES",
          "ALARM CLOCK BAKELIKE RED",
          "POSTAGE,SET/6 RED SPOTTY PAPER PLATES",
          "SET/20 RED RETROSPOT PAPER NAPKINS",
          "ALARM CLOCK BAKELIKE RED,POSTAGE",
          "PLASTERS IN TIN WOODLAND ANIMALS",
          "ALARM CLOCK BAKELIKE PINK",
          "ALARM CLOCK BAKELIKE RED",
          "ALARM CLOCK BAKELIKE GREEN",
          "SPACEBOY LUNCH BOX",
          "PLASTERS IN TIN WOODLAND ANIMALS",
          "SET/20 RED RETROSPOT PAPER NAPKINS,SET/6 RED SPOTTY PAPER PLATES",
          "PLASTERS IN TIN CIRCUS PARADE",
          "SPACEBOY LUNCH BOX",
          "SET/20 RED RETROSPOT PAPER NAPKINS",
          "ALARM CLOCK BAKELIKE PINK,POSTAGE",
          "ALARM CLOCK BAKELIKE PINK,POSTAGE",
          "SET/20 RED RETROSPOT PAPER NAPKINS,SET/6 RED SPOTTY PAPER PLATES",
          "ALARM CLOCK BAKELIKE GREEN",
          "ALARM CLOCK BAKELIKE GREEN,ALARM CLOCK BAKELIKE PINK",
          "PLASTERS IN TIN SPACEBOY",
          "ALARM CLOCK BAKELIKE RED,ALARM CLOCK BAKELIKE PINK",
          "SET/20 RED RETROSPOT PAPER NAPKINS,POSTAGE",
          "SET/20 RED RETROSPOT PAPER NAPKINS,POSTAGE",
          "PLASTERS IN TIN CIRCUS PARADE",
          "ALARM CLOCK BAKELIKE RED,ALARM CLOCK BAKELIKE PINK",
          "ALARM CLOCK BAKELIKE RED,POSTAGE",
          "PLASTERS IN TIN CIRCUS PARADE",
          "ALARM CLOCK BAKELIKE GREEN,ALARM CLOCK BAKELIKE PINK",
          "PLASTERS IN TIN CIRCUS PARADE",
          "SET/20 RED RETROSPOT PAPER NAPKINS,SET/6 RED SPOTTY PAPER CUPS,POSTAGE",
          "PLASTERS IN TIN SPACEBOY",
          "PLASTERS IN TIN CIRCUS PARADE",
          "POSTAGE,SET/6 RED SPOTTY PAPER PLATES",
          "SET/6 RED SPOTTY PAPER CUPS,POSTAGE",
          "ALARM CLOCK BAKELIKE PINK,POSTAGE",
          "ALARM CLOCK BAKELIKE GREEN,ALARM CLOCK BAKELIKE RED",
          "ALARM CLOCK BAKELIKE GREEN,ALARM CLOCK BAKELIKE RED",
          "ROUND SNACK BOXES SET OF4 WOODLAND",
          "SET/6 RED SPOTTY PAPER CUPS,POSTAGE,SET/6 RED SPOTTY PAPER PLATES",
          "PLASTERS IN TIN SPACEBOY",
          "SET/20 RED RETROSPOT PAPER NAPKINS,POSTAGE",
          "PLASTERS IN TIN SPACEBOY",
          "POSTAGE,PLASTERS IN TIN WOODLAND ANIMALS",
          "PLASTERS IN TIN CIRCUS PARADE",
          "LUNCH BAG SPACEBOY DESIGN",
          "PLASTERS IN TIN WOODLAND ANIMALS",
          "ALARM CLOCK BAKELIKE GREEN,POSTAGE",
          "POSTAGE,PLASTERS IN TIN WOODLAND ANIMALS",
          "PLASTERS IN TIN CIRCUS PARADE",
          "ROUND SNACK BOXES SET OF4 WOODLAND",
          "ALARM CLOCK BAKELIKE GREEN,ALARM CLOCK BAKELIKE PINK,POSTAGE",
          "SET/20 RED RETROSPOT PAPER NAPKINS,POSTAGE,SET/6 RED SPOTTY PAPER PLATES",
          "LUNCH BAG RED RETROSPOT",
          "LUNCH BAG WOODLAND",
          "LUNCH BAG RED RETROSPOT",
          "ALARM CLOCK BAKELIKE RED,ALARM CLOCK BAKELIKE PINK,POSTAGE",
          "DOLLY GIRL LUNCH BOX",
          "PLASTERS IN TIN WOODLAND ANIMALS",
          "LUNCH BAG APPLE DESIGN",
          "LUNCH BAG RED RETROSPOT",
          "DOLLY GIRL LUNCH BOX",
          "ALARM CLOCK BAKELIKE GREEN,ALARM CLOCK BAKELIKE RED,POSTAGE",
          "POSTAGE,ROUND SNACK BOXES SET OF4 WOODLAND",
          "LUNCH BAG SPACEBOY DESIGN",
          "ROUND SNACK BOXES SET OF4 WOODLAND",
          "POSTAGE,SPACEBOY LUNCH BOX",
          "PLASTERS IN TIN CIRCUS PARADE,POSTAGE",
          "LUNCH BAG WOODLAND",
          "LUNCH BAG APPLE DESIGN",
          "LUNCH BAG RED RETROSPOT",
          "PLASTERS IN TIN SPACEBOY",
          "POSTAGE,PLASTERS IN TIN SPACEBOY",
          "LUNCH BAG SPACEBOY DESIGN",
          "LUNCH BOX WITH CUTLERY RETROSPOT",
          "PLASTERS IN TIN CIRCUS PARADE,POSTAGE",
          "STRAWBERRY LUNCH BOX WITH CUTLERY",
          "LUNCH BOX WITH CUTLERY RETROSPOT",
          "LUNCH BAG SPACEBOY DESIGN",
          "PLASTERS IN TIN CIRCUS PARADE,PLASTERS IN TIN WOODLAND ANIMALS",
          "LUNCH BAG APPLE DESIGN",
          "PLASTERS IN TIN SPACEBOY",
          "POSTAGE,PLASTERS IN TIN WOODLAND ANIMALS",
          "LUNCH BAG RED RETROSPOT",
          "POSTAGE,PLASTERS IN TIN SPACEBOY",
          "PLASTERS IN TIN CIRCUS PARADE,POSTAGE",
          "POSTAGE,LUNCH BAG RED RETROSPOT",
          "LUNCH BAG SPACEBOY DESIGN",
          "LUNCH BOX WITH CUTLERY RETROSPOT,POSTAGE",
          "LUNCH BAG RED RETROSPOT",
          "SPACEBOY LUNCH BOX",
          "PLASTERS IN TIN CIRCUS PARADE,PLASTERS IN TIN WOODLAND ANIMALS",
          "LUNCH BAG SPACEBOY DESIGN,POSTAGE",
          "LUNCH BAG APPLE DESIGN",
          "LUNCH BAG SPACEBOY DESIGN",
          "POSTAGE,LUNCH BAG WOODLAND",
          "POSTAGE,LUNCH BAG RED RETROSPOT",
          "PLASTERS IN TIN SPACEBOY",
          "STRAWBERRY LUNCH BOX WITH CUTLERY",
          "POSTAGE,PLASTERS IN TIN SPACEBOY",
          "LUNCH BAG SPACEBOY DESIGN",
          "POSTAGE,LUNCH BAG RED RETROSPOT",
          "LUNCH BAG SPACEBOY DESIGN",
          "LUNCH BAG APPLE DESIGN",
          "POSTAGE,DOLLY GIRL LUNCH BOX",
          "LUNCH BAG WOODLAND",
          "LUNCH BAG RED RETROSPOT",
          "LUNCH BAG DOLLY GIRL DESIGN",
          "LUNCH BAG APPLE DESIGN,POSTAGE",
          "LUNCH BAG WOODLAND",
          "STRAWBERRY LUNCH BOX WITH CUTLERY,POSTAGE",
          "PLASTERS IN TIN SPACEBOY,PLASTERS IN TIN WOODLAND ANIMALS",
          "LUNCH BAG SPACEBOY DESIGN,POSTAGE",
          "ROUND SNACK BOXES SET OF 4 FRUITS",
          "PLASTERS IN TIN CIRCUS PARADE,PLASTERS IN TIN SPACEBOY",
          "LUNCH BAG APPLE DESIGN,POSTAGE",
          "ROUND SNACK BOXES SET OF 4 FRUITS",
          "PLASTERS IN TIN CIRCUS PARADE,POSTAGE,PLASTERS IN TIN WOODLAND ANIMALS",
          "PLASTERS IN TIN CIRCUS PARADE,PLASTERS IN TIN SPACEBOY",
          "LUNCH BAG SPACEBOY DESIGN",
          "RED TOADSTOOL LED NIGHT LIGHT",
          "ROUND SNACK BOXES SET OF 4 FRUITS,POSTAGE",
          "LUNCH BOX WITH CUTLERY RETROSPOT",
          "ROUND SNACK BOXES SET OF4 WOODLAND",
          "PLASTERS IN TIN CIRCUS PARADE",
          "LUNCH BAG WOODLAND",
          "PLASTERS IN TIN SPACEBOY,PLASTERS IN TIN WOODLAND ANIMALS",
          "RED RETROSPOT MINI CASES",
          "LUNCH BAG RED RETROSPOT",
          "LUNCH BAG SPACEBOY DESIGN,POSTAGE",
          "SPACEBOY LUNCH BOX",
          "PLASTERS IN TIN STRONGMAN",
          "RED TOADSTOOL LED NIGHT LIGHT",
          "PLASTERS IN TIN CIRCUS PARADE",
          "PLASTERS IN TIN WOODLAND ANIMALS",
          "POSTAGE,LUNCH BAG WOODLAND",
          "LUNCH BOX WITH CUTLERY RETROSPOT",
          "ALARM CLOCK BAKELIKE RED",
          "RED RETROSPOT MINI CASES",
          "PLASTERS IN TIN CIRCUS PARADE",
          "PLASTERS IN TIN SPACEBOY,POSTAGE,PLASTERS IN TIN WOODLAND ANIMALS",
          "ROUND SNACK BOXES SET OF4 WOODLAND",
          "PLASTERS IN TIN CIRCUS PARADE,POSTAGE,PLASTERS IN TIN SPACEBOY",
          "RED TOADSTOOL LED NIGHT LIGHT,POSTAGE",
          "RED TOADSTOOL LED NIGHT LIGHT",
          "RED RETROSPOT MINI CASES",
          "RED TOADSTOOL LED NIGHT LIGHT,POSTAGE",
          "RED TOADSTOOL LED NIGHT LIGHT",
          "POSTAGE,PLASTERS IN TIN WOODLAND ANIMALS",
          "PLASTERS IN TIN WOODLAND ANIMALS",
          "RABBIT NIGHT LIGHT",
          "RED TOADSTOOL LED NIGHT LIGHT",
          "PLASTERS IN TIN CIRCUS PARADE,POSTAGE",
          "PLASTERS IN TIN CIRCUS PARADE",
          "RABBIT NIGHT LIGHT",
          "RED TOADSTOOL LED NIGHT LIGHT",
          "ROUND SNACK BOXES SET OF4 WOODLAND",
          "PLASTERS IN TIN CIRCUS PARADE",
          "PLASTERS IN TIN WOODLAND ANIMALS",
          "LUNCH BAG RED RETROSPOT",
          "SET/6 RED SPOTTY PAPER CUPS",
          "STRAWBERRY LUNCH BOX WITH CUTLERY",
          "PLASTERS IN TIN SPACEBOY",
          "RED RETROSPOT MINI CASES",
          "LUNCH BOX WITH CUTLERY RETROSPOT",
          "SET/20 RED RETROSPOT PAPER NAPKINS",
          "SET/6 RED SPOTTY PAPER PLATES",
          "LUNCH BAG APPLE DESIGN",
          "REGENCY CAKESTAND 3 TIER",
          "LUNCH BAG WOODLAND",
          "SET/6 RED SPOTTY PAPER CUPS,SET/6 RED SPOTTY PAPER PLATES",
          "SPACEBOY LUNCH BOX",
          "ROUND SNACK BOXES SET OF 4 FRUITS",
          "LUNCH BAG SPACEBOY DESIGN",
          "TEA PARTY BIRTHDAY CARD",
          "ALARM CLOCK BAKELIKE PINK",
          "ALARM CLOCK BAKELIKE RED",
          "ALARM CLOCK BAKELIKE GREEN",
          "PACK OF 72 RETROSPOT CAKE CASES",
          "PLASTERS IN TIN CIRCUS PARADE,PLASTERS IN TIN WOODLAND ANIMALS",
          "SET/20 RED RETROSPOT PAPER NAPKINS,SET/6 RED SPOTTY PAPER CUPS",
          "SET/20 RED RETROSPOT PAPER NAPKINS,SET/6 RED SPOTTY PAPER PLATES",
          "PLASTERS IN TIN SPACEBOY,PLASTERS IN TIN WOODLAND ANIMALS",
          "JUMBO BAG RED RETROSPOT",
          "RED RETROSPOT CHARLOTTE BAG",
          "SET/20 RED RETROSPOT PAPER NAPKINS,SET/6 RED SPOTTY PAPER CUPS,SET/6 RED SPOTTY PAPER PLATES",
          "MINI PAINT SET VINTAGE",
          "JUMBO BAG WOODLAND ANIMALS",
          "PLASTERS IN TIN CIRCUS PARADE,PLASTERS IN TIN SPACEBOY",
          "ALARM CLOCK BAKELIKE GREEN,ALARM CLOCK BAKELIKE RED",
          "PAPER BUNTING RETROSPOT",
          "RED RETROSPOT PICNIC BAG",
          "WOODLAND CHARLOTTE BAG",
          "ALARM CLOCK BAKELIKE RED,ALARM CLOCK BAKELIKE PINK",
          "SET OF 9 BLACK SKULL BALLOONS",
          "ASSORTED COLOUR MINI CASES",
          "SET OF 2 TEA TOWELS APPLE AND PEARS",
          "SET/10 RED POLKADOT PARTY CANDLES",
          "PLASTERS IN TIN STRONGMAN",
          "PACK OF 6 SKULL PAPER CUPS",
          "LUNCH BAG APPLE DESIGN,LUNCH BAG RED RETROSPOT",
          "COFFEE MUG APPLES DESIGN",
          "ALARM CLOCK BAKELIKE GREEN,ALARM CLOCK BAKELIKE PINK",
          "RETROSPOT PARTY BAG + STICKER SET",
          "STRAWBERRY LUNCH BOX WITH CUTLERY,LUNCH BOX WITH CUTLERY RETROSPOT",
          "ROUND SNACK BOXES SET OF 4 FRUITS,ROUND SNACK BOXES SET OF4 WOODLAND",
          "CHARLOTTE BAG DOLLY GIRL DESIGN",
          "JUMBO BAG APPLES",
          "GUMBALL COAT RACK",
          "JUMBO BAG SPACEBOY DESIGN",
          "ALARM CLOCK BAKELIKE GREEN,ALARM CLOCK BAKELIKE RED,ALARM CLOCK BAKELIKE PINK",
          "SET OF 9 HEART SHAPED BALLOONS",
          "4 TRADITIONAL SPINNING TOPS",
          "SPACEBOY BIRTHDAY CARD",
          "RED TOADSTOOL LED NIGHT LIGHT,PLASTERS IN TIN WOODLAND ANIMALS",
          "PACK OF 6 SKULL PAPER PLATES",
          "LUNCH BAG SPACEBOY DESIGN,LUNCH BAG WOODLAND",
          "CHILDRENS APRON SPACEBOY DESIGN",
          "LUNCH BAG SPACEBOY DESIGN,LUNCH BAG RED RETROSPOT",
          "CHARLOTTE BAG APPLES DESIGN",
          "CIRCUS PARADE LUNCH BOX",
          "LUNCH BOX I LOVE LONDON",
          "PLASTERS IN TIN SPACEBOY,PLASTERS IN TIN CIRCUS PARADE,PLASTERS IN TIN WOODLAND ANIMALS",
          "RED TOADSTOOL LED NIGHT LIGHT,PLASTERS IN TIN CIRCUS PARADE",
          "JAM MAKING SET PRINTED",
          "CIRCUS PARADE CHILDRENS EGG CUP",
          "PARTY BUNTING",
          "LUNCH BAG WOODLAND,LUNCH BAG RED RETROSPOT",
          "LUNCH BAG SPACEBOY DESIGN,LUNCH BAG APPLE DESIGN"
         ],
         "xaxis": "x",
         "y": [
          "JUMBO BAG WOODLAND ANIMALS",
          "RED TOADSTOOL LED NIGHT LIGHT,PLASTERS IN TIN CIRCUS PARADE",
          "RED TOADSTOOL LED NIGHT LIGHT,PLASTERS IN TIN WOODLAND ANIMALS",
          "SET/20 RED RETROSPOT PAPER NAPKINS,SET/6 RED SPOTTY PAPER CUPS",
          "SET/20 RED RETROSPOT PAPER NAPKINS,SET/6 RED SPOTTY PAPER PLATES",
          "SET/20 RED RETROSPOT PAPER NAPKINS,SET/6 RED SPOTTY PAPER CUPS,POSTAGE",
          "SET/20 RED RETROSPOT PAPER NAPKINS,POSTAGE,SET/6 RED SPOTTY PAPER PLATES",
          "RED RETROSPOT PICNIC BAG",
          "SET OF 9 BLACK SKULL BALLOONS",
          "SET/6 RED SPOTTY PAPER PLATES",
          "PACK OF 6 SKULL PAPER CUPS",
          "RETROSPOT PARTY BAG + STICKER SET",
          "GUMBALL COAT RACK",
          "PACK OF 6 SKULL PAPER PLATES",
          "POSTAGE,SET/6 RED SPOTTY PAPER PLATES",
          "JAM MAKING SET PRINTED",
          "TEA PARTY BIRTHDAY CARD",
          "STRAWBERRY LUNCH BOX WITH CUTLERY",
          "ROUND SNACK BOXES SET OF4 WOODLAND",
          "CHILDRENS CUTLERY SPACEBOY",
          "ASSORTED COLOUR MINI CASES",
          "SET OF 2 TEA TOWELS APPLE AND PEARS",
          "LUNCH BAG APPLE DESIGN,LUNCH BAG RED RETROSPOT",
          "STRAWBERRY LUNCH BOX WITH CUTLERY,LUNCH BOX WITH CUTLERY RETROSPOT",
          "ROUND SNACK BOXES SET OF 4 FRUITS,ROUND SNACK BOXES SET OF4 WOODLAND",
          "ALARM CLOCK BAKELIKE RED",
          "ALARM CLOCK BAKELIKE GREEN,ALARM CLOCK BAKELIKE PINK,POSTAGE",
          "PACK OF 6 SKULL PAPER PLATES",
          "CIRCUS PARADE CHILDRENS EGG CUP",
          "PARTY BUNTING",
          "LUNCH BAG WOODLAND,LUNCH BAG RED RETROSPOT",
          "ALARM CLOCK BAKELIKE GREEN,ALARM CLOCK BAKELIKE RED",
          "WOODLAND CHARLOTTE BAG",
          "ALARM CLOCK BAKELIKE RED,ALARM CLOCK BAKELIKE PINK",
          "CHILDRENS CUTLERY DOLLY GIRL",
          "SET/6 RED SPOTTY PAPER CUPS",
          "COFFEE MUG APPLES DESIGN",
          "CHARLOTTE BAG DOLLY GIRL DESIGN",
          "JUMBO BAG APPLES",
          "ROUND SNACK BOXES SET OF 4 FRUITS",
          "JUMBO BAG SPACEBOY DESIGN",
          "ALARM CLOCK BAKELIKE GREEN,ALARM CLOCK BAKELIKE RED,ALARM CLOCK BAKELIKE PINK",
          "PLASTERS IN TIN CIRCUS PARADE",
          "RABBIT NIGHT LIGHT",
          "ALARM CLOCK BAKELIKE PINK",
          "PAPER BUNTING RETROSPOT",
          "RED TOADSTOOL LED NIGHT LIGHT",
          "SET/6 RED SPOTTY PAPER CUPS,POSTAGE",
          "LUNCH BAG WOODLAND",
          "ALARM CLOCK BAKELIKE GREEN",
          "ALARM CLOCK BAKELIKE GREEN,ALARM CLOCK BAKELIKE PINK",
          "ALARM CLOCK BAKELIKE RED,ALARM CLOCK BAKELIKE PINK",
          "SET/6 RED SPOTTY PAPER CUPS",
          "ALARM CLOCK BAKELIKE GREEN,POSTAGE",
          "ALARM CLOCK BAKELIKE RED,ALARM CLOCK BAKELIKE PINK,POSTAGE",
          "SET OF 9 HEART SHAPED BALLOONS",
          "JUMBO BAG RED RETROSPOT",
          "RED RETROSPOT CHARLOTTE BAG",
          "SET/6 RED SPOTTY PAPER PLATES",
          "LUNCH BAG SPACEBOY DESIGN,LUNCH BAG WOODLAND",
          "ALARM CLOCK BAKELIKE RED",
          "LUNCH BAG APPLE DESIGN",
          "REGENCY CAKESTAND 3 TIER",
          "PLASTERS IN TIN SPACEBOY",
          "RED RETROSPOT MINI CASES",
          "SET/10 RED POLKADOT PARTY CANDLES",
          "SET/6 RED SPOTTY PAPER CUPS,SET/6 RED SPOTTY PAPER PLATES",
          "PLASTERS IN TIN CIRCUS PARADE,PLASTERS IN TIN SPACEBOY",
          "ALARM CLOCK BAKELIKE GREEN,ALARM CLOCK BAKELIKE PINK",
          "SET/20 RED RETROSPOT PAPER NAPKINS",
          "PACK OF 72 RETROSPOT CAKE CASES",
          "PLASTERS IN TIN CIRCUS PARADE,PLASTERS IN TIN WOODLAND ANIMALS",
          "SET/20 RED RETROSPOT PAPER NAPKINS,SET/6 RED SPOTTY PAPER CUPS",
          "SET/20 RED RETROSPOT PAPER NAPKINS,SET/6 RED SPOTTY PAPER PLATES",
          "ALARM CLOCK BAKELIKE RED,POSTAGE",
          "SET/20 RED RETROSPOT PAPER NAPKINS,SET/6 RED SPOTTY PAPER CUPS,SET/6 RED SPOTTY PAPER PLATES",
          "ALARM CLOCK BAKELIKE GREEN",
          "SET/6 RED SPOTTY PAPER CUPS,SET/6 RED SPOTTY PAPER PLATES",
          "CHILDRENS APRON SPACEBOY DESIGN",
          "LUNCH BAG SPACEBOY DESIGN,LUNCH BAG RED RETROSPOT",
          "ALARM CLOCK BAKELIKE GREEN,ALARM CLOCK BAKELIKE RED",
          "PLASTERS IN TIN WOODLAND ANIMALS",
          "PLASTERS IN TIN SPACEBOY,PLASTERS IN TIN WOODLAND ANIMALS",
          "LUNCH BOX WITH CUTLERY RETROSPOT",
          "PACK OF 6 SKULL PAPER CUPS",
          "SET/6 RED SPOTTY PAPER PLATES",
          "SET/6 RED SPOTTY PAPER PLATES",
          "LUNCH BAG SPACEBOY DESIGN,LUNCH BAG APPLE DESIGN",
          "SET/20 RED RETROSPOT PAPER NAPKINS,SET/6 RED SPOTTY PAPER CUPS",
          "SET/20 RED RETROSPOT PAPER NAPKINS,SET/6 RED SPOTTY PAPER PLATES",
          "SET/6 RED SPOTTY PAPER CUPS,POSTAGE,SET/6 RED SPOTTY PAPER PLATES",
          "LUNCH BAG RED RETROSPOT",
          "ALARM CLOCK BAKELIKE GREEN,ALARM CLOCK BAKELIKE RED,POSTAGE",
          "4 TRADITIONAL SPINNING TOPS",
          "SPACEBOY BIRTHDAY CARD",
          "POSTAGE,SET/6 RED SPOTTY PAPER PLATES",
          "ALARM CLOCK BAKELIKE RED",
          "PLASTERS IN TIN STRONGMAN",
          "MINI PAINT SET VINTAGE",
          "SET/6 RED SPOTTY PAPER PLATES",
          "CHARLOTTE BAG APPLES DESIGN",
          "CIRCUS PARADE LUNCH BOX",
          "LUNCH BOX I LOVE LONDON",
          "PLASTERS IN TIN SPACEBOY,PLASTERS IN TIN CIRCUS PARADE,PLASTERS IN TIN WOODLAND ANIMALS",
          "SPACEBOY LUNCH BOX",
          "PLASTERS IN TIN CIRCUS PARADE,PLASTERS IN TIN SPACEBOY",
          "SET/20 RED RETROSPOT PAPER NAPKINS",
          "SET/20 RED RETROSPOT PAPER NAPKINS",
          "SET/20 RED RETROSPOT PAPER NAPKINS,POSTAGE",
          "SET/20 RED RETROSPOT PAPER NAPKINS,POSTAGE",
          "LUNCH BAG SPACEBOY DESIGN",
          "ALARM CLOCK BAKELIKE RED,POSTAGE",
          "ALARM CLOCK BAKELIKE GREEN",
          "POSTAGE,SET/6 RED SPOTTY PAPER PLATES",
          "PLASTERS IN TIN SPACEBOY",
          "ALARM CLOCK BAKELIKE RED,ALARM CLOCK BAKELIKE PINK",
          "ALARM CLOCK BAKELIKE GREEN,ALARM CLOCK BAKELIKE PINK",
          "ALARM CLOCK BAKELIKE RED",
          "SET/20 RED RETROSPOT PAPER NAPKINS",
          "SET/20 RED RETROSPOT PAPER NAPKINS,POSTAGE",
          "ALARM CLOCK BAKELIKE PINK,POSTAGE",
          "SET/6 RED SPOTTY PAPER CUPS",
          "SET/6 RED SPOTTY PAPER CUPS",
          "ALARM CLOCK BAKELIKE GREEN",
          "POSTAGE,PLASTERS IN TIN SPACEBOY",
          "ALARM CLOCK BAKELIKE GREEN,POSTAGE",
          "ALARM CLOCK BAKELIKE PINK",
          "ALARM CLOCK BAKELIKE PINK",
          "POSTAGE,DOLLY GIRL LUNCH BOX",
          "PLASTERS IN TIN CIRCUS PARADE,POSTAGE,PLASTERS IN TIN SPACEBOY",
          "SET/6 RED SPOTTY PAPER CUPS",
          "PLASTERS IN TIN STRONGMAN",
          "DOLLY GIRL LUNCH BOX",
          "SET/6 RED SPOTTY PAPER CUPS,POSTAGE",
          "ALARM CLOCK BAKELIKE GREEN,ALARM CLOCK BAKELIKE RED",
          "ALARM CLOCK BAKELIKE RED",
          "SET/6 RED SPOTTY PAPER CUPS,POSTAGE",
          "ALARM CLOCK BAKELIKE PINK,POSTAGE",
          "ALARM CLOCK BAKELIKE RED",
          "PLASTERS IN TIN CIRCUS PARADE,PLASTERS IN TIN WOODLAND ANIMALS",
          "ALARM CLOCK BAKELIKE GREEN,POSTAGE",
          "SET/6 RED SPOTTY PAPER CUPS,SET/6 RED SPOTTY PAPER PLATES",
          "SET/6 RED SPOTTY PAPER PLATES",
          "PLASTERS IN TIN SPACEBOY,PLASTERS IN TIN WOODLAND ANIMALS",
          "ALARM CLOCK BAKELIKE GREEN",
          "ALARM CLOCK BAKELIKE PINK",
          "PLASTERS IN TIN SPACEBOY",
          "ALARM CLOCK BAKELIKE RED,POSTAGE",
          "POSTAGE,PLASTERS IN TIN SPACEBOY",
          "SET/6 RED SPOTTY PAPER PLATES",
          "PLASTERS IN TIN CIRCUS PARADE,POSTAGE,PLASTERS IN TIN WOODLAND ANIMALS",
          "PLASTERS IN TIN SPACEBOY,POSTAGE,PLASTERS IN TIN WOODLAND ANIMALS",
          "SET/20 RED RETROSPOT PAPER NAPKINS",
          "SET/20 RED RETROSPOT PAPER NAPKINS",
          "ALARM CLOCK BAKELIKE GREEN",
          "ALARM CLOCK BAKELIKE PINK,POSTAGE",
          "ALARM CLOCK BAKELIKE PINK",
          "ROUND SNACK BOXES SET OF 4 FRUITS,POSTAGE",
          "SET/20 RED RETROSPOT PAPER NAPKINS",
          "PLASTERS IN TIN WOODLAND ANIMALS",
          "SET/6 RED SPOTTY PAPER CUPS",
          "POSTAGE,PLASTERS IN TIN WOODLAND ANIMALS",
          "PLASTERS IN TIN SPACEBOY",
          "POSTAGE,PLASTERS IN TIN WOODLAND ANIMALS",
          "LUNCH BAG DOLLY GIRL DESIGN",
          "PLASTERS IN TIN CIRCUS PARADE",
          "ALARM CLOCK BAKELIKE PINK",
          "PLASTERS IN TIN CIRCUS PARADE,PLASTERS IN TIN SPACEBOY",
          "PLASTERS IN TIN WOODLAND ANIMALS",
          "ROUND SNACK BOXES SET OF 4 FRUITS",
          "ALARM CLOCK BAKELIKE RED",
          "SET/6 RED SPOTTY PAPER CUPS",
          "LUNCH BAG APPLE DESIGN,POSTAGE",
          "LUNCH BAG SPACEBOY DESIGN,POSTAGE",
          "LUNCH BAG SPACEBOY DESIGN,POSTAGE",
          "ALARM CLOCK BAKELIKE GREEN",
          "SPACEBOY LUNCH BOX",
          "PLASTERS IN TIN CIRCUS PARADE,POSTAGE",
          "LUNCH BAG SPACEBOY DESIGN,POSTAGE",
          "LUNCH BAG SPACEBOY DESIGN",
          "POSTAGE,SPACEBOY LUNCH BOX",
          "ALARM CLOCK BAKELIKE PINK",
          "ROUND SNACK BOXES SET OF 4 FRUITS",
          "LUNCH BAG WOODLAND",
          "ALARM CLOCK BAKELIKE RED",
          "DOLLY GIRL LUNCH BOX",
          "PLASTERS IN TIN SPACEBOY",
          "LUNCH BAG SPACEBOY DESIGN",
          "LUNCH BAG SPACEBOY DESIGN",
          "LUNCH BAG APPLE DESIGN",
          "PLASTERS IN TIN CIRCUS PARADE",
          "PLASTERS IN TIN CIRCUS PARADE,PLASTERS IN TIN WOODLAND ANIMALS",
          "POSTAGE,LUNCH BAG WOODLAND",
          "STRAWBERRY LUNCH BOX WITH CUTLERY",
          "PLASTERS IN TIN SPACEBOY,PLASTERS IN TIN WOODLAND ANIMALS",
          "LUNCH BOX WITH CUTLERY RETROSPOT,POSTAGE",
          "STRAWBERRY LUNCH BOX WITH CUTLERY,POSTAGE",
          "LUNCH BAG APPLE DESIGN",
          "PLASTERS IN TIN SPACEBOY",
          "POSTAGE,LUNCH BAG RED RETROSPOT",
          "PLASTERS IN TIN CIRCUS PARADE,POSTAGE",
          "PLASTERS IN TIN CIRCUS PARADE",
          "POSTAGE,LUNCH BAG WOODLAND",
          "PLASTERS IN TIN WOODLAND ANIMALS",
          "PLASTERS IN TIN WOODLAND ANIMALS",
          "LUNCH BAG APPLE DESIGN",
          "LUNCH BAG APPLE DESIGN,POSTAGE",
          "STRAWBERRY LUNCH BOX WITH CUTLERY",
          "LUNCH BAG WOODLAND",
          "LUNCH BAG SPACEBOY DESIGN",
          "POSTAGE,PLASTERS IN TIN SPACEBOY",
          "LUNCH BAG WOODLAND",
          "LUNCH BAG WOODLAND",
          "SPACEBOY LUNCH BOX",
          "LUNCH BAG SPACEBOY DESIGN",
          "LUNCH BAG SPACEBOY DESIGN",
          "LUNCH BAG SPACEBOY DESIGN",
          "LUNCH BOX WITH CUTLERY RETROSPOT",
          "PLASTERS IN TIN CIRCUS PARADE",
          "POSTAGE,LUNCH BAG RED RETROSPOT",
          "LUNCH BAG WOODLAND",
          "LUNCH BAG RED RETROSPOT",
          "LUNCH BAG RED RETROSPOT",
          "SPACEBOY LUNCH BOX",
          "LUNCH BAG APPLE DESIGN",
          "SPACEBOY LUNCH BOX",
          "LUNCH BAG SPACEBOY DESIGN",
          "LUNCH BAG SPACEBOY DESIGN",
          "POSTAGE,LUNCH BAG RED RETROSPOT",
          "LUNCH BOX WITH CUTLERY RETROSPOT",
          "PLASTERS IN TIN CIRCUS PARADE",
          "LUNCH BAG APPLE DESIGN",
          "ROUND SNACK BOXES SET OF4 WOODLAND",
          "PLASTERS IN TIN WOODLAND ANIMALS",
          "LUNCH BAG RED RETROSPOT",
          "POSTAGE,ROUND SNACK BOXES SET OF4 WOODLAND",
          "PLASTERS IN TIN SPACEBOY",
          "POSTAGE,PLASTERS IN TIN WOODLAND ANIMALS",
          "PLASTERS IN TIN SPACEBOY",
          "POSTAGE,PLASTERS IN TIN WOODLAND ANIMALS",
          "ROUND SNACK BOXES SET OF4 WOODLAND",
          "RED RETROSPOT MINI CASES",
          "RED RETROSPOT MINI CASES",
          "RED RETROSPOT MINI CASES",
          "LUNCH BAG RED RETROSPOT",
          "PLASTERS IN TIN CIRCUS PARADE,POSTAGE",
          "LUNCH BOX WITH CUTLERY RETROSPOT",
          "LUNCH BOX WITH CUTLERY RETROSPOT",
          "LUNCH BAG RED RETROSPOT",
          "LUNCH BAG RED RETROSPOT",
          "PLASTERS IN TIN CIRCUS PARADE",
          "PLASTERS IN TIN CIRCUS PARADE,POSTAGE",
          "ROUND SNACK BOXES SET OF4 WOODLAND",
          "RED TOADSTOOL LED NIGHT LIGHT,POSTAGE",
          "LUNCH BAG RED RETROSPOT",
          "LUNCH BAG RED RETROSPOT",
          "ROUND SNACK BOXES SET OF4 WOODLAND",
          "ROUND SNACK BOXES SET OF4 WOODLAND",
          "RED TOADSTOOL LED NIGHT LIGHT,POSTAGE",
          "PLASTERS IN TIN CIRCUS PARADE",
          "PLASTERS IN TIN CIRCUS PARADE",
          "PLASTERS IN TIN WOODLAND ANIMALS",
          "PLASTERS IN TIN WOODLAND ANIMALS",
          "PLASTERS IN TIN WOODLAND ANIMALS",
          "PLASTERS IN TIN CIRCUS PARADE",
          "PLASTERS IN TIN CIRCUS PARADE",
          "PLASTERS IN TIN CIRCUS PARADE",
          "RED TOADSTOOL LED NIGHT LIGHT",
          "RED TOADSTOOL LED NIGHT LIGHT",
          "RED TOADSTOOL LED NIGHT LIGHT",
          "RABBIT NIGHT LIGHT",
          "RED TOADSTOOL LED NIGHT LIGHT",
          "RED TOADSTOOL LED NIGHT LIGHT",
          "POSTAGE",
          "POSTAGE",
          "POSTAGE",
          "POSTAGE",
          "POSTAGE",
          "POSTAGE",
          "POSTAGE",
          "POSTAGE",
          "POSTAGE",
          "POSTAGE",
          "POSTAGE",
          "POSTAGE",
          "POSTAGE",
          "POSTAGE",
          "POSTAGE",
          "POSTAGE",
          "POSTAGE",
          "POSTAGE",
          "POSTAGE",
          "POSTAGE",
          "POSTAGE",
          "POSTAGE",
          "POSTAGE",
          "POSTAGE",
          "POSTAGE",
          "POSTAGE",
          "POSTAGE",
          "POSTAGE",
          "POSTAGE",
          "POSTAGE",
          "POSTAGE",
          "POSTAGE",
          "POSTAGE",
          "POSTAGE",
          "POSTAGE",
          "POSTAGE",
          "POSTAGE",
          "POSTAGE",
          "POSTAGE",
          "POSTAGE",
          "POSTAGE",
          "POSTAGE",
          "POSTAGE",
          "POSTAGE",
          "POSTAGE",
          "POSTAGE",
          "POSTAGE",
          "POSTAGE",
          "POSTAGE",
          "POSTAGE",
          "POSTAGE",
          "POSTAGE",
          "POSTAGE",
          "POSTAGE",
          "POSTAGE",
          "POSTAGE",
          "POSTAGE",
          "POSTAGE",
          "POSTAGE",
          "POSTAGE",
          "POSTAGE",
          "POSTAGE",
          "POSTAGE",
          "POSTAGE",
          "POSTAGE",
          "POSTAGE",
          "POSTAGE",
          "POSTAGE",
          "POSTAGE",
          "POSTAGE",
          "POSTAGE",
          "POSTAGE",
          "POSTAGE",
          "POSTAGE",
          "POSTAGE"
         ],
         "yaxis": "y"
        }
       ],
       "layout": {
        "coloraxis": {
         "colorbar": {
          "title": {
           "text": "lift"
          }
         },
         "colorscale": [
          [
           0,
           "#0d0887"
          ],
          [
           0.1111111111111111,
           "#46039f"
          ],
          [
           0.2222222222222222,
           "#7201a8"
          ],
          [
           0.3333333333333333,
           "#9c179e"
          ],
          [
           0.4444444444444444,
           "#bd3786"
          ],
          [
           0.5555555555555556,
           "#d8576b"
          ],
          [
           0.6666666666666666,
           "#ed7953"
          ],
          [
           0.7777777777777778,
           "#fb9f3a"
          ],
          [
           0.8888888888888888,
           "#fdca26"
          ],
          [
           1,
           "#f0f921"
          ]
         ]
        },
        "height": 1600,
        "legend": {
         "tracegroupgap": 0
        },
        "margin": {
         "b": 500,
         "l": 500,
         "pad": 4,
         "r": 150,
         "t": 100
        },
        "template": {
         "data": {
          "bar": [
           {
            "error_x": {
             "color": "#2a3f5f"
            },
            "error_y": {
             "color": "#2a3f5f"
            },
            "marker": {
             "line": {
              "color": "#E5ECF6",
              "width": 0.5
             }
            },
            "type": "bar"
           }
          ],
          "barpolar": [
           {
            "marker": {
             "line": {
              "color": "#E5ECF6",
              "width": 0.5
             }
            },
            "type": "barpolar"
           }
          ],
          "carpet": [
           {
            "aaxis": {
             "endlinecolor": "#2a3f5f",
             "gridcolor": "white",
             "linecolor": "white",
             "minorgridcolor": "white",
             "startlinecolor": "#2a3f5f"
            },
            "baxis": {
             "endlinecolor": "#2a3f5f",
             "gridcolor": "white",
             "linecolor": "white",
             "minorgridcolor": "white",
             "startlinecolor": "#2a3f5f"
            },
            "type": "carpet"
           }
          ],
          "choropleth": [
           {
            "colorbar": {
             "outlinewidth": 0,
             "ticks": ""
            },
            "type": "choropleth"
           }
          ],
          "contour": [
           {
            "colorbar": {
             "outlinewidth": 0,
             "ticks": ""
            },
            "colorscale": [
             [
              0,
              "#0d0887"
             ],
             [
              0.1111111111111111,
              "#46039f"
             ],
             [
              0.2222222222222222,
              "#7201a8"
             ],
             [
              0.3333333333333333,
              "#9c179e"
             ],
             [
              0.4444444444444444,
              "#bd3786"
             ],
             [
              0.5555555555555556,
              "#d8576b"
             ],
             [
              0.6666666666666666,
              "#ed7953"
             ],
             [
              0.7777777777777778,
              "#fb9f3a"
             ],
             [
              0.8888888888888888,
              "#fdca26"
             ],
             [
              1,
              "#f0f921"
             ]
            ],
            "type": "contour"
           }
          ],
          "contourcarpet": [
           {
            "colorbar": {
             "outlinewidth": 0,
             "ticks": ""
            },
            "type": "contourcarpet"
           }
          ],
          "heatmap": [
           {
            "colorbar": {
             "outlinewidth": 0,
             "ticks": ""
            },
            "colorscale": [
             [
              0,
              "#0d0887"
             ],
             [
              0.1111111111111111,
              "#46039f"
             ],
             [
              0.2222222222222222,
              "#7201a8"
             ],
             [
              0.3333333333333333,
              "#9c179e"
             ],
             [
              0.4444444444444444,
              "#bd3786"
             ],
             [
              0.5555555555555556,
              "#d8576b"
             ],
             [
              0.6666666666666666,
              "#ed7953"
             ],
             [
              0.7777777777777778,
              "#fb9f3a"
             ],
             [
              0.8888888888888888,
              "#fdca26"
             ],
             [
              1,
              "#f0f921"
             ]
            ],
            "type": "heatmap"
           }
          ],
          "heatmapgl": [
           {
            "colorbar": {
             "outlinewidth": 0,
             "ticks": ""
            },
            "colorscale": [
             [
              0,
              "#0d0887"
             ],
             [
              0.1111111111111111,
              "#46039f"
             ],
             [
              0.2222222222222222,
              "#7201a8"
             ],
             [
              0.3333333333333333,
              "#9c179e"
             ],
             [
              0.4444444444444444,
              "#bd3786"
             ],
             [
              0.5555555555555556,
              "#d8576b"
             ],
             [
              0.6666666666666666,
              "#ed7953"
             ],
             [
              0.7777777777777778,
              "#fb9f3a"
             ],
             [
              0.8888888888888888,
              "#fdca26"
             ],
             [
              1,
              "#f0f921"
             ]
            ],
            "type": "heatmapgl"
           }
          ],
          "histogram": [
           {
            "marker": {
             "colorbar": {
              "outlinewidth": 0,
              "ticks": ""
             }
            },
            "type": "histogram"
           }
          ],
          "histogram2d": [
           {
            "colorbar": {
             "outlinewidth": 0,
             "ticks": ""
            },
            "colorscale": [
             [
              0,
              "#0d0887"
             ],
             [
              0.1111111111111111,
              "#46039f"
             ],
             [
              0.2222222222222222,
              "#7201a8"
             ],
             [
              0.3333333333333333,
              "#9c179e"
             ],
             [
              0.4444444444444444,
              "#bd3786"
             ],
             [
              0.5555555555555556,
              "#d8576b"
             ],
             [
              0.6666666666666666,
              "#ed7953"
             ],
             [
              0.7777777777777778,
              "#fb9f3a"
             ],
             [
              0.8888888888888888,
              "#fdca26"
             ],
             [
              1,
              "#f0f921"
             ]
            ],
            "type": "histogram2d"
           }
          ],
          "histogram2dcontour": [
           {
            "colorbar": {
             "outlinewidth": 0,
             "ticks": ""
            },
            "colorscale": [
             [
              0,
              "#0d0887"
             ],
             [
              0.1111111111111111,
              "#46039f"
             ],
             [
              0.2222222222222222,
              "#7201a8"
             ],
             [
              0.3333333333333333,
              "#9c179e"
             ],
             [
              0.4444444444444444,
              "#bd3786"
             ],
             [
              0.5555555555555556,
              "#d8576b"
             ],
             [
              0.6666666666666666,
              "#ed7953"
             ],
             [
              0.7777777777777778,
              "#fb9f3a"
             ],
             [
              0.8888888888888888,
              "#fdca26"
             ],
             [
              1,
              "#f0f921"
             ]
            ],
            "type": "histogram2dcontour"
           }
          ],
          "mesh3d": [
           {
            "colorbar": {
             "outlinewidth": 0,
             "ticks": ""
            },
            "type": "mesh3d"
           }
          ],
          "parcoords": [
           {
            "line": {
             "colorbar": {
              "outlinewidth": 0,
              "ticks": ""
             }
            },
            "type": "parcoords"
           }
          ],
          "pie": [
           {
            "automargin": true,
            "type": "pie"
           }
          ],
          "scatter": [
           {
            "marker": {
             "colorbar": {
              "outlinewidth": 0,
              "ticks": ""
             }
            },
            "type": "scatter"
           }
          ],
          "scatter3d": [
           {
            "line": {
             "colorbar": {
              "outlinewidth": 0,
              "ticks": ""
             }
            },
            "marker": {
             "colorbar": {
              "outlinewidth": 0,
              "ticks": ""
             }
            },
            "type": "scatter3d"
           }
          ],
          "scattercarpet": [
           {
            "marker": {
             "colorbar": {
              "outlinewidth": 0,
              "ticks": ""
             }
            },
            "type": "scattercarpet"
           }
          ],
          "scattergeo": [
           {
            "marker": {
             "colorbar": {
              "outlinewidth": 0,
              "ticks": ""
             }
            },
            "type": "scattergeo"
           }
          ],
          "scattergl": [
           {
            "marker": {
             "colorbar": {
              "outlinewidth": 0,
              "ticks": ""
             }
            },
            "type": "scattergl"
           }
          ],
          "scattermapbox": [
           {
            "marker": {
             "colorbar": {
              "outlinewidth": 0,
              "ticks": ""
             }
            },
            "type": "scattermapbox"
           }
          ],
          "scatterpolar": [
           {
            "marker": {
             "colorbar": {
              "outlinewidth": 0,
              "ticks": ""
             }
            },
            "type": "scatterpolar"
           }
          ],
          "scatterpolargl": [
           {
            "marker": {
             "colorbar": {
              "outlinewidth": 0,
              "ticks": ""
             }
            },
            "type": "scatterpolargl"
           }
          ],
          "scatterternary": [
           {
            "marker": {
             "colorbar": {
              "outlinewidth": 0,
              "ticks": ""
             }
            },
            "type": "scatterternary"
           }
          ],
          "surface": [
           {
            "colorbar": {
             "outlinewidth": 0,
             "ticks": ""
            },
            "colorscale": [
             [
              0,
              "#0d0887"
             ],
             [
              0.1111111111111111,
              "#46039f"
             ],
             [
              0.2222222222222222,
              "#7201a8"
             ],
             [
              0.3333333333333333,
              "#9c179e"
             ],
             [
              0.4444444444444444,
              "#bd3786"
             ],
             [
              0.5555555555555556,
              "#d8576b"
             ],
             [
              0.6666666666666666,
              "#ed7953"
             ],
             [
              0.7777777777777778,
              "#fb9f3a"
             ],
             [
              0.8888888888888888,
              "#fdca26"
             ],
             [
              1,
              "#f0f921"
             ]
            ],
            "type": "surface"
           }
          ],
          "table": [
           {
            "cells": {
             "fill": {
              "color": "#EBF0F8"
             },
             "line": {
              "color": "white"
             }
            },
            "header": {
             "fill": {
              "color": "#C8D4E3"
             },
             "line": {
              "color": "white"
             }
            },
            "type": "table"
           }
          ]
         },
         "layout": {
          "annotationdefaults": {
           "arrowcolor": "#2a3f5f",
           "arrowhead": 0,
           "arrowwidth": 1
          },
          "coloraxis": {
           "colorbar": {
            "outlinewidth": 0,
            "ticks": ""
           }
          },
          "colorscale": {
           "diverging": [
            [
             0,
             "#8e0152"
            ],
            [
             0.1,
             "#c51b7d"
            ],
            [
             0.2,
             "#de77ae"
            ],
            [
             0.3,
             "#f1b6da"
            ],
            [
             0.4,
             "#fde0ef"
            ],
            [
             0.5,
             "#f7f7f7"
            ],
            [
             0.6,
             "#e6f5d0"
            ],
            [
             0.7,
             "#b8e186"
            ],
            [
             0.8,
             "#7fbc41"
            ],
            [
             0.9,
             "#4d9221"
            ],
            [
             1,
             "#276419"
            ]
           ],
           "sequential": [
            [
             0,
             "#0d0887"
            ],
            [
             0.1111111111111111,
             "#46039f"
            ],
            [
             0.2222222222222222,
             "#7201a8"
            ],
            [
             0.3333333333333333,
             "#9c179e"
            ],
            [
             0.4444444444444444,
             "#bd3786"
            ],
            [
             0.5555555555555556,
             "#d8576b"
            ],
            [
             0.6666666666666666,
             "#ed7953"
            ],
            [
             0.7777777777777778,
             "#fb9f3a"
            ],
            [
             0.8888888888888888,
             "#fdca26"
            ],
            [
             1,
             "#f0f921"
            ]
           ],
           "sequentialminus": [
            [
             0,
             "#0d0887"
            ],
            [
             0.1111111111111111,
             "#46039f"
            ],
            [
             0.2222222222222222,
             "#7201a8"
            ],
            [
             0.3333333333333333,
             "#9c179e"
            ],
            [
             0.4444444444444444,
             "#bd3786"
            ],
            [
             0.5555555555555556,
             "#d8576b"
            ],
            [
             0.6666666666666666,
             "#ed7953"
            ],
            [
             0.7777777777777778,
             "#fb9f3a"
            ],
            [
             0.8888888888888888,
             "#fdca26"
            ],
            [
             1,
             "#f0f921"
            ]
           ]
          },
          "colorway": [
           "#636efa",
           "#EF553B",
           "#00cc96",
           "#ab63fa",
           "#FFA15A",
           "#19d3f3",
           "#FF6692",
           "#B6E880",
           "#FF97FF",
           "#FECB52"
          ],
          "font": {
           "color": "#2a3f5f"
          },
          "geo": {
           "bgcolor": "white",
           "lakecolor": "white",
           "landcolor": "#E5ECF6",
           "showlakes": true,
           "showland": true,
           "subunitcolor": "white"
          },
          "hoverlabel": {
           "align": "left"
          },
          "hovermode": "closest",
          "mapbox": {
           "style": "light"
          },
          "paper_bgcolor": "white",
          "plot_bgcolor": "#E5ECF6",
          "polar": {
           "angularaxis": {
            "gridcolor": "white",
            "linecolor": "white",
            "ticks": ""
           },
           "bgcolor": "#E5ECF6",
           "radialaxis": {
            "gridcolor": "white",
            "linecolor": "white",
            "ticks": ""
           }
          },
          "scene": {
           "xaxis": {
            "backgroundcolor": "#E5ECF6",
            "gridcolor": "white",
            "gridwidth": 2,
            "linecolor": "white",
            "showbackground": true,
            "ticks": "",
            "zerolinecolor": "white"
           },
           "yaxis": {
            "backgroundcolor": "#E5ECF6",
            "gridcolor": "white",
            "gridwidth": 2,
            "linecolor": "white",
            "showbackground": true,
            "ticks": "",
            "zerolinecolor": "white"
           },
           "zaxis": {
            "backgroundcolor": "#E5ECF6",
            "gridcolor": "white",
            "gridwidth": 2,
            "linecolor": "white",
            "showbackground": true,
            "ticks": "",
            "zerolinecolor": "white"
           }
          },
          "shapedefaults": {
           "line": {
            "color": "#2a3f5f"
           }
          },
          "ternary": {
           "aaxis": {
            "gridcolor": "white",
            "linecolor": "white",
            "ticks": ""
           },
           "baxis": {
            "gridcolor": "white",
            "linecolor": "white",
            "ticks": ""
           },
           "bgcolor": "#E5ECF6",
           "caxis": {
            "gridcolor": "white",
            "linecolor": "white",
            "ticks": ""
           }
          },
          "title": {
           "x": 0.05
          },
          "xaxis": {
           "automargin": true,
           "gridcolor": "white",
           "linecolor": "white",
           "ticks": "",
           "title": {
            "standoff": 15
           },
           "zerolinecolor": "white",
           "zerolinewidth": 2
          },
          "yaxis": {
           "automargin": true,
           "gridcolor": "white",
           "linecolor": "white",
           "ticks": "",
           "title": {
            "standoff": 15
           },
           "zerolinecolor": "white",
           "zerolinewidth": 2
          }
         }
        },
        "width": 1200,
        "xaxis": {
         "anchor": "y",
         "domain": [
          0,
          1
         ],
         "title": {
          "text": "consequents"
         }
        },
        "yaxis": {
         "anchor": "x",
         "domain": [
          0,
          1
         ],
         "title": {
          "text": "antecedents"
         }
        }
       }
      }
     },
     "metadata": {},
     "output_type": "display_data"
    }
   ],
   "source": [
    "fig = px.scatter( plot1 , x = \"consequents\" , y = \"antecedents\" , color = \"lift\",width=1200, height=1600)\n",
    "fig.update_layout(margin=dict(\n",
    "        l=500,\n",
    "        r=150,\n",
    "        b=500,\n",
    "        t=100,\n",
    "        pad=4\n",
    "    ),)\n",
    "fig.show()"
   ]
  },
  {
   "cell_type": "code",
   "execution_count": 2,
   "metadata": {},
   "outputs": [
    {
     "data": {
      "text/html": [
       "<div>\n",
       "<style scoped>\n",
       "    .dataframe tbody tr th:only-of-type {\n",
       "        vertical-align: middle;\n",
       "    }\n",
       "\n",
       "    .dataframe tbody tr th {\n",
       "        vertical-align: top;\n",
       "    }\n",
       "\n",
       "    .dataframe thead th {\n",
       "        text-align: right;\n",
       "    }\n",
       "</style>\n",
       "<table border=\"1\" class=\"dataframe\">\n",
       "  <thead>\n",
       "    <tr style=\"text-align: right;\">\n",
       "      <th></th>\n",
       "      <th>InvoiceNo</th>\n",
       "      <th>StockCode</th>\n",
       "      <th>Description</th>\n",
       "      <th>Quantity</th>\n",
       "      <th>InvoiceDate</th>\n",
       "      <th>UnitPrice</th>\n",
       "      <th>CustomerID</th>\n",
       "      <th>Country</th>\n",
       "    </tr>\n",
       "  </thead>\n",
       "  <tbody>\n",
       "    <tr>\n",
       "      <td>26</td>\n",
       "      <td>536370</td>\n",
       "      <td>22728</td>\n",
       "      <td>ALARM CLOCK BAKELIKE PINK</td>\n",
       "      <td>24</td>\n",
       "      <td>01-12-2010 08:45</td>\n",
       "      <td>3.75</td>\n",
       "      <td>12583.0</td>\n",
       "      <td>France</td>\n",
       "    </tr>\n",
       "    <tr>\n",
       "      <td>27</td>\n",
       "      <td>536370</td>\n",
       "      <td>22727</td>\n",
       "      <td>ALARM CLOCK BAKELIKE RED</td>\n",
       "      <td>24</td>\n",
       "      <td>01-12-2010 08:45</td>\n",
       "      <td>3.75</td>\n",
       "      <td>12583.0</td>\n",
       "      <td>France</td>\n",
       "    </tr>\n",
       "    <tr>\n",
       "      <td>28</td>\n",
       "      <td>536370</td>\n",
       "      <td>22726</td>\n",
       "      <td>ALARM CLOCK BAKELIKE GREEN</td>\n",
       "      <td>12</td>\n",
       "      <td>01-12-2010 08:45</td>\n",
       "      <td>3.75</td>\n",
       "      <td>12583.0</td>\n",
       "      <td>France</td>\n",
       "    </tr>\n",
       "    <tr>\n",
       "      <td>29</td>\n",
       "      <td>536370</td>\n",
       "      <td>21724</td>\n",
       "      <td>PANDA AND BUNNIES STICKER SHEET</td>\n",
       "      <td>12</td>\n",
       "      <td>01-12-2010 08:45</td>\n",
       "      <td>0.85</td>\n",
       "      <td>12583.0</td>\n",
       "      <td>France</td>\n",
       "    </tr>\n",
       "    <tr>\n",
       "      <td>30</td>\n",
       "      <td>536370</td>\n",
       "      <td>21883</td>\n",
       "      <td>STARS GIFT TAPE</td>\n",
       "      <td>24</td>\n",
       "      <td>01-12-2010 08:45</td>\n",
       "      <td>0.65</td>\n",
       "      <td>12583.0</td>\n",
       "      <td>France</td>\n",
       "    </tr>\n",
       "  </tbody>\n",
       "</table>\n",
       "</div>"
      ],
      "text/plain": [
       "   InvoiceNo StockCode                      Description  Quantity  \\\n",
       "26    536370     22728        ALARM CLOCK BAKELIKE PINK        24   \n",
       "27    536370     22727        ALARM CLOCK BAKELIKE RED         24   \n",
       "28    536370     22726       ALARM CLOCK BAKELIKE GREEN        12   \n",
       "29    536370     21724  PANDA AND BUNNIES STICKER SHEET        12   \n",
       "30    536370     21883                 STARS GIFT TAPE         24   \n",
       "\n",
       "         InvoiceDate  UnitPrice  CustomerID Country  \n",
       "26  01-12-2010 08:45       3.75     12583.0  France  \n",
       "27  01-12-2010 08:45       3.75     12583.0  France  \n",
       "28  01-12-2010 08:45       3.75     12583.0  France  \n",
       "29  01-12-2010 08:45       0.85     12583.0  France  \n",
       "30  01-12-2010 08:45       0.65     12583.0  France  "
      ]
     },
     "execution_count": 2,
     "metadata": {},
     "output_type": "execute_result"
    }
   ],
   "source": [
    "import pandas as pd\n",
    "new_data = pd.DataFrame(pd.read_csv(\n",
    "    \"Online Retail.csv\"\n",
    "))\n",
    "new_data = new_data[new_data[\"Country\"] == \"France\"]\n",
    "new_data.head()"
   ]
  },
  {
   "cell_type": "code",
   "execution_count": 3,
   "metadata": {
    "tags": [
     "outputPrepend"
    ]
   },
   "outputs": [],
   "source": [
    "item_seq = dict()\n",
    "# new_data = new_data[:600]\n",
    "new_data[\"InvoiceNo\"] = new_data[\"InvoiceNo\"].astype(\"str\")\n",
    "def serialize_values(row):\n",
    "    if row[\"InvoiceNo\"] not in item_seq.keys():\n",
    "        item_seq[row[\"InvoiceNo\"]] = {}\n",
    "        item_seq[row[\"InvoiceNo\"]][\"Description\"]=list()\n",
    "        item_seq[row[\"InvoiceNo\"]][\"Description\"].append(row[\"Description\"])\n",
    "        \n",
    "    else:\n",
    "        item_seq[row[\"InvoiceNo\"]][\"Description\"].append(row[\"Description\"])\n",
    "\n",
    "    return row\n",
    "\n",
    "new_data = new_data.apply(serialize_values , 1)"
   ]
  },
  {
   "cell_type": "code",
   "execution_count": 4,
   "metadata": {},
   "outputs": [
    {
     "name": "stdout",
     "output_type": "stream",
     "text": [
      "461\n"
     ]
    }
   ],
   "source": [
    "print(len(item_seq))"
   ]
  },
  {
   "cell_type": "code",
   "execution_count": 5,
   "metadata": {},
   "outputs": [],
   "source": [
    "import json\n",
    "with open(\"values.json\",\"w\") as f:\n",
    "    object_json = json.dumps([item_seq] , indent = 4)\n",
    "    f.write(object_json)"
   ]
  },
  {
   "cell_type": "code",
   "execution_count": null,
   "metadata": {},
   "outputs": [],
   "source": []
  }
 ],
 "metadata": {
  "kernelspec": {
   "display_name": "Python 3",
   "language": "python",
   "name": "python3"
  },
  "language_info": {
   "codemirror_mode": {
    "name": "ipython",
    "version": 3
   },
   "file_extension": ".py",
   "mimetype": "text/x-python",
   "name": "python",
   "nbconvert_exporter": "python",
   "pygments_lexer": "ipython3",
   "version": "3.7.4"
  }
 },
 "nbformat": 4,
 "nbformat_minor": 2
}
