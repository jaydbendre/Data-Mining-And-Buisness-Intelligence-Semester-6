{
 "nbformat": 4,
 "nbformat_minor": 2,
 "metadata": {
  "language_info": {
   "name": "python",
   "codemirror_mode": {
    "name": "ipython",
    "version": 3
   },
   "version": "3.8.1-final"
  },
  "orig_nbformat": 2,
  "file_extension": ".py",
  "mimetype": "text/x-python",
  "name": "python",
  "npconvert_exporter": "python",
  "pygments_lexer": "ipython3",
  "version": 3,
  "kernelspec": {
   "name": "python3",
   "display_name": "Python 3"
  }
 },
 "cells": [
  {
   "cell_type": "code",
   "execution_count": 2,
   "metadata": {},
   "outputs": [],
   "source": [
    "import os\n",
    "import pandas as pd\n",
    "import numpy as np\n",
    "import random"
   ]
  },
  {
   "cell_type": "code",
   "execution_count": 3,
   "metadata": {},
   "outputs": [
    {
     "data": {
      "text/html": "<div>\n<style scoped>\n    .dataframe tbody tr th:only-of-type {\n        vertical-align: middle;\n    }\n\n    .dataframe tbody tr th {\n        vertical-align: top;\n    }\n\n    .dataframe thead th {\n        text-align: right;\n    }\n</style>\n<table border=\"1\" class=\"dataframe\">\n  <thead>\n    <tr style=\"text-align: right;\">\n      <th></th>\n      <th>id</th>\n      <th>week</th>\n      <th>center_id</th>\n      <th>meal_id</th>\n      <th>checkout_price</th>\n      <th>base_price</th>\n      <th>emailer_for_promotion</th>\n      <th>homepage_featured</th>\n      <th>num_orders</th>\n      <th>category</th>\n      <th>cuisine</th>\n    </tr>\n  </thead>\n  <tbody>\n    <tr>\n      <td>0</td>\n      <td>1352248</td>\n      <td>1</td>\n      <td>75</td>\n      <td>2444</td>\n      <td>659.63</td>\n      <td>658.63</td>\n      <td>0</td>\n      <td>0</td>\n      <td>53</td>\n      <td>NaN</td>\n      <td>NaN</td>\n    </tr>\n    <tr>\n      <td>1</td>\n      <td>1183308</td>\n      <td>1</td>\n      <td>50</td>\n      <td>2581</td>\n      <td>582.03</td>\n      <td>614.07</td>\n      <td>1</td>\n      <td>0</td>\n      <td>162</td>\n      <td>NaN</td>\n      <td>NaN</td>\n    </tr>\n    <tr>\n      <td>2</td>\n      <td>1417026</td>\n      <td>1</td>\n      <td>113</td>\n      <td>2631</td>\n      <td>207.61</td>\n      <td>236.71</td>\n      <td>0</td>\n      <td>0</td>\n      <td>53</td>\n      <td>NaN</td>\n      <td>NaN</td>\n    </tr>\n    <tr>\n      <td>3</td>\n      <td>1123625</td>\n      <td>2</td>\n      <td>104</td>\n      <td>2304</td>\n      <td>484.03</td>\n      <td>485.03</td>\n      <td>0</td>\n      <td>0</td>\n      <td>15</td>\n      <td>NaN</td>\n      <td>NaN</td>\n    </tr>\n    <tr>\n      <td>4</td>\n      <td>1160294</td>\n      <td>2</td>\n      <td>61</td>\n      <td>2290</td>\n      <td>309.43</td>\n      <td>311.43</td>\n      <td>0</td>\n      <td>0</td>\n      <td>582</td>\n      <td>NaN</td>\n      <td>NaN</td>\n    </tr>\n    <tr>\n      <td>...</td>\n      <td>...</td>\n      <td>...</td>\n      <td>...</td>\n      <td>...</td>\n      <td>...</td>\n      <td>...</td>\n      <td>...</td>\n      <td>...</td>\n      <td>...</td>\n      <td>...</td>\n      <td>...</td>\n    </tr>\n    <tr>\n      <td>451</td>\n      <td>1014565</td>\n      <td>143</td>\n      <td>86</td>\n      <td>2640</td>\n      <td>319.13</td>\n      <td>319.13</td>\n      <td>0</td>\n      <td>0</td>\n      <td>27</td>\n      <td>NaN</td>\n      <td>NaN</td>\n    </tr>\n    <tr>\n      <td>452</td>\n      <td>1405796</td>\n      <td>144</td>\n      <td>80</td>\n      <td>2104</td>\n      <td>591.73</td>\n      <td>592.73</td>\n      <td>0</td>\n      <td>0</td>\n      <td>27</td>\n      <td>NaN</td>\n      <td>NaN</td>\n    </tr>\n    <tr>\n      <td>453</td>\n      <td>1336751</td>\n      <td>145</td>\n      <td>55</td>\n      <td>1885</td>\n      <td>156.23</td>\n      <td>156.23</td>\n      <td>0</td>\n      <td>0</td>\n      <td>121</td>\n      <td>NaN</td>\n      <td>NaN</td>\n    </tr>\n    <tr>\n      <td>454</td>\n      <td>1014851</td>\n      <td>145</td>\n      <td>76</td>\n      <td>2760</td>\n      <td>162.99</td>\n      <td>242.53</td>\n      <td>0</td>\n      <td>0</td>\n      <td>231</td>\n      <td>NaN</td>\n      <td>NaN</td>\n    </tr>\n    <tr>\n      <td>455</td>\n      <td>1307118</td>\n      <td>145</td>\n      <td>102</td>\n      <td>2707</td>\n      <td>193.06</td>\n      <td>194.06</td>\n      <td>0</td>\n      <td>0</td>\n      <td>203</td>\n      <td>NaN</td>\n      <td>NaN</td>\n    </tr>\n  </tbody>\n</table>\n<p>456 rows × 11 columns</p>\n</div>",
      "text/plain": "          id  week  center_id  meal_id  checkout_price  base_price  \\\n0    1352248     1         75     2444          659.63      658.63   \n1    1183308     1         50     2581          582.03      614.07   \n2    1417026     1        113     2631          207.61      236.71   \n3    1123625     2        104     2304          484.03      485.03   \n4    1160294     2         61     2290          309.43      311.43   \n..       ...   ...        ...      ...             ...         ...   \n451  1014565   143         86     2640          319.13      319.13   \n452  1405796   144         80     2104          591.73      592.73   \n453  1336751   145         55     1885          156.23      156.23   \n454  1014851   145         76     2760          162.99      242.53   \n455  1307118   145        102     2707          193.06      194.06   \n\n     emailer_for_promotion  homepage_featured  num_orders  category  cuisine  \n0                        0                  0          53       NaN      NaN  \n1                        1                  0         162       NaN      NaN  \n2                        0                  0          53       NaN      NaN  \n3                        0                  0          15       NaN      NaN  \n4                        0                  0         582       NaN      NaN  \n..                     ...                ...         ...       ...      ...  \n451                      0                  0          27       NaN      NaN  \n452                      0                  0          27       NaN      NaN  \n453                      0                  0         121       NaN      NaN  \n454                      0                  0         231       NaN      NaN  \n455                      0                  0         203       NaN      NaN  \n\n[456 rows x 11 columns]"
     },
     "execution_count": 3,
     "metadata": {},
     "output_type": "execute_result"
    }
   ],
   "source": [
    "train_dataset = pd.DataFrame(pd.read_csv(\"Datasets/train/train.csv\",skiprows=lambda i: i > 0 and random.random() > 0.001))\n",
    "meal_dataset = pd.DataFrame(pd.read_csv(\"Datasets/train/meal_info.csv\"))\n",
    "center_dataset = pd.DataFrame(pd.read_csv(\"Datasets/train/fulfilment_center_info.csv\"))\n",
    "train_dataset[\"category\"]=np.nan\n",
    "train_dataset[\"cuisine\"]=np.nan\n",
    "train_dataset"
   ]
  },
  {
   "cell_type": "code",
   "execution_count": 4,
   "metadata": {},
   "outputs": [
    {
     "data": {
      "text/html": "<div>\n<style scoped>\n    .dataframe tbody tr th:only-of-type {\n        vertical-align: middle;\n    }\n\n    .dataframe tbody tr th {\n        vertical-align: top;\n    }\n\n    .dataframe thead th {\n        text-align: right;\n    }\n</style>\n<table border=\"1\" class=\"dataframe\">\n  <thead>\n    <tr style=\"text-align: right;\">\n      <th></th>\n      <th>id</th>\n      <th>week</th>\n      <th>center_id</th>\n      <th>meal_id</th>\n      <th>checkout_price</th>\n      <th>base_price</th>\n      <th>emailer_for_promotion</th>\n      <th>homepage_featured</th>\n      <th>num_orders</th>\n      <th>category</th>\n      <th>cuisine</th>\n    </tr>\n  </thead>\n  <tbody>\n    <tr>\n      <td>0</td>\n      <td>1352248</td>\n      <td>1</td>\n      <td>75</td>\n      <td>2444</td>\n      <td>659.63</td>\n      <td>658.63</td>\n      <td>0</td>\n      <td>0</td>\n      <td>53</td>\n      <td>Seafood</td>\n      <td>Continental</td>\n    </tr>\n    <tr>\n      <td>1</td>\n      <td>1183308</td>\n      <td>1</td>\n      <td>50</td>\n      <td>2581</td>\n      <td>582.03</td>\n      <td>614.07</td>\n      <td>1</td>\n      <td>0</td>\n      <td>162</td>\n      <td>Pizza</td>\n      <td>Continental</td>\n    </tr>\n    <tr>\n      <td>2</td>\n      <td>1417026</td>\n      <td>1</td>\n      <td>113</td>\n      <td>2631</td>\n      <td>207.61</td>\n      <td>236.71</td>\n      <td>0</td>\n      <td>0</td>\n      <td>53</td>\n      <td>Beverages</td>\n      <td>Indian</td>\n    </tr>\n    <tr>\n      <td>3</td>\n      <td>1123625</td>\n      <td>2</td>\n      <td>104</td>\n      <td>2304</td>\n      <td>484.03</td>\n      <td>485.03</td>\n      <td>0</td>\n      <td>0</td>\n      <td>15</td>\n      <td>Desert</td>\n      <td>Indian</td>\n    </tr>\n    <tr>\n      <td>4</td>\n      <td>1160294</td>\n      <td>2</td>\n      <td>61</td>\n      <td>2290</td>\n      <td>309.43</td>\n      <td>311.43</td>\n      <td>0</td>\n      <td>0</td>\n      <td>582</td>\n      <td>Rice Bowl</td>\n      <td>Indian</td>\n    </tr>\n    <tr>\n      <td>...</td>\n      <td>...</td>\n      <td>...</td>\n      <td>...</td>\n      <td>...</td>\n      <td>...</td>\n      <td>...</td>\n      <td>...</td>\n      <td>...</td>\n      <td>...</td>\n      <td>...</td>\n      <td>...</td>\n    </tr>\n    <tr>\n      <td>451</td>\n      <td>1014565</td>\n      <td>143</td>\n      <td>86</td>\n      <td>2640</td>\n      <td>319.13</td>\n      <td>319.13</td>\n      <td>0</td>\n      <td>0</td>\n      <td>27</td>\n      <td>Starters</td>\n      <td>Thai</td>\n    </tr>\n    <tr>\n      <td>452</td>\n      <td>1405796</td>\n      <td>144</td>\n      <td>80</td>\n      <td>2104</td>\n      <td>591.73</td>\n      <td>592.73</td>\n      <td>0</td>\n      <td>0</td>\n      <td>27</td>\n      <td>Fish</td>\n      <td>Continental</td>\n    </tr>\n    <tr>\n      <td>453</td>\n      <td>1336751</td>\n      <td>145</td>\n      <td>55</td>\n      <td>1885</td>\n      <td>156.23</td>\n      <td>156.23</td>\n      <td>0</td>\n      <td>0</td>\n      <td>121</td>\n      <td>Beverages</td>\n      <td>Thai</td>\n    </tr>\n    <tr>\n      <td>454</td>\n      <td>1014851</td>\n      <td>145</td>\n      <td>76</td>\n      <td>2760</td>\n      <td>162.99</td>\n      <td>242.53</td>\n      <td>0</td>\n      <td>0</td>\n      <td>231</td>\n      <td>Other Snacks</td>\n      <td>Thai</td>\n    </tr>\n    <tr>\n      <td>455</td>\n      <td>1307118</td>\n      <td>145</td>\n      <td>102</td>\n      <td>2707</td>\n      <td>193.06</td>\n      <td>194.06</td>\n      <td>0</td>\n      <td>0</td>\n      <td>203</td>\n      <td>Beverages</td>\n      <td>Italian</td>\n    </tr>\n  </tbody>\n</table>\n<p>456 rows × 11 columns</p>\n</div>",
      "text/plain": "          id  week  center_id  meal_id  checkout_price  base_price  \\\n0    1352248     1         75     2444          659.63      658.63   \n1    1183308     1         50     2581          582.03      614.07   \n2    1417026     1        113     2631          207.61      236.71   \n3    1123625     2        104     2304          484.03      485.03   \n4    1160294     2         61     2290          309.43      311.43   \n..       ...   ...        ...      ...             ...         ...   \n451  1014565   143         86     2640          319.13      319.13   \n452  1405796   144         80     2104          591.73      592.73   \n453  1336751   145         55     1885          156.23      156.23   \n454  1014851   145         76     2760          162.99      242.53   \n455  1307118   145        102     2707          193.06      194.06   \n\n     emailer_for_promotion  homepage_featured  num_orders      category  \\\n0                        0                  0          53       Seafood   \n1                        1                  0         162         Pizza   \n2                        0                  0          53     Beverages   \n3                        0                  0          15        Desert   \n4                        0                  0         582     Rice Bowl   \n..                     ...                ...         ...           ...   \n451                      0                  0          27      Starters   \n452                      0                  0          27          Fish   \n453                      0                  0         121     Beverages   \n454                      0                  0         231  Other Snacks   \n455                      0                  0         203     Beverages   \n\n         cuisine  \n0    Continental  \n1    Continental  \n2         Indian  \n3         Indian  \n4         Indian  \n..           ...  \n451         Thai  \n452  Continental  \n453         Thai  \n454         Thai  \n455      Italian  \n\n[456 rows x 11 columns]"
     },
     "execution_count": 4,
     "metadata": {},
     "output_type": "execute_result"
    }
   ],
   "source": [
    "\n",
    "meal_category_dict=dict()\n",
    "for i in meal_dataset.index:\n",
    "    meal_category_dict[meal_dataset[\"meal_id\"][i]]= meal_dataset[\"category\"][i]\n",
    "\n",
    "meal_cuisine_dict=dict()\n",
    "for i in meal_dataset.index:\n",
    "    meal_cuisine_dict[meal_dataset[\"meal_id\"][i]]= meal_dataset[\"cuisine\"][i]\n",
    "# print(meal_cuisine_dict)\n",
    "# print(meal_category_dict.items())\n",
    "for i in train_dataset.index:\n",
    "    # print(i)\n",
    "    if(train_dataset[\"meal_id\"][i] in meal_category_dict):\n",
    "        train_dataset[\"category\"][i] =  meal_category_dict.get(train_dataset[\"meal_id\"][i])\n",
    "for i in train_dataset.index:\n",
    "    # print(i)\n",
    "    if(train_dataset[\"meal_id\"][i] in meal_cuisine_dict):\n",
    "        train_dataset[\"cuisine\"][i] =  meal_cuisine_dict.get(train_dataset[\"meal_id\"][i])\n",
    "train_dataset"
   ]
  },
  {
   "cell_type": "code",
   "execution_count": null,
   "metadata": {},
   "outputs": [],
   "source": []
  }
 ]
}