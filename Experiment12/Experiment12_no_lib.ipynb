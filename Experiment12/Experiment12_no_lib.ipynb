{
 "cells": [
  {
   "cell_type": "code",
   "execution_count": 1,
   "metadata": {},
   "outputs": [],
   "source": [
    "import pandas as pd\n",
    "import itertools"
   ]
  },
  {
   "cell_type": "code",
   "execution_count": 2,
   "metadata": {},
   "outputs": [],
   "source": [
    "import json\n",
    "\n",
    "with open(\"values.json\",\"r\") as datafile:\n",
    "    data = json.load(datafile)\n",
    "data = pd.DataFrame(data)"
   ]
  },
  {
   "cell_type": "code",
   "execution_count": 3,
   "metadata": {},
   "outputs": [
    {
     "data": {
      "text/html": [
       "<div>\n",
       "<style scoped>\n",
       "    .dataframe tbody tr th:only-of-type {\n",
       "        vertical-align: middle;\n",
       "    }\n",
       "\n",
       "    .dataframe tbody tr th {\n",
       "        vertical-align: top;\n",
       "    }\n",
       "\n",
       "    .dataframe thead th {\n",
       "        text-align: right;\n",
       "    }\n",
       "</style>\n",
       "<table border=\"1\" class=\"dataframe\">\n",
       "  <thead>\n",
       "    <tr style=\"text-align: right;\">\n",
       "      <th></th>\n",
       "      <th>0</th>\n",
       "    </tr>\n",
       "  </thead>\n",
       "  <tbody>\n",
       "    <tr>\n",
       "      <td>536370</td>\n",
       "      <td>{'Description': ['ALARM CLOCK BAKELIKE PINK', ...</td>\n",
       "    </tr>\n",
       "    <tr>\n",
       "      <td>536852</td>\n",
       "      <td>{'Description': ['PICTURE DOMINOES', 'MINI JIG...</td>\n",
       "    </tr>\n",
       "    <tr>\n",
       "      <td>536974</td>\n",
       "      <td>{'Description': ['EDWARDIAN PARASOL BLACK', 'E...</td>\n",
       "    </tr>\n",
       "    <tr>\n",
       "      <td>537065</td>\n",
       "      <td>{'Description': ['HOT WATER BOTTLE BABUSHKA ',...</td>\n",
       "    </tr>\n",
       "    <tr>\n",
       "      <td>537463</td>\n",
       "      <td>{'Description': ['JAM MAKING SET PRINTED', 'SE...</td>\n",
       "    </tr>\n",
       "  </tbody>\n",
       "</table>\n",
       "</div>"
      ],
      "text/plain": [
       "                                                        0\n",
       "536370  {'Description': ['ALARM CLOCK BAKELIKE PINK', ...\n",
       "536852  {'Description': ['PICTURE DOMINOES', 'MINI JIG...\n",
       "536974  {'Description': ['EDWARDIAN PARASOL BLACK', 'E...\n",
       "537065  {'Description': ['HOT WATER BOTTLE BABUSHKA ',...\n",
       "537463  {'Description': ['JAM MAKING SET PRINTED', 'SE..."
      ]
     },
     "execution_count": 3,
     "metadata": {},
     "output_type": "execute_result"
    }
   ],
   "source": [
    "\n",
    "data = data.T\n",
    "data.head()"
   ]
  },
  {
   "cell_type": "code",
   "execution_count": 4,
   "metadata": {},
   "outputs": [
    {
     "data": {
      "text/plain": [
       "536370     {'Description': ['ALARM CLOCK BAKELIKE PINK', ...\n",
       "536852     {'Description': ['PICTURE DOMINOES', 'MINI JIG...\n",
       "536974     {'Description': ['EDWARDIAN PARASOL BLACK', 'E...\n",
       "537065     {'Description': ['HOT WATER BOTTLE BABUSHKA ',...\n",
       "537463     {'Description': ['JAM MAKING SET PRINTED', 'SE...\n",
       "                                 ...                        \n",
       "581001     {'Description': ['SET OF 6 RIBBONS PERFECTLY P...\n",
       "581171     {'Description': ['TRADITIONAL PICK UP STICKS G...\n",
       "581279     {'Description': ['CAKE STAND WHITE TWO TIER LA...\n",
       "C581316    {'Description': ['GLASS  SONGBIRD STORAGE JAR'...\n",
       "581587     {'Description': ['CIRCUS PARADE LUNCH BOX ', '...\n",
       "Name: 0, Length: 461, dtype: object"
      ]
     },
     "execution_count": 4,
     "metadata": {},
     "output_type": "execute_result"
    }
   ],
   "source": [
    "data[0]"
   ]
  },
  {
   "cell_type": "code",
   "execution_count": 5,
   "metadata": {
    "tags": [
     "outputPrepend",
     "outputPrepend",
     "outputPrepend",
     "outputPrepend",
     "outputPrepend",
     "outputPrepend",
     "outputPrepend",
     "outputPrepend",
     "outputPrepend",
     "outputPrepend",
     "outputPrepend",
     "outputPrepend",
     "outputPrepend",
     "outputPrepend",
     "outputPrepend",
     "outputPrepend",
     "outputPrepend",
     "outputPrepend",
     "outputPrepend",
     "outputPrepend",
     "outputPrepend",
     "outputPrepend",
     "outputPrepend",
     "outputPrepend",
     "outputPrepend",
     "outputPrepend",
     "outputPrepend",
     "outputPrepend",
     "outputPrepend",
     "outputPrepend",
     "outputPrepend",
     "outputPrepend",
     "outputPrepend",
     "outputPrepend",
     "outputPrepend",
     "outputPrepend",
     "outputPrepend",
     "outputPrepend",
     "outputPrepend",
     "outputPrepend",
     "outputPrepend",
     "outputPrepend",
     "outputPrepend",
     "outputPrepend"
    ]
   },
   "outputs": [
    {
     "data": {
      "text/html": [
       "<div>\n",
       "<style scoped>\n",
       "    .dataframe tbody tr th:only-of-type {\n",
       "        vertical-align: middle;\n",
       "    }\n",
       "\n",
       "    .dataframe tbody tr th {\n",
       "        vertical-align: top;\n",
       "    }\n",
       "\n",
       "    .dataframe thead th {\n",
       "        text-align: right;\n",
       "    }\n",
       "</style>\n",
       "<table border=\"1\" class=\"dataframe\">\n",
       "  <thead>\n",
       "    <tr style=\"text-align: right;\">\n",
       "      <th></th>\n",
       "      <th>0</th>\n",
       "      <th>Description</th>\n",
       "    </tr>\n",
       "  </thead>\n",
       "  <tbody>\n",
       "    <tr>\n",
       "      <td>536370</td>\n",
       "      <td>{'Description': ['ALARM CLOCK BAKELIKE PINK', ...</td>\n",
       "      <td>[ALARM CLOCK BAKELIKE PINK, ALARM CLOCK BAKELI...</td>\n",
       "    </tr>\n",
       "    <tr>\n",
       "      <td>536852</td>\n",
       "      <td>{'Description': ['PICTURE DOMINOES', 'MINI JIG...</td>\n",
       "      <td>[PICTURE DOMINOES, MINI JIGSAW SPACEBOY, MINI ...</td>\n",
       "    </tr>\n",
       "    <tr>\n",
       "      <td>536974</td>\n",
       "      <td>{'Description': ['EDWARDIAN PARASOL BLACK', 'E...</td>\n",
       "      <td>[EDWARDIAN PARASOL BLACK, EDWARDIAN PARASOL PI...</td>\n",
       "    </tr>\n",
       "    <tr>\n",
       "      <td>537065</td>\n",
       "      <td>{'Description': ['HOT WATER BOTTLE BABUSHKA ',...</td>\n",
       "      <td>[HOT WATER BOTTLE BABUSHKA , BREAD BIN DINER S...</td>\n",
       "    </tr>\n",
       "    <tr>\n",
       "      <td>537463</td>\n",
       "      <td>{'Description': ['JAM MAKING SET PRINTED', 'SE...</td>\n",
       "      <td>[JAM MAKING SET PRINTED, SET/4 SKULL BADGES, R...</td>\n",
       "    </tr>\n",
       "  </tbody>\n",
       "</table>\n",
       "</div>"
      ],
      "text/plain": [
       "                                                        0  \\\n",
       "536370  {'Description': ['ALARM CLOCK BAKELIKE PINK', ...   \n",
       "536852  {'Description': ['PICTURE DOMINOES', 'MINI JIG...   \n",
       "536974  {'Description': ['EDWARDIAN PARASOL BLACK', 'E...   \n",
       "537065  {'Description': ['HOT WATER BOTTLE BABUSHKA ',...   \n",
       "537463  {'Description': ['JAM MAKING SET PRINTED', 'SE...   \n",
       "\n",
       "                                              Description  \n",
       "536370  [ALARM CLOCK BAKELIKE PINK, ALARM CLOCK BAKELI...  \n",
       "536852  [PICTURE DOMINOES, MINI JIGSAW SPACEBOY, MINI ...  \n",
       "536974  [EDWARDIAN PARASOL BLACK, EDWARDIAN PARASOL PI...  \n",
       "537065  [HOT WATER BOTTLE BABUSHKA , BREAD BIN DINER S...  \n",
       "537463  [JAM MAKING SET PRINTED, SET/4 SKULL BADGES, R...  "
      ]
     },
     "execution_count": 5,
     "metadata": {},
     "output_type": "execute_result"
    }
   ],
   "source": [
    "def get_items(value):\n",
    "    # print(value[0][\"Description\"])\n",
    "    return value[0][\"Description\"]\n",
    "\n",
    "data[\"Description\"] = data.apply(get_items,1)\n",
    "data.head()"
   ]
  },
  {
   "cell_type": "code",
   "execution_count": 6,
   "metadata": {},
   "outputs": [
    {
     "data": {
      "text/plain": [
       "259"
      ]
     },
     "execution_count": 6,
     "metadata": {},
     "output_type": "execute_result"
    }
   ],
   "source": [
    "records = []\n",
    "maximum = 0\n",
    "def function_max(data):\n",
    "    global maximum\n",
    "    if maximum < len(data[\"Description\"]):\n",
    "        maximum = len(data[\"Description\"])\n",
    "    return data\n",
    "value = data.apply(function_max , 1)\n",
    "# for i in range(len())\n",
    "maximum"
   ]
  },
  {
   "cell_type": "code",
   "execution_count": 7,
   "metadata": {
    "tags": [
     "outputPrepend"
    ]
   },
   "outputs": [],
   "source": [
    "records = []\n",
    "# data = data[100:200]\n",
    "import numpy as np\n",
    "for d in data[\"Description\"]:\n",
    "    records.append(d)\n",
    "minimum_support_count = 0.05* len(data)\n",
    "\n",
    "items = []\n",
    "for sublist in records:\n",
    "    for item in sublist:\n",
    "        if item != np.nan:\n",
    "            items.append(item)"
   ]
  },
  {
   "cell_type": "code",
   "execution_count": 8,
   "metadata": {},
   "outputs": [
    {
     "data": {
      "text/plain": [
       "{'ALARM CLOCK BAKELIKE PINK': 41,\n",
       " 'ALARM CLOCK BAKELIKE RED ': 37,\n",
       " 'ALARM CLOCK BAKELIKE GREEN': 39,\n",
       " 'ROUND SNACK BOXES SET OF4 WOODLAND ': 65,\n",
       " 'SPACEBOY LUNCH BOX ': 50,\n",
       " 'LUNCH BOX I LOVE LONDON': 27,\n",
       " 'CIRCUS PARADE LUNCH BOX ': 27,\n",
       " 'CHARLOTTE BAG DOLLY GIRL DESIGN': 26,\n",
       " 'RED TOADSTOOL LED NIGHT LIGHT': 72,\n",
       " 'MINI PAINT SET VINTAGE ': 41,\n",
       " 'POSTAGE': 311,\n",
       " 'RED  HARMONICA IN BOX ': 27,\n",
       " 'LUNCH BOX WITH CUTLERY RETROSPOT ': 57,\n",
       " 'TEA PARTY BIRTHDAY CARD': 37,\n",
       " 'ASSORTED COLOUR MINI CASES': 27,\n",
       " 'RED RETROSPOT MINI CASES': 55,\n",
       " \"POPPY'S PLAYHOUSE KITCHEN\": 24,\n",
       " 'LUNCH BAG RED RETROSPOT': 61,\n",
       " 'LUNCH BAG WOODLAND': 47,\n",
       " 'SET/10 RED POLKADOT PARTY CANDLES': 30,\n",
       " 'STRAWBERRY LUNCH BOX WITH CUTLERY': 48,\n",
       " 'REGENCY CAKESTAND 3 TIER': 54,\n",
       " 'PLASTERS IN TIN WOODLAND ANIMALS': 68,\n",
       " 'PLASTERS IN TIN SPACEBOY': 55,\n",
       " 'WOODLAND CHARLOTTE BAG': 29,\n",
       " 'PACK OF 72 RETROSPOT CAKE CASES': 40,\n",
       " 'RED RETROSPOT CHILDRENS UMBRELLA': 28,\n",
       " 'SET OF 2 TEA TOWELS APPLE AND PEARS': 28,\n",
       " 'LUNCH BAG SPACEBOY DESIGN ': 48,\n",
       " 'DOLLY GIRL LUNCH BOX': 40,\n",
       " 'RETROSPOT PARTY BAG + STICKER SET': 24,\n",
       " 'SET/6 RED SPOTTY PAPER CUPS': 54,\n",
       " 'SET/6 RED SPOTTY PAPER PLATES': 50,\n",
       " 'SET OF 9 HEART SHAPED BALLOONS': 26,\n",
       " 'SET OF 9 BLACK SKULL BALLOONS': 26,\n",
       " 'CIRCUS PARADE CHILDRENS EGG CUP ': 24,\n",
       " '4 TRADITIONAL SPINNING TOPS': 28,\n",
       " 'PLASTERS IN TIN CIRCUS PARADE ': 68,\n",
       " 'JUMBO BAG SPACEBOY DESIGN': 25,\n",
       " 'LUNCH BAG DOLLY GIRL DESIGN': 34,\n",
       " 'SPACEBOY BIRTHDAY CARD': 28,\n",
       " 'PACK OF 6 SKULL PAPER CUPS': 25,\n",
       " 'PLASTERS IN TIN STRONGMAN': 32,\n",
       " 'SET/20 RED RETROSPOT PAPER NAPKINS ': 52,\n",
       " 'COFFEE MUG APPLES DESIGN': 28,\n",
       " 'ROUND SNACK BOXES SET OF 4 FRUITS ': 44,\n",
       " 'PAPER BUNTING RETROSPOT': 32,\n",
       " 'BAKING SET 9 PIECE RETROSPOT ': 32,\n",
       " 'RED RETROSPOT PICNIC BAG': 29,\n",
       " 'JUMBO BAG RED RETROSPOT': 39,\n",
       " 'RED RETROSPOT CHARLOTTE BAG': 38,\n",
       " 'CHILDRENS APRON SPACEBOY DESIGN': 27,\n",
       " 'RETROSPOT TEA SET CERAMIC 11 PC ': 34,\n",
       " 'WATERING CAN PINK BUNNY': 25,\n",
       " 'JUMBO BAG WOODLAND ANIMALS': 30,\n",
       " 'LUNCH BAG APPLE DESIGN': 51,\n",
       " 'CHARLOTTE BAG APPLES DESIGN': 27,\n",
       " 'CHILDRENS CUTLERY SPACEBOY ': 27,\n",
       " 'CHILDRENS CUTLERY DOLLY GIRL ': 29,\n",
       " 'JUMBO BAG APPLES': 26,\n",
       " 'RABBIT NIGHT LIGHT': 75}"
      ]
     },
     "execution_count": 8,
     "metadata": {},
     "output_type": "execute_result"
    }
   ],
   "source": [
    "def stage_1(items,minimum_support_count):\n",
    "    c1 = { i : items.count(i) for i in items}\n",
    "    l1 = {}\n",
    "    for key,value in c1.items():\n",
    "        if value>=minimum_support_count:\n",
    "            l1[key] = value\n",
    "\n",
    "    return c1,l1\n",
    "\n",
    "c1,l1 = stage_1(items , minimum_support_count)\n",
    "l1"
   ]
  },
  {
   "cell_type": "code",
   "execution_count": 9,
   "metadata": {},
   "outputs": [],
   "source": [
    "def sublist(lst1, lst2):\n",
    "    return set(lst1) <= set(lst2)\n",
    "    \n",
    "def check_subset_frequency(itemset, l, n):\n",
    "    if n>1:    \n",
    "        subsets = list(itertools.combinations(itemset, n))\n",
    "    else:\n",
    "        subsets = itemset\n",
    "    for iter1 in subsets:\n",
    "        if not iter1 in l:\n",
    "            return False\n",
    "    return True\n",
    "\n",
    "def stage_2(l1,records,minimum_support_count):\n",
    "    l1 = sorted(list(l1.keys()))\n",
    "    L1 = list(itertools.combinations(l1,2))\n",
    "\n",
    "    c2 = {}\n",
    "    l2 = {}\n",
    "    for iter1 in L1:\n",
    "        count = 0\n",
    "        for iter2 in records:\n",
    "            if sublist(iter1,iter2):\n",
    "                count+=1\n",
    "        c2[iter1] = count\n",
    "    \n",
    "    for key,value in c2.items():\n",
    "        if value >= minimum_support_count:\n",
    "            if check_subset_frequency(key,l1,1):\n",
    "                l2[key] = value\n",
    "    \n",
    "    return c2,l2\n",
    "\n",
    "c2,l2 = stage_2(l1,records,minimum_support_count)"
   ]
  },
  {
   "cell_type": "code",
   "execution_count": 10,
   "metadata": {},
   "outputs": [
    {
     "data": {
      "text/plain": [
       "{('ALARM CLOCK BAKELIKE GREEN', 'ALARM CLOCK BAKELIKE PINK'): 29,\n",
       " ('ALARM CLOCK BAKELIKE GREEN', 'ALARM CLOCK BAKELIKE RED '): 31,\n",
       " ('ALARM CLOCK BAKELIKE GREEN', 'POSTAGE'): 33,\n",
       " ('ALARM CLOCK BAKELIKE PINK', 'ALARM CLOCK BAKELIKE RED '): 29,\n",
       " ('ALARM CLOCK BAKELIKE PINK', 'POSTAGE'): 35,\n",
       " ('ALARM CLOCK BAKELIKE RED ', 'POSTAGE'): 34,\n",
       " ('ASSORTED COLOUR MINI CASES', 'POSTAGE'): 25,\n",
       " ('CHILDRENS CUTLERY DOLLY GIRL ', 'CHILDRENS CUTLERY SPACEBOY '): 25,\n",
       " ('COFFEE MUG APPLES DESIGN', 'POSTAGE'): 24,\n",
       " ('DOLLY GIRL LUNCH BOX', 'POSTAGE'): 29,\n",
       " ('DOLLY GIRL LUNCH BOX', 'SPACEBOY LUNCH BOX '): 28,\n",
       " ('JUMBO BAG RED RETROSPOT', 'POSTAGE'): 32,\n",
       " ('JUMBO BAG WOODLAND ANIMALS', 'POSTAGE'): 30,\n",
       " ('LUNCH BAG APPLE DESIGN', 'LUNCH BAG RED RETROSPOT'): 26,\n",
       " ('LUNCH BAG APPLE DESIGN', 'LUNCH BAG SPACEBOY DESIGN '): 26,\n",
       " ('LUNCH BAG APPLE DESIGN', 'POSTAGE'): 41,\n",
       " ('LUNCH BAG RED RETROSPOT', 'LUNCH BAG SPACEBOY DESIGN '): 26,\n",
       " ('LUNCH BAG RED RETROSPOT', 'POSTAGE'): 48,\n",
       " ('LUNCH BAG SPACEBOY DESIGN ', 'LUNCH BAG WOODLAND'): 26,\n",
       " ('LUNCH BAG SPACEBOY DESIGN ', 'POSTAGE'): 36,\n",
       " ('LUNCH BAG WOODLAND', 'POSTAGE'): 40,\n",
       " ('LUNCH BOX WITH CUTLERY RETROSPOT ', 'POSTAGE'): 45,\n",
       " ('LUNCH BOX WITH CUTLERY RETROSPOT ',\n",
       "  'STRAWBERRY LUNCH BOX WITH CUTLERY'): 25,\n",
       " ('MINI PAINT SET VINTAGE ', 'POSTAGE'): 32,\n",
       " ('PACK OF 6 SKULL PAPER CUPS', 'POSTAGE'): 24,\n",
       " ('PACK OF 72 RETROSPOT CAKE CASES', 'POSTAGE'): 33,\n",
       " ('PAPER BUNTING RETROSPOT', 'POSTAGE'): 28,\n",
       " ('PLASTERS IN TIN CIRCUS PARADE ', 'PLASTERS IN TIN SPACEBOY'): 36,\n",
       " ('PLASTERS IN TIN CIRCUS PARADE ', 'PLASTERS IN TIN WOODLAND ANIMALS'): 40,\n",
       " ('PLASTERS IN TIN CIRCUS PARADE ', 'POSTAGE'): 58,\n",
       " ('PLASTERS IN TIN SPACEBOY', 'PLASTERS IN TIN WOODLAND ANIMALS'): 41,\n",
       " ('PLASTERS IN TIN SPACEBOY', 'POSTAGE'): 45,\n",
       " ('PLASTERS IN TIN STRONGMAN', 'POSTAGE'): 25,\n",
       " ('PLASTERS IN TIN WOODLAND ANIMALS', 'POSTAGE'): 54,\n",
       " ('POSTAGE', 'RABBIT NIGHT LIGHT'): 65,\n",
       " ('POSTAGE', 'RED RETROSPOT CHARLOTTE BAG'): 32,\n",
       " ('POSTAGE', 'RED RETROSPOT MINI CASES'): 45,\n",
       " ('POSTAGE', 'RED RETROSPOT PICNIC BAG'): 27,\n",
       " ('POSTAGE', 'RED TOADSTOOL LED NIGHT LIGHT'): 62,\n",
       " ('POSTAGE', 'REGENCY CAKESTAND 3 TIER'): 42,\n",
       " ('POSTAGE', 'ROUND SNACK BOXES SET OF 4 FRUITS '): 37,\n",
       " ('POSTAGE', 'ROUND SNACK BOXES SET OF4 WOODLAND '): 58,\n",
       " ('POSTAGE', 'SET OF 2 TEA TOWELS APPLE AND PEARS'): 25,\n",
       " ('POSTAGE', 'SET OF 9 BLACK SKULL BALLOONS'): 25,\n",
       " ('POSTAGE', 'SET/10 RED POLKADOT PARTY CANDLES'): 25,\n",
       " ('POSTAGE', 'SET/20 RED RETROSPOT PAPER NAPKINS '): 43,\n",
       " ('POSTAGE', 'SET/6 RED SPOTTY PAPER CUPS'): 46,\n",
       " ('POSTAGE', 'SET/6 RED SPOTTY PAPER PLATES'): 42,\n",
       " ('POSTAGE', 'SPACEBOY LUNCH BOX '): 38,\n",
       " ('POSTAGE', 'STRAWBERRY LUNCH BOX WITH CUTLERY'): 45,\n",
       " ('POSTAGE', 'TEA PARTY BIRTHDAY CARD'): 35,\n",
       " ('POSTAGE', 'WOODLAND CHARLOTTE BAG'): 26,\n",
       " ('ROUND SNACK BOXES SET OF 4 FRUITS ',\n",
       "  'ROUND SNACK BOXES SET OF4 WOODLAND '): 25,\n",
       " ('SET/20 RED RETROSPOT PAPER NAPKINS ', 'SET/6 RED SPOTTY PAPER CUPS'): 40,\n",
       " ('SET/20 RED RETROSPOT PAPER NAPKINS ', 'SET/6 RED SPOTTY PAPER PLATES'): 40,\n",
       " ('SET/6 RED SPOTTY PAPER CUPS', 'SET/6 RED SPOTTY PAPER PLATES'): 48}"
      ]
     },
     "execution_count": 10,
     "metadata": {},
     "output_type": "execute_result"
    }
   ],
   "source": [
    "l2"
   ]
  },
  {
   "cell_type": "code",
   "execution_count": 11,
   "metadata": {},
   "outputs": [
    {
     "data": {
      "text/plain": [
       "{('ALARM CLOCK BAKELIKE GREEN',\n",
       "  'ALARM CLOCK BAKELIKE PINK',\n",
       "  'ALARM CLOCK BAKELIKE RED '): 25,\n",
       " ('ALARM CLOCK BAKELIKE GREEN', 'ALARM CLOCK BAKELIKE PINK', 'POSTAGE'): 24,\n",
       " ('ALARM CLOCK BAKELIKE GREEN', 'ALARM CLOCK BAKELIKE RED ', 'POSTAGE'): 28,\n",
       " ('ALARM CLOCK BAKELIKE PINK', 'ALARM CLOCK BAKELIKE RED ', 'POSTAGE'): 26,\n",
       " ('LUNCH BAG APPLE DESIGN', 'LUNCH BAG RED RETROSPOT', 'POSTAGE'): 24,\n",
       " ('PLASTERS IN TIN CIRCUS PARADE ',\n",
       "  'PLASTERS IN TIN SPACEBOY',\n",
       "  'PLASTERS IN TIN WOODLAND ANIMALS'): 27,\n",
       " ('PLASTERS IN TIN CIRCUS PARADE ', 'PLASTERS IN TIN SPACEBOY', 'POSTAGE'): 29,\n",
       " ('PLASTERS IN TIN CIRCUS PARADE ',\n",
       "  'PLASTERS IN TIN WOODLAND ANIMALS',\n",
       "  'POSTAGE'): 33,\n",
       " ('PLASTERS IN TIN SPACEBOY',\n",
       "  'PLASTERS IN TIN WOODLAND ANIMALS',\n",
       "  'POSTAGE'): 33,\n",
       " ('POSTAGE',\n",
       "  'SET/20 RED RETROSPOT PAPER NAPKINS ',\n",
       "  'SET/6 RED SPOTTY PAPER CUPS'): 33,\n",
       " ('POSTAGE',\n",
       "  'SET/20 RED RETROSPOT PAPER NAPKINS ',\n",
       "  'SET/6 RED SPOTTY PAPER PLATES'): 33,\n",
       " ('POSTAGE',\n",
       "  'SET/6 RED SPOTTY PAPER CUPS',\n",
       "  'SET/6 RED SPOTTY PAPER PLATES'): 40,\n",
       " ('SET/20 RED RETROSPOT PAPER NAPKINS ',\n",
       "  'SET/6 RED SPOTTY PAPER CUPS',\n",
       "  'SET/6 RED SPOTTY PAPER PLATES'): 39}"
      ]
     },
     "execution_count": 11,
     "metadata": {},
     "output_type": "execute_result"
    }
   ],
   "source": [
    "def stage_3(l2, records, minimum_support_count):\n",
    "    l2 = list(l2.keys())\n",
    "    L2 = sorted(list(set([item for t in l2 for item in t])))\n",
    "    L2 = list(itertools.combinations(L2, 3))\n",
    "    c3 = {}\n",
    "    l3 = {}\n",
    "    for iter1 in L2:\n",
    "        count = 0\n",
    "        for iter2 in records:\n",
    "            if sublist(iter1, iter2):\n",
    "                count+=1\n",
    "        c3[iter1] = count\n",
    "    for key, value in c3.items():\n",
    "        if value >= minimum_support_count:\n",
    "            if check_subset_frequency(key, l2, 2):\n",
    "                l3[key] = value \n",
    "        \n",
    "    return c3, l3\n",
    "c3, l3 = stage_3(l2, records, minimum_support_count)\n",
    "l3"
   ]
  },
  {
   "cell_type": "code",
   "execution_count": 12,
   "metadata": {},
   "outputs": [
    {
     "data": {
      "text/plain": [
       "{('POSTAGE',\n",
       "  'SET/20 RED RETROSPOT PAPER NAPKINS ',\n",
       "  'SET/6 RED SPOTTY PAPER CUPS',\n",
       "  'SET/6 RED SPOTTY PAPER PLATES'): 32}"
      ]
     },
     "execution_count": 12,
     "metadata": {},
     "output_type": "execute_result"
    }
   ],
   "source": [
    "def stage_4(l3, records, minimum_support_count):\n",
    "    l3 = list(l3.keys())\n",
    "    L3 = sorted(list(set([item for t in l3 for item in t])))\n",
    "    L3 = list(itertools.combinations(L3, 4))\n",
    "    c4 = {}\n",
    "    l4 = {}\n",
    "    for iter1 in L3:\n",
    "        count = 0\n",
    "        for iter2 in records:\n",
    "            if sublist(iter1, iter2):\n",
    "                count+=1\n",
    "        c4[iter1] = count\n",
    "    for key, value in c4.items():\n",
    "        if value >= minimum_support_count:\n",
    "            if check_subset_frequency(key, l3, 3):\n",
    "                l4[key] = value \n",
    "        \n",
    "    return c4, l4\n",
    "c4, l4 = stage_4(l3, records, minimum_support_count)\n",
    "l4"
   ]
  },
  {
   "cell_type": "code",
   "execution_count": 28,
   "metadata": {},
   "outputs": [
    {
     "name": "stdout",
     "output_type": "stream",
     "text": [
      "Confidence('ALARM CLOCK BAKELIKE GREEN', 'ALARM CLOCK BAKELIKE RED ')->{'POSTAGE'} =  90.32258064516128\n",
      "Confidence('LUNCH BAG APPLE DESIGN', 'LUNCH BAG RED RETROSPOT')->{'POSTAGE'} =  92.3076923076923\n",
      "Confidence('POSTAGE', 'SET/6 RED SPOTTY PAPER PLATES')->{'SET/6 RED SPOTTY PAPER CUPS'} =  95.23809523809523\n",
      "Confidence('SET/20 RED RETROSPOT PAPER NAPKINS ', 'SET/6 RED SPOTTY PAPER CUPS')->{'SET/6 RED SPOTTY PAPER PLATES'} =  97.5\n",
      "Confidence('SET/20 RED RETROSPOT PAPER NAPKINS ', 'SET/6 RED SPOTTY PAPER PLATES')->{'SET/6 RED SPOTTY PAPER CUPS'} =  97.5\n"
     ]
    },
    {
     "data": {
      "text/html": [
       "<div>\n",
       "<style scoped>\n",
       "    .dataframe tbody tr th:only-of-type {\n",
       "        vertical-align: middle;\n",
       "    }\n",
       "\n",
       "    .dataframe tbody tr th {\n",
       "        vertical-align: top;\n",
       "    }\n",
       "\n",
       "    .dataframe thead th {\n",
       "        text-align: right;\n",
       "    }\n",
       "</style>\n",
       "<table border=\"1\" class=\"dataframe\">\n",
       "  <thead>\n",
       "    <tr style=\"text-align: right;\">\n",
       "      <th></th>\n",
       "      <th>Antecedent</th>\n",
       "      <th>Consequent</th>\n",
       "      <th>Confidence</th>\n",
       "    </tr>\n",
       "  </thead>\n",
       "  <tbody>\n",
       "    <tr>\n",
       "      <td>0</td>\n",
       "      <td>(ALARM CLOCK BAKELIKE GREEN, ALARM CLOCK BAKEL...</td>\n",
       "      <td>{ALARM CLOCK BAKELIKE RED }</td>\n",
       "      <td>86.206897</td>\n",
       "    </tr>\n",
       "    <tr>\n",
       "      <td>1</td>\n",
       "      <td>(ALARM CLOCK BAKELIKE GREEN, ALARM CLOCK BAKEL...</td>\n",
       "      <td>{ALARM CLOCK BAKELIKE PINK}</td>\n",
       "      <td>80.645161</td>\n",
       "    </tr>\n",
       "    <tr>\n",
       "      <td>2</td>\n",
       "      <td>(ALARM CLOCK BAKELIKE PINK, ALARM CLOCK BAKELI...</td>\n",
       "      <td>{ALARM CLOCK BAKELIKE GREEN}</td>\n",
       "      <td>86.206897</td>\n",
       "    </tr>\n",
       "    <tr>\n",
       "      <td>3</td>\n",
       "      <td>(ALARM CLOCK BAKELIKE GREEN, ALARM CLOCK BAKEL...</td>\n",
       "      <td>{POSTAGE}</td>\n",
       "      <td>82.758621</td>\n",
       "    </tr>\n",
       "    <tr>\n",
       "      <td>4</td>\n",
       "      <td>(ALARM CLOCK BAKELIKE GREEN, POSTAGE)</td>\n",
       "      <td>{ALARM CLOCK BAKELIKE PINK}</td>\n",
       "      <td>72.727273</td>\n",
       "    </tr>\n",
       "  </tbody>\n",
       "</table>\n",
       "</div>"
      ],
      "text/plain": [
       "                                          Antecedent  \\\n",
       "0  (ALARM CLOCK BAKELIKE GREEN, ALARM CLOCK BAKEL...   \n",
       "1  (ALARM CLOCK BAKELIKE GREEN, ALARM CLOCK BAKEL...   \n",
       "2  (ALARM CLOCK BAKELIKE PINK, ALARM CLOCK BAKELI...   \n",
       "3  (ALARM CLOCK BAKELIKE GREEN, ALARM CLOCK BAKEL...   \n",
       "4              (ALARM CLOCK BAKELIKE GREEN, POSTAGE)   \n",
       "\n",
       "                     Consequent  Confidence  \n",
       "0   {ALARM CLOCK BAKELIKE RED }   86.206897  \n",
       "1   {ALARM CLOCK BAKELIKE PINK}   80.645161  \n",
       "2  {ALARM CLOCK BAKELIKE GREEN}   86.206897  \n",
       "3                     {POSTAGE}   82.758621  \n",
       "4   {ALARM CLOCK BAKELIKE PINK}   72.727273  "
      ]
     },
     "execution_count": 28,
     "metadata": {},
     "output_type": "execute_result"
    }
   ],
   "source": [
    "itemlist = {**l1, **l2, **l3, **l4}\n",
    "\n",
    "def support_count(itemset, itemlist):\n",
    "    return itemlist[itemset]\n",
    "\n",
    "sets = []\n",
    "for iter1 in list(l3.keys()):\n",
    "    subsets = list(itertools.combinations(iter1, 2))\n",
    "    sets.append(subsets)\n",
    "plotting_data = []\n",
    "list_l3 = list(l3.keys())\n",
    "for i in range(0, len(list_l3)):\n",
    "    for iter1 in sets[i]:\n",
    "        a = iter1\n",
    "        b = set(list_l3[i]) - set(iter1)\n",
    "        confidence = (support_count(list_l3[i], itemlist)/support_count(iter1, itemlist))*100\n",
    "        plotting_data.append({\"Antecedent\" : a, \"Consequent\" : b, \"Confidence\" : confidence})\n",
    "        if confidence > 90:\n",
    "            print(\"Confidence{}->{} = \".format(a,b), confidence)\n",
    "plot1 = pd.DataFrame(plotting_data)\n",
    "plot1.head()"
   ]
  },
  {
   "cell_type": "code",
   "execution_count": 31,
   "metadata": {},
   "outputs": [
    {
     "data": {
      "application/vnd.plotly.v1+json": {
       "config": {
        "plotlyServerURL": "https://plot.ly"
       },
       "data": [
        {
         "hoverlabel": {
          "namelength": 0
         },
         "hovertemplate": "Consequent=%{x}<br>Antecedent=%{y}<br>Confidence=%{marker.color}",
         "legendgroup": "",
         "marker": {
          "color": [
           86.20689655172413,
           80.64516129032258,
           86.20689655172413,
           82.75862068965517,
           72.72727272727273,
           68.57142857142857,
           90.32258064516128,
           84.84848484848484,
           82.35294117647058,
           89.65517241379311,
           74.28571428571429,
           76.47058823529412,
           92.3076923076923,
           58.536585365853654,
           50,
           75,
           67.5,
           65.85365853658537,
           80.55555555555556,
           50,
           64.44444444444444,
           82.5,
           56.896551724137936,
           61.111111111111114,
           80.48780487804879,
           73.33333333333333,
           61.111111111111114,
           76.74418604651163,
           71.73913043478261,
           82.5,
           76.74418604651163,
           78.57142857142857,
           82.5,
           86.95652173913044,
           95.23809523809523,
           83.33333333333334,
           97.5,
           97.5,
           81.25
          ],
          "coloraxis": "coloraxis",
          "symbol": "circle"
         },
         "mode": "markers",
         "name": "",
         "showlegend": false,
         "type": "scatter",
         "x": [
          "ALARM CLOCK BAKELIKE RED ",
          "ALARM CLOCK BAKELIKE PINK",
          "ALARM CLOCK BAKELIKE GREEN",
          "POSTAGE",
          "ALARM CLOCK BAKELIKE PINK",
          "ALARM CLOCK BAKELIKE GREEN",
          "POSTAGE",
          "ALARM CLOCK BAKELIKE RED ",
          "ALARM CLOCK BAKELIKE GREEN",
          "POSTAGE",
          "ALARM CLOCK BAKELIKE RED ",
          "ALARM CLOCK BAKELIKE PINK",
          "POSTAGE",
          "LUNCH BAG RED RETROSPOT",
          "LUNCH BAG APPLE DESIGN",
          "PLASTERS IN TIN WOODLAND ANIMALS",
          "PLASTERS IN TIN SPACEBOY",
          "PLASTERS IN TIN CIRCUS PARADE ",
          "POSTAGE",
          "PLASTERS IN TIN SPACEBOY",
          "PLASTERS IN TIN CIRCUS PARADE ",
          "POSTAGE",
          "PLASTERS IN TIN WOODLAND ANIMALS",
          "PLASTERS IN TIN CIRCUS PARADE ",
          "POSTAGE",
          "PLASTERS IN TIN WOODLAND ANIMALS",
          "PLASTERS IN TIN SPACEBOY",
          "SET/6 RED SPOTTY PAPER CUPS",
          "SET/20 RED RETROSPOT PAPER NAPKINS ",
          "POSTAGE",
          "SET/6 RED SPOTTY PAPER PLATES",
          "SET/20 RED RETROSPOT PAPER NAPKINS ",
          "POSTAGE",
          "SET/6 RED SPOTTY PAPER PLATES",
          "SET/6 RED SPOTTY PAPER CUPS",
          "POSTAGE",
          "SET/6 RED SPOTTY PAPER PLATES",
          "SET/6 RED SPOTTY PAPER CUPS",
          "SET/20 RED RETROSPOT PAPER NAPKINS "
         ],
         "xaxis": "x",
         "y": [
          "ALARM CLOCK BAKELIKE GREEN,ALARM CLOCK BAKELIKE PINK",
          "ALARM CLOCK BAKELIKE GREEN,ALARM CLOCK BAKELIKE RED ",
          "ALARM CLOCK BAKELIKE PINK,ALARM CLOCK BAKELIKE RED ",
          "ALARM CLOCK BAKELIKE GREEN,ALARM CLOCK BAKELIKE PINK",
          "ALARM CLOCK BAKELIKE GREEN,POSTAGE",
          "ALARM CLOCK BAKELIKE PINK,POSTAGE",
          "ALARM CLOCK BAKELIKE GREEN,ALARM CLOCK BAKELIKE RED ",
          "ALARM CLOCK BAKELIKE GREEN,POSTAGE",
          "ALARM CLOCK BAKELIKE RED ,POSTAGE",
          "ALARM CLOCK BAKELIKE PINK,ALARM CLOCK BAKELIKE RED ",
          "ALARM CLOCK BAKELIKE PINK,POSTAGE",
          "ALARM CLOCK BAKELIKE RED ,POSTAGE",
          "LUNCH BAG APPLE DESIGN,LUNCH BAG RED RETROSPOT",
          "LUNCH BAG APPLE DESIGN,POSTAGE",
          "LUNCH BAG RED RETROSPOT,POSTAGE",
          "PLASTERS IN TIN CIRCUS PARADE ,PLASTERS IN TIN SPACEBOY",
          "PLASTERS IN TIN CIRCUS PARADE ,PLASTERS IN TIN WOODLAND ANIMALS",
          "PLASTERS IN TIN SPACEBOY,PLASTERS IN TIN WOODLAND ANIMALS",
          "PLASTERS IN TIN CIRCUS PARADE ,PLASTERS IN TIN SPACEBOY",
          "PLASTERS IN TIN CIRCUS PARADE ,POSTAGE",
          "PLASTERS IN TIN SPACEBOY,POSTAGE",
          "PLASTERS IN TIN CIRCUS PARADE ,PLASTERS IN TIN WOODLAND ANIMALS",
          "PLASTERS IN TIN CIRCUS PARADE ,POSTAGE",
          "PLASTERS IN TIN WOODLAND ANIMALS,POSTAGE",
          "PLASTERS IN TIN SPACEBOY,PLASTERS IN TIN WOODLAND ANIMALS",
          "PLASTERS IN TIN SPACEBOY,POSTAGE",
          "PLASTERS IN TIN WOODLAND ANIMALS,POSTAGE",
          "POSTAGE,SET/20 RED RETROSPOT PAPER NAPKINS ",
          "POSTAGE,SET/6 RED SPOTTY PAPER CUPS",
          "SET/20 RED RETROSPOT PAPER NAPKINS ,SET/6 RED SPOTTY PAPER CUPS",
          "POSTAGE,SET/20 RED RETROSPOT PAPER NAPKINS ",
          "POSTAGE,SET/6 RED SPOTTY PAPER PLATES",
          "SET/20 RED RETROSPOT PAPER NAPKINS ,SET/6 RED SPOTTY PAPER PLATES",
          "POSTAGE,SET/6 RED SPOTTY PAPER CUPS",
          "POSTAGE,SET/6 RED SPOTTY PAPER PLATES",
          "SET/6 RED SPOTTY PAPER CUPS,SET/6 RED SPOTTY PAPER PLATES",
          "SET/20 RED RETROSPOT PAPER NAPKINS ,SET/6 RED SPOTTY PAPER CUPS",
          "SET/20 RED RETROSPOT PAPER NAPKINS ,SET/6 RED SPOTTY PAPER PLATES",
          "SET/6 RED SPOTTY PAPER CUPS,SET/6 RED SPOTTY PAPER PLATES"
         ],
         "yaxis": "y"
        }
       ],
       "layout": {
        "coloraxis": {
         "colorbar": {
          "title": {
           "text": "Confidence"
          }
         },
         "colorscale": [
          [
           0,
           "#0d0887"
          ],
          [
           0.1111111111111111,
           "#46039f"
          ],
          [
           0.2222222222222222,
           "#7201a8"
          ],
          [
           0.3333333333333333,
           "#9c179e"
          ],
          [
           0.4444444444444444,
           "#bd3786"
          ],
          [
           0.5555555555555556,
           "#d8576b"
          ],
          [
           0.6666666666666666,
           "#ed7953"
          ],
          [
           0.7777777777777778,
           "#fb9f3a"
          ],
          [
           0.8888888888888888,
           "#fdca26"
          ],
          [
           1,
           "#f0f921"
          ]
         ]
        },
        "height": 1600,
        "legend": {
         "tracegroupgap": 0
        },
        "margin": {
         "b": 500,
         "l": 500,
         "pad": 4,
         "r": 150,
         "t": 100
        },
        "template": {
         "data": {
          "bar": [
           {
            "error_x": {
             "color": "#2a3f5f"
            },
            "error_y": {
             "color": "#2a3f5f"
            },
            "marker": {
             "line": {
              "color": "#E5ECF6",
              "width": 0.5
             }
            },
            "type": "bar"
           }
          ],
          "barpolar": [
           {
            "marker": {
             "line": {
              "color": "#E5ECF6",
              "width": 0.5
             }
            },
            "type": "barpolar"
           }
          ],
          "carpet": [
           {
            "aaxis": {
             "endlinecolor": "#2a3f5f",
             "gridcolor": "white",
             "linecolor": "white",
             "minorgridcolor": "white",
             "startlinecolor": "#2a3f5f"
            },
            "baxis": {
             "endlinecolor": "#2a3f5f",
             "gridcolor": "white",
             "linecolor": "white",
             "minorgridcolor": "white",
             "startlinecolor": "#2a3f5f"
            },
            "type": "carpet"
           }
          ],
          "choropleth": [
           {
            "colorbar": {
             "outlinewidth": 0,
             "ticks": ""
            },
            "type": "choropleth"
           }
          ],
          "contour": [
           {
            "colorbar": {
             "outlinewidth": 0,
             "ticks": ""
            },
            "colorscale": [
             [
              0,
              "#0d0887"
             ],
             [
              0.1111111111111111,
              "#46039f"
             ],
             [
              0.2222222222222222,
              "#7201a8"
             ],
             [
              0.3333333333333333,
              "#9c179e"
             ],
             [
              0.4444444444444444,
              "#bd3786"
             ],
             [
              0.5555555555555556,
              "#d8576b"
             ],
             [
              0.6666666666666666,
              "#ed7953"
             ],
             [
              0.7777777777777778,
              "#fb9f3a"
             ],
             [
              0.8888888888888888,
              "#fdca26"
             ],
             [
              1,
              "#f0f921"
             ]
            ],
            "type": "contour"
           }
          ],
          "contourcarpet": [
           {
            "colorbar": {
             "outlinewidth": 0,
             "ticks": ""
            },
            "type": "contourcarpet"
           }
          ],
          "heatmap": [
           {
            "colorbar": {
             "outlinewidth": 0,
             "ticks": ""
            },
            "colorscale": [
             [
              0,
              "#0d0887"
             ],
             [
              0.1111111111111111,
              "#46039f"
             ],
             [
              0.2222222222222222,
              "#7201a8"
             ],
             [
              0.3333333333333333,
              "#9c179e"
             ],
             [
              0.4444444444444444,
              "#bd3786"
             ],
             [
              0.5555555555555556,
              "#d8576b"
             ],
             [
              0.6666666666666666,
              "#ed7953"
             ],
             [
              0.7777777777777778,
              "#fb9f3a"
             ],
             [
              0.8888888888888888,
              "#fdca26"
             ],
             [
              1,
              "#f0f921"
             ]
            ],
            "type": "heatmap"
           }
          ],
          "heatmapgl": [
           {
            "colorbar": {
             "outlinewidth": 0,
             "ticks": ""
            },
            "colorscale": [
             [
              0,
              "#0d0887"
             ],
             [
              0.1111111111111111,
              "#46039f"
             ],
             [
              0.2222222222222222,
              "#7201a8"
             ],
             [
              0.3333333333333333,
              "#9c179e"
             ],
             [
              0.4444444444444444,
              "#bd3786"
             ],
             [
              0.5555555555555556,
              "#d8576b"
             ],
             [
              0.6666666666666666,
              "#ed7953"
             ],
             [
              0.7777777777777778,
              "#fb9f3a"
             ],
             [
              0.8888888888888888,
              "#fdca26"
             ],
             [
              1,
              "#f0f921"
             ]
            ],
            "type": "heatmapgl"
           }
          ],
          "histogram": [
           {
            "marker": {
             "colorbar": {
              "outlinewidth": 0,
              "ticks": ""
             }
            },
            "type": "histogram"
           }
          ],
          "histogram2d": [
           {
            "colorbar": {
             "outlinewidth": 0,
             "ticks": ""
            },
            "colorscale": [
             [
              0,
              "#0d0887"
             ],
             [
              0.1111111111111111,
              "#46039f"
             ],
             [
              0.2222222222222222,
              "#7201a8"
             ],
             [
              0.3333333333333333,
              "#9c179e"
             ],
             [
              0.4444444444444444,
              "#bd3786"
             ],
             [
              0.5555555555555556,
              "#d8576b"
             ],
             [
              0.6666666666666666,
              "#ed7953"
             ],
             [
              0.7777777777777778,
              "#fb9f3a"
             ],
             [
              0.8888888888888888,
              "#fdca26"
             ],
             [
              1,
              "#f0f921"
             ]
            ],
            "type": "histogram2d"
           }
          ],
          "histogram2dcontour": [
           {
            "colorbar": {
             "outlinewidth": 0,
             "ticks": ""
            },
            "colorscale": [
             [
              0,
              "#0d0887"
             ],
             [
              0.1111111111111111,
              "#46039f"
             ],
             [
              0.2222222222222222,
              "#7201a8"
             ],
             [
              0.3333333333333333,
              "#9c179e"
             ],
             [
              0.4444444444444444,
              "#bd3786"
             ],
             [
              0.5555555555555556,
              "#d8576b"
             ],
             [
              0.6666666666666666,
              "#ed7953"
             ],
             [
              0.7777777777777778,
              "#fb9f3a"
             ],
             [
              0.8888888888888888,
              "#fdca26"
             ],
             [
              1,
              "#f0f921"
             ]
            ],
            "type": "histogram2dcontour"
           }
          ],
          "mesh3d": [
           {
            "colorbar": {
             "outlinewidth": 0,
             "ticks": ""
            },
            "type": "mesh3d"
           }
          ],
          "parcoords": [
           {
            "line": {
             "colorbar": {
              "outlinewidth": 0,
              "ticks": ""
             }
            },
            "type": "parcoords"
           }
          ],
          "pie": [
           {
            "automargin": true,
            "type": "pie"
           }
          ],
          "scatter": [
           {
            "marker": {
             "colorbar": {
              "outlinewidth": 0,
              "ticks": ""
             }
            },
            "type": "scatter"
           }
          ],
          "scatter3d": [
           {
            "line": {
             "colorbar": {
              "outlinewidth": 0,
              "ticks": ""
             }
            },
            "marker": {
             "colorbar": {
              "outlinewidth": 0,
              "ticks": ""
             }
            },
            "type": "scatter3d"
           }
          ],
          "scattercarpet": [
           {
            "marker": {
             "colorbar": {
              "outlinewidth": 0,
              "ticks": ""
             }
            },
            "type": "scattercarpet"
           }
          ],
          "scattergeo": [
           {
            "marker": {
             "colorbar": {
              "outlinewidth": 0,
              "ticks": ""
             }
            },
            "type": "scattergeo"
           }
          ],
          "scattergl": [
           {
            "marker": {
             "colorbar": {
              "outlinewidth": 0,
              "ticks": ""
             }
            },
            "type": "scattergl"
           }
          ],
          "scattermapbox": [
           {
            "marker": {
             "colorbar": {
              "outlinewidth": 0,
              "ticks": ""
             }
            },
            "type": "scattermapbox"
           }
          ],
          "scatterpolar": [
           {
            "marker": {
             "colorbar": {
              "outlinewidth": 0,
              "ticks": ""
             }
            },
            "type": "scatterpolar"
           }
          ],
          "scatterpolargl": [
           {
            "marker": {
             "colorbar": {
              "outlinewidth": 0,
              "ticks": ""
             }
            },
            "type": "scatterpolargl"
           }
          ],
          "scatterternary": [
           {
            "marker": {
             "colorbar": {
              "outlinewidth": 0,
              "ticks": ""
             }
            },
            "type": "scatterternary"
           }
          ],
          "surface": [
           {
            "colorbar": {
             "outlinewidth": 0,
             "ticks": ""
            },
            "colorscale": [
             [
              0,
              "#0d0887"
             ],
             [
              0.1111111111111111,
              "#46039f"
             ],
             [
              0.2222222222222222,
              "#7201a8"
             ],
             [
              0.3333333333333333,
              "#9c179e"
             ],
             [
              0.4444444444444444,
              "#bd3786"
             ],
             [
              0.5555555555555556,
              "#d8576b"
             ],
             [
              0.6666666666666666,
              "#ed7953"
             ],
             [
              0.7777777777777778,
              "#fb9f3a"
             ],
             [
              0.8888888888888888,
              "#fdca26"
             ],
             [
              1,
              "#f0f921"
             ]
            ],
            "type": "surface"
           }
          ],
          "table": [
           {
            "cells": {
             "fill": {
              "color": "#EBF0F8"
             },
             "line": {
              "color": "white"
             }
            },
            "header": {
             "fill": {
              "color": "#C8D4E3"
             },
             "line": {
              "color": "white"
             }
            },
            "type": "table"
           }
          ]
         },
         "layout": {
          "annotationdefaults": {
           "arrowcolor": "#2a3f5f",
           "arrowhead": 0,
           "arrowwidth": 1
          },
          "coloraxis": {
           "colorbar": {
            "outlinewidth": 0,
            "ticks": ""
           }
          },
          "colorscale": {
           "diverging": [
            [
             0,
             "#8e0152"
            ],
            [
             0.1,
             "#c51b7d"
            ],
            [
             0.2,
             "#de77ae"
            ],
            [
             0.3,
             "#f1b6da"
            ],
            [
             0.4,
             "#fde0ef"
            ],
            [
             0.5,
             "#f7f7f7"
            ],
            [
             0.6,
             "#e6f5d0"
            ],
            [
             0.7,
             "#b8e186"
            ],
            [
             0.8,
             "#7fbc41"
            ],
            [
             0.9,
             "#4d9221"
            ],
            [
             1,
             "#276419"
            ]
           ],
           "sequential": [
            [
             0,
             "#0d0887"
            ],
            [
             0.1111111111111111,
             "#46039f"
            ],
            [
             0.2222222222222222,
             "#7201a8"
            ],
            [
             0.3333333333333333,
             "#9c179e"
            ],
            [
             0.4444444444444444,
             "#bd3786"
            ],
            [
             0.5555555555555556,
             "#d8576b"
            ],
            [
             0.6666666666666666,
             "#ed7953"
            ],
            [
             0.7777777777777778,
             "#fb9f3a"
            ],
            [
             0.8888888888888888,
             "#fdca26"
            ],
            [
             1,
             "#f0f921"
            ]
           ],
           "sequentialminus": [
            [
             0,
             "#0d0887"
            ],
            [
             0.1111111111111111,
             "#46039f"
            ],
            [
             0.2222222222222222,
             "#7201a8"
            ],
            [
             0.3333333333333333,
             "#9c179e"
            ],
            [
             0.4444444444444444,
             "#bd3786"
            ],
            [
             0.5555555555555556,
             "#d8576b"
            ],
            [
             0.6666666666666666,
             "#ed7953"
            ],
            [
             0.7777777777777778,
             "#fb9f3a"
            ],
            [
             0.8888888888888888,
             "#fdca26"
            ],
            [
             1,
             "#f0f921"
            ]
           ]
          },
          "colorway": [
           "#636efa",
           "#EF553B",
           "#00cc96",
           "#ab63fa",
           "#FFA15A",
           "#19d3f3",
           "#FF6692",
           "#B6E880",
           "#FF97FF",
           "#FECB52"
          ],
          "font": {
           "color": "#2a3f5f"
          },
          "geo": {
           "bgcolor": "white",
           "lakecolor": "white",
           "landcolor": "#E5ECF6",
           "showlakes": true,
           "showland": true,
           "subunitcolor": "white"
          },
          "hoverlabel": {
           "align": "left"
          },
          "hovermode": "closest",
          "mapbox": {
           "style": "light"
          },
          "paper_bgcolor": "white",
          "plot_bgcolor": "#E5ECF6",
          "polar": {
           "angularaxis": {
            "gridcolor": "white",
            "linecolor": "white",
            "ticks": ""
           },
           "bgcolor": "#E5ECF6",
           "radialaxis": {
            "gridcolor": "white",
            "linecolor": "white",
            "ticks": ""
           }
          },
          "scene": {
           "xaxis": {
            "backgroundcolor": "#E5ECF6",
            "gridcolor": "white",
            "gridwidth": 2,
            "linecolor": "white",
            "showbackground": true,
            "ticks": "",
            "zerolinecolor": "white"
           },
           "yaxis": {
            "backgroundcolor": "#E5ECF6",
            "gridcolor": "white",
            "gridwidth": 2,
            "linecolor": "white",
            "showbackground": true,
            "ticks": "",
            "zerolinecolor": "white"
           },
           "zaxis": {
            "backgroundcolor": "#E5ECF6",
            "gridcolor": "white",
            "gridwidth": 2,
            "linecolor": "white",
            "showbackground": true,
            "ticks": "",
            "zerolinecolor": "white"
           }
          },
          "shapedefaults": {
           "line": {
            "color": "#2a3f5f"
           }
          },
          "ternary": {
           "aaxis": {
            "gridcolor": "white",
            "linecolor": "white",
            "ticks": ""
           },
           "baxis": {
            "gridcolor": "white",
            "linecolor": "white",
            "ticks": ""
           },
           "bgcolor": "#E5ECF6",
           "caxis": {
            "gridcolor": "white",
            "linecolor": "white",
            "ticks": ""
           }
          },
          "title": {
           "x": 0.05
          },
          "xaxis": {
           "automargin": true,
           "gridcolor": "white",
           "linecolor": "white",
           "ticks": "",
           "title": {
            "standoff": 15
           },
           "zerolinecolor": "white",
           "zerolinewidth": 2
          },
          "yaxis": {
           "automargin": true,
           "gridcolor": "white",
           "linecolor": "white",
           "ticks": "",
           "title": {
            "standoff": 15
           },
           "zerolinecolor": "white",
           "zerolinewidth": 2
          }
         }
        },
        "width": 1200,
        "xaxis": {
         "anchor": "y",
         "domain": [
          0,
          1
         ],
         "title": {
          "text": "Consequent"
         }
        },
        "yaxis": {
         "anchor": "x",
         "domain": [
          0,
          1
         ],
         "title": {
          "text": "Antecedent"
         }
        }
       }
      },
      "text/html": [
       "<div>\n",
       "        \n",
       "        \n",
       "            <div id=\"1e1b9e2a-40d3-4c09-a072-1fe18be9c310\" class=\"plotly-graph-div\" style=\"height:1600px; width:1200px;\"></div>\n",
       "            <script type=\"text/javascript\">\n",
       "                require([\"plotly\"], function(Plotly) {\n",
       "                    window.PLOTLYENV=window.PLOTLYENV || {};\n",
       "                    \n",
       "                if (document.getElementById(\"1e1b9e2a-40d3-4c09-a072-1fe18be9c310\")) {\n",
       "                    Plotly.newPlot(\n",
       "                        '1e1b9e2a-40d3-4c09-a072-1fe18be9c310',\n",
       "                        [{\"hoverlabel\": {\"namelength\": 0}, \"hovertemplate\": \"Consequent=%{x}<br>Antecedent=%{y}<br>Confidence=%{marker.color}\", \"legendgroup\": \"\", \"marker\": {\"color\": [86.20689655172413, 80.64516129032258, 86.20689655172413, 82.75862068965517, 72.72727272727273, 68.57142857142857, 90.32258064516128, 84.84848484848484, 82.35294117647058, 89.65517241379311, 74.28571428571429, 76.47058823529412, 92.3076923076923, 58.536585365853654, 50.0, 75.0, 67.5, 65.85365853658537, 80.55555555555556, 50.0, 64.44444444444444, 82.5, 56.896551724137936, 61.111111111111114, 80.48780487804879, 73.33333333333333, 61.111111111111114, 76.74418604651163, 71.73913043478261, 82.5, 76.74418604651163, 78.57142857142857, 82.5, 86.95652173913044, 95.23809523809523, 83.33333333333334, 97.5, 97.5, 81.25], \"coloraxis\": \"coloraxis\", \"symbol\": \"circle\"}, \"mode\": \"markers\", \"name\": \"\", \"showlegend\": false, \"type\": \"scatter\", \"x\": [\"ALARM CLOCK BAKELIKE RED \", \"ALARM CLOCK BAKELIKE PINK\", \"ALARM CLOCK BAKELIKE GREEN\", \"POSTAGE\", \"ALARM CLOCK BAKELIKE PINK\", \"ALARM CLOCK BAKELIKE GREEN\", \"POSTAGE\", \"ALARM CLOCK BAKELIKE RED \", \"ALARM CLOCK BAKELIKE GREEN\", \"POSTAGE\", \"ALARM CLOCK BAKELIKE RED \", \"ALARM CLOCK BAKELIKE PINK\", \"POSTAGE\", \"LUNCH BAG RED RETROSPOT\", \"LUNCH BAG APPLE DESIGN\", \"PLASTERS IN TIN WOODLAND ANIMALS\", \"PLASTERS IN TIN SPACEBOY\", \"PLASTERS IN TIN CIRCUS PARADE \", \"POSTAGE\", \"PLASTERS IN TIN SPACEBOY\", \"PLASTERS IN TIN CIRCUS PARADE \", \"POSTAGE\", \"PLASTERS IN TIN WOODLAND ANIMALS\", \"PLASTERS IN TIN CIRCUS PARADE \", \"POSTAGE\", \"PLASTERS IN TIN WOODLAND ANIMALS\", \"PLASTERS IN TIN SPACEBOY\", \"SET/6 RED SPOTTY PAPER CUPS\", \"SET/20 RED RETROSPOT PAPER NAPKINS \", \"POSTAGE\", \"SET/6 RED SPOTTY PAPER PLATES\", \"SET/20 RED RETROSPOT PAPER NAPKINS \", \"POSTAGE\", \"SET/6 RED SPOTTY PAPER PLATES\", \"SET/6 RED SPOTTY PAPER CUPS\", \"POSTAGE\", \"SET/6 RED SPOTTY PAPER PLATES\", \"SET/6 RED SPOTTY PAPER CUPS\", \"SET/20 RED RETROSPOT PAPER NAPKINS \"], \"xaxis\": \"x\", \"y\": [\"ALARM CLOCK BAKELIKE GREEN,ALARM CLOCK BAKELIKE PINK\", \"ALARM CLOCK BAKELIKE GREEN,ALARM CLOCK BAKELIKE RED \", \"ALARM CLOCK BAKELIKE PINK,ALARM CLOCK BAKELIKE RED \", \"ALARM CLOCK BAKELIKE GREEN,ALARM CLOCK BAKELIKE PINK\", \"ALARM CLOCK BAKELIKE GREEN,POSTAGE\", \"ALARM CLOCK BAKELIKE PINK,POSTAGE\", \"ALARM CLOCK BAKELIKE GREEN,ALARM CLOCK BAKELIKE RED \", \"ALARM CLOCK BAKELIKE GREEN,POSTAGE\", \"ALARM CLOCK BAKELIKE RED ,POSTAGE\", \"ALARM CLOCK BAKELIKE PINK,ALARM CLOCK BAKELIKE RED \", \"ALARM CLOCK BAKELIKE PINK,POSTAGE\", \"ALARM CLOCK BAKELIKE RED ,POSTAGE\", \"LUNCH BAG APPLE DESIGN,LUNCH BAG RED RETROSPOT\", \"LUNCH BAG APPLE DESIGN,POSTAGE\", \"LUNCH BAG RED RETROSPOT,POSTAGE\", \"PLASTERS IN TIN CIRCUS PARADE ,PLASTERS IN TIN SPACEBOY\", \"PLASTERS IN TIN CIRCUS PARADE ,PLASTERS IN TIN WOODLAND ANIMALS\", \"PLASTERS IN TIN SPACEBOY,PLASTERS IN TIN WOODLAND ANIMALS\", \"PLASTERS IN TIN CIRCUS PARADE ,PLASTERS IN TIN SPACEBOY\", \"PLASTERS IN TIN CIRCUS PARADE ,POSTAGE\", \"PLASTERS IN TIN SPACEBOY,POSTAGE\", \"PLASTERS IN TIN CIRCUS PARADE ,PLASTERS IN TIN WOODLAND ANIMALS\", \"PLASTERS IN TIN CIRCUS PARADE ,POSTAGE\", \"PLASTERS IN TIN WOODLAND ANIMALS,POSTAGE\", \"PLASTERS IN TIN SPACEBOY,PLASTERS IN TIN WOODLAND ANIMALS\", \"PLASTERS IN TIN SPACEBOY,POSTAGE\", \"PLASTERS IN TIN WOODLAND ANIMALS,POSTAGE\", \"POSTAGE,SET/20 RED RETROSPOT PAPER NAPKINS \", \"POSTAGE,SET/6 RED SPOTTY PAPER CUPS\", \"SET/20 RED RETROSPOT PAPER NAPKINS ,SET/6 RED SPOTTY PAPER CUPS\", \"POSTAGE,SET/20 RED RETROSPOT PAPER NAPKINS \", \"POSTAGE,SET/6 RED SPOTTY PAPER PLATES\", \"SET/20 RED RETROSPOT PAPER NAPKINS ,SET/6 RED SPOTTY PAPER PLATES\", \"POSTAGE,SET/6 RED SPOTTY PAPER CUPS\", \"POSTAGE,SET/6 RED SPOTTY PAPER PLATES\", \"SET/6 RED SPOTTY PAPER CUPS,SET/6 RED SPOTTY PAPER PLATES\", \"SET/20 RED RETROSPOT PAPER NAPKINS ,SET/6 RED SPOTTY PAPER CUPS\", \"SET/20 RED RETROSPOT PAPER NAPKINS ,SET/6 RED SPOTTY PAPER PLATES\", \"SET/6 RED SPOTTY PAPER CUPS,SET/6 RED SPOTTY PAPER PLATES\"], \"yaxis\": \"y\"}],\n",
       "                        {\"coloraxis\": {\"colorbar\": {\"title\": {\"text\": \"Confidence\"}}, \"colorscale\": [[0.0, \"#0d0887\"], [0.1111111111111111, \"#46039f\"], [0.2222222222222222, \"#7201a8\"], [0.3333333333333333, \"#9c179e\"], [0.4444444444444444, \"#bd3786\"], [0.5555555555555556, \"#d8576b\"], [0.6666666666666666, \"#ed7953\"], [0.7777777777777778, \"#fb9f3a\"], [0.8888888888888888, \"#fdca26\"], [1.0, \"#f0f921\"]]}, \"height\": 1600, \"legend\": {\"tracegroupgap\": 0}, \"margin\": {\"b\": 500, \"l\": 500, \"pad\": 4, \"r\": 150, \"t\": 100}, \"template\": {\"data\": {\"bar\": [{\"error_x\": {\"color\": \"#2a3f5f\"}, \"error_y\": {\"color\": \"#2a3f5f\"}, \"marker\": {\"line\": {\"color\": \"#E5ECF6\", \"width\": 0.5}}, \"type\": \"bar\"}], \"barpolar\": [{\"marker\": {\"line\": {\"color\": \"#E5ECF6\", \"width\": 0.5}}, \"type\": \"barpolar\"}], \"carpet\": [{\"aaxis\": {\"endlinecolor\": \"#2a3f5f\", \"gridcolor\": \"white\", \"linecolor\": \"white\", \"minorgridcolor\": \"white\", \"startlinecolor\": \"#2a3f5f\"}, \"baxis\": {\"endlinecolor\": \"#2a3f5f\", \"gridcolor\": \"white\", \"linecolor\": \"white\", \"minorgridcolor\": \"white\", \"startlinecolor\": \"#2a3f5f\"}, \"type\": \"carpet\"}], \"choropleth\": [{\"colorbar\": {\"outlinewidth\": 0, \"ticks\": \"\"}, \"type\": \"choropleth\"}], \"contour\": [{\"colorbar\": {\"outlinewidth\": 0, \"ticks\": \"\"}, \"colorscale\": [[0.0, \"#0d0887\"], [0.1111111111111111, \"#46039f\"], [0.2222222222222222, \"#7201a8\"], [0.3333333333333333, \"#9c179e\"], [0.4444444444444444, \"#bd3786\"], [0.5555555555555556, \"#d8576b\"], [0.6666666666666666, \"#ed7953\"], [0.7777777777777778, \"#fb9f3a\"], [0.8888888888888888, \"#fdca26\"], [1.0, \"#f0f921\"]], \"type\": \"contour\"}], \"contourcarpet\": [{\"colorbar\": {\"outlinewidth\": 0, \"ticks\": \"\"}, \"type\": \"contourcarpet\"}], \"heatmap\": [{\"colorbar\": {\"outlinewidth\": 0, \"ticks\": \"\"}, \"colorscale\": [[0.0, \"#0d0887\"], [0.1111111111111111, \"#46039f\"], [0.2222222222222222, \"#7201a8\"], [0.3333333333333333, \"#9c179e\"], [0.4444444444444444, \"#bd3786\"], [0.5555555555555556, \"#d8576b\"], [0.6666666666666666, \"#ed7953\"], [0.7777777777777778, \"#fb9f3a\"], [0.8888888888888888, \"#fdca26\"], [1.0, \"#f0f921\"]], \"type\": \"heatmap\"}], \"heatmapgl\": [{\"colorbar\": {\"outlinewidth\": 0, \"ticks\": \"\"}, \"colorscale\": [[0.0, \"#0d0887\"], [0.1111111111111111, \"#46039f\"], [0.2222222222222222, \"#7201a8\"], [0.3333333333333333, \"#9c179e\"], [0.4444444444444444, \"#bd3786\"], [0.5555555555555556, \"#d8576b\"], [0.6666666666666666, \"#ed7953\"], [0.7777777777777778, \"#fb9f3a\"], [0.8888888888888888, \"#fdca26\"], [1.0, \"#f0f921\"]], \"type\": \"heatmapgl\"}], \"histogram\": [{\"marker\": {\"colorbar\": {\"outlinewidth\": 0, \"ticks\": \"\"}}, \"type\": \"histogram\"}], \"histogram2d\": [{\"colorbar\": {\"outlinewidth\": 0, \"ticks\": \"\"}, \"colorscale\": [[0.0, \"#0d0887\"], [0.1111111111111111, \"#46039f\"], [0.2222222222222222, \"#7201a8\"], [0.3333333333333333, \"#9c179e\"], [0.4444444444444444, \"#bd3786\"], [0.5555555555555556, \"#d8576b\"], [0.6666666666666666, \"#ed7953\"], [0.7777777777777778, \"#fb9f3a\"], [0.8888888888888888, \"#fdca26\"], [1.0, \"#f0f921\"]], \"type\": \"histogram2d\"}], \"histogram2dcontour\": [{\"colorbar\": {\"outlinewidth\": 0, \"ticks\": \"\"}, \"colorscale\": [[0.0, \"#0d0887\"], [0.1111111111111111, \"#46039f\"], [0.2222222222222222, \"#7201a8\"], [0.3333333333333333, \"#9c179e\"], [0.4444444444444444, \"#bd3786\"], [0.5555555555555556, \"#d8576b\"], [0.6666666666666666, \"#ed7953\"], [0.7777777777777778, \"#fb9f3a\"], [0.8888888888888888, \"#fdca26\"], [1.0, \"#f0f921\"]], \"type\": \"histogram2dcontour\"}], \"mesh3d\": [{\"colorbar\": {\"outlinewidth\": 0, \"ticks\": \"\"}, \"type\": \"mesh3d\"}], \"parcoords\": [{\"line\": {\"colorbar\": {\"outlinewidth\": 0, \"ticks\": \"\"}}, \"type\": \"parcoords\"}], \"pie\": [{\"automargin\": true, \"type\": \"pie\"}], \"scatter\": [{\"marker\": {\"colorbar\": {\"outlinewidth\": 0, \"ticks\": \"\"}}, \"type\": \"scatter\"}], \"scatter3d\": [{\"line\": {\"colorbar\": {\"outlinewidth\": 0, \"ticks\": \"\"}}, \"marker\": {\"colorbar\": {\"outlinewidth\": 0, \"ticks\": \"\"}}, \"type\": \"scatter3d\"}], \"scattercarpet\": [{\"marker\": {\"colorbar\": {\"outlinewidth\": 0, \"ticks\": \"\"}}, \"type\": \"scattercarpet\"}], \"scattergeo\": [{\"marker\": {\"colorbar\": {\"outlinewidth\": 0, \"ticks\": \"\"}}, \"type\": \"scattergeo\"}], \"scattergl\": [{\"marker\": {\"colorbar\": {\"outlinewidth\": 0, \"ticks\": \"\"}}, \"type\": \"scattergl\"}], \"scattermapbox\": [{\"marker\": {\"colorbar\": {\"outlinewidth\": 0, \"ticks\": \"\"}}, \"type\": \"scattermapbox\"}], \"scatterpolar\": [{\"marker\": {\"colorbar\": {\"outlinewidth\": 0, \"ticks\": \"\"}}, \"type\": \"scatterpolar\"}], \"scatterpolargl\": [{\"marker\": {\"colorbar\": {\"outlinewidth\": 0, \"ticks\": \"\"}}, \"type\": \"scatterpolargl\"}], \"scatterternary\": [{\"marker\": {\"colorbar\": {\"outlinewidth\": 0, \"ticks\": \"\"}}, \"type\": \"scatterternary\"}], \"surface\": [{\"colorbar\": {\"outlinewidth\": 0, \"ticks\": \"\"}, \"colorscale\": [[0.0, \"#0d0887\"], [0.1111111111111111, \"#46039f\"], [0.2222222222222222, \"#7201a8\"], [0.3333333333333333, \"#9c179e\"], [0.4444444444444444, \"#bd3786\"], [0.5555555555555556, \"#d8576b\"], [0.6666666666666666, \"#ed7953\"], [0.7777777777777778, \"#fb9f3a\"], [0.8888888888888888, \"#fdca26\"], [1.0, \"#f0f921\"]], \"type\": \"surface\"}], \"table\": [{\"cells\": {\"fill\": {\"color\": \"#EBF0F8\"}, \"line\": {\"color\": \"white\"}}, \"header\": {\"fill\": {\"color\": \"#C8D4E3\"}, \"line\": {\"color\": \"white\"}}, \"type\": \"table\"}]}, \"layout\": {\"annotationdefaults\": {\"arrowcolor\": \"#2a3f5f\", \"arrowhead\": 0, \"arrowwidth\": 1}, \"coloraxis\": {\"colorbar\": {\"outlinewidth\": 0, \"ticks\": \"\"}}, \"colorscale\": {\"diverging\": [[0, \"#8e0152\"], [0.1, \"#c51b7d\"], [0.2, \"#de77ae\"], [0.3, \"#f1b6da\"], [0.4, \"#fde0ef\"], [0.5, \"#f7f7f7\"], [0.6, \"#e6f5d0\"], [0.7, \"#b8e186\"], [0.8, \"#7fbc41\"], [0.9, \"#4d9221\"], [1, \"#276419\"]], \"sequential\": [[0.0, \"#0d0887\"], [0.1111111111111111, \"#46039f\"], [0.2222222222222222, \"#7201a8\"], [0.3333333333333333, \"#9c179e\"], [0.4444444444444444, \"#bd3786\"], [0.5555555555555556, \"#d8576b\"], [0.6666666666666666, \"#ed7953\"], [0.7777777777777778, \"#fb9f3a\"], [0.8888888888888888, \"#fdca26\"], [1.0, \"#f0f921\"]], \"sequentialminus\": [[0.0, \"#0d0887\"], [0.1111111111111111, \"#46039f\"], [0.2222222222222222, \"#7201a8\"], [0.3333333333333333, \"#9c179e\"], [0.4444444444444444, \"#bd3786\"], [0.5555555555555556, \"#d8576b\"], [0.6666666666666666, \"#ed7953\"], [0.7777777777777778, \"#fb9f3a\"], [0.8888888888888888, \"#fdca26\"], [1.0, \"#f0f921\"]]}, \"colorway\": [\"#636efa\", \"#EF553B\", \"#00cc96\", \"#ab63fa\", \"#FFA15A\", \"#19d3f3\", \"#FF6692\", \"#B6E880\", \"#FF97FF\", \"#FECB52\"], \"font\": {\"color\": \"#2a3f5f\"}, \"geo\": {\"bgcolor\": \"white\", \"lakecolor\": \"white\", \"landcolor\": \"#E5ECF6\", \"showlakes\": true, \"showland\": true, \"subunitcolor\": \"white\"}, \"hoverlabel\": {\"align\": \"left\"}, \"hovermode\": \"closest\", \"mapbox\": {\"style\": \"light\"}, \"paper_bgcolor\": \"white\", \"plot_bgcolor\": \"#E5ECF6\", \"polar\": {\"angularaxis\": {\"gridcolor\": \"white\", \"linecolor\": \"white\", \"ticks\": \"\"}, \"bgcolor\": \"#E5ECF6\", \"radialaxis\": {\"gridcolor\": \"white\", \"linecolor\": \"white\", \"ticks\": \"\"}}, \"scene\": {\"xaxis\": {\"backgroundcolor\": \"#E5ECF6\", \"gridcolor\": \"white\", \"gridwidth\": 2, \"linecolor\": \"white\", \"showbackground\": true, \"ticks\": \"\", \"zerolinecolor\": \"white\"}, \"yaxis\": {\"backgroundcolor\": \"#E5ECF6\", \"gridcolor\": \"white\", \"gridwidth\": 2, \"linecolor\": \"white\", \"showbackground\": true, \"ticks\": \"\", \"zerolinecolor\": \"white\"}, \"zaxis\": {\"backgroundcolor\": \"#E5ECF6\", \"gridcolor\": \"white\", \"gridwidth\": 2, \"linecolor\": \"white\", \"showbackground\": true, \"ticks\": \"\", \"zerolinecolor\": \"white\"}}, \"shapedefaults\": {\"line\": {\"color\": \"#2a3f5f\"}}, \"ternary\": {\"aaxis\": {\"gridcolor\": \"white\", \"linecolor\": \"white\", \"ticks\": \"\"}, \"baxis\": {\"gridcolor\": \"white\", \"linecolor\": \"white\", \"ticks\": \"\"}, \"bgcolor\": \"#E5ECF6\", \"caxis\": {\"gridcolor\": \"white\", \"linecolor\": \"white\", \"ticks\": \"\"}}, \"title\": {\"x\": 0.05}, \"xaxis\": {\"automargin\": true, \"gridcolor\": \"white\", \"linecolor\": \"white\", \"ticks\": \"\", \"title\": {\"standoff\": 15}, \"zerolinecolor\": \"white\", \"zerolinewidth\": 2}, \"yaxis\": {\"automargin\": true, \"gridcolor\": \"white\", \"linecolor\": \"white\", \"ticks\": \"\", \"title\": {\"standoff\": 15}, \"zerolinecolor\": \"white\", \"zerolinewidth\": 2}}}, \"width\": 1200, \"xaxis\": {\"anchor\": \"y\", \"domain\": [0.0, 1.0], \"title\": {\"text\": \"Consequent\"}}, \"yaxis\": {\"anchor\": \"x\", \"domain\": [0.0, 1.0], \"title\": {\"text\": \"Antecedent\"}}},\n",
       "                        {\"responsive\": true}\n",
       "                    ).then(function(){\n",
       "                            \n",
       "var gd = document.getElementById('1e1b9e2a-40d3-4c09-a072-1fe18be9c310');\n",
       "var x = new MutationObserver(function (mutations, observer) {{\n",
       "        var display = window.getComputedStyle(gd).display;\n",
       "        if (!display || display === 'none') {{\n",
       "            console.log([gd, 'removed!']);\n",
       "            Plotly.purge(gd);\n",
       "            observer.disconnect();\n",
       "        }}\n",
       "}});\n",
       "\n",
       "// Listen for the removal of the full notebook cells\n",
       "var notebookContainer = gd.closest('#notebook-container');\n",
       "if (notebookContainer) {{\n",
       "    x.observe(notebookContainer, {childList: true});\n",
       "}}\n",
       "\n",
       "// Listen for the clearing of the current output cell\n",
       "var outputEl = gd.closest('.output');\n",
       "if (outputEl) {{\n",
       "    x.observe(outputEl, {childList: true});\n",
       "}}\n",
       "\n",
       "                        })\n",
       "                };\n",
       "                });\n",
       "            </script>\n",
       "        </div>"
      ]
     },
     "metadata": {},
     "output_type": "display_data"
    }
   ],
   "source": [
    "import plotly.express as px\n",
    "plot1[\"Antecedent\"] = plot1[\"Antecedent\"].apply( lambda x : ','.join(list(x))).astype(\"unicode\")\n",
    "plot1[\"Consequent\"] = plot1[\"Consequent\"].apply(lambda x : ','.join(list(x))).astype(\"unicode\")\n",
    "\n",
    "fig = px.scatter( plot1 , x = \"Consequent\" , y = \"Antecedent\" , color = \"Confidence\",width=1200, height=1600)\n",
    "fig.update_layout(margin=dict(\n",
    "        l=500,\n",
    "        r=150,\n",
    "        b=500,\n",
    "        t=100,\n",
    "        pad=4\n",
    "    ),)\n",
    "fig.show()"
   ]
  },
  {
   "cell_type": "code",
   "execution_count": 20,
   "metadata": {},
   "outputs": [
    {
     "data": {
      "text/html": [
       "<div>\n",
       "<style scoped>\n",
       "    .dataframe tbody tr th:only-of-type {\n",
       "        vertical-align: middle;\n",
       "    }\n",
       "\n",
       "    .dataframe tbody tr th {\n",
       "        vertical-align: top;\n",
       "    }\n",
       "\n",
       "    .dataframe thead th {\n",
       "        text-align: right;\n",
       "    }\n",
       "</style>\n",
       "<table border=\"1\" class=\"dataframe\">\n",
       "  <thead>\n",
       "    <tr style=\"text-align: right;\">\n",
       "      <th></th>\n",
       "    </tr>\n",
       "  </thead>\n",
       "  <tbody>\n",
       "  </tbody>\n",
       "</table>\n",
       "</div>"
      ],
      "text/plain": [
       "Empty DataFrame\n",
       "Columns: []\n",
       "Index: []"
      ]
     },
     "execution_count": 20,
     "metadata": {},
     "output_type": "execute_result"
    }
   ],
   "source": [
    "plot1.head()"
   ]
  },
  {
   "cell_type": "code",
   "execution_count": null,
   "metadata": {},
   "outputs": [],
   "source": []
  }
 ],
 "metadata": {
  "kernelspec": {
   "display_name": "Python 3",
   "language": "python",
   "name": "python3"
  },
  "language_info": {
   "codemirror_mode": {
    "name": "ipython",
    "version": 3
   },
   "file_extension": ".py",
   "mimetype": "text/x-python",
   "name": "python",
   "nbconvert_exporter": "python",
   "pygments_lexer": "ipython3",
   "version": "3.7.4"
  }
 },
 "nbformat": 4,
 "nbformat_minor": 2
}
