{
 "nbformat": 4,
 "nbformat_minor": 2,
 "metadata": {
  "language_info": {
   "name": "python",
   "codemirror_mode": {
    "name": "ipython",
    "version": 3
   },
   "version": "3.7.4-final"
  },
  "orig_nbformat": 2,
  "file_extension": ".py",
  "mimetype": "text/x-python",
  "name": "python",
  "npconvert_exporter": "python",
  "pygments_lexer": "ipython3",
  "version": 3,
  "kernelspec": {
   "name": "python3",
   "display_name": "Python 3"
  }
 },
 "cells": [
  {
   "cell_type": "code",
   "execution_count": 1,
   "metadata": {},
   "outputs": [],
   "source": [
    "import os\n",
    "import pandas as pd\n",
    "import numpy as np\n",
    "import random\n",
    "from sklearn import preprocessing"
   ]
  },
  {
   "cell_type": "code",
   "execution_count": 2,
   "metadata": {},
   "outputs": [
    {
     "data": {
      "text/html": "<div>\n<style scoped>\n    .dataframe tbody tr th:only-of-type {\n        vertical-align: middle;\n    }\n\n    .dataframe tbody tr th {\n        vertical-align: top;\n    }\n\n    .dataframe thead th {\n        text-align: right;\n    }\n</style>\n<table border=\"1\" class=\"dataframe\">\n  <thead>\n    <tr style=\"text-align: right;\">\n      <th></th>\n      <th>id</th>\n      <th>week</th>\n      <th>center_id</th>\n      <th>meal_id</th>\n      <th>checkout_price</th>\n      <th>base_price</th>\n      <th>emailer_for_promotion</th>\n      <th>homepage_featured</th>\n    </tr>\n  </thead>\n  <tbody>\n    <tr>\n      <td>0</td>\n      <td>1028232</td>\n      <td>146</td>\n      <td>55</td>\n      <td>1885</td>\n      <td>158.11</td>\n      <td>159.11</td>\n      <td>0</td>\n      <td>0</td>\n    </tr>\n    <tr>\n      <td>1</td>\n      <td>1127204</td>\n      <td>146</td>\n      <td>55</td>\n      <td>1993</td>\n      <td>160.11</td>\n      <td>159.11</td>\n      <td>0</td>\n      <td>0</td>\n    </tr>\n    <tr>\n      <td>2</td>\n      <td>1212707</td>\n      <td>146</td>\n      <td>55</td>\n      <td>2539</td>\n      <td>157.14</td>\n      <td>159.14</td>\n      <td>0</td>\n      <td>0</td>\n    </tr>\n    <tr>\n      <td>3</td>\n      <td>1082698</td>\n      <td>146</td>\n      <td>55</td>\n      <td>2631</td>\n      <td>162.02</td>\n      <td>162.02</td>\n      <td>0</td>\n      <td>0</td>\n    </tr>\n    <tr>\n      <td>4</td>\n      <td>1400926</td>\n      <td>146</td>\n      <td>55</td>\n      <td>1248</td>\n      <td>163.93</td>\n      <td>163.93</td>\n      <td>0</td>\n      <td>0</td>\n    </tr>\n    <tr>\n      <td>...</td>\n      <td>...</td>\n      <td>...</td>\n      <td>...</td>\n      <td>...</td>\n      <td>...</td>\n      <td>...</td>\n      <td>...</td>\n      <td>...</td>\n    </tr>\n    <tr>\n      <td>32568</td>\n      <td>1250239</td>\n      <td>155</td>\n      <td>61</td>\n      <td>1543</td>\n      <td>482.09</td>\n      <td>484.09</td>\n      <td>0</td>\n      <td>0</td>\n    </tr>\n    <tr>\n      <td>32569</td>\n      <td>1039516</td>\n      <td>155</td>\n      <td>61</td>\n      <td>2304</td>\n      <td>483.09</td>\n      <td>483.09</td>\n      <td>0</td>\n      <td>0</td>\n    </tr>\n    <tr>\n      <td>32570</td>\n      <td>1158107</td>\n      <td>155</td>\n      <td>61</td>\n      <td>2664</td>\n      <td>322.07</td>\n      <td>323.07</td>\n      <td>0</td>\n      <td>0</td>\n    </tr>\n    <tr>\n      <td>32571</td>\n      <td>1444235</td>\n      <td>155</td>\n      <td>61</td>\n      <td>2569</td>\n      <td>322.07</td>\n      <td>323.07</td>\n      <td>0</td>\n      <td>0</td>\n    </tr>\n    <tr>\n      <td>32572</td>\n      <td>1291286</td>\n      <td>155</td>\n      <td>61</td>\n      <td>2490</td>\n      <td>276.45</td>\n      <td>276.45</td>\n      <td>0</td>\n      <td>0</td>\n    </tr>\n  </tbody>\n</table>\n<p>32573 rows × 8 columns</p>\n</div>",
      "text/plain": "            id  week  center_id  meal_id  checkout_price  base_price  \\\n0      1028232   146         55     1885          158.11      159.11   \n1      1127204   146         55     1993          160.11      159.11   \n2      1212707   146         55     2539          157.14      159.14   \n3      1082698   146         55     2631          162.02      162.02   \n4      1400926   146         55     1248          163.93      163.93   \n...        ...   ...        ...      ...             ...         ...   \n32568  1250239   155         61     1543          482.09      484.09   \n32569  1039516   155         61     2304          483.09      483.09   \n32570  1158107   155         61     2664          322.07      323.07   \n32571  1444235   155         61     2569          322.07      323.07   \n32572  1291286   155         61     2490          276.45      276.45   \n\n       emailer_for_promotion  homepage_featured  \n0                          0                  0  \n1                          0                  0  \n2                          0                  0  \n3                          0                  0  \n4                          0                  0  \n...                      ...                ...  \n32568                      0                  0  \n32569                      0                  0  \n32570                      0                  0  \n32571                      0                  0  \n32572                      0                  0  \n\n[32573 rows x 8 columns]"
     },
     "execution_count": 2,
     "metadata": {},
     "output_type": "execute_result"
    }
   ],
   "source": [
    "# train_dataset = pd.DataFrame(pd.read_csv(\"Datasets/train/train.csv\",skiprows=lambda i: i > 0 and random.random() > 0.001))\n",
    "train_dataset = pd.DataFrame(pd.read_csv(\"Datasets/train/train.csv\"))\n",
    "test_dataset = pd.DataFrame(pd.read_csv(\"Datasets/test/test.csv\"))\n",
    "meal_dataset = pd.DataFrame(pd.read_csv(\"Datasets/train/meal_info.csv\"))\n",
    "center_dataset = pd.DataFrame(pd.read_csv(\"Datasets/train/fulfilment_center_info.csv\"))\n",
    "# train_dataset[\"category\"]=np.nan\n",
    "# train_dataset[\"cuisine\"]=np.nan\n",
    "test_dataset"
   ]
  },
  {
   "cell_type": "code",
   "execution_count": null,
   "metadata": {},
   "outputs": [],
   "source": [
    "\n",
    "# train_dataset[\"meal_id\"] = preprocessing.LabelEncoder().fit_transform(train_dataset[\"meal_id\"])\n",
    "# train_dataset\n",
    "# meal_category_dict=dict()\n",
    "# for i in meal_dataset.index:\n",
    "#     meal_category_dict[meal_dataset[\"meal_id\"][i]]= meal_dataset[\"category\"][i]\n",
    "\n",
    "# meal_cuisine_dict=dict()\n",
    "# for i in meal_dataset.index:\n",
    "#     meal_cuisine_dict[meal_dataset[\"meal_id\"][i]]= meal_dataset[\"cuisine\"][i]\n",
    "# # print(meal_cuisine_dict)\n",
    "# # print(meal_category_dict.items())\n",
    "# for i in train_dataset.index:\n",
    "#     # print(i)\n",
    "#     if(train_dataset[\"meal_id\"][i] in meal_category_dict):\n",
    "#         train_dataset[\"category\"][i] =  meal_category_dict.get(train_dataset[\"meal_id\"][i])\n",
    "# for i in train_dataset.index:\n",
    "#     # print(i)\n",
    "#     if(train_dataset[\"meal_id\"][i] in meal_cuisine_dict):\n",
    "#         train_dataset[\"cuisine\"][i] =  meal_cuisine_dict.get(train_dataset[\"meal_id\"][i])\n",
    "# train_dataset\n"
   ]
  },
  {
   "cell_type": "code",
   "execution_count": 3,
   "metadata": {},
   "outputs": [
    {
     "data": {
      "text/html": "<div>\n<style scoped>\n    .dataframe tbody tr th:only-of-type {\n        vertical-align: middle;\n    }\n\n    .dataframe tbody tr th {\n        vertical-align: top;\n    }\n\n    .dataframe thead th {\n        text-align: right;\n    }\n</style>\n<table border=\"1\" class=\"dataframe\">\n  <thead>\n    <tr style=\"text-align: right;\">\n      <th></th>\n      <th>meal_id</th>\n      <th>category</th>\n      <th>cuisine</th>\n    </tr>\n  </thead>\n  <tbody>\n    <tr>\n      <td>0</td>\n      <td>22</td>\n      <td>Beverages</td>\n      <td>Thai</td>\n    </tr>\n    <tr>\n      <td>1</td>\n      <td>26</td>\n      <td>Beverages</td>\n      <td>Thai</td>\n    </tr>\n    <tr>\n      <td>2</td>\n      <td>38</td>\n      <td>Beverages</td>\n      <td>Thai</td>\n    </tr>\n    <tr>\n      <td>3</td>\n      <td>7</td>\n      <td>Beverages</td>\n      <td>Indian</td>\n    </tr>\n    <tr>\n      <td>4</td>\n      <td>42</td>\n      <td>Beverages</td>\n      <td>Indian</td>\n    </tr>\n    <tr>\n      <td>5</td>\n      <td>8</td>\n      <td>Extras</td>\n      <td>Thai</td>\n    </tr>\n    <tr>\n      <td>6</td>\n      <td>0</td>\n      <td>Beverages</td>\n      <td>Italian</td>\n    </tr>\n    <tr>\n      <td>7</td>\n      <td>18</td>\n      <td>Beverages</td>\n      <td>Italian</td>\n    </tr>\n    <tr>\n      <td>8</td>\n      <td>19</td>\n      <td>Extras</td>\n      <td>Thai</td>\n    </tr>\n    <tr>\n      <td>9</td>\n      <td>2</td>\n      <td>Extras</td>\n      <td>Thai</td>\n    </tr>\n    <tr>\n      <td>10</td>\n      <td>46</td>\n      <td>Beverages</td>\n      <td>Italian</td>\n    </tr>\n    <tr>\n      <td>11</td>\n      <td>20</td>\n      <td>Soup</td>\n      <td>Thai</td>\n    </tr>\n    <tr>\n      <td>12</td>\n      <td>9</td>\n      <td>Soup</td>\n      <td>Thai</td>\n    </tr>\n    <tr>\n      <td>13</td>\n      <td>37</td>\n      <td>Soup</td>\n      <td>Thai</td>\n    </tr>\n    <tr>\n      <td>14</td>\n      <td>47</td>\n      <td>Other Snacks</td>\n      <td>Thai</td>\n    </tr>\n    <tr>\n      <td>15</td>\n      <td>35</td>\n      <td>Salad</td>\n      <td>Italian</td>\n    </tr>\n    <tr>\n      <td>16</td>\n      <td>1</td>\n      <td>Rice Bowl</td>\n      <td>Indian</td>\n    </tr>\n    <tr>\n      <td>17</td>\n      <td>30</td>\n      <td>Rice Bowl</td>\n      <td>Indian</td>\n    </tr>\n    <tr>\n      <td>18</td>\n      <td>11</td>\n      <td>Other Snacks</td>\n      <td>Thai</td>\n    </tr>\n    <tr>\n      <td>19</td>\n      <td>45</td>\n      <td>Other Snacks</td>\n      <td>Thai</td>\n    </tr>\n    <tr>\n      <td>20</td>\n      <td>21</td>\n      <td>Starters</td>\n      <td>Thai</td>\n    </tr>\n    <tr>\n      <td>21</td>\n      <td>43</td>\n      <td>Starters</td>\n      <td>Thai</td>\n    </tr>\n    <tr>\n      <td>22</td>\n      <td>40</td>\n      <td>Starters</td>\n      <td>Thai</td>\n    </tr>\n    <tr>\n      <td>23</td>\n      <td>16</td>\n      <td>Sandwich</td>\n      <td>Italian</td>\n    </tr>\n    <tr>\n      <td>24</td>\n      <td>25</td>\n      <td>Sandwich</td>\n      <td>Italian</td>\n    </tr>\n    <tr>\n      <td>25</td>\n      <td>32</td>\n      <td>Pasta</td>\n      <td>Italian</td>\n    </tr>\n    <tr>\n      <td>26</td>\n      <td>29</td>\n      <td>Beverages</td>\n      <td>Indian</td>\n    </tr>\n    <tr>\n      <td>27</td>\n      <td>48</td>\n      <td>Sandwich</td>\n      <td>Italian</td>\n    </tr>\n    <tr>\n      <td>28</td>\n      <td>44</td>\n      <td>Salad</td>\n      <td>Italian</td>\n    </tr>\n    <tr>\n      <td>29</td>\n      <td>39</td>\n      <td>Salad</td>\n      <td>Italian</td>\n    </tr>\n    <tr>\n      <td>30</td>\n      <td>5</td>\n      <td>Beverages</td>\n      <td>Continental</td>\n    </tr>\n    <tr>\n      <td>31</td>\n      <td>3</td>\n      <td>Beverages</td>\n      <td>Continental</td>\n    </tr>\n    <tr>\n      <td>32</td>\n      <td>33</td>\n      <td>Beverages</td>\n      <td>Continental</td>\n    </tr>\n    <tr>\n      <td>33</td>\n      <td>36</td>\n      <td>Desert</td>\n      <td>Indian</td>\n    </tr>\n    <tr>\n      <td>34</td>\n      <td>4</td>\n      <td>Pasta</td>\n      <td>Italian</td>\n    </tr>\n    <tr>\n      <td>35</td>\n      <td>15</td>\n      <td>Rice Bowl</td>\n      <td>Indian</td>\n    </tr>\n    <tr>\n      <td>36</td>\n      <td>23</td>\n      <td>Biryani</td>\n      <td>Indian</td>\n    </tr>\n    <tr>\n      <td>37</td>\n      <td>6</td>\n      <td>Biryani</td>\n      <td>Indian</td>\n    </tr>\n    <tr>\n      <td>38</td>\n      <td>31</td>\n      <td>Desert</td>\n      <td>Indian</td>\n    </tr>\n    <tr>\n      <td>39</td>\n      <td>12</td>\n      <td>Desert</td>\n      <td>Indian</td>\n    </tr>\n    <tr>\n      <td>40</td>\n      <td>17</td>\n      <td>Biryani</td>\n      <td>Indian</td>\n    </tr>\n    <tr>\n      <td>41</td>\n      <td>28</td>\n      <td>Pasta</td>\n      <td>Italian</td>\n    </tr>\n    <tr>\n      <td>42</td>\n      <td>13</td>\n      <td>Pizza</td>\n      <td>Continental</td>\n    </tr>\n    <tr>\n      <td>43</td>\n      <td>41</td>\n      <td>Pizza</td>\n      <td>Continental</td>\n    </tr>\n    <tr>\n      <td>44</td>\n      <td>24</td>\n      <td>Pizza</td>\n      <td>Continental</td>\n    </tr>\n    <tr>\n      <td>45</td>\n      <td>14</td>\n      <td>Fish</td>\n      <td>Continental</td>\n    </tr>\n    <tr>\n      <td>46</td>\n      <td>50</td>\n      <td>Fish</td>\n      <td>Continental</td>\n    </tr>\n    <tr>\n      <td>47</td>\n      <td>27</td>\n      <td>Fish</td>\n      <td>Continental</td>\n    </tr>\n    <tr>\n      <td>48</td>\n      <td>34</td>\n      <td>Seafood</td>\n      <td>Continental</td>\n    </tr>\n    <tr>\n      <td>49</td>\n      <td>49</td>\n      <td>Seafood</td>\n      <td>Continental</td>\n    </tr>\n    <tr>\n      <td>50</td>\n      <td>10</td>\n      <td>Seafood</td>\n      <td>Continental</td>\n    </tr>\n  </tbody>\n</table>\n</div>",
      "text/plain": "    meal_id      category      cuisine\n0        22     Beverages         Thai\n1        26     Beverages         Thai\n2        38     Beverages         Thai\n3         7     Beverages       Indian\n4        42     Beverages       Indian\n5         8        Extras         Thai\n6         0     Beverages      Italian\n7        18     Beverages      Italian\n8        19        Extras         Thai\n9         2        Extras         Thai\n10       46     Beverages      Italian\n11       20          Soup         Thai\n12        9          Soup         Thai\n13       37          Soup         Thai\n14       47  Other Snacks         Thai\n15       35         Salad      Italian\n16        1     Rice Bowl       Indian\n17       30     Rice Bowl       Indian\n18       11  Other Snacks         Thai\n19       45  Other Snacks         Thai\n20       21      Starters         Thai\n21       43      Starters         Thai\n22       40      Starters         Thai\n23       16      Sandwich      Italian\n24       25      Sandwich      Italian\n25       32         Pasta      Italian\n26       29     Beverages       Indian\n27       48      Sandwich      Italian\n28       44         Salad      Italian\n29       39         Salad      Italian\n30        5     Beverages  Continental\n31        3     Beverages  Continental\n32       33     Beverages  Continental\n33       36        Desert       Indian\n34        4         Pasta      Italian\n35       15     Rice Bowl       Indian\n36       23       Biryani       Indian\n37        6       Biryani       Indian\n38       31        Desert       Indian\n39       12        Desert       Indian\n40       17       Biryani       Indian\n41       28         Pasta      Italian\n42       13         Pizza  Continental\n43       41         Pizza  Continental\n44       24         Pizza  Continental\n45       14          Fish  Continental\n46       50          Fish  Continental\n47       27          Fish  Continental\n48       34       Seafood  Continental\n49       49       Seafood  Continental\n50       10       Seafood  Continental"
     },
     "execution_count": 3,
     "metadata": {},
     "output_type": "execute_result"
    }
   ],
   "source": [
    "meal_dataset[\"meal_id\"] = preprocessing.LabelEncoder().fit_transform(meal_dataset[\"meal_id\"])\n",
    "meal_dataset"
   ]
  },
  {
   "cell_type": "code",
   "execution_count": 4,
   "metadata": {},
   "outputs": [
    {
     "data": {
      "text/html": "<div>\n<style scoped>\n    .dataframe tbody tr th:only-of-type {\n        vertical-align: middle;\n    }\n\n    .dataframe tbody tr th {\n        vertical-align: top;\n    }\n\n    .dataframe thead th {\n        text-align: right;\n    }\n</style>\n<table border=\"1\" class=\"dataframe\">\n  <thead>\n    <tr style=\"text-align: right;\">\n      <th></th>\n      <th>id</th>\n      <th>week</th>\n      <th>center_id</th>\n      <th>meal_id</th>\n      <th>checkout_price</th>\n      <th>base_price</th>\n      <th>emailer_for_promotion</th>\n      <th>homepage_featured</th>\n    </tr>\n  </thead>\n  <tbody>\n    <tr>\n      <td>0</td>\n      <td>1028232</td>\n      <td>146</td>\n      <td>55</td>\n      <td>22</td>\n      <td>158.11</td>\n      <td>159.11</td>\n      <td>0</td>\n      <td>0</td>\n    </tr>\n    <tr>\n      <td>1</td>\n      <td>1127204</td>\n      <td>146</td>\n      <td>55</td>\n      <td>26</td>\n      <td>160.11</td>\n      <td>159.11</td>\n      <td>0</td>\n      <td>0</td>\n    </tr>\n    <tr>\n      <td>2</td>\n      <td>1212707</td>\n      <td>146</td>\n      <td>55</td>\n      <td>38</td>\n      <td>157.14</td>\n      <td>159.14</td>\n      <td>0</td>\n      <td>0</td>\n    </tr>\n    <tr>\n      <td>3</td>\n      <td>1082698</td>\n      <td>146</td>\n      <td>55</td>\n      <td>42</td>\n      <td>162.02</td>\n      <td>162.02</td>\n      <td>0</td>\n      <td>0</td>\n    </tr>\n    <tr>\n      <td>4</td>\n      <td>1400926</td>\n      <td>146</td>\n      <td>55</td>\n      <td>7</td>\n      <td>163.93</td>\n      <td>163.93</td>\n      <td>0</td>\n      <td>0</td>\n    </tr>\n    <tr>\n      <td>...</td>\n      <td>...</td>\n      <td>...</td>\n      <td>...</td>\n      <td>...</td>\n      <td>...</td>\n      <td>...</td>\n      <td>...</td>\n      <td>...</td>\n    </tr>\n    <tr>\n      <td>32568</td>\n      <td>1250239</td>\n      <td>155</td>\n      <td>61</td>\n      <td>12</td>\n      <td>482.09</td>\n      <td>484.09</td>\n      <td>0</td>\n      <td>0</td>\n    </tr>\n    <tr>\n      <td>32569</td>\n      <td>1039516</td>\n      <td>155</td>\n      <td>61</td>\n      <td>31</td>\n      <td>483.09</td>\n      <td>483.09</td>\n      <td>0</td>\n      <td>0</td>\n    </tr>\n    <tr>\n      <td>32570</td>\n      <td>1158107</td>\n      <td>155</td>\n      <td>61</td>\n      <td>44</td>\n      <td>322.07</td>\n      <td>323.07</td>\n      <td>0</td>\n      <td>0</td>\n    </tr>\n    <tr>\n      <td>32571</td>\n      <td>1444235</td>\n      <td>155</td>\n      <td>61</td>\n      <td>39</td>\n      <td>322.07</td>\n      <td>323.07</td>\n      <td>0</td>\n      <td>0</td>\n    </tr>\n    <tr>\n      <td>32572</td>\n      <td>1291286</td>\n      <td>155</td>\n      <td>61</td>\n      <td>35</td>\n      <td>276.45</td>\n      <td>276.45</td>\n      <td>0</td>\n      <td>0</td>\n    </tr>\n  </tbody>\n</table>\n<p>32573 rows × 8 columns</p>\n</div>",
      "text/plain": "            id  week  center_id  meal_id  checkout_price  base_price  \\\n0      1028232   146         55       22          158.11      159.11   \n1      1127204   146         55       26          160.11      159.11   \n2      1212707   146         55       38          157.14      159.14   \n3      1082698   146         55       42          162.02      162.02   \n4      1400926   146         55        7          163.93      163.93   \n...        ...   ...        ...      ...             ...         ...   \n32568  1250239   155         61       12          482.09      484.09   \n32569  1039516   155         61       31          483.09      483.09   \n32570  1158107   155         61       44          322.07      323.07   \n32571  1444235   155         61       39          322.07      323.07   \n32572  1291286   155         61       35          276.45      276.45   \n\n       emailer_for_promotion  homepage_featured  \n0                          0                  0  \n1                          0                  0  \n2                          0                  0  \n3                          0                  0  \n4                          0                  0  \n...                      ...                ...  \n32568                      0                  0  \n32569                      0                  0  \n32570                      0                  0  \n32571                      0                  0  \n32572                      0                  0  \n\n[32573 rows x 8 columns]"
     },
     "execution_count": 4,
     "metadata": {},
     "output_type": "execute_result"
    }
   ],
   "source": [
    "train_dataset[\"meal_id\"] = preprocessing.LabelEncoder().fit_transform(train_dataset[\"meal_id\"])\n",
    "test_dataset[\"meal_id\"] = preprocessing.LabelEncoder().fit_transform(test_dataset[\"meal_id\"])\n",
    "test_dataset"
   ]
  },
  {
   "cell_type": "code",
   "execution_count": 5,
   "metadata": {},
   "outputs": [
    {
     "data": {
      "text/html": "<div>\n<style scoped>\n    .dataframe tbody tr th:only-of-type {\n        vertical-align: middle;\n    }\n\n    .dataframe tbody tr th {\n        vertical-align: top;\n    }\n\n    .dataframe thead th {\n        text-align: right;\n    }\n</style>\n<table border=\"1\" class=\"dataframe\">\n  <thead>\n    <tr style=\"text-align: right;\">\n      <th></th>\n      <th>id</th>\n      <th>week</th>\n      <th>center_id</th>\n      <th>meal_id</th>\n      <th>checkout_price</th>\n      <th>base_price</th>\n      <th>emailer_for_promotion</th>\n      <th>homepage_featured</th>\n      <th>category</th>\n      <th>cuisine</th>\n    </tr>\n  </thead>\n  <tbody>\n    <tr>\n      <td>0</td>\n      <td>1028232</td>\n      <td>146</td>\n      <td>55</td>\n      <td>22</td>\n      <td>158.11</td>\n      <td>159.11</td>\n      <td>0</td>\n      <td>0</td>\n      <td>Beverages</td>\n      <td>Thai</td>\n    </tr>\n    <tr>\n      <td>1</td>\n      <td>1460444</td>\n      <td>146</td>\n      <td>24</td>\n      <td>22</td>\n      <td>158.11</td>\n      <td>160.11</td>\n      <td>0</td>\n      <td>1</td>\n      <td>Beverages</td>\n      <td>Thai</td>\n    </tr>\n    <tr>\n      <td>2</td>\n      <td>1098228</td>\n      <td>146</td>\n      <td>11</td>\n      <td>22</td>\n      <td>158.17</td>\n      <td>157.17</td>\n      <td>0</td>\n      <td>0</td>\n      <td>Beverages</td>\n      <td>Thai</td>\n    </tr>\n    <tr>\n      <td>3</td>\n      <td>1316160</td>\n      <td>146</td>\n      <td>83</td>\n      <td>22</td>\n      <td>142.59</td>\n      <td>143.59</td>\n      <td>0</td>\n      <td>0</td>\n      <td>Beverages</td>\n      <td>Thai</td>\n    </tr>\n    <tr>\n      <td>4</td>\n      <td>1390579</td>\n      <td>146</td>\n      <td>32</td>\n      <td>22</td>\n      <td>122.28</td>\n      <td>121.28</td>\n      <td>0</td>\n      <td>0</td>\n      <td>Beverages</td>\n      <td>Thai</td>\n    </tr>\n    <tr>\n      <td>...</td>\n      <td>...</td>\n      <td>...</td>\n      <td>...</td>\n      <td>...</td>\n      <td>...</td>\n      <td>...</td>\n      <td>...</td>\n      <td>...</td>\n      <td>...</td>\n      <td>...</td>\n    </tr>\n    <tr>\n      <td>32568</td>\n      <td>1220126</td>\n      <td>155</td>\n      <td>43</td>\n      <td>27</td>\n      <td>678.03</td>\n      <td>680.03</td>\n      <td>0</td>\n      <td>0</td>\n      <td>Fish</td>\n      <td>Continental</td>\n    </tr>\n    <tr>\n      <td>32569</td>\n      <td>1201456</td>\n      <td>155</td>\n      <td>65</td>\n      <td>27</td>\n      <td>678.03</td>\n      <td>680.03</td>\n      <td>0</td>\n      <td>0</td>\n      <td>Fish</td>\n      <td>Continental</td>\n    </tr>\n    <tr>\n      <td>32570</td>\n      <td>1259792</td>\n      <td>155</td>\n      <td>110</td>\n      <td>27</td>\n      <td>679.03</td>\n      <td>679.03</td>\n      <td>0</td>\n      <td>0</td>\n      <td>Fish</td>\n      <td>Continental</td>\n    </tr>\n    <tr>\n      <td>32571</td>\n      <td>1283607</td>\n      <td>155</td>\n      <td>68</td>\n      <td>27</td>\n      <td>679.03</td>\n      <td>680.03</td>\n      <td>0</td>\n      <td>0</td>\n      <td>Fish</td>\n      <td>Continental</td>\n    </tr>\n    <tr>\n      <td>32572</td>\n      <td>1402413</td>\n      <td>155</td>\n      <td>51</td>\n      <td>27</td>\n      <td>680.03</td>\n      <td>678.03</td>\n      <td>0</td>\n      <td>0</td>\n      <td>Fish</td>\n      <td>Continental</td>\n    </tr>\n  </tbody>\n</table>\n<p>32573 rows × 10 columns</p>\n</div>",
      "text/plain": "            id  week  center_id  meal_id  checkout_price  base_price  \\\n0      1028232   146         55       22          158.11      159.11   \n1      1460444   146         24       22          158.11      160.11   \n2      1098228   146         11       22          158.17      157.17   \n3      1316160   146         83       22          142.59      143.59   \n4      1390579   146         32       22          122.28      121.28   \n...        ...   ...        ...      ...             ...         ...   \n32568  1220126   155         43       27          678.03      680.03   \n32569  1201456   155         65       27          678.03      680.03   \n32570  1259792   155        110       27          679.03      679.03   \n32571  1283607   155         68       27          679.03      680.03   \n32572  1402413   155         51       27          680.03      678.03   \n\n       emailer_for_promotion  homepage_featured   category      cuisine  \n0                          0                  0  Beverages         Thai  \n1                          0                  1  Beverages         Thai  \n2                          0                  0  Beverages         Thai  \n3                          0                  0  Beverages         Thai  \n4                          0                  0  Beverages         Thai  \n...                      ...                ...        ...          ...  \n32568                      0                  0       Fish  Continental  \n32569                      0                  0       Fish  Continental  \n32570                      0                  0       Fish  Continental  \n32571                      0                  0       Fish  Continental  \n32572                      0                  0       Fish  Continental  \n\n[32573 rows x 10 columns]"
     },
     "execution_count": 5,
     "metadata": {},
     "output_type": "execute_result"
    }
   ],
   "source": [
    "train_dataset = pd.merge(train_dataset,meal_dataset, on='meal_id')\n",
    "test_dataset = pd.merge(test_dataset,meal_dataset , on=\"meal_id\")\n",
    "test_dataset"
   ]
  },
  {
   "cell_type": "code",
   "execution_count": 6,
   "metadata": {},
   "outputs": [
    {
     "data": {
      "text/html": "<div>\n<style scoped>\n    .dataframe tbody tr th:only-of-type {\n        vertical-align: middle;\n    }\n\n    .dataframe tbody tr th {\n        vertical-align: top;\n    }\n\n    .dataframe thead th {\n        text-align: right;\n    }\n</style>\n<table border=\"1\" class=\"dataframe\">\n  <thead>\n    <tr style=\"text-align: right;\">\n      <th></th>\n      <th>center_id</th>\n      <th>city_code</th>\n      <th>region_code</th>\n      <th>center_type</th>\n      <th>op_area</th>\n    </tr>\n  </thead>\n  <tbody>\n    <tr>\n      <td>0</td>\n      <td>1</td>\n      <td>679</td>\n      <td>56</td>\n      <td>TYPE_A</td>\n      <td>3.7</td>\n    </tr>\n    <tr>\n      <td>1</td>\n      <td>2</td>\n      <td>590</td>\n      <td>56</td>\n      <td>TYPE_B</td>\n      <td>6.7</td>\n    </tr>\n    <tr>\n      <td>2</td>\n      <td>59</td>\n      <td>590</td>\n      <td>56</td>\n      <td>TYPE_C</td>\n      <td>4.0</td>\n    </tr>\n    <tr>\n      <td>3</td>\n      <td>30</td>\n      <td>648</td>\n      <td>34</td>\n      <td>TYPE_A</td>\n      <td>4.1</td>\n    </tr>\n    <tr>\n      <td>4</td>\n      <td>48</td>\n      <td>632</td>\n      <td>34</td>\n      <td>TYPE_C</td>\n      <td>3.6</td>\n    </tr>\n    <tr>\n      <td>...</td>\n      <td>...</td>\n      <td>...</td>\n      <td>...</td>\n      <td>...</td>\n      <td>...</td>\n    </tr>\n    <tr>\n      <td>72</td>\n      <td>22</td>\n      <td>590</td>\n      <td>56</td>\n      <td>TYPE_A</td>\n      <td>3.8</td>\n    </tr>\n    <tr>\n      <td>73</td>\n      <td>11</td>\n      <td>604</td>\n      <td>56</td>\n      <td>TYPE_A</td>\n      <td>3.5</td>\n    </tr>\n    <tr>\n      <td>74</td>\n      <td>37</td>\n      <td>614</td>\n      <td>85</td>\n      <td>TYPE_A</td>\n      <td>3.0</td>\n    </tr>\n    <tr>\n      <td>75</td>\n      <td>32</td>\n      <td>676</td>\n      <td>34</td>\n      <td>TYPE_B</td>\n      <td>4.1</td>\n    </tr>\n    <tr>\n      <td>76</td>\n      <td>20</td>\n      <td>638</td>\n      <td>56</td>\n      <td>TYPE_A</td>\n      <td>7.0</td>\n    </tr>\n  </tbody>\n</table>\n<p>77 rows × 5 columns</p>\n</div>",
      "text/plain": "    center_id  city_code  region_code center_type  op_area\n0           1        679           56      TYPE_A      3.7\n1           2        590           56      TYPE_B      6.7\n2          59        590           56      TYPE_C      4.0\n3          30        648           34      TYPE_A      4.1\n4          48        632           34      TYPE_C      3.6\n..        ...        ...          ...         ...      ...\n72         22        590           56      TYPE_A      3.8\n73         11        604           56      TYPE_A      3.5\n74         37        614           85      TYPE_A      3.0\n75         32        676           34      TYPE_B      4.1\n76         20        638           56      TYPE_A      7.0\n\n[77 rows x 5 columns]"
     },
     "execution_count": 6,
     "metadata": {},
     "output_type": "execute_result"
    }
   ],
   "source": [
    "center_dataset[\"center_id\"] = preprocessing.LabelEncoder().fit_transform(center_dataset[\"center_id\"])\n",
    "center_dataset"
   ]
  },
  {
   "cell_type": "code",
   "execution_count": 7,
   "metadata": {},
   "outputs": [
    {
     "data": {
      "text/html": "<div>\n<style scoped>\n    .dataframe tbody tr th:only-of-type {\n        vertical-align: middle;\n    }\n\n    .dataframe tbody tr th {\n        vertical-align: top;\n    }\n\n    .dataframe thead th {\n        text-align: right;\n    }\n</style>\n<table border=\"1\" class=\"dataframe\">\n  <thead>\n    <tr style=\"text-align: right;\">\n      <th></th>\n      <th>id</th>\n      <th>week</th>\n      <th>center_id</th>\n      <th>meal_id</th>\n      <th>checkout_price</th>\n      <th>base_price</th>\n      <th>emailer_for_promotion</th>\n      <th>homepage_featured</th>\n      <th>category</th>\n      <th>cuisine</th>\n    </tr>\n  </thead>\n  <tbody>\n    <tr>\n      <td>0</td>\n      <td>1028232</td>\n      <td>146</td>\n      <td>55</td>\n      <td>22</td>\n      <td>158.11</td>\n      <td>159.11</td>\n      <td>0</td>\n      <td>0</td>\n      <td>Beverages</td>\n      <td>Thai</td>\n    </tr>\n    <tr>\n      <td>1</td>\n      <td>1460444</td>\n      <td>146</td>\n      <td>24</td>\n      <td>22</td>\n      <td>158.11</td>\n      <td>160.11</td>\n      <td>0</td>\n      <td>1</td>\n      <td>Beverages</td>\n      <td>Thai</td>\n    </tr>\n    <tr>\n      <td>2</td>\n      <td>1098228</td>\n      <td>146</td>\n      <td>11</td>\n      <td>22</td>\n      <td>158.17</td>\n      <td>157.17</td>\n      <td>0</td>\n      <td>0</td>\n      <td>Beverages</td>\n      <td>Thai</td>\n    </tr>\n    <tr>\n      <td>3</td>\n      <td>1316160</td>\n      <td>146</td>\n      <td>83</td>\n      <td>22</td>\n      <td>142.59</td>\n      <td>143.59</td>\n      <td>0</td>\n      <td>0</td>\n      <td>Beverages</td>\n      <td>Thai</td>\n    </tr>\n    <tr>\n      <td>4</td>\n      <td>1390579</td>\n      <td>146</td>\n      <td>32</td>\n      <td>22</td>\n      <td>122.28</td>\n      <td>121.28</td>\n      <td>0</td>\n      <td>0</td>\n      <td>Beverages</td>\n      <td>Thai</td>\n    </tr>\n    <tr>\n      <td>...</td>\n      <td>...</td>\n      <td>...</td>\n      <td>...</td>\n      <td>...</td>\n      <td>...</td>\n      <td>...</td>\n      <td>...</td>\n      <td>...</td>\n      <td>...</td>\n      <td>...</td>\n    </tr>\n    <tr>\n      <td>32568</td>\n      <td>1220126</td>\n      <td>155</td>\n      <td>43</td>\n      <td>27</td>\n      <td>678.03</td>\n      <td>680.03</td>\n      <td>0</td>\n      <td>0</td>\n      <td>Fish</td>\n      <td>Continental</td>\n    </tr>\n    <tr>\n      <td>32569</td>\n      <td>1201456</td>\n      <td>155</td>\n      <td>65</td>\n      <td>27</td>\n      <td>678.03</td>\n      <td>680.03</td>\n      <td>0</td>\n      <td>0</td>\n      <td>Fish</td>\n      <td>Continental</td>\n    </tr>\n    <tr>\n      <td>32570</td>\n      <td>1259792</td>\n      <td>155</td>\n      <td>110</td>\n      <td>27</td>\n      <td>679.03</td>\n      <td>679.03</td>\n      <td>0</td>\n      <td>0</td>\n      <td>Fish</td>\n      <td>Continental</td>\n    </tr>\n    <tr>\n      <td>32571</td>\n      <td>1283607</td>\n      <td>155</td>\n      <td>68</td>\n      <td>27</td>\n      <td>679.03</td>\n      <td>680.03</td>\n      <td>0</td>\n      <td>0</td>\n      <td>Fish</td>\n      <td>Continental</td>\n    </tr>\n    <tr>\n      <td>32572</td>\n      <td>1402413</td>\n      <td>155</td>\n      <td>51</td>\n      <td>27</td>\n      <td>680.03</td>\n      <td>678.03</td>\n      <td>0</td>\n      <td>0</td>\n      <td>Fish</td>\n      <td>Continental</td>\n    </tr>\n  </tbody>\n</table>\n<p>32573 rows × 10 columns</p>\n</div>",
      "text/plain": "            id  week  center_id  meal_id  checkout_price  base_price  \\\n0      1028232   146         55       22          158.11      159.11   \n1      1460444   146         24       22          158.11      160.11   \n2      1098228   146         11       22          158.17      157.17   \n3      1316160   146         83       22          142.59      143.59   \n4      1390579   146         32       22          122.28      121.28   \n...        ...   ...        ...      ...             ...         ...   \n32568  1220126   155         43       27          678.03      680.03   \n32569  1201456   155         65       27          678.03      680.03   \n32570  1259792   155        110       27          679.03      679.03   \n32571  1283607   155         68       27          679.03      680.03   \n32572  1402413   155         51       27          680.03      678.03   \n\n       emailer_for_promotion  homepage_featured   category      cuisine  \n0                          0                  0  Beverages         Thai  \n1                          0                  1  Beverages         Thai  \n2                          0                  0  Beverages         Thai  \n3                          0                  0  Beverages         Thai  \n4                          0                  0  Beverages         Thai  \n...                      ...                ...        ...          ...  \n32568                      0                  0       Fish  Continental  \n32569                      0                  0       Fish  Continental  \n32570                      0                  0       Fish  Continental  \n32571                      0                  0       Fish  Continental  \n32572                      0                  0       Fish  Continental  \n\n[32573 rows x 10 columns]"
     },
     "execution_count": 7,
     "metadata": {},
     "output_type": "execute_result"
    }
   ],
   "source": [
    "train_dataset[\"center_id\"] = preprocessing.LabelEncoder().fit_transform(train_dataset[\"center_id\"])\n",
    "test_dataset[\"center_id\"] - preprocessing.LabelEncoder().fit_transform(test_dataset[\"center_id\"])\n",
    "test_dataset"
   ]
  },
  {
   "cell_type": "code",
   "execution_count": 8,
   "metadata": {},
   "outputs": [
    {
     "data": {
      "text/html": "<div>\n<style scoped>\n    .dataframe tbody tr th:only-of-type {\n        vertical-align: middle;\n    }\n\n    .dataframe tbody tr th {\n        vertical-align: top;\n    }\n\n    .dataframe thead th {\n        text-align: right;\n    }\n</style>\n<table border=\"1\" class=\"dataframe\">\n  <thead>\n    <tr style=\"text-align: right;\">\n      <th></th>\n      <th>id</th>\n      <th>week</th>\n      <th>center_id</th>\n      <th>meal_id</th>\n      <th>checkout_price</th>\n      <th>base_price</th>\n      <th>emailer_for_promotion</th>\n      <th>homepage_featured</th>\n      <th>category</th>\n      <th>cuisine</th>\n      <th>city_code</th>\n      <th>region_code</th>\n      <th>center_type</th>\n      <th>op_area</th>\n    </tr>\n  </thead>\n  <tbody>\n    <tr>\n      <td>0</td>\n      <td>1028232</td>\n      <td>146</td>\n      <td>55</td>\n      <td>22</td>\n      <td>158.11</td>\n      <td>159.11</td>\n      <td>0</td>\n      <td>0</td>\n      <td>Beverages</td>\n      <td>Thai</td>\n      <td>579</td>\n      <td>56</td>\n      <td>TYPE_B</td>\n      <td>4.4</td>\n    </tr>\n    <tr>\n      <td>1</td>\n      <td>1262649</td>\n      <td>147</td>\n      <td>55</td>\n      <td>22</td>\n      <td>159.11</td>\n      <td>159.11</td>\n      <td>0</td>\n      <td>0</td>\n      <td>Beverages</td>\n      <td>Thai</td>\n      <td>579</td>\n      <td>56</td>\n      <td>TYPE_B</td>\n      <td>4.4</td>\n    </tr>\n    <tr>\n      <td>2</td>\n      <td>1453211</td>\n      <td>149</td>\n      <td>55</td>\n      <td>22</td>\n      <td>157.14</td>\n      <td>158.14</td>\n      <td>0</td>\n      <td>0</td>\n      <td>Beverages</td>\n      <td>Thai</td>\n      <td>579</td>\n      <td>56</td>\n      <td>TYPE_B</td>\n      <td>4.4</td>\n    </tr>\n    <tr>\n      <td>3</td>\n      <td>1262599</td>\n      <td>150</td>\n      <td>55</td>\n      <td>22</td>\n      <td>159.14</td>\n      <td>157.14</td>\n      <td>0</td>\n      <td>0</td>\n      <td>Beverages</td>\n      <td>Thai</td>\n      <td>579</td>\n      <td>56</td>\n      <td>TYPE_B</td>\n      <td>4.4</td>\n    </tr>\n    <tr>\n      <td>4</td>\n      <td>1495848</td>\n      <td>151</td>\n      <td>55</td>\n      <td>22</td>\n      <td>160.11</td>\n      <td>159.11</td>\n      <td>0</td>\n      <td>0</td>\n      <td>Beverages</td>\n      <td>Thai</td>\n      <td>579</td>\n      <td>56</td>\n      <td>TYPE_B</td>\n      <td>4.4</td>\n    </tr>\n    <tr>\n      <td>...</td>\n      <td>...</td>\n      <td>...</td>\n      <td>...</td>\n      <td>...</td>\n      <td>...</td>\n      <td>...</td>\n      <td>...</td>\n      <td>...</td>\n      <td>...</td>\n      <td>...</td>\n      <td>...</td>\n      <td>...</td>\n      <td>...</td>\n      <td>...</td>\n    </tr>\n    <tr>\n      <td>16457</td>\n      <td>1412025</td>\n      <td>146</td>\n      <td>61</td>\n      <td>27</td>\n      <td>583.03</td>\n      <td>581.03</td>\n      <td>0</td>\n      <td>0</td>\n      <td>Fish</td>\n      <td>Continental</td>\n      <td>593</td>\n      <td>77</td>\n      <td>TYPE_A</td>\n      <td>3.9</td>\n    </tr>\n    <tr>\n      <td>16458</td>\n      <td>1287019</td>\n      <td>147</td>\n      <td>61</td>\n      <td>27</td>\n      <td>582.03</td>\n      <td>582.03</td>\n      <td>0</td>\n      <td>1</td>\n      <td>Fish</td>\n      <td>Continental</td>\n      <td>593</td>\n      <td>77</td>\n      <td>TYPE_A</td>\n      <td>3.9</td>\n    </tr>\n    <tr>\n      <td>16459</td>\n      <td>1396176</td>\n      <td>149</td>\n      <td>61</td>\n      <td>27</td>\n      <td>629.53</td>\n      <td>629.53</td>\n      <td>0</td>\n      <td>0</td>\n      <td>Fish</td>\n      <td>Continental</td>\n      <td>593</td>\n      <td>77</td>\n      <td>TYPE_A</td>\n      <td>3.9</td>\n    </tr>\n    <tr>\n      <td>16460</td>\n      <td>1331977</td>\n      <td>150</td>\n      <td>61</td>\n      <td>27</td>\n      <td>629.53</td>\n      <td>629.53</td>\n      <td>0</td>\n      <td>0</td>\n      <td>Fish</td>\n      <td>Continental</td>\n      <td>593</td>\n      <td>77</td>\n      <td>TYPE_A</td>\n      <td>3.9</td>\n    </tr>\n    <tr>\n      <td>16461</td>\n      <td>1017414</td>\n      <td>152</td>\n      <td>61</td>\n      <td>27</td>\n      <td>630.53</td>\n      <td>631.53</td>\n      <td>0</td>\n      <td>0</td>\n      <td>Fish</td>\n      <td>Continental</td>\n      <td>593</td>\n      <td>77</td>\n      <td>TYPE_A</td>\n      <td>3.9</td>\n    </tr>\n  </tbody>\n</table>\n<p>16462 rows × 14 columns</p>\n</div>",
      "text/plain": "            id  week  center_id  meal_id  checkout_price  base_price  \\\n0      1028232   146         55       22          158.11      159.11   \n1      1262649   147         55       22          159.11      159.11   \n2      1453211   149         55       22          157.14      158.14   \n3      1262599   150         55       22          159.14      157.14   \n4      1495848   151         55       22          160.11      159.11   \n...        ...   ...        ...      ...             ...         ...   \n16457  1412025   146         61       27          583.03      581.03   \n16458  1287019   147         61       27          582.03      582.03   \n16459  1396176   149         61       27          629.53      629.53   \n16460  1331977   150         61       27          629.53      629.53   \n16461  1017414   152         61       27          630.53      631.53   \n\n       emailer_for_promotion  homepage_featured   category      cuisine  \\\n0                          0                  0  Beverages         Thai   \n1                          0                  0  Beverages         Thai   \n2                          0                  0  Beverages         Thai   \n3                          0                  0  Beverages         Thai   \n4                          0                  0  Beverages         Thai   \n...                      ...                ...        ...          ...   \n16457                      0                  0       Fish  Continental   \n16458                      0                  1       Fish  Continental   \n16459                      0                  0       Fish  Continental   \n16460                      0                  0       Fish  Continental   \n16461                      0                  0       Fish  Continental   \n\n       city_code  region_code center_type  op_area  \n0            579           56      TYPE_B      4.4  \n1            579           56      TYPE_B      4.4  \n2            579           56      TYPE_B      4.4  \n3            579           56      TYPE_B      4.4  \n4            579           56      TYPE_B      4.4  \n...          ...          ...         ...      ...  \n16457        593           77      TYPE_A      3.9  \n16458        593           77      TYPE_A      3.9  \n16459        593           77      TYPE_A      3.9  \n16460        593           77      TYPE_A      3.9  \n16461        593           77      TYPE_A      3.9  \n\n[16462 rows x 14 columns]"
     },
     "execution_count": 8,
     "metadata": {},
     "output_type": "execute_result"
    }
   ],
   "source": [
    "train_dataset = pd.merge(train_dataset,center_dataset, on='center_id')\n",
    "test_dataset  = pd.merge(test_dataset ,center_dataset,on=\"center_id\")\n",
    "test_dataset"
   ]
  },
  {
   "cell_type": "code",
   "execution_count": 9,
   "metadata": {},
   "outputs": [
    {
     "data": {
      "text/html": "<div>\n<style scoped>\n    .dataframe tbody tr th:only-of-type {\n        vertical-align: middle;\n    }\n\n    .dataframe tbody tr th {\n        vertical-align: top;\n    }\n\n    .dataframe thead th {\n        text-align: right;\n    }\n</style>\n<table border=\"1\" class=\"dataframe\">\n  <thead>\n    <tr style=\"text-align: right;\">\n      <th></th>\n      <th>id</th>\n      <th>week</th>\n      <th>center_id</th>\n      <th>meal_id</th>\n      <th>checkout_price</th>\n      <th>base_price</th>\n      <th>emailer_for_promotion</th>\n      <th>homepage_featured</th>\n      <th>category</th>\n      <th>cuisine</th>\n      <th>city_code</th>\n      <th>region_code</th>\n      <th>center_type</th>\n      <th>op_area</th>\n    </tr>\n  </thead>\n  <tbody>\n    <tr>\n      <td>0</td>\n      <td>1028232</td>\n      <td>146</td>\n      <td>55</td>\n      <td>22</td>\n      <td>158.11</td>\n      <td>159.11</td>\n      <td>0</td>\n      <td>0</td>\n      <td>Beverages</td>\n      <td>Thai</td>\n      <td>579</td>\n      <td>56</td>\n      <td>1</td>\n      <td>4.4</td>\n    </tr>\n    <tr>\n      <td>1</td>\n      <td>1262649</td>\n      <td>147</td>\n      <td>55</td>\n      <td>22</td>\n      <td>159.11</td>\n      <td>159.11</td>\n      <td>0</td>\n      <td>0</td>\n      <td>Beverages</td>\n      <td>Thai</td>\n      <td>579</td>\n      <td>56</td>\n      <td>1</td>\n      <td>4.4</td>\n    </tr>\n    <tr>\n      <td>2</td>\n      <td>1453211</td>\n      <td>149</td>\n      <td>55</td>\n      <td>22</td>\n      <td>157.14</td>\n      <td>158.14</td>\n      <td>0</td>\n      <td>0</td>\n      <td>Beverages</td>\n      <td>Thai</td>\n      <td>579</td>\n      <td>56</td>\n      <td>1</td>\n      <td>4.4</td>\n    </tr>\n    <tr>\n      <td>3</td>\n      <td>1262599</td>\n      <td>150</td>\n      <td>55</td>\n      <td>22</td>\n      <td>159.14</td>\n      <td>157.14</td>\n      <td>0</td>\n      <td>0</td>\n      <td>Beverages</td>\n      <td>Thai</td>\n      <td>579</td>\n      <td>56</td>\n      <td>1</td>\n      <td>4.4</td>\n    </tr>\n    <tr>\n      <td>4</td>\n      <td>1495848</td>\n      <td>151</td>\n      <td>55</td>\n      <td>22</td>\n      <td>160.11</td>\n      <td>159.11</td>\n      <td>0</td>\n      <td>0</td>\n      <td>Beverages</td>\n      <td>Thai</td>\n      <td>579</td>\n      <td>56</td>\n      <td>1</td>\n      <td>4.4</td>\n    </tr>\n    <tr>\n      <td>...</td>\n      <td>...</td>\n      <td>...</td>\n      <td>...</td>\n      <td>...</td>\n      <td>...</td>\n      <td>...</td>\n      <td>...</td>\n      <td>...</td>\n      <td>...</td>\n      <td>...</td>\n      <td>...</td>\n      <td>...</td>\n      <td>...</td>\n      <td>...</td>\n    </tr>\n    <tr>\n      <td>16457</td>\n      <td>1412025</td>\n      <td>146</td>\n      <td>61</td>\n      <td>27</td>\n      <td>583.03</td>\n      <td>581.03</td>\n      <td>0</td>\n      <td>0</td>\n      <td>Fish</td>\n      <td>Continental</td>\n      <td>593</td>\n      <td>77</td>\n      <td>0</td>\n      <td>3.9</td>\n    </tr>\n    <tr>\n      <td>16458</td>\n      <td>1287019</td>\n      <td>147</td>\n      <td>61</td>\n      <td>27</td>\n      <td>582.03</td>\n      <td>582.03</td>\n      <td>0</td>\n      <td>1</td>\n      <td>Fish</td>\n      <td>Continental</td>\n      <td>593</td>\n      <td>77</td>\n      <td>0</td>\n      <td>3.9</td>\n    </tr>\n    <tr>\n      <td>16459</td>\n      <td>1396176</td>\n      <td>149</td>\n      <td>61</td>\n      <td>27</td>\n      <td>629.53</td>\n      <td>629.53</td>\n      <td>0</td>\n      <td>0</td>\n      <td>Fish</td>\n      <td>Continental</td>\n      <td>593</td>\n      <td>77</td>\n      <td>0</td>\n      <td>3.9</td>\n    </tr>\n    <tr>\n      <td>16460</td>\n      <td>1331977</td>\n      <td>150</td>\n      <td>61</td>\n      <td>27</td>\n      <td>629.53</td>\n      <td>629.53</td>\n      <td>0</td>\n      <td>0</td>\n      <td>Fish</td>\n      <td>Continental</td>\n      <td>593</td>\n      <td>77</td>\n      <td>0</td>\n      <td>3.9</td>\n    </tr>\n    <tr>\n      <td>16461</td>\n      <td>1017414</td>\n      <td>152</td>\n      <td>61</td>\n      <td>27</td>\n      <td>630.53</td>\n      <td>631.53</td>\n      <td>0</td>\n      <td>0</td>\n      <td>Fish</td>\n      <td>Continental</td>\n      <td>593</td>\n      <td>77</td>\n      <td>0</td>\n      <td>3.9</td>\n    </tr>\n  </tbody>\n</table>\n<p>16462 rows × 14 columns</p>\n</div>",
      "text/plain": "            id  week  center_id  meal_id  checkout_price  base_price  \\\n0      1028232   146         55       22          158.11      159.11   \n1      1262649   147         55       22          159.11      159.11   \n2      1453211   149         55       22          157.14      158.14   \n3      1262599   150         55       22          159.14      157.14   \n4      1495848   151         55       22          160.11      159.11   \n...        ...   ...        ...      ...             ...         ...   \n16457  1412025   146         61       27          583.03      581.03   \n16458  1287019   147         61       27          582.03      582.03   \n16459  1396176   149         61       27          629.53      629.53   \n16460  1331977   150         61       27          629.53      629.53   \n16461  1017414   152         61       27          630.53      631.53   \n\n       emailer_for_promotion  homepage_featured   category      cuisine  \\\n0                          0                  0  Beverages         Thai   \n1                          0                  0  Beverages         Thai   \n2                          0                  0  Beverages         Thai   \n3                          0                  0  Beverages         Thai   \n4                          0                  0  Beverages         Thai   \n...                      ...                ...        ...          ...   \n16457                      0                  0       Fish  Continental   \n16458                      0                  1       Fish  Continental   \n16459                      0                  0       Fish  Continental   \n16460                      0                  0       Fish  Continental   \n16461                      0                  0       Fish  Continental   \n\n       city_code  region_code  center_type  op_area  \n0            579           56            1      4.4  \n1            579           56            1      4.4  \n2            579           56            1      4.4  \n3            579           56            1      4.4  \n4            579           56            1      4.4  \n...          ...          ...          ...      ...  \n16457        593           77            0      3.9  \n16458        593           77            0      3.9  \n16459        593           77            0      3.9  \n16460        593           77            0      3.9  \n16461        593           77            0      3.9  \n\n[16462 rows x 14 columns]"
     },
     "execution_count": 9,
     "metadata": {},
     "output_type": "execute_result"
    }
   ],
   "source": [
    "train_dataset[\"center_type\"] = preprocessing.LabelEncoder().fit_transform(train_dataset[\"center_type\"])\n",
    "test_dataset[\"center_type\"] = preprocessing.LabelEncoder().fit_transform(test_dataset[\"center_type\"])\n",
    "test_dataset"
   ]
  },
  {
   "cell_type": "code",
   "execution_count": 10,
   "metadata": {},
   "outputs": [
    {
     "data": {
      "text/html": "<div>\n<style scoped>\n    .dataframe tbody tr th:only-of-type {\n        vertical-align: middle;\n    }\n\n    .dataframe tbody tr th {\n        vertical-align: top;\n    }\n\n    .dataframe thead th {\n        text-align: right;\n    }\n</style>\n<table border=\"1\" class=\"dataframe\">\n  <thead>\n    <tr style=\"text-align: right;\">\n      <th></th>\n      <th>id</th>\n      <th>week</th>\n      <th>city_code</th>\n      <th>region_code</th>\n      <th>center_type</th>\n      <th>op_area</th>\n      <th>category</th>\n      <th>cuisine</th>\n      <th>checkout_price</th>\n      <th>base_price</th>\n      <th>emailer_for_promotion</th>\n      <th>homepage_featured</th>\n      <th>num_orders</th>\n    </tr>\n  </thead>\n  <tbody>\n    <tr>\n      <td>0</td>\n      <td>1379560</td>\n      <td>1</td>\n      <td>647</td>\n      <td>56</td>\n      <td>2</td>\n      <td>2.0</td>\n      <td>Beverages</td>\n      <td>Thai</td>\n      <td>136.83</td>\n      <td>152.29</td>\n      <td>0</td>\n      <td>0</td>\n      <td>177</td>\n    </tr>\n    <tr>\n      <td>1</td>\n      <td>1018704</td>\n      <td>2</td>\n      <td>647</td>\n      <td>56</td>\n      <td>2</td>\n      <td>2.0</td>\n      <td>Beverages</td>\n      <td>Thai</td>\n      <td>135.83</td>\n      <td>152.29</td>\n      <td>0</td>\n      <td>0</td>\n      <td>323</td>\n    </tr>\n    <tr>\n      <td>2</td>\n      <td>1196273</td>\n      <td>3</td>\n      <td>647</td>\n      <td>56</td>\n      <td>2</td>\n      <td>2.0</td>\n      <td>Beverages</td>\n      <td>Thai</td>\n      <td>132.92</td>\n      <td>133.92</td>\n      <td>0</td>\n      <td>0</td>\n      <td>96</td>\n    </tr>\n    <tr>\n      <td>3</td>\n      <td>1116527</td>\n      <td>4</td>\n      <td>647</td>\n      <td>56</td>\n      <td>2</td>\n      <td>2.0</td>\n      <td>Beverages</td>\n      <td>Thai</td>\n      <td>135.86</td>\n      <td>134.86</td>\n      <td>0</td>\n      <td>0</td>\n      <td>163</td>\n    </tr>\n    <tr>\n      <td>4</td>\n      <td>1343872</td>\n      <td>5</td>\n      <td>647</td>\n      <td>56</td>\n      <td>2</td>\n      <td>2.0</td>\n      <td>Beverages</td>\n      <td>Thai</td>\n      <td>146.50</td>\n      <td>147.50</td>\n      <td>0</td>\n      <td>0</td>\n      <td>215</td>\n    </tr>\n  </tbody>\n</table>\n</div>",
      "text/plain": "        id  week  city_code  region_code  center_type  op_area   category  \\\n0  1379560     1        647           56            2      2.0  Beverages   \n1  1018704     2        647           56            2      2.0  Beverages   \n2  1196273     3        647           56            2      2.0  Beverages   \n3  1116527     4        647           56            2      2.0  Beverages   \n4  1343872     5        647           56            2      2.0  Beverages   \n\n  cuisine  checkout_price  base_price  emailer_for_promotion  \\\n0    Thai          136.83      152.29                      0   \n1    Thai          135.83      152.29                      0   \n2    Thai          132.92      133.92                      0   \n3    Thai          135.86      134.86                      0   \n4    Thai          146.50      147.50                      0   \n\n   homepage_featured  num_orders  \n0                  0         177  \n1                  0         323  \n2                  0          96  \n3                  0         163  \n4                  0         215  "
     },
     "execution_count": 10,
     "metadata": {},
     "output_type": "execute_result"
    }
   ],
   "source": [
    "train_dataset = pd.DataFrame(\n",
    "    train_dataset[\n",
    "        [\n",
    "            \"id\",\n",
    "            \"week\",\n",
    "            \"city_code\",\n",
    "            \"region_code\",\n",
    "            \"center_type\",\n",
    "            \"op_area\",\n",
    "            \"category\",\n",
    "            \"cuisine\",\n",
    "            \"checkout_price\",\n",
    "            \"base_price\",\n",
    "            \"emailer_for_promotion\",\n",
    "            \"homepage_featured\",\n",
    "            \"num_orders\"\n",
    "        ]\n",
    "    ]\n",
    ")\n",
    "\n",
    "train_dataset.head()\n"
   ]
  },
  {
   "cell_type": "code",
   "execution_count": 11,
   "metadata": {},
   "outputs": [
    {
     "data": {
      "text/html": "<div>\n<style scoped>\n    .dataframe tbody tr th:only-of-type {\n        vertical-align: middle;\n    }\n\n    .dataframe tbody tr th {\n        vertical-align: top;\n    }\n\n    .dataframe thead th {\n        text-align: right;\n    }\n</style>\n<table border=\"1\" class=\"dataframe\">\n  <thead>\n    <tr style=\"text-align: right;\">\n      <th></th>\n      <th>id</th>\n      <th>week</th>\n      <th>city_code</th>\n      <th>region_code</th>\n      <th>center_type</th>\n      <th>op_area</th>\n      <th>category</th>\n      <th>cuisine</th>\n      <th>checkout_price</th>\n      <th>base_price</th>\n      <th>emailer_for_promotion</th>\n      <th>homepage_featured</th>\n    </tr>\n  </thead>\n  <tbody>\n    <tr>\n      <td>0</td>\n      <td>1028232</td>\n      <td>146</td>\n      <td>579</td>\n      <td>56</td>\n      <td>1</td>\n      <td>4.4</td>\n      <td>Beverages</td>\n      <td>Thai</td>\n      <td>158.11</td>\n      <td>159.11</td>\n      <td>0</td>\n      <td>0</td>\n    </tr>\n    <tr>\n      <td>1</td>\n      <td>1262649</td>\n      <td>147</td>\n      <td>579</td>\n      <td>56</td>\n      <td>1</td>\n      <td>4.4</td>\n      <td>Beverages</td>\n      <td>Thai</td>\n      <td>159.11</td>\n      <td>159.11</td>\n      <td>0</td>\n      <td>0</td>\n    </tr>\n    <tr>\n      <td>2</td>\n      <td>1453211</td>\n      <td>149</td>\n      <td>579</td>\n      <td>56</td>\n      <td>1</td>\n      <td>4.4</td>\n      <td>Beverages</td>\n      <td>Thai</td>\n      <td>157.14</td>\n      <td>158.14</td>\n      <td>0</td>\n      <td>0</td>\n    </tr>\n    <tr>\n      <td>3</td>\n      <td>1262599</td>\n      <td>150</td>\n      <td>579</td>\n      <td>56</td>\n      <td>1</td>\n      <td>4.4</td>\n      <td>Beverages</td>\n      <td>Thai</td>\n      <td>159.14</td>\n      <td>157.14</td>\n      <td>0</td>\n      <td>0</td>\n    </tr>\n    <tr>\n      <td>4</td>\n      <td>1495848</td>\n      <td>151</td>\n      <td>579</td>\n      <td>56</td>\n      <td>1</td>\n      <td>4.4</td>\n      <td>Beverages</td>\n      <td>Thai</td>\n      <td>160.11</td>\n      <td>159.11</td>\n      <td>0</td>\n      <td>0</td>\n    </tr>\n  </tbody>\n</table>\n</div>",
      "text/plain": "        id  week  city_code  region_code  center_type  op_area   category  \\\n0  1028232   146        579           56            1      4.4  Beverages   \n1  1262649   147        579           56            1      4.4  Beverages   \n2  1453211   149        579           56            1      4.4  Beverages   \n3  1262599   150        579           56            1      4.4  Beverages   \n4  1495848   151        579           56            1      4.4  Beverages   \n\n  cuisine  checkout_price  base_price  emailer_for_promotion  \\\n0    Thai          158.11      159.11                      0   \n1    Thai          159.11      159.11                      0   \n2    Thai          157.14      158.14                      0   \n3    Thai          159.14      157.14                      0   \n4    Thai          160.11      159.11                      0   \n\n   homepage_featured  \n0                  0  \n1                  0  \n2                  0  \n3                  0  \n4                  0  "
     },
     "execution_count": 11,
     "metadata": {},
     "output_type": "execute_result"
    }
   ],
   "source": [
    "test_dataset = pd.DataFrame(\n",
    "    test_dataset[\n",
    "        [\n",
    "            \"id\",\n",
    "            \"week\",\n",
    "            \"city_code\",\n",
    "            \"region_code\",\n",
    "            \"center_type\",\n",
    "            \"op_area\",\n",
    "            \"category\",\n",
    "            \"cuisine\",\n",
    "            \"checkout_price\",\n",
    "            \"base_price\",\n",
    "            \"emailer_for_promotion\",\n",
    "            \"homepage_featured\",\n",
    "        ]\n",
    "    ]\n",
    ")\n",
    "\n",
    "test_dataset.head()"
   ]
  },
  {
   "cell_type": "code",
   "execution_count": 12,
   "metadata": {},
   "outputs": [],
   "source": [
    "with open(\"Datasets/Clean/cleaned_dataset_train.csv\" , \"w\") as file :\n",
    "    train_dataset.to_csv(file,index=False)  "
   ]
  },
  {
   "cell_type": "code",
   "execution_count": 13,
   "metadata": {},
   "outputs": [],
   "source": [
    "with open(\"Datasets/Clean/cleaned_dataset_test.csv\",\"w\") as file:\n",
    "    test_dataset.to_csv(file,index=False)"
   ]
  },
  {
   "cell_type": "code",
   "execution_count": null,
   "metadata": {},
   "outputs": [],
   "source": []
  }
 ]
}